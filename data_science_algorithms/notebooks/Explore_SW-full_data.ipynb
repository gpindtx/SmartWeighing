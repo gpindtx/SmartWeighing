{
 "cells": [
  {
   "cell_type": "code",
   "execution_count": 1,
   "metadata": {},
   "outputs": [],
   "source": [
    "import pandas as pd\n",
    "import numpy as np"
   ]
  },
  {
   "cell_type": "markdown",
   "metadata": {},
   "source": [
    "    df.data= pd.to_datetime(df.data, format='%Y%m%d%H%M%S')\n",
    "    df['day'] = df['data'].dt.day\n",
    "    df['Hour'] = df['data'].dt.hour\n",
    "    df['Minute'] = df['data'].dt.minute\n",
    "    df['Year'] = df['data'].dt.year\n",
    "    df['Month'] = df['data'].dt.month\n",
    "    \n",
    "    Year=df.Year.unique()[0]\n",
    "    Month=df.Month.unique()[0]\n",
    "    Day=df.day.unique()[0]"
   ]
  },
  {
   "cell_type": "markdown",
   "metadata": {},
   "source": [
    "## Todos dados"
   ]
  },
  {
   "cell_type": "markdown",
   "metadata": {},
   "source": [
    "dados=pd.DataFrame()\n",
    "for i in range(1,21):\n",
    "    teste=pd.read_json('weighings_partition'+str(i)+'.json')#+str(i)\n",
    "    dados=dados.append(teste, ignore_index=True)"
   ]
  },
  {
   "cell_type": "markdown",
   "metadata": {},
   "source": [
    "dados.to_csv('all_weighings_full.csv')"
   ]
  },
  {
   "cell_type": "code",
   "execution_count": 2,
   "metadata": {},
   "outputs": [
    {
     "name": "stderr",
     "output_type": "stream",
     "text": [
      "/usr/local/lib/python3.6/dist-packages/IPython/core/interactiveshell.py:3058: DtypeWarning: Columns (3,8,11,14,17,20,23,26) have mixed types. Specify dtype option on import or set low_memory=False.\n",
      "  interactivity=interactivity, compiler=compiler, result=result)\n"
     ]
    }
   ],
   "source": [
    "dados=pd.read_csv('all_weighings_full.csv').drop(['Unnamed: 0','cellId_0','cellId_1','cellId_2','cellId_3','cellId_4','cellId_5','cellId_6','cellId_7'], axis=1)"
   ]
  },
  {
   "cell_type": "code",
   "execution_count": null,
   "metadata": {},
   "outputs": [],
   "source": [
    "dados.head()"
   ]
  },
  {
   "cell_type": "code",
   "execution_count": 3,
   "metadata": {},
   "outputs": [],
   "source": [
    "dados['cellSerialNumber_0']=dados['cellSerialNumber_0'].fillna(0)\n",
    "dados['cellSerialNumber_1']=dados['cellSerialNumber_1'].fillna(0)\n",
    "dados['cellSerialNumber_2']=dados['cellSerialNumber_2'].fillna(0)\n",
    "dados['cellSerialNumber_3']=dados['cellSerialNumber_3'].fillna(0)\n",
    "dados['cellSerialNumber_4']=dados['cellSerialNumber_4'].fillna(0)\n",
    "dados['cellSerialNumber_5']=dados['cellSerialNumber_5'].fillna(0)\n",
    "dados['cellSerialNumber_6']=dados['cellSerialNumber_6'].fillna(0)\n",
    "dados['cellSerialNumber_7']=dados['cellSerialNumber_7'].fillna(0)"
   ]
  },
  {
   "cell_type": "code",
   "execution_count": 4,
   "metadata": {},
   "outputs": [],
   "source": [
    "clean0=dados['cellSerialNumber_0'].tolist()\n",
    "clean1=dados['cellSerialNumber_1'].tolist()\n",
    "clean2=dados['cellSerialNumber_2'].tolist()\n",
    "clean3=dados['cellSerialNumber_3'].tolist()\n",
    "clean4=dados['cellSerialNumber_4'].tolist()\n",
    "clean5=dados['cellSerialNumber_5'].tolist()\n",
    "clean6=dados['cellSerialNumber_6'].tolist()\n",
    "clean7=dados['cellSerialNumber_7'].tolist()"
   ]
  },
  {
   "cell_type": "code",
   "execution_count": null,
   "metadata": {},
   "outputs": [],
   "source": [
    "(clean3)"
   ]
  },
  {
   "cell_type": "code",
   "execution_count": null,
   "metadata": {},
   "outputs": [],
   "source": [
    "convert_first_to_generator = (str(w) for w in clean3)"
   ]
  },
  {
   "cell_type": "code",
   "execution_count": null,
   "metadata": {},
   "outputs": [],
   "source": [
    "convert_first_to_generator"
   ]
  },
  {
   "cell_type": "code",
   "execution_count": null,
   "metadata": {},
   "outputs": [],
   "source": [
    "int_arr = list(range(10))\n",
    "convert_first_to_generator = (str(w) for w in int_arr)\n",
    "print(''.join(convert_first_to_generator))"
   ]
  },
  {
   "cell_type": "code",
   "execution_count": null,
   "metadata": {},
   "outputs": [],
   "source": [
    "(int_arr)"
   ]
  },
  {
   "cell_type": "code",
   "execution_count": null,
   "metadata": {},
   "outputs": [],
   "source": [
    "clean4=[str(i) for i in clean4]"
   ]
  },
  {
   "cell_type": "code",
   "execution_count": null,
   "metadata": {},
   "outputs": [],
   "source": [
    "teste"
   ]
  },
  {
   "cell_type": "code",
   "execution_count": null,
   "metadata": {},
   "outputs": [],
   "source": [
    "for i in range(0, len(clean0)):    \n",
    "    if clean4[i][0] == '0' and len(clean4[i])>1:\n",
    "        clean4[i]=clean4[i][1:]"
   ]
  },
  {
   "cell_type": "code",
   "execution_count": null,
   "metadata": {},
   "outputs": [],
   "source": [
    "clean4[3][0] == '0' and len(clean4[3])>1"
   ]
  },
  {
   "cell_type": "code",
   "execution_count": null,
   "metadata": {},
   "outputs": [],
   "source": [
    "clean4"
   ]
  },
  {
   "cell_type": "code",
   "execution_count": null,
   "metadata": {},
   "outputs": [],
   "source": [
    "str(int(clean7[0]))"
   ]
  },
  {
   "cell_type": "code",
   "execution_count": 5,
   "metadata": {},
   "outputs": [],
   "source": [
    "for i in range(0, len(clean0)):\n",
    "    if type(clean0[i]) == float:\n",
    "        clean0[i]=str(int(clean0[i]))\n",
    "    if type(clean1[i]) == float:\n",
    "        clean1[i]=str(int(clean1[i]))\n",
    "    if type(clean2[i]) == float:\n",
    "        clean2[i]=str(int(clean2[i]))\n",
    "    if type(clean3[i]) == float:\n",
    "        clean3[i]=str(int(clean3[i]))\n",
    "    if type(clean4[i]) == float:\n",
    "        clean4[i]=str(int(clean4[i]))\n",
    "    if type(clean5[i]) == float:\n",
    "        clean5[i]=str(int(clean5[i]))\n",
    "    if type(clean6[i]) == float:\n",
    "        clean6[i]=str(int(clean6[i]))\n",
    "    if type(clean7[i]) == float:\n",
    "        clean7[i]=str(int(clean7[i]))"
   ]
  },
  {
   "cell_type": "code",
   "execution_count": 6,
   "metadata": {},
   "outputs": [],
   "source": [
    "clean0=[str(i) for i in clean0]\n",
    "clean1=[str(i) for i in clean1]\n",
    "clean2=[str(i) for i in clean2]\n",
    "clean3=[str(i) for i in clean3]\n",
    "clean4=[str(i) for i in clean4]\n",
    "clean5=[str(i) for i in clean5]\n",
    "clean6=[str(i) for i in clean6]\n",
    "clean7=[str(i) for i in clean7]"
   ]
  },
  {
   "cell_type": "code",
   "execution_count": 7,
   "metadata": {},
   "outputs": [],
   "source": [
    "for i in range(0, len(clean0)):\n",
    "    if clean0[i][0] == '0' and len(clean0[i])>1:\n",
    "        clean0[i]=clean0[i][1:]\n",
    "    if clean1[i][0] == '0'and len(clean1[i])>1:\n",
    "        clean1[i]=clean1[i][1:]\n",
    "    if clean2[i][0] == '0' and len(clean2[i])>1:\n",
    "        clean2[i]=clean2[i][1:]\n",
    "    if clean3[i][0] == '0'and len(clean3[i])>1:\n",
    "        clean3[i]=clean3[i][1:]\n",
    "    if clean4[i][0] == '0'and len(clean4[i])>1:\n",
    "        clean4[i]=clean4[i][1:]\n",
    "    if clean5[i][0] == '0'and len(clean5[i])>1:\n",
    "        clean5[i]=clean5[i][1:]\n",
    "    if clean6[i][0] == '0'and len(clean6[i])>1:\n",
    "        clean6[i]=clean6[i][1:]\n",
    "    if clean7[i][0] == '0'and len(clean7[i])>1:\n",
    "        clean7[i]=clean7[i][1:]"
   ]
  },
  {
   "cell_type": "code",
   "execution_count": 8,
   "metadata": {},
   "outputs": [],
   "source": [
    "dados['cellSerialNumber_0']=clean0\n",
    "dados['cellSerialNumber_1']=clean1\n",
    "dados['cellSerialNumber_2']=clean2\n",
    "dados['cellSerialNumber_3']=clean3\n",
    "dados['cellSerialNumber_4']=clean4\n",
    "dados['cellSerialNumber_5']=clean5\n",
    "dados['cellSerialNumber_6']=clean6\n",
    "dados['cellSerialNumber_7']=clean7"
   ]
  },
  {
   "cell_type": "code",
   "execution_count": null,
   "metadata": {},
   "outputs": [],
   "source": [
    "dados.head()"
   ]
  },
  {
   "cell_type": "code",
   "execution_count": null,
   "metadata": {},
   "outputs": [],
   "source": [
    "dados['cellSerialNumber_7'].unique()"
   ]
  },
  {
   "cell_type": "markdown",
   "metadata": {},
   "source": [
    "for i in range(0, dados.shape[0]+1):\n",
    "    if type(dados['cellSerialNumber_0'][i]) == float:\n",
    "        dados['cellSerialNumber_0'][i]=str(int(dados['cellSerialNumber_0'][i]))"
   ]
  },
  {
   "cell_type": "code",
   "execution_count": 9,
   "metadata": {},
   "outputs": [],
   "source": [
    "dados[['scaleGross','scaleNet']] = dados[['scaleGross','scaleNet']].fillna(value=0)\n",
    "dados[['cellWeight_0','cellWeight_1','cellWeight_2','cellWeight_3','cellWeight_4','cellWeight_5','cellWeight_6','cellWeight_7']] = dados[['cellWeight_0','cellWeight_1','cellWeight_2','cellWeight_3','cellWeight_4','cellWeight_5','cellWeight_6','cellWeight_7']].fillna(value=0)\n",
    "dados[['cellSerialNumber_0']] = dados[['cellSerialNumber_0']].astype(str)\n",
    "dados[['terminalSerialNumber','scaleSerialNumber']]=dados[['terminalSerialNumber','scaleSerialNumber']].astype(str)\n"
   ]
  },
  {
   "cell_type": "code",
   "execution_count": null,
   "metadata": {},
   "outputs": [],
   "source": [
    "details=pd.DataFrame(dados.dtypes, columns=['type'])\n",
    "details['#Nan']=dados.isnull().sum(axis = 0)\n",
    "details['#uniques']=dados.nunique()"
   ]
  },
  {
   "cell_type": "code",
   "execution_count": null,
   "metadata": {},
   "outputs": [],
   "source": [
    "dados[['scaleGross','scaleNet']] = dados[['scaleGross','scaleNet']].fillna(value=0)\n",
    "details['#Nan_replaced']=dados.isnull().sum(axis = 0)"
   ]
  },
  {
   "cell_type": "code",
   "execution_count": null,
   "metadata": {},
   "outputs": [],
   "source": [
    "dados[['cellWeight_0','cellWeight_1','cellWeight_2','cellWeight_3','cellWeight_4','cellWeight_5','cellWeight_6','cellWeight_7']] = dados[['cellWeight_0','cellWeight_1','cellWeight_2','cellWeight_3','cellWeight_4','cellWeight_5','cellWeight_6','cellWeight_7']].fillna(value=0)\n",
    "details['#Nan_cell_weights_at0']=dados.isnull().sum(axis = 0)"
   ]
  },
  {
   "cell_type": "code",
   "execution_count": null,
   "metadata": {},
   "outputs": [],
   "source": [
    "\n",
    "#dados[['cellSerialNumber_0','cellSerialNumber_1','cellSerialNumber_2','cellSerialNumber_3','cellSerialNumber_4','cellSerialNumber_5','cellSerialNumber_6','cellSerialNumber_7']] = dados[['cellSerialNumber_0','cellSerialNumber_1','cellSerialNumber_2','cellSerialNumber_3','cellSerialNumber_4','cellSerialNumber_5','cellSerialNumber_6','cellSerialNumber_7']].astype(str) \n",
    "dados[['cellSerialNumber_0']] = dados[['cellSerialNumber_0']].astype(str) \n",
    "details['type_converted']=dados.dtypes"
   ]
  },
  {
   "cell_type": "code",
   "execution_count": null,
   "metadata": {},
   "outputs": [],
   "source": [
    "dados[['terminalSerialNumber','scaleSerialNumber']]=dados[['terminalSerialNumber','scaleSerialNumber']].astype(str)\n",
    "details['#nunqiues_corrected']=dados.nunique()"
   ]
  },
  {
   "cell_type": "code",
   "execution_count": null,
   "metadata": {
    "scrolled": false
   },
   "outputs": [],
   "source": [
    "details"
   ]
  },
  {
   "cell_type": "code",
   "execution_count": null,
   "metadata": {},
   "outputs": [],
   "source": [
    "dados.head()"
   ]
  },
  {
   "cell_type": "markdown",
   "metadata": {},
   "source": [
    "### avaliar problema 1: pesagens com valor nulo sendo que as celulas têm peso !"
   ]
  },
  {
   "cell_type": "code",
   "execution_count": null,
   "metadata": {},
   "outputs": [],
   "source": [
    "sempesos=dados[dados.scaleGross == 0]"
   ]
  },
  {
   "cell_type": "code",
   "execution_count": null,
   "metadata": {},
   "outputs": [],
   "source": [
    "sempesos.shape"
   ]
  },
  {
   "cell_type": "code",
   "execution_count": null,
   "metadata": {},
   "outputs": [],
   "source": [
    "teste=sempesos[sempesos.cellSerialNumber_0!= '0']"
   ]
  },
  {
   "cell_type": "code",
   "execution_count": null,
   "metadata": {},
   "outputs": [],
   "source": [
    "teste[teste.cellWeight_1!=0]"
   ]
  },
  {
   "attachments": {},
   "cell_type": "markdown",
   "metadata": {},
   "source": [
    "### avaliar problema 3: diferença de valores entre a pesagem e a soma (aquela coisa de haver provavelmente uma formula interna deles)\n"
   ]
  },
  {
   "cell_type": "code",
   "execution_count": 12,
   "metadata": {},
   "outputs": [
    {
     "data": {
      "text/html": [
       "<div>\n",
       "<style scoped>\n",
       "    .dataframe tbody tr th:only-of-type {\n",
       "        vertical-align: middle;\n",
       "    }\n",
       "\n",
       "    .dataframe tbody tr th {\n",
       "        vertical-align: top;\n",
       "    }\n",
       "\n",
       "    .dataframe thead th {\n",
       "        text-align: right;\n",
       "    }\n",
       "</style>\n",
       "<table border=\"1\" class=\"dataframe\">\n",
       "  <thead>\n",
       "    <tr style=\"text-align: right;\">\n",
       "      <th></th>\n",
       "      <th>_id</th>\n",
       "      <th>timestamp</th>\n",
       "      <th>terminalSerialNumber</th>\n",
       "      <th>scaleSerialNumber</th>\n",
       "      <th>scaleGross</th>\n",
       "      <th>scaleNet</th>\n",
       "      <th>cellSerialNumber_0</th>\n",
       "      <th>cellWeight_0</th>\n",
       "      <th>cellSerialNumber_1</th>\n",
       "      <th>cellWeight_1</th>\n",
       "      <th>...</th>\n",
       "      <th>cellSerialNumber_3</th>\n",
       "      <th>cellWeight_3</th>\n",
       "      <th>cellSerialNumber_4</th>\n",
       "      <th>cellWeight_4</th>\n",
       "      <th>cellSerialNumber_5</th>\n",
       "      <th>cellWeight_5</th>\n",
       "      <th>cellSerialNumber_6</th>\n",
       "      <th>cellWeight_6</th>\n",
       "      <th>cellSerialNumber_7</th>\n",
       "      <th>cellWeight_7</th>\n",
       "    </tr>\n",
       "  </thead>\n",
       "  <tbody>\n",
       "    <tr>\n",
       "      <th>0</th>\n",
       "      <td>5cd44e226e264493b0820ae4</td>\n",
       "      <td>2019-05-09 15:50:58</td>\n",
       "      <td>160690</td>\n",
       "      <td>P191021852</td>\n",
       "      <td>0.0</td>\n",
       "      <td>0.0</td>\n",
       "      <td>7450332</td>\n",
       "      <td>0.0</td>\n",
       "      <td>7450333</td>\n",
       "      <td>0.0</td>\n",
       "      <td>...</td>\n",
       "      <td>7450340</td>\n",
       "      <td>0.0</td>\n",
       "      <td>7450338</td>\n",
       "      <td>0.0</td>\n",
       "      <td>7450337</td>\n",
       "      <td>0.0</td>\n",
       "      <td>7450336</td>\n",
       "      <td>0.0</td>\n",
       "      <td>7450341</td>\n",
       "      <td>0.0</td>\n",
       "    </tr>\n",
       "    <tr>\n",
       "      <th>1</th>\n",
       "      <td>5cd44e226e2644843d820aed</td>\n",
       "      <td>2019-05-09 15:51:26</td>\n",
       "      <td>160690</td>\n",
       "      <td>P191021852</td>\n",
       "      <td>0.0</td>\n",
       "      <td>0.0</td>\n",
       "      <td>7450332</td>\n",
       "      <td>0.0</td>\n",
       "      <td>7450333</td>\n",
       "      <td>0.0</td>\n",
       "      <td>...</td>\n",
       "      <td>7450340</td>\n",
       "      <td>0.0</td>\n",
       "      <td>7450338</td>\n",
       "      <td>0.0</td>\n",
       "      <td>7450337</td>\n",
       "      <td>0.0</td>\n",
       "      <td>7450336</td>\n",
       "      <td>0.0</td>\n",
       "      <td>7450341</td>\n",
       "      <td>0.0</td>\n",
       "    </tr>\n",
       "    <tr>\n",
       "      <th>2</th>\n",
       "      <td>5cd44e236e26442493820af6</td>\n",
       "      <td>2019-05-09 15:51:28</td>\n",
       "      <td>160690</td>\n",
       "      <td>P191021852</td>\n",
       "      <td>0.0</td>\n",
       "      <td>0.0</td>\n",
       "      <td>7450332</td>\n",
       "      <td>0.0</td>\n",
       "      <td>7450333</td>\n",
       "      <td>0.0</td>\n",
       "      <td>...</td>\n",
       "      <td>7450340</td>\n",
       "      <td>0.0</td>\n",
       "      <td>7450338</td>\n",
       "      <td>0.0</td>\n",
       "      <td>7450337</td>\n",
       "      <td>0.0</td>\n",
       "      <td>7450336</td>\n",
       "      <td>0.0</td>\n",
       "      <td>7450341</td>\n",
       "      <td>0.0</td>\n",
       "    </tr>\n",
       "    <tr>\n",
       "      <th>3</th>\n",
       "      <td>5cd43e84a61883174cc58471</td>\n",
       "      <td>2019-05-09 14:44:49</td>\n",
       "      <td>160690</td>\n",
       "      <td>P191021852</td>\n",
       "      <td>0.0</td>\n",
       "      <td>0.0</td>\n",
       "      <td>7450338</td>\n",
       "      <td>0.0</td>\n",
       "      <td>7450337</td>\n",
       "      <td>0.0</td>\n",
       "      <td>...</td>\n",
       "      <td>7450341</td>\n",
       "      <td>0.0</td>\n",
       "      <td>0</td>\n",
       "      <td>0.0</td>\n",
       "      <td>0</td>\n",
       "      <td>0.0</td>\n",
       "      <td>0</td>\n",
       "      <td>0.0</td>\n",
       "      <td>0</td>\n",
       "      <td>0.0</td>\n",
       "    </tr>\n",
       "    <tr>\n",
       "      <th>4</th>\n",
       "      <td>5cd43b3fa618834976c583a1</td>\n",
       "      <td>2019-05-09 14:30:52</td>\n",
       "      <td>160690</td>\n",
       "      <td>P191021852</td>\n",
       "      <td>80.0</td>\n",
       "      <td>80.0</td>\n",
       "      <td>7450332</td>\n",
       "      <td>80.0</td>\n",
       "      <td>7450333</td>\n",
       "      <td>0.0</td>\n",
       "      <td>...</td>\n",
       "      <td>7450340</td>\n",
       "      <td>0.0</td>\n",
       "      <td>7450338</td>\n",
       "      <td>0.0</td>\n",
       "      <td>7450337</td>\n",
       "      <td>0.0</td>\n",
       "      <td>7450336</td>\n",
       "      <td>0.0</td>\n",
       "      <td>7450341</td>\n",
       "      <td>0.0</td>\n",
       "    </tr>\n",
       "  </tbody>\n",
       "</table>\n",
       "<p>5 rows × 22 columns</p>\n",
       "</div>"
      ],
      "text/plain": [
       "                        _id            timestamp terminalSerialNumber  \\\n",
       "0  5cd44e226e264493b0820ae4  2019-05-09 15:50:58               160690   \n",
       "1  5cd44e226e2644843d820aed  2019-05-09 15:51:26               160690   \n",
       "2  5cd44e236e26442493820af6  2019-05-09 15:51:28               160690   \n",
       "3  5cd43e84a61883174cc58471  2019-05-09 14:44:49               160690   \n",
       "4  5cd43b3fa618834976c583a1  2019-05-09 14:30:52               160690   \n",
       "\n",
       "  scaleSerialNumber  scaleGross  scaleNet cellSerialNumber_0  cellWeight_0  \\\n",
       "0        P191021852         0.0       0.0            7450332           0.0   \n",
       "1        P191021852         0.0       0.0            7450332           0.0   \n",
       "2        P191021852         0.0       0.0            7450332           0.0   \n",
       "3        P191021852         0.0       0.0            7450338           0.0   \n",
       "4        P191021852        80.0      80.0            7450332          80.0   \n",
       "\n",
       "  cellSerialNumber_1  cellWeight_1  ... cellSerialNumber_3  cellWeight_3  \\\n",
       "0            7450333           0.0  ...            7450340           0.0   \n",
       "1            7450333           0.0  ...            7450340           0.0   \n",
       "2            7450333           0.0  ...            7450340           0.0   \n",
       "3            7450337           0.0  ...            7450341           0.0   \n",
       "4            7450333           0.0  ...            7450340           0.0   \n",
       "\n",
       "  cellSerialNumber_4  cellWeight_4 cellSerialNumber_5  cellWeight_5  \\\n",
       "0            7450338           0.0            7450337           0.0   \n",
       "1            7450338           0.0            7450337           0.0   \n",
       "2            7450338           0.0            7450337           0.0   \n",
       "3                  0           0.0                  0           0.0   \n",
       "4            7450338           0.0            7450337           0.0   \n",
       "\n",
       "  cellSerialNumber_6  cellWeight_6 cellSerialNumber_7  cellWeight_7  \n",
       "0            7450336           0.0            7450341           0.0  \n",
       "1            7450336           0.0            7450341           0.0  \n",
       "2            7450336           0.0            7450341           0.0  \n",
       "3                  0           0.0                  0           0.0  \n",
       "4            7450336           0.0            7450341           0.0  \n",
       "\n",
       "[5 rows x 22 columns]"
      ]
     },
     "execution_count": 12,
     "metadata": {},
     "output_type": "execute_result"
    }
   ],
   "source": [
    "dados.head()"
   ]
  },
  {
   "cell_type": "code",
   "execution_count": 10,
   "metadata": {},
   "outputs": [],
   "source": [
    "ativos=dados[dados.cellSerialNumber_0 != '0']"
   ]
  },
  {
   "cell_type": "code",
   "execution_count": 13,
   "metadata": {},
   "outputs": [
    {
     "data": {
      "text/plain": [
       "S172601482    910211\n",
       "S190601082    447277\n",
       "P191021852    298789\n",
       "P124303992    130233\n",
       "P152708882     23016\n",
       "P192100052      1022\n",
       "S190601092       128\n",
       "Name: scaleSerialNumber, dtype: int64"
      ]
     },
     "execution_count": 13,
     "metadata": {},
     "output_type": "execute_result"
    }
   ],
   "source": [
    "ativos.scaleSerialNumber.value_counts()"
   ]
  },
  {
   "cell_type": "code",
   "execution_count": 17,
   "metadata": {},
   "outputs": [
    {
     "data": {
      "text/plain": [
       "S172601482    665062\n",
       "S190601082    182960\n",
       "P191021852     89766\n",
       "P124303992     87121\n",
       "P152708882     23012\n",
       "P192100052       452\n",
       "S190601092       118\n",
       "Name: scaleSerialNumber, dtype: int64"
      ]
     },
     "execution_count": 17,
     "metadata": {},
     "output_type": "execute_result"
    }
   ],
   "source": [
    "ativos[ativos.scaleGross!=0].scaleSerialNumber.value_counts()"
   ]
  },
  {
   "cell_type": "code",
   "execution_count": 20,
   "metadata": {},
   "outputs": [
    {
     "data": {
      "text/html": [
       "<div>\n",
       "<style scoped>\n",
       "    .dataframe tbody tr th:only-of-type {\n",
       "        vertical-align: middle;\n",
       "    }\n",
       "\n",
       "    .dataframe tbody tr th {\n",
       "        vertical-align: top;\n",
       "    }\n",
       "\n",
       "    .dataframe thead th {\n",
       "        text-align: right;\n",
       "    }\n",
       "</style>\n",
       "<table border=\"1\" class=\"dataframe\">\n",
       "  <thead>\n",
       "    <tr style=\"text-align: right;\">\n",
       "      <th></th>\n",
       "      <th>_id</th>\n",
       "      <th>timestamp</th>\n",
       "      <th>terminalSerialNumber</th>\n",
       "      <th>scaleSerialNumber</th>\n",
       "      <th>scaleGross</th>\n",
       "      <th>scaleNet</th>\n",
       "      <th>cellSerialNumber_0</th>\n",
       "      <th>cellWeight_0</th>\n",
       "      <th>cellSerialNumber_1</th>\n",
       "      <th>cellWeight_1</th>\n",
       "      <th>...</th>\n",
       "      <th>cellSerialNumber_3</th>\n",
       "      <th>cellWeight_3</th>\n",
       "      <th>cellSerialNumber_4</th>\n",
       "      <th>cellWeight_4</th>\n",
       "      <th>cellSerialNumber_5</th>\n",
       "      <th>cellWeight_5</th>\n",
       "      <th>cellSerialNumber_6</th>\n",
       "      <th>cellWeight_6</th>\n",
       "      <th>cellSerialNumber_7</th>\n",
       "      <th>cellWeight_7</th>\n",
       "    </tr>\n",
       "  </thead>\n",
       "  <tbody>\n",
       "    <tr>\n",
       "      <th>4</th>\n",
       "      <td>5cd43b3fa618834976c583a1</td>\n",
       "      <td>2019-05-09 14:30:52</td>\n",
       "      <td>160690</td>\n",
       "      <td>P191021852</td>\n",
       "      <td>80.0</td>\n",
       "      <td>80.0</td>\n",
       "      <td>7450332</td>\n",
       "      <td>80.0</td>\n",
       "      <td>7450333</td>\n",
       "      <td>0.0</td>\n",
       "      <td>...</td>\n",
       "      <td>7450340</td>\n",
       "      <td>0.0</td>\n",
       "      <td>7450338</td>\n",
       "      <td>0.0</td>\n",
       "      <td>7450337</td>\n",
       "      <td>0.0</td>\n",
       "      <td>7450336</td>\n",
       "      <td>0.0</td>\n",
       "      <td>7450341</td>\n",
       "      <td>0.0</td>\n",
       "    </tr>\n",
       "    <tr>\n",
       "      <th>9</th>\n",
       "      <td>5cd43b4ea61883176ac583ca</td>\n",
       "      <td>2019-05-09 14:31:07</td>\n",
       "      <td>160690</td>\n",
       "      <td>P191021852</td>\n",
       "      <td>80.0</td>\n",
       "      <td>80.0</td>\n",
       "      <td>7450332</td>\n",
       "      <td>0.0</td>\n",
       "      <td>7450333</td>\n",
       "      <td>0.0</td>\n",
       "      <td>...</td>\n",
       "      <td>7450340</td>\n",
       "      <td>-10.0</td>\n",
       "      <td>7450338</td>\n",
       "      <td>0.0</td>\n",
       "      <td>7450337</td>\n",
       "      <td>0.0</td>\n",
       "      <td>7450336</td>\n",
       "      <td>0.0</td>\n",
       "      <td>7450341</td>\n",
       "      <td>0.0</td>\n",
       "    </tr>\n",
       "    <tr>\n",
       "      <th>10</th>\n",
       "      <td>5cd43b42a61883f3cec583aa</td>\n",
       "      <td>2019-05-09 14:30:55</td>\n",
       "      <td>160690</td>\n",
       "      <td>P191021852</td>\n",
       "      <td>70.0</td>\n",
       "      <td>70.0</td>\n",
       "      <td>7450332</td>\n",
       "      <td>10.0</td>\n",
       "      <td>7450333</td>\n",
       "      <td>60.0</td>\n",
       "      <td>...</td>\n",
       "      <td>7450340</td>\n",
       "      <td>0.0</td>\n",
       "      <td>7450338</td>\n",
       "      <td>0.0</td>\n",
       "      <td>7450337</td>\n",
       "      <td>0.0</td>\n",
       "      <td>7450336</td>\n",
       "      <td>0.0</td>\n",
       "      <td>7450341</td>\n",
       "      <td>0.0</td>\n",
       "    </tr>\n",
       "    <tr>\n",
       "      <th>11</th>\n",
       "      <td>5cd43b54a618833f95c583dc</td>\n",
       "      <td>2019-05-09 14:31:13</td>\n",
       "      <td>160690</td>\n",
       "      <td>P191021852</td>\n",
       "      <td>80.0</td>\n",
       "      <td>80.0</td>\n",
       "      <td>7450332</td>\n",
       "      <td>0.0</td>\n",
       "      <td>7450333</td>\n",
       "      <td>0.0</td>\n",
       "      <td>...</td>\n",
       "      <td>7450340</td>\n",
       "      <td>70.0</td>\n",
       "      <td>7450338</td>\n",
       "      <td>0.0</td>\n",
       "      <td>7450337</td>\n",
       "      <td>0.0</td>\n",
       "      <td>7450336</td>\n",
       "      <td>0.0</td>\n",
       "      <td>7450341</td>\n",
       "      <td>0.0</td>\n",
       "    </tr>\n",
       "    <tr>\n",
       "      <th>12</th>\n",
       "      <td>5cd43b63a61883e64fc58409</td>\n",
       "      <td>2019-05-09 14:31:28</td>\n",
       "      <td>160690</td>\n",
       "      <td>P191021852</td>\n",
       "      <td>90.0</td>\n",
       "      <td>90.0</td>\n",
       "      <td>7450332</td>\n",
       "      <td>0.0</td>\n",
       "      <td>7450333</td>\n",
       "      <td>0.0</td>\n",
       "      <td>...</td>\n",
       "      <td>7450340</td>\n",
       "      <td>0.0</td>\n",
       "      <td>7450338</td>\n",
       "      <td>20.0</td>\n",
       "      <td>7450337</td>\n",
       "      <td>40.0</td>\n",
       "      <td>7450336</td>\n",
       "      <td>10.0</td>\n",
       "      <td>7450341</td>\n",
       "      <td>30.0</td>\n",
       "    </tr>\n",
       "  </tbody>\n",
       "</table>\n",
       "<p>5 rows × 22 columns</p>\n",
       "</div>"
      ],
      "text/plain": [
       "                         _id            timestamp terminalSerialNumber  \\\n",
       "4   5cd43b3fa618834976c583a1  2019-05-09 14:30:52               160690   \n",
       "9   5cd43b4ea61883176ac583ca  2019-05-09 14:31:07               160690   \n",
       "10  5cd43b42a61883f3cec583aa  2019-05-09 14:30:55               160690   \n",
       "11  5cd43b54a618833f95c583dc  2019-05-09 14:31:13               160690   \n",
       "12  5cd43b63a61883e64fc58409  2019-05-09 14:31:28               160690   \n",
       "\n",
       "   scaleSerialNumber  scaleGross  scaleNet cellSerialNumber_0  cellWeight_0  \\\n",
       "4         P191021852        80.0      80.0            7450332          80.0   \n",
       "9         P191021852        80.0      80.0            7450332           0.0   \n",
       "10        P191021852        70.0      70.0            7450332          10.0   \n",
       "11        P191021852        80.0      80.0            7450332           0.0   \n",
       "12        P191021852        90.0      90.0            7450332           0.0   \n",
       "\n",
       "   cellSerialNumber_1  cellWeight_1  ... cellSerialNumber_3  cellWeight_3  \\\n",
       "4             7450333           0.0  ...            7450340           0.0   \n",
       "9             7450333           0.0  ...            7450340         -10.0   \n",
       "10            7450333          60.0  ...            7450340           0.0   \n",
       "11            7450333           0.0  ...            7450340          70.0   \n",
       "12            7450333           0.0  ...            7450340           0.0   \n",
       "\n",
       "   cellSerialNumber_4  cellWeight_4 cellSerialNumber_5  cellWeight_5  \\\n",
       "4             7450338           0.0            7450337           0.0   \n",
       "9             7450338           0.0            7450337           0.0   \n",
       "10            7450338           0.0            7450337           0.0   \n",
       "11            7450338           0.0            7450337           0.0   \n",
       "12            7450338          20.0            7450337          40.0   \n",
       "\n",
       "   cellSerialNumber_6  cellWeight_6 cellSerialNumber_7  cellWeight_7  \n",
       "4             7450336           0.0            7450341           0.0  \n",
       "9             7450336           0.0            7450341           0.0  \n",
       "10            7450336           0.0            7450341           0.0  \n",
       "11            7450336           0.0            7450341           0.0  \n",
       "12            7450336          10.0            7450341          30.0  \n",
       "\n",
       "[5 rows x 22 columns]"
      ]
     },
     "execution_count": 20,
     "metadata": {},
     "output_type": "execute_result"
    }
   ],
   "source": [
    "somas=ativos[ativos.scaleGross!=0]\n",
    "somas.head()"
   ]
  },
  {
   "cell_type": "code",
   "execution_count": 33,
   "metadata": {},
   "outputs": [
    {
     "name": "stderr",
     "output_type": "stream",
     "text": [
      "/usr/local/lib/python3.6/dist-packages/ipykernel_launcher.py:2: SettingWithCopyWarning: \n",
      "A value is trying to be set on a copy of a slice from a DataFrame.\n",
      "Try using .loc[row_indexer,col_indexer] = value instead\n",
      "\n",
      "See the caveats in the documentation: http://pandas.pydata.org/pandas-docs/stable/user_guide/indexing.html#returning-a-view-versus-a-copy\n",
      "  \n"
     ]
    }
   ],
   "source": [
    "#somas['soma']=somas.sum(axis = 1)\n",
    "somas['soma']=somas[['cellWeight_0','cellWeight_1','cellWeight_2','cellWeight_3','cellWeight_4','cellWeight_5','cellWeight_6','cellWeight_7']].sum(axis = 1)#df[col_list].sum(axis=1)"
   ]
  },
  {
   "cell_type": "code",
   "execution_count": 36,
   "metadata": {},
   "outputs": [
    {
     "data": {
      "text/html": [
       "<div>\n",
       "<style scoped>\n",
       "    .dataframe tbody tr th:only-of-type {\n",
       "        vertical-align: middle;\n",
       "    }\n",
       "\n",
       "    .dataframe tbody tr th {\n",
       "        vertical-align: top;\n",
       "    }\n",
       "\n",
       "    .dataframe thead th {\n",
       "        text-align: right;\n",
       "    }\n",
       "</style>\n",
       "<table border=\"1\" class=\"dataframe\">\n",
       "  <thead>\n",
       "    <tr style=\"text-align: right;\">\n",
       "      <th></th>\n",
       "      <th>terminalSerialNumber</th>\n",
       "      <th>scaleSerialNumber</th>\n",
       "      <th>scaleGross</th>\n",
       "      <th>scaleNet</th>\n",
       "      <th>soma</th>\n",
       "      <th>cellWeight_0</th>\n",
       "      <th>cellWeight_1</th>\n",
       "      <th>cellWeight_2</th>\n",
       "      <th>cellWeight_3</th>\n",
       "      <th>cellWeight_4</th>\n",
       "      <th>cellWeight_5</th>\n",
       "      <th>cellWeight_6</th>\n",
       "      <th>cellWeight_7</th>\n",
       "    </tr>\n",
       "  </thead>\n",
       "  <tbody>\n",
       "    <tr>\n",
       "      <th>4</th>\n",
       "      <td>160690</td>\n",
       "      <td>P191021852</td>\n",
       "      <td>80.0</td>\n",
       "      <td>80.0</td>\n",
       "      <td>80.0</td>\n",
       "      <td>80.0</td>\n",
       "      <td>0.0</td>\n",
       "      <td>0.0</td>\n",
       "      <td>0.0</td>\n",
       "      <td>0.0</td>\n",
       "      <td>0.0</td>\n",
       "      <td>0.0</td>\n",
       "      <td>0.0</td>\n",
       "    </tr>\n",
       "    <tr>\n",
       "      <th>9</th>\n",
       "      <td>160690</td>\n",
       "      <td>P191021852</td>\n",
       "      <td>80.0</td>\n",
       "      <td>80.0</td>\n",
       "      <td>70.0</td>\n",
       "      <td>0.0</td>\n",
       "      <td>0.0</td>\n",
       "      <td>80.0</td>\n",
       "      <td>-10.0</td>\n",
       "      <td>0.0</td>\n",
       "      <td>0.0</td>\n",
       "      <td>0.0</td>\n",
       "      <td>0.0</td>\n",
       "    </tr>\n",
       "    <tr>\n",
       "      <th>10</th>\n",
       "      <td>160690</td>\n",
       "      <td>P191021852</td>\n",
       "      <td>70.0</td>\n",
       "      <td>70.0</td>\n",
       "      <td>70.0</td>\n",
       "      <td>10.0</td>\n",
       "      <td>60.0</td>\n",
       "      <td>0.0</td>\n",
       "      <td>0.0</td>\n",
       "      <td>0.0</td>\n",
       "      <td>0.0</td>\n",
       "      <td>0.0</td>\n",
       "      <td>0.0</td>\n",
       "    </tr>\n",
       "    <tr>\n",
       "      <th>11</th>\n",
       "      <td>160690</td>\n",
       "      <td>P191021852</td>\n",
       "      <td>80.0</td>\n",
       "      <td>80.0</td>\n",
       "      <td>60.0</td>\n",
       "      <td>0.0</td>\n",
       "      <td>0.0</td>\n",
       "      <td>-10.0</td>\n",
       "      <td>70.0</td>\n",
       "      <td>0.0</td>\n",
       "      <td>0.0</td>\n",
       "      <td>0.0</td>\n",
       "      <td>0.0</td>\n",
       "    </tr>\n",
       "    <tr>\n",
       "      <th>12</th>\n",
       "      <td>160690</td>\n",
       "      <td>P191021852</td>\n",
       "      <td>90.0</td>\n",
       "      <td>90.0</td>\n",
       "      <td>100.0</td>\n",
       "      <td>0.0</td>\n",
       "      <td>0.0</td>\n",
       "      <td>0.0</td>\n",
       "      <td>0.0</td>\n",
       "      <td>20.0</td>\n",
       "      <td>40.0</td>\n",
       "      <td>10.0</td>\n",
       "      <td>30.0</td>\n",
       "    </tr>\n",
       "    <tr>\n",
       "      <th>...</th>\n",
       "      <td>...</td>\n",
       "      <td>...</td>\n",
       "      <td>...</td>\n",
       "      <td>...</td>\n",
       "      <td>...</td>\n",
       "      <td>...</td>\n",
       "      <td>...</td>\n",
       "      <td>...</td>\n",
       "      <td>...</td>\n",
       "      <td>...</td>\n",
       "      <td>...</td>\n",
       "      <td>...</td>\n",
       "      <td>...</td>\n",
       "    </tr>\n",
       "    <tr>\n",
       "      <th>2196218</th>\n",
       "      <td>160690</td>\n",
       "      <td>P191021852</td>\n",
       "      <td>1470.0</td>\n",
       "      <td>1470.0</td>\n",
       "      <td>1480.0</td>\n",
       "      <td>1480.0</td>\n",
       "      <td>-150.0</td>\n",
       "      <td>160.0</td>\n",
       "      <td>-10.0</td>\n",
       "      <td>0.0</td>\n",
       "      <td>0.0</td>\n",
       "      <td>0.0</td>\n",
       "      <td>0.0</td>\n",
       "    </tr>\n",
       "    <tr>\n",
       "      <th>2196223</th>\n",
       "      <td>160690</td>\n",
       "      <td>P191021852</td>\n",
       "      <td>10.0</td>\n",
       "      <td>10.0</td>\n",
       "      <td>120.0</td>\n",
       "      <td>70.0</td>\n",
       "      <td>60.0</td>\n",
       "      <td>-10.0</td>\n",
       "      <td>0.0</td>\n",
       "      <td>0.0</td>\n",
       "      <td>0.0</td>\n",
       "      <td>0.0</td>\n",
       "      <td>0.0</td>\n",
       "    </tr>\n",
       "    <tr>\n",
       "      <th>2196224</th>\n",
       "      <td>160690</td>\n",
       "      <td>P191021852</td>\n",
       "      <td>1630.0</td>\n",
       "      <td>1630.0</td>\n",
       "      <td>1950.0</td>\n",
       "      <td>1950.0</td>\n",
       "      <td>10.0</td>\n",
       "      <td>10.0</td>\n",
       "      <td>-10.0</td>\n",
       "      <td>-10.0</td>\n",
       "      <td>0.0</td>\n",
       "      <td>0.0</td>\n",
       "      <td>0.0</td>\n",
       "    </tr>\n",
       "    <tr>\n",
       "      <th>2196230</th>\n",
       "      <td>160690</td>\n",
       "      <td>P191021852</td>\n",
       "      <td>10.0</td>\n",
       "      <td>10.0</td>\n",
       "      <td>340.0</td>\n",
       "      <td>0.0</td>\n",
       "      <td>270.0</td>\n",
       "      <td>-30.0</td>\n",
       "      <td>110.0</td>\n",
       "      <td>-10.0</td>\n",
       "      <td>0.0</td>\n",
       "      <td>0.0</td>\n",
       "      <td>0.0</td>\n",
       "    </tr>\n",
       "    <tr>\n",
       "      <th>2196243</th>\n",
       "      <td>160690</td>\n",
       "      <td>P191021852</td>\n",
       "      <td>90.0</td>\n",
       "      <td>90.0</td>\n",
       "      <td>110.0</td>\n",
       "      <td>0.0</td>\n",
       "      <td>0.0</td>\n",
       "      <td>0.0</td>\n",
       "      <td>60.0</td>\n",
       "      <td>0.0</td>\n",
       "      <td>50.0</td>\n",
       "      <td>0.0</td>\n",
       "      <td>0.0</td>\n",
       "    </tr>\n",
       "  </tbody>\n",
       "</table>\n",
       "<p>1048491 rows × 13 columns</p>\n",
       "</div>"
      ],
      "text/plain": [
       "        terminalSerialNumber scaleSerialNumber  scaleGross  scaleNet    soma  \\\n",
       "4                     160690        P191021852        80.0      80.0    80.0   \n",
       "9                     160690        P191021852        80.0      80.0    70.0   \n",
       "10                    160690        P191021852        70.0      70.0    70.0   \n",
       "11                    160690        P191021852        80.0      80.0    60.0   \n",
       "12                    160690        P191021852        90.0      90.0   100.0   \n",
       "...                      ...               ...         ...       ...     ...   \n",
       "2196218               160690        P191021852      1470.0    1470.0  1480.0   \n",
       "2196223               160690        P191021852        10.0      10.0   120.0   \n",
       "2196224               160690        P191021852      1630.0    1630.0  1950.0   \n",
       "2196230               160690        P191021852        10.0      10.0   340.0   \n",
       "2196243               160690        P191021852        90.0      90.0   110.0   \n",
       "\n",
       "         cellWeight_0  cellWeight_1  cellWeight_2  cellWeight_3  cellWeight_4  \\\n",
       "4                80.0           0.0           0.0           0.0           0.0   \n",
       "9                 0.0           0.0          80.0         -10.0           0.0   \n",
       "10               10.0          60.0           0.0           0.0           0.0   \n",
       "11                0.0           0.0         -10.0          70.0           0.0   \n",
       "12                0.0           0.0           0.0           0.0          20.0   \n",
       "...               ...           ...           ...           ...           ...   \n",
       "2196218        1480.0        -150.0         160.0         -10.0           0.0   \n",
       "2196223          70.0          60.0         -10.0           0.0           0.0   \n",
       "2196224        1950.0          10.0          10.0         -10.0         -10.0   \n",
       "2196230           0.0         270.0         -30.0         110.0         -10.0   \n",
       "2196243           0.0           0.0           0.0          60.0           0.0   \n",
       "\n",
       "         cellWeight_5  cellWeight_6  cellWeight_7  \n",
       "4                 0.0           0.0           0.0  \n",
       "9                 0.0           0.0           0.0  \n",
       "10                0.0           0.0           0.0  \n",
       "11                0.0           0.0           0.0  \n",
       "12               40.0          10.0          30.0  \n",
       "...               ...           ...           ...  \n",
       "2196218           0.0           0.0           0.0  \n",
       "2196223           0.0           0.0           0.0  \n",
       "2196224           0.0           0.0           0.0  \n",
       "2196230           0.0           0.0           0.0  \n",
       "2196243          50.0           0.0           0.0  \n",
       "\n",
       "[1048491 rows x 13 columns]"
      ]
     },
     "execution_count": 36,
     "metadata": {},
     "output_type": "execute_result"
    }
   ],
   "source": [
    "somas[['terminalSerialNumber','scaleSerialNumber','scaleGross','scaleNet','soma','cellWeight_0','cellWeight_1','cellWeight_2','cellWeight_3','cellWeight_4','cellWeight_5','cellWeight_6','cellWeight_7']]"
   ]
  },
  {
   "cell_type": "code",
   "execution_count": 34,
   "metadata": {
    "scrolled": true
   },
   "outputs": [
    {
     "data": {
      "text/html": [
       "<div>\n",
       "<style scoped>\n",
       "    .dataframe tbody tr th:only-of-type {\n",
       "        vertical-align: middle;\n",
       "    }\n",
       "\n",
       "    .dataframe tbody tr th {\n",
       "        vertical-align: top;\n",
       "    }\n",
       "\n",
       "    .dataframe thead th {\n",
       "        text-align: right;\n",
       "    }\n",
       "</style>\n",
       "<table border=\"1\" class=\"dataframe\">\n",
       "  <thead>\n",
       "    <tr style=\"text-align: right;\">\n",
       "      <th></th>\n",
       "      <th>_id</th>\n",
       "      <th>timestamp</th>\n",
       "      <th>terminalSerialNumber</th>\n",
       "      <th>scaleSerialNumber</th>\n",
       "      <th>scaleGross</th>\n",
       "      <th>scaleNet</th>\n",
       "      <th>cellSerialNumber_0</th>\n",
       "      <th>cellWeight_0</th>\n",
       "      <th>cellSerialNumber_1</th>\n",
       "      <th>cellWeight_1</th>\n",
       "      <th>...</th>\n",
       "      <th>cellWeight_3</th>\n",
       "      <th>cellSerialNumber_4</th>\n",
       "      <th>cellWeight_4</th>\n",
       "      <th>cellSerialNumber_5</th>\n",
       "      <th>cellWeight_5</th>\n",
       "      <th>cellSerialNumber_6</th>\n",
       "      <th>cellWeight_6</th>\n",
       "      <th>cellSerialNumber_7</th>\n",
       "      <th>cellWeight_7</th>\n",
       "      <th>soma</th>\n",
       "    </tr>\n",
       "  </thead>\n",
       "  <tbody>\n",
       "    <tr>\n",
       "      <th>4</th>\n",
       "      <td>5cd43b3fa618834976c583a1</td>\n",
       "      <td>2019-05-09 14:30:52</td>\n",
       "      <td>160690</td>\n",
       "      <td>P191021852</td>\n",
       "      <td>80.0</td>\n",
       "      <td>80.0</td>\n",
       "      <td>7450332</td>\n",
       "      <td>80.0</td>\n",
       "      <td>7450333</td>\n",
       "      <td>0.0</td>\n",
       "      <td>...</td>\n",
       "      <td>0.0</td>\n",
       "      <td>7450338</td>\n",
       "      <td>0.0</td>\n",
       "      <td>7450337</td>\n",
       "      <td>0.0</td>\n",
       "      <td>7450336</td>\n",
       "      <td>0.0</td>\n",
       "      <td>7450341</td>\n",
       "      <td>0.0</td>\n",
       "      <td>80.0</td>\n",
       "    </tr>\n",
       "    <tr>\n",
       "      <th>9</th>\n",
       "      <td>5cd43b4ea61883176ac583ca</td>\n",
       "      <td>2019-05-09 14:31:07</td>\n",
       "      <td>160690</td>\n",
       "      <td>P191021852</td>\n",
       "      <td>80.0</td>\n",
       "      <td>80.0</td>\n",
       "      <td>7450332</td>\n",
       "      <td>0.0</td>\n",
       "      <td>7450333</td>\n",
       "      <td>0.0</td>\n",
       "      <td>...</td>\n",
       "      <td>-10.0</td>\n",
       "      <td>7450338</td>\n",
       "      <td>0.0</td>\n",
       "      <td>7450337</td>\n",
       "      <td>0.0</td>\n",
       "      <td>7450336</td>\n",
       "      <td>0.0</td>\n",
       "      <td>7450341</td>\n",
       "      <td>0.0</td>\n",
       "      <td>70.0</td>\n",
       "    </tr>\n",
       "    <tr>\n",
       "      <th>10</th>\n",
       "      <td>5cd43b42a61883f3cec583aa</td>\n",
       "      <td>2019-05-09 14:30:55</td>\n",
       "      <td>160690</td>\n",
       "      <td>P191021852</td>\n",
       "      <td>70.0</td>\n",
       "      <td>70.0</td>\n",
       "      <td>7450332</td>\n",
       "      <td>10.0</td>\n",
       "      <td>7450333</td>\n",
       "      <td>60.0</td>\n",
       "      <td>...</td>\n",
       "      <td>0.0</td>\n",
       "      <td>7450338</td>\n",
       "      <td>0.0</td>\n",
       "      <td>7450337</td>\n",
       "      <td>0.0</td>\n",
       "      <td>7450336</td>\n",
       "      <td>0.0</td>\n",
       "      <td>7450341</td>\n",
       "      <td>0.0</td>\n",
       "      <td>70.0</td>\n",
       "    </tr>\n",
       "    <tr>\n",
       "      <th>11</th>\n",
       "      <td>5cd43b54a618833f95c583dc</td>\n",
       "      <td>2019-05-09 14:31:13</td>\n",
       "      <td>160690</td>\n",
       "      <td>P191021852</td>\n",
       "      <td>80.0</td>\n",
       "      <td>80.0</td>\n",
       "      <td>7450332</td>\n",
       "      <td>0.0</td>\n",
       "      <td>7450333</td>\n",
       "      <td>0.0</td>\n",
       "      <td>...</td>\n",
       "      <td>70.0</td>\n",
       "      <td>7450338</td>\n",
       "      <td>0.0</td>\n",
       "      <td>7450337</td>\n",
       "      <td>0.0</td>\n",
       "      <td>7450336</td>\n",
       "      <td>0.0</td>\n",
       "      <td>7450341</td>\n",
       "      <td>0.0</td>\n",
       "      <td>60.0</td>\n",
       "    </tr>\n",
       "    <tr>\n",
       "      <th>12</th>\n",
       "      <td>5cd43b63a61883e64fc58409</td>\n",
       "      <td>2019-05-09 14:31:28</td>\n",
       "      <td>160690</td>\n",
       "      <td>P191021852</td>\n",
       "      <td>90.0</td>\n",
       "      <td>90.0</td>\n",
       "      <td>7450332</td>\n",
       "      <td>0.0</td>\n",
       "      <td>7450333</td>\n",
       "      <td>0.0</td>\n",
       "      <td>...</td>\n",
       "      <td>0.0</td>\n",
       "      <td>7450338</td>\n",
       "      <td>20.0</td>\n",
       "      <td>7450337</td>\n",
       "      <td>40.0</td>\n",
       "      <td>7450336</td>\n",
       "      <td>10.0</td>\n",
       "      <td>7450341</td>\n",
       "      <td>30.0</td>\n",
       "      <td>100.0</td>\n",
       "    </tr>\n",
       "  </tbody>\n",
       "</table>\n",
       "<p>5 rows × 23 columns</p>\n",
       "</div>"
      ],
      "text/plain": [
       "                         _id            timestamp terminalSerialNumber  \\\n",
       "4   5cd43b3fa618834976c583a1  2019-05-09 14:30:52               160690   \n",
       "9   5cd43b4ea61883176ac583ca  2019-05-09 14:31:07               160690   \n",
       "10  5cd43b42a61883f3cec583aa  2019-05-09 14:30:55               160690   \n",
       "11  5cd43b54a618833f95c583dc  2019-05-09 14:31:13               160690   \n",
       "12  5cd43b63a61883e64fc58409  2019-05-09 14:31:28               160690   \n",
       "\n",
       "   scaleSerialNumber  scaleGross  scaleNet cellSerialNumber_0  cellWeight_0  \\\n",
       "4         P191021852        80.0      80.0            7450332          80.0   \n",
       "9         P191021852        80.0      80.0            7450332           0.0   \n",
       "10        P191021852        70.0      70.0            7450332          10.0   \n",
       "11        P191021852        80.0      80.0            7450332           0.0   \n",
       "12        P191021852        90.0      90.0            7450332           0.0   \n",
       "\n",
       "   cellSerialNumber_1  cellWeight_1  ... cellWeight_3  cellSerialNumber_4  \\\n",
       "4             7450333           0.0  ...          0.0             7450338   \n",
       "9             7450333           0.0  ...        -10.0             7450338   \n",
       "10            7450333          60.0  ...          0.0             7450338   \n",
       "11            7450333           0.0  ...         70.0             7450338   \n",
       "12            7450333           0.0  ...          0.0             7450338   \n",
       "\n",
       "   cellWeight_4  cellSerialNumber_5 cellWeight_5  cellSerialNumber_6  \\\n",
       "4           0.0             7450337          0.0             7450336   \n",
       "9           0.0             7450337          0.0             7450336   \n",
       "10          0.0             7450337          0.0             7450336   \n",
       "11          0.0             7450337          0.0             7450336   \n",
       "12         20.0             7450337         40.0             7450336   \n",
       "\n",
       "   cellWeight_6  cellSerialNumber_7 cellWeight_7   soma  \n",
       "4           0.0             7450341          0.0   80.0  \n",
       "9           0.0             7450341          0.0   70.0  \n",
       "10          0.0             7450341          0.0   70.0  \n",
       "11          0.0             7450341          0.0   60.0  \n",
       "12         10.0             7450341         30.0  100.0  \n",
       "\n",
       "[5 rows x 23 columns]"
      ]
     },
     "execution_count": 34,
     "metadata": {},
     "output_type": "execute_result"
    }
   ],
   "source": [
    "somas.head()"
   ]
  },
  {
   "cell_type": "markdown",
   "metadata": {},
   "source": [
    "### avaliar problema 4:Cells with same serial number in different bridges\n"
   ]
  },
  {
   "cell_type": "code",
   "execution_count": 37,
   "metadata": {},
   "outputs": [
    {
     "data": {
      "text/html": [
       "<div>\n",
       "<style scoped>\n",
       "    .dataframe tbody tr th:only-of-type {\n",
       "        vertical-align: middle;\n",
       "    }\n",
       "\n",
       "    .dataframe tbody tr th {\n",
       "        vertical-align: top;\n",
       "    }\n",
       "\n",
       "    .dataframe thead th {\n",
       "        text-align: right;\n",
       "    }\n",
       "</style>\n",
       "<table border=\"1\" class=\"dataframe\">\n",
       "  <thead>\n",
       "    <tr style=\"text-align: right;\">\n",
       "      <th></th>\n",
       "      <th>_id</th>\n",
       "      <th>timestamp</th>\n",
       "      <th>terminalSerialNumber</th>\n",
       "      <th>scaleSerialNumber</th>\n",
       "      <th>scaleGross</th>\n",
       "      <th>scaleNet</th>\n",
       "      <th>cellSerialNumber_0</th>\n",
       "      <th>cellWeight_0</th>\n",
       "      <th>cellSerialNumber_1</th>\n",
       "      <th>cellWeight_1</th>\n",
       "      <th>...</th>\n",
       "      <th>cellSerialNumber_3</th>\n",
       "      <th>cellWeight_3</th>\n",
       "      <th>cellSerialNumber_4</th>\n",
       "      <th>cellWeight_4</th>\n",
       "      <th>cellSerialNumber_5</th>\n",
       "      <th>cellWeight_5</th>\n",
       "      <th>cellSerialNumber_6</th>\n",
       "      <th>cellWeight_6</th>\n",
       "      <th>cellSerialNumber_7</th>\n",
       "      <th>cellWeight_7</th>\n",
       "    </tr>\n",
       "  </thead>\n",
       "  <tbody>\n",
       "    <tr>\n",
       "      <th>0</th>\n",
       "      <td>5cd44e226e264493b0820ae4</td>\n",
       "      <td>2019-05-09 15:50:58</td>\n",
       "      <td>160690</td>\n",
       "      <td>P191021852</td>\n",
       "      <td>0.0</td>\n",
       "      <td>0.0</td>\n",
       "      <td>7450332</td>\n",
       "      <td>0.0</td>\n",
       "      <td>7450333</td>\n",
       "      <td>0.0</td>\n",
       "      <td>...</td>\n",
       "      <td>7450340</td>\n",
       "      <td>0.0</td>\n",
       "      <td>7450338</td>\n",
       "      <td>0.0</td>\n",
       "      <td>7450337</td>\n",
       "      <td>0.0</td>\n",
       "      <td>7450336</td>\n",
       "      <td>0.0</td>\n",
       "      <td>7450341</td>\n",
       "      <td>0.0</td>\n",
       "    </tr>\n",
       "    <tr>\n",
       "      <th>1</th>\n",
       "      <td>5cd44e226e2644843d820aed</td>\n",
       "      <td>2019-05-09 15:51:26</td>\n",
       "      <td>160690</td>\n",
       "      <td>P191021852</td>\n",
       "      <td>0.0</td>\n",
       "      <td>0.0</td>\n",
       "      <td>7450332</td>\n",
       "      <td>0.0</td>\n",
       "      <td>7450333</td>\n",
       "      <td>0.0</td>\n",
       "      <td>...</td>\n",
       "      <td>7450340</td>\n",
       "      <td>0.0</td>\n",
       "      <td>7450338</td>\n",
       "      <td>0.0</td>\n",
       "      <td>7450337</td>\n",
       "      <td>0.0</td>\n",
       "      <td>7450336</td>\n",
       "      <td>0.0</td>\n",
       "      <td>7450341</td>\n",
       "      <td>0.0</td>\n",
       "    </tr>\n",
       "    <tr>\n",
       "      <th>2</th>\n",
       "      <td>5cd44e236e26442493820af6</td>\n",
       "      <td>2019-05-09 15:51:28</td>\n",
       "      <td>160690</td>\n",
       "      <td>P191021852</td>\n",
       "      <td>0.0</td>\n",
       "      <td>0.0</td>\n",
       "      <td>7450332</td>\n",
       "      <td>0.0</td>\n",
       "      <td>7450333</td>\n",
       "      <td>0.0</td>\n",
       "      <td>...</td>\n",
       "      <td>7450340</td>\n",
       "      <td>0.0</td>\n",
       "      <td>7450338</td>\n",
       "      <td>0.0</td>\n",
       "      <td>7450337</td>\n",
       "      <td>0.0</td>\n",
       "      <td>7450336</td>\n",
       "      <td>0.0</td>\n",
       "      <td>7450341</td>\n",
       "      <td>0.0</td>\n",
       "    </tr>\n",
       "    <tr>\n",
       "      <th>3</th>\n",
       "      <td>5cd43e84a61883174cc58471</td>\n",
       "      <td>2019-05-09 14:44:49</td>\n",
       "      <td>160690</td>\n",
       "      <td>P191021852</td>\n",
       "      <td>0.0</td>\n",
       "      <td>0.0</td>\n",
       "      <td>7450338</td>\n",
       "      <td>0.0</td>\n",
       "      <td>7450337</td>\n",
       "      <td>0.0</td>\n",
       "      <td>...</td>\n",
       "      <td>7450341</td>\n",
       "      <td>0.0</td>\n",
       "      <td>0</td>\n",
       "      <td>0.0</td>\n",
       "      <td>0</td>\n",
       "      <td>0.0</td>\n",
       "      <td>0</td>\n",
       "      <td>0.0</td>\n",
       "      <td>0</td>\n",
       "      <td>0.0</td>\n",
       "    </tr>\n",
       "    <tr>\n",
       "      <th>4</th>\n",
       "      <td>5cd43b3fa618834976c583a1</td>\n",
       "      <td>2019-05-09 14:30:52</td>\n",
       "      <td>160690</td>\n",
       "      <td>P191021852</td>\n",
       "      <td>80.0</td>\n",
       "      <td>80.0</td>\n",
       "      <td>7450332</td>\n",
       "      <td>80.0</td>\n",
       "      <td>7450333</td>\n",
       "      <td>0.0</td>\n",
       "      <td>...</td>\n",
       "      <td>7450340</td>\n",
       "      <td>0.0</td>\n",
       "      <td>7450338</td>\n",
       "      <td>0.0</td>\n",
       "      <td>7450337</td>\n",
       "      <td>0.0</td>\n",
       "      <td>7450336</td>\n",
       "      <td>0.0</td>\n",
       "      <td>7450341</td>\n",
       "      <td>0.0</td>\n",
       "    </tr>\n",
       "  </tbody>\n",
       "</table>\n",
       "<p>5 rows × 22 columns</p>\n",
       "</div>"
      ],
      "text/plain": [
       "                        _id            timestamp terminalSerialNumber  \\\n",
       "0  5cd44e226e264493b0820ae4  2019-05-09 15:50:58               160690   \n",
       "1  5cd44e226e2644843d820aed  2019-05-09 15:51:26               160690   \n",
       "2  5cd44e236e26442493820af6  2019-05-09 15:51:28               160690   \n",
       "3  5cd43e84a61883174cc58471  2019-05-09 14:44:49               160690   \n",
       "4  5cd43b3fa618834976c583a1  2019-05-09 14:30:52               160690   \n",
       "\n",
       "  scaleSerialNumber  scaleGross  scaleNet cellSerialNumber_0  cellWeight_0  \\\n",
       "0        P191021852         0.0       0.0            7450332           0.0   \n",
       "1        P191021852         0.0       0.0            7450332           0.0   \n",
       "2        P191021852         0.0       0.0            7450332           0.0   \n",
       "3        P191021852         0.0       0.0            7450338           0.0   \n",
       "4        P191021852        80.0      80.0            7450332          80.0   \n",
       "\n",
       "  cellSerialNumber_1  cellWeight_1  ... cellSerialNumber_3  cellWeight_3  \\\n",
       "0            7450333           0.0  ...            7450340           0.0   \n",
       "1            7450333           0.0  ...            7450340           0.0   \n",
       "2            7450333           0.0  ...            7450340           0.0   \n",
       "3            7450337           0.0  ...            7450341           0.0   \n",
       "4            7450333           0.0  ...            7450340           0.0   \n",
       "\n",
       "  cellSerialNumber_4  cellWeight_4 cellSerialNumber_5  cellWeight_5  \\\n",
       "0            7450338           0.0            7450337           0.0   \n",
       "1            7450338           0.0            7450337           0.0   \n",
       "2            7450338           0.0            7450337           0.0   \n",
       "3                  0           0.0                  0           0.0   \n",
       "4            7450338           0.0            7450337           0.0   \n",
       "\n",
       "  cellSerialNumber_6  cellWeight_6 cellSerialNumber_7  cellWeight_7  \n",
       "0            7450336           0.0            7450341           0.0  \n",
       "1            7450336           0.0            7450341           0.0  \n",
       "2            7450336           0.0            7450341           0.0  \n",
       "3                  0           0.0                  0           0.0  \n",
       "4            7450336           0.0            7450341           0.0  \n",
       "\n",
       "[5 rows x 22 columns]"
      ]
     },
     "execution_count": 37,
     "metadata": {},
     "output_type": "execute_result"
    }
   ],
   "source": [
    "dados.head()"
   ]
  },
  {
   "cell_type": "code",
   "execution_count": 38,
   "metadata": {},
   "outputs": [],
   "source": [
    "pontes=pd.read_json('devicesinfos_partition1.json')\n",
    "info_pontes=pontes[['scaleSerialNumber','terminalSerialNumber','scaleCellCount','scaleDataAvailability','timestamp','cell0_serialNumber','cell1_serialNumber','cell2_serialNumber','cell3_serialNumber','cell4_serialNumber','cell5_serialNumber','cell6_serialNumber','cell7_serialNumber']]"
   ]
  },
  {
   "cell_type": "code",
   "execution_count": 39,
   "metadata": {},
   "outputs": [
    {
     "data": {
      "text/html": [
       "<div>\n",
       "<style scoped>\n",
       "    .dataframe tbody tr th:only-of-type {\n",
       "        vertical-align: middle;\n",
       "    }\n",
       "\n",
       "    .dataframe tbody tr th {\n",
       "        vertical-align: top;\n",
       "    }\n",
       "\n",
       "    .dataframe thead th {\n",
       "        text-align: right;\n",
       "    }\n",
       "</style>\n",
       "<table border=\"1\" class=\"dataframe\">\n",
       "  <thead>\n",
       "    <tr style=\"text-align: right;\">\n",
       "      <th></th>\n",
       "      <th>scaleSerialNumber</th>\n",
       "      <th>terminalSerialNumber</th>\n",
       "      <th>scaleCellCount</th>\n",
       "      <th>scaleDataAvailability</th>\n",
       "      <th>timestamp</th>\n",
       "      <th>cell0_serialNumber</th>\n",
       "      <th>cell1_serialNumber</th>\n",
       "      <th>cell2_serialNumber</th>\n",
       "      <th>cell3_serialNumber</th>\n",
       "      <th>cell4_serialNumber</th>\n",
       "      <th>cell5_serialNumber</th>\n",
       "      <th>cell6_serialNumber</th>\n",
       "      <th>cell7_serialNumber</th>\n",
       "    </tr>\n",
       "  </thead>\n",
       "  <tbody>\n",
       "    <tr>\n",
       "      <th>0</th>\n",
       "      <td>P191021852</td>\n",
       "      <td>160690</td>\n",
       "      <td>8.0</td>\n",
       "      <td>00:data ready (2020/05/22 18:16:38,756)</td>\n",
       "      <td>2020-05-22 16:16:38</td>\n",
       "      <td>7450332.0</td>\n",
       "      <td>7450333.0</td>\n",
       "      <td>7450339.0</td>\n",
       "      <td>7450340.0</td>\n",
       "      <td>7450338.0</td>\n",
       "      <td>7450337.0</td>\n",
       "      <td>7450336.0</td>\n",
       "      <td>7450341.0</td>\n",
       "    </tr>\n",
       "    <tr>\n",
       "      <th>1</th>\n",
       "      <td>S172601482</td>\n",
       "      <td>SN000001</td>\n",
       "      <td>8.0</td>\n",
       "      <td>00:data ready (2019/12/16 09:26:22,203)</td>\n",
       "      <td>2019-12-16 08:26:22</td>\n",
       "      <td>99019901.0</td>\n",
       "      <td>99019902.0</td>\n",
       "      <td>99019903.0</td>\n",
       "      <td>99019904.0</td>\n",
       "      <td>99019905.0</td>\n",
       "      <td>99019906.0</td>\n",
       "      <td>99019907.0</td>\n",
       "      <td>99019908.0</td>\n",
       "    </tr>\n",
       "    <tr>\n",
       "      <th>2</th>\n",
       "      <td>S094400502</td>\n",
       "      <td>SN000002</td>\n",
       "      <td>0.0</td>\n",
       "      <td>00:data ready</td>\n",
       "      <td>2019-05-27 08:29:06</td>\n",
       "      <td>NaN</td>\n",
       "      <td>NaN</td>\n",
       "      <td>NaN</td>\n",
       "      <td>NaN</td>\n",
       "      <td>NaN</td>\n",
       "      <td>NaN</td>\n",
       "      <td>NaN</td>\n",
       "      <td>NaN</td>\n",
       "    </tr>\n",
       "    <tr>\n",
       "      <th>3</th>\n",
       "      <td>00000000</td>\n",
       "      <td>SN000002</td>\n",
       "      <td>NaN</td>\n",
       "      <td>01:data not ready</td>\n",
       "      <td>2019-05-27 08:29:06</td>\n",
       "      <td>NaN</td>\n",
       "      <td>NaN</td>\n",
       "      <td>NaN</td>\n",
       "      <td>NaN</td>\n",
       "      <td>NaN</td>\n",
       "      <td>NaN</td>\n",
       "      <td>NaN</td>\n",
       "      <td>NaN</td>\n",
       "    </tr>\n",
       "    <tr>\n",
       "      <th>4</th>\n",
       "      <td>None</td>\n",
       "      <td>SN000002</td>\n",
       "      <td>NaN</td>\n",
       "      <td>01:data not ready</td>\n",
       "      <td>2019-11-15 17:49:57</td>\n",
       "      <td>NaN</td>\n",
       "      <td>NaN</td>\n",
       "      <td>NaN</td>\n",
       "      <td>NaN</td>\n",
       "      <td>NaN</td>\n",
       "      <td>NaN</td>\n",
       "      <td>NaN</td>\n",
       "      <td>NaN</td>\n",
       "    </tr>\n",
       "    <tr>\n",
       "      <th>5</th>\n",
       "      <td>00000000</td>\n",
       "      <td>SNT00001</td>\n",
       "      <td>NaN</td>\n",
       "      <td>01:data not ready</td>\n",
       "      <td>2019-07-26 09:35:32</td>\n",
       "      <td>NaN</td>\n",
       "      <td>NaN</td>\n",
       "      <td>NaN</td>\n",
       "      <td>NaN</td>\n",
       "      <td>NaN</td>\n",
       "      <td>NaN</td>\n",
       "      <td>NaN</td>\n",
       "      <td>NaN</td>\n",
       "    </tr>\n",
       "    <tr>\n",
       "      <th>6</th>\n",
       "      <td>P083500022</td>\n",
       "      <td>SN00000050</td>\n",
       "      <td>NaN</td>\n",
       "      <td>01:data not ready</td>\n",
       "      <td>2019-11-26 07:39:35</td>\n",
       "      <td>NaN</td>\n",
       "      <td>NaN</td>\n",
       "      <td>NaN</td>\n",
       "      <td>NaN</td>\n",
       "      <td>NaN</td>\n",
       "      <td>NaN</td>\n",
       "      <td>NaN</td>\n",
       "      <td>NaN</td>\n",
       "    </tr>\n",
       "    <tr>\n",
       "      <th>7</th>\n",
       "      <td>P192100052</td>\n",
       "      <td>SN00000050</td>\n",
       "      <td>16.0</td>\n",
       "      <td>00:data ready (2019/07/29 10:42:00,745)</td>\n",
       "      <td>2019-07-29 08:42:00</td>\n",
       "      <td>99019901.0</td>\n",
       "      <td>99019902.0</td>\n",
       "      <td>99019903.0</td>\n",
       "      <td>99019904.0</td>\n",
       "      <td>99019905.0</td>\n",
       "      <td>99019906.0</td>\n",
       "      <td>99019907.0</td>\n",
       "      <td>99019908.0</td>\n",
       "    </tr>\n",
       "    <tr>\n",
       "      <th>8</th>\n",
       "      <td>S190601092</td>\n",
       "      <td>SN000002</td>\n",
       "      <td>1.0</td>\n",
       "      <td>00:data ready</td>\n",
       "      <td>2019-06-05 12:29:26</td>\n",
       "      <td>NaN</td>\n",
       "      <td>NaN</td>\n",
       "      <td>NaN</td>\n",
       "      <td>NaN</td>\n",
       "      <td>NaN</td>\n",
       "      <td>NaN</td>\n",
       "      <td>NaN</td>\n",
       "      <td>NaN</td>\n",
       "    </tr>\n",
       "    <tr>\n",
       "      <th>9</th>\n",
       "      <td>P192100052</td>\n",
       "      <td>SN00000050</td>\n",
       "      <td>16.0</td>\n",
       "      <td>00:data ready (2019/07/05 15:14:40,681)</td>\n",
       "      <td>2019-07-05 13:14:40</td>\n",
       "      <td>99019901.0</td>\n",
       "      <td>99019902.0</td>\n",
       "      <td>99019903.0</td>\n",
       "      <td>99019904.0</td>\n",
       "      <td>99019905.0</td>\n",
       "      <td>99019906.0</td>\n",
       "      <td>99019907.0</td>\n",
       "      <td>99019908.0</td>\n",
       "    </tr>\n",
       "    <tr>\n",
       "      <th>10</th>\n",
       "      <td>P124303992</td>\n",
       "      <td>SN00000050</td>\n",
       "      <td>3.0</td>\n",
       "      <td>00:data ready (2019/12/10 09:36:05,429)</td>\n",
       "      <td>2019-12-10 08:36:05</td>\n",
       "      <td>13160002.0</td>\n",
       "      <td>13160003.0</td>\n",
       "      <td>19350111.0</td>\n",
       "      <td>NaN</td>\n",
       "      <td>NaN</td>\n",
       "      <td>NaN</td>\n",
       "      <td>NaN</td>\n",
       "      <td>NaN</td>\n",
       "    </tr>\n",
       "    <tr>\n",
       "      <th>11</th>\n",
       "      <td>None</td>\n",
       "      <td>SN000001</td>\n",
       "      <td>NaN</td>\n",
       "      <td>01:data not ready</td>\n",
       "      <td>2019-07-02 09:54:43</td>\n",
       "      <td>NaN</td>\n",
       "      <td>NaN</td>\n",
       "      <td>NaN</td>\n",
       "      <td>NaN</td>\n",
       "      <td>NaN</td>\n",
       "      <td>NaN</td>\n",
       "      <td>NaN</td>\n",
       "      <td>NaN</td>\n",
       "    </tr>\n",
       "    <tr>\n",
       "      <th>12</th>\n",
       "      <td>P083500022</td>\n",
       "      <td>SN00000050</td>\n",
       "      <td>8.0</td>\n",
       "      <td>00:data ready (2019/09/09 16:53:51,555)</td>\n",
       "      <td>2019-09-09 14:53:51</td>\n",
       "      <td>NaN</td>\n",
       "      <td>NaN</td>\n",
       "      <td>NaN</td>\n",
       "      <td>NaN</td>\n",
       "      <td>NaN</td>\n",
       "      <td>NaN</td>\n",
       "      <td>NaN</td>\n",
       "      <td>NaN</td>\n",
       "    </tr>\n",
       "    <tr>\n",
       "      <th>13</th>\n",
       "      <td>S190601082</td>\n",
       "      <td>SN000002</td>\n",
       "      <td>NaN</td>\n",
       "      <td>01:data not ready</td>\n",
       "      <td>2020-05-22 16:20:55</td>\n",
       "      <td>NaN</td>\n",
       "      <td>NaN</td>\n",
       "      <td>NaN</td>\n",
       "      <td>NaN</td>\n",
       "      <td>NaN</td>\n",
       "      <td>NaN</td>\n",
       "      <td>NaN</td>\n",
       "      <td>NaN</td>\n",
       "    </tr>\n",
       "    <tr>\n",
       "      <th>14</th>\n",
       "      <td>S190601082</td>\n",
       "      <td>???</td>\n",
       "      <td>8.0</td>\n",
       "      <td>00:data ready (2019/10/22 14:22:20,785)</td>\n",
       "      <td>2019-10-22 12:22:20</td>\n",
       "      <td>99019901.0</td>\n",
       "      <td>99029902.0</td>\n",
       "      <td>99039903.0</td>\n",
       "      <td>99049904.0</td>\n",
       "      <td>99059905.0</td>\n",
       "      <td>99069906.0</td>\n",
       "      <td>99079907.0</td>\n",
       "      <td>99089908.0</td>\n",
       "    </tr>\n",
       "    <tr>\n",
       "      <th>15</th>\n",
       "      <td>P152708882</td>\n",
       "      <td>248288</td>\n",
       "      <td>1.0</td>\n",
       "      <td>00:data ready (2020/01/10 16:47:37,967)</td>\n",
       "      <td>2020-01-10 15:47:37</td>\n",
       "      <td>99019901.0</td>\n",
       "      <td>NaN</td>\n",
       "      <td>NaN</td>\n",
       "      <td>NaN</td>\n",
       "      <td>NaN</td>\n",
       "      <td>NaN</td>\n",
       "      <td>NaN</td>\n",
       "      <td>NaN</td>\n",
       "    </tr>\n",
       "    <tr>\n",
       "      <th>16</th>\n",
       "      <td>None</td>\n",
       "      <td>248288</td>\n",
       "      <td>NaN</td>\n",
       "      <td>01:data not ready</td>\n",
       "      <td>2020-01-07 14:12:34</td>\n",
       "      <td>NaN</td>\n",
       "      <td>NaN</td>\n",
       "      <td>NaN</td>\n",
       "      <td>NaN</td>\n",
       "      <td>NaN</td>\n",
       "      <td>NaN</td>\n",
       "      <td>NaN</td>\n",
       "      <td>NaN</td>\n",
       "    </tr>\n",
       "  </tbody>\n",
       "</table>\n",
       "</div>"
      ],
      "text/plain": [
       "   scaleSerialNumber terminalSerialNumber  scaleCellCount  \\\n",
       "0         P191021852               160690             8.0   \n",
       "1         S172601482             SN000001             8.0   \n",
       "2         S094400502             SN000002             0.0   \n",
       "3           00000000             SN000002             NaN   \n",
       "4               None             SN000002             NaN   \n",
       "5           00000000             SNT00001             NaN   \n",
       "6         P083500022           SN00000050             NaN   \n",
       "7         P192100052           SN00000050            16.0   \n",
       "8         S190601092             SN000002             1.0   \n",
       "9         P192100052           SN00000050            16.0   \n",
       "10        P124303992           SN00000050             3.0   \n",
       "11              None             SN000001             NaN   \n",
       "12        P083500022           SN00000050             8.0   \n",
       "13        S190601082             SN000002             NaN   \n",
       "14        S190601082                  ???             8.0   \n",
       "15        P152708882               248288             1.0   \n",
       "16              None               248288             NaN   \n",
       "\n",
       "                      scaleDataAvailability           timestamp  \\\n",
       "0   00:data ready (2020/05/22 18:16:38,756) 2020-05-22 16:16:38   \n",
       "1   00:data ready (2019/12/16 09:26:22,203) 2019-12-16 08:26:22   \n",
       "2                             00:data ready 2019-05-27 08:29:06   \n",
       "3                         01:data not ready 2019-05-27 08:29:06   \n",
       "4                         01:data not ready 2019-11-15 17:49:57   \n",
       "5                         01:data not ready 2019-07-26 09:35:32   \n",
       "6                         01:data not ready 2019-11-26 07:39:35   \n",
       "7   00:data ready (2019/07/29 10:42:00,745) 2019-07-29 08:42:00   \n",
       "8                             00:data ready 2019-06-05 12:29:26   \n",
       "9   00:data ready (2019/07/05 15:14:40,681) 2019-07-05 13:14:40   \n",
       "10  00:data ready (2019/12/10 09:36:05,429) 2019-12-10 08:36:05   \n",
       "11                        01:data not ready 2019-07-02 09:54:43   \n",
       "12  00:data ready (2019/09/09 16:53:51,555) 2019-09-09 14:53:51   \n",
       "13                        01:data not ready 2020-05-22 16:20:55   \n",
       "14  00:data ready (2019/10/22 14:22:20,785) 2019-10-22 12:22:20   \n",
       "15  00:data ready (2020/01/10 16:47:37,967) 2020-01-10 15:47:37   \n",
       "16                        01:data not ready 2020-01-07 14:12:34   \n",
       "\n",
       "    cell0_serialNumber  cell1_serialNumber  cell2_serialNumber  \\\n",
       "0            7450332.0           7450333.0           7450339.0   \n",
       "1           99019901.0          99019902.0          99019903.0   \n",
       "2                  NaN                 NaN                 NaN   \n",
       "3                  NaN                 NaN                 NaN   \n",
       "4                  NaN                 NaN                 NaN   \n",
       "5                  NaN                 NaN                 NaN   \n",
       "6                  NaN                 NaN                 NaN   \n",
       "7           99019901.0          99019902.0          99019903.0   \n",
       "8                  NaN                 NaN                 NaN   \n",
       "9           99019901.0          99019902.0          99019903.0   \n",
       "10          13160002.0          13160003.0          19350111.0   \n",
       "11                 NaN                 NaN                 NaN   \n",
       "12                 NaN                 NaN                 NaN   \n",
       "13                 NaN                 NaN                 NaN   \n",
       "14          99019901.0          99029902.0          99039903.0   \n",
       "15          99019901.0                 NaN                 NaN   \n",
       "16                 NaN                 NaN                 NaN   \n",
       "\n",
       "    cell3_serialNumber  cell4_serialNumber  cell5_serialNumber  \\\n",
       "0            7450340.0           7450338.0           7450337.0   \n",
       "1           99019904.0          99019905.0          99019906.0   \n",
       "2                  NaN                 NaN                 NaN   \n",
       "3                  NaN                 NaN                 NaN   \n",
       "4                  NaN                 NaN                 NaN   \n",
       "5                  NaN                 NaN                 NaN   \n",
       "6                  NaN                 NaN                 NaN   \n",
       "7           99019904.0          99019905.0          99019906.0   \n",
       "8                  NaN                 NaN                 NaN   \n",
       "9           99019904.0          99019905.0          99019906.0   \n",
       "10                 NaN                 NaN                 NaN   \n",
       "11                 NaN                 NaN                 NaN   \n",
       "12                 NaN                 NaN                 NaN   \n",
       "13                 NaN                 NaN                 NaN   \n",
       "14          99049904.0          99059905.0          99069906.0   \n",
       "15                 NaN                 NaN                 NaN   \n",
       "16                 NaN                 NaN                 NaN   \n",
       "\n",
       "    cell6_serialNumber  cell7_serialNumber  \n",
       "0            7450336.0           7450341.0  \n",
       "1           99019907.0          99019908.0  \n",
       "2                  NaN                 NaN  \n",
       "3                  NaN                 NaN  \n",
       "4                  NaN                 NaN  \n",
       "5                  NaN                 NaN  \n",
       "6                  NaN                 NaN  \n",
       "7           99019907.0          99019908.0  \n",
       "8                  NaN                 NaN  \n",
       "9           99019907.0          99019908.0  \n",
       "10                 NaN                 NaN  \n",
       "11                 NaN                 NaN  \n",
       "12                 NaN                 NaN  \n",
       "13                 NaN                 NaN  \n",
       "14          99079907.0          99089908.0  \n",
       "15                 NaN                 NaN  \n",
       "16                 NaN                 NaN  "
      ]
     },
     "execution_count": 39,
     "metadata": {},
     "output_type": "execute_result"
    }
   ],
   "source": [
    "info_pontes"
   ]
  },
  {
   "cell_type": "code",
   "execution_count": 45,
   "metadata": {},
   "outputs": [
    {
     "data": {
      "text/plain": [
       "0    88768\n",
       "Name: cellSerialNumber_0, dtype: int64"
      ]
     },
     "execution_count": 45,
     "metadata": {},
     "output_type": "execute_result"
    }
   ],
   "source": [
    "dados[dados['scaleSerialNumber']=='P083500022'].cellSerialNumber_0.value_counts()"
   ]
  },
  {
   "cell_type": "code",
   "execution_count": null,
   "metadata": {},
   "outputs": [],
   "source": [
    "dados['cellSerialNumber_0'].unique()"
   ]
  },
  {
   "cell_type": "code",
   "execution_count": null,
   "metadata": {},
   "outputs": [],
   "source": [
    "\n",
    "teste=dados[['cellSerialNumber_0']].astype(str)\n"
   ]
  },
  {
   "cell_type": "code",
   "execution_count": null,
   "metadata": {},
   "outputs": [],
   "source": [
    "dados.shape[0]"
   ]
  },
  {
   "cell_type": "code",
   "execution_count": null,
   "metadata": {},
   "outputs": [],
   "source": [
    "dados[['cellSerialNumber_0']].head(25)"
   ]
  },
  {
   "cell_type": "code",
   "execution_count": null,
   "metadata": {},
   "outputs": [],
   "source": [
    "str(int(dados['cellSerialNumber_0'][0]))#.astype(int)"
   ]
  },
  {
   "cell_type": "markdown",
   "metadata": {},
   "source": [
    "estrategia:\n",
    "- cell id ja foram descartados porque sao todos unicos ou nan para a totalidade de pesagens\n",
    "- os scalegross e scale net foram preenchidos com valor 0\n",
    "- as cell weighting com nan sao preenchidas a 0\n",
    "- os serial number estao numericos - converter para string\n",
    "- terminal serial number tem valores reptidos, conversao para string resolveu"
   ]
  },
  {
   "cell_type": "code",
   "execution_count": null,
   "metadata": {},
   "outputs": [],
   "source": [
    "erro1=dados[dados['scaleGross'].isnull()]"
   ]
  },
  {
   "cell_type": "code",
   "execution_count": null,
   "metadata": {},
   "outputs": [],
   "source": [
    "erro1.cellSerialNumber_0.value_counts().sum()#.sort_values(['cellSerialNumber_0'], ascending=False)"
   ]
  },
  {
   "cell_type": "code",
   "execution_count": null,
   "metadata": {},
   "outputs": [],
   "source": [
    "validar_ids=dados.sort_values(['cellSerialNumber_0']).set_index(['cellSerialNumber_0'])#.count()"
   ]
  },
  {
   "cell_type": "code",
   "execution_count": null,
   "metadata": {},
   "outputs": [],
   "source": [
    "validar_ids"
   ]
  },
  {
   "cell_type": "markdown",
   "metadata": {},
   "source": [
    "informações:\n",
    "- Ha valores de pesagem (sclaegross/net) com valores>0 e qd as celulas de pesagem nao têm serial number (Nan) ex: 5df09f84e2d52275b7392292\n",
    "- ha valores de pesagens negaivos ex 5cd9a59a9f4a53cf70f53d0d\n",
    "- sera que cada ponte tem uma coleçao de celulas especificas? uma celula 0 so se liga com uma expecifica celula 1?\n"
   ]
  },
  {
   "cell_type": "code",
   "execution_count": null,
   "metadata": {},
   "outputs": [],
   "source": [
    "validar_ids=dados.sort_values(['cellSerialNumber_0']).set_index(['cellSerialNumber_0']).count()"
   ]
  },
  {
   "cell_type": "markdown",
   "metadata": {},
   "source": [
    "- opçao count apenas salienta que ha nan ha medida que se acrescenta celula"
   ]
  },
  {
   "cell_type": "code",
   "execution_count": null,
   "metadata": {},
   "outputs": [],
   "source": [
    "validar_ids=dados.groupby(['cellSerialNumber_0']).count()"
   ]
  },
  {
   "cell_type": "code",
   "execution_count": null,
   "metadata": {
    "scrolled": true
   },
   "outputs": [],
   "source": [
    "validar_ids"
   ]
  },
  {
   "cell_type": "markdown",
   "metadata": {},
   "source": [
    "- opçao nunique mostra que um serial number 0 pode ter mais que 1 serial nuber 1 (nem considerando NAN) logo ao e possivel substituir"
   ]
  },
  {
   "cell_type": "code",
   "execution_count": null,
   "metadata": {},
   "outputs": [],
   "source": [
    "validar_ids=dados.groupby(['cellSerialNumber_0']).nunique()"
   ]
  },
  {
   "cell_type": "code",
   "execution_count": null,
   "metadata": {},
   "outputs": [],
   "source": [
    "validar_ids"
   ]
  },
  {
   "cell_type": "code",
   "execution_count": null,
   "metadata": {},
   "outputs": [],
   "source": [
    "dados[dados['cellSerialNumber_0']=='00000d9c']"
   ]
  },
  {
   "cell_type": "code",
   "execution_count": null,
   "metadata": {},
   "outputs": [],
   "source": [
    "dados[dados['cellSerialNumber_0']=='13160003.0']"
   ]
  },
  {
   "cell_type": "code",
   "execution_count": null,
   "metadata": {
    "scrolled": true
   },
   "outputs": [],
   "source": [
    "validar_ids.max()"
   ]
  },
  {
   "cell_type": "code",
   "execution_count": null,
   "metadata": {},
   "outputs": [],
   "source": []
  },
  {
   "cell_type": "code",
   "execution_count": null,
   "metadata": {},
   "outputs": [],
   "source": [
    "ordenar no tempo"
   ]
  },
  {
   "cell_type": "code",
   "execution_count": null,
   "metadata": {},
   "outputs": [],
   "source": []
  },
  {
   "cell_type": "markdown",
   "metadata": {},
   "source": [
    "## Ate aqui assumiu-se nao deitar NaN fora\n",
    "- substitui-se nan de pesagens por 0\n",
    "- preservou-se nan de serial number de celulas porque a pesagem tinha valor completo\n",
    "- eqauciona-se deitar fora se as celulas e pesagem completa for Nan, mas ainda nao ocorreu"
   ]
  },
  {
   "cell_type": "markdown",
   "metadata": {},
   "source": [
    "# avaliar pontes"
   ]
  },
  {
   "cell_type": "markdown",
   "metadata": {},
   "source": [
    "estrategia:\n",
    "- clean dados \n",
    "- reajustar problema\n",
    "- identificar o conceito anomalia (de como a detetam, onde e que ja aconteceu)"
   ]
  },
  {
   "cell_type": "code",
   "execution_count": null,
   "metadata": {},
   "outputs": [],
   "source": [
    "pontes=pd.read_json('devicesinfos_partition1.json')"
   ]
  },
  {
   "cell_type": "code",
   "execution_count": null,
   "metadata": {},
   "outputs": [],
   "source": [
    "pontes.columns"
   ]
  },
  {
   "cell_type": "code",
   "execution_count": null,
   "metadata": {},
   "outputs": [],
   "source": [
    "pontes.scaleSerialNumber.nunique()"
   ]
  },
  {
   "cell_type": "code",
   "execution_count": null,
   "metadata": {},
   "outputs": [],
   "source": [
    "pontes.head()"
   ]
  },
  {
   "cell_type": "code",
   "execution_count": null,
   "metadata": {},
   "outputs": [],
   "source": [
    "info_pontes=pontes[['scaleSerialNumber','terminalSerialNumber','scaleCellCount','scaleDataAvailability','timestamp','cell0_serialNumber','cell1_serialNumber','cell2_serialNumber','cell3_serialNumber','cell4_serialNumber','cell5_serialNumber','cell6_serialNumber','cell7_serialNumber']]"
   ]
  },
  {
   "cell_type": "code",
   "execution_count": null,
   "metadata": {
    "scrolled": true
   },
   "outputs": [],
   "source": [
    "info_pontes"
   ]
  },
  {
   "cell_type": "code",
   "execution_count": null,
   "metadata": {},
   "outputs": [],
   "source": [
    "info_pontes[['cell0_serialNumber','cell1_serialNumber','cell2_serialNumber','cell3_serialNumber','cell4_serialNumber','cell5_serialNumber','cell6_serialNumber','cell7_serialNumber']]=info_pontes[['cell0_serialNumber','cell1_serialNumber','cell2_serialNumber','cell3_serialNumber','cell4_serialNumber','cell5_serialNumber','cell6_serialNumber','cell7_serialNumber']].astype(str)"
   ]
  },
  {
   "cell_type": "code",
   "execution_count": null,
   "metadata": {},
   "outputs": [],
   "source": [
    "pontes[pontes['scaleSerialNumber']=='P192100052'].nunique()"
   ]
  },
  {
   "cell_type": "code",
   "execution_count": null,
   "metadata": {},
   "outputs": [],
   "source": [
    "info_pontes"
   ]
  },
  {
   "cell_type": "code",
   "execution_count": null,
   "metadata": {},
   "outputs": [],
   "source": [
    "details_pontes=pd.DataFrame(info_pontes.dtypes, columns=['type'])\n",
    "details_pontes['#Nan']=info_pontes.isnull().sum(axis = 0)\n",
    "details_pontes['#uniques']=info_pontes.nunique()"
   ]
  },
  {
   "cell_type": "code",
   "execution_count": null,
   "metadata": {},
   "outputs": [],
   "source": [
    "details_pontes"
   ]
  },
  {
   "cell_type": "code",
   "execution_count": null,
   "metadata": {},
   "outputs": [],
   "source": [
    "teste=dados[dados['scaleSerialNumber']=='00000000']#.nunique()\n",
    "teste"
   ]
  },
  {
   "cell_type": "code",
   "execution_count": null,
   "metadata": {},
   "outputs": [],
   "source": [
    "teste[teste['scaleGross']==0]#.nunique()"
   ]
  },
  {
   "cell_type": "code",
   "execution_count": null,
   "metadata": {},
   "outputs": [],
   "source": [
    "dados[dados['scaleSerialNumber']=='P192100052'].nunique()"
   ]
  },
  {
   "cell_type": "code",
   "execution_count": null,
   "metadata": {},
   "outputs": [],
   "source": [
    "type(testes)"
   ]
  },
  {
   "cell_type": "code",
   "execution_count": null,
   "metadata": {},
   "outputs": [],
   "source": [
    "dados['scaleSerialNumber'].unique()"
   ]
  },
  {
   "cell_type": "code",
   "execution_count": null,
   "metadata": {},
   "outputs": [],
   "source": [
    "info_pontes['scaleSerialNumber'].unique()"
   ]
  },
  {
   "cell_type": "code",
   "execution_count": null,
   "metadata": {},
   "outputs": [],
   "source": [
    "devices['serialNumber'].unique()"
   ]
  },
  {
   "cell_type": "code",
   "execution_count": null,
   "metadata": {},
   "outputs": [],
   "source": [
    "dados['terminalSerialNumber'].unique()"
   ]
  },
  {
   "cell_type": "code",
   "execution_count": null,
   "metadata": {},
   "outputs": [],
   "source": [
    "info_pontes['terminalSerialNumber'].unique()"
   ]
  },
  {
   "cell_type": "code",
   "execution_count": null,
   "metadata": {},
   "outputs": [],
   "source": [
    "devices['terminalSerialNumber'].unique()"
   ]
  },
  {
   "cell_type": "code",
   "execution_count": null,
   "metadata": {},
   "outputs": [],
   "source": [
    "dados['terminalSerialNumber'].value_counts()"
   ]
  },
  {
   "cell_type": "code",
   "execution_count": null,
   "metadata": {
    "scrolled": true
   },
   "outputs": [],
   "source": [
    "info_pontes.sort_values(['terminalSerialNumber','scaleSerialNumber'])"
   ]
  },
  {
   "cell_type": "code",
   "execution_count": null,
   "metadata": {},
   "outputs": [],
   "source": [
    "info_pontes.groupby(['terminalSerialNumber','scaleSerialNumber']).nunique()"
   ]
  },
  {
   "cell_type": "code",
   "execution_count": null,
   "metadata": {},
   "outputs": [],
   "source": [
    "info_pontes['scaleCellCount'].unique()"
   ]
  },
  {
   "cell_type": "code",
   "execution_count": null,
   "metadata": {
    "scrolled": false
   },
   "outputs": [],
   "source": [
    "devices.groupby(['terminalSerialNumber','serialNumber']).count()"
   ]
  },
  {
   "cell_type": "code",
   "execution_count": null,
   "metadata": {},
   "outputs": [],
   "source": [
    "dados[['terminalSerialNumber']]=dados[['terminalSerialNumber']].astype(str)"
   ]
  },
  {
   "cell_type": "code",
   "execution_count": null,
   "metadata": {},
   "outputs": [],
   "source": [
    "dados[dados['terminalSerialNumber']=='160690']"
   ]
  },
  {
   "cell_type": "code",
   "execution_count": null,
   "metadata": {},
   "outputs": [],
   "source": [
    "devices=pd.read_json('devices_partition1.json')"
   ]
  },
  {
   "cell_type": "code",
   "execution_count": null,
   "metadata": {},
   "outputs": [],
   "source": [
    "devices.nunique()"
   ]
  },
  {
   "cell_type": "code",
   "execution_count": null,
   "metadata": {},
   "outputs": [],
   "source": [
    "devices.columns"
   ]
  },
  {
   "cell_type": "code",
   "execution_count": null,
   "metadata": {},
   "outputs": [],
   "source": [
    "devices['customerCompany'].value_counts()"
   ]
  },
  {
   "cell_type": "code",
   "execution_count": null,
   "metadata": {},
   "outputs": [],
   "source": [
    "devices['subsidiaryCompany'].value_counts()"
   ]
  },
  {
   "cell_type": "code",
   "execution_count": null,
   "metadata": {},
   "outputs": [],
   "source": []
  },
  {
   "cell_type": "code",
   "execution_count": null,
   "metadata": {},
   "outputs": [],
   "source": [
    "286353+1909891"
   ]
  },
  {
   "cell_type": "code",
   "execution_count": null,
   "metadata": {},
   "outputs": [],
   "source": [
    "819343+1376901"
   ]
  },
  {
   "cell_type": "markdown",
   "metadata": {},
   "source": [
    "- claramente as cellid variam a cada pesagem - o verdadeiro id das celulas e o serial number"
   ]
  },
  {
   "cell_type": "code",
   "execution_count": null,
   "metadata": {},
   "outputs": [],
   "source": [
    "dados['scaleSerialNumber'].unique()"
   ]
  },
  {
   "cell_type": "code",
   "execution_count": null,
   "metadata": {},
   "outputs": [],
   "source": [
    "dados['scaleSerialNumber'].value_counts()"
   ]
  },
  {
   "cell_type": "markdown",
   "metadata": {},
   "source": [
    "informaçoes\n",
    "- ha 11 pontes de pesagem"
   ]
  },
  {
   "cell_type": "code",
   "execution_count": null,
   "metadata": {},
   "outputs": [],
   "source": [
    "ponte1=dados[dados['scaleSerialNumber']=='S173004032']"
   ]
  },
  {
   "cell_type": "code",
   "execution_count": null,
   "metadata": {},
   "outputs": [],
   "source": [
    "ponte1.nunique()"
   ]
  },
  {
   "cell_type": "code",
   "execution_count": null,
   "metadata": {},
   "outputs": [],
   "source": [
    "ponte1=dados[dados['scaleSerialNumber']=='S190601092']\n",
    "details=pd.DataFrame(ponte1.nunique(), columns=['#uniques'])\n",
    "details['#Nan']=ponte1.isnull().sum(axis = 0)\n",
    "details"
   ]
  },
  {
   "cell_type": "code",
   "execution_count": null,
   "metadata": {},
   "outputs": [],
   "source": [
    "ponte1[['scaleGross','scaleNet']] = ponte1[['scaleGross','scaleNet']].fillna(value=0)"
   ]
  },
  {
   "cell_type": "code",
   "execution_count": null,
   "metadata": {},
   "outputs": [],
   "source": [
    "ponte1.isnull().sum(axis = 0)"
   ]
  },
  {
   "cell_type": "code",
   "execution_count": null,
   "metadata": {},
   "outputs": [],
   "source": [
    "ponte1.nunique()"
   ]
  },
  {
   "cell_type": "code",
   "execution_count": null,
   "metadata": {},
   "outputs": [],
   "source": [
    "ponte1"
   ]
  },
  {
   "cell_type": "code",
   "execution_count": 55,
   "metadata": {},
   "outputs": [],
   "source": [
    "alarmes=pd.read_json('alarms_partition1.json')"
   ]
  },
  {
   "cell_type": "code",
   "execution_count": 56,
   "metadata": {
    "scrolled": true
   },
   "outputs": [
    {
     "data": {
      "text/html": [
       "<div>\n",
       "<style scoped>\n",
       "    .dataframe tbody tr th:only-of-type {\n",
       "        vertical-align: middle;\n",
       "    }\n",
       "\n",
       "    .dataframe tbody tr th {\n",
       "        vertical-align: top;\n",
       "    }\n",
       "\n",
       "    .dataframe thead th {\n",
       "        text-align: right;\n",
       "    }\n",
       "</style>\n",
       "<table border=\"1\" class=\"dataframe\">\n",
       "  <thead>\n",
       "    <tr style=\"text-align: right;\">\n",
       "      <th></th>\n",
       "      <th>_id</th>\n",
       "      <th>serialNumber</th>\n",
       "      <th>counter</th>\n",
       "      <th>errorContext</th>\n",
       "      <th>errorCode</th>\n",
       "      <th>errorInfo</th>\n",
       "      <th>status</th>\n",
       "      <th>timestamp</th>\n",
       "    </tr>\n",
       "  </thead>\n",
       "  <tbody>\n",
       "    <tr>\n",
       "      <th>0</th>\n",
       "      <td>5cda5e95c34b8da610a5b4e8</td>\n",
       "      <td>S172601482</td>\n",
       "      <td>1</td>\n",
       "      <td>Cell - 99019907</td>\n",
       "      <td>1014</td>\n",
       "      <td>205649.6</td>\n",
       "      <td>MANAGED</td>\n",
       "      <td>2019-05-14 06:21:12</td>\n",
       "    </tr>\n",
       "    <tr>\n",
       "      <th>1</th>\n",
       "      <td>5cda5f5bc34b8d0a1da5b642</td>\n",
       "      <td>S172601482</td>\n",
       "      <td>2</td>\n",
       "      <td>Scale - S172601482</td>\n",
       "      <td>1015</td>\n",
       "      <td>65740 kg</td>\n",
       "      <td>MANAGED</td>\n",
       "      <td>2019-05-14 06:24:30</td>\n",
       "    </tr>\n",
       "    <tr>\n",
       "      <th>2</th>\n",
       "      <td>5cda5f5ec34b8d6a11a5b657</td>\n",
       "      <td>S172601482</td>\n",
       "      <td>3</td>\n",
       "      <td>Cell - 99019907</td>\n",
       "      <td>1014</td>\n",
       "      <td>306416.8</td>\n",
       "      <td>MANAGED</td>\n",
       "      <td>2019-05-14 06:24:31</td>\n",
       "    </tr>\n",
       "    <tr>\n",
       "      <th>3</th>\n",
       "      <td>5cda70ac5cfd9c6881d68747</td>\n",
       "      <td>P191021852</td>\n",
       "      <td>10</td>\n",
       "      <td>Scale - P191021852</td>\n",
       "      <td>1008</td>\n",
       "      <td>None</td>\n",
       "      <td>MANAGED</td>\n",
       "      <td>2019-05-14 07:00:00</td>\n",
       "    </tr>\n",
       "    <tr>\n",
       "      <th>4</th>\n",
       "      <td>5cdd72926866bdda32f82636</td>\n",
       "      <td>S190601082</td>\n",
       "      <td>1</td>\n",
       "      <td>Cell - 99019901</td>\n",
       "      <td>1022</td>\n",
       "      <td>time out</td>\n",
       "      <td>MANAGED</td>\n",
       "      <td>2019-05-16 14:22:21</td>\n",
       "    </tr>\n",
       "    <tr>\n",
       "      <th>...</th>\n",
       "      <td>...</td>\n",
       "      <td>...</td>\n",
       "      <td>...</td>\n",
       "      <td>...</td>\n",
       "      <td>...</td>\n",
       "      <td>...</td>\n",
       "      <td>...</td>\n",
       "      <td>...</td>\n",
       "    </tr>\n",
       "    <tr>\n",
       "      <th>1172</th>\n",
       "      <td>5e0df4a448364d9b2d2ef695</td>\n",
       "      <td>P152708882</td>\n",
       "      <td>1</td>\n",
       "      <td>Cell - 99019901</td>\n",
       "      <td>1001</td>\n",
       "      <td>at power up</td>\n",
       "      <td>MANAGED</td>\n",
       "      <td>2019-12-18 17:02:28</td>\n",
       "    </tr>\n",
       "    <tr>\n",
       "      <th>1173</th>\n",
       "      <td>5e0df4a444b5fb4d34c211b9</td>\n",
       "      <td>P152708882</td>\n",
       "      <td>2</td>\n",
       "      <td>Scale - P152708882</td>\n",
       "      <td>1001</td>\n",
       "      <td>None</td>\n",
       "      <td>MANAGED</td>\n",
       "      <td>2019-12-18 17:02:28</td>\n",
       "    </tr>\n",
       "    <tr>\n",
       "      <th>1174</th>\n",
       "      <td>5e15a255b7b42314f3bfbcca</td>\n",
       "      <td>S190601082</td>\n",
       "      <td>1</td>\n",
       "      <td>Scale - S190601082</td>\n",
       "      <td>1015</td>\n",
       "      <td>76290 kg</td>\n",
       "      <td>MANAGED</td>\n",
       "      <td>2020-01-08 10:29:42</td>\n",
       "    </tr>\n",
       "    <tr>\n",
       "      <th>1175</th>\n",
       "      <td>5e15b245716383fdcc529675</td>\n",
       "      <td>S190601082</td>\n",
       "      <td>1</td>\n",
       "      <td>Scale - S190601082</td>\n",
       "      <td>1015</td>\n",
       "      <td>75940 kg</td>\n",
       "      <td>MANAGED</td>\n",
       "      <td>2020-01-08 11:37:42</td>\n",
       "    </tr>\n",
       "    <tr>\n",
       "      <th>1176</th>\n",
       "      <td>5e15b24e71638344a052967c</td>\n",
       "      <td>S190601082</td>\n",
       "      <td>2</td>\n",
       "      <td>Scale - S190601082</td>\n",
       "      <td>1015</td>\n",
       "      <td>61720 kg</td>\n",
       "      <td>MANAGED</td>\n",
       "      <td>2020-01-08 11:37:51</td>\n",
       "    </tr>\n",
       "  </tbody>\n",
       "</table>\n",
       "<p>1177 rows × 8 columns</p>\n",
       "</div>"
      ],
      "text/plain": [
       "                           _id serialNumber  counter        errorContext  \\\n",
       "0     5cda5e95c34b8da610a5b4e8   S172601482        1     Cell - 99019907   \n",
       "1     5cda5f5bc34b8d0a1da5b642   S172601482        2  Scale - S172601482   \n",
       "2     5cda5f5ec34b8d6a11a5b657   S172601482        3     Cell - 99019907   \n",
       "3     5cda70ac5cfd9c6881d68747   P191021852       10  Scale - P191021852   \n",
       "4     5cdd72926866bdda32f82636   S190601082        1     Cell - 99019901   \n",
       "...                        ...          ...      ...                 ...   \n",
       "1172  5e0df4a448364d9b2d2ef695   P152708882        1     Cell - 99019901   \n",
       "1173  5e0df4a444b5fb4d34c211b9   P152708882        2  Scale - P152708882   \n",
       "1174  5e15a255b7b42314f3bfbcca   S190601082        1  Scale - S190601082   \n",
       "1175  5e15b245716383fdcc529675   S190601082        1  Scale - S190601082   \n",
       "1176  5e15b24e71638344a052967c   S190601082        2  Scale - S190601082   \n",
       "\n",
       "      errorCode    errorInfo   status           timestamp  \n",
       "0          1014     205649.6  MANAGED 2019-05-14 06:21:12  \n",
       "1          1015     65740 kg  MANAGED 2019-05-14 06:24:30  \n",
       "2          1014     306416.8  MANAGED 2019-05-14 06:24:31  \n",
       "3          1008         None  MANAGED 2019-05-14 07:00:00  \n",
       "4          1022     time out  MANAGED 2019-05-16 14:22:21  \n",
       "...         ...          ...      ...                 ...  \n",
       "1172       1001  at power up  MANAGED 2019-12-18 17:02:28  \n",
       "1173       1001         None  MANAGED 2019-12-18 17:02:28  \n",
       "1174       1015     76290 kg  MANAGED 2020-01-08 10:29:42  \n",
       "1175       1015     75940 kg  MANAGED 2020-01-08 11:37:42  \n",
       "1176       1015     61720 kg  MANAGED 2020-01-08 11:37:51  \n",
       "\n",
       "[1177 rows x 8 columns]"
      ]
     },
     "execution_count": 56,
     "metadata": {},
     "output_type": "execute_result"
    }
   ],
   "source": [
    "alarmes"
   ]
  },
  {
   "cell_type": "code",
   "execution_count": null,
   "metadata": {},
   "outputs": [],
   "source": [
    "alarmes['errorCode'].nunique()"
   ]
  },
  {
   "cell_type": "code",
   "execution_count": null,
   "metadata": {},
   "outputs": [],
   "source": [
    "alarmes['serialNumber'].nunique()"
   ]
  },
  {
   "cell_type": "code",
   "execution_count": null,
   "metadata": {},
   "outputs": [],
   "source": [
    "devices['serialNumber'].unique()"
   ]
  },
  {
   "cell_type": "code",
   "execution_count": null,
   "metadata": {},
   "outputs": [],
   "source": [
    "devices"
   ]
  },
  {
   "cell_type": "markdown",
   "metadata": {},
   "source": [
    "## shortcut"
   ]
  },
  {
   "cell_type": "code",
   "execution_count": null,
   "metadata": {},
   "outputs": [],
   "source": [
    "alarmes=pd.read_json('alarms_partition1.json')"
   ]
  },
  {
   "cell_type": "code",
   "execution_count": null,
   "metadata": {},
   "outputs": [],
   "source": [
    "devices=pd.read_json('devices_partition1.json')"
   ]
  },
  {
   "cell_type": "code",
   "execution_count": null,
   "metadata": {},
   "outputs": [],
   "source": [
    "pontes=pd.read_json('devicesinfos_partition1.json')\n",
    "info_pontes=pontes[['scaleSerialNumber','terminalSerialNumber','scaleCellCount','scaleDataAvailability','timestamp','cell0_serialNumber','cell1_serialNumber','cell2_serialNumber','cell3_serialNumber','cell4_serialNumber','cell5_serialNumber','cell6_serialNumber','cell7_serialNumber']]\n",
    "info_pontes[['cell0_serialNumber','cell1_serialNumber','cell2_serialNumber','cell3_serialNumber','cell4_serialNumber','cell5_serialNumber','cell6_serialNumber','cell7_serialNumber']]=info_pontes[['cell0_serialNumber','cell1_serialNumber','cell2_serialNumber','cell3_serialNumber','cell4_serialNumber','cell5_serialNumber','cell6_serialNumber','cell7_serialNumber']].astype(str)"
   ]
  },
  {
   "cell_type": "code",
   "execution_count": null,
   "metadata": {},
   "outputs": [],
   "source": [
    "dados2=pd.read_csv('all_weighings_full_cleaned.csv').drop(['Unnamed: 0'],axis=1)"
   ]
  },
  {
   "cell_type": "code",
   "execution_count": null,
   "metadata": {},
   "outputs": [],
   "source": [
    "dados2.head()"
   ]
  },
  {
   "cell_type": "markdown",
   "metadata": {},
   "source": [
    "# Analise ao device, sem importar quem o usa"
   ]
  },
  {
   "cell_type": "code",
   "execution_count": null,
   "metadata": {},
   "outputs": [],
   "source": [
    "dados=pd.read_csv('all_weighings_full_cleaned_w_cell0.csv')"
   ]
  },
  {
   "cell_type": "code",
   "execution_count": null,
   "metadata": {},
   "outputs": [],
   "source": [
    "dados['scaleSerialNumber'].value_counts()"
   ]
  },
  {
   "cell_type": "code",
   "execution_count": null,
   "metadata": {},
   "outputs": [],
   "source": [
    "dados.to_csv('all_weighings_full_cleaned_w_cell0.csv')"
   ]
  },
  {
   "cell_type": "code",
   "execution_count": 47,
   "metadata": {},
   "outputs": [],
   "source": [
    "dados2=dados[dados['cellSerialNumber_0']!='0']"
   ]
  },
  {
   "cell_type": "code",
   "execution_count": null,
   "metadata": {},
   "outputs": [],
   "source": [
    "dados2['scaleSerialNumber'].value_counts()"
   ]
  },
  {
   "cell_type": "code",
   "execution_count": null,
   "metadata": {},
   "outputs": [],
   "source": [
    "dados2.to_csv('all_weighings_full_cleaned.csv')"
   ]
  },
  {
   "cell_type": "markdown",
   "metadata": {},
   "source": [
    "# 124"
   ]
  },
  {
   "cell_type": "code",
   "execution_count": null,
   "metadata": {},
   "outputs": [],
   "source": [
    "focus=dados[dados['scaleSerialNumber']=='P124303992']"
   ]
  },
  {
   "cell_type": "code",
   "execution_count": null,
   "metadata": {},
   "outputs": [],
   "source": [
    "focus.terminalSerialNumber.unique()"
   ]
  },
  {
   "cell_type": "code",
   "execution_count": null,
   "metadata": {},
   "outputs": [],
   "source": [
    "focus['terminalSerialNumber'].value_counts()"
   ]
  },
  {
   "cell_type": "code",
   "execution_count": null,
   "metadata": {},
   "outputs": [],
   "source": [
    "focus2=focus[focus['terminalSerialNumber']=='SN00000050']"
   ]
  },
  {
   "cell_type": "code",
   "execution_count": null,
   "metadata": {},
   "outputs": [],
   "source": [
    "info_pontes[info_pontes['scaleSerialNumber']=='P124303992']"
   ]
  },
  {
   "cell_type": "code",
   "execution_count": null,
   "metadata": {},
   "outputs": [],
   "source": [
    "details_124=pd.DataFrame(focus.dtypes, columns=['type'])\n",
    "details_124['#Nan']=focus.isnull().sum(axis = 0)\n",
    "details_124['#uniques']=focus.nunique()\n",
    "details_124"
   ]
  },
  {
   "cell_type": "code",
   "execution_count": null,
   "metadata": {},
   "outputs": [],
   "source": [
    "focus['cellSerialNumber_0'].unique()"
   ]
  },
  {
   "cell_type": "code",
   "execution_count": null,
   "metadata": {},
   "outputs": [],
   "source": [
    "focus2['cellSerialNumber_0'].unique()"
   ]
  },
  {
   "cell_type": "code",
   "execution_count": null,
   "metadata": {},
   "outputs": [],
   "source": [
    "focus['cellSerialNumber_1'].unique()"
   ]
  },
  {
   "cell_type": "code",
   "execution_count": null,
   "metadata": {},
   "outputs": [],
   "source": [
    "focus2['cellSerialNumber_1'].unique()"
   ]
  },
  {
   "cell_type": "code",
   "execution_count": null,
   "metadata": {},
   "outputs": [],
   "source": [
    "focus['cellSerialNumber_2'].unique()"
   ]
  },
  {
   "cell_type": "code",
   "execution_count": null,
   "metadata": {},
   "outputs": [],
   "source": [
    "focus2['cellSerialNumber_2'].unique()"
   ]
  },
  {
   "cell_type": "code",
   "execution_count": null,
   "metadata": {},
   "outputs": [],
   "source": [
    "focus2.sort_values(['cellSerialNumber_0','cellSerialNumber_1','cellSerialNumber_2']).set_index('cellSerialNumber_0')"
   ]
  },
  {
   "cell_type": "code",
   "execution_count": null,
   "metadata": {},
   "outputs": [],
   "source": [
    "focus2.groupby(['cellSerialNumber_0','cellSerialNumber_1','cellSerialNumber_2']).count()"
   ]
  },
  {
   "cell_type": "code",
   "execution_count": null,
   "metadata": {},
   "outputs": [],
   "source": [
    "focus.groupby(['cellSerialNumber_0','cellSerialNumber_1','cellSerialNumber_2']).count()"
   ]
  },
  {
   "cell_type": "markdown",
   "metadata": {},
   "source": [
    "notas:\n",
    "- o serial p124 com terminal 'SN000025' em vez de 'SN00000050' - que e o reconhecido na info, tem todas as celuulas a null\n",
    "- a info determina que o p124 tem 3 celulas. efetivamnet,e so a ate 3 valores unicos de celulas, ou seja, apenas ha uma ponte do tipo 124??\n",
    "- de entre as 3 celulas unicas, verifica-se que apenas 305 ocorrencias tem as 3 celulas. e parece que em 62780 ocorrencias a celula 0 falhou\n",
    "- assume se que a contagem começa sempre da 0 e se alguma falha, o numero e antecedido"
   ]
  },
  {
   "cell_type": "markdown",
   "metadata": {},
   "source": [
    "# 191"
   ]
  },
  {
   "cell_type": "code",
   "execution_count": 48,
   "metadata": {},
   "outputs": [],
   "source": [
    "focus=dados2[dados2['scaleSerialNumber']=='P191021852']"
   ]
  },
  {
   "cell_type": "code",
   "execution_count": 49,
   "metadata": {},
   "outputs": [
    {
     "data": {
      "text/plain": [
       "(298789, 22)"
      ]
     },
     "execution_count": 49,
     "metadata": {},
     "output_type": "execute_result"
    }
   ],
   "source": [
    "focus.shape"
   ]
  },
  {
   "cell_type": "code",
   "execution_count": null,
   "metadata": {},
   "outputs": [],
   "source": [
    "info_pontes[info_pontes['scaleSerialNumber']=='P191021852']"
   ]
  },
  {
   "cell_type": "code",
   "execution_count": null,
   "metadata": {},
   "outputs": [],
   "source": [
    "devices[devices['serialNumber']=='P191021852']"
   ]
  },
  {
   "cell_type": "code",
   "execution_count": null,
   "metadata": {},
   "outputs": [],
   "source": [
    "erros_ponte=alarmes[alarmes['serialNumber']=='P191021852']\n",
    "print('scale board replacement')\n",
    "erros_ponte"
   ]
  },
  {
   "cell_type": "code",
   "execution_count": null,
   "metadata": {},
   "outputs": [],
   "source": []
  },
  {
   "cell_type": "code",
   "execution_count": 50,
   "metadata": {},
   "outputs": [
    {
     "data": {
      "text/plain": [
       "array(['160690'], dtype=object)"
      ]
     },
     "execution_count": 50,
     "metadata": {},
     "output_type": "execute_result"
    }
   ],
   "source": [
    "focus.terminalSerialNumber.unique()"
   ]
  },
  {
   "cell_type": "code",
   "execution_count": null,
   "metadata": {},
   "outputs": [],
   "source": [
    "details_191=pd.DataFrame(focus.dtypes, columns=['type'])\n",
    "details_191['#uniques']=focus.nunique()\n",
    "details_191"
   ]
  },
  {
   "cell_type": "code",
   "execution_count": null,
   "metadata": {},
   "outputs": [],
   "source": []
  },
  {
   "cell_type": "code",
   "execution_count": 52,
   "metadata": {
    "scrolled": true
   },
   "outputs": [],
   "source": [
    "avaliar=focus.groupby(['cellSerialNumber_0','cellSerialNumber_1','cellSerialNumber_2','cellSerialNumber_3','cellSerialNumber_4','cellSerialNumber_5','cellSerialNumber_6','cellSerialNumber_7']).count()"
   ]
  },
  {
   "cell_type": "code",
   "execution_count": null,
   "metadata": {},
   "outputs": [],
   "source": [
    "avaliar"
   ]
  },
  {
   "cell_type": "code",
   "execution_count": 53,
   "metadata": {},
   "outputs": [],
   "source": [
    "ocorrencias=avaliar.sort_values(['cellSerialNumber_7','cellSerialNumber_6','cellSerialNumber_5','cellSerialNumber_4','cellSerialNumber_3','cellSerialNumber_2','cellSerialNumber_1','cellSerialNumber_0'],ascending=False)"
   ]
  },
  {
   "cell_type": "code",
   "execution_count": 54,
   "metadata": {
    "scrolled": false
   },
   "outputs": [
    {
     "data": {
      "text/html": [
       "<div>\n",
       "<style scoped>\n",
       "    .dataframe tbody tr th:only-of-type {\n",
       "        vertical-align: middle;\n",
       "    }\n",
       "\n",
       "    .dataframe tbody tr th {\n",
       "        vertical-align: top;\n",
       "    }\n",
       "\n",
       "    .dataframe thead th {\n",
       "        text-align: right;\n",
       "    }\n",
       "</style>\n",
       "<table border=\"1\" class=\"dataframe\">\n",
       "  <thead>\n",
       "    <tr style=\"text-align: right;\">\n",
       "      <th></th>\n",
       "      <th></th>\n",
       "      <th></th>\n",
       "      <th></th>\n",
       "      <th></th>\n",
       "      <th></th>\n",
       "      <th></th>\n",
       "      <th></th>\n",
       "      <th>_id</th>\n",
       "      <th>timestamp</th>\n",
       "      <th>terminalSerialNumber</th>\n",
       "      <th>scaleSerialNumber</th>\n",
       "      <th>scaleGross</th>\n",
       "      <th>scaleNet</th>\n",
       "      <th>cellWeight_0</th>\n",
       "      <th>cellWeight_1</th>\n",
       "      <th>cellWeight_2</th>\n",
       "      <th>cellWeight_3</th>\n",
       "      <th>cellWeight_4</th>\n",
       "      <th>cellWeight_5</th>\n",
       "      <th>cellWeight_6</th>\n",
       "      <th>cellWeight_7</th>\n",
       "    </tr>\n",
       "    <tr>\n",
       "      <th>cellSerialNumber_0</th>\n",
       "      <th>cellSerialNumber_1</th>\n",
       "      <th>cellSerialNumber_2</th>\n",
       "      <th>cellSerialNumber_3</th>\n",
       "      <th>cellSerialNumber_4</th>\n",
       "      <th>cellSerialNumber_5</th>\n",
       "      <th>cellSerialNumber_6</th>\n",
       "      <th>cellSerialNumber_7</th>\n",
       "      <th></th>\n",
       "      <th></th>\n",
       "      <th></th>\n",
       "      <th></th>\n",
       "      <th></th>\n",
       "      <th></th>\n",
       "      <th></th>\n",
       "      <th></th>\n",
       "      <th></th>\n",
       "      <th></th>\n",
       "      <th></th>\n",
       "      <th></th>\n",
       "      <th></th>\n",
       "      <th></th>\n",
       "    </tr>\n",
       "  </thead>\n",
       "  <tbody>\n",
       "    <tr>\n",
       "      <th rowspan=\"4\" valign=\"top\">7450332</th>\n",
       "      <th rowspan=\"4\" valign=\"top\">7450333</th>\n",
       "      <th rowspan=\"4\" valign=\"top\">7450339</th>\n",
       "      <th rowspan=\"4\" valign=\"top\">7450340</th>\n",
       "      <th rowspan=\"3\" valign=\"top\">7450338</th>\n",
       "      <th rowspan=\"2\" valign=\"top\">7450337</th>\n",
       "      <th>7450336</th>\n",
       "      <th>7450341</th>\n",
       "      <td>72502</td>\n",
       "      <td>72502</td>\n",
       "      <td>72502</td>\n",
       "      <td>72502</td>\n",
       "      <td>72502</td>\n",
       "      <td>72502</td>\n",
       "      <td>72502</td>\n",
       "      <td>72502</td>\n",
       "      <td>72502</td>\n",
       "      <td>72502</td>\n",
       "      <td>72502</td>\n",
       "      <td>72502</td>\n",
       "      <td>72502</td>\n",
       "      <td>72502</td>\n",
       "    </tr>\n",
       "    <tr>\n",
       "      <th>7450341</th>\n",
       "      <th>0</th>\n",
       "      <td>1103</td>\n",
       "      <td>1103</td>\n",
       "      <td>1103</td>\n",
       "      <td>1103</td>\n",
       "      <td>1103</td>\n",
       "      <td>1103</td>\n",
       "      <td>1103</td>\n",
       "      <td>1103</td>\n",
       "      <td>1103</td>\n",
       "      <td>1103</td>\n",
       "      <td>1103</td>\n",
       "      <td>1103</td>\n",
       "      <td>1103</td>\n",
       "      <td>1103</td>\n",
       "    </tr>\n",
       "    <tr>\n",
       "      <th>7450336</th>\n",
       "      <th>7450341</th>\n",
       "      <th>0</th>\n",
       "      <td>75</td>\n",
       "      <td>75</td>\n",
       "      <td>75</td>\n",
       "      <td>75</td>\n",
       "      <td>75</td>\n",
       "      <td>75</td>\n",
       "      <td>75</td>\n",
       "      <td>75</td>\n",
       "      <td>75</td>\n",
       "      <td>75</td>\n",
       "      <td>75</td>\n",
       "      <td>75</td>\n",
       "      <td>75</td>\n",
       "      <td>75</td>\n",
       "    </tr>\n",
       "    <tr>\n",
       "      <th>7450337</th>\n",
       "      <th>7450336</th>\n",
       "      <th>7450341</th>\n",
       "      <th>0</th>\n",
       "      <td>172</td>\n",
       "      <td>172</td>\n",
       "      <td>172</td>\n",
       "      <td>172</td>\n",
       "      <td>172</td>\n",
       "      <td>172</td>\n",
       "      <td>172</td>\n",
       "      <td>172</td>\n",
       "      <td>172</td>\n",
       "      <td>172</td>\n",
       "      <td>172</td>\n",
       "      <td>172</td>\n",
       "      <td>172</td>\n",
       "      <td>172</td>\n",
       "    </tr>\n",
       "    <tr>\n",
       "      <th>7450333</th>\n",
       "      <th>7450339</th>\n",
       "      <th>7450340</th>\n",
       "      <th>7450338</th>\n",
       "      <th>7450337</th>\n",
       "      <th>7450336</th>\n",
       "      <th>7450341</th>\n",
       "      <th>0</th>\n",
       "      <td>1064</td>\n",
       "      <td>1064</td>\n",
       "      <td>1064</td>\n",
       "      <td>1064</td>\n",
       "      <td>1064</td>\n",
       "      <td>1064</td>\n",
       "      <td>1064</td>\n",
       "      <td>1064</td>\n",
       "      <td>1064</td>\n",
       "      <td>1064</td>\n",
       "      <td>1064</td>\n",
       "      <td>1064</td>\n",
       "      <td>1064</td>\n",
       "      <td>1064</td>\n",
       "    </tr>\n",
       "    <tr>\n",
       "      <th>...</th>\n",
       "      <th>...</th>\n",
       "      <th>...</th>\n",
       "      <th>...</th>\n",
       "      <th>...</th>\n",
       "      <th>...</th>\n",
       "      <th>...</th>\n",
       "      <th>...</th>\n",
       "      <td>...</td>\n",
       "      <td>...</td>\n",
       "      <td>...</td>\n",
       "      <td>...</td>\n",
       "      <td>...</td>\n",
       "      <td>...</td>\n",
       "      <td>...</td>\n",
       "      <td>...</td>\n",
       "      <td>...</td>\n",
       "      <td>...</td>\n",
       "      <td>...</td>\n",
       "      <td>...</td>\n",
       "      <td>...</td>\n",
       "      <td>...</td>\n",
       "    </tr>\n",
       "    <tr>\n",
       "      <th rowspan=\"2\" valign=\"top\">7450332</th>\n",
       "      <th rowspan=\"2\" valign=\"top\">7450333</th>\n",
       "      <th>7450340</th>\n",
       "      <th>7450341</th>\n",
       "      <th>0</th>\n",
       "      <th>0</th>\n",
       "      <th>0</th>\n",
       "      <th>0</th>\n",
       "      <td>12</td>\n",
       "      <td>12</td>\n",
       "      <td>12</td>\n",
       "      <td>12</td>\n",
       "      <td>12</td>\n",
       "      <td>12</td>\n",
       "      <td>12</td>\n",
       "      <td>12</td>\n",
       "      <td>12</td>\n",
       "      <td>12</td>\n",
       "      <td>12</td>\n",
       "      <td>12</td>\n",
       "      <td>12</td>\n",
       "      <td>12</td>\n",
       "    </tr>\n",
       "    <tr>\n",
       "      <th>7450339</th>\n",
       "      <th>7450341</th>\n",
       "      <th>0</th>\n",
       "      <th>0</th>\n",
       "      <th>0</th>\n",
       "      <th>0</th>\n",
       "      <td>27</td>\n",
       "      <td>27</td>\n",
       "      <td>27</td>\n",
       "      <td>27</td>\n",
       "      <td>27</td>\n",
       "      <td>27</td>\n",
       "      <td>27</td>\n",
       "      <td>27</td>\n",
       "      <td>27</td>\n",
       "      <td>27</td>\n",
       "      <td>27</td>\n",
       "      <td>27</td>\n",
       "      <td>27</td>\n",
       "      <td>27</td>\n",
       "    </tr>\n",
       "    <tr>\n",
       "      <th>7450339</th>\n",
       "      <th>7450340</th>\n",
       "      <th>7450338</th>\n",
       "      <th>7450341</th>\n",
       "      <th>0</th>\n",
       "      <th>0</th>\n",
       "      <th>0</th>\n",
       "      <th>0</th>\n",
       "      <td>188</td>\n",
       "      <td>188</td>\n",
       "      <td>188</td>\n",
       "      <td>188</td>\n",
       "      <td>188</td>\n",
       "      <td>188</td>\n",
       "      <td>188</td>\n",
       "      <td>188</td>\n",
       "      <td>188</td>\n",
       "      <td>188</td>\n",
       "      <td>188</td>\n",
       "      <td>188</td>\n",
       "      <td>188</td>\n",
       "      <td>188</td>\n",
       "    </tr>\n",
       "    <tr>\n",
       "      <th>7450333</th>\n",
       "      <th>7450340</th>\n",
       "      <th>7450338</th>\n",
       "      <th>7450341</th>\n",
       "      <th>0</th>\n",
       "      <th>0</th>\n",
       "      <th>0</th>\n",
       "      <th>0</th>\n",
       "      <td>49</td>\n",
       "      <td>49</td>\n",
       "      <td>49</td>\n",
       "      <td>49</td>\n",
       "      <td>49</td>\n",
       "      <td>49</td>\n",
       "      <td>49</td>\n",
       "      <td>49</td>\n",
       "      <td>49</td>\n",
       "      <td>49</td>\n",
       "      <td>49</td>\n",
       "      <td>49</td>\n",
       "      <td>49</td>\n",
       "      <td>49</td>\n",
       "    </tr>\n",
       "    <tr>\n",
       "      <th>7450332</th>\n",
       "      <th>7450340</th>\n",
       "      <th>7450338</th>\n",
       "      <th>7450341</th>\n",
       "      <th>0</th>\n",
       "      <th>0</th>\n",
       "      <th>0</th>\n",
       "      <th>0</th>\n",
       "      <td>30</td>\n",
       "      <td>30</td>\n",
       "      <td>30</td>\n",
       "      <td>30</td>\n",
       "      <td>30</td>\n",
       "      <td>30</td>\n",
       "      <td>30</td>\n",
       "      <td>30</td>\n",
       "      <td>30</td>\n",
       "      <td>30</td>\n",
       "      <td>30</td>\n",
       "      <td>30</td>\n",
       "      <td>30</td>\n",
       "      <td>30</td>\n",
       "    </tr>\n",
       "  </tbody>\n",
       "</table>\n",
       "<p>100 rows × 14 columns</p>\n",
       "</div>"
      ],
      "text/plain": [
       "                                                                                                                                                           _id  \\\n",
       "cellSerialNumber_0 cellSerialNumber_1 cellSerialNumber_2 cellSerialNumber_3 cellSerialNumber_4 cellSerialNumber_5 cellSerialNumber_6 cellSerialNumber_7          \n",
       "7450332            7450333            7450339            7450340            7450338            7450337            7450336            7450341             72502   \n",
       "                                                                                                                  7450341            0                    1103   \n",
       "                                                                                               7450336            7450341            0                      75   \n",
       "                                                                            7450337            7450336            7450341            0                     172   \n",
       "7450333            7450339            7450340            7450338            7450337            7450336            7450341            0                    1064   \n",
       "...                                                                                                                                                        ...   \n",
       "7450332            7450333            7450340            7450341            0                  0                  0                  0                      12   \n",
       "                                      7450339            7450341            0                  0                  0                  0                      27   \n",
       "7450339            7450340            7450338            7450341            0                  0                  0                  0                     188   \n",
       "7450333            7450340            7450338            7450341            0                  0                  0                  0                      49   \n",
       "7450332            7450340            7450338            7450341            0                  0                  0                  0                      30   \n",
       "\n",
       "                                                                                                                                                         timestamp  \\\n",
       "cellSerialNumber_0 cellSerialNumber_1 cellSerialNumber_2 cellSerialNumber_3 cellSerialNumber_4 cellSerialNumber_5 cellSerialNumber_6 cellSerialNumber_7              \n",
       "7450332            7450333            7450339            7450340            7450338            7450337            7450336            7450341                 72502   \n",
       "                                                                                                                  7450341            0                        1103   \n",
       "                                                                                               7450336            7450341            0                          75   \n",
       "                                                                            7450337            7450336            7450341            0                         172   \n",
       "7450333            7450339            7450340            7450338            7450337            7450336            7450341            0                        1064   \n",
       "...                                                                                                                                                            ...   \n",
       "7450332            7450333            7450340            7450341            0                  0                  0                  0                          12   \n",
       "                                      7450339            7450341            0                  0                  0                  0                          27   \n",
       "7450339            7450340            7450338            7450341            0                  0                  0                  0                         188   \n",
       "7450333            7450340            7450338            7450341            0                  0                  0                  0                          49   \n",
       "7450332            7450340            7450338            7450341            0                  0                  0                  0                          30   \n",
       "\n",
       "                                                                                                                                                         terminalSerialNumber  \\\n",
       "cellSerialNumber_0 cellSerialNumber_1 cellSerialNumber_2 cellSerialNumber_3 cellSerialNumber_4 cellSerialNumber_5 cellSerialNumber_6 cellSerialNumber_7                         \n",
       "7450332            7450333            7450339            7450340            7450338            7450337            7450336            7450341                            72502   \n",
       "                                                                                                                  7450341            0                                   1103   \n",
       "                                                                                               7450336            7450341            0                                     75   \n",
       "                                                                            7450337            7450336            7450341            0                                    172   \n",
       "7450333            7450339            7450340            7450338            7450337            7450336            7450341            0                                   1064   \n",
       "...                                                                                                                                                                       ...   \n",
       "7450332            7450333            7450340            7450341            0                  0                  0                  0                                     12   \n",
       "                                      7450339            7450341            0                  0                  0                  0                                     27   \n",
       "7450339            7450340            7450338            7450341            0                  0                  0                  0                                    188   \n",
       "7450333            7450340            7450338            7450341            0                  0                  0                  0                                     49   \n",
       "7450332            7450340            7450338            7450341            0                  0                  0                  0                                     30   \n",
       "\n",
       "                                                                                                                                                         scaleSerialNumber  \\\n",
       "cellSerialNumber_0 cellSerialNumber_1 cellSerialNumber_2 cellSerialNumber_3 cellSerialNumber_4 cellSerialNumber_5 cellSerialNumber_6 cellSerialNumber_7                      \n",
       "7450332            7450333            7450339            7450340            7450338            7450337            7450336            7450341                         72502   \n",
       "                                                                                                                  7450341            0                                1103   \n",
       "                                                                                               7450336            7450341            0                                  75   \n",
       "                                                                            7450337            7450336            7450341            0                                 172   \n",
       "7450333            7450339            7450340            7450338            7450337            7450336            7450341            0                                1064   \n",
       "...                                                                                                                                                                    ...   \n",
       "7450332            7450333            7450340            7450341            0                  0                  0                  0                                  12   \n",
       "                                      7450339            7450341            0                  0                  0                  0                                  27   \n",
       "7450339            7450340            7450338            7450341            0                  0                  0                  0                                 188   \n",
       "7450333            7450340            7450338            7450341            0                  0                  0                  0                                  49   \n",
       "7450332            7450340            7450338            7450341            0                  0                  0                  0                                  30   \n",
       "\n",
       "                                                                                                                                                         scaleGross  \\\n",
       "cellSerialNumber_0 cellSerialNumber_1 cellSerialNumber_2 cellSerialNumber_3 cellSerialNumber_4 cellSerialNumber_5 cellSerialNumber_6 cellSerialNumber_7               \n",
       "7450332            7450333            7450339            7450340            7450338            7450337            7450336            7450341                  72502   \n",
       "                                                                                                                  7450341            0                         1103   \n",
       "                                                                                               7450336            7450341            0                           75   \n",
       "                                                                            7450337            7450336            7450341            0                          172   \n",
       "7450333            7450339            7450340            7450338            7450337            7450336            7450341            0                         1064   \n",
       "...                                                                                                                                                             ...   \n",
       "7450332            7450333            7450340            7450341            0                  0                  0                  0                           12   \n",
       "                                      7450339            7450341            0                  0                  0                  0                           27   \n",
       "7450339            7450340            7450338            7450341            0                  0                  0                  0                          188   \n",
       "7450333            7450340            7450338            7450341            0                  0                  0                  0                           49   \n",
       "7450332            7450340            7450338            7450341            0                  0                  0                  0                           30   \n",
       "\n",
       "                                                                                                                                                         scaleNet  \\\n",
       "cellSerialNumber_0 cellSerialNumber_1 cellSerialNumber_2 cellSerialNumber_3 cellSerialNumber_4 cellSerialNumber_5 cellSerialNumber_6 cellSerialNumber_7             \n",
       "7450332            7450333            7450339            7450340            7450338            7450337            7450336            7450341                72502   \n",
       "                                                                                                                  7450341            0                       1103   \n",
       "                                                                                               7450336            7450341            0                         75   \n",
       "                                                                            7450337            7450336            7450341            0                        172   \n",
       "7450333            7450339            7450340            7450338            7450337            7450336            7450341            0                       1064   \n",
       "...                                                                                                                                                           ...   \n",
       "7450332            7450333            7450340            7450341            0                  0                  0                  0                         12   \n",
       "                                      7450339            7450341            0                  0                  0                  0                         27   \n",
       "7450339            7450340            7450338            7450341            0                  0                  0                  0                        188   \n",
       "7450333            7450340            7450338            7450341            0                  0                  0                  0                         49   \n",
       "7450332            7450340            7450338            7450341            0                  0                  0                  0                         30   \n",
       "\n",
       "                                                                                                                                                         cellWeight_0  \\\n",
       "cellSerialNumber_0 cellSerialNumber_1 cellSerialNumber_2 cellSerialNumber_3 cellSerialNumber_4 cellSerialNumber_5 cellSerialNumber_6 cellSerialNumber_7                 \n",
       "7450332            7450333            7450339            7450340            7450338            7450337            7450336            7450341                    72502   \n",
       "                                                                                                                  7450341            0                           1103   \n",
       "                                                                                               7450336            7450341            0                             75   \n",
       "                                                                            7450337            7450336            7450341            0                            172   \n",
       "7450333            7450339            7450340            7450338            7450337            7450336            7450341            0                           1064   \n",
       "...                                                                                                                                                               ...   \n",
       "7450332            7450333            7450340            7450341            0                  0                  0                  0                             12   \n",
       "                                      7450339            7450341            0                  0                  0                  0                             27   \n",
       "7450339            7450340            7450338            7450341            0                  0                  0                  0                            188   \n",
       "7450333            7450340            7450338            7450341            0                  0                  0                  0                             49   \n",
       "7450332            7450340            7450338            7450341            0                  0                  0                  0                             30   \n",
       "\n",
       "                                                                                                                                                         cellWeight_1  \\\n",
       "cellSerialNumber_0 cellSerialNumber_1 cellSerialNumber_2 cellSerialNumber_3 cellSerialNumber_4 cellSerialNumber_5 cellSerialNumber_6 cellSerialNumber_7                 \n",
       "7450332            7450333            7450339            7450340            7450338            7450337            7450336            7450341                    72502   \n",
       "                                                                                                                  7450341            0                           1103   \n",
       "                                                                                               7450336            7450341            0                             75   \n",
       "                                                                            7450337            7450336            7450341            0                            172   \n",
       "7450333            7450339            7450340            7450338            7450337            7450336            7450341            0                           1064   \n",
       "...                                                                                                                                                               ...   \n",
       "7450332            7450333            7450340            7450341            0                  0                  0                  0                             12   \n",
       "                                      7450339            7450341            0                  0                  0                  0                             27   \n",
       "7450339            7450340            7450338            7450341            0                  0                  0                  0                            188   \n",
       "7450333            7450340            7450338            7450341            0                  0                  0                  0                             49   \n",
       "7450332            7450340            7450338            7450341            0                  0                  0                  0                             30   \n",
       "\n",
       "                                                                                                                                                         cellWeight_2  \\\n",
       "cellSerialNumber_0 cellSerialNumber_1 cellSerialNumber_2 cellSerialNumber_3 cellSerialNumber_4 cellSerialNumber_5 cellSerialNumber_6 cellSerialNumber_7                 \n",
       "7450332            7450333            7450339            7450340            7450338            7450337            7450336            7450341                    72502   \n",
       "                                                                                                                  7450341            0                           1103   \n",
       "                                                                                               7450336            7450341            0                             75   \n",
       "                                                                            7450337            7450336            7450341            0                            172   \n",
       "7450333            7450339            7450340            7450338            7450337            7450336            7450341            0                           1064   \n",
       "...                                                                                                                                                               ...   \n",
       "7450332            7450333            7450340            7450341            0                  0                  0                  0                             12   \n",
       "                                      7450339            7450341            0                  0                  0                  0                             27   \n",
       "7450339            7450340            7450338            7450341            0                  0                  0                  0                            188   \n",
       "7450333            7450340            7450338            7450341            0                  0                  0                  0                             49   \n",
       "7450332            7450340            7450338            7450341            0                  0                  0                  0                             30   \n",
       "\n",
       "                                                                                                                                                         cellWeight_3  \\\n",
       "cellSerialNumber_0 cellSerialNumber_1 cellSerialNumber_2 cellSerialNumber_3 cellSerialNumber_4 cellSerialNumber_5 cellSerialNumber_6 cellSerialNumber_7                 \n",
       "7450332            7450333            7450339            7450340            7450338            7450337            7450336            7450341                    72502   \n",
       "                                                                                                                  7450341            0                           1103   \n",
       "                                                                                               7450336            7450341            0                             75   \n",
       "                                                                            7450337            7450336            7450341            0                            172   \n",
       "7450333            7450339            7450340            7450338            7450337            7450336            7450341            0                           1064   \n",
       "...                                                                                                                                                               ...   \n",
       "7450332            7450333            7450340            7450341            0                  0                  0                  0                             12   \n",
       "                                      7450339            7450341            0                  0                  0                  0                             27   \n",
       "7450339            7450340            7450338            7450341            0                  0                  0                  0                            188   \n",
       "7450333            7450340            7450338            7450341            0                  0                  0                  0                             49   \n",
       "7450332            7450340            7450338            7450341            0                  0                  0                  0                             30   \n",
       "\n",
       "                                                                                                                                                         cellWeight_4  \\\n",
       "cellSerialNumber_0 cellSerialNumber_1 cellSerialNumber_2 cellSerialNumber_3 cellSerialNumber_4 cellSerialNumber_5 cellSerialNumber_6 cellSerialNumber_7                 \n",
       "7450332            7450333            7450339            7450340            7450338            7450337            7450336            7450341                    72502   \n",
       "                                                                                                                  7450341            0                           1103   \n",
       "                                                                                               7450336            7450341            0                             75   \n",
       "                                                                            7450337            7450336            7450341            0                            172   \n",
       "7450333            7450339            7450340            7450338            7450337            7450336            7450341            0                           1064   \n",
       "...                                                                                                                                                               ...   \n",
       "7450332            7450333            7450340            7450341            0                  0                  0                  0                             12   \n",
       "                                      7450339            7450341            0                  0                  0                  0                             27   \n",
       "7450339            7450340            7450338            7450341            0                  0                  0                  0                            188   \n",
       "7450333            7450340            7450338            7450341            0                  0                  0                  0                             49   \n",
       "7450332            7450340            7450338            7450341            0                  0                  0                  0                             30   \n",
       "\n",
       "                                                                                                                                                         cellWeight_5  \\\n",
       "cellSerialNumber_0 cellSerialNumber_1 cellSerialNumber_2 cellSerialNumber_3 cellSerialNumber_4 cellSerialNumber_5 cellSerialNumber_6 cellSerialNumber_7                 \n",
       "7450332            7450333            7450339            7450340            7450338            7450337            7450336            7450341                    72502   \n",
       "                                                                                                                  7450341            0                           1103   \n",
       "                                                                                               7450336            7450341            0                             75   \n",
       "                                                                            7450337            7450336            7450341            0                            172   \n",
       "7450333            7450339            7450340            7450338            7450337            7450336            7450341            0                           1064   \n",
       "...                                                                                                                                                               ...   \n",
       "7450332            7450333            7450340            7450341            0                  0                  0                  0                             12   \n",
       "                                      7450339            7450341            0                  0                  0                  0                             27   \n",
       "7450339            7450340            7450338            7450341            0                  0                  0                  0                            188   \n",
       "7450333            7450340            7450338            7450341            0                  0                  0                  0                             49   \n",
       "7450332            7450340            7450338            7450341            0                  0                  0                  0                             30   \n",
       "\n",
       "                                                                                                                                                         cellWeight_6  \\\n",
       "cellSerialNumber_0 cellSerialNumber_1 cellSerialNumber_2 cellSerialNumber_3 cellSerialNumber_4 cellSerialNumber_5 cellSerialNumber_6 cellSerialNumber_7                 \n",
       "7450332            7450333            7450339            7450340            7450338            7450337            7450336            7450341                    72502   \n",
       "                                                                                                                  7450341            0                           1103   \n",
       "                                                                                               7450336            7450341            0                             75   \n",
       "                                                                            7450337            7450336            7450341            0                            172   \n",
       "7450333            7450339            7450340            7450338            7450337            7450336            7450341            0                           1064   \n",
       "...                                                                                                                                                               ...   \n",
       "7450332            7450333            7450340            7450341            0                  0                  0                  0                             12   \n",
       "                                      7450339            7450341            0                  0                  0                  0                             27   \n",
       "7450339            7450340            7450338            7450341            0                  0                  0                  0                            188   \n",
       "7450333            7450340            7450338            7450341            0                  0                  0                  0                             49   \n",
       "7450332            7450340            7450338            7450341            0                  0                  0                  0                             30   \n",
       "\n",
       "                                                                                                                                                         cellWeight_7  \n",
       "cellSerialNumber_0 cellSerialNumber_1 cellSerialNumber_2 cellSerialNumber_3 cellSerialNumber_4 cellSerialNumber_5 cellSerialNumber_6 cellSerialNumber_7                \n",
       "7450332            7450333            7450339            7450340            7450338            7450337            7450336            7450341                    72502  \n",
       "                                                                                                                  7450341            0                           1103  \n",
       "                                                                                               7450336            7450341            0                             75  \n",
       "                                                                            7450337            7450336            7450341            0                            172  \n",
       "7450333            7450339            7450340            7450338            7450337            7450336            7450341            0                           1064  \n",
       "...                                                                                                                                                               ...  \n",
       "7450332            7450333            7450340            7450341            0                  0                  0                  0                             12  \n",
       "                                      7450339            7450341            0                  0                  0                  0                             27  \n",
       "7450339            7450340            7450338            7450341            0                  0                  0                  0                            188  \n",
       "7450333            7450340            7450338            7450341            0                  0                  0                  0                             49  \n",
       "7450332            7450340            7450338            7450341            0                  0                  0                  0                             30  \n",
       "\n",
       "[100 rows x 14 columns]"
      ]
     },
     "execution_count": 54,
     "metadata": {},
     "output_type": "execute_result"
    }
   ],
   "source": [
    "pd.set_option('display.max_rows', 30)\n",
    "ocorrencias.head(100)"
   ]
  },
  {
   "cell_type": "code",
   "execution_count": null,
   "metadata": {},
   "outputs": [],
   "source": [
    "72502+1103+75+172+1064+2592+200+235+929"
   ]
  },
  {
   "cell_type": "code",
   "execution_count": null,
   "metadata": {
    "scrolled": true
   },
   "outputs": [],
   "source": [
    "print('Pesagens na ponte P191021852: '+ str(focus.shape[0]))\n",
    "print('Pesagens na ponte P191021852 com todas as celulas ativas: ' + str(focus[focus['cellSerialNumber_7']!= '0'].shape[0]) + '  '+ str(round((focus[focus['cellSerialNumber_7']!= '0'].shape[0])/focus.shape[0]*100,1)) + '%')\n",
    "print('Pesagens na ponte P191021852 com 7 celulas ativas: ' + str(focus[focus['cellSerialNumber_6']!= '0'].shape[0]) + '  '+ str(round((focus[focus['cellSerialNumber_6']!= '0'].shape[0])/focus.shape[0]*100,1)) + '%')\n",
    "print('Pesagens na ponte P191021852 com 6 celulas ativas: ' + str(focus[focus['cellSerialNumber_5']!= '0'].shape[0]) + '  '+ str(round((focus[focus['cellSerialNumber_5']!= '0'].shape[0])/focus.shape[0]*100,1)) + '%')\n",
    "print('Pesagens na ponte P191021852 com 5 celulas ativas: ' + str(focus[focus['cellSerialNumber_4']!= '0'].shape[0]) + '  '+ str(round((focus[focus['cellSerialNumber_4']!= '0'].shape[0])/focus.shape[0]*100,1)) + '%')\n",
    "print('Pesagens na ponte P191021852 com 4 celulas ativas: ' + str(focus[focus['cellSerialNumber_3']!= '0'].shape[0]) + '  '+ str(round((focus[focus['cellSerialNumber_3']!= '0'].shape[0])/focus.shape[0]*100,1)) + '%')\n",
    "print('Pesagens na ponte P191021852 com 3 celulas ativas: ' + str(focus[focus['cellSerialNumber_2']!= '0'].shape[0]) + '  '+ str(round((focus[focus['cellSerialNumber_2']!= '0'].shape[0])/focus.shape[0]*100,1)) + '%')\n",
    "print('Pesagens na ponte P191021852 com 2 celulas ativas: ' + str(focus[focus['cellSerialNumber_1']!= '0'].shape[0]) + '  '+ str(round((focus[focus['cellSerialNumber_1']!= '0'].shape[0])/focus.shape[0]*100,1)) + '%')\n",
    "print('Pesagens na ponte P191021852 com 1 celulas ativas: ' + str(focus[focus['cellSerialNumber_0']!= '0'].shape[0]) + '  '+ str(round((focus[focus['cellSerialNumber_0']!= '0'].shape[0])/focus.shape[0]*100,1)) + '%')\n",
    "\n",
    "print('Pesagens na ponte P191021852 descartadas por não ter celulas ativas: ' + str(320459-focus.shape[0]))\n"
   ]
  },
  {
   "cell_type": "code",
   "execution_count": 51,
   "metadata": {},
   "outputs": [
    {
     "name": "stdout",
     "output_type": "stream",
     "text": [
      "Weighing in bridge P191021852: 298789\n",
      "Weighing in bridge P191021852 with all cells active: 72502  24.3%\n",
      "Weighing in bridge P191021852 with 7 active cells: 78872  26.4%\n",
      "Weighing in bridge P191021852 with 6 active cells: 86953  29.1%\n",
      "Weighing in bridge P191021852 with 5 active cells: 94489  31.6%\n",
      "Weighing in bridge P191021852 with 4 active cells: 107058  35.8%\n",
      "Weighing in bridge P191021852 with 3 active cells: 132022  44.2%\n",
      "Weighing in bridge P191021852 with 2 active cells: 184403  61.7%\n",
      "Weighing in bridge P191021852 with 1 active cells: 298789  100.0%\n",
      "Weighing in bridge P191021852 discarded due to no active cells: 21670\n"
     ]
    }
   ],
   "source": [
    "print('Weighing in bridge P191021852: '+ str(focus.shape[0]))\n",
    "print('Weighing in bridge P191021852 with all cells active: ' + str(focus[focus['cellSerialNumber_7']!= '0'].shape[0]) + '  '+ str(round((focus[focus['cellSerialNumber_7']!= '0'].shape[0])/focus.shape[0]*100,1)) + '%')\n",
    "print('Weighing in bridge P191021852 with 7 active cells: ' + str(focus[focus['cellSerialNumber_6']!= '0'].shape[0]) + '  '+ str(round((focus[focus['cellSerialNumber_6']!= '0'].shape[0])/focus.shape[0]*100,1)) + '%')\n",
    "print('Weighing in bridge P191021852 with 6 active cells: ' + str(focus[focus['cellSerialNumber_5']!= '0'].shape[0]) + '  '+ str(round((focus[focus['cellSerialNumber_5']!= '0'].shape[0])/focus.shape[0]*100,1)) + '%')\n",
    "print('Weighing in bridge P191021852 with 5 active cells: ' + str(focus[focus['cellSerialNumber_4']!= '0'].shape[0]) + '  '+ str(round((focus[focus['cellSerialNumber_4']!= '0'].shape[0])/focus.shape[0]*100,1)) + '%')\n",
    "print('Weighing in bridge P191021852 with 4 active cells: ' + str(focus[focus['cellSerialNumber_3']!= '0'].shape[0]) + '  '+ str(round((focus[focus['cellSerialNumber_3']!= '0'].shape[0])/focus.shape[0]*100,1)) + '%')\n",
    "print('Weighing in bridge P191021852 with 3 active cells: ' + str(focus[focus['cellSerialNumber_2']!= '0'].shape[0]) + '  '+ str(round((focus[focus['cellSerialNumber_2']!= '0'].shape[0])/focus.shape[0]*100,1)) + '%')\n",
    "print('Weighing in bridge P191021852 with 2 active cells: ' + str(focus[focus['cellSerialNumber_1']!= '0'].shape[0]) + '  '+ str(round((focus[focus['cellSerialNumber_1']!= '0'].shape[0])/focus.shape[0]*100,1)) + '%')\n",
    "print('Weighing in bridge P191021852 with 1 active cells: ' + str(focus[focus['cellSerialNumber_0']!= '0'].shape[0]) + '  '+ str(round((focus[focus['cellSerialNumber_0']!= '0'].shape[0])/focus.shape[0]*100,1)) + '%')\n",
    "\n",
    "print('Weighing in bridge P191021852 discarded due to no active cells: ' + str(320459-focus.shape[0]))"
   ]
  },
  {
   "cell_type": "code",
   "execution_count": null,
   "metadata": {},
   "outputs": [],
   "source": [
    "#calcular percentagens para X celulas ativas\n",
    "impasse=focus[focus['cellSerialNumber_6']!= '0']\n",
    "impasse[impasse['cellSerialNumber_7']== '0'].shape[0]"
   ]
  },
  {
   "cell_type": "code",
   "execution_count": null,
   "metadata": {},
   "outputs": [],
   "source": []
  },
  {
   "cell_type": "markdown",
   "metadata": {},
   "source": [
    " avaliar caracterisitcas como:\n",
    " - percentagem de vezes que x celula falha\n",
    " - avaliar media do valor do peso em pesagens feitas com a totalidade, 7, 6, 5... celulas\n",
    " - avaliar tendencias de falha de uma celula com base na falha de outras celulas\n",
    " - avaliar fator temporal na falhas: se o processo de falha e sequencial no tempo, e se e posterior a atingir um valor isolado ou cumulativo de peso"
   ]
  },
  {
   "cell_type": "markdown",
   "metadata": {},
   "source": [
    "### ordenar por data"
   ]
  },
  {
   "cell_type": "code",
   "execution_count": null,
   "metadata": {},
   "outputs": [],
   "source": [
    "ordenado=focus.sort_values(by='timestamp')\n",
    "ordenado"
   ]
  },
  {
   "cell_type": "markdown",
   "metadata": {},
   "source": [
    "Gravaçoes de 2019-05-09 14:22:55 ate 2020-05-22 15:40:08"
   ]
  },
  {
   "cell_type": "markdown",
   "metadata": {},
   "source": [
    "### transformar celulas tipo one hot"
   ]
  },
  {
   "cell_type": "code",
   "execution_count": null,
   "metadata": {},
   "outputs": [],
   "source": [
    "y = pd.get_dummies(focus[['cellSerialNumber_0','cellSerialNumber_1','cellSerialNumber_2','cellSerialNumber_3','cellSerialNumber_4','cellSerialNumber_5','cellSerialNumber_6','cellSerialNumber_7']], prefix='', prefix_sep='')#,'cellSerialNumber_1']])#, prefix='Country')"
   ]
  },
  {
   "cell_type": "code",
   "execution_count": null,
   "metadata": {},
   "outputs": [],
   "source": [
    "y"
   ]
  },
  {
   "cell_type": "code",
   "execution_count": null,
   "metadata": {},
   "outputs": [],
   "source": [
    "y"
   ]
  },
  {
   "cell_type": "code",
   "execution_count": null,
   "metadata": {
    "scrolled": true
   },
   "outputs": [],
   "source": [
    "teste=y.groupby(y.columns, axis=1).sum()\n",
    "teste"
   ]
  },
  {
   "cell_type": "code",
   "execution_count": null,
   "metadata": {},
   "outputs": [],
   "source": [
    "focus.head()"
   ]
  },
  {
   "cell_type": "code",
   "execution_count": null,
   "metadata": {},
   "outputs": [],
   "source": [
    "teste['timestamp']=focus.timestamp"
   ]
  },
  {
   "cell_type": "code",
   "execution_count": null,
   "metadata": {},
   "outputs": [],
   "source": [
    "teste"
   ]
  },
  {
   "cell_type": "code",
   "execution_count": null,
   "metadata": {},
   "outputs": [],
   "source": [
    "testeordenado=teste.sort_values(by='timestamp')"
   ]
  },
  {
   "cell_type": "code",
   "execution_count": null,
   "metadata": {},
   "outputs": [],
   "source": [
    "testeordenado"
   ]
  },
  {
   "cell_type": "code",
   "execution_count": null,
   "metadata": {},
   "outputs": [],
   "source": [
    "import matplotlib.pyplot as plt\n",
    "import seaborn as sns\n",
    "\n",
    "plt.figure(figsize =(50,12))\n",
    "mean_group = testeordenado.iloc[: , [1,2,3,4,5,6,7,8]]#   data.groupby([\"ORDERDATE\"])[\"SALES\"].median()\n",
    "plt.plot(mean_group)\n",
    "plt.title(\"Time series median\")\n",
    "#plt.legend(teste.columns[1:])\n",
    "plt.show()"
   ]
  },
  {
   "cell_type": "code",
   "execution_count": null,
   "metadata": {},
   "outputs": [],
   "source": [
    "import matplotlib.pyplot as plt\n",
    "\n",
    "plt.matshow(testeordenado.corr())\n",
    "plt.show()"
   ]
  },
  {
   "cell_type": "code",
   "execution_count": null,
   "metadata": {},
   "outputs": [],
   "source": [
    "import matplotlib.pyplot as plt\n",
    "\n",
    "plt.matshow(testeordenado.corr(method='spearman'))\n",
    "plt.show()"
   ]
  },
  {
   "cell_type": "code",
   "execution_count": null,
   "metadata": {},
   "outputs": [],
   "source": [
    "import matplotlib.pyplot as plt\n",
    "\n",
    "plt.matshow(testeordenado.cov())\n",
    "plt.show()\n"
   ]
  },
  {
   "cell_type": "code",
   "execution_count": null,
   "metadata": {},
   "outputs": [],
   "source": [
    "f = plt.figure(figsize=(10, 10))\n",
    "plt.matshow(testeordenado.corr(), fignum=f.number)\n",
    "plt.xticks(range(testeordenado.shape[1]), testeordenado.columns, fontsize=14, rotation=45)\n",
    "plt.yticks(range(testeordenado.shape[1]), testeordenado.columns, fontsize=14)\n",
    "cb = plt.colorbar()\n",
    "cb.ax.tick_params(labelsize=14)\n",
    "plt.title('Correlation Matrix', fontsize=16);"
   ]
  },
  {
   "cell_type": "code",
   "execution_count": null,
   "metadata": {},
   "outputs": [],
   "source": [
    "teste.columns[1:]"
   ]
  },
  {
   "cell_type": "code",
   "execution_count": null,
   "metadata": {},
   "outputs": [],
   "source": [
    "teste.iloc[: , [1,2,3,4,5,6,7,8]]"
   ]
  },
  {
   "cell_type": "code",
   "execution_count": null,
   "metadata": {},
   "outputs": [],
   "source": []
  },
  {
   "cell_type": "code",
   "execution_count": null,
   "metadata": {},
   "outputs": [],
   "source": []
  },
  {
   "cell_type": "code",
   "execution_count": null,
   "metadata": {},
   "outputs": [],
   "source": []
  },
  {
   "cell_type": "code",
   "execution_count": null,
   "metadata": {},
   "outputs": [],
   "source": [
    "Data=focus.drop(['_id','terminalSerialNumber','scaleSerialNumber'],axis=1)#focus[['timestamp','scaleGross','scaleNet']]"
   ]
  },
  {
   "cell_type": "code",
   "execution_count": null,
   "metadata": {},
   "outputs": [],
   "source": [
    "Data.head()"
   ]
  },
  {
   "cell_type": "code",
   "execution_count": null,
   "metadata": {},
   "outputs": [],
   "source": []
  },
  {
   "cell_type": "code",
   "execution_count": null,
   "metadata": {},
   "outputs": [],
   "source": [
    "result = pd.concat([Data, teste], axis=1, sort=False)"
   ]
  },
  {
   "cell_type": "code",
   "execution_count": null,
   "metadata": {},
   "outputs": [],
   "source": [
    "result"
   ]
  },
  {
   "cell_type": "markdown",
   "metadata": {},
   "source": [
    "### avaliar id iguais\n"
   ]
  },
  {
   "cell_type": "markdown",
   "metadata": {},
   "source": [
    "validar_ids=dados.sort_values(['_id','cellId_0']).set_index(['_id','cellId_0']).count()"
   ]
  },
  {
   "cell_type": "markdown",
   "metadata": {},
   "source": [
    "validar_ids=dados.sort_values(['_id'],ascending=False)#.set_index(['_id'])"
   ]
  },
  {
   "cell_type": "markdown",
   "metadata": {},
   "source": [
    "dados.groupby(['_id']).size().sort_values(ascending=False)"
   ]
  },
  {
   "cell_type": "markdown",
   "metadata": {},
   "source": [
    "##### Avaliar contagem de variaveis para msm id = nºx que se repete id"
   ]
  },
  {
   "cell_type": "code",
   "execution_count": null,
   "metadata": {},
   "outputs": [],
   "source": [
    "validar_ids=dados.groupby('cellId_0').count()#.apply(pd.DataFrame.sort_values, '_id')"
   ]
  },
  {
   "cell_type": "code",
   "execution_count": null,
   "metadata": {
    "scrolled": false
   },
   "outputs": [],
   "source": [
    "validar_ids.sort_values(by=['cellId_0','cellId_1','cellId_2','cellId_3','cellId_4','cellId_5'], ascending=False)"
   ]
  },
  {
   "cell_type": "code",
   "execution_count": null,
   "metadata": {},
   "outputs": [],
   "source": [
    "maybe2=dados[dados['_id']=='5eb0761da4982500078f7abd']\n",
    "maybe2"
   ]
  },
  {
   "cell_type": "markdown",
   "metadata": {},
   "source": [
    "##### Avaliar contagem de variaveis UNICAS para msm cell "
   ]
  },
  {
   "cell_type": "code",
   "execution_count": null,
   "metadata": {},
   "outputs": [],
   "source": [
    "validar_ids=dados.groupby('cellId_0').nunique()"
   ]
  },
  {
   "cell_type": "code",
   "execution_count": null,
   "metadata": {},
   "outputs": [],
   "source": [
    "validar_ids=dados.sort_values(['cellId_0']).set_index(['cellId_0'])"
   ]
  },
  {
   "cell_type": "code",
   "execution_count": null,
   "metadata": {},
   "outputs": [],
   "source": [
    "validar_ids=dados.sort_values(['scaleSerialNumber']).set_index(['scaleSerialNumber'])"
   ]
  },
  {
   "cell_type": "code",
   "execution_count": null,
   "metadata": {},
   "outputs": [],
   "source": [
    "validar_ids.max()"
   ]
  },
  {
   "cell_type": "code",
   "execution_count": null,
   "metadata": {
    "scrolled": true
   },
   "outputs": [],
   "source": [
    "validar_ids"
   ]
  },
  {
   "cell_type": "markdown",
   "metadata": {},
   "source": [
    "##### Avaliar contagem de variaveis UNICAS para msm id = nºx que se repete id"
   ]
  },
  {
   "cell_type": "code",
   "execution_count": null,
   "metadata": {},
   "outputs": [],
   "source": [
    "validar_ids=dados.groupby('_id').nunique()"
   ]
  },
  {
   "cell_type": "code",
   "execution_count": null,
   "metadata": {},
   "outputs": [],
   "source": [
    "validar_ids.max()"
   ]
  },
  {
   "cell_type": "code",
   "execution_count": null,
   "metadata": {},
   "outputs": [],
   "source": [
    "validar_ids.sort_values(by=['terminalSerialNumber'], ascending=False)"
   ]
  },
  {
   "cell_type": "code",
   "execution_count": null,
   "metadata": {},
   "outputs": [],
   "source": [
    "maybe2=dados[dados['_id']=='5e8e79f931557300072fdafc']\n",
    "maybe2"
   ]
  },
  {
   "cell_type": "markdown",
   "metadata": {},
   "source": [
    "informaçoes\n",
    "- ha muitos duplicados ao nivel do id - deitar fora"
   ]
  },
  {
   "cell_type": "code",
   "execution_count": null,
   "metadata": {},
   "outputs": [],
   "source": [
    "dados_no_duplicates=dados.drop_duplicates()\n",
    "print(dados.shape)\n",
    "print(dados_no_duplicates.shape)"
   ]
  },
  {
   "cell_type": "code",
   "execution_count": null,
   "metadata": {},
   "outputs": [],
   "source": [
    "dados_no_duplicates.nunique()"
   ]
  },
  {
   "cell_type": "code",
   "execution_count": null,
   "metadata": {},
   "outputs": [],
   "source": [
    "maybe2=dados_no_duplicates[dados_no_duplicates['_id']=='5e8e79f931557300072fdafc']\n",
    "maybe2"
   ]
  },
  {
   "cell_type": "markdown",
   "metadata": {},
   "source": [
    "informaçao:\n",
    "- como diferente tipos de dados ou casas decimais provocam duplicates, avaliar id unicos de pesagens e fazer inner join com dados\n",
    "- no fim so se pode ter 871549 pesagens"
   ]
  },
  {
   "cell_type": "markdown",
   "metadata": {},
   "source": [
    "# dados unicos"
   ]
  },
  {
   "cell_type": "code",
   "execution_count": null,
   "metadata": {},
   "outputs": [],
   "source": [
    "dados_no_duplicates_id=dados.drop_duplicates(subset=['_id'])\n",
    "print(dados_no_duplicates_id.shape)\n",
    "#df.drop_duplicates(subset=['bio', 'center', 'outcome'])"
   ]
  },
  {
   "cell_type": "code",
   "execution_count": null,
   "metadata": {},
   "outputs": [],
   "source": [
    "dados_no_duplicates_id.to_csv('weighings.csv')"
   ]
  },
  {
   "cell_type": "code",
   "execution_count": null,
   "metadata": {},
   "outputs": [],
   "source": [
    "dados=pd.read_csv('weighings.csv').drop('Unnamed: 0', axis=1)"
   ]
  },
  {
   "cell_type": "code",
   "execution_count": null,
   "metadata": {},
   "outputs": [],
   "source": [
    "dados.head()"
   ]
  },
  {
   "cell_type": "markdown",
   "metadata": {},
   "source": [
    "#### avaliar combinaçoes"
   ]
  },
  {
   "cell_type": "code",
   "execution_count": null,
   "metadata": {},
   "outputs": [],
   "source": [
    "validar_ids=dados.groupby('_id').nunique()"
   ]
  },
  {
   "cell_type": "code",
   "execution_count": null,
   "metadata": {},
   "outputs": [],
   "source": [
    "validar_ids=dados.groupby('cellId_2').nunique()"
   ]
  },
  {
   "cell_type": "code",
   "execution_count": null,
   "metadata": {},
   "outputs": [],
   "source": [
    "validar_ids.max()"
   ]
  },
  {
   "cell_type": "code",
   "execution_count": null,
   "metadata": {},
   "outputs": [],
   "source": [
    "details=pd.DataFrame(dados.dtypes, columns=['type'])\n",
    "details['#Nan']=dados.isnull().sum(axis = 0)\n",
    "details['#uniques']=dados.nunique()"
   ]
  },
  {
   "cell_type": "code",
   "execution_count": null,
   "metadata": {},
   "outputs": [],
   "source": [
    "details['valida']=details['#uniques']+details['#Nan']"
   ]
  },
  {
   "cell_type": "code",
   "execution_count": null,
   "metadata": {},
   "outputs": [],
   "source": [
    "details"
   ]
  },
  {
   "cell_type": "markdown",
   "metadata": {},
   "source": [
    "Informaçoes:\n",
    "- para qq groupby de celula, o maximo de unicos e sempre 1, ou seja a combinaçao cel 0-1-2-3... e sempre unica. um id da celula 1 so da para a celula com id0 certa\n",
    "- confirmado pelo numeor de unicos+nan ser igual ao totla de pesagens feitas"
   ]
  },
  {
   "cell_type": "markdown",
   "metadata": {},
   "source": [
    "grave:\n",
    "- cada nao ha varias pesagens diferentes com o msm id de celulas, ie, nenhuma celeua com mais que uma pesagem"
   ]
  },
  {
   "cell_type": "markdown",
   "metadata": {},
   "source": [
    "### transformaçao dos dados"
   ]
  },
  {
   "cell_type": "markdown",
   "metadata": {},
   "source": [
    "- avalair qts pontes têm 2,4,6,8 celulas\n",
    "- avaliar se ha pontes com celulas impar\n",
    "- transformaçao das datas + idade da celula\n",
    "- "
   ]
  },
  {
   "cell_type": "code",
   "execution_count": null,
   "metadata": {},
   "outputs": [],
   "source": [
    "dados.head()"
   ]
  },
  {
   "cell_type": "markdown",
   "metadata": {},
   "source": [
    "#### Avaliar nº pesagens  para pontes com variavel nº de celulas"
   ]
  },
  {
   "cell_type": "code",
   "execution_count": null,
   "metadata": {},
   "outputs": [],
   "source": [
    "## avalair qts celulas\n",
    "dados_8=dados[dados['cellId_0'].notnull() & dados['cellId_1'].notnull() & dados['cellId_2'].notnull() & dados['cellId_3'].notnull() & dados['cellId_4'].notnull() & dados['cellId_5'].notnull() & dados['cellId_6'].notnull() & dados['cellId_7'].notnull()]\n",
    "print('nº weighing with 8 functional cells:' + str(dados_8.shape[0]))\n",
    "\n",
    "dados_7=dados[dados['cellId_0'].notnull() & dados['cellId_1'].notnull() & dados['cellId_2'].notnull() & dados['cellId_3'].notnull() & dados['cellId_4'].notnull() & dados['cellId_5'].notnull() & dados['cellId_6'].notnull() ]\n",
    "print('nº weighing with 7 functional cells:' + str(dados_7.shape[0]))\n",
    "\n",
    "dados_6=dados[dados['cellId_0'].notnull() & dados['cellId_1'].notnull() & dados['cellId_2'].notnull() & dados['cellId_3'].notnull() & dados['cellId_4'].notnull() & dados['cellId_5'].notnull()]\n",
    "print('nº weighing with 6 functional cells:' + str(dados_6.shape[0]))\n",
    "\n",
    "dados_5=dados[dados['cellId_0'].notnull() & dados['cellId_1'].notnull() & dados['cellId_2'].notnull() & dados['cellId_3'].notnull() & dados['cellId_4'].notnull()]\n",
    "print('nº weighing with 5 functional cells:' + str(dados_5.shape[0]))\n",
    "\n",
    "dados_4=dados[dados['cellId_0'].notnull() & dados['cellId_1'].notnull() & dados['cellId_2'].notnull() & dados['cellId_3'].notnull()]\n",
    "print('nº weighing with 4 functional cells:' + str(dados_4.shape[0]))\n",
    "\n",
    "dados_3=dados[dados['cellId_0'].notnull() & dados['cellId_1'].notnull() & dados['cellId_2'].notnull()]\n",
    "print('nº weighing with 3 functional cells:' + str(dados_3.shape[0]))\n",
    "\n",
    "dados_2=dados[dados['cellId_0'].notnull() & dados['cellId_1'].notnull()]\n",
    "print('nº weighing with 2 functional cells:' + str(dados_2.shape[0]))\n",
    "\n",
    "dados_1=dados[dados['cellId_0'].notnull()]\n",
    "print('nº weighing with 1 functional cells:' + str(dados_1.shape[0]))"
   ]
  },
  {
   "cell_type": "markdown",
   "metadata": {},
   "source": [
    "- Há pesagens para pontes com nº impar\n",
    "- Há 29258 pesagens sem ponte nenhuma\n",
    "- Para alem de todas as comiançoes de id de celulas serem unicas, nao ha cenarios de falhar celula 0 e ter celula1"
   ]
  },
  {
   "cell_type": "code",
   "execution_count": null,
   "metadata": {},
   "outputs": [],
   "source": [
    "combined = dados.append(dados_1)\n",
    "combined=combined[~combined.index.duplicated(keep=False)]\n",
    "print(combined.shape[0])"
   ]
  },
  {
   "cell_type": "code",
   "execution_count": null,
   "metadata": {},
   "outputs": [],
   "source": [
    "combined.head()"
   ]
  },
  {
   "cell_type": "code",
   "execution_count": null,
   "metadata": {},
   "outputs": [],
   "source": [
    "details=pd.DataFrame(combined.nunique(), columns=['nº uniques with cell0 Nan'])\n",
    "details['n_uniques with cell0']=dados_1.nunique()\n",
    "details['n_uniques in all']=dados.nunique()"
   ]
  },
  {
   "cell_type": "code",
   "execution_count": null,
   "metadata": {},
   "outputs": [],
   "source": [
    "details"
   ]
  },
  {
   "cell_type": "code",
   "execution_count": null,
   "metadata": {},
   "outputs": [],
   "source": [
    "## nao ha cenario de nao haver cell 0 e ter cell 1\n",
    "teste=dados[dados['cellId_0'].isnull()]\n",
    "teste['cellId_2'].unique()"
   ]
  },
  {
   "cell_type": "code",
   "execution_count": null,
   "metadata": {},
   "outputs": [],
   "source": [
    "teste=dados[dados['cellId_1'].isnull()]\n",
    "teste['cellId_3'].unique()"
   ]
  },
  {
   "cell_type": "markdown",
   "metadata": {},
   "source": [
    "### Data"
   ]
  },
  {
   "cell_type": "code",
   "execution_count": null,
   "metadata": {},
   "outputs": [],
   "source": [
    "dados.head()"
   ]
  },
  {
   "cell_type": "code",
   "execution_count": null,
   "metadata": {},
   "outputs": [],
   "source": [
    "    df.data= pd.to_datetime(df.data, format='%Y%m%d%H%M%S')\n",
    "    df['day'] = df['data'].dt.day\n",
    "    df['Hour'] = df['data'].dt.hour\n",
    "    df['Minute'] = df['data'].dt.minute\n",
    "    df['Year'] = df['data'].dt.year\n",
    "    df['Month'] = df['data'].dt.month\n",
    "    \n",
    "    Year=df.Year.unique()[0]\n",
    "    Month=df.Month.unique()[0]\n",
    "    Day=df.day.unique()[0]"
   ]
  },
  {
   "cell_type": "code",
   "execution_count": null,
   "metadata": {},
   "outputs": [],
   "source": [
    "dados['data']= pd.to_datetime(dados.timestamp, format='%Y-%m-%d %H:%M:%S.%f')#'%Y%m%d%H%M%S%S%f')"
   ]
  },
  {
   "cell_type": "code",
   "execution_count": null,
   "metadata": {},
   "outputs": [],
   "source": [
    "dados['day'] = dados['data'].dt.day"
   ]
  },
  {
   "cell_type": "code",
   "execution_count": null,
   "metadata": {},
   "outputs": [],
   "source": [
    "dados"
   ]
  },
  {
   "cell_type": "markdown",
   "metadata": {},
   "source": [
    "## teste bascio PCA"
   ]
  },
  {
   "cell_type": "code",
   "execution_count": null,
   "metadata": {},
   "outputs": [],
   "source": [
    "def encode(data,categorical_features):\n",
    "    categorical_names = {}\n",
    "    for feature in categorical_features:\n",
    "        le = sklearn.preprocessing.LabelEncoder()\n",
    "        #le.fit(frame2[:, feature])\n",
    "        #train_numpy_array[:, feature] = le.fit_transform(train_numpy_array[:, feature])\n",
    "        data[:, feature] = le.fit_transform(data[:, feature])\n",
    "        categorical_names[feature] = le.classes_\n",
    "    return data, categorical_names"
   ]
  },
  {
   "cell_type": "code",
   "execution_count": null,
   "metadata": {},
   "outputs": [],
   "source": [
    "prePCA.head()"
   ]
  },
  {
   "cell_type": "code",
   "execution_count": null,
   "metadata": {},
   "outputs": [],
   "source": [
    "prePCA=dados.set_index('_id').drop('timestamp', axis=1)\n",
    "categorical_features = [0,1,4,5,20]"
   ]
  },
  {
   "cell_type": "markdown",
   "metadata": {},
   "source": [
    "- Converter data em idade\n",
    "- transformar id de celulas em se tem 2,4,6,8, impares\n",
    "- transformar ids em se e a combinaçao 1 ,2, 3 ...."
   ]
  },
  {
   "cell_type": "code",
   "execution_count": null,
   "metadata": {},
   "outputs": [],
   "source": [
    "from sklearn.decomposition import PCA, IncrementalPCA\n",
    "pcat = PCA()\n",
    "principalComponentsT = pcat.fit_transform(dados)\n",
    "pesos= pcat.explained_variance_ratio_\n",
    "loadingT=pcat.components_.T * np.sqrt(pcat.explained_variance_)"
   ]
  },
  {
   "cell_type": "code",
   "execution_count": null,
   "metadata": {},
   "outputs": [],
   "source": []
  }
 ],
 "metadata": {
  "kernelspec": {
   "display_name": "Python 3",
   "language": "python",
   "name": "python3"
  },
  "language_info": {
   "codemirror_mode": {
    "name": "ipython",
    "version": 3
   },
   "file_extension": ".py",
   "mimetype": "text/x-python",
   "name": "python",
   "nbconvert_exporter": "python",
   "pygments_lexer": "ipython3",
   "version": "3.6.8"
  }
 },
 "nbformat": 4,
 "nbformat_minor": 2
}
