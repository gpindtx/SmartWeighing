{
 "cells": [
  {
   "cell_type": "code",
   "execution_count": 1,
   "metadata": {},
   "outputs": [],
   "source": [
    "import pandas as pd\n",
    "import numpy as np"
   ]
  },
  {
   "cell_type": "markdown",
   "metadata": {},
   "source": [
    "    df.data= pd.to_datetime(df.data, format='%Y%m%d%H%M%S')\n",
    "    df['day'] = df['data'].dt.day\n",
    "    df['Hour'] = df['data'].dt.hour\n",
    "    df['Minute'] = df['data'].dt.minute\n",
    "    df['Year'] = df['data'].dt.year\n",
    "    df['Month'] = df['data'].dt.month\n",
    "    \n",
    "    Year=df.Year.unique()[0]\n",
    "    Month=df.Month.unique()[0]\n",
    "    Day=df.day.unique()[0]"
   ]
  },
  {
   "cell_type": "code",
   "execution_count": 2,
   "metadata": {},
   "outputs": [],
   "source": [
    "dados2=pd.read_excel('111115.xlsx')#.drop(['Unnamed: 0','cellId_0','cellId_1','cellId_2','cellId_3','cellId_4','cellId_5','cellId_6','cellId_7'], axis=1)"
   ]
  },
  {
   "cell_type": "code",
   "execution_count": 3,
   "metadata": {},
   "outputs": [
    {
     "data": {
      "text/html": [
       "<div>\n",
       "<style scoped>\n",
       "    .dataframe tbody tr th:only-of-type {\n",
       "        vertical-align: middle;\n",
       "    }\n",
       "\n",
       "    .dataframe tbody tr th {\n",
       "        vertical-align: top;\n",
       "    }\n",
       "\n",
       "    .dataframe thead th {\n",
       "        text-align: right;\n",
       "    }\n",
       "</style>\n",
       "<table border=\"1\" class=\"dataframe\">\n",
       "  <thead>\n",
       "    <tr style=\"text-align: right;\">\n",
       "      <th></th>\n",
       "      <th>0</th>\n",
       "      <th>-211</th>\n",
       "      <th>0.1</th>\n",
       "      <th>0.2</th>\n",
       "      <th>0.3</th>\n",
       "      <th>0.4</th>\n",
       "      <th>0.5</th>\n",
       "      <th>0.6</th>\n",
       "      <th>0.7</th>\n",
       "      <th>1</th>\n",
       "      <th>-1</th>\n",
       "      <th>0.8</th>\n",
       "      <th>0.9</th>\n",
       "      <th>0.10</th>\n",
       "      <th>0.11</th>\n",
       "    </tr>\n",
       "  </thead>\n",
       "  <tbody>\n",
       "    <tr>\n",
       "      <th>0</th>\n",
       "      <td>1</td>\n",
       "      <td>-154</td>\n",
       "      <td>0</td>\n",
       "      <td>0</td>\n",
       "      <td>0</td>\n",
       "      <td>0</td>\n",
       "      <td>0</td>\n",
       "      <td>0</td>\n",
       "      <td>0</td>\n",
       "      <td>1</td>\n",
       "      <td>0</td>\n",
       "      <td>0</td>\n",
       "      <td>0</td>\n",
       "      <td>0</td>\n",
       "      <td>1</td>\n",
       "    </tr>\n",
       "    <tr>\n",
       "      <th>1</th>\n",
       "      <td>2</td>\n",
       "      <td>-106</td>\n",
       "      <td>0</td>\n",
       "      <td>0</td>\n",
       "      <td>0</td>\n",
       "      <td>0</td>\n",
       "      <td>0</td>\n",
       "      <td>0</td>\n",
       "      <td>0</td>\n",
       "      <td>1</td>\n",
       "      <td>0</td>\n",
       "      <td>0</td>\n",
       "      <td>0</td>\n",
       "      <td>0</td>\n",
       "      <td>1</td>\n",
       "    </tr>\n",
       "    <tr>\n",
       "      <th>2</th>\n",
       "      <td>3</td>\n",
       "      <td>-60</td>\n",
       "      <td>0</td>\n",
       "      <td>0</td>\n",
       "      <td>0</td>\n",
       "      <td>0</td>\n",
       "      <td>1</td>\n",
       "      <td>0</td>\n",
       "      <td>-1</td>\n",
       "      <td>0</td>\n",
       "      <td>0</td>\n",
       "      <td>0</td>\n",
       "      <td>1</td>\n",
       "      <td>-1</td>\n",
       "      <td>0</td>\n",
       "    </tr>\n",
       "    <tr>\n",
       "      <th>3</th>\n",
       "      <td>4</td>\n",
       "      <td>-2</td>\n",
       "      <td>60</td>\n",
       "      <td>-2</td>\n",
       "      <td>0</td>\n",
       "      <td>-2</td>\n",
       "      <td>1</td>\n",
       "      <td>-4</td>\n",
       "      <td>-1</td>\n",
       "      <td>277</td>\n",
       "      <td>214</td>\n",
       "      <td>-2</td>\n",
       "      <td>-1</td>\n",
       "      <td>-5</td>\n",
       "      <td>491</td>\n",
       "    </tr>\n",
       "    <tr>\n",
       "      <th>4</th>\n",
       "      <td>5</td>\n",
       "      <td>56</td>\n",
       "      <td>280</td>\n",
       "      <td>-5</td>\n",
       "      <td>4</td>\n",
       "      <td>4</td>\n",
       "      <td>4</td>\n",
       "      <td>11</td>\n",
       "      <td>-34</td>\n",
       "      <td>795</td>\n",
       "      <td>983</td>\n",
       "      <td>-1</td>\n",
       "      <td>8</td>\n",
       "      <td>-23</td>\n",
       "      <td>1778</td>\n",
       "    </tr>\n",
       "    <tr>\n",
       "      <th>...</th>\n",
       "      <td>...</td>\n",
       "      <td>...</td>\n",
       "      <td>...</td>\n",
       "      <td>...</td>\n",
       "      <td>...</td>\n",
       "      <td>...</td>\n",
       "      <td>...</td>\n",
       "      <td>...</td>\n",
       "      <td>...</td>\n",
       "      <td>...</td>\n",
       "      <td>...</td>\n",
       "      <td>...</td>\n",
       "      <td>...</td>\n",
       "      <td>...</td>\n",
       "      <td>...</td>\n",
       "    </tr>\n",
       "    <tr>\n",
       "      <th>636</th>\n",
       "      <td>637</td>\n",
       "      <td>33768</td>\n",
       "      <td>11960</td>\n",
       "      <td>636</td>\n",
       "      <td>837</td>\n",
       "      <td>2315</td>\n",
       "      <td>3241</td>\n",
       "      <td>1808</td>\n",
       "      <td>3142</td>\n",
       "      <td>-10</td>\n",
       "      <td>-11</td>\n",
       "      <td>1473</td>\n",
       "      <td>5556</td>\n",
       "      <td>4950</td>\n",
       "      <td>-21</td>\n",
       "    </tr>\n",
       "    <tr>\n",
       "      <th>637</th>\n",
       "      <td>638</td>\n",
       "      <td>33828</td>\n",
       "      <td>11960</td>\n",
       "      <td>635</td>\n",
       "      <td>837</td>\n",
       "      <td>2314</td>\n",
       "      <td>3242</td>\n",
       "      <td>1809</td>\n",
       "      <td>3142</td>\n",
       "      <td>-10</td>\n",
       "      <td>-11</td>\n",
       "      <td>1472</td>\n",
       "      <td>5556</td>\n",
       "      <td>4951</td>\n",
       "      <td>-21</td>\n",
       "    </tr>\n",
       "    <tr>\n",
       "      <th>638</th>\n",
       "      <td>639</td>\n",
       "      <td>33888</td>\n",
       "      <td>11960</td>\n",
       "      <td>635</td>\n",
       "      <td>837</td>\n",
       "      <td>2314</td>\n",
       "      <td>3242</td>\n",
       "      <td>1808</td>\n",
       "      <td>3142</td>\n",
       "      <td>-11</td>\n",
       "      <td>-11</td>\n",
       "      <td>1472</td>\n",
       "      <td>5556</td>\n",
       "      <td>4950</td>\n",
       "      <td>-22</td>\n",
       "    </tr>\n",
       "    <tr>\n",
       "      <th>639</th>\n",
       "      <td>640</td>\n",
       "      <td>33945</td>\n",
       "      <td>11960</td>\n",
       "      <td>636</td>\n",
       "      <td>837</td>\n",
       "      <td>2314</td>\n",
       "      <td>3242</td>\n",
       "      <td>1808</td>\n",
       "      <td>3142</td>\n",
       "      <td>-11</td>\n",
       "      <td>-11</td>\n",
       "      <td>1473</td>\n",
       "      <td>5556</td>\n",
       "      <td>4950</td>\n",
       "      <td>-22</td>\n",
       "    </tr>\n",
       "    <tr>\n",
       "      <th>640</th>\n",
       "      <td>641</td>\n",
       "      <td>33993</td>\n",
       "      <td>11960</td>\n",
       "      <td>636</td>\n",
       "      <td>838</td>\n",
       "      <td>2314</td>\n",
       "      <td>3242</td>\n",
       "      <td>1808</td>\n",
       "      <td>3142</td>\n",
       "      <td>-10</td>\n",
       "      <td>-11</td>\n",
       "      <td>1474</td>\n",
       "      <td>5556</td>\n",
       "      <td>4950</td>\n",
       "      <td>-21</td>\n",
       "    </tr>\n",
       "  </tbody>\n",
       "</table>\n",
       "<p>641 rows × 15 columns</p>\n",
       "</div>"
      ],
      "text/plain": [
       "       0   -211    0.1  0.2  0.3   0.4   0.5   0.6   0.7    1   -1   0.8  \\\n",
       "0      1   -154      0    0    0     0     0     0     0    1    0     0   \n",
       "1      2   -106      0    0    0     0     0     0     0    1    0     0   \n",
       "2      3    -60      0    0    0     0     1     0    -1    0    0     0   \n",
       "3      4     -2     60   -2    0    -2     1    -4    -1  277  214    -2   \n",
       "4      5     56    280   -5    4     4     4    11   -34  795  983    -1   \n",
       "..   ...    ...    ...  ...  ...   ...   ...   ...   ...  ...  ...   ...   \n",
       "636  637  33768  11960  636  837  2315  3241  1808  3142  -10  -11  1473   \n",
       "637  638  33828  11960  635  837  2314  3242  1809  3142  -10  -11  1472   \n",
       "638  639  33888  11960  635  837  2314  3242  1808  3142  -11  -11  1472   \n",
       "639  640  33945  11960  636  837  2314  3242  1808  3142  -11  -11  1473   \n",
       "640  641  33993  11960  636  838  2314  3242  1808  3142  -10  -11  1474   \n",
       "\n",
       "      0.9  0.10  0.11  \n",
       "0       0     0     1  \n",
       "1       0     0     1  \n",
       "2       1    -1     0  \n",
       "3      -1    -5   491  \n",
       "4       8   -23  1778  \n",
       "..    ...   ...   ...  \n",
       "636  5556  4950   -21  \n",
       "637  5556  4951   -21  \n",
       "638  5556  4950   -22  \n",
       "639  5556  4950   -22  \n",
       "640  5556  4950   -21  \n",
       "\n",
       "[641 rows x 15 columns]"
      ]
     },
     "execution_count": 3,
     "metadata": {},
     "output_type": "execute_result"
    }
   ],
   "source": [
    "dados2"
   ]
  },
  {
   "cell_type": "markdown",
   "metadata": {},
   "source": [
    "## Todos dados"
   ]
  },
  {
   "cell_type": "markdown",
   "metadata": {},
   "source": [
    "dados=pd.DataFrame()\n",
    "for i in range(1,21):\n",
    "    teste=pd.read_json('weighings_partition'+str(i)+'.json')#+str(i)\n",
    "    dados=dados.append(teste, ignore_index=True)"
   ]
  },
  {
   "cell_type": "markdown",
   "metadata": {},
   "source": [
    "dados.to_csv('all_weighings_full.csv')"
   ]
  },
  {
   "cell_type": "code",
   "execution_count": null,
   "metadata": {},
   "outputs": [],
   "source": [
    "dados=pd.read_csv('all_weighings_full.csv').drop(['Unnamed: 0','cellId_0','cellId_1','cellId_2','cellId_3','cellId_4','cellId_5','cellId_6','cellId_7'], axis=1)"
   ]
  },
  {
   "cell_type": "code",
   "execution_count": null,
   "metadata": {},
   "outputs": [],
   "source": [
    "dados.head()"
   ]
  },
  {
   "cell_type": "code",
   "execution_count": null,
   "metadata": {},
   "outputs": [],
   "source": [
    "dados['cellSerialNumber_0']=dados['cellSerialNumber_0'].fillna(0)\n",
    "dados['cellSerialNumber_1']=dados['cellSerialNumber_1'].fillna(0)\n",
    "dados['cellSerialNumber_2']=dados['cellSerialNumber_2'].fillna(0)\n",
    "dados['cellSerialNumber_3']=dados['cellSerialNumber_3'].fillna(0)\n",
    "dados['cellSerialNumber_4']=dados['cellSerialNumber_4'].fillna(0)\n",
    "dados['cellSerialNumber_5']=dados['cellSerialNumber_5'].fillna(0)\n",
    "dados['cellSerialNumber_6']=dados['cellSerialNumber_6'].fillna(0)\n",
    "dados['cellSerialNumber_7']=dados['cellSerialNumber_7'].fillna(0)\n",
    "\n",
    "clean0=dados['cellSerialNumber_0'].tolist()\n",
    "clean1=dados['cellSerialNumber_1'].tolist()\n",
    "clean2=dados['cellSerialNumber_2'].tolist()\n",
    "clean3=dados['cellSerialNumber_3'].tolist()\n",
    "clean4=dados['cellSerialNumber_4'].tolist()\n",
    "clean5=dados['cellSerialNumber_5'].tolist()\n",
    "clean6=dados['cellSerialNumber_6'].tolist()\n",
    "clean7=dados['cellSerialNumber_7'].tolist()\n",
    "\n",
    "for i in range(0, len(clean0)):\n",
    "    if type(clean0[i]) == float:\n",
    "        clean0[i]=str(int(clean0[i]))\n",
    "    if type(clean1[i]) == float:\n",
    "        clean1[i]=str(int(clean1[i]))\n",
    "    if type(clean2[i]) == float:\n",
    "        clean2[i]=str(int(clean2[i]))\n",
    "    if type(clean3[i]) == float:\n",
    "        clean3[i]=str(int(clean3[i]))\n",
    "    if type(clean4[i]) == float:\n",
    "        clean4[i]=str(int(clean4[i]))\n",
    "    if type(clean5[i]) == float:\n",
    "        clean5[i]=str(int(clean5[i]))\n",
    "    if type(clean6[i]) == float:\n",
    "        clean6[i]=str(int(clean6[i]))\n",
    "    if type(clean7[i]) == float:\n",
    "        clean7[i]=str(int(clean7[i]))\n",
    "\n",
    "        \n",
    "clean0=[str(i) for i in clean0]\n",
    "clean1=[str(i) for i in clean1]\n",
    "clean2=[str(i) for i in clean2]\n",
    "clean3=[str(i) for i in clean3]\n",
    "clean4=[str(i) for i in clean4]\n",
    "clean5=[str(i) for i in clean5]\n",
    "clean6=[str(i) for i in clean6]\n",
    "clean7=[str(i) for i in clean7]\n",
    "\n",
    "for i in range(0, len(clean0)):\n",
    "    if clean0[i][0] == '0' and len(clean0[i])>1:\n",
    "        clean0[i]=clean0[i][1:]\n",
    "    if clean1[i][0] == '0'and len(clean1[i])>1:\n",
    "        clean1[i]=clean1[i][1:]\n",
    "    if clean2[i][0] == '0' and len(clean2[i])>1:\n",
    "        clean2[i]=clean2[i][1:]\n",
    "    if clean3[i][0] == '0'and len(clean3[i])>1:\n",
    "        clean3[i]=clean3[i][1:]\n",
    "    if clean4[i][0] == '0'and len(clean4[i])>1:\n",
    "        clean4[i]=clean4[i][1:]\n",
    "    if clean5[i][0] == '0'and len(clean5[i])>1:\n",
    "        clean5[i]=clean5[i][1:]\n",
    "    if clean6[i][0] == '0'and len(clean6[i])>1:\n",
    "        clean6[i]=clean6[i][1:]\n",
    "    if clean7[i][0] == '0'and len(clean7[i])>1:\n",
    "        clean7[i]=clean7[i][1:]\n",
    "\n",
    "dados['cellSerialNumber_0']=clean0\n",
    "dados['cellSerialNumber_1']=clean1\n",
    "dados['cellSerialNumber_2']=clean2\n",
    "dados['cellSerialNumber_3']=clean3\n",
    "dados['cellSerialNumber_4']=clean4\n",
    "dados['cellSerialNumber_5']=clean5\n",
    "dados['cellSerialNumber_6']=clean6\n",
    "dados['cellSerialNumber_7']=clean7\n",
    "\n",
    "dados[['terminalSerialNumber']]=dados[['terminalSerialNumber']].astype(str)"
   ]
  },
  {
   "cell_type": "markdown",
   "metadata": {},
   "source": [
    "## filtrar pela ponte relevante"
   ]
  },
  {
   "cell_type": "code",
   "execution_count": null,
   "metadata": {},
   "outputs": [],
   "source": [
    "ponte=dados[dados['scaleSerialNumber']=='P191021852']"
   ]
  },
  {
   "cell_type": "code",
   "execution_count": null,
   "metadata": {},
   "outputs": [],
   "source": [
    "ponte.shape"
   ]
  },
  {
   "cell_type": "code",
   "execution_count": null,
   "metadata": {},
   "outputs": [],
   "source": [
    "details=pd.DataFrame(ponte.dtypes, columns=['type'])\n",
    "details['#Nan']=ponte.isnull().sum(axis = 0)\n",
    "details['#uniques']=ponte.nunique()\n",
    "details"
   ]
  },
  {
   "cell_type": "code",
   "execution_count": null,
   "metadata": {},
   "outputs": [],
   "source": [
    "ponte=ponte.drop(['terminalSerialNumber','scaleSerialNumber','scaleNet'],axis=1)"
   ]
  },
  {
   "cell_type": "markdown",
   "metadata": {},
   "source": [
    "## ordenar data"
   ]
  },
  {
   "cell_type": "code",
   "execution_count": null,
   "metadata": {},
   "outputs": [],
   "source": [
    "ordenado=ponte.sort_values(by='timestamp')\n",
    "#ordenado=ordenado.fillna(method='ffill')"
   ]
  },
  {
   "cell_type": "code",
   "execution_count": null,
   "metadata": {},
   "outputs": [],
   "source": [
    "ordenado.head(3)"
   ]
  },
  {
   "cell_type": "code",
   "execution_count": null,
   "metadata": {},
   "outputs": [],
   "source": [
    "avaliar=ordenado.groupby(['cellSerialNumber_0','cellSerialNumber_1','cellSerialNumber_2','cellSerialNumber_3','cellSerialNumber_4','cellSerialNumber_5','cellSerialNumber_6','cellSerialNumber_7']).count()\n",
    "ocorrencias=avaliar.sort_values(['cellSerialNumber_7','cellSerialNumber_6','cellSerialNumber_5','cellSerialNumber_4','cellSerialNumber_3','cellSerialNumber_2','cellSerialNumber_1','cellSerialNumber_0'],ascending=False)"
   ]
  },
  {
   "cell_type": "code",
   "execution_count": null,
   "metadata": {},
   "outputs": [],
   "source": [
    "ocorrencias"
   ]
  },
  {
   "cell_type": "code",
   "execution_count": null,
   "metadata": {},
   "outputs": [],
   "source": []
  },
  {
   "cell_type": "markdown",
   "metadata": {},
   "source": [
    "### Teste dispersao amostras no dia"
   ]
  },
  {
   "cell_type": "markdown",
   "metadata": {},
   "source": [
    "###### TOP para filtrar\n",
    "ordenado['timestamp']= pd.to_datetime(ordenado['timestamp']) \n",
    "ordenado = ordenado.set_index('timestamp')#dia10.loc['2019-05-10 14']\n",
    "ordenado.loc['2019-05-10']"
   ]
  },
  {
   "cell_type": "code",
   "execution_count": null,
   "metadata": {},
   "outputs": [],
   "source": [
    "dia10=ordenado[(ordenado['timestamp'] > '2019-05-09 23:59:00') & (ordenado['timestamp'] < '2019-05-10 23:59:00')]"
   ]
  },
  {
   "cell_type": "code",
   "execution_count": null,
   "metadata": {},
   "outputs": [],
   "source": [
    "dia10['timestamp']= pd.to_datetime(dia10['timestamp']) "
   ]
  },
  {
   "cell_type": "code",
   "execution_count": null,
   "metadata": {},
   "outputs": [],
   "source": [
    "import matplotlib.pyplot as plt\n",
    "\n",
    "plt.figure(figsize=(20,10))\n",
    "plt.plot(dia10.timestamp, dia10.cellWeight_0)"
   ]
  },
  {
   "cell_type": "code",
   "execution_count": null,
   "metadata": {},
   "outputs": [],
   "source": [
    "details=pd.DataFrame(dia10.dtypes, columns=['type'])\n",
    "details['#Nan']=dia10.isnull().sum(axis = 0)\n",
    "details['#uniques']=dia10.nunique()\n",
    "details"
   ]
  },
  {
   "cell_type": "markdown",
   "metadata": {},
   "source": [
    "#### teste de interpolaçao"
   ]
  },
  {
   "cell_type": "code",
   "execution_count": null,
   "metadata": {},
   "outputs": [],
   "source": [
    "dia102=dia10.fillna(method='ffill')"
   ]
  },
  {
   "cell_type": "code",
   "execution_count": null,
   "metadata": {},
   "outputs": [],
   "source": [
    "dia102.isna().sum()"
   ]
  },
  {
   "cell_type": "code",
   "execution_count": null,
   "metadata": {},
   "outputs": [],
   "source": [
    "import matplotlib.pyplot as plt\n",
    "\n",
    "plt.figure(figsize=(20,10))\n",
    "#plt.xlim=((2000, 6000))\n",
    "\n",
    "plt.plot(dia102.timestamp, dia102.cellWeight_0, 'r')\n",
    "plt.plot(dia10.timestamp, dia10.cellWeight_0, 'g')"
   ]
  },
  {
   "cell_type": "markdown",
   "metadata": {},
   "source": [
    "Consideraçoes:\n",
    "- tem de se fazer uma separaçao entre as pesagens para que a itnerporlação seja da respetiva pesagem"
   ]
  },
  {
   "cell_type": "markdown",
   "metadata": {},
   "source": [
    "### avaliar numero de pesagens/ separar pesagens (ex dia 10)"
   ]
  },
  {
   "cell_type": "code",
   "execution_count": null,
   "metadata": {},
   "outputs": [],
   "source": [
    "dia10"
   ]
  },
  {
   "cell_type": "code",
   "execution_count": null,
   "metadata": {},
   "outputs": [],
   "source": [
    "ordenado.head(3)"
   ]
  },
  {
   "cell_type": "code",
   "execution_count": null,
   "metadata": {},
   "outputs": [],
   "source": [
    "dia=dia10.reset_index(drop=True)"
   ]
  },
  {
   "cell_type": "markdown",
   "metadata": {},
   "source": [
    "dia.timestamp[[1]]-dia.timestamp[[2]]"
   ]
  },
  {
   "cell_type": "code",
   "execution_count": null,
   "metadata": {},
   "outputs": [],
   "source": [
    "dia['period']=dia.timestamp.diff()"
   ]
  },
  {
   "cell_type": "code",
   "execution_count": null,
   "metadata": {},
   "outputs": [],
   "source": [
    "dia['period'][0]=0"
   ]
  },
  {
   "cell_type": "code",
   "execution_count": null,
   "metadata": {},
   "outputs": [],
   "source": [
    "dia.head(3)"
   ]
  },
  {
   "cell_type": "code",
   "execution_count": null,
   "metadata": {},
   "outputs": [],
   "source": [
    "dia['period']=pd.to_timedelta(dia['period'])"
   ]
  },
  {
   "cell_type": "code",
   "execution_count": null,
   "metadata": {},
   "outputs": [],
   "source": [
    "dia.dtypes"
   ]
  },
  {
   "cell_type": "markdown",
   "metadata": {},
   "source": [
    "dia[dia['period'] < pd.Timedelta(4, unit='s')]"
   ]
  },
  {
   "cell_type": "code",
   "execution_count": null,
   "metadata": {},
   "outputs": [],
   "source": [
    "a=1\n",
    "dia['measurement']=1\n",
    "for i in range(dia.shape[0]):\n",
    "    if dia['period'][i] < pd.Timedelta(4, unit='s'):\n",
    "        dia['measurement'][i]=a\n",
    "    else:\n",
    "        a=a+1\n",
    "        dia['measurement'][i]=a"
   ]
  },
  {
   "cell_type": "code",
   "execution_count": null,
   "metadata": {},
   "outputs": [],
   "source": []
  },
  {
   "cell_type": "code",
   "execution_count": null,
   "metadata": {},
   "outputs": [],
   "source": [
    "dia.head(3)"
   ]
  },
  {
   "cell_type": "code",
   "execution_count": null,
   "metadata": {},
   "outputs": [],
   "source": [
    "dia.measurement.value_counts()"
   ]
  },
  {
   "cell_type": "code",
   "execution_count": null,
   "metadata": {},
   "outputs": [],
   "source": [
    "dia[dia.measurement == 53]"
   ]
  },
  {
   "cell_type": "code",
   "execution_count": null,
   "metadata": {},
   "outputs": [],
   "source": [
    "dia.measurement.value_counts().plot(kind='bar')"
   ]
  },
  {
   "cell_type": "markdown",
   "metadata": {},
   "source": [
    "Consideraçoes\n",
    "- no dia 10 temos 81 pesagens separadas\n",
    "- a maior pesagem engloba 180 amostras separadas por 3s\n",
    "- multiplas pesagens têm so 1 amostra - estranho"
   ]
  },
  {
   "cell_type": "code",
   "execution_count": null,
   "metadata": {},
   "outputs": [],
   "source": []
  },
  {
   "cell_type": "code",
   "execution_count": null,
   "metadata": {},
   "outputs": [],
   "source": [
    "dia=ordenado.reset_index(drop=True)\n",
    "dia['timestamp']= pd.to_datetime(dia['timestamp']) "
   ]
  },
  {
   "cell_type": "code",
   "execution_count": null,
   "metadata": {},
   "outputs": [],
   "source": [
    "dia.head()"
   ]
  },
  {
   "cell_type": "code",
   "execution_count": null,
   "metadata": {},
   "outputs": [],
   "source": [
    "dia['period']=dia.timestamp.diff()\n",
    "dia['period'][0]=0\n",
    "dia['period']=pd.to_timedelta(dia['period'])"
   ]
  },
  {
   "cell_type": "code",
   "execution_count": null,
   "metadata": {},
   "outputs": [],
   "source": [
    "a=1\n",
    "dia['measurement']=1\n",
    "for i in range(dia.shape[0]):\n",
    "    if dia['period'][i] < pd.Timedelta(4, unit='s'):\n",
    "        dia['measurement'][i]=a\n",
    "    else:\n",
    "        a=a+1\n",
    "        dia['measurement'][i]=a"
   ]
  },
  {
   "cell_type": "code",
   "execution_count": null,
   "metadata": {},
   "outputs": [],
   "source": [
    "a"
   ]
  },
  {
   "cell_type": "code",
   "execution_count": null,
   "metadata": {},
   "outputs": [],
   "source": [
    "dia.measurement.value_counts()"
   ]
  },
  {
   "cell_type": "code",
   "execution_count": null,
   "metadata": {},
   "outputs": [],
   "source": [
    "teste=dia[dia.measurement == 30722]"
   ]
  },
  {
   "cell_type": "code",
   "execution_count": null,
   "metadata": {},
   "outputs": [],
   "source": [
    "import matplotlib.pyplot as plt\n",
    "\n",
    "plt.figure(figsize=(20,10))\n",
    "plt.plot(teste.timestamp, teste.cellWeight_0)"
   ]
  },
  {
   "cell_type": "code",
   "execution_count": null,
   "metadata": {},
   "outputs": [],
   "source": [
    "dia102=teste.fillna(method='ffill')\n"
   ]
  },
  {
   "cell_type": "code",
   "execution_count": null,
   "metadata": {},
   "outputs": [],
   "source": [
    "import matplotlib.pyplot as plt\n",
    "\n",
    "plt.figure(figsize=(20,10))\n",
    "#plt.xlim=((2000, 6000))\n",
    "\n",
    "plt.plot(dia102.timestamp, dia102.cellWeight_0, 'r')\n",
    "plt.plot(teste.timestamp, teste.cellWeight_0, 'g')"
   ]
  },
  {
   "cell_type": "code",
   "execution_count": null,
   "metadata": {},
   "outputs": [],
   "source": [
    "teste.describe()"
   ]
  },
  {
   "cell_type": "code",
   "execution_count": null,
   "metadata": {},
   "outputs": [],
   "source": [
    "teste"
   ]
  },
  {
   "cell_type": "code",
   "execution_count": null,
   "metadata": {},
   "outputs": [],
   "source": [
    "dia.head()"
   ]
  },
  {
   "cell_type": "code",
   "execution_count": null,
   "metadata": {},
   "outputs": [],
   "source": [
    "dia.groupby(['measurement','cellSerialNumber_0']).count()\n"
   ]
  },
  {
   "cell_type": "code",
   "execution_count": null,
   "metadata": {},
   "outputs": [],
   "source": [
    "dia.groupby(['measurement']).mean()#,'cellWeight_0']).mean()"
   ]
  },
  {
   "cell_type": "code",
   "execution_count": null,
   "metadata": {},
   "outputs": [],
   "source": [
    "dia.head()"
   ]
  },
  {
   "cell_type": "code",
   "execution_count": null,
   "metadata": {},
   "outputs": [],
   "source": [
    "dia_interpolado=dia[1].fillna(method='ffill')"
   ]
  },
  {
   "cell_type": "code",
   "execution_count": null,
   "metadata": {},
   "outputs": [],
   "source": [
    "dia_interpolado=dia.loc[1]"
   ]
  },
  {
   "cell_type": "code",
   "execution_count": null,
   "metadata": {},
   "outputs": [],
   "source": [
    "type(dia_interpolado)"
   ]
  },
  {
   "cell_type": "code",
   "execution_count": null,
   "metadata": {},
   "outputs": [],
   "source": [
    "dia_interpolado=dia.set_index('measurement')\n",
    "dia_interpolado"
   ]
  },
  {
   "cell_type": "code",
   "execution_count": null,
   "metadata": {},
   "outputs": [],
   "source": [
    "dia_interpolado=dia.groupby('measurement')\n",
    "for i in range(20):\n",
    "    dia_interpolado.measurement.iloc[i]="
   ]
  },
  {
   "cell_type": "code",
   "execution_count": null,
   "metadata": {},
   "outputs": [],
   "source": [
    "dia_interpolado.loc[3].fillna(method='ffill')"
   ]
  },
  {
   "cell_type": "code",
   "execution_count": null,
   "metadata": {},
   "outputs": [],
   "source": []
  },
  {
   "cell_type": "code",
   "execution_count": null,
   "metadata": {},
   "outputs": [],
   "source": [
    "dia['period'][1]"
   ]
  },
  {
   "cell_type": "code",
   "execution_count": null,
   "metadata": {},
   "outputs": [],
   "source": [
    "dia['period'].dt.days"
   ]
  },
  {
   "cell_type": "code",
   "execution_count": null,
   "metadata": {},
   "outputs": [],
   "source": [
    "df = df[df['col'] < pd.Timedelta(30, unit='s')]"
   ]
  },
  {
   "cell_type": "code",
   "execution_count": null,
   "metadata": {},
   "outputs": [],
   "source": [
    "dia['period'] < pd.Timedelta(30, unit='s')"
   ]
  },
  {
   "cell_type": "code",
   "execution_count": null,
   "metadata": {},
   "outputs": [],
   "source": [
    "type(dia['period'])"
   ]
  },
  {
   "cell_type": "code",
   "execution_count": null,
   "metadata": {},
   "outputs": [],
   "source": [
    "#dia[\n",
    "dia['period'].dt.total_seconds()# < pd.Timedelta(30, unit='s')]"
   ]
  },
  {
   "cell_type": "code",
   "execution_count": null,
   "metadata": {},
   "outputs": [],
   "source": [
    "import datetime\n",
    "dia.period> Timedelta('0 days 00:00:03')#datetime.timedelta(seconds=1)"
   ]
  },
  {
   "cell_type": "code",
   "execution_count": null,
   "metadata": {},
   "outputs": [],
   "source": []
  },
  {
   "cell_type": "markdown",
   "metadata": {},
   "source": [
    "## separar e alterar"
   ]
  },
  {
   "cell_type": "code",
   "execution_count": null,
   "metadata": {},
   "outputs": [],
   "source": [
    "ordenado.head(3)"
   ]
  },
  {
   "cell_type": "code",
   "execution_count": null,
   "metadata": {},
   "outputs": [],
   "source": [
    "ordenado['timestamp']= pd.to_datetime(ordenado['timestamp']) "
   ]
  },
  {
   "cell_type": "code",
   "execution_count": null,
   "metadata": {},
   "outputs": [],
   "source": [
    "ordenado=ordenado.reset_index(drop=True)\n",
    "ordenado['period']=ordenado.timestamp.diff()\n",
    "ordenado['period'][0]=0\n",
    "ordenado['period']=pd.to_timedelta(ordenado['period'])"
   ]
  },
  {
   "cell_type": "code",
   "execution_count": null,
   "metadata": {},
   "outputs": [],
   "source": [
    "a=1\n",
    "ordenado['measurement']=1\n",
    "for i in range(ordenado.shape[0]):\n",
    "    if ordenado['period'][i] < pd.Timedelta(4, unit='s'):\n",
    "        ordenado['measurement'][i]=a\n",
    "    else:\n",
    "        a=a+1\n",
    "        ordenado['measurement'][i]=a"
   ]
  },
  {
   "cell_type": "code",
   "execution_count": null,
   "metadata": {},
   "outputs": [],
   "source": [
    "print('Numero total de pesagens isoladas: ' + str(a))\n",
    "ordenado.measurement.value_counts()"
   ]
  },
  {
   "cell_type": "code",
   "execution_count": null,
   "metadata": {},
   "outputs": [],
   "source": [
    "teste2=groupby()"
   ]
  },
  {
   "cell_type": "code",
   "execution_count": null,
   "metadata": {},
   "outputs": [],
   "source": [
    "teste=ordenado[ordenado.measurement == 30715]"
   ]
  },
  {
   "cell_type": "code",
   "execution_count": null,
   "metadata": {},
   "outputs": [],
   "source": [
    "teste.cellWeight_0.value_counts()"
   ]
  },
  {
   "cell_type": "code",
   "execution_count": null,
   "metadata": {},
   "outputs": [],
   "source": [
    "import matplotlib.pyplot as plt\n",
    "\n",
    "plt.figure(figsize=(20,3))\n",
    "plt.plot(teste.timestamp, teste.cellWeight_0)"
   ]
  },
  {
   "cell_type": "code",
   "execution_count": null,
   "metadata": {},
   "outputs": [],
   "source": [
    "teste.period.value_counts()"
   ]
  },
  {
   "cell_type": "code",
   "execution_count": null,
   "metadata": {
    "scrolled": true
   },
   "outputs": [],
   "source": [
    "teste"
   ]
  },
  {
   "cell_type": "markdown",
   "metadata": {},
   "source": [
    "consideraçoes:\n",
    "- claro problema de mediçoes com valores estagnados\n",
    "- se nan e resultado de nao variar, pq e que nao varia tem imensos nan??"
   ]
  },
  {
   "cell_type": "code",
   "execution_count": null,
   "metadata": {},
   "outputs": [],
   "source": [
    "ordenado.head(2)"
   ]
  },
  {
   "cell_type": "code",
   "execution_count": null,
   "metadata": {},
   "outputs": [],
   "source": [
    "y = pd.get_dummies(ordenado[['cellSerialNumber_0','cellSerialNumber_1','cellSerialNumber_2','cellSerialNumber_3','cellSerialNumber_4','cellSerialNumber_5','cellSerialNumber_6','cellSerialNumber_7']], prefix='', prefix_sep='')"
   ]
  },
  {
   "cell_type": "code",
   "execution_count": null,
   "metadata": {},
   "outputs": [],
   "source": [
    "substituir=y.groupby(y.columns, axis=1).sum()\n",
    "substituir"
   ]
  },
  {
   "cell_type": "code",
   "execution_count": null,
   "metadata": {},
   "outputs": [],
   "source": [
    "ordenado.shape"
   ]
  },
  {
   "cell_type": "code",
   "execution_count": null,
   "metadata": {},
   "outputs": [],
   "source": [
    "ordenado.iloc[150000]"
   ]
  },
  {
   "cell_type": "code",
   "execution_count": null,
   "metadata": {},
   "outputs": [],
   "source": [
    "substituir.iloc[150000]"
   ]
  },
  {
   "cell_type": "code",
   "execution_count": null,
   "metadata": {},
   "outputs": [],
   "source": []
  },
  {
   "cell_type": "code",
   "execution_count": null,
   "metadata": {},
   "outputs": [],
   "source": [
    "ordenado"
   ]
  },
  {
   "cell_type": "code",
   "execution_count": null,
   "metadata": {},
   "outputs": [],
   "source": []
  },
  {
   "cell_type": "code",
   "execution_count": null,
   "metadata": {},
   "outputs": [],
   "source": []
  },
  {
   "cell_type": "markdown",
   "metadata": {},
   "source": [
    "## alteração do dataset"
   ]
  },
  {
   "cell_type": "code",
   "execution_count": null,
   "metadata": {},
   "outputs": [],
   "source": [
    "ordenado.head(3)"
   ]
  },
  {
   "cell_type": "code",
   "execution_count": null,
   "metadata": {},
   "outputs": [],
   "source": [
    "y = pd.get_dummies(ordenado[['cellSerialNumber_0','cellSerialNumber_1','cellSerialNumber_2','cellSerialNumber_3','cellSerialNumber_4','cellSerialNumber_5','cellSerialNumber_6','cellSerialNumber_7']], prefix='', prefix_sep='')"
   ]
  },
  {
   "cell_type": "code",
   "execution_count": null,
   "metadata": {},
   "outputs": [],
   "source": [
    "teste=y.groupby(y.columns, axis=1).sum()\n",
    "teste"
   ]
  },
  {
   "cell_type": "code",
   "execution_count": null,
   "metadata": {},
   "outputs": [],
   "source": []
  },
  {
   "cell_type": "code",
   "execution_count": null,
   "metadata": {},
   "outputs": [],
   "source": []
  },
  {
   "cell_type": "code",
   "execution_count": null,
   "metadata": {},
   "outputs": [],
   "source": [
    "#ax = opsd_daily.loc['2017-01':'2017-02', 'Consumption'].plot(marker='o', linestyle='-')\n",
    "ax = dia10['cellWeight_0'].plot(marker='o', linestyle='-')\n",
    "ax.set_ylabel('Daily Consumption (GWh)');"
   ]
  },
  {
   "cell_type": "code",
   "execution_count": null,
   "metadata": {
    "scrolled": true
   },
   "outputs": [],
   "source": [
    "dia10=dia10.set_index('timestamp')"
   ]
  },
  {
   "cell_type": "code",
   "execution_count": null,
   "metadata": {},
   "outputs": [],
   "source": [
    "dia10.resample('3S')"
   ]
  },
  {
   "cell_type": "code",
   "execution_count": null,
   "metadata": {
    "scrolled": true
   },
   "outputs": [],
   "source": [
    "dia10['timestamp']= pd.to_datetime(dia10['timestamp']) "
   ]
  },
  {
   "cell_type": "code",
   "execution_count": null,
   "metadata": {},
   "outputs": [],
   "source": [
    "import datetime\n",
    "\n",
    "dti = pd.to_datetime(['1/1/2018', np.datetime64('2018-01-01'),  datetime.datetime(2018, 1, 1)])\n"
   ]
  },
  {
   "cell_type": "code",
   "execution_count": null,
   "metadata": {},
   "outputs": [],
   "source": [
    "dia10"
   ]
  },
  {
   "cell_type": "code",
   "execution_count": null,
   "metadata": {},
   "outputs": [],
   "source": [
    "dia10_2=dia10"
   ]
  },
  {
   "cell_type": "code",
   "execution_count": null,
   "metadata": {},
   "outputs": [],
   "source": [
    "dia10.set_index(dia10['timestamp'], inplace = True) "
   ]
  },
  {
   "cell_type": "code",
   "execution_count": null,
   "metadata": {},
   "outputs": [],
   "source": [
    "dia10"
   ]
  },
  {
   "cell_type": "code",
   "execution_count": null,
   "metadata": {},
   "outputs": [],
   "source": [
    "\n",
    "dia10_2=dia10\n",
    "dia10_2=dia10_2.set_index('timestamp', inplace=True)\n",
    "dia10_2"
   ]
  },
  {
   "cell_type": "code",
   "execution_count": null,
   "metadata": {
    "scrolled": false
   },
   "outputs": [],
   "source": [
    "import matplotlib.pyplot as plt\n",
    "import matplotlib.ticker as ticker\n",
    "\n",
    "#dia10['datetime'] = pd.to_datetime(df['Time [dd.mm.yyyy hh:mm:ss.ms]'], format=\"%d.%m.%Y %H:%M:%S.%f\")\n",
    "\n",
    "#print (dia10)\n",
    "\n",
    "#dia10_2=dia10\n",
    "#dia10_2=dia10_2.set_index('timestamp', inplace=True)\n",
    "\n",
    "ax = dia10_2['cellWeight_0'].plot()\n",
    "\n",
    "#dia10_2.index=pd.to_datetime(dia10_2.index).strftime('%d-%m-%Y')\n",
    "#'%d.%m.%Y %H:%M:%S.%f'\n",
    "\n",
    "dia10_2.index=pd.to_datetime(dia10_2.index).strftime('%d.%m.%Y %H:%M:%S')#.%f')\n",
    "\n",
    "#ticklabels = dia10_2.index.strftime('%Y-%m-%d')\n",
    "ax.xaxis.set_major_formatter(ticker.FixedFormatter(dia10_2.index))\n",
    "ax.yaxis.set_major_formatter(ticker.FormatStrFormatter('%.2f'))\n",
    "plt.xticks(rotation=90)\n",
    "plt.show()"
   ]
  },
  {
   "cell_type": "code",
   "execution_count": null,
   "metadata": {},
   "outputs": [],
   "source": [
    "Dst_count = dia10[\"Dst\"].where(df[\"Dst\"]<-100).resample(\"1y\").count()\n",
    "Dst_count = Dst_count.reindex(df.index, method=\"bfill\")"
   ]
  },
  {
   "cell_type": "code",
   "execution_count": null,
   "metadata": {},
   "outputs": [],
   "source": [
    "dia10"
   ]
  },
  {
   "cell_type": "code",
   "execution_count": null,
   "metadata": {},
   "outputs": [],
   "source": [
    "dia10.index=pd.to_datetime(dia10.index).strftime('%d.%m.%Y %H:%M:%S.%f')"
   ]
  },
  {
   "cell_type": "code",
   "execution_count": null,
   "metadata": {},
   "outputs": [],
   "source": [
    "dia10_2"
   ]
  },
  {
   "cell_type": "code",
   "execution_count": null,
   "metadata": {},
   "outputs": [],
   "source": [
    "teste=ordenado.set_index('timestamp')"
   ]
  },
  {
   "cell_type": "code",
   "execution_count": null,
   "metadata": {},
   "outputs": [],
   "source": [
    "df.set_index(df['Date'].dt.date, inplace = True) \n",
    "df.asfreq(freq='1D').fillna(method='bfill', limit=1).dropna(how='all').drop_duplicates(keep='last')"
   ]
  },
  {
   "cell_type": "code",
   "execution_count": null,
   "metadata": {},
   "outputs": [],
   "source": [
    "teste.loc['2019']"
   ]
  },
  {
   "cell_type": "code",
   "execution_count": null,
   "metadata": {
    "scrolled": true
   },
   "outputs": [],
   "source": [
    "dia11=teste.loc['2019-05']"
   ]
  },
  {
   "cell_type": "code",
   "execution_count": null,
   "metadata": {},
   "outputs": [],
   "source": [
    "dia10.shape"
   ]
  },
  {
   "cell_type": "code",
   "execution_count": null,
   "metadata": {
    "scrolled": true
   },
   "outputs": [],
   "source": [
    "dia10.head(10)"
   ]
  },
  {
   "cell_type": "code",
   "execution_count": null,
   "metadata": {},
   "outputs": [],
   "source": [
    "import matplotlib.pyplot as plt\n",
    "plt.plot(teste)"
   ]
  },
  {
   "cell_type": "code",
   "execution_count": null,
   "metadata": {
    "scrolled": true
   },
   "outputs": [],
   "source": [
    "teste=dia10.cellWeight_0.tolist()\n",
    "teste"
   ]
  },
  {
   "cell_type": "code",
   "execution_count": null,
   "metadata": {},
   "outputs": [],
   "source": [
    "dia10.set_index('timestamp', inplace=True)"
   ]
  },
  {
   "cell_type": "code",
   "execution_count": null,
   "metadata": {},
   "outputs": [],
   "source": [
    "import matplotlib.pyplot as plt\n",
    "import matplotlib.ticker as ticker\n",
    "\n",
    "#dia10['datetime'] = pd.to_datetime(df['Time [dd.mm.yyyy hh:mm:ss.ms]'], format=\"%d.%m.%Y %H:%M:%S.%f\")\n",
    "\n",
    "#print (dia10)\n",
    "\n",
    "dia10_2=dia10\n",
    "dia10_2=dia10_2.set_index('timestamp', inplace=True)\n",
    "\n",
    "ax = dia10_2['cellWeight_0'].plot()\n",
    "\n",
    "#ticklabels = dia10.index.strftime('%Y-%m-%d')\n",
    "ax.xaxis.set_major_formatter(ticker.FixedFormatter(ticklabels))\n",
    "ax.yaxis.set_major_formatter(ticker.FormatStrFormatter('%.2f'))\n",
    "plt.show()"
   ]
  },
  {
   "cell_type": "code",
   "execution_count": null,
   "metadata": {},
   "outputs": [],
   "source": [
    "dia10_2=dia10\n",
    "dia10_2"
   ]
  },
  {
   "cell_type": "code",
   "execution_count": null,
   "metadata": {},
   "outputs": [],
   "source": [
    "plt.plot(\"time\", \"y\", data=df)"
   ]
  },
  {
   "cell_type": "code",
   "execution_count": null,
   "metadata": {},
   "outputs": [],
   "source": []
  },
  {
   "cell_type": "code",
   "execution_count": null,
   "metadata": {},
   "outputs": [],
   "source": []
  },
  {
   "cell_type": "code",
   "execution_count": null,
   "metadata": {},
   "outputs": [],
   "source": []
  },
  {
   "cell_type": "code",
   "execution_count": null,
   "metadata": {},
   "outputs": [],
   "source": []
  },
  {
   "cell_type": "code",
   "execution_count": null,
   "metadata": {},
   "outputs": [],
   "source": [
    "dados['cellSerialNumber_0']=dados['cellSerialNumber_0'].fillna(0)\n",
    "dados['cellSerialNumber_1']=dados['cellSerialNumber_1'].fillna(0)\n",
    "dados['cellSerialNumber_2']=dados['cellSerialNumber_2'].fillna(0)\n",
    "dados['cellSerialNumber_3']=dados['cellSerialNumber_3'].fillna(0)\n",
    "dados['cellSerialNumber_4']=dados['cellSerialNumber_4'].fillna(0)\n",
    "dados['cellSerialNumber_5']=dados['cellSerialNumber_5'].fillna(0)\n",
    "dados['cellSerialNumber_6']=dados['cellSerialNumber_6'].fillna(0)\n",
    "dados['cellSerialNumber_7']=dados['cellSerialNumber_7'].fillna(0)"
   ]
  },
  {
   "cell_type": "code",
   "execution_count": null,
   "metadata": {},
   "outputs": [],
   "source": [
    "clean0=dados['cellSerialNumber_0'].tolist()\n",
    "clean1=dados['cellSerialNumber_1'].tolist()\n",
    "clean2=dados['cellSerialNumber_2'].tolist()\n",
    "clean3=dados['cellSerialNumber_3'].tolist()\n",
    "clean4=dados['cellSerialNumber_4'].tolist()\n",
    "clean5=dados['cellSerialNumber_5'].tolist()\n",
    "clean6=dados['cellSerialNumber_6'].tolist()\n",
    "clean7=dados['cellSerialNumber_7'].tolist()"
   ]
  },
  {
   "cell_type": "code",
   "execution_count": null,
   "metadata": {},
   "outputs": [],
   "source": [
    "(clean3)"
   ]
  },
  {
   "cell_type": "code",
   "execution_count": null,
   "metadata": {},
   "outputs": [],
   "source": [
    "convert_first_to_generator = (str(w) for w in clean3)"
   ]
  },
  {
   "cell_type": "code",
   "execution_count": null,
   "metadata": {},
   "outputs": [],
   "source": [
    "convert_first_to_generator"
   ]
  },
  {
   "cell_type": "code",
   "execution_count": null,
   "metadata": {},
   "outputs": [],
   "source": [
    "int_arr = list(range(10))\n",
    "convert_first_to_generator = (str(w) for w in int_arr)\n",
    "print(''.join(convert_first_to_generator))"
   ]
  },
  {
   "cell_type": "code",
   "execution_count": null,
   "metadata": {},
   "outputs": [],
   "source": [
    "(int_arr)"
   ]
  },
  {
   "cell_type": "code",
   "execution_count": null,
   "metadata": {},
   "outputs": [],
   "source": [
    "clean4=[str(i) for i in clean4]"
   ]
  },
  {
   "cell_type": "code",
   "execution_count": null,
   "metadata": {},
   "outputs": [],
   "source": [
    "teste"
   ]
  },
  {
   "cell_type": "code",
   "execution_count": null,
   "metadata": {},
   "outputs": [],
   "source": [
    "for i in range(0, len(clean0)):    \n",
    "    if clean4[i][0] == '0' and len(clean4[i])>1:\n",
    "        clean4[i]=clean4[i][1:]"
   ]
  },
  {
   "cell_type": "code",
   "execution_count": null,
   "metadata": {},
   "outputs": [],
   "source": [
    "clean4[3][0] == '0' and len(clean4[3])>1"
   ]
  },
  {
   "cell_type": "code",
   "execution_count": null,
   "metadata": {},
   "outputs": [],
   "source": [
    "clean4"
   ]
  },
  {
   "cell_type": "code",
   "execution_count": null,
   "metadata": {},
   "outputs": [],
   "source": [
    "str(int(clean7[0]))"
   ]
  },
  {
   "cell_type": "code",
   "execution_count": null,
   "metadata": {},
   "outputs": [],
   "source": [
    "for i in range(0, len(clean0)):\n",
    "    if type(clean0[i]) == float:\n",
    "        clean0[i]=str(int(clean0[i]))\n",
    "    if type(clean1[i]) == float:\n",
    "        clean1[i]=str(int(clean1[i]))\n",
    "    if type(clean2[i]) == float:\n",
    "        clean2[i]=str(int(clean2[i]))\n",
    "    if type(clean3[i]) == float:\n",
    "        clean3[i]=str(int(clean3[i]))\n",
    "    if type(clean4[i]) == float:\n",
    "        clean4[i]=str(int(clean4[i]))\n",
    "    if type(clean5[i]) == float:\n",
    "        clean5[i]=str(int(clean5[i]))\n",
    "    if type(clean6[i]) == float:\n",
    "        clean6[i]=str(int(clean6[i]))\n",
    "    if type(clean7[i]) == float:\n",
    "        clean7[i]=str(int(clean7[i]))"
   ]
  },
  {
   "cell_type": "code",
   "execution_count": null,
   "metadata": {},
   "outputs": [],
   "source": [
    "clean0=[str(i) for i in clean0]\n",
    "clean1=[str(i) for i in clean1]\n",
    "clean2=[str(i) for i in clean2]\n",
    "clean3=[str(i) for i in clean3]\n",
    "clean4=[str(i) for i in clean4]\n",
    "clean5=[str(i) for i in clean5]\n",
    "clean6=[str(i) for i in clean6]\n",
    "clean7=[str(i) for i in clean7]"
   ]
  },
  {
   "cell_type": "code",
   "execution_count": null,
   "metadata": {},
   "outputs": [],
   "source": [
    "for i in range(0, len(clean0)):\n",
    "    if clean0[i][0] == '0' and len(clean0[i])>1:\n",
    "        clean0[i]=clean0[i][1:]\n",
    "    if clean1[i][0] == '0'and len(clean1[i])>1:\n",
    "        clean1[i]=clean1[i][1:]\n",
    "    if clean2[i][0] == '0' and len(clean2[i])>1:\n",
    "        clean2[i]=clean2[i][1:]\n",
    "    if clean3[i][0] == '0'and len(clean3[i])>1:\n",
    "        clean3[i]=clean3[i][1:]\n",
    "    if clean4[i][0] == '0'and len(clean4[i])>1:\n",
    "        clean4[i]=clean4[i][1:]\n",
    "    if clean5[i][0] == '0'and len(clean5[i])>1:\n",
    "        clean5[i]=clean5[i][1:]\n",
    "    if clean6[i][0] == '0'and len(clean6[i])>1:\n",
    "        clean6[i]=clean6[i][1:]\n",
    "    if clean7[i][0] == '0'and len(clean7[i])>1:\n",
    "        clean7[i]=clean7[i][1:]"
   ]
  },
  {
   "cell_type": "code",
   "execution_count": null,
   "metadata": {},
   "outputs": [],
   "source": [
    "dados['cellSerialNumber_0']=clean0\n",
    "dados['cellSerialNumber_1']=clean1\n",
    "dados['cellSerialNumber_2']=clean2\n",
    "dados['cellSerialNumber_3']=clean3\n",
    "dados['cellSerialNumber_4']=clean4\n",
    "dados['cellSerialNumber_5']=clean5\n",
    "dados['cellSerialNumber_6']=clean6\n",
    "dados['cellSerialNumber_7']=clean7"
   ]
  },
  {
   "cell_type": "code",
   "execution_count": null,
   "metadata": {},
   "outputs": [],
   "source": [
    "dados.head()"
   ]
  },
  {
   "cell_type": "code",
   "execution_count": null,
   "metadata": {},
   "outputs": [],
   "source": [
    "dados['cellSerialNumber_7'].unique()"
   ]
  },
  {
   "cell_type": "markdown",
   "metadata": {},
   "source": [
    "for i in range(0, dados.shape[0]+1):\n",
    "    if type(dados['cellSerialNumber_0'][i]) == float:\n",
    "        dados['cellSerialNumber_0'][i]=str(int(dados['cellSerialNumber_0'][i]))"
   ]
  },
  {
   "cell_type": "code",
   "execution_count": null,
   "metadata": {},
   "outputs": [],
   "source": [
    "dados[['scaleGross','scaleNet']] = dados[['scaleGross','scaleNet']].fillna(value=0)\n",
    "dados[['cellWeight_0','cellWeight_1','cellWeight_2','cellWeight_3','cellWeight_4','cellWeight_5','cellWeight_6','cellWeight_7']] = dados[['cellWeight_0','cellWeight_1','cellWeight_2','cellWeight_3','cellWeight_4','cellWeight_5','cellWeight_6','cellWeight_7']].fillna(value=0)\n",
    "dados[['cellSerialNumber_0']] = dados[['cellSerialNumber_0']].astype(str)\n",
    "dados[['terminalSerialNumber','scaleSerialNumber']]=dados[['terminalSerialNumber','scaleSerialNumber']].astype(str)\n"
   ]
  },
  {
   "cell_type": "code",
   "execution_count": null,
   "metadata": {},
   "outputs": [],
   "source": [
    "details=pd.DataFrame(dados.dtypes, columns=['type'])\n",
    "details['#Nan']=dados.isnull().sum(axis = 0)\n",
    "details['#uniques']=dados.nunique()"
   ]
  },
  {
   "cell_type": "code",
   "execution_count": null,
   "metadata": {},
   "outputs": [],
   "source": [
    "dados[['scaleGross','scaleNet']] = dados[['scaleGross','scaleNet']].fillna(value=0)\n",
    "details['#Nan_replaced']=dados.isnull().sum(axis = 0)"
   ]
  },
  {
   "cell_type": "code",
   "execution_count": null,
   "metadata": {},
   "outputs": [],
   "source": [
    "dados[['cellWeight_0','cellWeight_1','cellWeight_2','cellWeight_3','cellWeight_4','cellWeight_5','cellWeight_6','cellWeight_7']] = dados[['cellWeight_0','cellWeight_1','cellWeight_2','cellWeight_3','cellWeight_4','cellWeight_5','cellWeight_6','cellWeight_7']].fillna(value=0)\n",
    "details['#Nan_cell_weights_at0']=dados.isnull().sum(axis = 0)"
   ]
  },
  {
   "cell_type": "code",
   "execution_count": null,
   "metadata": {},
   "outputs": [],
   "source": [
    "\n",
    "#dados[['cellSerialNumber_0','cellSerialNumber_1','cellSerialNumber_2','cellSerialNumber_3','cellSerialNumber_4','cellSerialNumber_5','cellSerialNumber_6','cellSerialNumber_7']] = dados[['cellSerialNumber_0','cellSerialNumber_1','cellSerialNumber_2','cellSerialNumber_3','cellSerialNumber_4','cellSerialNumber_5','cellSerialNumber_6','cellSerialNumber_7']].astype(str) \n",
    "dados[['cellSerialNumber_0']] = dados[['cellSerialNumber_0']].astype(str) \n",
    "details['type_converted']=dados.dtypes"
   ]
  },
  {
   "cell_type": "code",
   "execution_count": null,
   "metadata": {},
   "outputs": [],
   "source": [
    "dados[['terminalSerialNumber','scaleSerialNumber']]=dados[['terminalSerialNumber','scaleSerialNumber']].astype(str)\n",
    "details['#nunqiues_corrected']=dados.nunique()"
   ]
  },
  {
   "cell_type": "code",
   "execution_count": null,
   "metadata": {
    "scrolled": false
   },
   "outputs": [],
   "source": [
    "details"
   ]
  },
  {
   "cell_type": "code",
   "execution_count": null,
   "metadata": {},
   "outputs": [],
   "source": [
    "dados.head()"
   ]
  },
  {
   "cell_type": "markdown",
   "metadata": {},
   "source": [
    "### avaliar problema 1: pesagens com valor nulo sendo que as celulas têm peso !"
   ]
  },
  {
   "cell_type": "code",
   "execution_count": null,
   "metadata": {},
   "outputs": [],
   "source": [
    "sempesos=dados[dados.scaleGross == 0]"
   ]
  },
  {
   "cell_type": "code",
   "execution_count": null,
   "metadata": {},
   "outputs": [],
   "source": [
    "sempesos.shape"
   ]
  },
  {
   "cell_type": "code",
   "execution_count": null,
   "metadata": {},
   "outputs": [],
   "source": [
    "teste=sempesos[sempesos.cellSerialNumber_0!= '0']"
   ]
  },
  {
   "cell_type": "code",
   "execution_count": null,
   "metadata": {},
   "outputs": [],
   "source": [
    "teste[teste.cellWeight_1!=0]"
   ]
  },
  {
   "cell_type": "markdown",
   "metadata": {},
   "source": [
    "### avaliar problema 3: diferença de valores entre a pesagem e a soma (aquela coisa de haver provavelmente uma formula interna deles)\n"
   ]
  },
  {
   "cell_type": "code",
   "execution_count": null,
   "metadata": {},
   "outputs": [],
   "source": [
    "dados.head()"
   ]
  },
  {
   "cell_type": "code",
   "execution_count": null,
   "metadata": {},
   "outputs": [],
   "source": [
    "ativos=dados[dados.cellSerialNumber_0 != '0']"
   ]
  },
  {
   "cell_type": "code",
   "execution_count": null,
   "metadata": {},
   "outputs": [],
   "source": [
    "ativos.scaleSerialNumber.value_counts()"
   ]
  },
  {
   "cell_type": "code",
   "execution_count": null,
   "metadata": {},
   "outputs": [],
   "source": [
    "ativos[ativos.scaleGross!=0].scaleSerialNumber.value_counts()"
   ]
  },
  {
   "cell_type": "code",
   "execution_count": null,
   "metadata": {},
   "outputs": [],
   "source": [
    "somas=ativos[ativos.scaleGross!=0]\n",
    "somas.head()"
   ]
  },
  {
   "cell_type": "code",
   "execution_count": null,
   "metadata": {},
   "outputs": [],
   "source": [
    "#somas['soma']=somas.sum(axis = 1)\n",
    "somas['soma']=somas[['cellWeight_0','cellWeight_1','cellWeight_2','cellWeight_3','cellWeight_4','cellWeight_5','cellWeight_6','cellWeight_7']].sum(axis = 1)#df[col_list].sum(axis=1)"
   ]
  },
  {
   "cell_type": "code",
   "execution_count": null,
   "metadata": {},
   "outputs": [],
   "source": [
    "somas[['terminalSerialNumber','scaleSerialNumber','scaleGross','scaleNet','soma','cellWeight_0','cellWeight_1','cellWeight_2','cellWeight_3','cellWeight_4','cellWeight_5','cellWeight_6','cellWeight_7']]"
   ]
  },
  {
   "cell_type": "code",
   "execution_count": null,
   "metadata": {
    "scrolled": true
   },
   "outputs": [],
   "source": [
    "somas.head()"
   ]
  },
  {
   "cell_type": "markdown",
   "metadata": {},
   "source": [
    "### avaliar problema 4:Cells with same serial number in different bridges\n"
   ]
  },
  {
   "cell_type": "code",
   "execution_count": null,
   "metadata": {},
   "outputs": [],
   "source": [
    "dados.head()"
   ]
  },
  {
   "cell_type": "code",
   "execution_count": null,
   "metadata": {},
   "outputs": [],
   "source": [
    "pontes=pd.read_json('devicesinfos_partition1.json')\n",
    "info_pontes=pontes[['scaleSerialNumber','terminalSerialNumber','scaleCellCount','scaleDataAvailability','timestamp','cell0_serialNumber','cell1_serialNumber','cell2_serialNumber','cell3_serialNumber','cell4_serialNumber','cell5_serialNumber','cell6_serialNumber','cell7_serialNumber']]"
   ]
  },
  {
   "cell_type": "code",
   "execution_count": null,
   "metadata": {},
   "outputs": [],
   "source": [
    "info_pontes"
   ]
  },
  {
   "cell_type": "code",
   "execution_count": null,
   "metadata": {},
   "outputs": [],
   "source": [
    "dados[dados['scaleSerialNumber']=='P083500022'].cellSerialNumber_0.value_counts()"
   ]
  },
  {
   "cell_type": "code",
   "execution_count": null,
   "metadata": {},
   "outputs": [],
   "source": [
    "dados['cellSerialNumber_0'].unique()"
   ]
  },
  {
   "cell_type": "code",
   "execution_count": null,
   "metadata": {},
   "outputs": [],
   "source": [
    "\n",
    "teste=dados[['cellSerialNumber_0']].astype(str)\n"
   ]
  },
  {
   "cell_type": "code",
   "execution_count": null,
   "metadata": {},
   "outputs": [],
   "source": [
    "dados.shape[0]"
   ]
  },
  {
   "cell_type": "code",
   "execution_count": null,
   "metadata": {},
   "outputs": [],
   "source": [
    "dados[['cellSerialNumber_0']].head(25)"
   ]
  },
  {
   "cell_type": "code",
   "execution_count": null,
   "metadata": {},
   "outputs": [],
   "source": [
    "str(int(dados['cellSerialNumber_0'][0]))#.astype(int)"
   ]
  },
  {
   "cell_type": "markdown",
   "metadata": {},
   "source": [
    "estrategia:\n",
    "- cell id ja foram descartados porque sao todos unicos ou nan para a totalidade de pesagens\n",
    "- os scalegross e scale net foram preenchidos com valor 0\n",
    "- as cell weighting com nan sao preenchidas a 0\n",
    "- os serial number estao numericos - converter para string\n",
    "- terminal serial number tem valores reptidos, conversao para string resolveu"
   ]
  },
  {
   "cell_type": "code",
   "execution_count": null,
   "metadata": {},
   "outputs": [],
   "source": [
    "erro1=dados[dados['scaleGross'].isnull()]"
   ]
  },
  {
   "cell_type": "code",
   "execution_count": null,
   "metadata": {},
   "outputs": [],
   "source": [
    "erro1.cellSerialNumber_0.value_counts().sum()#.sort_values(['cellSerialNumber_0'], ascending=False)"
   ]
  },
  {
   "cell_type": "code",
   "execution_count": null,
   "metadata": {},
   "outputs": [],
   "source": [
    "validar_ids=dados.sort_values(['cellSerialNumber_0']).set_index(['cellSerialNumber_0'])#.count()"
   ]
  },
  {
   "cell_type": "code",
   "execution_count": null,
   "metadata": {},
   "outputs": [],
   "source": [
    "validar_ids"
   ]
  },
  {
   "cell_type": "markdown",
   "metadata": {},
   "source": [
    "informações:\n",
    "- Ha valores de pesagem (sclaegross/net) com valores>0 e qd as celulas de pesagem nao têm serial number (Nan) ex: 5df09f84e2d52275b7392292\n",
    "- ha valores de pesagens negaivos ex 5cd9a59a9f4a53cf70f53d0d\n",
    "- sera que cada ponte tem uma coleçao de celulas especificas? uma celula 0 so se liga com uma expecifica celula 1?\n"
   ]
  },
  {
   "cell_type": "code",
   "execution_count": null,
   "metadata": {},
   "outputs": [],
   "source": [
    "validar_ids=dados.sort_values(['cellSerialNumber_0']).set_index(['cellSerialNumber_0']).count()"
   ]
  },
  {
   "cell_type": "markdown",
   "metadata": {},
   "source": [
    "- opçao count apenas salienta que ha nan ha medida que se acrescenta celula"
   ]
  },
  {
   "cell_type": "code",
   "execution_count": null,
   "metadata": {},
   "outputs": [],
   "source": [
    "validar_ids=dados.groupby(['cellSerialNumber_0']).count()"
   ]
  },
  {
   "cell_type": "code",
   "execution_count": null,
   "metadata": {
    "scrolled": true
   },
   "outputs": [],
   "source": [
    "validar_ids"
   ]
  },
  {
   "cell_type": "markdown",
   "metadata": {},
   "source": [
    "- opçao nunique mostra que um serial number 0 pode ter mais que 1 serial nuber 1 (nem considerando NAN) logo ao e possivel substituir"
   ]
  },
  {
   "cell_type": "code",
   "execution_count": null,
   "metadata": {},
   "outputs": [],
   "source": [
    "validar_ids=dados.groupby(['cellSerialNumber_0']).nunique()"
   ]
  },
  {
   "cell_type": "code",
   "execution_count": null,
   "metadata": {},
   "outputs": [],
   "source": [
    "validar_ids"
   ]
  },
  {
   "cell_type": "code",
   "execution_count": null,
   "metadata": {},
   "outputs": [],
   "source": [
    "dados[dados['cellSerialNumber_0']=='00000d9c']"
   ]
  },
  {
   "cell_type": "code",
   "execution_count": null,
   "metadata": {},
   "outputs": [],
   "source": [
    "dados[dados['cellSerialNumber_0']=='13160003.0']"
   ]
  },
  {
   "cell_type": "code",
   "execution_count": null,
   "metadata": {
    "scrolled": true
   },
   "outputs": [],
   "source": [
    "validar_ids.max()"
   ]
  },
  {
   "cell_type": "code",
   "execution_count": null,
   "metadata": {},
   "outputs": [],
   "source": []
  },
  {
   "cell_type": "code",
   "execution_count": null,
   "metadata": {},
   "outputs": [],
   "source": [
    "ordenar no tempo"
   ]
  },
  {
   "cell_type": "code",
   "execution_count": null,
   "metadata": {},
   "outputs": [],
   "source": []
  },
  {
   "cell_type": "markdown",
   "metadata": {},
   "source": [
    "## Ate aqui assumiu-se nao deitar NaN fora\n",
    "- substitui-se nan de pesagens por 0\n",
    "- preservou-se nan de serial number de celulas porque a pesagem tinha valor completo\n",
    "- eqauciona-se deitar fora se as celulas e pesagem completa for Nan, mas ainda nao ocorreu"
   ]
  },
  {
   "cell_type": "markdown",
   "metadata": {},
   "source": [
    "# avaliar pontes"
   ]
  },
  {
   "cell_type": "markdown",
   "metadata": {},
   "source": [
    "estrategia:\n",
    "- clean dados \n",
    "- reajustar problema\n",
    "- identificar o conceito anomalia (de como a detetam, onde e que ja aconteceu)"
   ]
  },
  {
   "cell_type": "code",
   "execution_count": null,
   "metadata": {},
   "outputs": [],
   "source": [
    "pontes=pd.read_json('devicesinfos_partition1.json')"
   ]
  },
  {
   "cell_type": "code",
   "execution_count": null,
   "metadata": {},
   "outputs": [],
   "source": [
    "pontes.columns"
   ]
  },
  {
   "cell_type": "code",
   "execution_count": null,
   "metadata": {},
   "outputs": [],
   "source": [
    "pontes.scaleSerialNumber.nunique()"
   ]
  },
  {
   "cell_type": "code",
   "execution_count": null,
   "metadata": {},
   "outputs": [],
   "source": [
    "pontes.head()"
   ]
  },
  {
   "cell_type": "code",
   "execution_count": null,
   "metadata": {},
   "outputs": [],
   "source": [
    "info_pontes=pontes[['scaleSerialNumber','terminalSerialNumber','scaleCellCount','scaleDataAvailability','timestamp','cell0_serialNumber','cell1_serialNumber','cell2_serialNumber','cell3_serialNumber','cell4_serialNumber','cell5_serialNumber','cell6_serialNumber','cell7_serialNumber']]"
   ]
  },
  {
   "cell_type": "code",
   "execution_count": null,
   "metadata": {
    "scrolled": true
   },
   "outputs": [],
   "source": [
    "info_pontes"
   ]
  },
  {
   "cell_type": "code",
   "execution_count": null,
   "metadata": {},
   "outputs": [],
   "source": [
    "info_pontes[['cell0_serialNumber','cell1_serialNumber','cell2_serialNumber','cell3_serialNumber','cell4_serialNumber','cell5_serialNumber','cell6_serialNumber','cell7_serialNumber']]=info_pontes[['cell0_serialNumber','cell1_serialNumber','cell2_serialNumber','cell3_serialNumber','cell4_serialNumber','cell5_serialNumber','cell6_serialNumber','cell7_serialNumber']].astype(str)"
   ]
  },
  {
   "cell_type": "code",
   "execution_count": null,
   "metadata": {},
   "outputs": [],
   "source": [
    "pontes[pontes['scaleSerialNumber']=='P192100052'].nunique()"
   ]
  },
  {
   "cell_type": "code",
   "execution_count": null,
   "metadata": {},
   "outputs": [],
   "source": [
    "info_pontes"
   ]
  },
  {
   "cell_type": "code",
   "execution_count": null,
   "metadata": {},
   "outputs": [],
   "source": [
    "details_pontes=pd.DataFrame(info_pontes.dtypes, columns=['type'])\n",
    "details_pontes['#Nan']=info_pontes.isnull().sum(axis = 0)\n",
    "details_pontes['#uniques']=info_pontes.nunique()"
   ]
  },
  {
   "cell_type": "code",
   "execution_count": null,
   "metadata": {},
   "outputs": [],
   "source": [
    "details_pontes"
   ]
  },
  {
   "cell_type": "code",
   "execution_count": null,
   "metadata": {},
   "outputs": [],
   "source": [
    "teste=dados[dados['scaleSerialNumber']=='00000000']#.nunique()\n",
    "teste"
   ]
  },
  {
   "cell_type": "code",
   "execution_count": null,
   "metadata": {},
   "outputs": [],
   "source": [
    "teste[teste['scaleGross']==0]#.nunique()"
   ]
  },
  {
   "cell_type": "code",
   "execution_count": null,
   "metadata": {},
   "outputs": [],
   "source": [
    "dados[dados['scaleSerialNumber']=='P192100052'].nunique()"
   ]
  },
  {
   "cell_type": "code",
   "execution_count": null,
   "metadata": {},
   "outputs": [],
   "source": [
    "type(testes)"
   ]
  },
  {
   "cell_type": "code",
   "execution_count": null,
   "metadata": {},
   "outputs": [],
   "source": [
    "dados['scaleSerialNumber'].unique()"
   ]
  },
  {
   "cell_type": "code",
   "execution_count": null,
   "metadata": {},
   "outputs": [],
   "source": [
    "info_pontes['scaleSerialNumber'].unique()"
   ]
  },
  {
   "cell_type": "code",
   "execution_count": null,
   "metadata": {},
   "outputs": [],
   "source": [
    "devices['serialNumber'].unique()"
   ]
  },
  {
   "cell_type": "code",
   "execution_count": null,
   "metadata": {},
   "outputs": [],
   "source": [
    "dados['terminalSerialNumber'].unique()"
   ]
  },
  {
   "cell_type": "code",
   "execution_count": null,
   "metadata": {},
   "outputs": [],
   "source": [
    "info_pontes['terminalSerialNumber'].unique()"
   ]
  },
  {
   "cell_type": "code",
   "execution_count": null,
   "metadata": {},
   "outputs": [],
   "source": [
    "devices['terminalSerialNumber'].unique()"
   ]
  },
  {
   "cell_type": "code",
   "execution_count": null,
   "metadata": {},
   "outputs": [],
   "source": [
    "dados['terminalSerialNumber'].value_counts()"
   ]
  },
  {
   "cell_type": "code",
   "execution_count": null,
   "metadata": {
    "scrolled": true
   },
   "outputs": [],
   "source": [
    "info_pontes.sort_values(['terminalSerialNumber','scaleSerialNumber'])"
   ]
  },
  {
   "cell_type": "code",
   "execution_count": null,
   "metadata": {},
   "outputs": [],
   "source": [
    "info_pontes.groupby(['terminalSerialNumber','scaleSerialNumber']).nunique()"
   ]
  },
  {
   "cell_type": "code",
   "execution_count": null,
   "metadata": {},
   "outputs": [],
   "source": [
    "info_pontes['scaleCellCount'].unique()"
   ]
  },
  {
   "cell_type": "code",
   "execution_count": null,
   "metadata": {
    "scrolled": false
   },
   "outputs": [],
   "source": [
    "devices.groupby(['terminalSerialNumber','serialNumber']).count()"
   ]
  },
  {
   "cell_type": "code",
   "execution_count": null,
   "metadata": {},
   "outputs": [],
   "source": [
    "dados[['terminalSerialNumber']]=dados[['terminalSerialNumber']].astype(str)"
   ]
  },
  {
   "cell_type": "code",
   "execution_count": null,
   "metadata": {},
   "outputs": [],
   "source": [
    "dados[dados['terminalSerialNumber']=='160690']"
   ]
  },
  {
   "cell_type": "code",
   "execution_count": null,
   "metadata": {},
   "outputs": [],
   "source": [
    "devices=pd.read_json('devices_partition1.json')"
   ]
  },
  {
   "cell_type": "code",
   "execution_count": null,
   "metadata": {},
   "outputs": [],
   "source": [
    "devices.nunique()"
   ]
  },
  {
   "cell_type": "code",
   "execution_count": null,
   "metadata": {},
   "outputs": [],
   "source": [
    "devices.columns"
   ]
  },
  {
   "cell_type": "code",
   "execution_count": null,
   "metadata": {},
   "outputs": [],
   "source": [
    "devices['customerCompany'].value_counts()"
   ]
  },
  {
   "cell_type": "code",
   "execution_count": null,
   "metadata": {},
   "outputs": [],
   "source": [
    "devices['subsidiaryCompany'].value_counts()"
   ]
  },
  {
   "cell_type": "code",
   "execution_count": null,
   "metadata": {},
   "outputs": [],
   "source": []
  },
  {
   "cell_type": "code",
   "execution_count": null,
   "metadata": {},
   "outputs": [],
   "source": [
    "286353+1909891"
   ]
  },
  {
   "cell_type": "code",
   "execution_count": null,
   "metadata": {},
   "outputs": [],
   "source": [
    "819343+1376901"
   ]
  },
  {
   "cell_type": "markdown",
   "metadata": {},
   "source": [
    "- claramente as cellid variam a cada pesagem - o verdadeiro id das celulas e o serial number"
   ]
  },
  {
   "cell_type": "code",
   "execution_count": null,
   "metadata": {},
   "outputs": [],
   "source": [
    "dados['scaleSerialNumber'].unique()"
   ]
  },
  {
   "cell_type": "code",
   "execution_count": null,
   "metadata": {},
   "outputs": [],
   "source": [
    "dados['scaleSerialNumber'].value_counts()"
   ]
  },
  {
   "cell_type": "markdown",
   "metadata": {},
   "source": [
    "informaçoes\n",
    "- ha 11 pontes de pesagem"
   ]
  },
  {
   "cell_type": "code",
   "execution_count": null,
   "metadata": {},
   "outputs": [],
   "source": [
    "ponte1=dados[dados['scaleSerialNumber']=='S173004032']"
   ]
  },
  {
   "cell_type": "code",
   "execution_count": null,
   "metadata": {},
   "outputs": [],
   "source": [
    "ponte1.nunique()"
   ]
  },
  {
   "cell_type": "code",
   "execution_count": null,
   "metadata": {},
   "outputs": [],
   "source": [
    "ponte1=dados[dados['scaleSerialNumber']=='S190601092']\n",
    "details=pd.DataFrame(ponte1.nunique(), columns=['#uniques'])\n",
    "details['#Nan']=ponte1.isnull().sum(axis = 0)\n",
    "details"
   ]
  },
  {
   "cell_type": "code",
   "execution_count": null,
   "metadata": {},
   "outputs": [],
   "source": [
    "ponte1[['scaleGross','scaleNet']] = ponte1[['scaleGross','scaleNet']].fillna(value=0)"
   ]
  },
  {
   "cell_type": "code",
   "execution_count": null,
   "metadata": {},
   "outputs": [],
   "source": [
    "ponte1.isnull().sum(axis = 0)"
   ]
  },
  {
   "cell_type": "code",
   "execution_count": null,
   "metadata": {},
   "outputs": [],
   "source": [
    "ponte1.nunique()"
   ]
  },
  {
   "cell_type": "code",
   "execution_count": null,
   "metadata": {},
   "outputs": [],
   "source": [
    "ponte1"
   ]
  },
  {
   "cell_type": "code",
   "execution_count": null,
   "metadata": {},
   "outputs": [],
   "source": [
    "alarmes=pd.read_json('alarms_partition1.json')"
   ]
  },
  {
   "cell_type": "code",
   "execution_count": null,
   "metadata": {
    "scrolled": true
   },
   "outputs": [],
   "source": [
    "alarmes"
   ]
  },
  {
   "cell_type": "code",
   "execution_count": null,
   "metadata": {},
   "outputs": [],
   "source": [
    "alarmes['errorCode'].nunique()"
   ]
  },
  {
   "cell_type": "code",
   "execution_count": null,
   "metadata": {},
   "outputs": [],
   "source": [
    "alarmes['serialNumber'].nunique()"
   ]
  },
  {
   "cell_type": "code",
   "execution_count": null,
   "metadata": {},
   "outputs": [],
   "source": [
    "devices['serialNumber'].unique()"
   ]
  },
  {
   "cell_type": "code",
   "execution_count": null,
   "metadata": {},
   "outputs": [],
   "source": [
    "devices"
   ]
  },
  {
   "cell_type": "markdown",
   "metadata": {},
   "source": [
    "## shortcut"
   ]
  },
  {
   "cell_type": "code",
   "execution_count": null,
   "metadata": {},
   "outputs": [],
   "source": [
    "alarmes=pd.read_json('alarms_partition1.json')"
   ]
  },
  {
   "cell_type": "code",
   "execution_count": null,
   "metadata": {},
   "outputs": [],
   "source": [
    "devices=pd.read_json('devices_partition1.json')"
   ]
  },
  {
   "cell_type": "code",
   "execution_count": null,
   "metadata": {},
   "outputs": [],
   "source": [
    "pontes=pd.read_json('devicesinfos_partition1.json')\n",
    "info_pontes=pontes[['scaleSerialNumber','terminalSerialNumber','scaleCellCount','scaleDataAvailability','timestamp','cell0_serialNumber','cell1_serialNumber','cell2_serialNumber','cell3_serialNumber','cell4_serialNumber','cell5_serialNumber','cell6_serialNumber','cell7_serialNumber']]\n",
    "info_pontes[['cell0_serialNumber','cell1_serialNumber','cell2_serialNumber','cell3_serialNumber','cell4_serialNumber','cell5_serialNumber','cell6_serialNumber','cell7_serialNumber']]=info_pontes[['cell0_serialNumber','cell1_serialNumber','cell2_serialNumber','cell3_serialNumber','cell4_serialNumber','cell5_serialNumber','cell6_serialNumber','cell7_serialNumber']].astype(str)"
   ]
  },
  {
   "cell_type": "code",
   "execution_count": null,
   "metadata": {},
   "outputs": [],
   "source": [
    "dados2=pd.read_csv('all_weighings_full_cleaned.csv').drop(['Unnamed: 0'],axis=1)"
   ]
  },
  {
   "cell_type": "code",
   "execution_count": null,
   "metadata": {},
   "outputs": [],
   "source": [
    "dados2.head()"
   ]
  },
  {
   "cell_type": "markdown",
   "metadata": {},
   "source": [
    "# Analise ao device, sem importar quem o usa"
   ]
  },
  {
   "cell_type": "code",
   "execution_count": null,
   "metadata": {},
   "outputs": [],
   "source": [
    "dados=pd.read_csv('all_weighings_full_cleaned_w_cell0.csv')"
   ]
  },
  {
   "cell_type": "code",
   "execution_count": null,
   "metadata": {},
   "outputs": [],
   "source": [
    "dados['scaleSerialNumber'].value_counts()"
   ]
  },
  {
   "cell_type": "code",
   "execution_count": null,
   "metadata": {},
   "outputs": [],
   "source": [
    "dados.to_csv('all_weighings_full_cleaned_w_cell0.csv')"
   ]
  },
  {
   "cell_type": "code",
   "execution_count": null,
   "metadata": {},
   "outputs": [],
   "source": [
    "dados2=dados[dados['cellSerialNumber_0']!='0']"
   ]
  },
  {
   "cell_type": "code",
   "execution_count": null,
   "metadata": {},
   "outputs": [],
   "source": [
    "dados2['scaleSerialNumber'].value_counts()"
   ]
  },
  {
   "cell_type": "code",
   "execution_count": null,
   "metadata": {},
   "outputs": [],
   "source": [
    "dados2.to_csv('all_weighings_full_cleaned.csv')"
   ]
  },
  {
   "cell_type": "markdown",
   "metadata": {},
   "source": [
    "# 124"
   ]
  },
  {
   "cell_type": "code",
   "execution_count": null,
   "metadata": {},
   "outputs": [],
   "source": [
    "focus=dados[dados['scaleSerialNumber']=='P124303992']"
   ]
  },
  {
   "cell_type": "code",
   "execution_count": null,
   "metadata": {},
   "outputs": [],
   "source": [
    "focus.terminalSerialNumber.unique()"
   ]
  },
  {
   "cell_type": "code",
   "execution_count": null,
   "metadata": {},
   "outputs": [],
   "source": [
    "focus['terminalSerialNumber'].value_counts()"
   ]
  },
  {
   "cell_type": "code",
   "execution_count": null,
   "metadata": {},
   "outputs": [],
   "source": [
    "focus2=focus[focus['terminalSerialNumber']=='SN00000050']"
   ]
  },
  {
   "cell_type": "code",
   "execution_count": null,
   "metadata": {},
   "outputs": [],
   "source": [
    "info_pontes[info_pontes['scaleSerialNumber']=='P124303992']"
   ]
  },
  {
   "cell_type": "code",
   "execution_count": null,
   "metadata": {},
   "outputs": [],
   "source": [
    "details_124=pd.DataFrame(focus.dtypes, columns=['type'])\n",
    "details_124['#Nan']=focus.isnull().sum(axis = 0)\n",
    "details_124['#uniques']=focus.nunique()\n",
    "details_124"
   ]
  },
  {
   "cell_type": "code",
   "execution_count": null,
   "metadata": {},
   "outputs": [],
   "source": [
    "focus['cellSerialNumber_0'].unique()"
   ]
  },
  {
   "cell_type": "code",
   "execution_count": null,
   "metadata": {},
   "outputs": [],
   "source": [
    "focus2['cellSerialNumber_0'].unique()"
   ]
  },
  {
   "cell_type": "code",
   "execution_count": null,
   "metadata": {},
   "outputs": [],
   "source": [
    "focus['cellSerialNumber_1'].unique()"
   ]
  },
  {
   "cell_type": "code",
   "execution_count": null,
   "metadata": {},
   "outputs": [],
   "source": [
    "focus2['cellSerialNumber_1'].unique()"
   ]
  },
  {
   "cell_type": "code",
   "execution_count": null,
   "metadata": {},
   "outputs": [],
   "source": [
    "focus['cellSerialNumber_2'].unique()"
   ]
  },
  {
   "cell_type": "code",
   "execution_count": null,
   "metadata": {},
   "outputs": [],
   "source": [
    "focus2['cellSerialNumber_2'].unique()"
   ]
  },
  {
   "cell_type": "code",
   "execution_count": null,
   "metadata": {},
   "outputs": [],
   "source": [
    "focus2.sort_values(['cellSerialNumber_0','cellSerialNumber_1','cellSerialNumber_2']).set_index('cellSerialNumber_0')"
   ]
  },
  {
   "cell_type": "code",
   "execution_count": null,
   "metadata": {},
   "outputs": [],
   "source": [
    "focus2.groupby(['cellSerialNumber_0','cellSerialNumber_1','cellSerialNumber_2']).count()"
   ]
  },
  {
   "cell_type": "code",
   "execution_count": null,
   "metadata": {},
   "outputs": [],
   "source": [
    "focus.groupby(['cellSerialNumber_0','cellSerialNumber_1','cellSerialNumber_2']).count()"
   ]
  },
  {
   "cell_type": "markdown",
   "metadata": {},
   "source": [
    "notas:\n",
    "- o serial p124 com terminal 'SN000025' em vez de 'SN00000050' - que e o reconhecido na info, tem todas as celuulas a null\n",
    "- a info determina que o p124 tem 3 celulas. efetivamnet,e so a ate 3 valores unicos de celulas, ou seja, apenas ha uma ponte do tipo 124??\n",
    "- de entre as 3 celulas unicas, verifica-se que apenas 305 ocorrencias tem as 3 celulas. e parece que em 62780 ocorrencias a celula 0 falhou\n",
    "- assume se que a contagem começa sempre da 0 e se alguma falha, o numero e antecedido"
   ]
  },
  {
   "cell_type": "markdown",
   "metadata": {},
   "source": [
    "# 191"
   ]
  },
  {
   "cell_type": "code",
   "execution_count": null,
   "metadata": {},
   "outputs": [],
   "source": [
    "focus=dados2[dados2['scaleSerialNumber']=='P191021852']"
   ]
  },
  {
   "cell_type": "code",
   "execution_count": null,
   "metadata": {},
   "outputs": [],
   "source": [
    "focus.shape"
   ]
  },
  {
   "cell_type": "code",
   "execution_count": null,
   "metadata": {},
   "outputs": [],
   "source": [
    "info_pontes[info_pontes['scaleSerialNumber']=='P191021852']"
   ]
  },
  {
   "cell_type": "code",
   "execution_count": null,
   "metadata": {},
   "outputs": [],
   "source": [
    "devices[devices['serialNumber']=='P191021852']"
   ]
  },
  {
   "cell_type": "code",
   "execution_count": null,
   "metadata": {},
   "outputs": [],
   "source": [
    "erros_ponte=alarmes[alarmes['serialNumber']=='P191021852']\n",
    "print('scale board replacement')\n",
    "erros_ponte"
   ]
  },
  {
   "cell_type": "code",
   "execution_count": null,
   "metadata": {},
   "outputs": [],
   "source": []
  },
  {
   "cell_type": "code",
   "execution_count": null,
   "metadata": {},
   "outputs": [],
   "source": [
    "focus.terminalSerialNumber.unique()"
   ]
  },
  {
   "cell_type": "code",
   "execution_count": null,
   "metadata": {},
   "outputs": [],
   "source": [
    "details_191=pd.DataFrame(focus.dtypes, columns=['type'])\n",
    "details_191['#uniques']=focus.nunique()\n",
    "details_191"
   ]
  },
  {
   "cell_type": "code",
   "execution_count": null,
   "metadata": {},
   "outputs": [],
   "source": []
  },
  {
   "cell_type": "code",
   "execution_count": null,
   "metadata": {
    "scrolled": true
   },
   "outputs": [],
   "source": [
    "avaliar=focus.groupby(['cellSerialNumber_0','cellSerialNumber_1','cellSerialNumber_2','cellSerialNumber_3','cellSerialNumber_4','cellSerialNumber_5','cellSerialNumber_6','cellSerialNumber_7']).count()"
   ]
  },
  {
   "cell_type": "code",
   "execution_count": null,
   "metadata": {},
   "outputs": [],
   "source": [
    "avaliar"
   ]
  },
  {
   "cell_type": "code",
   "execution_count": null,
   "metadata": {},
   "outputs": [],
   "source": [
    "ocorrencias=avaliar.sort_values(['cellSerialNumber_7','cellSerialNumber_6','cellSerialNumber_5','cellSerialNumber_4','cellSerialNumber_3','cellSerialNumber_2','cellSerialNumber_1','cellSerialNumber_0'],ascending=False)"
   ]
  },
  {
   "cell_type": "code",
   "execution_count": null,
   "metadata": {
    "scrolled": false
   },
   "outputs": [],
   "source": [
    "pd.set_option('display.max_rows', 30)\n",
    "ocorrencias.head(100)"
   ]
  },
  {
   "cell_type": "code",
   "execution_count": null,
   "metadata": {},
   "outputs": [],
   "source": [
    "72502+1103+75+172+1064+2592+200+235+929"
   ]
  },
  {
   "cell_type": "code",
   "execution_count": null,
   "metadata": {
    "scrolled": true
   },
   "outputs": [],
   "source": [
    "print('Pesagens na ponte P191021852: '+ str(focus.shape[0]))\n",
    "print('Pesagens na ponte P191021852 com todas as celulas ativas: ' + str(focus[focus['cellSerialNumber_7']!= '0'].shape[0]) + '  '+ str(round((focus[focus['cellSerialNumber_7']!= '0'].shape[0])/focus.shape[0]*100,1)) + '%')\n",
    "print('Pesagens na ponte P191021852 com 7 celulas ativas: ' + str(focus[focus['cellSerialNumber_6']!= '0'].shape[0]) + '  '+ str(round((focus[focus['cellSerialNumber_6']!= '0'].shape[0])/focus.shape[0]*100,1)) + '%')\n",
    "print('Pesagens na ponte P191021852 com 6 celulas ativas: ' + str(focus[focus['cellSerialNumber_5']!= '0'].shape[0]) + '  '+ str(round((focus[focus['cellSerialNumber_5']!= '0'].shape[0])/focus.shape[0]*100,1)) + '%')\n",
    "print('Pesagens na ponte P191021852 com 5 celulas ativas: ' + str(focus[focus['cellSerialNumber_4']!= '0'].shape[0]) + '  '+ str(round((focus[focus['cellSerialNumber_4']!= '0'].shape[0])/focus.shape[0]*100,1)) + '%')\n",
    "print('Pesagens na ponte P191021852 com 4 celulas ativas: ' + str(focus[focus['cellSerialNumber_3']!= '0'].shape[0]) + '  '+ str(round((focus[focus['cellSerialNumber_3']!= '0'].shape[0])/focus.shape[0]*100,1)) + '%')\n",
    "print('Pesagens na ponte P191021852 com 3 celulas ativas: ' + str(focus[focus['cellSerialNumber_2']!= '0'].shape[0]) + '  '+ str(round((focus[focus['cellSerialNumber_2']!= '0'].shape[0])/focus.shape[0]*100,1)) + '%')\n",
    "print('Pesagens na ponte P191021852 com 2 celulas ativas: ' + str(focus[focus['cellSerialNumber_1']!= '0'].shape[0]) + '  '+ str(round((focus[focus['cellSerialNumber_1']!= '0'].shape[0])/focus.shape[0]*100,1)) + '%')\n",
    "print('Pesagens na ponte P191021852 com 1 celulas ativas: ' + str(focus[focus['cellSerialNumber_0']!= '0'].shape[0]) + '  '+ str(round((focus[focus['cellSerialNumber_0']!= '0'].shape[0])/focus.shape[0]*100,1)) + '%')\n",
    "\n",
    "print('Pesagens na ponte P191021852 descartadas por não ter celulas ativas: ' + str(320459-focus.shape[0]))\n"
   ]
  },
  {
   "cell_type": "code",
   "execution_count": null,
   "metadata": {},
   "outputs": [],
   "source": [
    "print('Weighing in bridge P191021852: '+ str(focus.shape[0]))\n",
    "print('Weighing in bridge P191021852 with all cells active: ' + str(focus[focus['cellSerialNumber_7']!= '0'].shape[0]) + '  '+ str(round((focus[focus['cellSerialNumber_7']!= '0'].shape[0])/focus.shape[0]*100,1)) + '%')\n",
    "print('Weighing in bridge P191021852 with 7 active cells: ' + str(focus[focus['cellSerialNumber_6']!= '0'].shape[0]) + '  '+ str(round((focus[focus['cellSerialNumber_6']!= '0'].shape[0])/focus.shape[0]*100,1)) + '%')\n",
    "print('Weighing in bridge P191021852 with 6 active cells: ' + str(focus[focus['cellSerialNumber_5']!= '0'].shape[0]) + '  '+ str(round((focus[focus['cellSerialNumber_5']!= '0'].shape[0])/focus.shape[0]*100,1)) + '%')\n",
    "print('Weighing in bridge P191021852 with 5 active cells: ' + str(focus[focus['cellSerialNumber_4']!= '0'].shape[0]) + '  '+ str(round((focus[focus['cellSerialNumber_4']!= '0'].shape[0])/focus.shape[0]*100,1)) + '%')\n",
    "print('Weighing in bridge P191021852 with 4 active cells: ' + str(focus[focus['cellSerialNumber_3']!= '0'].shape[0]) + '  '+ str(round((focus[focus['cellSerialNumber_3']!= '0'].shape[0])/focus.shape[0]*100,1)) + '%')\n",
    "print('Weighing in bridge P191021852 with 3 active cells: ' + str(focus[focus['cellSerialNumber_2']!= '0'].shape[0]) + '  '+ str(round((focus[focus['cellSerialNumber_2']!= '0'].shape[0])/focus.shape[0]*100,1)) + '%')\n",
    "print('Weighing in bridge P191021852 with 2 active cells: ' + str(focus[focus['cellSerialNumber_1']!= '0'].shape[0]) + '  '+ str(round((focus[focus['cellSerialNumber_1']!= '0'].shape[0])/focus.shape[0]*100,1)) + '%')\n",
    "print('Weighing in bridge P191021852 with 1 active cells: ' + str(focus[focus['cellSerialNumber_0']!= '0'].shape[0]) + '  '+ str(round((focus[focus['cellSerialNumber_0']!= '0'].shape[0])/focus.shape[0]*100,1)) + '%')\n",
    "\n",
    "print('Weighing in bridge P191021852 discarded due to no active cells: ' + str(320459-focus.shape[0]))"
   ]
  },
  {
   "cell_type": "code",
   "execution_count": null,
   "metadata": {},
   "outputs": [],
   "source": [
    "#calcular percentagens para X celulas ativas\n",
    "impasse=focus[focus['cellSerialNumber_6']!= '0']\n",
    "impasse[impasse['cellSerialNumber_7']== '0'].shape[0]"
   ]
  },
  {
   "cell_type": "code",
   "execution_count": null,
   "metadata": {},
   "outputs": [],
   "source": []
  },
  {
   "cell_type": "markdown",
   "metadata": {},
   "source": [
    " avaliar caracterisitcas como:\n",
    " - percentagem de vezes que x celula falha\n",
    " - avaliar media do valor do peso em pesagens feitas com a totalidade, 7, 6, 5... celulas\n",
    " - avaliar tendencias de falha de uma celula com base na falha de outras celulas\n",
    " - avaliar fator temporal na falhas: se o processo de falha e sequencial no tempo, e se e posterior a atingir um valor isolado ou cumulativo de peso"
   ]
  },
  {
   "cell_type": "markdown",
   "metadata": {},
   "source": [
    "### ordenar por data"
   ]
  },
  {
   "cell_type": "code",
   "execution_count": null,
   "metadata": {},
   "outputs": [],
   "source": [
    "ordenado=focus.sort_values(by='timestamp')\n",
    "ordenado"
   ]
  },
  {
   "cell_type": "markdown",
   "metadata": {},
   "source": [
    "Gravaçoes de 2019-05-09 14:22:55 ate 2020-05-22 15:40:08"
   ]
  },
  {
   "cell_type": "markdown",
   "metadata": {},
   "source": [
    "### transformar celulas tipo one hot"
   ]
  },
  {
   "cell_type": "code",
   "execution_count": null,
   "metadata": {},
   "outputs": [],
   "source": [
    "y = pd.get_dummies(focus[['cellSerialNumber_0','cellSerialNumber_1','cellSerialNumber_2','cellSerialNumber_3','cellSerialNumber_4','cellSerialNumber_5','cellSerialNumber_6','cellSerialNumber_7']], prefix='', prefix_sep='')#,'cellSerialNumber_1']])#, prefix='Country')"
   ]
  },
  {
   "cell_type": "code",
   "execution_count": null,
   "metadata": {},
   "outputs": [],
   "source": [
    "y"
   ]
  },
  {
   "cell_type": "code",
   "execution_count": null,
   "metadata": {},
   "outputs": [],
   "source": [
    "y"
   ]
  },
  {
   "cell_type": "code",
   "execution_count": null,
   "metadata": {
    "scrolled": true
   },
   "outputs": [],
   "source": [
    "teste=y.groupby(y.columns, axis=1).sum()\n",
    "teste"
   ]
  },
  {
   "cell_type": "code",
   "execution_count": null,
   "metadata": {},
   "outputs": [],
   "source": [
    "focus.head()"
   ]
  },
  {
   "cell_type": "code",
   "execution_count": null,
   "metadata": {},
   "outputs": [],
   "source": [
    "teste['timestamp']=focus.timestamp"
   ]
  },
  {
   "cell_type": "code",
   "execution_count": null,
   "metadata": {},
   "outputs": [],
   "source": [
    "teste"
   ]
  },
  {
   "cell_type": "code",
   "execution_count": null,
   "metadata": {},
   "outputs": [],
   "source": [
    "testeordenado=teste.sort_values(by='timestamp')"
   ]
  },
  {
   "cell_type": "code",
   "execution_count": null,
   "metadata": {},
   "outputs": [],
   "source": [
    "testeordenado"
   ]
  },
  {
   "cell_type": "code",
   "execution_count": null,
   "metadata": {},
   "outputs": [],
   "source": [
    "import matplotlib.pyplot as plt\n",
    "import seaborn as sns\n",
    "\n",
    "plt.figure(figsize =(50,12))\n",
    "mean_group = testeordenado.iloc[: , [1,2,3,4,5,6,7,8]]#   data.groupby([\"ORDERDATE\"])[\"SALES\"].median()\n",
    "plt.plot(mean_group)\n",
    "plt.title(\"Time series median\")\n",
    "#plt.legend(teste.columns[1:])\n",
    "plt.show()"
   ]
  },
  {
   "cell_type": "code",
   "execution_count": null,
   "metadata": {},
   "outputs": [],
   "source": [
    "import matplotlib.pyplot as plt\n",
    "\n",
    "plt.matshow(testeordenado.corr())\n",
    "plt.show()"
   ]
  },
  {
   "cell_type": "code",
   "execution_count": null,
   "metadata": {},
   "outputs": [],
   "source": [
    "import matplotlib.pyplot as plt\n",
    "\n",
    "plt.matshow(testeordenado.corr(method='spearman'))\n",
    "plt.show()"
   ]
  },
  {
   "cell_type": "code",
   "execution_count": null,
   "metadata": {},
   "outputs": [],
   "source": [
    "import matplotlib.pyplot as plt\n",
    "\n",
    "plt.matshow(testeordenado.cov())\n",
    "plt.show()\n"
   ]
  },
  {
   "cell_type": "code",
   "execution_count": null,
   "metadata": {},
   "outputs": [],
   "source": [
    "f = plt.figure(figsize=(10, 10))\n",
    "plt.matshow(testeordenado.corr(), fignum=f.number)\n",
    "plt.xticks(range(testeordenado.shape[1]), testeordenado.columns, fontsize=14, rotation=45)\n",
    "plt.yticks(range(testeordenado.shape[1]), testeordenado.columns, fontsize=14)\n",
    "cb = plt.colorbar()\n",
    "cb.ax.tick_params(labelsize=14)\n",
    "plt.title('Correlation Matrix', fontsize=16);"
   ]
  },
  {
   "cell_type": "code",
   "execution_count": null,
   "metadata": {},
   "outputs": [],
   "source": [
    "teste.columns[1:]"
   ]
  },
  {
   "cell_type": "code",
   "execution_count": null,
   "metadata": {},
   "outputs": [],
   "source": [
    "teste.iloc[: , [1,2,3,4,5,6,7,8]]"
   ]
  },
  {
   "cell_type": "code",
   "execution_count": null,
   "metadata": {},
   "outputs": [],
   "source": []
  },
  {
   "cell_type": "code",
   "execution_count": null,
   "metadata": {},
   "outputs": [],
   "source": []
  },
  {
   "cell_type": "code",
   "execution_count": null,
   "metadata": {},
   "outputs": [],
   "source": []
  },
  {
   "cell_type": "code",
   "execution_count": null,
   "metadata": {},
   "outputs": [],
   "source": [
    "Data=focus.drop(['_id','terminalSerialNumber','scaleSerialNumber'],axis=1)#focus[['timestamp','scaleGross','scaleNet']]"
   ]
  },
  {
   "cell_type": "code",
   "execution_count": null,
   "metadata": {},
   "outputs": [],
   "source": [
    "Data.head()"
   ]
  },
  {
   "cell_type": "code",
   "execution_count": null,
   "metadata": {},
   "outputs": [],
   "source": []
  },
  {
   "cell_type": "code",
   "execution_count": null,
   "metadata": {},
   "outputs": [],
   "source": [
    "result = pd.concat([Data, teste], axis=1, sort=False)"
   ]
  },
  {
   "cell_type": "code",
   "execution_count": null,
   "metadata": {},
   "outputs": [],
   "source": [
    "result"
   ]
  },
  {
   "cell_type": "markdown",
   "metadata": {},
   "source": [
    "### avaliar id iguais\n"
   ]
  },
  {
   "cell_type": "markdown",
   "metadata": {},
   "source": [
    "validar_ids=dados.sort_values(['_id','cellId_0']).set_index(['_id','cellId_0']).count()"
   ]
  },
  {
   "cell_type": "markdown",
   "metadata": {},
   "source": [
    "validar_ids=dados.sort_values(['_id'],ascending=False)#.set_index(['_id'])"
   ]
  },
  {
   "cell_type": "markdown",
   "metadata": {},
   "source": [
    "dados.groupby(['_id']).size().sort_values(ascending=False)"
   ]
  },
  {
   "cell_type": "markdown",
   "metadata": {},
   "source": [
    "##### Avaliar contagem de variaveis para msm id = nºx que se repete id"
   ]
  },
  {
   "cell_type": "code",
   "execution_count": null,
   "metadata": {},
   "outputs": [],
   "source": [
    "validar_ids=dados.groupby('cellId_0').count()#.apply(pd.DataFrame.sort_values, '_id')"
   ]
  },
  {
   "cell_type": "code",
   "execution_count": null,
   "metadata": {
    "scrolled": false
   },
   "outputs": [],
   "source": [
    "validar_ids.sort_values(by=['cellId_0','cellId_1','cellId_2','cellId_3','cellId_4','cellId_5'], ascending=False)"
   ]
  },
  {
   "cell_type": "code",
   "execution_count": null,
   "metadata": {},
   "outputs": [],
   "source": [
    "maybe2=dados[dados['_id']=='5eb0761da4982500078f7abd']\n",
    "maybe2"
   ]
  },
  {
   "cell_type": "markdown",
   "metadata": {},
   "source": [
    "##### Avaliar contagem de variaveis UNICAS para msm cell "
   ]
  },
  {
   "cell_type": "code",
   "execution_count": null,
   "metadata": {},
   "outputs": [],
   "source": [
    "validar_ids=dados.groupby('cellId_0').nunique()"
   ]
  },
  {
   "cell_type": "code",
   "execution_count": null,
   "metadata": {},
   "outputs": [],
   "source": [
    "validar_ids=dados.sort_values(['cellId_0']).set_index(['cellId_0'])"
   ]
  },
  {
   "cell_type": "code",
   "execution_count": null,
   "metadata": {},
   "outputs": [],
   "source": [
    "validar_ids=dados.sort_values(['scaleSerialNumber']).set_index(['scaleSerialNumber'])"
   ]
  },
  {
   "cell_type": "code",
   "execution_count": null,
   "metadata": {},
   "outputs": [],
   "source": [
    "validar_ids.max()"
   ]
  },
  {
   "cell_type": "code",
   "execution_count": null,
   "metadata": {
    "scrolled": true
   },
   "outputs": [],
   "source": [
    "validar_ids"
   ]
  },
  {
   "cell_type": "markdown",
   "metadata": {},
   "source": [
    "##### Avaliar contagem de variaveis UNICAS para msm id = nºx que se repete id"
   ]
  },
  {
   "cell_type": "code",
   "execution_count": null,
   "metadata": {},
   "outputs": [],
   "source": [
    "validar_ids=dados.groupby('_id').nunique()"
   ]
  },
  {
   "cell_type": "code",
   "execution_count": null,
   "metadata": {},
   "outputs": [],
   "source": [
    "validar_ids.max()"
   ]
  },
  {
   "cell_type": "code",
   "execution_count": null,
   "metadata": {},
   "outputs": [],
   "source": [
    "validar_ids.sort_values(by=['terminalSerialNumber'], ascending=False)"
   ]
  },
  {
   "cell_type": "code",
   "execution_count": null,
   "metadata": {},
   "outputs": [],
   "source": [
    "maybe2=dados[dados['_id']=='5e8e79f931557300072fdafc']\n",
    "maybe2"
   ]
  },
  {
   "cell_type": "markdown",
   "metadata": {},
   "source": [
    "informaçoes\n",
    "- ha muitos duplicados ao nivel do id - deitar fora"
   ]
  },
  {
   "cell_type": "code",
   "execution_count": null,
   "metadata": {},
   "outputs": [],
   "source": [
    "dados_no_duplicates=dados.drop_duplicates()\n",
    "print(dados.shape)\n",
    "print(dados_no_duplicates.shape)"
   ]
  },
  {
   "cell_type": "code",
   "execution_count": null,
   "metadata": {},
   "outputs": [],
   "source": [
    "dados_no_duplicates.nunique()"
   ]
  },
  {
   "cell_type": "code",
   "execution_count": null,
   "metadata": {},
   "outputs": [],
   "source": [
    "maybe2=dados_no_duplicates[dados_no_duplicates['_id']=='5e8e79f931557300072fdafc']\n",
    "maybe2"
   ]
  },
  {
   "cell_type": "markdown",
   "metadata": {},
   "source": [
    "informaçao:\n",
    "- como diferente tipos de dados ou casas decimais provocam duplicates, avaliar id unicos de pesagens e fazer inner join com dados\n",
    "- no fim so se pode ter 871549 pesagens"
   ]
  },
  {
   "cell_type": "markdown",
   "metadata": {},
   "source": [
    "# dados unicos"
   ]
  },
  {
   "cell_type": "code",
   "execution_count": null,
   "metadata": {},
   "outputs": [],
   "source": [
    "dados_no_duplicates_id=dados.drop_duplicates(subset=['_id'])\n",
    "print(dados_no_duplicates_id.shape)\n",
    "#df.drop_duplicates(subset=['bio', 'center', 'outcome'])"
   ]
  },
  {
   "cell_type": "code",
   "execution_count": null,
   "metadata": {},
   "outputs": [],
   "source": [
    "dados_no_duplicates_id.to_csv('weighings.csv')"
   ]
  },
  {
   "cell_type": "code",
   "execution_count": null,
   "metadata": {},
   "outputs": [],
   "source": [
    "dados=pd.read_csv('weighings.csv').drop('Unnamed: 0', axis=1)"
   ]
  },
  {
   "cell_type": "code",
   "execution_count": null,
   "metadata": {},
   "outputs": [],
   "source": [
    "dados.head()"
   ]
  },
  {
   "cell_type": "markdown",
   "metadata": {},
   "source": [
    "#### avaliar combinaçoes"
   ]
  },
  {
   "cell_type": "code",
   "execution_count": null,
   "metadata": {},
   "outputs": [],
   "source": [
    "validar_ids=dados.groupby('_id').nunique()"
   ]
  },
  {
   "cell_type": "code",
   "execution_count": null,
   "metadata": {},
   "outputs": [],
   "source": [
    "validar_ids=dados.groupby('cellId_2').nunique()"
   ]
  },
  {
   "cell_type": "code",
   "execution_count": null,
   "metadata": {},
   "outputs": [],
   "source": [
    "validar_ids.max()"
   ]
  },
  {
   "cell_type": "code",
   "execution_count": null,
   "metadata": {},
   "outputs": [],
   "source": [
    "details=pd.DataFrame(dados.dtypes, columns=['type'])\n",
    "details['#Nan']=dados.isnull().sum(axis = 0)\n",
    "details['#uniques']=dados.nunique()"
   ]
  },
  {
   "cell_type": "code",
   "execution_count": null,
   "metadata": {},
   "outputs": [],
   "source": [
    "details['valida']=details['#uniques']+details['#Nan']"
   ]
  },
  {
   "cell_type": "code",
   "execution_count": null,
   "metadata": {},
   "outputs": [],
   "source": [
    "details"
   ]
  },
  {
   "cell_type": "markdown",
   "metadata": {},
   "source": [
    "Informaçoes:\n",
    "- para qq groupby de celula, o maximo de unicos e sempre 1, ou seja a combinaçao cel 0-1-2-3... e sempre unica. um id da celula 1 so da para a celula com id0 certa\n",
    "- confirmado pelo numeor de unicos+nan ser igual ao totla de pesagens feitas"
   ]
  },
  {
   "cell_type": "markdown",
   "metadata": {},
   "source": [
    "grave:\n",
    "- cada nao ha varias pesagens diferentes com o msm id de celulas, ie, nenhuma celeua com mais que uma pesagem"
   ]
  },
  {
   "cell_type": "markdown",
   "metadata": {},
   "source": [
    "### transformaçao dos dados"
   ]
  },
  {
   "cell_type": "markdown",
   "metadata": {},
   "source": [
    "- avalair qts pontes têm 2,4,6,8 celulas\n",
    "- avaliar se ha pontes com celulas impar\n",
    "- transformaçao das datas + idade da celula\n",
    "- "
   ]
  },
  {
   "cell_type": "code",
   "execution_count": null,
   "metadata": {},
   "outputs": [],
   "source": [
    "dados.head()"
   ]
  },
  {
   "cell_type": "markdown",
   "metadata": {},
   "source": [
    "#### Avaliar nº pesagens  para pontes com variavel nº de celulas"
   ]
  },
  {
   "cell_type": "code",
   "execution_count": null,
   "metadata": {},
   "outputs": [],
   "source": [
    "## avalair qts celulas\n",
    "dados_8=dados[dados['cellId_0'].notnull() & dados['cellId_1'].notnull() & dados['cellId_2'].notnull() & dados['cellId_3'].notnull() & dados['cellId_4'].notnull() & dados['cellId_5'].notnull() & dados['cellId_6'].notnull() & dados['cellId_7'].notnull()]\n",
    "print('nº weighing with 8 functional cells:' + str(dados_8.shape[0]))\n",
    "\n",
    "dados_7=dados[dados['cellId_0'].notnull() & dados['cellId_1'].notnull() & dados['cellId_2'].notnull() & dados['cellId_3'].notnull() & dados['cellId_4'].notnull() & dados['cellId_5'].notnull() & dados['cellId_6'].notnull() ]\n",
    "print('nº weighing with 7 functional cells:' + str(dados_7.shape[0]))\n",
    "\n",
    "dados_6=dados[dados['cellId_0'].notnull() & dados['cellId_1'].notnull() & dados['cellId_2'].notnull() & dados['cellId_3'].notnull() & dados['cellId_4'].notnull() & dados['cellId_5'].notnull()]\n",
    "print('nº weighing with 6 functional cells:' + str(dados_6.shape[0]))\n",
    "\n",
    "dados_5=dados[dados['cellId_0'].notnull() & dados['cellId_1'].notnull() & dados['cellId_2'].notnull() & dados['cellId_3'].notnull() & dados['cellId_4'].notnull()]\n",
    "print('nº weighing with 5 functional cells:' + str(dados_5.shape[0]))\n",
    "\n",
    "dados_4=dados[dados['cellId_0'].notnull() & dados['cellId_1'].notnull() & dados['cellId_2'].notnull() & dados['cellId_3'].notnull()]\n",
    "print('nº weighing with 4 functional cells:' + str(dados_4.shape[0]))\n",
    "\n",
    "dados_3=dados[dados['cellId_0'].notnull() & dados['cellId_1'].notnull() & dados['cellId_2'].notnull()]\n",
    "print('nº weighing with 3 functional cells:' + str(dados_3.shape[0]))\n",
    "\n",
    "dados_2=dados[dados['cellId_0'].notnull() & dados['cellId_1'].notnull()]\n",
    "print('nº weighing with 2 functional cells:' + str(dados_2.shape[0]))\n",
    "\n",
    "dados_1=dados[dados['cellId_0'].notnull()]\n",
    "print('nº weighing with 1 functional cells:' + str(dados_1.shape[0]))"
   ]
  },
  {
   "cell_type": "markdown",
   "metadata": {},
   "source": [
    "- Há pesagens para pontes com nº impar\n",
    "- Há 29258 pesagens sem ponte nenhuma\n",
    "- Para alem de todas as comiançoes de id de celulas serem unicas, nao ha cenarios de falhar celula 0 e ter celula1"
   ]
  },
  {
   "cell_type": "code",
   "execution_count": null,
   "metadata": {},
   "outputs": [],
   "source": [
    "combined = dados.append(dados_1)\n",
    "combined=combined[~combined.index.duplicated(keep=False)]\n",
    "print(combined.shape[0])"
   ]
  },
  {
   "cell_type": "code",
   "execution_count": null,
   "metadata": {},
   "outputs": [],
   "source": [
    "combined.head()"
   ]
  },
  {
   "cell_type": "code",
   "execution_count": null,
   "metadata": {},
   "outputs": [],
   "source": [
    "details=pd.DataFrame(combined.nunique(), columns=['nº uniques with cell0 Nan'])\n",
    "details['n_uniques with cell0']=dados_1.nunique()\n",
    "details['n_uniques in all']=dados.nunique()"
   ]
  },
  {
   "cell_type": "code",
   "execution_count": null,
   "metadata": {},
   "outputs": [],
   "source": [
    "details"
   ]
  },
  {
   "cell_type": "code",
   "execution_count": null,
   "metadata": {},
   "outputs": [],
   "source": [
    "## nao ha cenario de nao haver cell 0 e ter cell 1\n",
    "teste=dados[dados['cellId_0'].isnull()]\n",
    "teste['cellId_2'].unique()"
   ]
  },
  {
   "cell_type": "code",
   "execution_count": null,
   "metadata": {},
   "outputs": [],
   "source": [
    "teste=dados[dados['cellId_1'].isnull()]\n",
    "teste['cellId_3'].unique()"
   ]
  },
  {
   "cell_type": "markdown",
   "metadata": {},
   "source": [
    "### Data"
   ]
  },
  {
   "cell_type": "code",
   "execution_count": null,
   "metadata": {},
   "outputs": [],
   "source": [
    "dados.head()"
   ]
  },
  {
   "cell_type": "code",
   "execution_count": null,
   "metadata": {},
   "outputs": [],
   "source": [
    "    df.data= pd.to_datetime(df.data, format='%Y%m%d%H%M%S')\n",
    "    df['day'] = df['data'].dt.day\n",
    "    df['Hour'] = df['data'].dt.hour\n",
    "    df['Minute'] = df['data'].dt.minute\n",
    "    df['Year'] = df['data'].dt.year\n",
    "    df['Month'] = df['data'].dt.month\n",
    "    \n",
    "    Year=df.Year.unique()[0]\n",
    "    Month=df.Month.unique()[0]\n",
    "    Day=df.day.unique()[0]"
   ]
  },
  {
   "cell_type": "code",
   "execution_count": null,
   "metadata": {},
   "outputs": [],
   "source": [
    "dados['data']= pd.to_datetime(dados.timestamp, format='%Y-%m-%d %H:%M:%S.%f')#'%Y%m%d%H%M%S%S%f')"
   ]
  },
  {
   "cell_type": "code",
   "execution_count": null,
   "metadata": {},
   "outputs": [],
   "source": [
    "dados['day'] = dados['data'].dt.day"
   ]
  },
  {
   "cell_type": "code",
   "execution_count": null,
   "metadata": {},
   "outputs": [],
   "source": [
    "dados"
   ]
  },
  {
   "cell_type": "markdown",
   "metadata": {},
   "source": [
    "## teste bascio PCA"
   ]
  },
  {
   "cell_type": "code",
   "execution_count": null,
   "metadata": {},
   "outputs": [],
   "source": [
    "def encode(data,categorical_features):\n",
    "    categorical_names = {}\n",
    "    for feature in categorical_features:\n",
    "        le = sklearn.preprocessing.LabelEncoder()\n",
    "        #le.fit(frame2[:, feature])\n",
    "        #train_numpy_array[:, feature] = le.fit_transform(train_numpy_array[:, feature])\n",
    "        data[:, feature] = le.fit_transform(data[:, feature])\n",
    "        categorical_names[feature] = le.classes_\n",
    "    return data, categorical_names"
   ]
  },
  {
   "cell_type": "code",
   "execution_count": null,
   "metadata": {},
   "outputs": [],
   "source": [
    "prePCA.head()"
   ]
  },
  {
   "cell_type": "code",
   "execution_count": null,
   "metadata": {},
   "outputs": [],
   "source": [
    "prePCA=dados.set_index('_id').drop('timestamp', axis=1)\n",
    "categorical_features = [0,1,4,5,20]"
   ]
  },
  {
   "cell_type": "markdown",
   "metadata": {},
   "source": [
    "- Converter data em idade\n",
    "- transformar id de celulas em se tem 2,4,6,8, impares\n",
    "- transformar ids em se e a combinaçao 1 ,2, 3 ...."
   ]
  },
  {
   "cell_type": "code",
   "execution_count": null,
   "metadata": {},
   "outputs": [],
   "source": [
    "from sklearn.decomposition import PCA, IncrementalPCA\n",
    "pcat = PCA()\n",
    "principalComponentsT = pcat.fit_transform(dados)\n",
    "pesos= pcat.explained_variance_ratio_\n",
    "loadingT=pcat.components_.T * np.sqrt(pcat.explained_variance_)"
   ]
  },
  {
   "cell_type": "code",
   "execution_count": null,
   "metadata": {},
   "outputs": [],
   "source": []
  }
 ],
 "metadata": {
  "kernelspec": {
   "display_name": "Python 3",
   "language": "python",
   "name": "python3"
  },
  "language_info": {
   "codemirror_mode": {
    "name": "ipython",
    "version": 3
   },
   "file_extension": ".py",
   "mimetype": "text/x-python",
   "name": "python",
   "nbconvert_exporter": "python",
   "pygments_lexer": "ipython3",
   "version": "3.6.8"
  }
 },
 "nbformat": 4,
 "nbformat_minor": 2
}
