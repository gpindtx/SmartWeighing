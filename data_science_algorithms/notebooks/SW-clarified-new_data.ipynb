{
 "cells": [
  {
   "cell_type": "code",
   "execution_count": 1,
   "metadata": {},
   "outputs": [],
   "source": [
    "import pandas as pd\n",
    "import numpy as np"
   ]
  },
  {
   "cell_type": "markdown",
   "metadata": {},
   "source": [
    "## criar dataset "
   ]
  },
  {
   "cell_type": "markdown",
   "metadata": {},
   "source": [
    "dados=pd.DataFrame()\n",
    "for i in range(1,21):\n",
    "    teste=pd.read_json('treated/weighings_partition'+str(i)+'.json')#+str(i)\n",
    "    dados=dados.append(teste, ignore_index=True)"
   ]
  },
  {
   "cell_type": "markdown",
   "metadata": {},
   "source": [
    "dados.to_csv('all_weighings_full_new.csv')"
   ]
  },
  {
   "cell_type": "code",
   "execution_count": null,
   "metadata": {},
   "outputs": [],
   "source": [
    "dados.shape[0]"
   ]
  },
  {
   "cell_type": "code",
   "execution_count": null,
   "metadata": {},
   "outputs": [],
   "source": [
    "dados._id.nunique()"
   ]
  },
  {
   "cell_type": "markdown",
   "metadata": {},
   "source": [
    "- todos os id sao unicos - 3361480"
   ]
  },
  {
   "cell_type": "code",
   "execution_count": null,
   "metadata": {},
   "outputs": [],
   "source": [
    "dados=dados.drop(['cellId_0','cellId_1','cellId_2','cellId_3','cellId_4','cellId_5','cellId_6','cellId_7'], axis=1)"
   ]
  },
  {
   "cell_type": "code",
   "execution_count": null,
   "metadata": {},
   "outputs": [],
   "source": [
    "details=pd.DataFrame(dados.dtypes, columns=['type'])\n",
    "details['#Nan']=dados.isnull().sum(axis = 0)\n",
    "details['#uniques']=dados.nunique()"
   ]
  },
  {
   "cell_type": "code",
   "execution_count": null,
   "metadata": {},
   "outputs": [],
   "source": [
    "details"
   ]
  },
  {
   "cell_type": "code",
   "execution_count": null,
   "metadata": {
    "scrolled": false
   },
   "outputs": [],
   "source": [
    "dados2=pd.read_csv('all_weighings_full.csv').drop(['Unnamed: 0','cellId_0','cellId_1','cellId_2','cellId_3','cellId_4','cellId_5','cellId_6','cellId_7'], axis=1)"
   ]
  },
  {
   "cell_type": "code",
   "execution_count": null,
   "metadata": {},
   "outputs": [],
   "source": [
    "details=pd.DataFrame(dados2.dtypes, columns=['type'])\n",
    "details['#Nan']=dados2.isnull().sum(axis = 0)\n",
    "details['#uniques']=dados2.nunique()"
   ]
  },
  {
   "cell_type": "code",
   "execution_count": null,
   "metadata": {},
   "outputs": [],
   "source": [
    "details"
   ]
  },
  {
   "cell_type": "code",
   "execution_count": null,
   "metadata": {
    "scrolled": false
   },
   "outputs": [],
   "source": [
    "dados.head(3)"
   ]
  },
  {
   "cell_type": "code",
   "execution_count": null,
   "metadata": {
    "scrolled": true
   },
   "outputs": [],
   "source": [
    "dados2.head(3)"
   ]
  },
  {
   "cell_type": "markdown",
   "metadata": {},
   "source": [
    "dados2=pd.read_excel('111115.xlsx')#.drop(['Unnamed: 0','cellId_0','cellId_1','cellId_2','cellId_3','cellId_4','cellId_5','cellId_6','cellId_7'], axis=1)"
   ]
  },
  {
   "cell_type": "markdown",
   "metadata": {},
   "source": [
    "## Ler novos dados"
   ]
  },
  {
   "cell_type": "code",
   "execution_count": 2,
   "metadata": {},
   "outputs": [
    {
     "name": "stderr",
     "output_type": "stream",
     "text": [
      "/usr/local/lib/python3.6/dist-packages/IPython/core/interactiveshell.py:3058: DtypeWarning: Columns (3,8,11,14,17,20,23,26,29) have mixed types. Specify dtype option on import or set low_memory=False.\n",
      "  interactivity=interactivity, compiler=compiler, result=result)\n"
     ]
    }
   ],
   "source": [
    "dados=pd.read_csv('all_weighings_full_new.csv').drop(['Unnamed: 0','cellId_0','cellId_1','cellId_2','cellId_3','cellId_4','cellId_5','cellId_6','cellId_7'], axis=1)"
   ]
  },
  {
   "cell_type": "code",
   "execution_count": null,
   "metadata": {},
   "outputs": [],
   "source": [
    "dados.head()"
   ]
  },
  {
   "cell_type": "code",
   "execution_count": null,
   "metadata": {},
   "outputs": [],
   "source": [
    "dados.cellSerialNumber_0.unique()"
   ]
  },
  {
   "cell_type": "code",
   "execution_count": 3,
   "metadata": {},
   "outputs": [],
   "source": [
    "dados['cellSerialNumber_0']=dados['cellSerialNumber_0'].fillna(0)\n",
    "dados['cellSerialNumber_1']=dados['cellSerialNumber_1'].fillna(0)\n",
    "dados['cellSerialNumber_2']=dados['cellSerialNumber_2'].fillna(0)\n",
    "dados['cellSerialNumber_3']=dados['cellSerialNumber_3'].fillna(0)\n",
    "dados['cellSerialNumber_4']=dados['cellSerialNumber_4'].fillna(0)\n",
    "dados['cellSerialNumber_5']=dados['cellSerialNumber_5'].fillna(0)\n",
    "dados['cellSerialNumber_6']=dados['cellSerialNumber_6'].fillna(0)\n",
    "dados['cellSerialNumber_7']=dados['cellSerialNumber_7'].fillna(0)\n",
    "\n",
    "clean0=dados['cellSerialNumber_0'].tolist()\n",
    "clean1=dados['cellSerialNumber_1'].tolist()\n",
    "clean2=dados['cellSerialNumber_2'].tolist()\n",
    "clean3=dados['cellSerialNumber_3'].tolist()\n",
    "clean4=dados['cellSerialNumber_4'].tolist()\n",
    "clean5=dados['cellSerialNumber_5'].tolist()\n",
    "clean6=dados['cellSerialNumber_6'].tolist()\n",
    "clean7=dados['cellSerialNumber_7'].tolist()\n",
    "\n",
    "for i in range(0, len(clean0)):\n",
    "    if type(clean0[i]) == float:\n",
    "        clean0[i]=str(int(clean0[i]))\n",
    "    if type(clean1[i]) == float:\n",
    "        clean1[i]=str(int(clean1[i]))\n",
    "    if type(clean2[i]) == float:\n",
    "        clean2[i]=str(int(clean2[i]))\n",
    "    if type(clean3[i]) == float:\n",
    "        clean3[i]=str(int(clean3[i]))\n",
    "    if type(clean4[i]) == float:\n",
    "        clean4[i]=str(int(clean4[i]))\n",
    "    if type(clean5[i]) == float:\n",
    "        clean5[i]=str(int(clean5[i]))\n",
    "    if type(clean6[i]) == float:\n",
    "        clean6[i]=str(int(clean6[i]))\n",
    "    if type(clean7[i]) == float:\n",
    "        clean7[i]=str(int(clean7[i]))\n",
    "\n",
    "        \n",
    "clean0=[str(i) for i in clean0]\n",
    "clean1=[str(i) for i in clean1]\n",
    "clean2=[str(i) for i in clean2]\n",
    "clean3=[str(i) for i in clean3]\n",
    "clean4=[str(i) for i in clean4]\n",
    "clean5=[str(i) for i in clean5]\n",
    "clean6=[str(i) for i in clean6]\n",
    "clean7=[str(i) for i in clean7]\n",
    "\n",
    "for i in range(0, len(clean0)):\n",
    "    if clean0[i][0] == '0' and len(clean0[i])>1:\n",
    "        clean0[i]=clean0[i][1:]\n",
    "    if clean1[i][0] == '0'and len(clean1[i])>1:\n",
    "        clean1[i]=clean1[i][1:]\n",
    "    if clean2[i][0] == '0' and len(clean2[i])>1:\n",
    "        clean2[i]=clean2[i][1:]\n",
    "    if clean3[i][0] == '0'and len(clean3[i])>1:\n",
    "        clean3[i]=clean3[i][1:]\n",
    "    if clean4[i][0] == '0'and len(clean4[i])>1:\n",
    "        clean4[i]=clean4[i][1:]\n",
    "    if clean5[i][0] == '0'and len(clean5[i])>1:\n",
    "        clean5[i]=clean5[i][1:]\n",
    "    if clean6[i][0] == '0'and len(clean6[i])>1:\n",
    "        clean6[i]=clean6[i][1:]\n",
    "    if clean7[i][0] == '0'and len(clean7[i])>1:\n",
    "        clean7[i]=clean7[i][1:]\n",
    "\n",
    "dados['cellSerialNumber_0']=clean0\n",
    "dados['cellSerialNumber_1']=clean1\n",
    "dados['cellSerialNumber_2']=clean2\n",
    "dados['cellSerialNumber_3']=clean3\n",
    "dados['cellSerialNumber_4']=clean4\n",
    "dados['cellSerialNumber_5']=clean5\n",
    "dados['cellSerialNumber_6']=clean6\n",
    "dados['cellSerialNumber_7']=clean7\n",
    "\n",
    "dados[['terminalSerialNumber']]=dados[['terminalSerialNumber']].astype(str)"
   ]
  },
  {
   "cell_type": "markdown",
   "metadata": {},
   "source": [
    "## filtrar pela ponte relevante"
   ]
  },
  {
   "cell_type": "code",
   "execution_count": 4,
   "metadata": {},
   "outputs": [],
   "source": [
    "ponte=dados[dados['scaleSerialNumber']=='P191021852']"
   ]
  },
  {
   "cell_type": "code",
   "execution_count": null,
   "metadata": {},
   "outputs": [],
   "source": [
    "ponte.shape"
   ]
  },
  {
   "cell_type": "code",
   "execution_count": null,
   "metadata": {},
   "outputs": [],
   "source": [
    "details=pd.DataFrame(ponte.dtypes, columns=['type'])\n",
    "details['#Nan']=ponte.isnull().sum(axis = 0)\n",
    "details['#uniques']=ponte.nunique()\n",
    "details"
   ]
  },
  {
   "cell_type": "code",
   "execution_count": 5,
   "metadata": {},
   "outputs": [],
   "source": [
    "ponte=ponte.drop(['terminalSerialNumber','scaleSerialNumber','scaleNet'],axis=1)"
   ]
  },
  {
   "cell_type": "markdown",
   "metadata": {},
   "source": [
    "## ordenar data"
   ]
  },
  {
   "cell_type": "code",
   "execution_count": 6,
   "metadata": {},
   "outputs": [],
   "source": [
    "ordenado=ponte.sort_values(by='timestamp')"
   ]
  },
  {
   "cell_type": "code",
   "execution_count": null,
   "metadata": {},
   "outputs": [],
   "source": [
    "avaliar=ordenado.groupby(['cellSerialNumber_0','cellSerialNumber_1','cellSerialNumber_2','cellSerialNumber_3','cellSerialNumber_4','cellSerialNumber_5','cellSerialNumber_6','cellSerialNumber_7']).count()\n",
    "ocorrencias=avaliar.sort_values(['cellSerialNumber_7','cellSerialNumber_6','cellSerialNumber_5','cellSerialNumber_4','cellSerialNumber_3','cellSerialNumber_2','cellSerialNumber_1','cellSerialNumber_0'],ascending=False)"
   ]
  },
  {
   "cell_type": "code",
   "execution_count": null,
   "metadata": {},
   "outputs": [],
   "source": [
    "ocorrencias"
   ]
  },
  {
   "cell_type": "code",
   "execution_count": null,
   "metadata": {},
   "outputs": [],
   "source": []
  },
  {
   "cell_type": "markdown",
   "metadata": {},
   "source": [
    "dia[dia['period'] < pd.Timedelta(4, unit='s')]"
   ]
  },
  {
   "cell_type": "code",
   "execution_count": null,
   "metadata": {},
   "outputs": [],
   "source": [
    "a=1\n",
    "dia['measurement']=1\n",
    "for i in range(dia.shape[0]):\n",
    "    if dia['period'][i] < pd.Timedelta(4, unit='s'):\n",
    "        dia['measurement'][i]=a\n",
    "    else:\n",
    "        a=a+1\n",
    "        dia['measurement'][i]=a"
   ]
  },
  {
   "cell_type": "code",
   "execution_count": null,
   "metadata": {},
   "outputs": [],
   "source": []
  },
  {
   "cell_type": "code",
   "execution_count": null,
   "metadata": {},
   "outputs": [],
   "source": [
    "dia.head(3)"
   ]
  },
  {
   "cell_type": "code",
   "execution_count": null,
   "metadata": {},
   "outputs": [],
   "source": [
    "dia.measurement.value_counts()"
   ]
  },
  {
   "cell_type": "code",
   "execution_count": null,
   "metadata": {},
   "outputs": [],
   "source": [
    "dia[dia.measurement == 53]"
   ]
  },
  {
   "cell_type": "code",
   "execution_count": null,
   "metadata": {},
   "outputs": [],
   "source": [
    "dia.measurement.value_counts().plot(kind='bar')"
   ]
  },
  {
   "cell_type": "markdown",
   "metadata": {},
   "source": [
    "Consideraçoes\n",
    "- no dia 10 temos 81 pesagens separadas\n",
    "- a maior pesagem engloba 180 amostras separadas por 3s\n",
    "- multiplas pesagens têm so 1 amostra - estranho"
   ]
  },
  {
   "cell_type": "code",
   "execution_count": null,
   "metadata": {},
   "outputs": [],
   "source": []
  },
  {
   "cell_type": "code",
   "execution_count": null,
   "metadata": {},
   "outputs": [],
   "source": [
    "dia=ordenado.reset_index(drop=True)\n",
    "dia['timestamp']= pd.to_datetime(dia['timestamp']) "
   ]
  },
  {
   "cell_type": "code",
   "execution_count": null,
   "metadata": {},
   "outputs": [],
   "source": [
    "dia.head()"
   ]
  },
  {
   "cell_type": "code",
   "execution_count": null,
   "metadata": {},
   "outputs": [],
   "source": [
    "dia['period']=dia.timestamp.diff()\n",
    "dia['period'][0]=0\n",
    "dia['period']=pd.to_timedelta(dia['period'])"
   ]
  },
  {
   "cell_type": "code",
   "execution_count": null,
   "metadata": {},
   "outputs": [],
   "source": [
    "a=1\n",
    "dia['measurement']=1\n",
    "for i in range(dia.shape[0]):\n",
    "    if dia['period'][i] < pd.Timedelta(4, unit='s'):\n",
    "        dia['measurement'][i]=a\n",
    "    else:\n",
    "        a=a+1\n",
    "        dia['measurement'][i]=a"
   ]
  },
  {
   "cell_type": "code",
   "execution_count": null,
   "metadata": {},
   "outputs": [],
   "source": [
    "a"
   ]
  },
  {
   "cell_type": "code",
   "execution_count": null,
   "metadata": {},
   "outputs": [],
   "source": [
    "dia.measurement.value_counts()"
   ]
  },
  {
   "cell_type": "code",
   "execution_count": null,
   "metadata": {},
   "outputs": [],
   "source": [
    "teste=dia[dia.measurement == 30722]"
   ]
  },
  {
   "cell_type": "code",
   "execution_count": null,
   "metadata": {},
   "outputs": [],
   "source": [
    "import matplotlib.pyplot as plt\n",
    "\n",
    "plt.figure(figsize=(20,10))\n",
    "plt.plot(teste.timestamp, teste.cellWeight_0)"
   ]
  },
  {
   "cell_type": "code",
   "execution_count": null,
   "metadata": {},
   "outputs": [],
   "source": [
    "dia102=teste.fillna(method='ffill')\n"
   ]
  },
  {
   "cell_type": "code",
   "execution_count": null,
   "metadata": {},
   "outputs": [],
   "source": [
    "import matplotlib.pyplot as plt\n",
    "\n",
    "plt.figure(figsize=(20,10))\n",
    "#plt.xlim=((2000, 6000))\n",
    "\n",
    "plt.plot(dia102.timestamp, dia102.cellWeight_0, 'r')\n",
    "plt.plot(teste.timestamp, teste.cellWeight_0, 'g')"
   ]
  },
  {
   "cell_type": "code",
   "execution_count": null,
   "metadata": {},
   "outputs": [],
   "source": [
    "teste.describe()"
   ]
  },
  {
   "cell_type": "code",
   "execution_count": null,
   "metadata": {},
   "outputs": [],
   "source": [
    "teste"
   ]
  },
  {
   "cell_type": "code",
   "execution_count": null,
   "metadata": {},
   "outputs": [],
   "source": [
    "dia.head()"
   ]
  },
  {
   "cell_type": "code",
   "execution_count": null,
   "metadata": {},
   "outputs": [],
   "source": [
    "dia.groupby(['measurement','cellSerialNumber_0']).count()\n"
   ]
  },
  {
   "cell_type": "code",
   "execution_count": null,
   "metadata": {},
   "outputs": [],
   "source": [
    "dia.groupby(['measurement']).mean()#,'cellWeight_0']).mean()"
   ]
  },
  {
   "cell_type": "code",
   "execution_count": null,
   "metadata": {},
   "outputs": [],
   "source": [
    "dia.head()"
   ]
  },
  {
   "cell_type": "code",
   "execution_count": null,
   "metadata": {},
   "outputs": [],
   "source": [
    "dia_interpolado=dia[1].fillna(method='ffill')"
   ]
  },
  {
   "cell_type": "code",
   "execution_count": null,
   "metadata": {},
   "outputs": [],
   "source": [
    "dia_interpolado=dia.loc[1]"
   ]
  },
  {
   "cell_type": "code",
   "execution_count": null,
   "metadata": {},
   "outputs": [],
   "source": [
    "type(dia_interpolado)"
   ]
  },
  {
   "cell_type": "code",
   "execution_count": null,
   "metadata": {},
   "outputs": [],
   "source": [
    "dia_interpolado=dia.set_index('measurement')\n",
    "dia_interpolado"
   ]
  },
  {
   "cell_type": "code",
   "execution_count": null,
   "metadata": {},
   "outputs": [],
   "source": [
    "dia_interpolado=dia.groupby('measurement')\n",
    "for i in range(20):\n",
    "    dia_interpolado.measurement.iloc[i]="
   ]
  },
  {
   "cell_type": "code",
   "execution_count": null,
   "metadata": {},
   "outputs": [],
   "source": [
    "dia_interpolado.loc[3].fillna(method='ffill')"
   ]
  },
  {
   "cell_type": "code",
   "execution_count": null,
   "metadata": {},
   "outputs": [],
   "source": []
  },
  {
   "cell_type": "code",
   "execution_count": null,
   "metadata": {},
   "outputs": [],
   "source": [
    "dia['period'][1]"
   ]
  },
  {
   "cell_type": "code",
   "execution_count": null,
   "metadata": {},
   "outputs": [],
   "source": [
    "dia['period'].dt.days"
   ]
  },
  {
   "cell_type": "code",
   "execution_count": null,
   "metadata": {},
   "outputs": [],
   "source": [
    "df = df[df['col'] < pd.Timedelta(30, unit='s')]"
   ]
  },
  {
   "cell_type": "code",
   "execution_count": null,
   "metadata": {},
   "outputs": [],
   "source": [
    "dia['period'] < pd.Timedelta(30, unit='s')"
   ]
  },
  {
   "cell_type": "code",
   "execution_count": null,
   "metadata": {},
   "outputs": [],
   "source": [
    "type(dia['period'])"
   ]
  },
  {
   "cell_type": "code",
   "execution_count": null,
   "metadata": {},
   "outputs": [],
   "source": [
    "#dia[\n",
    "dia['period'].dt.total_seconds()# < pd.Timedelta(30, unit='s')]"
   ]
  },
  {
   "cell_type": "code",
   "execution_count": null,
   "metadata": {},
   "outputs": [],
   "source": [
    "import datetime\n",
    "dia.period> Timedelta('0 days 00:00:03')#datetime.timedelta(seconds=1)"
   ]
  },
  {
   "cell_type": "code",
   "execution_count": null,
   "metadata": {},
   "outputs": [],
   "source": []
  },
  {
   "cell_type": "markdown",
   "metadata": {},
   "source": [
    "## separar e alterar"
   ]
  },
  {
   "cell_type": "code",
   "execution_count": null,
   "metadata": {},
   "outputs": [],
   "source": [
    "ordenado.head(3)"
   ]
  },
  {
   "cell_type": "code",
   "execution_count": null,
   "metadata": {},
   "outputs": [],
   "source": [
    "ordenado.scaleGross.isnull().sum()"
   ]
  },
  {
   "cell_type": "code",
   "execution_count": null,
   "metadata": {},
   "outputs": [],
   "source": [
    "ordenado.loc[pd.isnull(ordenado.scaleGross)]"
   ]
  },
  {
   "cell_type": "code",
   "execution_count": 7,
   "metadata": {},
   "outputs": [],
   "source": [
    "ordenado['timestamp']= pd.to_datetime(ordenado['timestamp']) "
   ]
  },
  {
   "cell_type": "code",
   "execution_count": 8,
   "metadata": {},
   "outputs": [
    {
     "name": "stderr",
     "output_type": "stream",
     "text": [
      "/usr/local/lib/python3.6/dist-packages/ipykernel_launcher.py:3: SettingWithCopyWarning: \n",
      "A value is trying to be set on a copy of a slice from a DataFrame\n",
      "\n",
      "See the caveats in the documentation: http://pandas.pydata.org/pandas-docs/stable/user_guide/indexing.html#returning-a-view-versus-a-copy\n",
      "  This is separate from the ipykernel package so we can avoid doing imports until\n",
      "/usr/local/lib/python3.6/dist-packages/pandas/core/indexing.py:205: SettingWithCopyWarning: \n",
      "A value is trying to be set on a copy of a slice from a DataFrame\n",
      "\n",
      "See the caveats in the documentation: http://pandas.pydata.org/pandas-docs/stable/user_guide/indexing.html#returning-a-view-versus-a-copy\n",
      "  self._setitem_with_indexer(indexer, value)\n"
     ]
    }
   ],
   "source": [
    "ordenado=ordenado.reset_index(drop=True)\n",
    "ordenado['period']=ordenado.timestamp.diff()\n",
    "ordenado['period'][0]=0\n",
    "ordenado['period']=pd.to_timedelta(ordenado['period'])"
   ]
  },
  {
   "cell_type": "code",
   "execution_count": null,
   "metadata": {},
   "outputs": [],
   "source": [
    "ordenado['period'].value_counts().head(30)"
   ]
  },
  {
   "cell_type": "markdown",
   "metadata": {},
   "source": [
    "- dificil determinar qual a tolerancia de falha para amostras separadas por mais de 3s"
   ]
  },
  {
   "cell_type": "code",
   "execution_count": null,
   "metadata": {},
   "outputs": [],
   "source": [
    "ordenado"
   ]
  },
  {
   "cell_type": "markdown",
   "metadata": {},
   "source": [
    "### 1) separar pesagens "
   ]
  },
  {
   "cell_type": "code",
   "execution_count": 9,
   "metadata": {},
   "outputs": [
    {
     "name": "stderr",
     "output_type": "stream",
     "text": [
      "/usr/local/lib/python3.6/dist-packages/ipykernel_launcher.py:5: SettingWithCopyWarning: \n",
      "A value is trying to be set on a copy of a slice from a DataFrame\n",
      "\n",
      "See the caveats in the documentation: http://pandas.pydata.org/pandas-docs/stable/user_guide/indexing.html#returning-a-view-versus-a-copy\n",
      "  \"\"\"\n",
      "/usr/local/lib/python3.6/dist-packages/ipykernel_launcher.py:8: SettingWithCopyWarning: \n",
      "A value is trying to be set on a copy of a slice from a DataFrame\n",
      "\n",
      "See the caveats in the documentation: http://pandas.pydata.org/pandas-docs/stable/user_guide/indexing.html#returning-a-view-versus-a-copy\n",
      "  \n"
     ]
    }
   ],
   "source": [
    "a=1\n",
    "ordenado['measurement']=1\n",
    "for i in range(ordenado.shape[0]):\n",
    "    if ordenado['period'][i] < pd.Timedelta(31, unit='s'):  #4\n",
    "        ordenado['measurement'][i]=a\n",
    "    else:\n",
    "        a=a+1\n",
    "        ordenado['measurement'][i]=a"
   ]
  },
  {
   "cell_type": "code",
   "execution_count": 10,
   "metadata": {},
   "outputs": [
    {
     "name": "stdout",
     "output_type": "stream",
     "text": [
      "Numero total de pesagens isoladas: 13111\n"
     ]
    },
    {
     "data": {
      "text/plain": [
       "9498     10213\n",
       "1351      5630\n",
       "1327      5161\n",
       "11484     4474\n",
       "10877     4172\n",
       "         ...  \n",
       "1359         1\n",
       "1061         1\n",
       "9547         1\n",
       "9121         1\n",
       "12472        1\n",
       "Name: measurement, Length: 13111, dtype: int64"
      ]
     },
     "execution_count": 10,
     "metadata": {},
     "output_type": "execute_result"
    }
   ],
   "source": [
    "print('Numero total de pesagens isoladas: ' + str(a))\n",
    "ordenado.measurement.value_counts()"
   ]
  },
  {
   "cell_type": "code",
   "execution_count": 55,
   "metadata": {},
   "outputs": [
    {
     "data": {
      "text/plain": [
       "(423069, 21)"
      ]
     },
     "execution_count": 55,
     "metadata": {},
     "output_type": "execute_result"
    }
   ],
   "source": [
    "ordenado.shape"
   ]
  },
  {
   "cell_type": "code",
   "execution_count": 54,
   "metadata": {
    "collapsed": true
   },
   "outputs": [
    {
     "data": {
      "text/html": [
       "<div>\n",
       "<style scoped>\n",
       "    .dataframe tbody tr th:only-of-type {\n",
       "        vertical-align: middle;\n",
       "    }\n",
       "\n",
       "    .dataframe tbody tr th {\n",
       "        vertical-align: top;\n",
       "    }\n",
       "\n",
       "    .dataframe thead th {\n",
       "        text-align: right;\n",
       "    }\n",
       "</style>\n",
       "<table border=\"1\" class=\"dataframe\">\n",
       "  <thead>\n",
       "    <tr style=\"text-align: right;\">\n",
       "      <th></th>\n",
       "      <th>_id</th>\n",
       "      <th>timestamp</th>\n",
       "      <th>scaleGross</th>\n",
       "      <th>cellSerialNumber_0</th>\n",
       "      <th>cellWeight_0</th>\n",
       "      <th>cellSerialNumber_1</th>\n",
       "      <th>cellWeight_1</th>\n",
       "      <th>cellSerialNumber_2</th>\n",
       "      <th>cellWeight_2</th>\n",
       "      <th>cellSerialNumber_3</th>\n",
       "      <th>...</th>\n",
       "      <th>cellSerialNumber_4</th>\n",
       "      <th>cellWeight_4</th>\n",
       "      <th>cellSerialNumber_5</th>\n",
       "      <th>cellWeight_5</th>\n",
       "      <th>cellSerialNumber_6</th>\n",
       "      <th>cellWeight_6</th>\n",
       "      <th>cellSerialNumber_7</th>\n",
       "      <th>cellWeight_7</th>\n",
       "      <th>period</th>\n",
       "      <th>measurement</th>\n",
       "    </tr>\n",
       "  </thead>\n",
       "  <tbody>\n",
       "    <tr>\n",
       "      <th>0</th>\n",
       "      <td>5cd43963a61883ad63c5835e</td>\n",
       "      <td>2019-05-09 14:22:55</td>\n",
       "      <td>0.0</td>\n",
       "      <td>7450332</td>\n",
       "      <td>0.0</td>\n",
       "      <td>7450333</td>\n",
       "      <td>0.0</td>\n",
       "      <td>7450339</td>\n",
       "      <td>0.0</td>\n",
       "      <td>7450340</td>\n",
       "      <td>...</td>\n",
       "      <td>7450338</td>\n",
       "      <td>0.0</td>\n",
       "      <td>7450337</td>\n",
       "      <td>0.0</td>\n",
       "      <td>7450336</td>\n",
       "      <td>0.0</td>\n",
       "      <td>7450341</td>\n",
       "      <td>0.0</td>\n",
       "      <td>00:00:00</td>\n",
       "      <td>1</td>\n",
       "    </tr>\n",
       "    <tr>\n",
       "      <th>1</th>\n",
       "      <td>5cd43965a618830094c58367</td>\n",
       "      <td>2019-05-09 14:22:58</td>\n",
       "      <td>0.0</td>\n",
       "      <td>7450332</td>\n",
       "      <td>0.0</td>\n",
       "      <td>7450333</td>\n",
       "      <td>0.0</td>\n",
       "      <td>7450339</td>\n",
       "      <td>-10.0</td>\n",
       "      <td>7450340</td>\n",
       "      <td>...</td>\n",
       "      <td>7450338</td>\n",
       "      <td>0.0</td>\n",
       "      <td>7450337</td>\n",
       "      <td>0.0</td>\n",
       "      <td>7450336</td>\n",
       "      <td>0.0</td>\n",
       "      <td>7450341</td>\n",
       "      <td>0.0</td>\n",
       "      <td>00:00:03</td>\n",
       "      <td>1</td>\n",
       "    </tr>\n",
       "    <tr>\n",
       "      <th>2</th>\n",
       "      <td>5cd43968a61883e53ac58370</td>\n",
       "      <td>2019-05-09 14:23:01</td>\n",
       "      <td>0.0</td>\n",
       "      <td>7450332</td>\n",
       "      <td>0.0</td>\n",
       "      <td>7450333</td>\n",
       "      <td>0.0</td>\n",
       "      <td>7450339</td>\n",
       "      <td>0.0</td>\n",
       "      <td>7450340</td>\n",
       "      <td>...</td>\n",
       "      <td>7450338</td>\n",
       "      <td>0.0</td>\n",
       "      <td>7450337</td>\n",
       "      <td>0.0</td>\n",
       "      <td>7450336</td>\n",
       "      <td>0.0</td>\n",
       "      <td>7450341</td>\n",
       "      <td>0.0</td>\n",
       "      <td>00:00:03</td>\n",
       "      <td>1</td>\n",
       "    </tr>\n",
       "    <tr>\n",
       "      <th>3</th>\n",
       "      <td>5cd4396ba618835713c58379</td>\n",
       "      <td>2019-05-09 14:23:04</td>\n",
       "      <td>0.0</td>\n",
       "      <td>7450332</td>\n",
       "      <td>0.0</td>\n",
       "      <td>7450333</td>\n",
       "      <td>0.0</td>\n",
       "      <td>7450339</td>\n",
       "      <td>0.0</td>\n",
       "      <td>7450340</td>\n",
       "      <td>...</td>\n",
       "      <td>7450338</td>\n",
       "      <td>0.0</td>\n",
       "      <td>7450337</td>\n",
       "      <td>0.0</td>\n",
       "      <td>7450336</td>\n",
       "      <td>0.0</td>\n",
       "      <td>7450341</td>\n",
       "      <td>0.0</td>\n",
       "      <td>00:00:03</td>\n",
       "      <td>1</td>\n",
       "    </tr>\n",
       "    <tr>\n",
       "      <th>4</th>\n",
       "      <td>5cd43b33a61883db28c58384</td>\n",
       "      <td>2019-05-09 14:30:40</td>\n",
       "      <td>0.0</td>\n",
       "      <td>7450332</td>\n",
       "      <td>0.0</td>\n",
       "      <td>7450333</td>\n",
       "      <td>0.0</td>\n",
       "      <td>7450339</td>\n",
       "      <td>0.0</td>\n",
       "      <td>7450340</td>\n",
       "      <td>...</td>\n",
       "      <td>7450338</td>\n",
       "      <td>0.0</td>\n",
       "      <td>7450337</td>\n",
       "      <td>0.0</td>\n",
       "      <td>7450336</td>\n",
       "      <td>0.0</td>\n",
       "      <td>7450341</td>\n",
       "      <td>0.0</td>\n",
       "      <td>00:07:36</td>\n",
       "      <td>2</td>\n",
       "    </tr>\n",
       "    <tr>\n",
       "      <th>...</th>\n",
       "      <td>...</td>\n",
       "      <td>...</td>\n",
       "      <td>...</td>\n",
       "      <td>...</td>\n",
       "      <td>...</td>\n",
       "      <td>...</td>\n",
       "      <td>...</td>\n",
       "      <td>...</td>\n",
       "      <td>...</td>\n",
       "      <td>...</td>\n",
       "      <td>...</td>\n",
       "      <td>...</td>\n",
       "      <td>...</td>\n",
       "      <td>...</td>\n",
       "      <td>...</td>\n",
       "      <td>...</td>\n",
       "      <td>...</td>\n",
       "      <td>...</td>\n",
       "      <td>...</td>\n",
       "      <td>...</td>\n",
       "      <td>...</td>\n",
       "    </tr>\n",
       "    <tr>\n",
       "      <th>423064</th>\n",
       "      <td>5f1ae66137b06e0008514ebf</td>\n",
       "      <td>2020-07-24 13:46:08</td>\n",
       "      <td>0.0</td>\n",
       "      <td>7450332</td>\n",
       "      <td>10.0</td>\n",
       "      <td>7450333</td>\n",
       "      <td>0.0</td>\n",
       "      <td>7450339</td>\n",
       "      <td>0.0</td>\n",
       "      <td>7450340</td>\n",
       "      <td>...</td>\n",
       "      <td>7450338</td>\n",
       "      <td>0.0</td>\n",
       "      <td>7450337</td>\n",
       "      <td>0.0</td>\n",
       "      <td>7450336</td>\n",
       "      <td>0.0</td>\n",
       "      <td>7450341</td>\n",
       "      <td>0.0</td>\n",
       "      <td>00:00:02</td>\n",
       "      <td>13111</td>\n",
       "    </tr>\n",
       "    <tr>\n",
       "      <th>423065</th>\n",
       "      <td>5f1ae66337b06e0008514ec8</td>\n",
       "      <td>2020-07-24 13:46:10</td>\n",
       "      <td>0.0</td>\n",
       "      <td>7450332</td>\n",
       "      <td>0.0</td>\n",
       "      <td>7450333</td>\n",
       "      <td>0.0</td>\n",
       "      <td>7450339</td>\n",
       "      <td>0.0</td>\n",
       "      <td>7450340</td>\n",
       "      <td>...</td>\n",
       "      <td>7450338</td>\n",
       "      <td>0.0</td>\n",
       "      <td>7450337</td>\n",
       "      <td>0.0</td>\n",
       "      <td>7450336</td>\n",
       "      <td>0.0</td>\n",
       "      <td>7450341</td>\n",
       "      <td>10.0</td>\n",
       "      <td>00:00:02</td>\n",
       "      <td>13111</td>\n",
       "    </tr>\n",
       "    <tr>\n",
       "      <th>423066</th>\n",
       "      <td>5f1ae66537b06e0008514ed1</td>\n",
       "      <td>2020-07-24 13:46:12</td>\n",
       "      <td>0.0</td>\n",
       "      <td>7450332</td>\n",
       "      <td>0.0</td>\n",
       "      <td>7450338</td>\n",
       "      <td>0.0</td>\n",
       "      <td>7450337</td>\n",
       "      <td>0.0</td>\n",
       "      <td>7450336</td>\n",
       "      <td>...</td>\n",
       "      <td>7450341</td>\n",
       "      <td>0.0</td>\n",
       "      <td>0</td>\n",
       "      <td>NaN</td>\n",
       "      <td>0</td>\n",
       "      <td>NaN</td>\n",
       "      <td>0</td>\n",
       "      <td>NaN</td>\n",
       "      <td>00:00:02</td>\n",
       "      <td>13111</td>\n",
       "    </tr>\n",
       "    <tr>\n",
       "      <th>423067</th>\n",
       "      <td>5f1ae66737b06e0008514ed7</td>\n",
       "      <td>2020-07-24 13:46:13</td>\n",
       "      <td>NaN</td>\n",
       "      <td>7450332</td>\n",
       "      <td>0.0</td>\n",
       "      <td>7450336</td>\n",
       "      <td>0.0</td>\n",
       "      <td>7450341</td>\n",
       "      <td>0.0</td>\n",
       "      <td>0</td>\n",
       "      <td>...</td>\n",
       "      <td>0</td>\n",
       "      <td>NaN</td>\n",
       "      <td>0</td>\n",
       "      <td>NaN</td>\n",
       "      <td>0</td>\n",
       "      <td>NaN</td>\n",
       "      <td>0</td>\n",
       "      <td>NaN</td>\n",
       "      <td>00:00:01</td>\n",
       "      <td>13111</td>\n",
       "    </tr>\n",
       "    <tr>\n",
       "      <th>423068</th>\n",
       "      <td>5f1ae66f37b06e0008514edb</td>\n",
       "      <td>2020-07-24 13:46:19</td>\n",
       "      <td>NaN</td>\n",
       "      <td>7450341</td>\n",
       "      <td>0.0</td>\n",
       "      <td>0</td>\n",
       "      <td>NaN</td>\n",
       "      <td>0</td>\n",
       "      <td>NaN</td>\n",
       "      <td>0</td>\n",
       "      <td>...</td>\n",
       "      <td>0</td>\n",
       "      <td>NaN</td>\n",
       "      <td>0</td>\n",
       "      <td>NaN</td>\n",
       "      <td>0</td>\n",
       "      <td>NaN</td>\n",
       "      <td>0</td>\n",
       "      <td>NaN</td>\n",
       "      <td>00:00:06</td>\n",
       "      <td>13111</td>\n",
       "    </tr>\n",
       "  </tbody>\n",
       "</table>\n",
       "<p>423069 rows × 21 columns</p>\n",
       "</div>"
      ],
      "text/plain": [
       "                             _id           timestamp  scaleGross  \\\n",
       "0       5cd43963a61883ad63c5835e 2019-05-09 14:22:55         0.0   \n",
       "1       5cd43965a618830094c58367 2019-05-09 14:22:58         0.0   \n",
       "2       5cd43968a61883e53ac58370 2019-05-09 14:23:01         0.0   \n",
       "3       5cd4396ba618835713c58379 2019-05-09 14:23:04         0.0   \n",
       "4       5cd43b33a61883db28c58384 2019-05-09 14:30:40         0.0   \n",
       "...                          ...                 ...         ...   \n",
       "423064  5f1ae66137b06e0008514ebf 2020-07-24 13:46:08         0.0   \n",
       "423065  5f1ae66337b06e0008514ec8 2020-07-24 13:46:10         0.0   \n",
       "423066  5f1ae66537b06e0008514ed1 2020-07-24 13:46:12         0.0   \n",
       "423067  5f1ae66737b06e0008514ed7 2020-07-24 13:46:13         NaN   \n",
       "423068  5f1ae66f37b06e0008514edb 2020-07-24 13:46:19         NaN   \n",
       "\n",
       "       cellSerialNumber_0  cellWeight_0 cellSerialNumber_1  cellWeight_1  \\\n",
       "0                 7450332           0.0            7450333           0.0   \n",
       "1                 7450332           0.0            7450333           0.0   \n",
       "2                 7450332           0.0            7450333           0.0   \n",
       "3                 7450332           0.0            7450333           0.0   \n",
       "4                 7450332           0.0            7450333           0.0   \n",
       "...                   ...           ...                ...           ...   \n",
       "423064            7450332          10.0            7450333           0.0   \n",
       "423065            7450332           0.0            7450333           0.0   \n",
       "423066            7450332           0.0            7450338           0.0   \n",
       "423067            7450332           0.0            7450336           0.0   \n",
       "423068            7450341           0.0                  0           NaN   \n",
       "\n",
       "       cellSerialNumber_2  cellWeight_2 cellSerialNumber_3  ...  \\\n",
       "0                 7450339           0.0            7450340  ...   \n",
       "1                 7450339         -10.0            7450340  ...   \n",
       "2                 7450339           0.0            7450340  ...   \n",
       "3                 7450339           0.0            7450340  ...   \n",
       "4                 7450339           0.0            7450340  ...   \n",
       "...                   ...           ...                ...  ...   \n",
       "423064            7450339           0.0            7450340  ...   \n",
       "423065            7450339           0.0            7450340  ...   \n",
       "423066            7450337           0.0            7450336  ...   \n",
       "423067            7450341           0.0                  0  ...   \n",
       "423068                  0           NaN                  0  ...   \n",
       "\n",
       "        cellSerialNumber_4 cellWeight_4  cellSerialNumber_5 cellWeight_5  \\\n",
       "0                  7450338          0.0             7450337          0.0   \n",
       "1                  7450338          0.0             7450337          0.0   \n",
       "2                  7450338          0.0             7450337          0.0   \n",
       "3                  7450338          0.0             7450337          0.0   \n",
       "4                  7450338          0.0             7450337          0.0   \n",
       "...                    ...          ...                 ...          ...   \n",
       "423064             7450338          0.0             7450337          0.0   \n",
       "423065             7450338          0.0             7450337          0.0   \n",
       "423066             7450341          0.0                   0          NaN   \n",
       "423067                   0          NaN                   0          NaN   \n",
       "423068                   0          NaN                   0          NaN   \n",
       "\n",
       "        cellSerialNumber_6 cellWeight_6  cellSerialNumber_7 cellWeight_7  \\\n",
       "0                  7450336          0.0             7450341          0.0   \n",
       "1                  7450336          0.0             7450341          0.0   \n",
       "2                  7450336          0.0             7450341          0.0   \n",
       "3                  7450336          0.0             7450341          0.0   \n",
       "4                  7450336          0.0             7450341          0.0   \n",
       "...                    ...          ...                 ...          ...   \n",
       "423064             7450336          0.0             7450341          0.0   \n",
       "423065             7450336          0.0             7450341         10.0   \n",
       "423066                   0          NaN                   0          NaN   \n",
       "423067                   0          NaN                   0          NaN   \n",
       "423068                   0          NaN                   0          NaN   \n",
       "\n",
       "         period measurement  \n",
       "0      00:00:00           1  \n",
       "1      00:00:03           1  \n",
       "2      00:00:03           1  \n",
       "3      00:00:03           1  \n",
       "4      00:07:36           2  \n",
       "...         ...         ...  \n",
       "423064 00:00:02       13111  \n",
       "423065 00:00:02       13111  \n",
       "423066 00:00:02       13111  \n",
       "423067 00:00:01       13111  \n",
       "423068 00:00:06       13111  \n",
       "\n",
       "[423069 rows x 21 columns]"
      ]
     },
     "execution_count": 54,
     "metadata": {},
     "output_type": "execute_result"
    }
   ],
   "source": [
    "ordenado[['cellSerialNumber_0','cellWeight_0','cellSerialNumber_1','cellWeight_1','cellSerialNumber_2','cellWeight_2','cellSerialNumber_3','cellWeight_3','cellSerialNumber_4','cellWeight_4','cellSerialNumber_5','cellWeight_5','cellSerialNumber_6','cellWeight_6','cellSerialNumber_7','cellWeight_7']]"
   ]
  },
  {
   "cell_type": "code",
   "execution_count": null,
   "metadata": {},
   "outputs": [],
   "source": [
    "filtragem=ordenado"
   ]
  },
  {
   "cell_type": "code",
   "execution_count": null,
   "metadata": {},
   "outputs": [],
   "source": [
    "print('Numero total de pesagens isoladas: ' + str(a))\n",
    "ordenado.measurement.value_counts()"
   ]
  },
  {
   "cell_type": "markdown",
   "metadata": {},
   "source": [
    "### 2) filtrar por ter mais que 5 mediçoes"
   ]
  },
  {
   "cell_type": "code",
   "execution_count": 11,
   "metadata": {},
   "outputs": [
    {
     "data": {
      "text/html": [
       "<div>\n",
       "<style scoped>\n",
       "    .dataframe tbody tr th:only-of-type {\n",
       "        vertical-align: middle;\n",
       "    }\n",
       "\n",
       "    .dataframe tbody tr th {\n",
       "        vertical-align: top;\n",
       "    }\n",
       "\n",
       "    .dataframe thead th {\n",
       "        text-align: right;\n",
       "    }\n",
       "</style>\n",
       "<table border=\"1\" class=\"dataframe\">\n",
       "  <thead>\n",
       "    <tr style=\"text-align: right;\">\n",
       "      <th></th>\n",
       "      <th>_id</th>\n",
       "      <th>timestamp</th>\n",
       "      <th>scaleGross</th>\n",
       "      <th>cellSerialNumber_0</th>\n",
       "      <th>cellWeight_0</th>\n",
       "      <th>cellSerialNumber_1</th>\n",
       "      <th>cellWeight_1</th>\n",
       "      <th>cellSerialNumber_2</th>\n",
       "      <th>cellWeight_2</th>\n",
       "      <th>cellSerialNumber_3</th>\n",
       "      <th>...</th>\n",
       "      <th>cellSerialNumber_4</th>\n",
       "      <th>cellWeight_4</th>\n",
       "      <th>cellSerialNumber_5</th>\n",
       "      <th>cellWeight_5</th>\n",
       "      <th>cellSerialNumber_6</th>\n",
       "      <th>cellWeight_6</th>\n",
       "      <th>cellSerialNumber_7</th>\n",
       "      <th>cellWeight_7</th>\n",
       "      <th>period</th>\n",
       "      <th>measurement</th>\n",
       "    </tr>\n",
       "  </thead>\n",
       "  <tbody>\n",
       "    <tr>\n",
       "      <th>4</th>\n",
       "      <td>5cd43b33a61883db28c58384</td>\n",
       "      <td>2019-05-09 14:30:40</td>\n",
       "      <td>0.0</td>\n",
       "      <td>7450332</td>\n",
       "      <td>0.0</td>\n",
       "      <td>7450333</td>\n",
       "      <td>0.0</td>\n",
       "      <td>7450339</td>\n",
       "      <td>0.0</td>\n",
       "      <td>7450340</td>\n",
       "      <td>...</td>\n",
       "      <td>7450338</td>\n",
       "      <td>0.0</td>\n",
       "      <td>7450337</td>\n",
       "      <td>0.0</td>\n",
       "      <td>7450336</td>\n",
       "      <td>0.0</td>\n",
       "      <td>7450341</td>\n",
       "      <td>0.0</td>\n",
       "      <td>00:07:36</td>\n",
       "      <td>2</td>\n",
       "    </tr>\n",
       "    <tr>\n",
       "      <th>5</th>\n",
       "      <td>5cd43b36a61883180ec5838d</td>\n",
       "      <td>2019-05-09 14:30:43</td>\n",
       "      <td>NaN</td>\n",
       "      <td>7450332</td>\n",
       "      <td>-860.0</td>\n",
       "      <td>0</td>\n",
       "      <td>NaN</td>\n",
       "      <td>0</td>\n",
       "      <td>NaN</td>\n",
       "      <td>0</td>\n",
       "      <td>...</td>\n",
       "      <td>0</td>\n",
       "      <td>NaN</td>\n",
       "      <td>0</td>\n",
       "      <td>NaN</td>\n",
       "      <td>0</td>\n",
       "      <td>NaN</td>\n",
       "      <td>0</td>\n",
       "      <td>NaN</td>\n",
       "      <td>00:00:03</td>\n",
       "      <td>2</td>\n",
       "    </tr>\n",
       "    <tr>\n",
       "      <th>6</th>\n",
       "      <td>5cd43b39a61883300cc5838f</td>\n",
       "      <td>2019-05-09 14:30:46</td>\n",
       "      <td>0.0</td>\n",
       "      <td>7450332</td>\n",
       "      <td>0.0</td>\n",
       "      <td>7450333</td>\n",
       "      <td>0.0</td>\n",
       "      <td>7450339</td>\n",
       "      <td>0.0</td>\n",
       "      <td>7450340</td>\n",
       "      <td>...</td>\n",
       "      <td>7450338</td>\n",
       "      <td>0.0</td>\n",
       "      <td>7450337</td>\n",
       "      <td>0.0</td>\n",
       "      <td>7450336</td>\n",
       "      <td>0.0</td>\n",
       "      <td>7450341</td>\n",
       "      <td>0.0</td>\n",
       "      <td>00:00:03</td>\n",
       "      <td>2</td>\n",
       "    </tr>\n",
       "    <tr>\n",
       "      <th>7</th>\n",
       "      <td>5cd43b3ca618839b85c58398</td>\n",
       "      <td>2019-05-09 14:30:49</td>\n",
       "      <td>0.0</td>\n",
       "      <td>7450332</td>\n",
       "      <td>10.0</td>\n",
       "      <td>7450333</td>\n",
       "      <td>0.0</td>\n",
       "      <td>7450339</td>\n",
       "      <td>0.0</td>\n",
       "      <td>7450340</td>\n",
       "      <td>...</td>\n",
       "      <td>7450338</td>\n",
       "      <td>0.0</td>\n",
       "      <td>7450337</td>\n",
       "      <td>0.0</td>\n",
       "      <td>7450336</td>\n",
       "      <td>0.0</td>\n",
       "      <td>7450341</td>\n",
       "      <td>0.0</td>\n",
       "      <td>00:00:03</td>\n",
       "      <td>2</td>\n",
       "    </tr>\n",
       "    <tr>\n",
       "      <th>8</th>\n",
       "      <td>5cd43b3fa618834976c583a1</td>\n",
       "      <td>2019-05-09 14:30:52</td>\n",
       "      <td>80.0</td>\n",
       "      <td>7450332</td>\n",
       "      <td>80.0</td>\n",
       "      <td>7450333</td>\n",
       "      <td>0.0</td>\n",
       "      <td>7450339</td>\n",
       "      <td>0.0</td>\n",
       "      <td>7450340</td>\n",
       "      <td>...</td>\n",
       "      <td>7450338</td>\n",
       "      <td>0.0</td>\n",
       "      <td>7450337</td>\n",
       "      <td>0.0</td>\n",
       "      <td>7450336</td>\n",
       "      <td>0.0</td>\n",
       "      <td>7450341</td>\n",
       "      <td>0.0</td>\n",
       "      <td>00:00:03</td>\n",
       "      <td>2</td>\n",
       "    </tr>\n",
       "  </tbody>\n",
       "</table>\n",
       "<p>5 rows × 21 columns</p>\n",
       "</div>"
      ],
      "text/plain": [
       "                        _id           timestamp  scaleGross  \\\n",
       "4  5cd43b33a61883db28c58384 2019-05-09 14:30:40         0.0   \n",
       "5  5cd43b36a61883180ec5838d 2019-05-09 14:30:43         NaN   \n",
       "6  5cd43b39a61883300cc5838f 2019-05-09 14:30:46         0.0   \n",
       "7  5cd43b3ca618839b85c58398 2019-05-09 14:30:49         0.0   \n",
       "8  5cd43b3fa618834976c583a1 2019-05-09 14:30:52        80.0   \n",
       "\n",
       "  cellSerialNumber_0  cellWeight_0 cellSerialNumber_1  cellWeight_1  \\\n",
       "4            7450332           0.0            7450333           0.0   \n",
       "5            7450332        -860.0                  0           NaN   \n",
       "6            7450332           0.0            7450333           0.0   \n",
       "7            7450332          10.0            7450333           0.0   \n",
       "8            7450332          80.0            7450333           0.0   \n",
       "\n",
       "  cellSerialNumber_2  cellWeight_2 cellSerialNumber_3  ...  \\\n",
       "4            7450339           0.0            7450340  ...   \n",
       "5                  0           NaN                  0  ...   \n",
       "6            7450339           0.0            7450340  ...   \n",
       "7            7450339           0.0            7450340  ...   \n",
       "8            7450339           0.0            7450340  ...   \n",
       "\n",
       "   cellSerialNumber_4 cellWeight_4  cellSerialNumber_5 cellWeight_5  \\\n",
       "4             7450338          0.0             7450337          0.0   \n",
       "5                   0          NaN                   0          NaN   \n",
       "6             7450338          0.0             7450337          0.0   \n",
       "7             7450338          0.0             7450337          0.0   \n",
       "8             7450338          0.0             7450337          0.0   \n",
       "\n",
       "   cellSerialNumber_6 cellWeight_6  cellSerialNumber_7 cellWeight_7   period  \\\n",
       "4             7450336          0.0             7450341          0.0 00:07:36   \n",
       "5                   0          NaN                   0          NaN 00:00:03   \n",
       "6             7450336          0.0             7450341          0.0 00:00:03   \n",
       "7             7450336          0.0             7450341          0.0 00:00:03   \n",
       "8             7450336          0.0             7450341          0.0 00:00:03   \n",
       "\n",
       "  measurement  \n",
       "4           2  \n",
       "5           2  \n",
       "6           2  \n",
       "7           2  \n",
       "8           2  \n",
       "\n",
       "[5 rows x 21 columns]"
      ]
     },
     "execution_count": 11,
     "metadata": {},
     "output_type": "execute_result"
    }
   ],
   "source": [
    "experiencia = ordenado.groupby('measurement').filter(lambda x: len(x) > 5)\n",
    "experiencia.head()"
   ]
  },
  {
   "cell_type": "code",
   "execution_count": 12,
   "metadata": {},
   "outputs": [
    {
     "name": "stdout",
     "output_type": "stream",
     "text": [
      "Numero total de pesagens isoladas: 13111\n"
     ]
    },
    {
     "data": {
      "text/plain": [
       "9498     10213\n",
       "1351      5630\n",
       "1327      5161\n",
       "11484     4474\n",
       "10877     4172\n",
       "         ...  \n",
       "1466         6\n",
       "7034         6\n",
       "4027         6\n",
       "6266         6\n",
       "8397         6\n",
       "Name: measurement, Length: 6222, dtype: int64"
      ]
     },
     "execution_count": 12,
     "metadata": {},
     "output_type": "execute_result"
    }
   ],
   "source": [
    "print('Numero total de pesagens isoladas: ' + str(a))\n",
    "experiencia.measurement.value_counts()"
   ]
  },
  {
   "cell_type": "code",
   "execution_count": null,
   "metadata": {},
   "outputs": [],
   "source": [
    "experiencia.measurement.value_counts()#.nunique()"
   ]
  },
  {
   "cell_type": "markdown",
   "metadata": {},
   "source": [
    "### 2.1 filtrar mediçao > 30s"
   ]
  },
  {
   "cell_type": "code",
   "execution_count": null,
   "metadata": {},
   "outputs": [],
   "source": [
    "experiencia.head()"
   ]
  },
  {
   "cell_type": "code",
   "execution_count": null,
   "metadata": {},
   "outputs": [],
   "source": [
    "experiencia.groupby('measurement').period.sum()"
   ]
  },
  {
   "cell_type": "code",
   "execution_count": null,
   "metadata": {},
   "outputs": [],
   "source": [
    "experiencia.groupby('measurement').period.sum()"
   ]
  },
  {
   "cell_type": "code",
   "execution_count": null,
   "metadata": {},
   "outputs": [],
   "source": []
  },
  {
   "cell_type": "code",
   "execution_count": null,
   "metadata": {},
   "outputs": [],
   "source": [
    "print('Numero total de pesagens isoladas: ' + str(experiencia.measurement.nunique()))"
   ]
  },
  {
   "cell_type": "code",
   "execution_count": null,
   "metadata": {},
   "outputs": [],
   "source": [
    "teste4=ordenado[ordenado.measurement == 9498]\n",
    "teste4.head(3)"
   ]
  },
  {
   "cell_type": "code",
   "execution_count": null,
   "metadata": {},
   "outputs": [],
   "source": [
    "import matplotlib.pyplot as plt\n",
    "\n",
    "plt.figure(figsize=(20,3))\n",
    "plt.plot(teste4.timestamp, teste4.cellWeight_0)"
   ]
  },
  {
   "cell_type": "code",
   "execution_count": null,
   "metadata": {},
   "outputs": [],
   "source": [
    "teste4.period.value_counts()"
   ]
  },
  {
   "cell_type": "code",
   "execution_count": null,
   "metadata": {},
   "outputs": [],
   "source": [
    "teste4.cellWeight_0.value_counts()"
   ]
  },
  {
   "cell_type": "markdown",
   "metadata": {},
   "source": [
    "### 3) filtrar as que sao ruido"
   ]
  },
  {
   "cell_type": "code",
   "execution_count": null,
   "metadata": {},
   "outputs": [],
   "source": [
    "ordenado.head(2)"
   ]
  },
  {
   "cell_type": "code",
   "execution_count": null,
   "metadata": {},
   "outputs": [],
   "source": [
    "experiencia.groupby('measurement').cellWeight_0.nunique()"
   ]
  },
  {
   "cell_type": "code",
   "execution_count": null,
   "metadata": {
    "scrolled": true
   },
   "outputs": [],
   "source": [
    "experiencia.groupby('measurement').cellWeight_0.nunique().sort_values()"
   ]
  },
  {
   "cell_type": "code",
   "execution_count": 46,
   "metadata": {},
   "outputs": [
    {
     "data": {
      "text/html": [
       "<div>\n",
       "<style scoped>\n",
       "    .dataframe tbody tr th:only-of-type {\n",
       "        vertical-align: middle;\n",
       "    }\n",
       "\n",
       "    .dataframe tbody tr th {\n",
       "        vertical-align: top;\n",
       "    }\n",
       "\n",
       "    .dataframe thead th {\n",
       "        text-align: right;\n",
       "    }\n",
       "</style>\n",
       "<table border=\"1\" class=\"dataframe\">\n",
       "  <thead>\n",
       "    <tr style=\"text-align: right;\">\n",
       "      <th></th>\n",
       "      <th>_id</th>\n",
       "      <th>timestamp</th>\n",
       "      <th>scaleGross</th>\n",
       "      <th>cellSerialNumber_0</th>\n",
       "      <th>cellWeight_0</th>\n",
       "      <th>cellSerialNumber_1</th>\n",
       "      <th>cellWeight_1</th>\n",
       "      <th>cellSerialNumber_2</th>\n",
       "      <th>cellWeight_2</th>\n",
       "      <th>cellSerialNumber_3</th>\n",
       "      <th>...</th>\n",
       "      <th>cellSerialNumber_4</th>\n",
       "      <th>cellWeight_4</th>\n",
       "      <th>cellSerialNumber_5</th>\n",
       "      <th>cellWeight_5</th>\n",
       "      <th>cellSerialNumber_6</th>\n",
       "      <th>cellWeight_6</th>\n",
       "      <th>cellSerialNumber_7</th>\n",
       "      <th>cellWeight_7</th>\n",
       "      <th>period</th>\n",
       "      <th>measurement</th>\n",
       "    </tr>\n",
       "  </thead>\n",
       "  <tbody>\n",
       "    <tr>\n",
       "      <th>4</th>\n",
       "      <td>5cd43b33a61883db28c58384</td>\n",
       "      <td>2019-05-09 14:30:40</td>\n",
       "      <td>0.0</td>\n",
       "      <td>7450332</td>\n",
       "      <td>0.0</td>\n",
       "      <td>7450333</td>\n",
       "      <td>0.0</td>\n",
       "      <td>7450339</td>\n",
       "      <td>0.0</td>\n",
       "      <td>7450340</td>\n",
       "      <td>...</td>\n",
       "      <td>7450338</td>\n",
       "      <td>0.0</td>\n",
       "      <td>7450337</td>\n",
       "      <td>0.0</td>\n",
       "      <td>7450336</td>\n",
       "      <td>0.0</td>\n",
       "      <td>7450341</td>\n",
       "      <td>0.0</td>\n",
       "      <td>00:07:36</td>\n",
       "      <td>2</td>\n",
       "    </tr>\n",
       "    <tr>\n",
       "      <th>5</th>\n",
       "      <td>5cd43b36a61883180ec5838d</td>\n",
       "      <td>2019-05-09 14:30:43</td>\n",
       "      <td>NaN</td>\n",
       "      <td>7450332</td>\n",
       "      <td>-860.0</td>\n",
       "      <td>0</td>\n",
       "      <td>NaN</td>\n",
       "      <td>0</td>\n",
       "      <td>NaN</td>\n",
       "      <td>0</td>\n",
       "      <td>...</td>\n",
       "      <td>0</td>\n",
       "      <td>NaN</td>\n",
       "      <td>0</td>\n",
       "      <td>NaN</td>\n",
       "      <td>0</td>\n",
       "      <td>NaN</td>\n",
       "      <td>0</td>\n",
       "      <td>NaN</td>\n",
       "      <td>00:00:03</td>\n",
       "      <td>2</td>\n",
       "    </tr>\n",
       "    <tr>\n",
       "      <th>6</th>\n",
       "      <td>5cd43b39a61883300cc5838f</td>\n",
       "      <td>2019-05-09 14:30:46</td>\n",
       "      <td>0.0</td>\n",
       "      <td>7450332</td>\n",
       "      <td>0.0</td>\n",
       "      <td>7450333</td>\n",
       "      <td>0.0</td>\n",
       "      <td>7450339</td>\n",
       "      <td>0.0</td>\n",
       "      <td>7450340</td>\n",
       "      <td>...</td>\n",
       "      <td>7450338</td>\n",
       "      <td>0.0</td>\n",
       "      <td>7450337</td>\n",
       "      <td>0.0</td>\n",
       "      <td>7450336</td>\n",
       "      <td>0.0</td>\n",
       "      <td>7450341</td>\n",
       "      <td>0.0</td>\n",
       "      <td>00:00:03</td>\n",
       "      <td>2</td>\n",
       "    </tr>\n",
       "    <tr>\n",
       "      <th>7</th>\n",
       "      <td>5cd43b3ca618839b85c58398</td>\n",
       "      <td>2019-05-09 14:30:49</td>\n",
       "      <td>0.0</td>\n",
       "      <td>7450332</td>\n",
       "      <td>10.0</td>\n",
       "      <td>7450333</td>\n",
       "      <td>0.0</td>\n",
       "      <td>7450339</td>\n",
       "      <td>0.0</td>\n",
       "      <td>7450340</td>\n",
       "      <td>...</td>\n",
       "      <td>7450338</td>\n",
       "      <td>0.0</td>\n",
       "      <td>7450337</td>\n",
       "      <td>0.0</td>\n",
       "      <td>7450336</td>\n",
       "      <td>0.0</td>\n",
       "      <td>7450341</td>\n",
       "      <td>0.0</td>\n",
       "      <td>00:00:03</td>\n",
       "      <td>2</td>\n",
       "    </tr>\n",
       "    <tr>\n",
       "      <th>8</th>\n",
       "      <td>5cd43b3fa618834976c583a1</td>\n",
       "      <td>2019-05-09 14:30:52</td>\n",
       "      <td>80.0</td>\n",
       "      <td>7450332</td>\n",
       "      <td>80.0</td>\n",
       "      <td>7450333</td>\n",
       "      <td>0.0</td>\n",
       "      <td>7450339</td>\n",
       "      <td>0.0</td>\n",
       "      <td>7450340</td>\n",
       "      <td>...</td>\n",
       "      <td>7450338</td>\n",
       "      <td>0.0</td>\n",
       "      <td>7450337</td>\n",
       "      <td>0.0</td>\n",
       "      <td>7450336</td>\n",
       "      <td>0.0</td>\n",
       "      <td>7450341</td>\n",
       "      <td>0.0</td>\n",
       "      <td>00:00:03</td>\n",
       "      <td>2</td>\n",
       "    </tr>\n",
       "  </tbody>\n",
       "</table>\n",
       "<p>5 rows × 21 columns</p>\n",
       "</div>"
      ],
      "text/plain": [
       "                        _id           timestamp  scaleGross  \\\n",
       "4  5cd43b33a61883db28c58384 2019-05-09 14:30:40         0.0   \n",
       "5  5cd43b36a61883180ec5838d 2019-05-09 14:30:43         NaN   \n",
       "6  5cd43b39a61883300cc5838f 2019-05-09 14:30:46         0.0   \n",
       "7  5cd43b3ca618839b85c58398 2019-05-09 14:30:49         0.0   \n",
       "8  5cd43b3fa618834976c583a1 2019-05-09 14:30:52        80.0   \n",
       "\n",
       "  cellSerialNumber_0  cellWeight_0 cellSerialNumber_1  cellWeight_1  \\\n",
       "4            7450332           0.0            7450333           0.0   \n",
       "5            7450332        -860.0                  0           NaN   \n",
       "6            7450332           0.0            7450333           0.0   \n",
       "7            7450332          10.0            7450333           0.0   \n",
       "8            7450332          80.0            7450333           0.0   \n",
       "\n",
       "  cellSerialNumber_2  cellWeight_2 cellSerialNumber_3  ...  \\\n",
       "4            7450339           0.0            7450340  ...   \n",
       "5                  0           NaN                  0  ...   \n",
       "6            7450339           0.0            7450340  ...   \n",
       "7            7450339           0.0            7450340  ...   \n",
       "8            7450339           0.0            7450340  ...   \n",
       "\n",
       "   cellSerialNumber_4 cellWeight_4  cellSerialNumber_5 cellWeight_5  \\\n",
       "4             7450338          0.0             7450337          0.0   \n",
       "5                   0          NaN                   0          NaN   \n",
       "6             7450338          0.0             7450337          0.0   \n",
       "7             7450338          0.0             7450337          0.0   \n",
       "8             7450338          0.0             7450337          0.0   \n",
       "\n",
       "   cellSerialNumber_6 cellWeight_6  cellSerialNumber_7 cellWeight_7   period  \\\n",
       "4             7450336          0.0             7450341          0.0 00:07:36   \n",
       "5                   0          NaN                   0          NaN 00:00:03   \n",
       "6             7450336          0.0             7450341          0.0 00:00:03   \n",
       "7             7450336          0.0             7450341          0.0 00:00:03   \n",
       "8             7450336          0.0             7450341          0.0 00:00:03   \n",
       "\n",
       "  measurement  \n",
       "4           2  \n",
       "5           2  \n",
       "6           2  \n",
       "7           2  \n",
       "8           2  \n",
       "\n",
       "[5 rows x 21 columns]"
      ]
     },
     "execution_count": 46,
     "metadata": {},
     "output_type": "execute_result"
    }
   ],
   "source": [
    "filtrado= experiencia.groupby('measurement').filter(lambda x: x.cellWeight_0.nunique()>3)\n",
    "filtrado.head()"
   ]
  },
  {
   "cell_type": "code",
   "execution_count": 57,
   "metadata": {},
   "outputs": [
    {
     "data": {
      "text/plain": [
       "(401682, 21)"
      ]
     },
     "execution_count": 57,
     "metadata": {},
     "output_type": "execute_result"
    }
   ],
   "source": [
    "experiencia.shape"
   ]
  },
  {
   "cell_type": "code",
   "execution_count": 59,
   "metadata": {},
   "outputs": [
    {
     "data": {
      "text/plain": [
       "(284522, 21)"
      ]
     },
     "execution_count": 59,
     "metadata": {},
     "output_type": "execute_result"
    }
   ],
   "source": [
    "filtrado.shape"
   ]
  },
  {
   "cell_type": "code",
   "execution_count": 61,
   "metadata": {},
   "outputs": [
    {
     "data": {
      "text/plain": [
       "(262179, 21)"
      ]
     },
     "execution_count": 61,
     "metadata": {},
     "output_type": "execute_result"
    }
   ],
   "source": [
    "filtrado.shape"
   ]
  },
  {
   "cell_type": "code",
   "execution_count": 60,
   "metadata": {},
   "outputs": [],
   "source": [
    "### PERIGO GENERALIZAR PARA MSI QUE A 1 CELULA?\n",
    "##no entwanto quando alguma morre, passa a posiçao da zero...\n",
    "#for cell in range(8):\n",
    "filtrado= experiencia.groupby('measurement').filter(lambda x: x.cellWeight_0.nunique()>3 and x.cellWeight_1.nunique()>3)\n"
   ]
  },
  {
   "cell_type": "code",
   "execution_count": null,
   "metadata": {},
   "outputs": [],
   "source": [
    "filtrado.groupby('measurement').cellWeight_0.nunique().min()"
   ]
  },
  {
   "cell_type": "code",
   "execution_count": null,
   "metadata": {},
   "outputs": [],
   "source": [
    "filtrado.groupby('measurement').cellWeight_0.nunique().sort_values()"
   ]
  },
  {
   "cell_type": "code",
   "execution_count": null,
   "metadata": {},
   "outputs": [],
   "source": [
    "filtrado[filtrado.measurement== 8395]"
   ]
  },
  {
   "cell_type": "code",
   "execution_count": 14,
   "metadata": {},
   "outputs": [
    {
     "name": "stdout",
     "output_type": "stream",
     "text": [
      "Numero total de pesagens isoladas: 3079\n"
     ]
    }
   ],
   "source": [
    "print('Numero total de pesagens isoladas: ' + str(filtrado.measurement.nunique()))"
   ]
  },
  {
   "cell_type": "markdown",
   "metadata": {},
   "source": [
    "### 4) ALTERAR"
   ]
  },
  {
   "cell_type": "code",
   "execution_count": null,
   "metadata": {},
   "outputs": [],
   "source": [
    "filtrado.head(4)"
   ]
  },
  {
   "cell_type": "code",
   "execution_count": 15,
   "metadata": {},
   "outputs": [],
   "source": [
    "y = pd.get_dummies(filtrado[['cellSerialNumber_0','cellSerialNumber_1','cellSerialNumber_2','cellSerialNumber_3','cellSerialNumber_4','cellSerialNumber_5','cellSerialNumber_6','cellSerialNumber_7']], prefix='', prefix_sep='')"
   ]
  },
  {
   "cell_type": "code",
   "execution_count": 16,
   "metadata": {},
   "outputs": [
    {
     "data": {
      "text/html": [
       "<div>\n",
       "<style scoped>\n",
       "    .dataframe tbody tr th:only-of-type {\n",
       "        vertical-align: middle;\n",
       "    }\n",
       "\n",
       "    .dataframe tbody tr th {\n",
       "        vertical-align: top;\n",
       "    }\n",
       "\n",
       "    .dataframe thead th {\n",
       "        text-align: right;\n",
       "    }\n",
       "</style>\n",
       "<table border=\"1\" class=\"dataframe\">\n",
       "  <thead>\n",
       "    <tr style=\"text-align: right;\">\n",
       "      <th></th>\n",
       "      <th>0</th>\n",
       "      <th>7450332</th>\n",
       "      <th>7450333</th>\n",
       "      <th>7450339</th>\n",
       "      <th>7450340</th>\n",
       "      <th>7450338</th>\n",
       "      <th>7450337</th>\n",
       "      <th>7450336</th>\n",
       "      <th>7450341</th>\n",
       "    </tr>\n",
       "  </thead>\n",
       "  <tbody>\n",
       "    <tr>\n",
       "      <th>4</th>\n",
       "      <td>0</td>\n",
       "      <td>1</td>\n",
       "      <td>1</td>\n",
       "      <td>1</td>\n",
       "      <td>1</td>\n",
       "      <td>1</td>\n",
       "      <td>1</td>\n",
       "      <td>1</td>\n",
       "      <td>1</td>\n",
       "    </tr>\n",
       "    <tr>\n",
       "      <th>5</th>\n",
       "      <td>7</td>\n",
       "      <td>1</td>\n",
       "      <td>0</td>\n",
       "      <td>0</td>\n",
       "      <td>0</td>\n",
       "      <td>0</td>\n",
       "      <td>0</td>\n",
       "      <td>0</td>\n",
       "      <td>0</td>\n",
       "    </tr>\n",
       "    <tr>\n",
       "      <th>6</th>\n",
       "      <td>0</td>\n",
       "      <td>1</td>\n",
       "      <td>1</td>\n",
       "      <td>1</td>\n",
       "      <td>1</td>\n",
       "      <td>1</td>\n",
       "      <td>1</td>\n",
       "      <td>1</td>\n",
       "      <td>1</td>\n",
       "    </tr>\n",
       "    <tr>\n",
       "      <th>7</th>\n",
       "      <td>0</td>\n",
       "      <td>1</td>\n",
       "      <td>1</td>\n",
       "      <td>1</td>\n",
       "      <td>1</td>\n",
       "      <td>1</td>\n",
       "      <td>1</td>\n",
       "      <td>1</td>\n",
       "      <td>1</td>\n",
       "    </tr>\n",
       "    <tr>\n",
       "      <th>8</th>\n",
       "      <td>0</td>\n",
       "      <td>1</td>\n",
       "      <td>1</td>\n",
       "      <td>1</td>\n",
       "      <td>1</td>\n",
       "      <td>1</td>\n",
       "      <td>1</td>\n",
       "      <td>1</td>\n",
       "      <td>1</td>\n",
       "    </tr>\n",
       "    <tr>\n",
       "      <th>...</th>\n",
       "      <td>...</td>\n",
       "      <td>...</td>\n",
       "      <td>...</td>\n",
       "      <td>...</td>\n",
       "      <td>...</td>\n",
       "      <td>...</td>\n",
       "      <td>...</td>\n",
       "      <td>...</td>\n",
       "      <td>...</td>\n",
       "    </tr>\n",
       "    <tr>\n",
       "      <th>422978</th>\n",
       "      <td>0</td>\n",
       "      <td>1</td>\n",
       "      <td>1</td>\n",
       "      <td>1</td>\n",
       "      <td>1</td>\n",
       "      <td>1</td>\n",
       "      <td>1</td>\n",
       "      <td>1</td>\n",
       "      <td>1</td>\n",
       "    </tr>\n",
       "    <tr>\n",
       "      <th>422979</th>\n",
       "      <td>0</td>\n",
       "      <td>1</td>\n",
       "      <td>1</td>\n",
       "      <td>1</td>\n",
       "      <td>1</td>\n",
       "      <td>1</td>\n",
       "      <td>1</td>\n",
       "      <td>1</td>\n",
       "      <td>1</td>\n",
       "    </tr>\n",
       "    <tr>\n",
       "      <th>422980</th>\n",
       "      <td>3</td>\n",
       "      <td>1</td>\n",
       "      <td>0</td>\n",
       "      <td>0</td>\n",
       "      <td>0</td>\n",
       "      <td>1</td>\n",
       "      <td>1</td>\n",
       "      <td>1</td>\n",
       "      <td>1</td>\n",
       "    </tr>\n",
       "    <tr>\n",
       "      <th>422981</th>\n",
       "      <td>7</td>\n",
       "      <td>1</td>\n",
       "      <td>0</td>\n",
       "      <td>0</td>\n",
       "      <td>0</td>\n",
       "      <td>0</td>\n",
       "      <td>0</td>\n",
       "      <td>0</td>\n",
       "      <td>0</td>\n",
       "    </tr>\n",
       "    <tr>\n",
       "      <th>422982</th>\n",
       "      <td>5</td>\n",
       "      <td>1</td>\n",
       "      <td>0</td>\n",
       "      <td>0</td>\n",
       "      <td>0</td>\n",
       "      <td>1</td>\n",
       "      <td>0</td>\n",
       "      <td>1</td>\n",
       "      <td>0</td>\n",
       "    </tr>\n",
       "  </tbody>\n",
       "</table>\n",
       "<p>284522 rows × 9 columns</p>\n",
       "</div>"
      ],
      "text/plain": [
       "        0  7450332  7450333  7450339  7450340  7450338  7450337  7450336  \\\n",
       "4       0        1        1        1        1        1        1        1   \n",
       "5       7        1        0        0        0        0        0        0   \n",
       "6       0        1        1        1        1        1        1        1   \n",
       "7       0        1        1        1        1        1        1        1   \n",
       "8       0        1        1        1        1        1        1        1   \n",
       "...    ..      ...      ...      ...      ...      ...      ...      ...   \n",
       "422978  0        1        1        1        1        1        1        1   \n",
       "422979  0        1        1        1        1        1        1        1   \n",
       "422980  3        1        0        0        0        1        1        1   \n",
       "422981  7        1        0        0        0        0        0        0   \n",
       "422982  5        1        0        0        0        1        0        1   \n",
       "\n",
       "        7450341  \n",
       "4             1  \n",
       "5             0  \n",
       "6             1  \n",
       "7             1  \n",
       "8             1  \n",
       "...         ...  \n",
       "422978        1  \n",
       "422979        1  \n",
       "422980        1  \n",
       "422981        0  \n",
       "422982        0  \n",
       "\n",
       "[284522 rows x 9 columns]"
      ]
     },
     "execution_count": 16,
     "metadata": {},
     "output_type": "execute_result"
    }
   ],
   "source": [
    "substituir=y.groupby(y.columns, axis=1).sum()\n",
    "substituir=substituir[['0','7450332','7450333','7450339','7450340','7450338','7450337','7450336','7450341']]\n",
    "substituir"
   ]
  },
  {
   "cell_type": "code",
   "execution_count": 17,
   "metadata": {
    "scrolled": true
   },
   "outputs": [],
   "source": [
    "filtrado=filtrado.reset_index()"
   ]
  },
  {
   "cell_type": "code",
   "execution_count": 18,
   "metadata": {},
   "outputs": [],
   "source": [
    "substituir=substituir.reset_index(drop=True)\n"
   ]
  },
  {
   "cell_type": "code",
   "execution_count": 19,
   "metadata": {},
   "outputs": [],
   "source": [
    "substituir2=substituir"
   ]
  },
  {
   "cell_type": "code",
   "execution_count": 20,
   "metadata": {},
   "outputs": [],
   "source": [
    "substituir[['7450332','7450333','7450339','7450340','7450338','7450337','7450336','7450341']]=np.nan"
   ]
  },
  {
   "cell_type": "code",
   "execution_count": 21,
   "metadata": {},
   "outputs": [
    {
     "data": {
      "text/html": [
       "<div>\n",
       "<style scoped>\n",
       "    .dataframe tbody tr th:only-of-type {\n",
       "        vertical-align: middle;\n",
       "    }\n",
       "\n",
       "    .dataframe tbody tr th {\n",
       "        vertical-align: top;\n",
       "    }\n",
       "\n",
       "    .dataframe thead th {\n",
       "        text-align: right;\n",
       "    }\n",
       "</style>\n",
       "<table border=\"1\" class=\"dataframe\">\n",
       "  <thead>\n",
       "    <tr style=\"text-align: right;\">\n",
       "      <th></th>\n",
       "      <th>0</th>\n",
       "      <th>7450332</th>\n",
       "      <th>7450333</th>\n",
       "      <th>7450339</th>\n",
       "      <th>7450340</th>\n",
       "      <th>7450338</th>\n",
       "      <th>7450337</th>\n",
       "      <th>7450336</th>\n",
       "      <th>7450341</th>\n",
       "    </tr>\n",
       "  </thead>\n",
       "  <tbody>\n",
       "    <tr>\n",
       "      <th>0</th>\n",
       "      <td>0</td>\n",
       "      <td>NaN</td>\n",
       "      <td>NaN</td>\n",
       "      <td>NaN</td>\n",
       "      <td>NaN</td>\n",
       "      <td>NaN</td>\n",
       "      <td>NaN</td>\n",
       "      <td>NaN</td>\n",
       "      <td>NaN</td>\n",
       "    </tr>\n",
       "    <tr>\n",
       "      <th>1</th>\n",
       "      <td>7</td>\n",
       "      <td>NaN</td>\n",
       "      <td>NaN</td>\n",
       "      <td>NaN</td>\n",
       "      <td>NaN</td>\n",
       "      <td>NaN</td>\n",
       "      <td>NaN</td>\n",
       "      <td>NaN</td>\n",
       "      <td>NaN</td>\n",
       "    </tr>\n",
       "    <tr>\n",
       "      <th>2</th>\n",
       "      <td>0</td>\n",
       "      <td>NaN</td>\n",
       "      <td>NaN</td>\n",
       "      <td>NaN</td>\n",
       "      <td>NaN</td>\n",
       "      <td>NaN</td>\n",
       "      <td>NaN</td>\n",
       "      <td>NaN</td>\n",
       "      <td>NaN</td>\n",
       "    </tr>\n",
       "    <tr>\n",
       "      <th>3</th>\n",
       "      <td>0</td>\n",
       "      <td>NaN</td>\n",
       "      <td>NaN</td>\n",
       "      <td>NaN</td>\n",
       "      <td>NaN</td>\n",
       "      <td>NaN</td>\n",
       "      <td>NaN</td>\n",
       "      <td>NaN</td>\n",
       "      <td>NaN</td>\n",
       "    </tr>\n",
       "    <tr>\n",
       "      <th>4</th>\n",
       "      <td>0</td>\n",
       "      <td>NaN</td>\n",
       "      <td>NaN</td>\n",
       "      <td>NaN</td>\n",
       "      <td>NaN</td>\n",
       "      <td>NaN</td>\n",
       "      <td>NaN</td>\n",
       "      <td>NaN</td>\n",
       "      <td>NaN</td>\n",
       "    </tr>\n",
       "    <tr>\n",
       "      <th>...</th>\n",
       "      <td>...</td>\n",
       "      <td>...</td>\n",
       "      <td>...</td>\n",
       "      <td>...</td>\n",
       "      <td>...</td>\n",
       "      <td>...</td>\n",
       "      <td>...</td>\n",
       "      <td>...</td>\n",
       "      <td>...</td>\n",
       "    </tr>\n",
       "    <tr>\n",
       "      <th>284517</th>\n",
       "      <td>0</td>\n",
       "      <td>NaN</td>\n",
       "      <td>NaN</td>\n",
       "      <td>NaN</td>\n",
       "      <td>NaN</td>\n",
       "      <td>NaN</td>\n",
       "      <td>NaN</td>\n",
       "      <td>NaN</td>\n",
       "      <td>NaN</td>\n",
       "    </tr>\n",
       "    <tr>\n",
       "      <th>284518</th>\n",
       "      <td>0</td>\n",
       "      <td>NaN</td>\n",
       "      <td>NaN</td>\n",
       "      <td>NaN</td>\n",
       "      <td>NaN</td>\n",
       "      <td>NaN</td>\n",
       "      <td>NaN</td>\n",
       "      <td>NaN</td>\n",
       "      <td>NaN</td>\n",
       "    </tr>\n",
       "    <tr>\n",
       "      <th>284519</th>\n",
       "      <td>3</td>\n",
       "      <td>NaN</td>\n",
       "      <td>NaN</td>\n",
       "      <td>NaN</td>\n",
       "      <td>NaN</td>\n",
       "      <td>NaN</td>\n",
       "      <td>NaN</td>\n",
       "      <td>NaN</td>\n",
       "      <td>NaN</td>\n",
       "    </tr>\n",
       "    <tr>\n",
       "      <th>284520</th>\n",
       "      <td>7</td>\n",
       "      <td>NaN</td>\n",
       "      <td>NaN</td>\n",
       "      <td>NaN</td>\n",
       "      <td>NaN</td>\n",
       "      <td>NaN</td>\n",
       "      <td>NaN</td>\n",
       "      <td>NaN</td>\n",
       "      <td>NaN</td>\n",
       "    </tr>\n",
       "    <tr>\n",
       "      <th>284521</th>\n",
       "      <td>5</td>\n",
       "      <td>NaN</td>\n",
       "      <td>NaN</td>\n",
       "      <td>NaN</td>\n",
       "      <td>NaN</td>\n",
       "      <td>NaN</td>\n",
       "      <td>NaN</td>\n",
       "      <td>NaN</td>\n",
       "      <td>NaN</td>\n",
       "    </tr>\n",
       "  </tbody>\n",
       "</table>\n",
       "<p>284522 rows × 9 columns</p>\n",
       "</div>"
      ],
      "text/plain": [
       "        0  7450332  7450333  7450339  7450340  7450338  7450337  7450336  \\\n",
       "0       0      NaN      NaN      NaN      NaN      NaN      NaN      NaN   \n",
       "1       7      NaN      NaN      NaN      NaN      NaN      NaN      NaN   \n",
       "2       0      NaN      NaN      NaN      NaN      NaN      NaN      NaN   \n",
       "3       0      NaN      NaN      NaN      NaN      NaN      NaN      NaN   \n",
       "4       0      NaN      NaN      NaN      NaN      NaN      NaN      NaN   \n",
       "...    ..      ...      ...      ...      ...      ...      ...      ...   \n",
       "284517  0      NaN      NaN      NaN      NaN      NaN      NaN      NaN   \n",
       "284518  0      NaN      NaN      NaN      NaN      NaN      NaN      NaN   \n",
       "284519  3      NaN      NaN      NaN      NaN      NaN      NaN      NaN   \n",
       "284520  7      NaN      NaN      NaN      NaN      NaN      NaN      NaN   \n",
       "284521  5      NaN      NaN      NaN      NaN      NaN      NaN      NaN   \n",
       "\n",
       "        7450341  \n",
       "0           NaN  \n",
       "1           NaN  \n",
       "2           NaN  \n",
       "3           NaN  \n",
       "4           NaN  \n",
       "...         ...  \n",
       "284517      NaN  \n",
       "284518      NaN  \n",
       "284519      NaN  \n",
       "284520      NaN  \n",
       "284521      NaN  \n",
       "\n",
       "[284522 rows x 9 columns]"
      ]
     },
     "execution_count": 21,
     "metadata": {},
     "output_type": "execute_result"
    }
   ],
   "source": [
    "substituir2"
   ]
  },
  {
   "cell_type": "markdown",
   "metadata": {},
   "source": [
    "for i in range(filtrado.shape[0]):\n",
    "    for cell in range(8):\n",
    "        if filtrado['cellSerialNumber_'+str(cell)][i]==substituir.columns[cell+1]:\n",
    "            substituir2[substituir.columns[cell+1]][i]=filtrado['cellWeight_'+str(cell)][i]"
   ]
  },
  {
   "cell_type": "code",
   "execution_count": 22,
   "metadata": {},
   "outputs": [
    {
     "name": "stderr",
     "output_type": "stream",
     "text": [
      "/usr/local/lib/python3.6/dist-packages/ipykernel_launcher.py:5: SettingWithCopyWarning: \n",
      "A value is trying to be set on a copy of a slice from a DataFrame\n",
      "\n",
      "See the caveats in the documentation: http://pandas.pydata.org/pandas-docs/stable/user_guide/indexing.html#returning-a-view-versus-a-copy\n",
      "  \"\"\"\n"
     ]
    }
   ],
   "source": [
    "for i in range(filtrado.shape[0]):\n",
    "    for cell in range(8):\n",
    "        pos= filtrado['cellSerialNumber_'+str(cell)][i]==substituir.columns[:]#.any():\n",
    "        num=(np.where(pos)[0])[0]\n",
    "        substituir2[substituir.columns[num]][i]=filtrado['cellWeight_'+str(cell)][i]"
   ]
  },
  {
   "cell_type": "code",
   "execution_count": null,
   "metadata": {},
   "outputs": [],
   "source": [
    "for i in range(3):\n",
    "    for cell in range(8):\n",
    "        pos= filtrado['cellSerialNumber_'+str(cell)][i]==substituir.columns[:]#.any():\n",
    "        num=(np.where(pos)[0])[0]\n",
    "        substituir2[substituir.columns[num]][i]=filtrado['cellWeight_'+str(cell)][i]"
   ]
  },
  {
   "cell_type": "code",
   "execution_count": 25,
   "metadata": {},
   "outputs": [
    {
     "data": {
      "text/plain": [
       "0"
      ]
     },
     "execution_count": 25,
     "metadata": {},
     "output_type": "execute_result"
    }
   ],
   "source": [
    "num"
   ]
  },
  {
   "cell_type": "code",
   "execution_count": 24,
   "metadata": {},
   "outputs": [
    {
     "data": {
      "text/plain": [
       "'0'"
      ]
     },
     "execution_count": 24,
     "metadata": {},
     "output_type": "execute_result"
    }
   ],
   "source": [
    "substituir.columns[num]"
   ]
  },
  {
   "cell_type": "code",
   "execution_count": 23,
   "metadata": {
    "scrolled": true
   },
   "outputs": [
    {
     "data": {
      "text/html": [
       "<div>\n",
       "<style scoped>\n",
       "    .dataframe tbody tr th:only-of-type {\n",
       "        vertical-align: middle;\n",
       "    }\n",
       "\n",
       "    .dataframe tbody tr th {\n",
       "        vertical-align: top;\n",
       "    }\n",
       "\n",
       "    .dataframe thead th {\n",
       "        text-align: right;\n",
       "    }\n",
       "</style>\n",
       "<table border=\"1\" class=\"dataframe\">\n",
       "  <thead>\n",
       "    <tr style=\"text-align: right;\">\n",
       "      <th></th>\n",
       "      <th>0</th>\n",
       "      <th>7450332</th>\n",
       "      <th>7450333</th>\n",
       "      <th>7450339</th>\n",
       "      <th>7450340</th>\n",
       "      <th>7450338</th>\n",
       "      <th>7450337</th>\n",
       "      <th>7450336</th>\n",
       "      <th>7450341</th>\n",
       "    </tr>\n",
       "  </thead>\n",
       "  <tbody>\n",
       "    <tr>\n",
       "      <th>0</th>\n",
       "      <td>0.0</td>\n",
       "      <td>0.0</td>\n",
       "      <td>0.0</td>\n",
       "      <td>0.0</td>\n",
       "      <td>0.0</td>\n",
       "      <td>0.0</td>\n",
       "      <td>0.0</td>\n",
       "      <td>0.0</td>\n",
       "      <td>0.0</td>\n",
       "    </tr>\n",
       "    <tr>\n",
       "      <th>1</th>\n",
       "      <td>NaN</td>\n",
       "      <td>-860.0</td>\n",
       "      <td>NaN</td>\n",
       "      <td>NaN</td>\n",
       "      <td>NaN</td>\n",
       "      <td>NaN</td>\n",
       "      <td>NaN</td>\n",
       "      <td>NaN</td>\n",
       "      <td>NaN</td>\n",
       "    </tr>\n",
       "    <tr>\n",
       "      <th>2</th>\n",
       "      <td>0.0</td>\n",
       "      <td>0.0</td>\n",
       "      <td>0.0</td>\n",
       "      <td>0.0</td>\n",
       "      <td>0.0</td>\n",
       "      <td>0.0</td>\n",
       "      <td>0.0</td>\n",
       "      <td>0.0</td>\n",
       "      <td>0.0</td>\n",
       "    </tr>\n",
       "    <tr>\n",
       "      <th>3</th>\n",
       "      <td>0.0</td>\n",
       "      <td>10.0</td>\n",
       "      <td>0.0</td>\n",
       "      <td>0.0</td>\n",
       "      <td>0.0</td>\n",
       "      <td>0.0</td>\n",
       "      <td>0.0</td>\n",
       "      <td>0.0</td>\n",
       "      <td>0.0</td>\n",
       "    </tr>\n",
       "    <tr>\n",
       "      <th>4</th>\n",
       "      <td>0.0</td>\n",
       "      <td>80.0</td>\n",
       "      <td>0.0</td>\n",
       "      <td>0.0</td>\n",
       "      <td>0.0</td>\n",
       "      <td>0.0</td>\n",
       "      <td>0.0</td>\n",
       "      <td>0.0</td>\n",
       "      <td>0.0</td>\n",
       "    </tr>\n",
       "    <tr>\n",
       "      <th>...</th>\n",
       "      <td>...</td>\n",
       "      <td>...</td>\n",
       "      <td>...</td>\n",
       "      <td>...</td>\n",
       "      <td>...</td>\n",
       "      <td>...</td>\n",
       "      <td>...</td>\n",
       "      <td>...</td>\n",
       "      <td>...</td>\n",
       "    </tr>\n",
       "    <tr>\n",
       "      <th>284517</th>\n",
       "      <td>0.0</td>\n",
       "      <td>-10.0</td>\n",
       "      <td>0.0</td>\n",
       "      <td>0.0</td>\n",
       "      <td>-10.0</td>\n",
       "      <td>10.0</td>\n",
       "      <td>0.0</td>\n",
       "      <td>0.0</td>\n",
       "      <td>0.0</td>\n",
       "    </tr>\n",
       "    <tr>\n",
       "      <th>284518</th>\n",
       "      <td>0.0</td>\n",
       "      <td>0.0</td>\n",
       "      <td>0.0</td>\n",
       "      <td>0.0</td>\n",
       "      <td>0.0</td>\n",
       "      <td>10.0</td>\n",
       "      <td>0.0</td>\n",
       "      <td>0.0</td>\n",
       "      <td>0.0</td>\n",
       "    </tr>\n",
       "    <tr>\n",
       "      <th>284519</th>\n",
       "      <td>NaN</td>\n",
       "      <td>10.0</td>\n",
       "      <td>NaN</td>\n",
       "      <td>NaN</td>\n",
       "      <td>NaN</td>\n",
       "      <td>0.0</td>\n",
       "      <td>0.0</td>\n",
       "      <td>0.0</td>\n",
       "      <td>0.0</td>\n",
       "    </tr>\n",
       "    <tr>\n",
       "      <th>284520</th>\n",
       "      <td>NaN</td>\n",
       "      <td>0.0</td>\n",
       "      <td>NaN</td>\n",
       "      <td>NaN</td>\n",
       "      <td>NaN</td>\n",
       "      <td>NaN</td>\n",
       "      <td>NaN</td>\n",
       "      <td>NaN</td>\n",
       "      <td>NaN</td>\n",
       "    </tr>\n",
       "    <tr>\n",
       "      <th>284521</th>\n",
       "      <td>NaN</td>\n",
       "      <td>0.0</td>\n",
       "      <td>NaN</td>\n",
       "      <td>NaN</td>\n",
       "      <td>NaN</td>\n",
       "      <td>0.0</td>\n",
       "      <td>NaN</td>\n",
       "      <td>0.0</td>\n",
       "      <td>NaN</td>\n",
       "    </tr>\n",
       "  </tbody>\n",
       "</table>\n",
       "<p>284522 rows × 9 columns</p>\n",
       "</div>"
      ],
      "text/plain": [
       "          0  7450332  7450333  7450339  7450340  7450338  7450337  7450336  \\\n",
       "0       0.0      0.0      0.0      0.0      0.0      0.0      0.0      0.0   \n",
       "1       NaN   -860.0      NaN      NaN      NaN      NaN      NaN      NaN   \n",
       "2       0.0      0.0      0.0      0.0      0.0      0.0      0.0      0.0   \n",
       "3       0.0     10.0      0.0      0.0      0.0      0.0      0.0      0.0   \n",
       "4       0.0     80.0      0.0      0.0      0.0      0.0      0.0      0.0   \n",
       "...     ...      ...      ...      ...      ...      ...      ...      ...   \n",
       "284517  0.0    -10.0      0.0      0.0    -10.0     10.0      0.0      0.0   \n",
       "284518  0.0      0.0      0.0      0.0      0.0     10.0      0.0      0.0   \n",
       "284519  NaN     10.0      NaN      NaN      NaN      0.0      0.0      0.0   \n",
       "284520  NaN      0.0      NaN      NaN      NaN      NaN      NaN      NaN   \n",
       "284521  NaN      0.0      NaN      NaN      NaN      0.0      NaN      0.0   \n",
       "\n",
       "        7450341  \n",
       "0           0.0  \n",
       "1           NaN  \n",
       "2           0.0  \n",
       "3           0.0  \n",
       "4           0.0  \n",
       "...         ...  \n",
       "284517      0.0  \n",
       "284518      0.0  \n",
       "284519      0.0  \n",
       "284520      NaN  \n",
       "284521      NaN  \n",
       "\n",
       "[284522 rows x 9 columns]"
      ]
     },
     "execution_count": 23,
     "metadata": {},
     "output_type": "execute_result"
    }
   ],
   "source": [
    "substituir2"
   ]
  },
  {
   "cell_type": "code",
   "execution_count": null,
   "metadata": {},
   "outputs": [],
   "source": [
    "filtrado.loc[219469:219580]"
   ]
  },
  {
   "cell_type": "code",
   "execution_count": null,
   "metadata": {},
   "outputs": [],
   "source": [
    "\n",
    "i=219469\n",
    "for cell in range(8):\n",
    "    print(filtrado['cellSerialNumber_'+str(cell)][i]==substituir.columns[cell+1])\n",
    "    "
   ]
  },
  {
   "cell_type": "code",
   "execution_count": null,
   "metadata": {},
   "outputs": [],
   "source": [
    "cell=0\n",
    "i=0\n",
    "pos=filtrado['cellSerialNumber_'+str(cell)][i]==substituir.columns[:].all()\n",
    "num=(np.where(pos)[0])[0]\n",
    "num"
   ]
  },
  {
   "cell_type": "code",
   "execution_count": null,
   "metadata": {},
   "outputs": [],
   "source": [
    "i"
   ]
  },
  {
   "cell_type": "code",
   "execution_count": null,
   "metadata": {},
   "outputs": [],
   "source": [
    "filtrado['cellSerialNumber_'+str(0)][i]==substituir.columns[:]#.all()"
   ]
  },
  {
   "cell_type": "code",
   "execution_count": null,
   "metadata": {},
   "outputs": [],
   "source": [
    "substituir.columns[num]"
   ]
  },
  {
   "cell_type": "code",
   "execution_count": null,
   "metadata": {},
   "outputs": [],
   "source": [
    "substituir.columns"
   ]
  },
  {
   "cell_type": "code",
   "execution_count": null,
   "metadata": {},
   "outputs": [],
   "source": [
    "substituir2[substituir.columns[cell+1]][i]"
   ]
  },
  {
   "cell_type": "code",
   "execution_count": null,
   "metadata": {},
   "outputs": [],
   "source": [
    "filtrado.loc[[219469]]"
   ]
  },
  {
   "cell_type": "code",
   "execution_count": null,
   "metadata": {},
   "outputs": [],
   "source": [
    "substituir2[6][2]"
   ]
  },
  {
   "cell_type": "code",
   "execution_count": 26,
   "metadata": {},
   "outputs": [],
   "source": [
    "subtituir_plus= pd.concat([substituir2, filtrado[['timestamp','period','measurement']]], axis=1, sort=False)"
   ]
  },
  {
   "cell_type": "code",
   "execution_count": 27,
   "metadata": {},
   "outputs": [
    {
     "data": {
      "text/html": [
       "<div>\n",
       "<style scoped>\n",
       "    .dataframe tbody tr th:only-of-type {\n",
       "        vertical-align: middle;\n",
       "    }\n",
       "\n",
       "    .dataframe tbody tr th {\n",
       "        vertical-align: top;\n",
       "    }\n",
       "\n",
       "    .dataframe thead th {\n",
       "        text-align: right;\n",
       "    }\n",
       "</style>\n",
       "<table border=\"1\" class=\"dataframe\">\n",
       "  <thead>\n",
       "    <tr style=\"text-align: right;\">\n",
       "      <th></th>\n",
       "      <th>0</th>\n",
       "      <th>7450332</th>\n",
       "      <th>7450333</th>\n",
       "      <th>7450339</th>\n",
       "      <th>7450340</th>\n",
       "      <th>7450338</th>\n",
       "      <th>7450337</th>\n",
       "      <th>7450336</th>\n",
       "      <th>7450341</th>\n",
       "      <th>timestamp</th>\n",
       "      <th>period</th>\n",
       "      <th>measurement</th>\n",
       "    </tr>\n",
       "  </thead>\n",
       "  <tbody>\n",
       "    <tr>\n",
       "      <th>0</th>\n",
       "      <td>0.0</td>\n",
       "      <td>0.0</td>\n",
       "      <td>0.0</td>\n",
       "      <td>0.0</td>\n",
       "      <td>0.0</td>\n",
       "      <td>0.0</td>\n",
       "      <td>0.0</td>\n",
       "      <td>0.0</td>\n",
       "      <td>0.0</td>\n",
       "      <td>2019-05-09 14:30:40</td>\n",
       "      <td>00:07:36</td>\n",
       "      <td>2</td>\n",
       "    </tr>\n",
       "    <tr>\n",
       "      <th>1</th>\n",
       "      <td>NaN</td>\n",
       "      <td>-860.0</td>\n",
       "      <td>NaN</td>\n",
       "      <td>NaN</td>\n",
       "      <td>NaN</td>\n",
       "      <td>NaN</td>\n",
       "      <td>NaN</td>\n",
       "      <td>NaN</td>\n",
       "      <td>NaN</td>\n",
       "      <td>2019-05-09 14:30:43</td>\n",
       "      <td>00:00:03</td>\n",
       "      <td>2</td>\n",
       "    </tr>\n",
       "    <tr>\n",
       "      <th>2</th>\n",
       "      <td>0.0</td>\n",
       "      <td>0.0</td>\n",
       "      <td>0.0</td>\n",
       "      <td>0.0</td>\n",
       "      <td>0.0</td>\n",
       "      <td>0.0</td>\n",
       "      <td>0.0</td>\n",
       "      <td>0.0</td>\n",
       "      <td>0.0</td>\n",
       "      <td>2019-05-09 14:30:46</td>\n",
       "      <td>00:00:03</td>\n",
       "      <td>2</td>\n",
       "    </tr>\n",
       "    <tr>\n",
       "      <th>3</th>\n",
       "      <td>0.0</td>\n",
       "      <td>10.0</td>\n",
       "      <td>0.0</td>\n",
       "      <td>0.0</td>\n",
       "      <td>0.0</td>\n",
       "      <td>0.0</td>\n",
       "      <td>0.0</td>\n",
       "      <td>0.0</td>\n",
       "      <td>0.0</td>\n",
       "      <td>2019-05-09 14:30:49</td>\n",
       "      <td>00:00:03</td>\n",
       "      <td>2</td>\n",
       "    </tr>\n",
       "    <tr>\n",
       "      <th>4</th>\n",
       "      <td>0.0</td>\n",
       "      <td>80.0</td>\n",
       "      <td>0.0</td>\n",
       "      <td>0.0</td>\n",
       "      <td>0.0</td>\n",
       "      <td>0.0</td>\n",
       "      <td>0.0</td>\n",
       "      <td>0.0</td>\n",
       "      <td>0.0</td>\n",
       "      <td>2019-05-09 14:30:52</td>\n",
       "      <td>00:00:03</td>\n",
       "      <td>2</td>\n",
       "    </tr>\n",
       "    <tr>\n",
       "      <th>...</th>\n",
       "      <td>...</td>\n",
       "      <td>...</td>\n",
       "      <td>...</td>\n",
       "      <td>...</td>\n",
       "      <td>...</td>\n",
       "      <td>...</td>\n",
       "      <td>...</td>\n",
       "      <td>...</td>\n",
       "      <td>...</td>\n",
       "      <td>...</td>\n",
       "      <td>...</td>\n",
       "      <td>...</td>\n",
       "    </tr>\n",
       "    <tr>\n",
       "      <th>284517</th>\n",
       "      <td>0.0</td>\n",
       "      <td>-10.0</td>\n",
       "      <td>0.0</td>\n",
       "      <td>0.0</td>\n",
       "      <td>-10.0</td>\n",
       "      <td>10.0</td>\n",
       "      <td>0.0</td>\n",
       "      <td>0.0</td>\n",
       "      <td>0.0</td>\n",
       "      <td>2020-07-24 08:53:07</td>\n",
       "      <td>00:00:02</td>\n",
       "      <td>13097</td>\n",
       "    </tr>\n",
       "    <tr>\n",
       "      <th>284518</th>\n",
       "      <td>0.0</td>\n",
       "      <td>0.0</td>\n",
       "      <td>0.0</td>\n",
       "      <td>0.0</td>\n",
       "      <td>0.0</td>\n",
       "      <td>10.0</td>\n",
       "      <td>0.0</td>\n",
       "      <td>0.0</td>\n",
       "      <td>0.0</td>\n",
       "      <td>2020-07-24 08:53:09</td>\n",
       "      <td>00:00:02</td>\n",
       "      <td>13097</td>\n",
       "    </tr>\n",
       "    <tr>\n",
       "      <th>284519</th>\n",
       "      <td>NaN</td>\n",
       "      <td>10.0</td>\n",
       "      <td>NaN</td>\n",
       "      <td>NaN</td>\n",
       "      <td>NaN</td>\n",
       "      <td>0.0</td>\n",
       "      <td>0.0</td>\n",
       "      <td>0.0</td>\n",
       "      <td>0.0</td>\n",
       "      <td>2020-07-24 08:53:11</td>\n",
       "      <td>00:00:02</td>\n",
       "      <td>13097</td>\n",
       "    </tr>\n",
       "    <tr>\n",
       "      <th>284520</th>\n",
       "      <td>NaN</td>\n",
       "      <td>0.0</td>\n",
       "      <td>NaN</td>\n",
       "      <td>NaN</td>\n",
       "      <td>NaN</td>\n",
       "      <td>NaN</td>\n",
       "      <td>NaN</td>\n",
       "      <td>NaN</td>\n",
       "      <td>NaN</td>\n",
       "      <td>2020-07-24 08:53:13</td>\n",
       "      <td>00:00:02</td>\n",
       "      <td>13097</td>\n",
       "    </tr>\n",
       "    <tr>\n",
       "      <th>284521</th>\n",
       "      <td>NaN</td>\n",
       "      <td>0.0</td>\n",
       "      <td>NaN</td>\n",
       "      <td>NaN</td>\n",
       "      <td>NaN</td>\n",
       "      <td>0.0</td>\n",
       "      <td>NaN</td>\n",
       "      <td>0.0</td>\n",
       "      <td>NaN</td>\n",
       "      <td>2020-07-24 08:53:15</td>\n",
       "      <td>00:00:02</td>\n",
       "      <td>13097</td>\n",
       "    </tr>\n",
       "  </tbody>\n",
       "</table>\n",
       "<p>284522 rows × 12 columns</p>\n",
       "</div>"
      ],
      "text/plain": [
       "          0  7450332  7450333  7450339  7450340  7450338  7450337  7450336  \\\n",
       "0       0.0      0.0      0.0      0.0      0.0      0.0      0.0      0.0   \n",
       "1       NaN   -860.0      NaN      NaN      NaN      NaN      NaN      NaN   \n",
       "2       0.0      0.0      0.0      0.0      0.0      0.0      0.0      0.0   \n",
       "3       0.0     10.0      0.0      0.0      0.0      0.0      0.0      0.0   \n",
       "4       0.0     80.0      0.0      0.0      0.0      0.0      0.0      0.0   \n",
       "...     ...      ...      ...      ...      ...      ...      ...      ...   \n",
       "284517  0.0    -10.0      0.0      0.0    -10.0     10.0      0.0      0.0   \n",
       "284518  0.0      0.0      0.0      0.0      0.0     10.0      0.0      0.0   \n",
       "284519  NaN     10.0      NaN      NaN      NaN      0.0      0.0      0.0   \n",
       "284520  NaN      0.0      NaN      NaN      NaN      NaN      NaN      NaN   \n",
       "284521  NaN      0.0      NaN      NaN      NaN      0.0      NaN      0.0   \n",
       "\n",
       "        7450341           timestamp   period  measurement  \n",
       "0           0.0 2019-05-09 14:30:40 00:07:36            2  \n",
       "1           NaN 2019-05-09 14:30:43 00:00:03            2  \n",
       "2           0.0 2019-05-09 14:30:46 00:00:03            2  \n",
       "3           0.0 2019-05-09 14:30:49 00:00:03            2  \n",
       "4           0.0 2019-05-09 14:30:52 00:00:03            2  \n",
       "...         ...                 ...      ...          ...  \n",
       "284517      0.0 2020-07-24 08:53:07 00:00:02        13097  \n",
       "284518      0.0 2020-07-24 08:53:09 00:00:02        13097  \n",
       "284519      0.0 2020-07-24 08:53:11 00:00:02        13097  \n",
       "284520      NaN 2020-07-24 08:53:13 00:00:02        13097  \n",
       "284521      NaN 2020-07-24 08:53:15 00:00:02        13097  \n",
       "\n",
       "[284522 rows x 12 columns]"
      ]
     },
     "execution_count": 27,
     "metadata": {},
     "output_type": "execute_result"
    }
   ],
   "source": [
    "subtituir_plus"
   ]
  },
  {
   "cell_type": "code",
   "execution_count": 28,
   "metadata": {},
   "outputs": [],
   "source": [
    "dia_interpolado=subtituir_plus.groupby('measurement').fillna(method='ffill')\n",
    "dia_interpolado['measurement']=subtituir_plus['measurement']\n",
    "dia_interpolado=dia_interpolado.set_index('measurement')"
   ]
  },
  {
   "cell_type": "code",
   "execution_count": 29,
   "metadata": {},
   "outputs": [
    {
     "data": {
      "text/plain": [
       "0            42048\n",
       "7450332      29777\n",
       "7450333      29121\n",
       "7450339      24207\n",
       "7450340      22090\n",
       "7450338      21847\n",
       "7450337      15126\n",
       "7450336      28769\n",
       "7450341      28778\n",
       "timestamp        0\n",
       "period           0\n",
       "dtype: int64"
      ]
     },
     "execution_count": 29,
     "metadata": {},
     "output_type": "execute_result"
    }
   ],
   "source": [
    "dia_interpolado.isnull().sum()"
   ]
  },
  {
   "cell_type": "code",
   "execution_count": null,
   "metadata": {},
   "outputs": [],
   "source": [
    "filtrado[filtrado.measurement==10797]"
   ]
  },
  {
   "cell_type": "markdown",
   "metadata": {},
   "source": [
    "## VER"
   ]
  },
  {
   "cell_type": "code",
   "execution_count": 30,
   "metadata": {},
   "outputs": [
    {
     "data": {
      "text/plain": [
       "3079"
      ]
     },
     "execution_count": 30,
     "metadata": {},
     "output_type": "execute_result"
    }
   ],
   "source": [
    "dia_interpolado.reset_index().measurement.nunique()"
   ]
  },
  {
   "cell_type": "code",
   "execution_count": 42,
   "metadata": {},
   "outputs": [
    {
     "data": {
      "text/plain": [
       "1351     5630\n",
       "10877    4172\n",
       "3023     2991\n",
       "3014     2944\n",
       "11495    2195\n",
       "1758     1968\n",
       "10738    1782\n",
       "10394    1718\n",
       "5076     1717\n",
       "9580     1403\n",
       "10880    1377\n",
       "3013     1290\n",
       "13030    1269\n",
       "3218     1223\n",
       "5832     1204\n",
       "2956     1200\n",
       "13037    1181\n",
       "8614     1123\n",
       "10324    1116\n",
       "1399     1086\n",
       "1732     1039\n",
       "1371      999\n",
       "12827     965\n",
       "4765      961\n",
       "1356      947\n",
       "10385     936\n",
       "11883     913\n",
       "3378      908\n",
       "12669     882\n",
       "11251     871\n",
       "1401      863\n",
       "2851      832\n",
       "5565      823\n",
       "6739      822\n",
       "1572      805\n",
       "4694      801\n",
       "12980     792\n",
       "3360      790\n",
       "9589      784\n",
       "2407      745\n",
       "3243      743\n",
       "12954     708\n",
       "7030      687\n",
       "9761      679\n",
       "3134      674\n",
       "173       670\n",
       "9588      669\n",
       "1804      664\n",
       "11254     664\n",
       "9377      650\n",
       "Name: measurement, dtype: int64"
      ]
     },
     "execution_count": 42,
     "metadata": {},
     "output_type": "execute_result"
    }
   ],
   "source": [
    "dia_interpolado.reset_index().measurement.value_counts().head(50)"
   ]
  },
  {
   "cell_type": "code",
   "execution_count": null,
   "metadata": {},
   "outputs": [],
   "source": [
    "dia_interpolado.reset_index().measurement.value_counts()"
   ]
  },
  {
   "cell_type": "code",
   "execution_count": 43,
   "metadata": {},
   "outputs": [],
   "source": [
    "diacerto=dia_interpolado.loc[9377]"
   ]
  },
  {
   "cell_type": "code",
   "execution_count": 110,
   "metadata": {},
   "outputs": [],
   "source": [
    "diacerto2=bons.loc[9377]"
   ]
  },
  {
   "cell_type": "code",
   "execution_count": 108,
   "metadata": {},
   "outputs": [
    {
     "data": {
      "text/html": [
       "<div>\n",
       "<style scoped>\n",
       "    .dataframe tbody tr th:only-of-type {\n",
       "        vertical-align: middle;\n",
       "    }\n",
       "\n",
       "    .dataframe tbody tr th {\n",
       "        vertical-align: top;\n",
       "    }\n",
       "\n",
       "    .dataframe thead th {\n",
       "        text-align: right;\n",
       "    }\n",
       "</style>\n",
       "<table border=\"1\" class=\"dataframe\">\n",
       "  <thead>\n",
       "    <tr style=\"text-align: right;\">\n",
       "      <th></th>\n",
       "      <th>0</th>\n",
       "      <th>7450332</th>\n",
       "      <th>7450333</th>\n",
       "      <th>7450339</th>\n",
       "      <th>7450340</th>\n",
       "      <th>7450338</th>\n",
       "      <th>7450337</th>\n",
       "      <th>7450336</th>\n",
       "      <th>7450341</th>\n",
       "      <th>timestamp</th>\n",
       "      <th>period</th>\n",
       "    </tr>\n",
       "    <tr>\n",
       "      <th>measurement</th>\n",
       "      <th></th>\n",
       "      <th></th>\n",
       "      <th></th>\n",
       "      <th></th>\n",
       "      <th></th>\n",
       "      <th></th>\n",
       "      <th></th>\n",
       "      <th></th>\n",
       "      <th></th>\n",
       "      <th></th>\n",
       "      <th></th>\n",
       "    </tr>\n",
       "  </thead>\n",
       "  <tbody>\n",
       "    <tr>\n",
       "      <th>9377</th>\n",
       "      <td>NaN</td>\n",
       "      <td>NaN</td>\n",
       "      <td>NaN</td>\n",
       "      <td>NaN</td>\n",
       "      <td>NaN</td>\n",
       "      <td>NaN</td>\n",
       "      <td>NaN</td>\n",
       "      <td>0.0</td>\n",
       "      <td>NaN</td>\n",
       "      <td>2020-04-10 12:58:08</td>\n",
       "      <td>00:10:15</td>\n",
       "    </tr>\n",
       "    <tr>\n",
       "      <th>9377</th>\n",
       "      <td>NaN</td>\n",
       "      <td>NaN</td>\n",
       "      <td>NaN</td>\n",
       "      <td>NaN</td>\n",
       "      <td>NaN</td>\n",
       "      <td>NaN</td>\n",
       "      <td>NaN</td>\n",
       "      <td>0.0</td>\n",
       "      <td>NaN</td>\n",
       "      <td>2020-04-10 12:58:14</td>\n",
       "      <td>00:00:06</td>\n",
       "    </tr>\n",
       "    <tr>\n",
       "      <th>9377</th>\n",
       "      <td>NaN</td>\n",
       "      <td>NaN</td>\n",
       "      <td>NaN</td>\n",
       "      <td>NaN</td>\n",
       "      <td>NaN</td>\n",
       "      <td>NaN</td>\n",
       "      <td>NaN</td>\n",
       "      <td>0.0</td>\n",
       "      <td>NaN</td>\n",
       "      <td>2020-04-10 12:58:23</td>\n",
       "      <td>00:00:09</td>\n",
       "    </tr>\n",
       "    <tr>\n",
       "      <th>9377</th>\n",
       "      <td>NaN</td>\n",
       "      <td>NaN</td>\n",
       "      <td>NaN</td>\n",
       "      <td>NaN</td>\n",
       "      <td>NaN</td>\n",
       "      <td>NaN</td>\n",
       "      <td>NaN</td>\n",
       "      <td>0.0</td>\n",
       "      <td>NaN</td>\n",
       "      <td>2020-04-10 12:58:47</td>\n",
       "      <td>00:00:24</td>\n",
       "    </tr>\n",
       "    <tr>\n",
       "      <th>9377</th>\n",
       "      <td>NaN</td>\n",
       "      <td>NaN</td>\n",
       "      <td>NaN</td>\n",
       "      <td>NaN</td>\n",
       "      <td>NaN</td>\n",
       "      <td>NaN</td>\n",
       "      <td>NaN</td>\n",
       "      <td>0.0</td>\n",
       "      <td>NaN</td>\n",
       "      <td>2020-04-10 12:58:47</td>\n",
       "      <td>00:00:00</td>\n",
       "    </tr>\n",
       "    <tr>\n",
       "      <th>...</th>\n",
       "      <td>...</td>\n",
       "      <td>...</td>\n",
       "      <td>...</td>\n",
       "      <td>...</td>\n",
       "      <td>...</td>\n",
       "      <td>...</td>\n",
       "      <td>...</td>\n",
       "      <td>...</td>\n",
       "      <td>...</td>\n",
       "      <td>...</td>\n",
       "      <td>...</td>\n",
       "    </tr>\n",
       "    <tr>\n",
       "      <th>9377</th>\n",
       "      <td>NaN</td>\n",
       "      <td>NaN</td>\n",
       "      <td>NaN</td>\n",
       "      <td>30.0</td>\n",
       "      <td>NaN</td>\n",
       "      <td>NaN</td>\n",
       "      <td>NaN</td>\n",
       "      <td>-10.0</td>\n",
       "      <td>-10.0</td>\n",
       "      <td>2020-04-10 13:32:35</td>\n",
       "      <td>00:00:00</td>\n",
       "    </tr>\n",
       "    <tr>\n",
       "      <th>9377</th>\n",
       "      <td>NaN</td>\n",
       "      <td>NaN</td>\n",
       "      <td>NaN</td>\n",
       "      <td>30.0</td>\n",
       "      <td>NaN</td>\n",
       "      <td>NaN</td>\n",
       "      <td>NaN</td>\n",
       "      <td>-10.0</td>\n",
       "      <td>-10.0</td>\n",
       "      <td>2020-04-10 13:32:38</td>\n",
       "      <td>00:00:03</td>\n",
       "    </tr>\n",
       "    <tr>\n",
       "      <th>9377</th>\n",
       "      <td>NaN</td>\n",
       "      <td>NaN</td>\n",
       "      <td>NaN</td>\n",
       "      <td>30.0</td>\n",
       "      <td>NaN</td>\n",
       "      <td>NaN</td>\n",
       "      <td>NaN</td>\n",
       "      <td>-10.0</td>\n",
       "      <td>-10.0</td>\n",
       "      <td>2020-04-10 13:32:38</td>\n",
       "      <td>00:00:00</td>\n",
       "    </tr>\n",
       "    <tr>\n",
       "      <th>9377</th>\n",
       "      <td>NaN</td>\n",
       "      <td>0.0</td>\n",
       "      <td>0.0</td>\n",
       "      <td>0.0</td>\n",
       "      <td>NaN</td>\n",
       "      <td>NaN</td>\n",
       "      <td>0.0</td>\n",
       "      <td>0.0</td>\n",
       "      <td>0.0</td>\n",
       "      <td>2020-04-10 13:32:41</td>\n",
       "      <td>00:00:03</td>\n",
       "    </tr>\n",
       "    <tr>\n",
       "      <th>9377</th>\n",
       "      <td>NaN</td>\n",
       "      <td>0.0</td>\n",
       "      <td>0.0</td>\n",
       "      <td>0.0</td>\n",
       "      <td>NaN</td>\n",
       "      <td>NaN</td>\n",
       "      <td>0.0</td>\n",
       "      <td>0.0</td>\n",
       "      <td>0.0</td>\n",
       "      <td>2020-04-10 13:32:41</td>\n",
       "      <td>00:00:00</td>\n",
       "    </tr>\n",
       "  </tbody>\n",
       "</table>\n",
       "<p>650 rows × 11 columns</p>\n",
       "</div>"
      ],
      "text/plain": [
       "              0  7450332  7450333  7450339  7450340  7450338  7450337  \\\n",
       "measurement                                                             \n",
       "9377        NaN      NaN      NaN      NaN      NaN      NaN      NaN   \n",
       "9377        NaN      NaN      NaN      NaN      NaN      NaN      NaN   \n",
       "9377        NaN      NaN      NaN      NaN      NaN      NaN      NaN   \n",
       "9377        NaN      NaN      NaN      NaN      NaN      NaN      NaN   \n",
       "9377        NaN      NaN      NaN      NaN      NaN      NaN      NaN   \n",
       "...          ..      ...      ...      ...      ...      ...      ...   \n",
       "9377        NaN      NaN      NaN     30.0      NaN      NaN      NaN   \n",
       "9377        NaN      NaN      NaN     30.0      NaN      NaN      NaN   \n",
       "9377        NaN      NaN      NaN     30.0      NaN      NaN      NaN   \n",
       "9377        NaN      0.0      0.0      0.0      NaN      NaN      0.0   \n",
       "9377        NaN      0.0      0.0      0.0      NaN      NaN      0.0   \n",
       "\n",
       "             7450336  7450341           timestamp   period  \n",
       "measurement                                                 \n",
       "9377             0.0      NaN 2020-04-10 12:58:08 00:10:15  \n",
       "9377             0.0      NaN 2020-04-10 12:58:14 00:00:06  \n",
       "9377             0.0      NaN 2020-04-10 12:58:23 00:00:09  \n",
       "9377             0.0      NaN 2020-04-10 12:58:47 00:00:24  \n",
       "9377             0.0      NaN 2020-04-10 12:58:47 00:00:00  \n",
       "...              ...      ...                 ...      ...  \n",
       "9377           -10.0    -10.0 2020-04-10 13:32:35 00:00:00  \n",
       "9377           -10.0    -10.0 2020-04-10 13:32:38 00:00:03  \n",
       "9377           -10.0    -10.0 2020-04-10 13:32:38 00:00:00  \n",
       "9377             0.0      0.0 2020-04-10 13:32:41 00:00:03  \n",
       "9377             0.0      0.0 2020-04-10 13:32:41 00:00:00  \n",
       "\n",
       "[650 rows x 11 columns]"
      ]
     },
     "execution_count": 108,
     "metadata": {},
     "output_type": "execute_result"
    }
   ],
   "source": [
    "diacerto"
   ]
  },
  {
   "cell_type": "code",
   "execution_count": 32,
   "metadata": {},
   "outputs": [
    {
     "data": {
      "text/plain": [
       "measurement\n",
       "10797      0\n",
       "11559      0\n",
       "517        0\n",
       "11565      0\n",
       "10428      0\n",
       "        ... \n",
       "10325     58\n",
       "9978      61\n",
       "2956      99\n",
       "1198     100\n",
       "2952     149\n",
       "Name: 7450332, Length: 3079, dtype: int64"
      ]
     },
     "execution_count": 32,
     "metadata": {},
     "output_type": "execute_result"
    }
   ],
   "source": [
    "dia_interpolado.reset_index().groupby('measurement')['7450332'].nunique().sort_values()"
   ]
  },
  {
   "cell_type": "code",
   "execution_count": null,
   "metadata": {},
   "outputs": [],
   "source": [
    "dia_interpolado.reset_index().groupby('measurement')['7450332'].nunique().sort_values()"
   ]
  },
  {
   "cell_type": "code",
   "execution_count": null,
   "metadata": {},
   "outputs": [],
   "source": [
    "dia_interpolado.loc[10797]"
   ]
  },
  {
   "cell_type": "code",
   "execution_count": null,
   "metadata": {},
   "outputs": [],
   "source": [
    "experiencia.groupby('measurement').cellWeight_0.nunique().sort_values()"
   ]
  },
  {
   "cell_type": "code",
   "execution_count": 63,
   "metadata": {},
   "outputs": [
    {
     "data": {
      "text/html": [
       "<div>\n",
       "<style scoped>\n",
       "    .dataframe tbody tr th:only-of-type {\n",
       "        vertical-align: middle;\n",
       "    }\n",
       "\n",
       "    .dataframe tbody tr th {\n",
       "        vertical-align: top;\n",
       "    }\n",
       "\n",
       "    .dataframe thead th {\n",
       "        text-align: right;\n",
       "    }\n",
       "</style>\n",
       "<table border=\"1\" class=\"dataframe\">\n",
       "  <thead>\n",
       "    <tr style=\"text-align: right;\">\n",
       "      <th></th>\n",
       "      <th>measurement</th>\n",
       "      <th>0</th>\n",
       "      <th>7450332</th>\n",
       "      <th>7450333</th>\n",
       "      <th>7450339</th>\n",
       "      <th>7450340</th>\n",
       "      <th>7450338</th>\n",
       "      <th>7450337</th>\n",
       "      <th>7450336</th>\n",
       "      <th>7450341</th>\n",
       "      <th>timestamp</th>\n",
       "      <th>period</th>\n",
       "    </tr>\n",
       "    <tr>\n",
       "      <th>measurement</th>\n",
       "      <th></th>\n",
       "      <th></th>\n",
       "      <th></th>\n",
       "      <th></th>\n",
       "      <th></th>\n",
       "      <th></th>\n",
       "      <th></th>\n",
       "      <th></th>\n",
       "      <th></th>\n",
       "      <th></th>\n",
       "      <th></th>\n",
       "      <th></th>\n",
       "    </tr>\n",
       "  </thead>\n",
       "  <tbody>\n",
       "    <tr>\n",
       "      <th>2</th>\n",
       "      <td>1</td>\n",
       "      <td>1</td>\n",
       "      <td>5</td>\n",
       "      <td>5</td>\n",
       "      <td>5</td>\n",
       "      <td>7</td>\n",
       "      <td>4</td>\n",
       "      <td>4</td>\n",
       "      <td>4</td>\n",
       "      <td>4</td>\n",
       "      <td>24</td>\n",
       "      <td>2</td>\n",
       "    </tr>\n",
       "    <tr>\n",
       "      <th>8</th>\n",
       "      <td>1</td>\n",
       "      <td>1</td>\n",
       "      <td>6</td>\n",
       "      <td>5</td>\n",
       "      <td>5</td>\n",
       "      <td>4</td>\n",
       "      <td>4</td>\n",
       "      <td>5</td>\n",
       "      <td>5</td>\n",
       "      <td>5</td>\n",
       "      <td>21</td>\n",
       "      <td>4</td>\n",
       "    </tr>\n",
       "    <tr>\n",
       "      <th>22</th>\n",
       "      <td>1</td>\n",
       "      <td>1</td>\n",
       "      <td>6</td>\n",
       "      <td>7</td>\n",
       "      <td>20</td>\n",
       "      <td>17</td>\n",
       "      <td>17</td>\n",
       "      <td>19</td>\n",
       "      <td>12</td>\n",
       "      <td>15</td>\n",
       "      <td>72</td>\n",
       "      <td>5</td>\n",
       "    </tr>\n",
       "    <tr>\n",
       "      <th>23</th>\n",
       "      <td>1</td>\n",
       "      <td>1</td>\n",
       "      <td>5</td>\n",
       "      <td>7</td>\n",
       "      <td>9</td>\n",
       "      <td>8</td>\n",
       "      <td>8</td>\n",
       "      <td>11</td>\n",
       "      <td>7</td>\n",
       "      <td>8</td>\n",
       "      <td>68</td>\n",
       "      <td>3</td>\n",
       "    </tr>\n",
       "    <tr>\n",
       "      <th>24</th>\n",
       "      <td>1</td>\n",
       "      <td>1</td>\n",
       "      <td>16</td>\n",
       "      <td>16</td>\n",
       "      <td>19</td>\n",
       "      <td>18</td>\n",
       "      <td>20</td>\n",
       "      <td>20</td>\n",
       "      <td>19</td>\n",
       "      <td>21</td>\n",
       "      <td>22</td>\n",
       "      <td>2</td>\n",
       "    </tr>\n",
       "    <tr>\n",
       "      <th>...</th>\n",
       "      <td>...</td>\n",
       "      <td>...</td>\n",
       "      <td>...</td>\n",
       "      <td>...</td>\n",
       "      <td>...</td>\n",
       "      <td>...</td>\n",
       "      <td>...</td>\n",
       "      <td>...</td>\n",
       "      <td>...</td>\n",
       "      <td>...</td>\n",
       "      <td>...</td>\n",
       "      <td>...</td>\n",
       "    </tr>\n",
       "    <tr>\n",
       "      <th>13071</th>\n",
       "      <td>1</td>\n",
       "      <td>1</td>\n",
       "      <td>3</td>\n",
       "      <td>3</td>\n",
       "      <td>3</td>\n",
       "      <td>3</td>\n",
       "      <td>6</td>\n",
       "      <td>5</td>\n",
       "      <td>4</td>\n",
       "      <td>5</td>\n",
       "      <td>27</td>\n",
       "      <td>2</td>\n",
       "    </tr>\n",
       "    <tr>\n",
       "      <th>13075</th>\n",
       "      <td>1</td>\n",
       "      <td>1</td>\n",
       "      <td>6</td>\n",
       "      <td>4</td>\n",
       "      <td>3</td>\n",
       "      <td>4</td>\n",
       "      <td>3</td>\n",
       "      <td>3</td>\n",
       "      <td>3</td>\n",
       "      <td>3</td>\n",
       "      <td>13</td>\n",
       "      <td>2</td>\n",
       "    </tr>\n",
       "    <tr>\n",
       "      <th>13076</th>\n",
       "      <td>1</td>\n",
       "      <td>1</td>\n",
       "      <td>28</td>\n",
       "      <td>25</td>\n",
       "      <td>32</td>\n",
       "      <td>32</td>\n",
       "      <td>32</td>\n",
       "      <td>32</td>\n",
       "      <td>21</td>\n",
       "      <td>19</td>\n",
       "      <td>122</td>\n",
       "      <td>4</td>\n",
       "    </tr>\n",
       "    <tr>\n",
       "      <th>13085</th>\n",
       "      <td>1</td>\n",
       "      <td>1</td>\n",
       "      <td>35</td>\n",
       "      <td>36</td>\n",
       "      <td>37</td>\n",
       "      <td>36</td>\n",
       "      <td>31</td>\n",
       "      <td>29</td>\n",
       "      <td>15</td>\n",
       "      <td>14</td>\n",
       "      <td>86</td>\n",
       "      <td>3</td>\n",
       "    </tr>\n",
       "    <tr>\n",
       "      <th>13097</th>\n",
       "      <td>1</td>\n",
       "      <td>1</td>\n",
       "      <td>5</td>\n",
       "      <td>3</td>\n",
       "      <td>3</td>\n",
       "      <td>3</td>\n",
       "      <td>4</td>\n",
       "      <td>4</td>\n",
       "      <td>4</td>\n",
       "      <td>4</td>\n",
       "      <td>10</td>\n",
       "      <td>2</td>\n",
       "    </tr>\n",
       "  </tbody>\n",
       "</table>\n",
       "<p>3079 rows × 12 columns</p>\n",
       "</div>"
      ],
      "text/plain": [
       "             measurement  0  7450332  7450333  7450339  7450340  7450338  \\\n",
       "measurement                                                                \n",
       "2                      1  1        5        5        5        7        4   \n",
       "8                      1  1        6        5        5        4        4   \n",
       "22                     1  1        6        7       20       17       17   \n",
       "23                     1  1        5        7        9        8        8   \n",
       "24                     1  1       16       16       19       18       20   \n",
       "...                  ... ..      ...      ...      ...      ...      ...   \n",
       "13071                  1  1        3        3        3        3        6   \n",
       "13075                  1  1        6        4        3        4        3   \n",
       "13076                  1  1       28       25       32       32       32   \n",
       "13085                  1  1       35       36       37       36       31   \n",
       "13097                  1  1        5        3        3        3        4   \n",
       "\n",
       "             7450337  7450336  7450341  timestamp  period  \n",
       "measurement                                                \n",
       "2                  4        4        4         24       2  \n",
       "8                  5        5        5         21       4  \n",
       "22                19       12       15         72       5  \n",
       "23                11        7        8         68       3  \n",
       "24                20       19       21         22       2  \n",
       "...              ...      ...      ...        ...     ...  \n",
       "13071              5        4        5         27       2  \n",
       "13075              3        3        3         13       2  \n",
       "13076             32       21       19        122       4  \n",
       "13085             29       15       14         86       3  \n",
       "13097              4        4        4         10       2  \n",
       "\n",
       "[3079 rows x 12 columns]"
      ]
     },
     "execution_count": 63,
     "metadata": {},
     "output_type": "execute_result"
    }
   ],
   "source": [
    "dia_interpolado.reset_index().groupby('measurement').nunique()"
   ]
  },
  {
   "cell_type": "code",
   "execution_count": 69,
   "metadata": {},
   "outputs": [
    {
     "data": {
      "text/plain": [
       "(284522, 11)"
      ]
     },
     "execution_count": 69,
     "metadata": {},
     "output_type": "execute_result"
    }
   ],
   "source": [
    "dia_interpolado.shape"
   ]
  },
  {
   "cell_type": "code",
   "execution_count": 113,
   "metadata": {},
   "outputs": [
    {
     "data": {
      "text/plain": [
       "0              0\n",
       "7450332        1\n",
       "7450333        1\n",
       "7450339        3\n",
       "7450340        0\n",
       "7450338        0\n",
       "7450337        1\n",
       "7450336        2\n",
       "7450341        2\n",
       "timestamp    641\n",
       "period         9\n",
       "dtype: int64"
      ]
     },
     "execution_count": 113,
     "metadata": {},
     "output_type": "execute_result"
    }
   ],
   "source": [
    "diacerto2.nunique()"
   ]
  },
  {
   "cell_type": "code",
   "execution_count": 115,
   "metadata": {},
   "outputs": [
    {
     "data": {
      "text/plain": [
       "measurement       1\n",
       "0                 1\n",
       "7450332           2\n",
       "7450333           2\n",
       "7450339           2\n",
       "7450340           2\n",
       "7450338           2\n",
       "7450337           2\n",
       "7450336           2\n",
       "7450341           2\n",
       "timestamp      2195\n",
       "period           15\n",
       "dtype: int64"
      ]
     },
     "execution_count": 115,
     "metadata": {},
     "output_type": "execute_result"
    }
   ],
   "source": [
    "maus.reset_index().groupby('measurement').nunique().max()"
   ]
  },
  {
   "cell_type": "code",
   "execution_count": 117,
   "metadata": {},
   "outputs": [
    {
     "data": {
      "text/plain": [
       "measurement    1\n",
       "0              0\n",
       "7450332        0\n",
       "7450333        0\n",
       "7450339        1\n",
       "7450340        0\n",
       "7450338        0\n",
       "7450337        0\n",
       "7450336        0\n",
       "7450341        0\n",
       "timestamp      6\n",
       "period         2\n",
       "dtype: int64"
      ]
     },
     "execution_count": 117,
     "metadata": {},
     "output_type": "execute_result"
    }
   ],
   "source": [
    "bons.reset_index().groupby('measurement').nunique().min()"
   ]
  },
  {
   "cell_type": "code",
   "execution_count": 98,
   "metadata": {},
   "outputs": [],
   "source": [
    "maus=dia_interpolado.reset_index().groupby('measurement').filter(lambda x: x['7450332'].nunique()<3 and x['7450333'].nunique()<3 and x['7450339'].nunique()<3 and x['7450340'].nunique()<3 and x['7450338'].nunique()<3 and x['7450337'].nunique()<3 and x['7450336'].nunique() <3 and x['7450341'].nunique()<3).set_index('measurement')"
   ]
  },
  {
   "cell_type": "code",
   "execution_count": 99,
   "metadata": {},
   "outputs": [
    {
     "data": {
      "text/html": [
       "<div>\n",
       "<style scoped>\n",
       "    .dataframe tbody tr th:only-of-type {\n",
       "        vertical-align: middle;\n",
       "    }\n",
       "\n",
       "    .dataframe tbody tr th {\n",
       "        vertical-align: top;\n",
       "    }\n",
       "\n",
       "    .dataframe thead th {\n",
       "        text-align: right;\n",
       "    }\n",
       "</style>\n",
       "<table border=\"1\" class=\"dataframe\">\n",
       "  <thead>\n",
       "    <tr style=\"text-align: right;\">\n",
       "      <th></th>\n",
       "      <th>0</th>\n",
       "      <th>7450332</th>\n",
       "      <th>7450333</th>\n",
       "      <th>7450339</th>\n",
       "      <th>7450340</th>\n",
       "      <th>7450338</th>\n",
       "      <th>7450337</th>\n",
       "      <th>7450336</th>\n",
       "      <th>7450341</th>\n",
       "      <th>timestamp</th>\n",
       "      <th>period</th>\n",
       "    </tr>\n",
       "    <tr>\n",
       "      <th>measurement</th>\n",
       "      <th></th>\n",
       "      <th></th>\n",
       "      <th></th>\n",
       "      <th></th>\n",
       "      <th></th>\n",
       "      <th></th>\n",
       "      <th></th>\n",
       "      <th></th>\n",
       "      <th></th>\n",
       "      <th></th>\n",
       "      <th></th>\n",
       "    </tr>\n",
       "  </thead>\n",
       "  <tbody>\n",
       "    <tr>\n",
       "      <th>412</th>\n",
       "      <td>NaN</td>\n",
       "      <td>NaN</td>\n",
       "      <td>NaN</td>\n",
       "      <td>7910.0</td>\n",
       "      <td>NaN</td>\n",
       "      <td>NaN</td>\n",
       "      <td>NaN</td>\n",
       "      <td>NaN</td>\n",
       "      <td>NaN</td>\n",
       "      <td>2019-05-23 11:03:32</td>\n",
       "      <td>00:01:03</td>\n",
       "    </tr>\n",
       "    <tr>\n",
       "      <th>412</th>\n",
       "      <td>NaN</td>\n",
       "      <td>NaN</td>\n",
       "      <td>NaN</td>\n",
       "      <td>7910.0</td>\n",
       "      <td>NaN</td>\n",
       "      <td>NaN</td>\n",
       "      <td>NaN</td>\n",
       "      <td>NaN</td>\n",
       "      <td>NaN</td>\n",
       "      <td>2019-05-23 11:03:35</td>\n",
       "      <td>00:00:03</td>\n",
       "    </tr>\n",
       "    <tr>\n",
       "      <th>412</th>\n",
       "      <td>NaN</td>\n",
       "      <td>NaN</td>\n",
       "      <td>NaN</td>\n",
       "      <td>7920.0</td>\n",
       "      <td>NaN</td>\n",
       "      <td>NaN</td>\n",
       "      <td>NaN</td>\n",
       "      <td>NaN</td>\n",
       "      <td>NaN</td>\n",
       "      <td>2019-05-23 11:03:38</td>\n",
       "      <td>00:00:03</td>\n",
       "    </tr>\n",
       "    <tr>\n",
       "      <th>412</th>\n",
       "      <td>NaN</td>\n",
       "      <td>NaN</td>\n",
       "      <td>NaN</td>\n",
       "      <td>7920.0</td>\n",
       "      <td>NaN</td>\n",
       "      <td>NaN</td>\n",
       "      <td>NaN</td>\n",
       "      <td>NaN</td>\n",
       "      <td>NaN</td>\n",
       "      <td>2019-05-23 11:03:41</td>\n",
       "      <td>00:00:03</td>\n",
       "    </tr>\n",
       "    <tr>\n",
       "      <th>412</th>\n",
       "      <td>NaN</td>\n",
       "      <td>NaN</td>\n",
       "      <td>NaN</td>\n",
       "      <td>7920.0</td>\n",
       "      <td>7200.0</td>\n",
       "      <td>NaN</td>\n",
       "      <td>NaN</td>\n",
       "      <td>NaN</td>\n",
       "      <td>NaN</td>\n",
       "      <td>2019-05-23 11:03:44</td>\n",
       "      <td>00:00:03</td>\n",
       "    </tr>\n",
       "    <tr>\n",
       "      <th>...</th>\n",
       "      <td>...</td>\n",
       "      <td>...</td>\n",
       "      <td>...</td>\n",
       "      <td>...</td>\n",
       "      <td>...</td>\n",
       "      <td>...</td>\n",
       "      <td>...</td>\n",
       "      <td>...</td>\n",
       "      <td>...</td>\n",
       "      <td>...</td>\n",
       "      <td>...</td>\n",
       "    </tr>\n",
       "    <tr>\n",
       "      <th>12314</th>\n",
       "      <td>NaN</td>\n",
       "      <td>2890.0</td>\n",
       "      <td>2320.0</td>\n",
       "      <td>NaN</td>\n",
       "      <td>6500.0</td>\n",
       "      <td>9580.0</td>\n",
       "      <td>10930.0</td>\n",
       "      <td>NaN</td>\n",
       "      <td>NaN</td>\n",
       "      <td>2020-07-06 05:37:45</td>\n",
       "      <td>00:00:02</td>\n",
       "    </tr>\n",
       "    <tr>\n",
       "      <th>12314</th>\n",
       "      <td>NaN</td>\n",
       "      <td>2890.0</td>\n",
       "      <td>2320.0</td>\n",
       "      <td>NaN</td>\n",
       "      <td>6500.0</td>\n",
       "      <td>9580.0</td>\n",
       "      <td>10930.0</td>\n",
       "      <td>NaN</td>\n",
       "      <td>NaN</td>\n",
       "      <td>2020-07-06 05:37:47</td>\n",
       "      <td>00:00:02</td>\n",
       "    </tr>\n",
       "    <tr>\n",
       "      <th>12314</th>\n",
       "      <td>NaN</td>\n",
       "      <td>2890.0</td>\n",
       "      <td>2320.0</td>\n",
       "      <td>NaN</td>\n",
       "      <td>6500.0</td>\n",
       "      <td>9580.0</td>\n",
       "      <td>10930.0</td>\n",
       "      <td>NaN</td>\n",
       "      <td>NaN</td>\n",
       "      <td>2020-07-06 05:37:53</td>\n",
       "      <td>00:00:06</td>\n",
       "    </tr>\n",
       "    <tr>\n",
       "      <th>12314</th>\n",
       "      <td>NaN</td>\n",
       "      <td>2890.0</td>\n",
       "      <td>2320.0</td>\n",
       "      <td>NaN</td>\n",
       "      <td>6500.0</td>\n",
       "      <td>9580.0</td>\n",
       "      <td>10930.0</td>\n",
       "      <td>NaN</td>\n",
       "      <td>NaN</td>\n",
       "      <td>2020-07-06 05:37:55</td>\n",
       "      <td>00:00:02</td>\n",
       "    </tr>\n",
       "    <tr>\n",
       "      <th>12314</th>\n",
       "      <td>NaN</td>\n",
       "      <td>2890.0</td>\n",
       "      <td>2320.0</td>\n",
       "      <td>NaN</td>\n",
       "      <td>6500.0</td>\n",
       "      <td>9580.0</td>\n",
       "      <td>10930.0</td>\n",
       "      <td>NaN</td>\n",
       "      <td>NaN</td>\n",
       "      <td>2020-07-06 05:37:57</td>\n",
       "      <td>00:00:02</td>\n",
       "    </tr>\n",
       "  </tbody>\n",
       "</table>\n",
       "<p>16974 rows × 11 columns</p>\n",
       "</div>"
      ],
      "text/plain": [
       "              0  7450332  7450333  7450339  7450340  7450338  7450337  \\\n",
       "measurement                                                             \n",
       "412         NaN      NaN      NaN   7910.0      NaN      NaN      NaN   \n",
       "412         NaN      NaN      NaN   7910.0      NaN      NaN      NaN   \n",
       "412         NaN      NaN      NaN   7920.0      NaN      NaN      NaN   \n",
       "412         NaN      NaN      NaN   7920.0      NaN      NaN      NaN   \n",
       "412         NaN      NaN      NaN   7920.0   7200.0      NaN      NaN   \n",
       "...          ..      ...      ...      ...      ...      ...      ...   \n",
       "12314       NaN   2890.0   2320.0      NaN   6500.0   9580.0  10930.0   \n",
       "12314       NaN   2890.0   2320.0      NaN   6500.0   9580.0  10930.0   \n",
       "12314       NaN   2890.0   2320.0      NaN   6500.0   9580.0  10930.0   \n",
       "12314       NaN   2890.0   2320.0      NaN   6500.0   9580.0  10930.0   \n",
       "12314       NaN   2890.0   2320.0      NaN   6500.0   9580.0  10930.0   \n",
       "\n",
       "             7450336  7450341           timestamp   period  \n",
       "measurement                                                 \n",
       "412              NaN      NaN 2019-05-23 11:03:32 00:01:03  \n",
       "412              NaN      NaN 2019-05-23 11:03:35 00:00:03  \n",
       "412              NaN      NaN 2019-05-23 11:03:38 00:00:03  \n",
       "412              NaN      NaN 2019-05-23 11:03:41 00:00:03  \n",
       "412              NaN      NaN 2019-05-23 11:03:44 00:00:03  \n",
       "...              ...      ...                 ...      ...  \n",
       "12314            NaN      NaN 2020-07-06 05:37:45 00:00:02  \n",
       "12314            NaN      NaN 2020-07-06 05:37:47 00:00:02  \n",
       "12314            NaN      NaN 2020-07-06 05:37:53 00:00:06  \n",
       "12314            NaN      NaN 2020-07-06 05:37:55 00:00:02  \n",
       "12314            NaN      NaN 2020-07-06 05:37:57 00:00:02  \n",
       "\n",
       "[16974 rows x 11 columns]"
      ]
     },
     "execution_count": 99,
     "metadata": {},
     "output_type": "execute_result"
    }
   ],
   "source": [
    "maus"
   ]
  },
  {
   "cell_type": "code",
   "execution_count": 86,
   "metadata": {},
   "outputs": [
    {
     "name": "stdout",
     "output_type": "stream",
     "text": [
      "99\n"
     ]
    },
    {
     "data": {
      "text/plain": [
       "(16974, 12)"
      ]
     },
     "execution_count": 86,
     "metadata": {},
     "output_type": "execute_result"
    }
   ],
   "source": [
    "print(maus[('measurement')].nunique())\n",
    "maus.shape"
   ]
  },
  {
   "cell_type": "code",
   "execution_count": 94,
   "metadata": {},
   "outputs": [
    {
     "data": {
      "text/html": [
       "<div>\n",
       "<style scoped>\n",
       "    .dataframe tbody tr th:only-of-type {\n",
       "        vertical-align: middle;\n",
       "    }\n",
       "\n",
       "    .dataframe tbody tr th {\n",
       "        vertical-align: top;\n",
       "    }\n",
       "\n",
       "    .dataframe thead th {\n",
       "        text-align: right;\n",
       "    }\n",
       "</style>\n",
       "<table border=\"1\" class=\"dataframe\">\n",
       "  <thead>\n",
       "    <tr style=\"text-align: right;\">\n",
       "      <th></th>\n",
       "      <th>0</th>\n",
       "      <th>7450332</th>\n",
       "      <th>7450333</th>\n",
       "      <th>7450339</th>\n",
       "      <th>7450340</th>\n",
       "      <th>7450338</th>\n",
       "      <th>7450337</th>\n",
       "      <th>7450336</th>\n",
       "      <th>7450341</th>\n",
       "      <th>timestamp</th>\n",
       "      <th>period</th>\n",
       "    </tr>\n",
       "    <tr>\n",
       "      <th>measurement</th>\n",
       "      <th></th>\n",
       "      <th></th>\n",
       "      <th></th>\n",
       "      <th></th>\n",
       "      <th></th>\n",
       "      <th></th>\n",
       "      <th></th>\n",
       "      <th></th>\n",
       "      <th></th>\n",
       "      <th></th>\n",
       "      <th></th>\n",
       "    </tr>\n",
       "  </thead>\n",
       "  <tbody>\n",
       "    <tr>\n",
       "      <th>2</th>\n",
       "      <td>0.0</td>\n",
       "      <td>0.0</td>\n",
       "      <td>0.0</td>\n",
       "      <td>0.0</td>\n",
       "      <td>0.0</td>\n",
       "      <td>0.0</td>\n",
       "      <td>0.0</td>\n",
       "      <td>0.0</td>\n",
       "      <td>0.0</td>\n",
       "      <td>2019-05-09 14:30:40</td>\n",
       "      <td>00:07:36</td>\n",
       "    </tr>\n",
       "    <tr>\n",
       "      <th>2</th>\n",
       "      <td>0.0</td>\n",
       "      <td>-860.0</td>\n",
       "      <td>0.0</td>\n",
       "      <td>0.0</td>\n",
       "      <td>0.0</td>\n",
       "      <td>0.0</td>\n",
       "      <td>0.0</td>\n",
       "      <td>0.0</td>\n",
       "      <td>0.0</td>\n",
       "      <td>2019-05-09 14:30:43</td>\n",
       "      <td>00:00:03</td>\n",
       "    </tr>\n",
       "    <tr>\n",
       "      <th>2</th>\n",
       "      <td>0.0</td>\n",
       "      <td>0.0</td>\n",
       "      <td>0.0</td>\n",
       "      <td>0.0</td>\n",
       "      <td>0.0</td>\n",
       "      <td>0.0</td>\n",
       "      <td>0.0</td>\n",
       "      <td>0.0</td>\n",
       "      <td>0.0</td>\n",
       "      <td>2019-05-09 14:30:46</td>\n",
       "      <td>00:00:03</td>\n",
       "    </tr>\n",
       "    <tr>\n",
       "      <th>2</th>\n",
       "      <td>0.0</td>\n",
       "      <td>10.0</td>\n",
       "      <td>0.0</td>\n",
       "      <td>0.0</td>\n",
       "      <td>0.0</td>\n",
       "      <td>0.0</td>\n",
       "      <td>0.0</td>\n",
       "      <td>0.0</td>\n",
       "      <td>0.0</td>\n",
       "      <td>2019-05-09 14:30:49</td>\n",
       "      <td>00:00:03</td>\n",
       "    </tr>\n",
       "    <tr>\n",
       "      <th>2</th>\n",
       "      <td>0.0</td>\n",
       "      <td>80.0</td>\n",
       "      <td>0.0</td>\n",
       "      <td>0.0</td>\n",
       "      <td>0.0</td>\n",
       "      <td>0.0</td>\n",
       "      <td>0.0</td>\n",
       "      <td>0.0</td>\n",
       "      <td>0.0</td>\n",
       "      <td>2019-05-09 14:30:52</td>\n",
       "      <td>00:00:03</td>\n",
       "    </tr>\n",
       "  </tbody>\n",
       "</table>\n",
       "</div>"
      ],
      "text/plain": [
       "               0  7450332  7450333  7450339  7450340  7450338  7450337  \\\n",
       "measurement                                                              \n",
       "2            0.0      0.0      0.0      0.0      0.0      0.0      0.0   \n",
       "2            0.0   -860.0      0.0      0.0      0.0      0.0      0.0   \n",
       "2            0.0      0.0      0.0      0.0      0.0      0.0      0.0   \n",
       "2            0.0     10.0      0.0      0.0      0.0      0.0      0.0   \n",
       "2            0.0     80.0      0.0      0.0      0.0      0.0      0.0   \n",
       "\n",
       "             7450336  7450341           timestamp   period  \n",
       "measurement                                                 \n",
       "2                0.0      0.0 2019-05-09 14:30:40 00:07:36  \n",
       "2                0.0      0.0 2019-05-09 14:30:43 00:00:03  \n",
       "2                0.0      0.0 2019-05-09 14:30:46 00:00:03  \n",
       "2                0.0      0.0 2019-05-09 14:30:49 00:00:03  \n",
       "2                0.0      0.0 2019-05-09 14:30:52 00:00:03  "
      ]
     },
     "execution_count": 94,
     "metadata": {},
     "output_type": "execute_result"
    }
   ],
   "source": [
    "dia_interpolado.head()"
   ]
  },
  {
   "cell_type": "code",
   "execution_count": 100,
   "metadata": {},
   "outputs": [
    {
     "data": {
      "text/html": [
       "<div>\n",
       "<style scoped>\n",
       "    .dataframe tbody tr th:only-of-type {\n",
       "        vertical-align: middle;\n",
       "    }\n",
       "\n",
       "    .dataframe tbody tr th {\n",
       "        vertical-align: top;\n",
       "    }\n",
       "\n",
       "    .dataframe thead th {\n",
       "        text-align: right;\n",
       "    }\n",
       "</style>\n",
       "<table border=\"1\" class=\"dataframe\">\n",
       "  <thead>\n",
       "    <tr style=\"text-align: right;\">\n",
       "      <th></th>\n",
       "      <th>0</th>\n",
       "      <th>7450332</th>\n",
       "      <th>7450333</th>\n",
       "      <th>7450339</th>\n",
       "      <th>7450340</th>\n",
       "      <th>7450338</th>\n",
       "      <th>7450337</th>\n",
       "      <th>7450336</th>\n",
       "      <th>7450341</th>\n",
       "      <th>timestamp</th>\n",
       "      <th>period</th>\n",
       "    </tr>\n",
       "    <tr>\n",
       "      <th>measurement</th>\n",
       "      <th></th>\n",
       "      <th></th>\n",
       "      <th></th>\n",
       "      <th></th>\n",
       "      <th></th>\n",
       "      <th></th>\n",
       "      <th></th>\n",
       "      <th></th>\n",
       "      <th></th>\n",
       "      <th></th>\n",
       "      <th></th>\n",
       "    </tr>\n",
       "  </thead>\n",
       "  <tbody>\n",
       "    <tr>\n",
       "      <th>412</th>\n",
       "      <td>NaN</td>\n",
       "      <td>NaN</td>\n",
       "      <td>NaN</td>\n",
       "      <td>7910.0</td>\n",
       "      <td>NaN</td>\n",
       "      <td>NaN</td>\n",
       "      <td>NaN</td>\n",
       "      <td>NaN</td>\n",
       "      <td>NaN</td>\n",
       "      <td>2019-05-23 11:03:32</td>\n",
       "      <td>00:01:03</td>\n",
       "    </tr>\n",
       "    <tr>\n",
       "      <th>412</th>\n",
       "      <td>NaN</td>\n",
       "      <td>NaN</td>\n",
       "      <td>NaN</td>\n",
       "      <td>7910.0</td>\n",
       "      <td>NaN</td>\n",
       "      <td>NaN</td>\n",
       "      <td>NaN</td>\n",
       "      <td>NaN</td>\n",
       "      <td>NaN</td>\n",
       "      <td>2019-05-23 11:03:35</td>\n",
       "      <td>00:00:03</td>\n",
       "    </tr>\n",
       "    <tr>\n",
       "      <th>412</th>\n",
       "      <td>NaN</td>\n",
       "      <td>NaN</td>\n",
       "      <td>NaN</td>\n",
       "      <td>7920.0</td>\n",
       "      <td>NaN</td>\n",
       "      <td>NaN</td>\n",
       "      <td>NaN</td>\n",
       "      <td>NaN</td>\n",
       "      <td>NaN</td>\n",
       "      <td>2019-05-23 11:03:38</td>\n",
       "      <td>00:00:03</td>\n",
       "    </tr>\n",
       "    <tr>\n",
       "      <th>412</th>\n",
       "      <td>NaN</td>\n",
       "      <td>NaN</td>\n",
       "      <td>NaN</td>\n",
       "      <td>7920.0</td>\n",
       "      <td>NaN</td>\n",
       "      <td>NaN</td>\n",
       "      <td>NaN</td>\n",
       "      <td>NaN</td>\n",
       "      <td>NaN</td>\n",
       "      <td>2019-05-23 11:03:41</td>\n",
       "      <td>00:00:03</td>\n",
       "    </tr>\n",
       "    <tr>\n",
       "      <th>412</th>\n",
       "      <td>NaN</td>\n",
       "      <td>NaN</td>\n",
       "      <td>NaN</td>\n",
       "      <td>7920.0</td>\n",
       "      <td>7200.0</td>\n",
       "      <td>NaN</td>\n",
       "      <td>NaN</td>\n",
       "      <td>NaN</td>\n",
       "      <td>NaN</td>\n",
       "      <td>2019-05-23 11:03:44</td>\n",
       "      <td>00:00:03</td>\n",
       "    </tr>\n",
       "  </tbody>\n",
       "</table>\n",
       "</div>"
      ],
      "text/plain": [
       "              0  7450332  7450333  7450339  7450340  7450338  7450337  \\\n",
       "measurement                                                             \n",
       "412         NaN      NaN      NaN   7910.0      NaN      NaN      NaN   \n",
       "412         NaN      NaN      NaN   7910.0      NaN      NaN      NaN   \n",
       "412         NaN      NaN      NaN   7920.0      NaN      NaN      NaN   \n",
       "412         NaN      NaN      NaN   7920.0      NaN      NaN      NaN   \n",
       "412         NaN      NaN      NaN   7920.0   7200.0      NaN      NaN   \n",
       "\n",
       "             7450336  7450341           timestamp   period  \n",
       "measurement                                                 \n",
       "412              NaN      NaN 2019-05-23 11:03:32 00:01:03  \n",
       "412              NaN      NaN 2019-05-23 11:03:35 00:00:03  \n",
       "412              NaN      NaN 2019-05-23 11:03:38 00:00:03  \n",
       "412              NaN      NaN 2019-05-23 11:03:41 00:00:03  \n",
       "412              NaN      NaN 2019-05-23 11:03:44 00:00:03  "
      ]
     },
     "execution_count": 100,
     "metadata": {},
     "output_type": "execute_result"
    }
   ],
   "source": [
    "maus.head()"
   ]
  },
  {
   "cell_type": "code",
   "execution_count": 104,
   "metadata": {},
   "outputs": [],
   "source": [
    "bons=pd.concat([dia_interpolado, maus]).drop_duplicates(keep=False)"
   ]
  },
  {
   "cell_type": "code",
   "execution_count": 106,
   "metadata": {},
   "outputs": [
    {
     "name": "stdout",
     "output_type": "stream",
     "text": [
      "3079\n",
      "99\n",
      "2980\n"
     ]
    }
   ],
   "source": [
    "print(dia_interpolado.reset_index()['measurement'].nunique())\n",
    "print(maus.reset_index()['measurement'].nunique())\n",
    "print(bons.reset_index()['measurement'].nunique())"
   ]
  },
  {
   "cell_type": "code",
   "execution_count": 105,
   "metadata": {},
   "outputs": [
    {
     "data": {
      "text/plain": [
       "(267546, 11)"
      ]
     },
     "execution_count": 105,
     "metadata": {},
     "output_type": "execute_result"
    }
   ],
   "source": [
    "bons.shape"
   ]
  },
  {
   "cell_type": "code",
   "execution_count": 74,
   "metadata": {},
   "outputs": [
    {
     "data": {
      "text/html": [
       "<div>\n",
       "<style scoped>\n",
       "    .dataframe tbody tr th:only-of-type {\n",
       "        vertical-align: middle;\n",
       "    }\n",
       "\n",
       "    .dataframe tbody tr th {\n",
       "        vertical-align: top;\n",
       "    }\n",
       "\n",
       "    .dataframe thead th {\n",
       "        text-align: right;\n",
       "    }\n",
       "</style>\n",
       "<table border=\"1\" class=\"dataframe\">\n",
       "  <thead>\n",
       "    <tr style=\"text-align: right;\">\n",
       "      <th></th>\n",
       "      <th>0</th>\n",
       "      <th>7450332</th>\n",
       "      <th>7450333</th>\n",
       "      <th>7450339</th>\n",
       "      <th>7450340</th>\n",
       "      <th>7450338</th>\n",
       "      <th>7450337</th>\n",
       "      <th>7450336</th>\n",
       "      <th>7450341</th>\n",
       "      <th>timestamp</th>\n",
       "      <th>period</th>\n",
       "    </tr>\n",
       "    <tr>\n",
       "      <th>measurement</th>\n",
       "      <th></th>\n",
       "      <th></th>\n",
       "      <th></th>\n",
       "      <th></th>\n",
       "      <th></th>\n",
       "      <th></th>\n",
       "      <th></th>\n",
       "      <th></th>\n",
       "      <th></th>\n",
       "      <th></th>\n",
       "      <th></th>\n",
       "    </tr>\n",
       "  </thead>\n",
       "  <tbody>\n",
       "    <tr>\n",
       "      <th>2</th>\n",
       "      <td>0.0</td>\n",
       "      <td>0.0</td>\n",
       "      <td>0.0</td>\n",
       "      <td>0.0</td>\n",
       "      <td>0.0</td>\n",
       "      <td>0.0</td>\n",
       "      <td>0.0</td>\n",
       "      <td>0.0</td>\n",
       "      <td>0.0</td>\n",
       "      <td>2019-05-09 14:30:40</td>\n",
       "      <td>00:07:36</td>\n",
       "    </tr>\n",
       "    <tr>\n",
       "      <th>2</th>\n",
       "      <td>0.0</td>\n",
       "      <td>-860.0</td>\n",
       "      <td>0.0</td>\n",
       "      <td>0.0</td>\n",
       "      <td>0.0</td>\n",
       "      <td>0.0</td>\n",
       "      <td>0.0</td>\n",
       "      <td>0.0</td>\n",
       "      <td>0.0</td>\n",
       "      <td>2019-05-09 14:30:43</td>\n",
       "      <td>00:00:03</td>\n",
       "    </tr>\n",
       "    <tr>\n",
       "      <th>2</th>\n",
       "      <td>0.0</td>\n",
       "      <td>0.0</td>\n",
       "      <td>0.0</td>\n",
       "      <td>0.0</td>\n",
       "      <td>0.0</td>\n",
       "      <td>0.0</td>\n",
       "      <td>0.0</td>\n",
       "      <td>0.0</td>\n",
       "      <td>0.0</td>\n",
       "      <td>2019-05-09 14:30:46</td>\n",
       "      <td>00:00:03</td>\n",
       "    </tr>\n",
       "    <tr>\n",
       "      <th>2</th>\n",
       "      <td>0.0</td>\n",
       "      <td>10.0</td>\n",
       "      <td>0.0</td>\n",
       "      <td>0.0</td>\n",
       "      <td>0.0</td>\n",
       "      <td>0.0</td>\n",
       "      <td>0.0</td>\n",
       "      <td>0.0</td>\n",
       "      <td>0.0</td>\n",
       "      <td>2019-05-09 14:30:49</td>\n",
       "      <td>00:00:03</td>\n",
       "    </tr>\n",
       "    <tr>\n",
       "      <th>2</th>\n",
       "      <td>0.0</td>\n",
       "      <td>80.0</td>\n",
       "      <td>0.0</td>\n",
       "      <td>0.0</td>\n",
       "      <td>0.0</td>\n",
       "      <td>0.0</td>\n",
       "      <td>0.0</td>\n",
       "      <td>0.0</td>\n",
       "      <td>0.0</td>\n",
       "      <td>2019-05-09 14:30:52</td>\n",
       "      <td>00:00:03</td>\n",
       "    </tr>\n",
       "    <tr>\n",
       "      <th>2</th>\n",
       "      <td>0.0</td>\n",
       "      <td>10.0</td>\n",
       "      <td>60.0</td>\n",
       "      <td>0.0</td>\n",
       "      <td>0.0</td>\n",
       "      <td>0.0</td>\n",
       "      <td>0.0</td>\n",
       "      <td>0.0</td>\n",
       "      <td>0.0</td>\n",
       "      <td>2019-05-09 14:30:55</td>\n",
       "      <td>00:00:03</td>\n",
       "    </tr>\n",
       "    <tr>\n",
       "      <th>2</th>\n",
       "      <td>0.0</td>\n",
       "      <td>0.0</td>\n",
       "      <td>80.0</td>\n",
       "      <td>0.0</td>\n",
       "      <td>0.0</td>\n",
       "      <td>0.0</td>\n",
       "      <td>0.0</td>\n",
       "      <td>0.0</td>\n",
       "      <td>0.0</td>\n",
       "      <td>2019-05-09 14:30:58</td>\n",
       "      <td>00:00:03</td>\n",
       "    </tr>\n",
       "    <tr>\n",
       "      <th>2</th>\n",
       "      <td>0.0</td>\n",
       "      <td>10.0</td>\n",
       "      <td>40.0</td>\n",
       "      <td>10.0</td>\n",
       "      <td>10.0</td>\n",
       "      <td>0.0</td>\n",
       "      <td>0.0</td>\n",
       "      <td>0.0</td>\n",
       "      <td>0.0</td>\n",
       "      <td>2019-05-09 14:31:01</td>\n",
       "      <td>00:00:03</td>\n",
       "    </tr>\n",
       "    <tr>\n",
       "      <th>2</th>\n",
       "      <td>0.0</td>\n",
       "      <td>30.0</td>\n",
       "      <td>20.0</td>\n",
       "      <td>10.0</td>\n",
       "      <td>20.0</td>\n",
       "      <td>0.0</td>\n",
       "      <td>0.0</td>\n",
       "      <td>0.0</td>\n",
       "      <td>0.0</td>\n",
       "      <td>2019-05-09 14:31:04</td>\n",
       "      <td>00:00:03</td>\n",
       "    </tr>\n",
       "    <tr>\n",
       "      <th>2</th>\n",
       "      <td>0.0</td>\n",
       "      <td>0.0</td>\n",
       "      <td>0.0</td>\n",
       "      <td>80.0</td>\n",
       "      <td>-10.0</td>\n",
       "      <td>0.0</td>\n",
       "      <td>0.0</td>\n",
       "      <td>0.0</td>\n",
       "      <td>0.0</td>\n",
       "      <td>2019-05-09 14:31:07</td>\n",
       "      <td>00:00:03</td>\n",
       "    </tr>\n",
       "    <tr>\n",
       "      <th>2</th>\n",
       "      <td>0.0</td>\n",
       "      <td>0.0</td>\n",
       "      <td>0.0</td>\n",
       "      <td>20.0</td>\n",
       "      <td>50.0</td>\n",
       "      <td>0.0</td>\n",
       "      <td>0.0</td>\n",
       "      <td>0.0</td>\n",
       "      <td>0.0</td>\n",
       "      <td>2019-05-09 14:31:10</td>\n",
       "      <td>00:00:03</td>\n",
       "    </tr>\n",
       "    <tr>\n",
       "      <th>2</th>\n",
       "      <td>0.0</td>\n",
       "      <td>0.0</td>\n",
       "      <td>0.0</td>\n",
       "      <td>-10.0</td>\n",
       "      <td>70.0</td>\n",
       "      <td>0.0</td>\n",
       "      <td>0.0</td>\n",
       "      <td>0.0</td>\n",
       "      <td>0.0</td>\n",
       "      <td>2019-05-09 14:31:13</td>\n",
       "      <td>00:00:03</td>\n",
       "    </tr>\n",
       "    <tr>\n",
       "      <th>2</th>\n",
       "      <td>0.0</td>\n",
       "      <td>0.0</td>\n",
       "      <td>0.0</td>\n",
       "      <td>10.0</td>\n",
       "      <td>40.0</td>\n",
       "      <td>0.0</td>\n",
       "      <td>10.0</td>\n",
       "      <td>0.0</td>\n",
       "      <td>0.0</td>\n",
       "      <td>2019-05-09 14:31:16</td>\n",
       "      <td>00:00:03</td>\n",
       "    </tr>\n",
       "    <tr>\n",
       "      <th>2</th>\n",
       "      <td>0.0</td>\n",
       "      <td>0.0</td>\n",
       "      <td>0.0</td>\n",
       "      <td>20.0</td>\n",
       "      <td>0.0</td>\n",
       "      <td>50.0</td>\n",
       "      <td>10.0</td>\n",
       "      <td>0.0</td>\n",
       "      <td>0.0</td>\n",
       "      <td>2019-05-09 14:31:19</td>\n",
       "      <td>00:00:03</td>\n",
       "    </tr>\n",
       "    <tr>\n",
       "      <th>2</th>\n",
       "      <td>0.0</td>\n",
       "      <td>0.0</td>\n",
       "      <td>0.0</td>\n",
       "      <td>0.0</td>\n",
       "      <td>0.0</td>\n",
       "      <td>80.0</td>\n",
       "      <td>0.0</td>\n",
       "      <td>0.0</td>\n",
       "      <td>0.0</td>\n",
       "      <td>2019-05-09 14:31:22</td>\n",
       "      <td>00:00:03</td>\n",
       "    </tr>\n",
       "    <tr>\n",
       "      <th>2</th>\n",
       "      <td>0.0</td>\n",
       "      <td>0.0</td>\n",
       "      <td>0.0</td>\n",
       "      <td>0.0</td>\n",
       "      <td>0.0</td>\n",
       "      <td>0.0</td>\n",
       "      <td>80.0</td>\n",
       "      <td>0.0</td>\n",
       "      <td>0.0</td>\n",
       "      <td>2019-05-09 14:31:25</td>\n",
       "      <td>00:00:03</td>\n",
       "    </tr>\n",
       "    <tr>\n",
       "      <th>2</th>\n",
       "      <td>0.0</td>\n",
       "      <td>0.0</td>\n",
       "      <td>0.0</td>\n",
       "      <td>0.0</td>\n",
       "      <td>0.0</td>\n",
       "      <td>20.0</td>\n",
       "      <td>40.0</td>\n",
       "      <td>10.0</td>\n",
       "      <td>30.0</td>\n",
       "      <td>2019-05-09 14:31:28</td>\n",
       "      <td>00:00:03</td>\n",
       "    </tr>\n",
       "    <tr>\n",
       "      <th>2</th>\n",
       "      <td>0.0</td>\n",
       "      <td>0.0</td>\n",
       "      <td>0.0</td>\n",
       "      <td>0.0</td>\n",
       "      <td>0.0</td>\n",
       "      <td>0.0</td>\n",
       "      <td>0.0</td>\n",
       "      <td>70.0</td>\n",
       "      <td>-10.0</td>\n",
       "      <td>2019-05-09 14:31:31</td>\n",
       "      <td>00:00:03</td>\n",
       "    </tr>\n",
       "    <tr>\n",
       "      <th>2</th>\n",
       "      <td>0.0</td>\n",
       "      <td>0.0</td>\n",
       "      <td>0.0</td>\n",
       "      <td>0.0</td>\n",
       "      <td>0.0</td>\n",
       "      <td>0.0</td>\n",
       "      <td>0.0</td>\n",
       "      <td>0.0</td>\n",
       "      <td>0.0</td>\n",
       "      <td>2019-05-09 14:31:34</td>\n",
       "      <td>00:00:03</td>\n",
       "    </tr>\n",
       "    <tr>\n",
       "      <th>2</th>\n",
       "      <td>0.0</td>\n",
       "      <td>0.0</td>\n",
       "      <td>0.0</td>\n",
       "      <td>0.0</td>\n",
       "      <td>0.0</td>\n",
       "      <td>0.0</td>\n",
       "      <td>0.0</td>\n",
       "      <td>0.0</td>\n",
       "      <td>0.0</td>\n",
       "      <td>2019-05-09 14:31:37</td>\n",
       "      <td>00:00:03</td>\n",
       "    </tr>\n",
       "    <tr>\n",
       "      <th>2</th>\n",
       "      <td>0.0</td>\n",
       "      <td>0.0</td>\n",
       "      <td>0.0</td>\n",
       "      <td>0.0</td>\n",
       "      <td>0.0</td>\n",
       "      <td>0.0</td>\n",
       "      <td>0.0</td>\n",
       "      <td>-10.0</td>\n",
       "      <td>80.0</td>\n",
       "      <td>2019-05-09 14:31:40</td>\n",
       "      <td>00:00:03</td>\n",
       "    </tr>\n",
       "    <tr>\n",
       "      <th>2</th>\n",
       "      <td>0.0</td>\n",
       "      <td>0.0</td>\n",
       "      <td>0.0</td>\n",
       "      <td>0.0</td>\n",
       "      <td>0.0</td>\n",
       "      <td>0.0</td>\n",
       "      <td>0.0</td>\n",
       "      <td>0.0</td>\n",
       "      <td>0.0</td>\n",
       "      <td>2019-05-09 14:31:43</td>\n",
       "      <td>00:00:03</td>\n",
       "    </tr>\n",
       "    <tr>\n",
       "      <th>2</th>\n",
       "      <td>0.0</td>\n",
       "      <td>0.0</td>\n",
       "      <td>0.0</td>\n",
       "      <td>0.0</td>\n",
       "      <td>0.0</td>\n",
       "      <td>0.0</td>\n",
       "      <td>0.0</td>\n",
       "      <td>0.0</td>\n",
       "      <td>0.0</td>\n",
       "      <td>2019-05-09 14:31:46</td>\n",
       "      <td>00:00:03</td>\n",
       "    </tr>\n",
       "    <tr>\n",
       "      <th>2</th>\n",
       "      <td>0.0</td>\n",
       "      <td>0.0</td>\n",
       "      <td>0.0</td>\n",
       "      <td>0.0</td>\n",
       "      <td>0.0</td>\n",
       "      <td>0.0</td>\n",
       "      <td>0.0</td>\n",
       "      <td>0.0</td>\n",
       "      <td>0.0</td>\n",
       "      <td>2019-05-09 14:31:49</td>\n",
       "      <td>00:00:03</td>\n",
       "    </tr>\n",
       "  </tbody>\n",
       "</table>\n",
       "</div>"
      ],
      "text/plain": [
       "               0  7450332  7450333  7450339  7450340  7450338  7450337  \\\n",
       "measurement                                                              \n",
       "2            0.0      0.0      0.0      0.0      0.0      0.0      0.0   \n",
       "2            0.0   -860.0      0.0      0.0      0.0      0.0      0.0   \n",
       "2            0.0      0.0      0.0      0.0      0.0      0.0      0.0   \n",
       "2            0.0     10.0      0.0      0.0      0.0      0.0      0.0   \n",
       "2            0.0     80.0      0.0      0.0      0.0      0.0      0.0   \n",
       "2            0.0     10.0     60.0      0.0      0.0      0.0      0.0   \n",
       "2            0.0      0.0     80.0      0.0      0.0      0.0      0.0   \n",
       "2            0.0     10.0     40.0     10.0     10.0      0.0      0.0   \n",
       "2            0.0     30.0     20.0     10.0     20.0      0.0      0.0   \n",
       "2            0.0      0.0      0.0     80.0    -10.0      0.0      0.0   \n",
       "2            0.0      0.0      0.0     20.0     50.0      0.0      0.0   \n",
       "2            0.0      0.0      0.0    -10.0     70.0      0.0      0.0   \n",
       "2            0.0      0.0      0.0     10.0     40.0      0.0     10.0   \n",
       "2            0.0      0.0      0.0     20.0      0.0     50.0     10.0   \n",
       "2            0.0      0.0      0.0      0.0      0.0     80.0      0.0   \n",
       "2            0.0      0.0      0.0      0.0      0.0      0.0     80.0   \n",
       "2            0.0      0.0      0.0      0.0      0.0     20.0     40.0   \n",
       "2            0.0      0.0      0.0      0.0      0.0      0.0      0.0   \n",
       "2            0.0      0.0      0.0      0.0      0.0      0.0      0.0   \n",
       "2            0.0      0.0      0.0      0.0      0.0      0.0      0.0   \n",
       "2            0.0      0.0      0.0      0.0      0.0      0.0      0.0   \n",
       "2            0.0      0.0      0.0      0.0      0.0      0.0      0.0   \n",
       "2            0.0      0.0      0.0      0.0      0.0      0.0      0.0   \n",
       "2            0.0      0.0      0.0      0.0      0.0      0.0      0.0   \n",
       "\n",
       "             7450336  7450341           timestamp   period  \n",
       "measurement                                                 \n",
       "2                0.0      0.0 2019-05-09 14:30:40 00:07:36  \n",
       "2                0.0      0.0 2019-05-09 14:30:43 00:00:03  \n",
       "2                0.0      0.0 2019-05-09 14:30:46 00:00:03  \n",
       "2                0.0      0.0 2019-05-09 14:30:49 00:00:03  \n",
       "2                0.0      0.0 2019-05-09 14:30:52 00:00:03  \n",
       "2                0.0      0.0 2019-05-09 14:30:55 00:00:03  \n",
       "2                0.0      0.0 2019-05-09 14:30:58 00:00:03  \n",
       "2                0.0      0.0 2019-05-09 14:31:01 00:00:03  \n",
       "2                0.0      0.0 2019-05-09 14:31:04 00:00:03  \n",
       "2                0.0      0.0 2019-05-09 14:31:07 00:00:03  \n",
       "2                0.0      0.0 2019-05-09 14:31:10 00:00:03  \n",
       "2                0.0      0.0 2019-05-09 14:31:13 00:00:03  \n",
       "2                0.0      0.0 2019-05-09 14:31:16 00:00:03  \n",
       "2                0.0      0.0 2019-05-09 14:31:19 00:00:03  \n",
       "2                0.0      0.0 2019-05-09 14:31:22 00:00:03  \n",
       "2                0.0      0.0 2019-05-09 14:31:25 00:00:03  \n",
       "2               10.0     30.0 2019-05-09 14:31:28 00:00:03  \n",
       "2               70.0    -10.0 2019-05-09 14:31:31 00:00:03  \n",
       "2                0.0      0.0 2019-05-09 14:31:34 00:00:03  \n",
       "2                0.0      0.0 2019-05-09 14:31:37 00:00:03  \n",
       "2              -10.0     80.0 2019-05-09 14:31:40 00:00:03  \n",
       "2                0.0      0.0 2019-05-09 14:31:43 00:00:03  \n",
       "2                0.0      0.0 2019-05-09 14:31:46 00:00:03  \n",
       "2                0.0      0.0 2019-05-09 14:31:49 00:00:03  "
      ]
     },
     "execution_count": 74,
     "metadata": {},
     "output_type": "execute_result"
    }
   ],
   "source": [
    "dia_interpolado.loc[2]"
   ]
  },
  {
   "cell_type": "code",
   "execution_count": 72,
   "metadata": {},
   "outputs": [
    {
     "data": {
      "text/html": [
       "<div>\n",
       "<style scoped>\n",
       "    .dataframe tbody tr th:only-of-type {\n",
       "        vertical-align: middle;\n",
       "    }\n",
       "\n",
       "    .dataframe tbody tr th {\n",
       "        vertical-align: top;\n",
       "    }\n",
       "\n",
       "    .dataframe thead th {\n",
       "        text-align: right;\n",
       "    }\n",
       "</style>\n",
       "<table border=\"1\" class=\"dataframe\">\n",
       "  <thead>\n",
       "    <tr style=\"text-align: right;\">\n",
       "      <th></th>\n",
       "      <th>0</th>\n",
       "      <th>7450332</th>\n",
       "      <th>7450333</th>\n",
       "      <th>7450339</th>\n",
       "      <th>7450340</th>\n",
       "      <th>7450338</th>\n",
       "      <th>7450337</th>\n",
       "      <th>7450336</th>\n",
       "      <th>7450341</th>\n",
       "      <th>timestamp</th>\n",
       "      <th>period</th>\n",
       "    </tr>\n",
       "    <tr>\n",
       "      <th>measurement</th>\n",
       "      <th></th>\n",
       "      <th></th>\n",
       "      <th></th>\n",
       "      <th></th>\n",
       "      <th></th>\n",
       "      <th></th>\n",
       "      <th></th>\n",
       "      <th></th>\n",
       "      <th></th>\n",
       "      <th></th>\n",
       "      <th></th>\n",
       "    </tr>\n",
       "  </thead>\n",
       "  <tbody>\n",
       "    <tr>\n",
       "      <th>2</th>\n",
       "      <td>1</td>\n",
       "      <td>5</td>\n",
       "      <td>5</td>\n",
       "      <td>5</td>\n",
       "      <td>7</td>\n",
       "      <td>4</td>\n",
       "      <td>4</td>\n",
       "      <td>4</td>\n",
       "      <td>4</td>\n",
       "      <td>24</td>\n",
       "      <td>2</td>\n",
       "    </tr>\n",
       "    <tr>\n",
       "      <th>8</th>\n",
       "      <td>1</td>\n",
       "      <td>6</td>\n",
       "      <td>5</td>\n",
       "      <td>5</td>\n",
       "      <td>4</td>\n",
       "      <td>4</td>\n",
       "      <td>5</td>\n",
       "      <td>5</td>\n",
       "      <td>5</td>\n",
       "      <td>21</td>\n",
       "      <td>4</td>\n",
       "    </tr>\n",
       "    <tr>\n",
       "      <th>22</th>\n",
       "      <td>1</td>\n",
       "      <td>6</td>\n",
       "      <td>7</td>\n",
       "      <td>20</td>\n",
       "      <td>17</td>\n",
       "      <td>17</td>\n",
       "      <td>19</td>\n",
       "      <td>12</td>\n",
       "      <td>15</td>\n",
       "      <td>72</td>\n",
       "      <td>5</td>\n",
       "    </tr>\n",
       "    <tr>\n",
       "      <th>23</th>\n",
       "      <td>1</td>\n",
       "      <td>5</td>\n",
       "      <td>7</td>\n",
       "      <td>9</td>\n",
       "      <td>8</td>\n",
       "      <td>8</td>\n",
       "      <td>11</td>\n",
       "      <td>7</td>\n",
       "      <td>8</td>\n",
       "      <td>68</td>\n",
       "      <td>3</td>\n",
       "    </tr>\n",
       "    <tr>\n",
       "      <th>24</th>\n",
       "      <td>1</td>\n",
       "      <td>16</td>\n",
       "      <td>16</td>\n",
       "      <td>19</td>\n",
       "      <td>18</td>\n",
       "      <td>20</td>\n",
       "      <td>20</td>\n",
       "      <td>19</td>\n",
       "      <td>21</td>\n",
       "      <td>22</td>\n",
       "      <td>2</td>\n",
       "    </tr>\n",
       "    <tr>\n",
       "      <th>...</th>\n",
       "      <td>...</td>\n",
       "      <td>...</td>\n",
       "      <td>...</td>\n",
       "      <td>...</td>\n",
       "      <td>...</td>\n",
       "      <td>...</td>\n",
       "      <td>...</td>\n",
       "      <td>...</td>\n",
       "      <td>...</td>\n",
       "      <td>...</td>\n",
       "      <td>...</td>\n",
       "    </tr>\n",
       "    <tr>\n",
       "      <th>13071</th>\n",
       "      <td>1</td>\n",
       "      <td>3</td>\n",
       "      <td>3</td>\n",
       "      <td>3</td>\n",
       "      <td>3</td>\n",
       "      <td>6</td>\n",
       "      <td>5</td>\n",
       "      <td>4</td>\n",
       "      <td>5</td>\n",
       "      <td>27</td>\n",
       "      <td>2</td>\n",
       "    </tr>\n",
       "    <tr>\n",
       "      <th>13075</th>\n",
       "      <td>1</td>\n",
       "      <td>6</td>\n",
       "      <td>4</td>\n",
       "      <td>3</td>\n",
       "      <td>4</td>\n",
       "      <td>3</td>\n",
       "      <td>3</td>\n",
       "      <td>3</td>\n",
       "      <td>3</td>\n",
       "      <td>13</td>\n",
       "      <td>2</td>\n",
       "    </tr>\n",
       "    <tr>\n",
       "      <th>13076</th>\n",
       "      <td>1</td>\n",
       "      <td>28</td>\n",
       "      <td>25</td>\n",
       "      <td>32</td>\n",
       "      <td>32</td>\n",
       "      <td>32</td>\n",
       "      <td>32</td>\n",
       "      <td>21</td>\n",
       "      <td>19</td>\n",
       "      <td>122</td>\n",
       "      <td>4</td>\n",
       "    </tr>\n",
       "    <tr>\n",
       "      <th>13085</th>\n",
       "      <td>1</td>\n",
       "      <td>35</td>\n",
       "      <td>36</td>\n",
       "      <td>37</td>\n",
       "      <td>36</td>\n",
       "      <td>31</td>\n",
       "      <td>29</td>\n",
       "      <td>15</td>\n",
       "      <td>14</td>\n",
       "      <td>86</td>\n",
       "      <td>3</td>\n",
       "    </tr>\n",
       "    <tr>\n",
       "      <th>13097</th>\n",
       "      <td>1</td>\n",
       "      <td>5</td>\n",
       "      <td>3</td>\n",
       "      <td>3</td>\n",
       "      <td>3</td>\n",
       "      <td>4</td>\n",
       "      <td>4</td>\n",
       "      <td>4</td>\n",
       "      <td>4</td>\n",
       "      <td>10</td>\n",
       "      <td>2</td>\n",
       "    </tr>\n",
       "  </tbody>\n",
       "</table>\n",
       "<p>3079 rows × 11 columns</p>\n",
       "</div>"
      ],
      "text/plain": [
       "             0  7450332  7450333  7450339  7450340  7450338  7450337  7450336  \\\n",
       "measurement                                                                     \n",
       "2            1        5        5        5        7        4        4        4   \n",
       "8            1        6        5        5        4        4        5        5   \n",
       "22           1        6        7       20       17       17       19       12   \n",
       "23           1        5        7        9        8        8       11        7   \n",
       "24           1       16       16       19       18       20       20       19   \n",
       "...         ..      ...      ...      ...      ...      ...      ...      ...   \n",
       "13071        1        3        3        3        3        6        5        4   \n",
       "13075        1        6        4        3        4        3        3        3   \n",
       "13076        1       28       25       32       32       32       32       21   \n",
       "13085        1       35       36       37       36       31       29       15   \n",
       "13097        1        5        3        3        3        4        4        4   \n",
       "\n",
       "             7450341  timestamp  period  \n",
       "measurement                              \n",
       "2                  4         24       2  \n",
       "8                  5         21       4  \n",
       "22                15         72       5  \n",
       "23                 8         68       3  \n",
       "24                21         22       2  \n",
       "...              ...        ...     ...  \n",
       "13071              5         27       2  \n",
       "13075              3         13       2  \n",
       "13076             19        122       4  \n",
       "13085             14         86       3  \n",
       "13097              4         10       2  \n",
       "\n",
       "[3079 rows x 11 columns]"
      ]
     },
     "execution_count": 72,
     "metadata": {},
     "output_type": "execute_result"
    }
   ],
   "source": [
    "dia_interpolado.groupby('measurement').nunique()"
   ]
  },
  {
   "cell_type": "code",
   "execution_count": 62,
   "metadata": {},
   "outputs": [
    {
     "data": {
      "text/plain": [
       "0              0\n",
       "7450332        1\n",
       "7450333        1\n",
       "7450339        3\n",
       "7450340        0\n",
       "7450338        0\n",
       "7450337        1\n",
       "7450336        2\n",
       "7450341        2\n",
       "timestamp    641\n",
       "period         9\n",
       "dtype: int64"
      ]
     },
     "execution_count": 62,
     "metadata": {},
     "output_type": "execute_result"
    }
   ],
   "source": [
    "diacerto.nunique()"
   ]
  },
  {
   "cell_type": "code",
   "execution_count": 109,
   "metadata": {},
   "outputs": [
    {
     "data": {
      "text/plain": [
       "<matplotlib.legend.Legend at 0x7ff8c50562b0>"
      ]
     },
     "execution_count": 109,
     "metadata": {},
     "output_type": "execute_result"
    },
    {
     "name": "stderr",
     "output_type": "stream",
     "text": [
      "/usr/local/lib/python3.6/dist-packages/IPython/core/events.py:88: UserWarning: Creating legend with loc=\"best\" can be slow with large amounts of data.\n",
      "  func(*args, **kwargs)\n",
      "/usr/local/lib/python3.6/dist-packages/IPython/core/pylabtools.py:128: UserWarning: Creating legend with loc=\"best\" can be slow with large amounts of data.\n",
      "  fig.canvas.print_figure(bytes_io, **kw)\n"
     ]
    },
    {
     "data": {
      "image/png": "[encoded data removed]",
      "text/plain": [
       "<Figure size 1440x720 with 1 Axes>"
      ]
     },
     "metadata": {
      "needs_background": "light"
     },
     "output_type": "display_data"
    }
   ],
   "source": [
    "import matplotlib.pyplot as plt\n",
    "\n",
    "plt.figure(figsize=(20,10))\n",
    "plt.plot(bons.timestamp, bons[['7450332','7450333','7450339','7450340','7450338','7450337','7450336','7450341']])#, 'g')\n",
    "plt.legend(['7450332','7450333','7450339','7450340','7450338','7450337','7450336','7450341'])"
   ]
  },
  {
   "cell_type": "code",
   "execution_count": 111,
   "metadata": {},
   "outputs": [
    {
     "data": {
      "text/plain": [
       "<matplotlib.legend.Legend at 0x7ff8c527f9e8>"
      ]
     },
     "execution_count": 111,
     "metadata": {},
     "output_type": "execute_result"
    },
    {
     "data": {
      "image/png": "[encoded data removed]",
      "text/plain": [
       "<Figure size 1440x720 with 1 Axes>"
      ]
     },
     "metadata": {
      "needs_background": "light"
     },
     "output_type": "display_data"
    }
   ],
   "source": [
    "import matplotlib.pyplot as plt\n",
    "\n",
    "plt.figure(figsize=(20,10))\n",
    "plt.plot(diacerto2.timestamp, diacerto[['7450332','7450333','7450339','7450340','7450338','7450337','7450336','7450341']])#, 'g')\n",
    "plt.legend(['7450332','7450333','7450339','7450340','7450338','7450337','7450336','7450341'])"
   ]
  },
  {
   "cell_type": "code",
   "execution_count": 44,
   "metadata": {},
   "outputs": [
    {
     "data": {
      "text/plain": [
       "<matplotlib.legend.Legend at 0x7ff89ad1a668>"
      ]
     },
     "execution_count": 44,
     "metadata": {},
     "output_type": "execute_result"
    },
    {
     "data": {
      "image/png": "[encoded data removed]",
      "text/plain": [
       "<Figure size 1440x720 with 1 Axes>"
      ]
     },
     "metadata": {
      "needs_background": "light"
     },
     "output_type": "display_data"
    }
   ],
   "source": [
    "import matplotlib.pyplot as plt\n",
    "\n",
    "plt.figure(figsize=(20,10))\n",
    "plt.plot(diacerto.timestamp, diacerto[['7450332','7450333','7450339','7450340','7450338','7450337','7450336','7450341']])#, 'g')\n",
    "plt.legend(['7450332','7450333','7450339','7450340','7450338','7450337','7450336','7450341'])"
   ]
  },
  {
   "cell_type": "code",
   "execution_count": 45,
   "metadata": {},
   "outputs": [
    {
     "data": {
      "text/html": [
       "<div>\n",
       "<style scoped>\n",
       "    .dataframe tbody tr th:only-of-type {\n",
       "        vertical-align: middle;\n",
       "    }\n",
       "\n",
       "    .dataframe tbody tr th {\n",
       "        vertical-align: top;\n",
       "    }\n",
       "\n",
       "    .dataframe thead th {\n",
       "        text-align: right;\n",
       "    }\n",
       "</style>\n",
       "<table border=\"1\" class=\"dataframe\">\n",
       "  <thead>\n",
       "    <tr style=\"text-align: right;\">\n",
       "      <th></th>\n",
       "      <th>0</th>\n",
       "      <th>7450332</th>\n",
       "      <th>7450333</th>\n",
       "      <th>7450339</th>\n",
       "      <th>7450340</th>\n",
       "      <th>7450338</th>\n",
       "      <th>7450337</th>\n",
       "      <th>7450336</th>\n",
       "      <th>7450341</th>\n",
       "      <th>timestamp</th>\n",
       "      <th>period</th>\n",
       "    </tr>\n",
       "    <tr>\n",
       "      <th>measurement</th>\n",
       "      <th></th>\n",
       "      <th></th>\n",
       "      <th></th>\n",
       "      <th></th>\n",
       "      <th></th>\n",
       "      <th></th>\n",
       "      <th></th>\n",
       "      <th></th>\n",
       "      <th></th>\n",
       "      <th></th>\n",
       "      <th></th>\n",
       "    </tr>\n",
       "  </thead>\n",
       "  <tbody>\n",
       "    <tr>\n",
       "      <th>9377</th>\n",
       "      <td>NaN</td>\n",
       "      <td>NaN</td>\n",
       "      <td>NaN</td>\n",
       "      <td>NaN</td>\n",
       "      <td>NaN</td>\n",
       "      <td>NaN</td>\n",
       "      <td>NaN</td>\n",
       "      <td>0.0</td>\n",
       "      <td>NaN</td>\n",
       "      <td>2020-04-10 12:58:08</td>\n",
       "      <td>00:10:15</td>\n",
       "    </tr>\n",
       "    <tr>\n",
       "      <th>9377</th>\n",
       "      <td>NaN</td>\n",
       "      <td>NaN</td>\n",
       "      <td>NaN</td>\n",
       "      <td>NaN</td>\n",
       "      <td>NaN</td>\n",
       "      <td>NaN</td>\n",
       "      <td>NaN</td>\n",
       "      <td>0.0</td>\n",
       "      <td>NaN</td>\n",
       "      <td>2020-04-10 12:58:14</td>\n",
       "      <td>00:00:06</td>\n",
       "    </tr>\n",
       "    <tr>\n",
       "      <th>9377</th>\n",
       "      <td>NaN</td>\n",
       "      <td>NaN</td>\n",
       "      <td>NaN</td>\n",
       "      <td>NaN</td>\n",
       "      <td>NaN</td>\n",
       "      <td>NaN</td>\n",
       "      <td>NaN</td>\n",
       "      <td>0.0</td>\n",
       "      <td>NaN</td>\n",
       "      <td>2020-04-10 12:58:23</td>\n",
       "      <td>00:00:09</td>\n",
       "    </tr>\n",
       "    <tr>\n",
       "      <th>9377</th>\n",
       "      <td>NaN</td>\n",
       "      <td>NaN</td>\n",
       "      <td>NaN</td>\n",
       "      <td>NaN</td>\n",
       "      <td>NaN</td>\n",
       "      <td>NaN</td>\n",
       "      <td>NaN</td>\n",
       "      <td>0.0</td>\n",
       "      <td>NaN</td>\n",
       "      <td>2020-04-10 12:58:47</td>\n",
       "      <td>00:00:24</td>\n",
       "    </tr>\n",
       "    <tr>\n",
       "      <th>9377</th>\n",
       "      <td>NaN</td>\n",
       "      <td>NaN</td>\n",
       "      <td>NaN</td>\n",
       "      <td>NaN</td>\n",
       "      <td>NaN</td>\n",
       "      <td>NaN</td>\n",
       "      <td>NaN</td>\n",
       "      <td>0.0</td>\n",
       "      <td>NaN</td>\n",
       "      <td>2020-04-10 12:58:47</td>\n",
       "      <td>00:00:00</td>\n",
       "    </tr>\n",
       "    <tr>\n",
       "      <th>...</th>\n",
       "      <td>...</td>\n",
       "      <td>...</td>\n",
       "      <td>...</td>\n",
       "      <td>...</td>\n",
       "      <td>...</td>\n",
       "      <td>...</td>\n",
       "      <td>...</td>\n",
       "      <td>...</td>\n",
       "      <td>...</td>\n",
       "      <td>...</td>\n",
       "      <td>...</td>\n",
       "    </tr>\n",
       "    <tr>\n",
       "      <th>9377</th>\n",
       "      <td>NaN</td>\n",
       "      <td>NaN</td>\n",
       "      <td>NaN</td>\n",
       "      <td>30.0</td>\n",
       "      <td>NaN</td>\n",
       "      <td>NaN</td>\n",
       "      <td>NaN</td>\n",
       "      <td>-10.0</td>\n",
       "      <td>-10.0</td>\n",
       "      <td>2020-04-10 13:32:35</td>\n",
       "      <td>00:00:00</td>\n",
       "    </tr>\n",
       "    <tr>\n",
       "      <th>9377</th>\n",
       "      <td>NaN</td>\n",
       "      <td>NaN</td>\n",
       "      <td>NaN</td>\n",
       "      <td>30.0</td>\n",
       "      <td>NaN</td>\n",
       "      <td>NaN</td>\n",
       "      <td>NaN</td>\n",
       "      <td>-10.0</td>\n",
       "      <td>-10.0</td>\n",
       "      <td>2020-04-10 13:32:38</td>\n",
       "      <td>00:00:03</td>\n",
       "    </tr>\n",
       "    <tr>\n",
       "      <th>9377</th>\n",
       "      <td>NaN</td>\n",
       "      <td>NaN</td>\n",
       "      <td>NaN</td>\n",
       "      <td>30.0</td>\n",
       "      <td>NaN</td>\n",
       "      <td>NaN</td>\n",
       "      <td>NaN</td>\n",
       "      <td>-10.0</td>\n",
       "      <td>-10.0</td>\n",
       "      <td>2020-04-10 13:32:38</td>\n",
       "      <td>00:00:00</td>\n",
       "    </tr>\n",
       "    <tr>\n",
       "      <th>9377</th>\n",
       "      <td>NaN</td>\n",
       "      <td>0.0</td>\n",
       "      <td>0.0</td>\n",
       "      <td>0.0</td>\n",
       "      <td>NaN</td>\n",
       "      <td>NaN</td>\n",
       "      <td>0.0</td>\n",
       "      <td>0.0</td>\n",
       "      <td>0.0</td>\n",
       "      <td>2020-04-10 13:32:41</td>\n",
       "      <td>00:00:03</td>\n",
       "    </tr>\n",
       "    <tr>\n",
       "      <th>9377</th>\n",
       "      <td>NaN</td>\n",
       "      <td>0.0</td>\n",
       "      <td>0.0</td>\n",
       "      <td>0.0</td>\n",
       "      <td>NaN</td>\n",
       "      <td>NaN</td>\n",
       "      <td>0.0</td>\n",
       "      <td>0.0</td>\n",
       "      <td>0.0</td>\n",
       "      <td>2020-04-10 13:32:41</td>\n",
       "      <td>00:00:00</td>\n",
       "    </tr>\n",
       "  </tbody>\n",
       "</table>\n",
       "<p>650 rows × 11 columns</p>\n",
       "</div>"
      ],
      "text/plain": [
       "              0  7450332  7450333  7450339  7450340  7450338  7450337  \\\n",
       "measurement                                                             \n",
       "9377        NaN      NaN      NaN      NaN      NaN      NaN      NaN   \n",
       "9377        NaN      NaN      NaN      NaN      NaN      NaN      NaN   \n",
       "9377        NaN      NaN      NaN      NaN      NaN      NaN      NaN   \n",
       "9377        NaN      NaN      NaN      NaN      NaN      NaN      NaN   \n",
       "9377        NaN      NaN      NaN      NaN      NaN      NaN      NaN   \n",
       "...          ..      ...      ...      ...      ...      ...      ...   \n",
       "9377        NaN      NaN      NaN     30.0      NaN      NaN      NaN   \n",
       "9377        NaN      NaN      NaN     30.0      NaN      NaN      NaN   \n",
       "9377        NaN      NaN      NaN     30.0      NaN      NaN      NaN   \n",
       "9377        NaN      0.0      0.0      0.0      NaN      NaN      0.0   \n",
       "9377        NaN      0.0      0.0      0.0      NaN      NaN      0.0   \n",
       "\n",
       "             7450336  7450341           timestamp   period  \n",
       "measurement                                                 \n",
       "9377             0.0      NaN 2020-04-10 12:58:08 00:10:15  \n",
       "9377             0.0      NaN 2020-04-10 12:58:14 00:00:06  \n",
       "9377             0.0      NaN 2020-04-10 12:58:23 00:00:09  \n",
       "9377             0.0      NaN 2020-04-10 12:58:47 00:00:24  \n",
       "9377             0.0      NaN 2020-04-10 12:58:47 00:00:00  \n",
       "...              ...      ...                 ...      ...  \n",
       "9377           -10.0    -10.0 2020-04-10 13:32:35 00:00:00  \n",
       "9377           -10.0    -10.0 2020-04-10 13:32:38 00:00:03  \n",
       "9377           -10.0    -10.0 2020-04-10 13:32:38 00:00:00  \n",
       "9377             0.0      0.0 2020-04-10 13:32:41 00:00:03  \n",
       "9377             0.0      0.0 2020-04-10 13:32:41 00:00:00  \n",
       "\n",
       "[650 rows x 11 columns]"
      ]
     },
     "execution_count": 45,
     "metadata": {},
     "output_type": "execute_result"
    }
   ],
   "source": [
    "diacerto"
   ]
  },
  {
   "cell_type": "code",
   "execution_count": null,
   "metadata": {},
   "outputs": [],
   "source": []
  },
  {
   "cell_type": "markdown",
   "metadata": {},
   "source": [
    "### 5) filter nan measurments?"
   ]
  },
  {
   "cell_type": "markdown",
   "metadata": {},
   "source": [
    "### 6)  ver"
   ]
  },
  {
   "cell_type": "code",
   "execution_count": null,
   "metadata": {},
   "outputs": [],
   "source": [
    "filtrado[filtrado.measurement== 8395]"
   ]
  },
  {
   "cell_type": "code",
   "execution_count": null,
   "metadata": {},
   "outputs": [],
   "source": [
    "y = pd.get_dummies(filtrado[['cellSerialNumber_0','cellSerialNumber_1','cellSerialNumber_2','cellSerialNumber_3','cellSerialNumber_4','cellSerialNumber_5','cellSerialNumber_6','cellSerialNumber_7']], prefix='', prefix_sep='')"
   ]
  },
  {
   "cell_type": "code",
   "execution_count": null,
   "metadata": {},
   "outputs": [],
   "source": [
    "substituir=y.groupby(y.columns, axis=1).sum()\n",
    "substituir=substituir[['0','7450332','7450333','7450339','7450340','7450338','7450337','7450336','7450341']]\n",
    "substituir"
   ]
  },
  {
   "cell_type": "code",
   "execution_count": null,
   "metadata": {},
   "outputs": [],
   "source": [
    "substituir=substituir[['0','7450332','7450333','7450339','7450340','7450338','7450337','7450336','7450341']]"
   ]
  },
  {
   "cell_type": "code",
   "execution_count": null,
   "metadata": {},
   "outputs": [],
   "source": []
  },
  {
   "cell_type": "code",
   "execution_count": null,
   "metadata": {},
   "outputs": [],
   "source": [
    "filtrado=experiencia[experiencia.measurement == 952]"
   ]
  },
  {
   "cell_type": "code",
   "execution_count": null,
   "metadata": {},
   "outputs": [],
   "source": [
    "teste=ordenado[ordenado.measurement == 30715]\n",
    "teste.head(3)"
   ]
  },
  {
   "cell_type": "code",
   "execution_count": null,
   "metadata": {},
   "outputs": [],
   "source": [
    "teste2=ordenado[ordenado.measurement == 10508]\n",
    "teste2.head(3)"
   ]
  },
  {
   "cell_type": "code",
   "execution_count": null,
   "metadata": {},
   "outputs": [],
   "source": [
    "teste3=ordenado[ordenado.measurement == 4024]\n",
    "teste3.head(3)"
   ]
  },
  {
   "cell_type": "code",
   "execution_count": null,
   "metadata": {},
   "outputs": [],
   "source": [
    "teste.cellWeight_0.value_counts()"
   ]
  },
  {
   "cell_type": "code",
   "execution_count": null,
   "metadata": {},
   "outputs": [],
   "source": [
    "teste2.cellSerialNumber_0.value_counts()"
   ]
  },
  {
   "cell_type": "code",
   "execution_count": null,
   "metadata": {},
   "outputs": [],
   "source": [
    "teste2.cellWeight_0.value_counts()"
   ]
  },
  {
   "cell_type": "code",
   "execution_count": null,
   "metadata": {},
   "outputs": [],
   "source": [
    "import matplotlib.pyplot as plt\n",
    "\n",
    "plt.figure(figsize=(20,3))\n",
    "plt.plot(teste.timestamp, teste.cellWeight_0)"
   ]
  },
  {
   "cell_type": "code",
   "execution_count": null,
   "metadata": {},
   "outputs": [],
   "source": [
    "import matplotlib.pyplot as plt\n",
    "\n",
    "plt.figure(figsize=(20,3))\n",
    "plt.plot(teste2.timestamp, teste2.cellWeight_0)"
   ]
  },
  {
   "cell_type": "markdown",
   "metadata": {},
   "source": [
    "consideraçoes:\n",
    "- claro problema de mediçoes com valores estagnados\n",
    "- se nan e resultado de nao variar, pq e que nao varia tem imensos nan??\n",
    "\n",
    "- ainda nao ocorreu interpolação... \n",
    "- dentro da mediçao de cell0 a celula foi morrendo e outras ficaraam no seu lugar!"
   ]
  },
  {
   "cell_type": "code",
   "execution_count": null,
   "metadata": {},
   "outputs": [],
   "source": [
    "teste.period.value_counts()"
   ]
  },
  {
   "cell_type": "code",
   "execution_count": null,
   "metadata": {
    "scrolled": true
   },
   "outputs": [],
   "source": [
    "teste"
   ]
  },
  {
   "cell_type": "code",
   "execution_count": null,
   "metadata": {},
   "outputs": [],
   "source": [
    "ordenado.head(2)"
   ]
  },
  {
   "cell_type": "code",
   "execution_count": null,
   "metadata": {},
   "outputs": [],
   "source": [
    "y = pd.get_dummies(ordenado[['cellSerialNumber_0','cellSerialNumber_1','cellSerialNumber_2','cellSerialNumber_3','cellSerialNumber_4','cellSerialNumber_5','cellSerialNumber_6','cellSerialNumber_7']], prefix='', prefix_sep='')"
   ]
  },
  {
   "cell_type": "code",
   "execution_count": null,
   "metadata": {
    "scrolled": true
   },
   "outputs": [],
   "source": [
    "substituir=y.groupby(y.columns, axis=1).sum()\n",
    "substituir"
   ]
  },
  {
   "cell_type": "code",
   "execution_count": null,
   "metadata": {},
   "outputs": [],
   "source": [
    "substituir['0'].max()"
   ]
  },
  {
   "cell_type": "markdown",
   "metadata": {},
   "source": [
    "## ORDEM 7450332\t7450333\t7450339\t7450340\t7450338\t7450337\t7450336\t7450341\n"
   ]
  },
  {
   "cell_type": "code",
   "execution_count": null,
   "metadata": {},
   "outputs": [],
   "source": [
    "substituir=substituir[['0','7450332','7450333','7450339','7450340','7450338','7450337','7450336','7450341']]\n",
    "#frame = frame[['column I want first', 'column I want second'...etc.]]"
   ]
  },
  {
   "cell_type": "code",
   "execution_count": null,
   "metadata": {},
   "outputs": [],
   "source": [
    "substituir"
   ]
  },
  {
   "cell_type": "code",
   "execution_count": null,
   "metadata": {},
   "outputs": [],
   "source": [
    "substituir2=substituir"
   ]
  },
  {
   "cell_type": "markdown",
   "metadata": {},
   "source": [
    "substituir2[substituir.columns[1]][1]"
   ]
  },
  {
   "cell_type": "markdown",
   "metadata": {},
   "source": [
    "ordenado['cellSerialNumber_'+str(0)][1]"
   ]
  },
  {
   "cell_type": "code",
   "execution_count": null,
   "metadata": {},
   "outputs": [],
   "source": [
    "substituir[['7450332','7450333','7450339','7450340','7450338','7450337','7450336','7450341']]=np.nan"
   ]
  },
  {
   "cell_type": "code",
   "execution_count": null,
   "metadata": {},
   "outputs": [],
   "source": [
    "substituir"
   ]
  },
  {
   "cell_type": "code",
   "execution_count": null,
   "metadata": {},
   "outputs": [],
   "source": [
    "substituir.isnull().sum()"
   ]
  },
  {
   "cell_type": "code",
   "execution_count": null,
   "metadata": {},
   "outputs": [],
   "source": [
    "for i in range(ordenado.shape[0]):\n",
    "    for cell in range(8):\n",
    "        if ordenado['cellSerialNumber_'+str(cell)][i]==substituir.columns[cell+1]:\n",
    "            #print(ordenado['cellSerialNumber_'+str(cell)][i])\n",
    "            #print(ordenado['cellWeight_'+str(cell)][i])\n",
    "            substituir2[substituir.columns[cell+1]][i]=ordenado['cellWeight_'+str(cell)][i]"
   ]
  },
  {
   "cell_type": "code",
   "execution_count": null,
   "metadata": {},
   "outputs": [],
   "source": [
    "substituir2"
   ]
  },
  {
   "cell_type": "code",
   "execution_count": null,
   "metadata": {},
   "outputs": [],
   "source": [
    "substituir2#.to_csv('data_replaced_temp.csv')"
   ]
  },
  {
   "cell_type": "code",
   "execution_count": null,
   "metadata": {},
   "outputs": [],
   "source": [
    "subtituir_plus= pd.concat([substituir2, ordenado[['timestamp','period','measurement']]], axis=1, sort=False)"
   ]
  },
  {
   "cell_type": "code",
   "execution_count": null,
   "metadata": {},
   "outputs": [],
   "source": [
    "subtituir_plus#.to_csv('data_replaced_temp_c_time.csv')"
   ]
  },
  {
   "cell_type": "code",
   "execution_count": null,
   "metadata": {},
   "outputs": [],
   "source": [
    "subtituir_plus= pd.concat([substituir2, ordenado[['timestamp','period','measurement']]], axis=1, sort=False)"
   ]
  },
  {
   "cell_type": "code",
   "execution_count": null,
   "metadata": {},
   "outputs": [],
   "source": [
    "subtituir_plus"
   ]
  },
  {
   "cell_type": "code",
   "execution_count": null,
   "metadata": {},
   "outputs": [],
   "source": [
    "subtituir_plus.isnull().sum()"
   ]
  },
  {
   "cell_type": "markdown",
   "metadata": {},
   "source": [
    "### fill com base na pesagem"
   ]
  },
  {
   "cell_type": "code",
   "execution_count": null,
   "metadata": {},
   "outputs": [],
   "source": [
    "subtituir_plus_pesagem=subtituir_plus.set_index('measurement')"
   ]
  },
  {
   "cell_type": "code",
   "execution_count": null,
   "metadata": {},
   "outputs": [],
   "source": [
    "subtituir_plus_pesagem.head()"
   ]
  },
  {
   "cell_type": "code",
   "execution_count": null,
   "metadata": {},
   "outputs": [],
   "source": [
    "subtituir_plus.shape"
   ]
  },
  {
   "cell_type": "markdown",
   "metadata": {},
   "source": [
    "dia_interpolado=subtituir_plus.groupby('measurement')\n",
    "dia_interpolado.head()"
   ]
  },
  {
   "cell_type": "code",
   "execution_count": null,
   "metadata": {},
   "outputs": [],
   "source": [
    "dia_interpolado=subtituir_plus.groupby('measurement').fillna(method='ffill')\n",
    "dia_interpolado['measurement']=subtituir_plus['measurement']\n",
    "dia_interpolado=dia_interpolado.set_index('measurement')"
   ]
  },
  {
   "cell_type": "code",
   "execution_count": null,
   "metadata": {},
   "outputs": [],
   "source": [
    "dia_interpolado#.to_csv('data_replaced.csv') #=subtituir_plus.groupby('measurement').fillna(method='ffill')"
   ]
  },
  {
   "cell_type": "code",
   "execution_count": null,
   "metadata": {},
   "outputs": [],
   "source": []
  },
  {
   "cell_type": "code",
   "execution_count": null,
   "metadata": {},
   "outputs": [],
   "source": [
    "teste=dia_interpolado.loc[30715]#[dia_interpolado.measurement == 30715]"
   ]
  },
  {
   "cell_type": "code",
   "execution_count": null,
   "metadata": {},
   "outputs": [],
   "source": [
    "teste"
   ]
  },
  {
   "cell_type": "markdown",
   "metadata": {},
   "source": [
    "Pessimo\n",
    "- nao tem 6 celulas\n",
    "- uma delas so -10"
   ]
  },
  {
   "cell_type": "code",
   "execution_count": null,
   "metadata": {},
   "outputs": [],
   "source": [
    "data_com_todos=dia_interpolado[dia_interpolado['0']==0]"
   ]
  },
  {
   "cell_type": "code",
   "execution_count": null,
   "metadata": {},
   "outputs": [],
   "source": [
    "data_com_todos"
   ]
  },
  {
   "cell_type": "code",
   "execution_count": null,
   "metadata": {},
   "outputs": [],
   "source": [
    "data_com_todos.reset_index().measurement.nunique()"
   ]
  },
  {
   "cell_type": "code",
   "execution_count": null,
   "metadata": {},
   "outputs": [],
   "source": [
    "data_com_todos.reset_index().measurement.value_counts()"
   ]
  },
  {
   "cell_type": "code",
   "execution_count": null,
   "metadata": {},
   "outputs": [],
   "source": [
    "data_com_todos.loc[10508]"
   ]
  },
  {
   "cell_type": "code",
   "execution_count": null,
   "metadata": {},
   "outputs": [],
   "source": [
    "dia10=data_com_todos.loc[10508]"
   ]
  },
  {
   "cell_type": "code",
   "execution_count": null,
   "metadata": {
    "scrolled": false
   },
   "outputs": [],
   "source": [
    "import matplotlib.pyplot as plt\n",
    "\n",
    "plt.figure(figsize=(20,10))\n",
    "#plt.xlim=((2000, 6000))\n",
    "\n",
    "#plt.plot(dia102.timestamp, dia102.cellWeight_0, 'r')\n",
    "plt.plot(dia10.timestamp, dia10[['7450332','7450333','7450339','7450340','7450338','7450337','7450336','7450341']])#, 'g')"
   ]
  },
  {
   "cell_type": "code",
   "execution_count": null,
   "metadata": {},
   "outputs": [],
   "source": [
    "pares=data_com_todos\n",
    "pares['par1']=pares['']"
   ]
  },
  {
   "cell_type": "code",
   "execution_count": null,
   "metadata": {},
   "outputs": [],
   "source": [
    "import matplotlib.pyplot as plt\n",
    "\n",
    "plt.figure(figsize=(20,10))\n",
    "#plt.xlim=((2000, 6000))\n",
    "\n",
    "#plt.plot(dia102.timestamp, dia102.cellWeight_0, 'r')\n",
    "plt.plot(dia10.timestamp, dia10[['7450332','7450333','7450339','7450340','7450338','7450337','7450336','7450341']])#, 'g')"
   ]
  },
  {
   "cell_type": "code",
   "execution_count": null,
   "metadata": {},
   "outputs": [],
   "source": []
  },
  {
   "cell_type": "code",
   "execution_count": null,
   "metadata": {},
   "outputs": [],
   "source": []
  },
  {
   "cell_type": "code",
   "execution_count": null,
   "metadata": {},
   "outputs": [],
   "source": []
  },
  {
   "cell_type": "code",
   "execution_count": null,
   "metadata": {},
   "outputs": [],
   "source": []
  },
  {
   "cell_type": "code",
   "execution_count": null,
   "metadata": {},
   "outputs": [],
   "source": []
  },
  {
   "cell_type": "code",
   "execution_count": null,
   "metadata": {},
   "outputs": [],
   "source": []
  },
  {
   "cell_type": "code",
   "execution_count": null,
   "metadata": {},
   "outputs": [],
   "source": [
    "ordenado['cellSerialNumber_'+str(0)][0]==substituir.columns[1]"
   ]
  },
  {
   "cell_type": "code",
   "execution_count": null,
   "metadata": {},
   "outputs": [],
   "source": [
    "ordenado['cellWeight_'+str(0)][0]"
   ]
  },
  {
   "cell_type": "code",
   "execution_count": null,
   "metadata": {},
   "outputs": [],
   "source": [
    "ordenado.shape"
   ]
  },
  {
   "cell_type": "code",
   "execution_count": null,
   "metadata": {},
   "outputs": [],
   "source": [
    "subtituir_plus.iloc[150000]"
   ]
  },
  {
   "cell_type": "code",
   "execution_count": null,
   "metadata": {},
   "outputs": [],
   "source": [
    "ordenado.iloc[150000]"
   ]
  },
  {
   "cell_type": "code",
   "execution_count": null,
   "metadata": {},
   "outputs": [],
   "source": [
    "substituir.iloc[150000]"
   ]
  },
  {
   "cell_type": "code",
   "execution_count": null,
   "metadata": {},
   "outputs": [],
   "source": []
  },
  {
   "cell_type": "code",
   "execution_count": null,
   "metadata": {},
   "outputs": [],
   "source": [
    "ordenado"
   ]
  },
  {
   "cell_type": "code",
   "execution_count": null,
   "metadata": {},
   "outputs": [],
   "source": []
  },
  {
   "cell_type": "code",
   "execution_count": null,
   "metadata": {},
   "outputs": [],
   "source": []
  },
  {
   "cell_type": "markdown",
   "metadata": {},
   "source": [
    "## alteração do dataset"
   ]
  },
  {
   "cell_type": "code",
   "execution_count": null,
   "metadata": {},
   "outputs": [],
   "source": [
    "ordenado.head(3)"
   ]
  },
  {
   "cell_type": "code",
   "execution_count": null,
   "metadata": {},
   "outputs": [],
   "source": [
    "y = pd.get_dummies(ordenado[['cellSerialNumber_0','cellSerialNumber_1','cellSerialNumber_2','cellSerialNumber_3','cellSerialNumber_4','cellSerialNumber_5','cellSerialNumber_6','cellSerialNumber_7']], prefix='', prefix_sep='')"
   ]
  },
  {
   "cell_type": "code",
   "execution_count": null,
   "metadata": {},
   "outputs": [],
   "source": [
    "teste=y.groupby(y.columns, axis=1).sum()\n",
    "teste"
   ]
  },
  {
   "cell_type": "code",
   "execution_count": null,
   "metadata": {},
   "outputs": [],
   "source": []
  },
  {
   "cell_type": "code",
   "execution_count": null,
   "metadata": {},
   "outputs": [],
   "source": []
  },
  {
   "cell_type": "code",
   "execution_count": null,
   "metadata": {},
   "outputs": [],
   "source": [
    "#ax = opsd_daily.loc['2017-01':'2017-02', 'Consumption'].plot(marker='o', linestyle='-')\n",
    "ax = dia10['cellWeight_0'].plot(marker='o', linestyle='-')\n",
    "ax.set_ylabel('Daily Consumption (GWh)');"
   ]
  },
  {
   "cell_type": "code",
   "execution_count": null,
   "metadata": {
    "scrolled": true
   },
   "outputs": [],
   "source": [
    "dia10=dia10.set_index('timestamp')"
   ]
  },
  {
   "cell_type": "code",
   "execution_count": null,
   "metadata": {},
   "outputs": [],
   "source": [
    "dia10.resample('3S')"
   ]
  },
  {
   "cell_type": "code",
   "execution_count": null,
   "metadata": {
    "scrolled": true
   },
   "outputs": [],
   "source": [
    "dia10['timestamp']= pd.to_datetime(dia10['timestamp']) "
   ]
  },
  {
   "cell_type": "code",
   "execution_count": null,
   "metadata": {},
   "outputs": [],
   "source": [
    "import datetime\n",
    "\n",
    "dti = pd.to_datetime(['1/1/2018', np.datetime64('2018-01-01'),  datetime.datetime(2018, 1, 1)])\n"
   ]
  },
  {
   "cell_type": "code",
   "execution_count": null,
   "metadata": {},
   "outputs": [],
   "source": [
    "dia10"
   ]
  },
  {
   "cell_type": "code",
   "execution_count": null,
   "metadata": {},
   "outputs": [],
   "source": [
    "dia10_2=dia10"
   ]
  },
  {
   "cell_type": "code",
   "execution_count": null,
   "metadata": {},
   "outputs": [],
   "source": [
    "dia10.set_index(dia10['timestamp'], inplace = True) "
   ]
  },
  {
   "cell_type": "code",
   "execution_count": null,
   "metadata": {},
   "outputs": [],
   "source": [
    "dia10"
   ]
  },
  {
   "cell_type": "code",
   "execution_count": null,
   "metadata": {},
   "outputs": [],
   "source": [
    "\n",
    "dia10_2=dia10\n",
    "dia10_2=dia10_2.set_index('timestamp', inplace=True)\n",
    "dia10_2"
   ]
  },
  {
   "cell_type": "code",
   "execution_count": null,
   "metadata": {
    "scrolled": false
   },
   "outputs": [],
   "source": [
    "import matplotlib.pyplot as plt\n",
    "import matplotlib.ticker as ticker\n",
    "\n",
    "#dia10['datetime'] = pd.to_datetime(df['Time [dd.mm.yyyy hh:mm:ss.ms]'], format=\"%d.%m.%Y %H:%M:%S.%f\")\n",
    "\n",
    "#print (dia10)\n",
    "\n",
    "#dia10_2=dia10\n",
    "#dia10_2=dia10_2.set_index('timestamp', inplace=True)\n",
    "\n",
    "ax = dia10_2['cellWeight_0'].plot()\n",
    "\n",
    "#dia10_2.index=pd.to_datetime(dia10_2.index).strftime('%d-%m-%Y')\n",
    "#'%d.%m.%Y %H:%M:%S.%f'\n",
    "\n",
    "dia10_2.index=pd.to_datetime(dia10_2.index).strftime('%d.%m.%Y %H:%M:%S')#.%f')\n",
    "\n",
    "#ticklabels = dia10_2.index.strftime('%Y-%m-%d')\n",
    "ax.xaxis.set_major_formatter(ticker.FixedFormatter(dia10_2.index))\n",
    "ax.yaxis.set_major_formatter(ticker.FormatStrFormatter('%.2f'))\n",
    "plt.xticks(rotation=90)\n",
    "plt.show()"
   ]
  },
  {
   "cell_type": "code",
   "execution_count": null,
   "metadata": {},
   "outputs": [],
   "source": [
    "Dst_count = dia10[\"Dst\"].where(df[\"Dst\"]<-100).resample(\"1y\").count()\n",
    "Dst_count = Dst_count.reindex(df.index, method=\"bfill\")"
   ]
  },
  {
   "cell_type": "code",
   "execution_count": null,
   "metadata": {},
   "outputs": [],
   "source": [
    "dia10"
   ]
  },
  {
   "cell_type": "code",
   "execution_count": null,
   "metadata": {},
   "outputs": [],
   "source": [
    "dia10.index=pd.to_datetime(dia10.index).strftime('%d.%m.%Y %H:%M:%S.%f')"
   ]
  },
  {
   "cell_type": "code",
   "execution_count": null,
   "metadata": {},
   "outputs": [],
   "source": [
    "dia10_2"
   ]
  },
  {
   "cell_type": "code",
   "execution_count": null,
   "metadata": {},
   "outputs": [],
   "source": [
    "teste=ordenado.set_index('timestamp')"
   ]
  },
  {
   "cell_type": "code",
   "execution_count": null,
   "metadata": {},
   "outputs": [],
   "source": [
    "df.set_index(df['Date'].dt.date, inplace = True) \n",
    "df.asfreq(freq='1D').fillna(method='bfill', limit=1).dropna(how='all').drop_duplicates(keep='last')"
   ]
  },
  {
   "cell_type": "code",
   "execution_count": null,
   "metadata": {},
   "outputs": [],
   "source": [
    "teste.loc['2019']"
   ]
  },
  {
   "cell_type": "code",
   "execution_count": null,
   "metadata": {
    "scrolled": true
   },
   "outputs": [],
   "source": [
    "dia11=teste.loc['2019-05']"
   ]
  },
  {
   "cell_type": "code",
   "execution_count": null,
   "metadata": {},
   "outputs": [],
   "source": [
    "dia10.shape"
   ]
  },
  {
   "cell_type": "code",
   "execution_count": null,
   "metadata": {
    "scrolled": true
   },
   "outputs": [],
   "source": [
    "dia10.head(10)"
   ]
  },
  {
   "cell_type": "code",
   "execution_count": null,
   "metadata": {},
   "outputs": [],
   "source": [
    "import matplotlib.pyplot as plt\n",
    "plt.plot(teste)"
   ]
  },
  {
   "cell_type": "code",
   "execution_count": null,
   "metadata": {
    "scrolled": true
   },
   "outputs": [],
   "source": [
    "teste=dia10.cellWeight_0.tolist()\n",
    "teste"
   ]
  },
  {
   "cell_type": "code",
   "execution_count": null,
   "metadata": {},
   "outputs": [],
   "source": [
    "dia10.set_index('timestamp', inplace=True)"
   ]
  },
  {
   "cell_type": "code",
   "execution_count": null,
   "metadata": {},
   "outputs": [],
   "source": [
    "import matplotlib.pyplot as plt\n",
    "import matplotlib.ticker as ticker\n",
    "\n",
    "#dia10['datetime'] = pd.to_datetime(df['Time [dd.mm.yyyy hh:mm:ss.ms]'], format=\"%d.%m.%Y %H:%M:%S.%f\")\n",
    "\n",
    "#print (dia10)\n",
    "\n",
    "dia10_2=dia10\n",
    "dia10_2=dia10_2.set_index('timestamp', inplace=True)\n",
    "\n",
    "ax = dia10_2['cellWeight_0'].plot()\n",
    "\n",
    "#ticklabels = dia10.index.strftime('%Y-%m-%d')\n",
    "ax.xaxis.set_major_formatter(ticker.FixedFormatter(ticklabels))\n",
    "ax.yaxis.set_major_formatter(ticker.FormatStrFormatter('%.2f'))\n",
    "plt.show()"
   ]
  },
  {
   "cell_type": "code",
   "execution_count": null,
   "metadata": {},
   "outputs": [],
   "source": [
    "dia10_2=dia10\n",
    "dia10_2"
   ]
  },
  {
   "cell_type": "code",
   "execution_count": null,
   "metadata": {},
   "outputs": [],
   "source": [
    "plt.plot(\"time\", \"y\", data=df)"
   ]
  },
  {
   "cell_type": "code",
   "execution_count": null,
   "metadata": {},
   "outputs": [],
   "source": []
  },
  {
   "cell_type": "code",
   "execution_count": null,
   "metadata": {},
   "outputs": [],
   "source": []
  },
  {
   "cell_type": "code",
   "execution_count": null,
   "metadata": {},
   "outputs": [],
   "source": []
  },
  {
   "cell_type": "code",
   "execution_count": null,
   "metadata": {},
   "outputs": [],
   "source": []
  },
  {
   "cell_type": "code",
   "execution_count": null,
   "metadata": {},
   "outputs": [],
   "source": [
    "dados['cellSerialNumber_0']=dados['cellSerialNumber_0'].fillna(0)\n",
    "dados['cellSerialNumber_1']=dados['cellSerialNumber_1'].fillna(0)\n",
    "dados['cellSerialNumber_2']=dados['cellSerialNumber_2'].fillna(0)\n",
    "dados['cellSerialNumber_3']=dados['cellSerialNumber_3'].fillna(0)\n",
    "dados['cellSerialNumber_4']=dados['cellSerialNumber_4'].fillna(0)\n",
    "dados['cellSerialNumber_5']=dados['cellSerialNumber_5'].fillna(0)\n",
    "dados['cellSerialNumber_6']=dados['cellSerialNumber_6'].fillna(0)\n",
    "dados['cellSerialNumber_7']=dados['cellSerialNumber_7'].fillna(0)"
   ]
  },
  {
   "cell_type": "code",
   "execution_count": null,
   "metadata": {},
   "outputs": [],
   "source": [
    "clean0=dados['cellSerialNumber_0'].tolist()\n",
    "clean1=dados['cellSerialNumber_1'].tolist()\n",
    "clean2=dados['cellSerialNumber_2'].tolist()\n",
    "clean3=dados['cellSerialNumber_3'].tolist()\n",
    "clean4=dados['cellSerialNumber_4'].tolist()\n",
    "clean5=dados['cellSerialNumber_5'].tolist()\n",
    "clean6=dados['cellSerialNumber_6'].tolist()\n",
    "clean7=dados['cellSerialNumber_7'].tolist()"
   ]
  },
  {
   "cell_type": "code",
   "execution_count": null,
   "metadata": {},
   "outputs": [],
   "source": [
    "(clean3)"
   ]
  },
  {
   "cell_type": "code",
   "execution_count": null,
   "metadata": {},
   "outputs": [],
   "source": [
    "convert_first_to_generator = (str(w) for w in clean3)"
   ]
  },
  {
   "cell_type": "code",
   "execution_count": null,
   "metadata": {},
   "outputs": [],
   "source": [
    "convert_first_to_generator"
   ]
  },
  {
   "cell_type": "code",
   "execution_count": null,
   "metadata": {},
   "outputs": [],
   "source": [
    "int_arr = list(range(10))\n",
    "convert_first_to_generator = (str(w) for w in int_arr)\n",
    "print(''.join(convert_first_to_generator))"
   ]
  },
  {
   "cell_type": "code",
   "execution_count": null,
   "metadata": {},
   "outputs": [],
   "source": [
    "(int_arr)"
   ]
  },
  {
   "cell_type": "code",
   "execution_count": null,
   "metadata": {},
   "outputs": [],
   "source": [
    "clean4=[str(i) for i in clean4]"
   ]
  },
  {
   "cell_type": "code",
   "execution_count": null,
   "metadata": {},
   "outputs": [],
   "source": [
    "teste"
   ]
  },
  {
   "cell_type": "code",
   "execution_count": null,
   "metadata": {},
   "outputs": [],
   "source": [
    "for i in range(0, len(clean0)):    \n",
    "    if clean4[i][0] == '0' and len(clean4[i])>1:\n",
    "        clean4[i]=clean4[i][1:]"
   ]
  },
  {
   "cell_type": "code",
   "execution_count": null,
   "metadata": {},
   "outputs": [],
   "source": [
    "clean4[3][0] == '0' and len(clean4[3])>1"
   ]
  },
  {
   "cell_type": "code",
   "execution_count": null,
   "metadata": {},
   "outputs": [],
   "source": [
    "clean4"
   ]
  },
  {
   "cell_type": "code",
   "execution_count": null,
   "metadata": {},
   "outputs": [],
   "source": [
    "str(int(clean7[0]))"
   ]
  },
  {
   "cell_type": "code",
   "execution_count": null,
   "metadata": {},
   "outputs": [],
   "source": [
    "for i in range(0, len(clean0)):\n",
    "    if type(clean0[i]) == float:\n",
    "        clean0[i]=str(int(clean0[i]))\n",
    "    if type(clean1[i]) == float:\n",
    "        clean1[i]=str(int(clean1[i]))\n",
    "    if type(clean2[i]) == float:\n",
    "        clean2[i]=str(int(clean2[i]))\n",
    "    if type(clean3[i]) == float:\n",
    "        clean3[i]=str(int(clean3[i]))\n",
    "    if type(clean4[i]) == float:\n",
    "        clean4[i]=str(int(clean4[i]))\n",
    "    if type(clean5[i]) == float:\n",
    "        clean5[i]=str(int(clean5[i]))\n",
    "    if type(clean6[i]) == float:\n",
    "        clean6[i]=str(int(clean6[i]))\n",
    "    if type(clean7[i]) == float:\n",
    "        clean7[i]=str(int(clean7[i]))"
   ]
  },
  {
   "cell_type": "code",
   "execution_count": null,
   "metadata": {},
   "outputs": [],
   "source": [
    "clean0=[str(i) for i in clean0]\n",
    "clean1=[str(i) for i in clean1]\n",
    "clean2=[str(i) for i in clean2]\n",
    "clean3=[str(i) for i in clean3]\n",
    "clean4=[str(i) for i in clean4]\n",
    "clean5=[str(i) for i in clean5]\n",
    "clean6=[str(i) for i in clean6]\n",
    "clean7=[str(i) for i in clean7]"
   ]
  },
  {
   "cell_type": "code",
   "execution_count": null,
   "metadata": {},
   "outputs": [],
   "source": [
    "for i in range(0, len(clean0)):\n",
    "    if clean0[i][0] == '0' and len(clean0[i])>1:\n",
    "        clean0[i]=clean0[i][1:]\n",
    "    if clean1[i][0] == '0'and len(clean1[i])>1:\n",
    "        clean1[i]=clean1[i][1:]\n",
    "    if clean2[i][0] == '0' and len(clean2[i])>1:\n",
    "        clean2[i]=clean2[i][1:]\n",
    "    if clean3[i][0] == '0'and len(clean3[i])>1:\n",
    "        clean3[i]=clean3[i][1:]\n",
    "    if clean4[i][0] == '0'and len(clean4[i])>1:\n",
    "        clean4[i]=clean4[i][1:]\n",
    "    if clean5[i][0] == '0'and len(clean5[i])>1:\n",
    "        clean5[i]=clean5[i][1:]\n",
    "    if clean6[i][0] == '0'and len(clean6[i])>1:\n",
    "        clean6[i]=clean6[i][1:]\n",
    "    if clean7[i][0] == '0'and len(clean7[i])>1:\n",
    "        clean7[i]=clean7[i][1:]"
   ]
  },
  {
   "cell_type": "code",
   "execution_count": null,
   "metadata": {},
   "outputs": [],
   "source": [
    "dados['cellSerialNumber_0']=clean0\n",
    "dados['cellSerialNumber_1']=clean1\n",
    "dados['cellSerialNumber_2']=clean2\n",
    "dados['cellSerialNumber_3']=clean3\n",
    "dados['cellSerialNumber_4']=clean4\n",
    "dados['cellSerialNumber_5']=clean5\n",
    "dados['cellSerialNumber_6']=clean6\n",
    "dados['cellSerialNumber_7']=clean7"
   ]
  },
  {
   "cell_type": "code",
   "execution_count": null,
   "metadata": {},
   "outputs": [],
   "source": [
    "dados.head()"
   ]
  },
  {
   "cell_type": "code",
   "execution_count": null,
   "metadata": {},
   "outputs": [],
   "source": [
    "dados['cellSerialNumber_7'].unique()"
   ]
  },
  {
   "cell_type": "markdown",
   "metadata": {},
   "source": [
    "for i in range(0, dados.shape[0]+1):\n",
    "    if type(dados['cellSerialNumber_0'][i]) == float:\n",
    "        dados['cellSerialNumber_0'][i]=str(int(dados['cellSerialNumber_0'][i]))"
   ]
  },
  {
   "cell_type": "code",
   "execution_count": null,
   "metadata": {},
   "outputs": [],
   "source": [
    "dados[['scaleGross','scaleNet']] = dados[['scaleGross','scaleNet']].fillna(value=0)\n",
    "dados[['cellWeight_0','cellWeight_1','cellWeight_2','cellWeight_3','cellWeight_4','cellWeight_5','cellWeight_6','cellWeight_7']] = dados[['cellWeight_0','cellWeight_1','cellWeight_2','cellWeight_3','cellWeight_4','cellWeight_5','cellWeight_6','cellWeight_7']].fillna(value=0)\n",
    "dados[['cellSerialNumber_0']] = dados[['cellSerialNumber_0']].astype(str)\n",
    "dados[['terminalSerialNumber','scaleSerialNumber']]=dados[['terminalSerialNumber','scaleSerialNumber']].astype(str)\n"
   ]
  },
  {
   "cell_type": "code",
   "execution_count": null,
   "metadata": {},
   "outputs": [],
   "source": [
    "details=pd.DataFrame(dados.dtypes, columns=['type'])\n",
    "details['#Nan']=dados.isnull().sum(axis = 0)\n",
    "details['#uniques']=dados.nunique()"
   ]
  },
  {
   "cell_type": "code",
   "execution_count": null,
   "metadata": {},
   "outputs": [],
   "source": [
    "dados[['scaleGross','scaleNet']] = dados[['scaleGross','scaleNet']].fillna(value=0)\n",
    "details['#Nan_replaced']=dados.isnull().sum(axis = 0)"
   ]
  },
  {
   "cell_type": "code",
   "execution_count": null,
   "metadata": {},
   "outputs": [],
   "source": [
    "dados[['cellWeight_0','cellWeight_1','cellWeight_2','cellWeight_3','cellWeight_4','cellWeight_5','cellWeight_6','cellWeight_7']] = dados[['cellWeight_0','cellWeight_1','cellWeight_2','cellWeight_3','cellWeight_4','cellWeight_5','cellWeight_6','cellWeight_7']].fillna(value=0)\n",
    "details['#Nan_cell_weights_at0']=dados.isnull().sum(axis = 0)"
   ]
  },
  {
   "cell_type": "code",
   "execution_count": null,
   "metadata": {},
   "outputs": [],
   "source": [
    "\n",
    "#dados[['cellSerialNumber_0','cellSerialNumber_1','cellSerialNumber_2','cellSerialNumber_3','cellSerialNumber_4','cellSerialNumber_5','cellSerialNumber_6','cellSerialNumber_7']] = dados[['cellSerialNumber_0','cellSerialNumber_1','cellSerialNumber_2','cellSerialNumber_3','cellSerialNumber_4','cellSerialNumber_5','cellSerialNumber_6','cellSerialNumber_7']].astype(str) \n",
    "dados[['cellSerialNumber_0']] = dados[['cellSerialNumber_0']].astype(str) \n",
    "details['type_converted']=dados.dtypes"
   ]
  },
  {
   "cell_type": "code",
   "execution_count": null,
   "metadata": {},
   "outputs": [],
   "source": [
    "dados[['terminalSerialNumber','scaleSerialNumber']]=dados[['terminalSerialNumber','scaleSerialNumber']].astype(str)\n",
    "details['#nunqiues_corrected']=dados.nunique()"
   ]
  },
  {
   "cell_type": "code",
   "execution_count": null,
   "metadata": {
    "scrolled": false
   },
   "outputs": [],
   "source": [
    "details"
   ]
  },
  {
   "cell_type": "code",
   "execution_count": null,
   "metadata": {},
   "outputs": [],
   "source": [
    "dados.head()"
   ]
  },
  {
   "cell_type": "markdown",
   "metadata": {},
   "source": [
    "### avaliar problema 1: pesagens com valor nulo sendo que as celulas têm peso !"
   ]
  },
  {
   "cell_type": "code",
   "execution_count": null,
   "metadata": {},
   "outputs": [],
   "source": [
    "sempesos=dados[dados.scaleGross == 0]"
   ]
  },
  {
   "cell_type": "code",
   "execution_count": null,
   "metadata": {},
   "outputs": [],
   "source": [
    "sempesos.shape"
   ]
  },
  {
   "cell_type": "code",
   "execution_count": null,
   "metadata": {},
   "outputs": [],
   "source": [
    "teste=sempesos[sempesos.cellSerialNumber_0!= '0']"
   ]
  },
  {
   "cell_type": "code",
   "execution_count": null,
   "metadata": {},
   "outputs": [],
   "source": [
    "teste[teste.cellWeight_1!=0]"
   ]
  },
  {
   "cell_type": "markdown",
   "metadata": {},
   "source": [
    "### avaliar problema 3: diferença de valores entre a pesagem e a soma (aquela coisa de haver provavelmente uma formula interna deles)\n"
   ]
  },
  {
   "cell_type": "code",
   "execution_count": null,
   "metadata": {},
   "outputs": [],
   "source": [
    "dados.head()"
   ]
  },
  {
   "cell_type": "code",
   "execution_count": null,
   "metadata": {},
   "outputs": [],
   "source": [
    "ativos=dados[dados.cellSerialNumber_0 != '0']"
   ]
  },
  {
   "cell_type": "code",
   "execution_count": null,
   "metadata": {},
   "outputs": [],
   "source": [
    "ativos.scaleSerialNumber.value_counts()"
   ]
  },
  {
   "cell_type": "code",
   "execution_count": null,
   "metadata": {},
   "outputs": [],
   "source": [
    "ativos[ativos.scaleGross!=0].scaleSerialNumber.value_counts()"
   ]
  },
  {
   "cell_type": "code",
   "execution_count": null,
   "metadata": {},
   "outputs": [],
   "source": [
    "somas=ativos[ativos.scaleGross!=0]\n",
    "somas.head()"
   ]
  },
  {
   "cell_type": "code",
   "execution_count": null,
   "metadata": {},
   "outputs": [],
   "source": [
    "#somas['soma']=somas.sum(axis = 1)\n",
    "somas['soma']=somas[['cellWeight_0','cellWeight_1','cellWeight_2','cellWeight_3','cellWeight_4','cellWeight_5','cellWeight_6','cellWeight_7']].sum(axis = 1)#df[col_list].sum(axis=1)"
   ]
  },
  {
   "cell_type": "code",
   "execution_count": null,
   "metadata": {},
   "outputs": [],
   "source": [
    "somas[['terminalSerialNumber','scaleSerialNumber','scaleGross','scaleNet','soma','cellWeight_0','cellWeight_1','cellWeight_2','cellWeight_3','cellWeight_4','cellWeight_5','cellWeight_6','cellWeight_7']]"
   ]
  },
  {
   "cell_type": "code",
   "execution_count": null,
   "metadata": {
    "scrolled": true
   },
   "outputs": [],
   "source": [
    "somas.head()"
   ]
  },
  {
   "cell_type": "markdown",
   "metadata": {},
   "source": [
    "### avaliar problema 4:Cells with same serial number in different bridges\n"
   ]
  },
  {
   "cell_type": "code",
   "execution_count": null,
   "metadata": {},
   "outputs": [],
   "source": [
    "dados.head()"
   ]
  },
  {
   "cell_type": "code",
   "execution_count": null,
   "metadata": {},
   "outputs": [],
   "source": [
    "pontes=pd.read_json('devicesinfos_partition1.json')\n",
    "info_pontes=pontes[['scaleSerialNumber','terminalSerialNumber','scaleCellCount','scaleDataAvailability','timestamp','cell0_serialNumber','cell1_serialNumber','cell2_serialNumber','cell3_serialNumber','cell4_serialNumber','cell5_serialNumber','cell6_serialNumber','cell7_serialNumber']]"
   ]
  },
  {
   "cell_type": "code",
   "execution_count": null,
   "metadata": {},
   "outputs": [],
   "source": [
    "info_pontes"
   ]
  },
  {
   "cell_type": "code",
   "execution_count": null,
   "metadata": {},
   "outputs": [],
   "source": [
    "dados[dados['scaleSerialNumber']=='P083500022'].cellSerialNumber_0.value_counts()"
   ]
  },
  {
   "cell_type": "code",
   "execution_count": null,
   "metadata": {},
   "outputs": [],
   "source": [
    "dados['cellSerialNumber_0'].unique()"
   ]
  },
  {
   "cell_type": "code",
   "execution_count": null,
   "metadata": {},
   "outputs": [],
   "source": [
    "\n",
    "teste=dados[['cellSerialNumber_0']].astype(str)\n"
   ]
  },
  {
   "cell_type": "code",
   "execution_count": null,
   "metadata": {},
   "outputs": [],
   "source": [
    "dados.shape[0]"
   ]
  },
  {
   "cell_type": "code",
   "execution_count": null,
   "metadata": {},
   "outputs": [],
   "source": [
    "dados[['cellSerialNumber_0']].head(25)"
   ]
  },
  {
   "cell_type": "code",
   "execution_count": null,
   "metadata": {},
   "outputs": [],
   "source": [
    "str(int(dados['cellSerialNumber_0'][0]))#.astype(int)"
   ]
  },
  {
   "cell_type": "markdown",
   "metadata": {},
   "source": [
    "estrategia:\n",
    "- cell id ja foram descartados porque sao todos unicos ou nan para a totalidade de pesagens\n",
    "- os scalegross e scale net foram preenchidos com valor 0\n",
    "- as cell weighting com nan sao preenchidas a 0\n",
    "- os serial number estao numericos - converter para string\n",
    "- terminal serial number tem valores reptidos, conversao para string resolveu"
   ]
  },
  {
   "cell_type": "code",
   "execution_count": null,
   "metadata": {},
   "outputs": [],
   "source": [
    "erro1=dados[dados['scaleGross'].isnull()]"
   ]
  },
  {
   "cell_type": "code",
   "execution_count": null,
   "metadata": {},
   "outputs": [],
   "source": [
    "erro1.cellSerialNumber_0.value_counts().sum()#.sort_values(['cellSerialNumber_0'], ascending=False)"
   ]
  },
  {
   "cell_type": "code",
   "execution_count": null,
   "metadata": {},
   "outputs": [],
   "source": [
    "validar_ids=dados.sort_values(['cellSerialNumber_0']).set_index(['cellSerialNumber_0'])#.count()"
   ]
  },
  {
   "cell_type": "code",
   "execution_count": null,
   "metadata": {},
   "outputs": [],
   "source": [
    "validar_ids"
   ]
  },
  {
   "cell_type": "markdown",
   "metadata": {},
   "source": [
    "informações:\n",
    "- Ha valores de pesagem (sclaegross/net) com valores>0 e qd as celulas de pesagem nao têm serial number (Nan) ex: 5df09f84e2d52275b7392292\n",
    "- ha valores de pesagens negaivos ex 5cd9a59a9f4a53cf70f53d0d\n",
    "- sera que cada ponte tem uma coleçao de celulas especificas? uma celula 0 so se liga com uma expecifica celula 1?\n"
   ]
  },
  {
   "cell_type": "code",
   "execution_count": null,
   "metadata": {},
   "outputs": [],
   "source": [
    "validar_ids=dados.sort_values(['cellSerialNumber_0']).set_index(['cellSerialNumber_0']).count()"
   ]
  },
  {
   "cell_type": "markdown",
   "metadata": {},
   "source": [
    "- opçao count apenas salienta que ha nan ha medida que se acrescenta celula"
   ]
  },
  {
   "cell_type": "code",
   "execution_count": null,
   "metadata": {},
   "outputs": [],
   "source": [
    "validar_ids=dados.groupby(['cellSerialNumber_0']).count()"
   ]
  },
  {
   "cell_type": "code",
   "execution_count": null,
   "metadata": {
    "scrolled": true
   },
   "outputs": [],
   "source": [
    "validar_ids"
   ]
  },
  {
   "cell_type": "markdown",
   "metadata": {},
   "source": [
    "- opçao nunique mostra que um serial number 0 pode ter mais que 1 serial nuber 1 (nem considerando NAN) logo ao e possivel substituir"
   ]
  },
  {
   "cell_type": "code",
   "execution_count": null,
   "metadata": {},
   "outputs": [],
   "source": [
    "validar_ids=dados.groupby(['cellSerialNumber_0']).nunique()"
   ]
  },
  {
   "cell_type": "code",
   "execution_count": null,
   "metadata": {},
   "outputs": [],
   "source": [
    "validar_ids"
   ]
  },
  {
   "cell_type": "code",
   "execution_count": null,
   "metadata": {},
   "outputs": [],
   "source": [
    "dados[dados['cellSerialNumber_0']=='00000d9c']"
   ]
  },
  {
   "cell_type": "code",
   "execution_count": null,
   "metadata": {},
   "outputs": [],
   "source": [
    "dados[dados['cellSerialNumber_0']=='13160003.0']"
   ]
  },
  {
   "cell_type": "code",
   "execution_count": null,
   "metadata": {
    "scrolled": true
   },
   "outputs": [],
   "source": [
    "validar_ids.max()"
   ]
  },
  {
   "cell_type": "code",
   "execution_count": null,
   "metadata": {},
   "outputs": [],
   "source": []
  },
  {
   "cell_type": "code",
   "execution_count": null,
   "metadata": {},
   "outputs": [],
   "source": [
    "ordenar no tempo"
   ]
  },
  {
   "cell_type": "code",
   "execution_count": null,
   "metadata": {},
   "outputs": [],
   "source": []
  },
  {
   "cell_type": "markdown",
   "metadata": {},
   "source": [
    "## Ate aqui assumiu-se nao deitar NaN fora\n",
    "- substitui-se nan de pesagens por 0\n",
    "- preservou-se nan de serial number de celulas porque a pesagem tinha valor completo\n",
    "- eqauciona-se deitar fora se as celulas e pesagem completa for Nan, mas ainda nao ocorreu"
   ]
  },
  {
   "cell_type": "markdown",
   "metadata": {},
   "source": [
    "# avaliar pontes"
   ]
  },
  {
   "cell_type": "markdown",
   "metadata": {},
   "source": [
    "estrategia:\n",
    "- clean dados \n",
    "- reajustar problema\n",
    "- identificar o conceito anomalia (de como a detetam, onde e que ja aconteceu)"
   ]
  },
  {
   "cell_type": "code",
   "execution_count": null,
   "metadata": {},
   "outputs": [],
   "source": [
    "pontes=pd.read_json('devicesinfos_partition1.json')"
   ]
  },
  {
   "cell_type": "code",
   "execution_count": null,
   "metadata": {},
   "outputs": [],
   "source": [
    "pontes.columns"
   ]
  },
  {
   "cell_type": "code",
   "execution_count": null,
   "metadata": {},
   "outputs": [],
   "source": [
    "pontes.scaleSerialNumber.nunique()"
   ]
  },
  {
   "cell_type": "code",
   "execution_count": null,
   "metadata": {},
   "outputs": [],
   "source": [
    "pontes.head()"
   ]
  },
  {
   "cell_type": "code",
   "execution_count": null,
   "metadata": {},
   "outputs": [],
   "source": [
    "info_pontes=pontes[['scaleSerialNumber','terminalSerialNumber','scaleCellCount','scaleDataAvailability','timestamp','cell0_serialNumber','cell1_serialNumber','cell2_serialNumber','cell3_serialNumber','cell4_serialNumber','cell5_serialNumber','cell6_serialNumber','cell7_serialNumber']]"
   ]
  },
  {
   "cell_type": "code",
   "execution_count": null,
   "metadata": {
    "scrolled": true
   },
   "outputs": [],
   "source": [
    "info_pontes"
   ]
  },
  {
   "cell_type": "code",
   "execution_count": null,
   "metadata": {},
   "outputs": [],
   "source": [
    "info_pontes[['cell0_serialNumber','cell1_serialNumber','cell2_serialNumber','cell3_serialNumber','cell4_serialNumber','cell5_serialNumber','cell6_serialNumber','cell7_serialNumber']]=info_pontes[['cell0_serialNumber','cell1_serialNumber','cell2_serialNumber','cell3_serialNumber','cell4_serialNumber','cell5_serialNumber','cell6_serialNumber','cell7_serialNumber']].astype(str)"
   ]
  },
  {
   "cell_type": "code",
   "execution_count": null,
   "metadata": {},
   "outputs": [],
   "source": [
    "pontes[pontes['scaleSerialNumber']=='P192100052'].nunique()"
   ]
  },
  {
   "cell_type": "code",
   "execution_count": null,
   "metadata": {},
   "outputs": [],
   "source": [
    "info_pontes"
   ]
  },
  {
   "cell_type": "code",
   "execution_count": null,
   "metadata": {},
   "outputs": [],
   "source": [
    "details_pontes=pd.DataFrame(info_pontes.dtypes, columns=['type'])\n",
    "details_pontes['#Nan']=info_pontes.isnull().sum(axis = 0)\n",
    "details_pontes['#uniques']=info_pontes.nunique()"
   ]
  },
  {
   "cell_type": "code",
   "execution_count": null,
   "metadata": {},
   "outputs": [],
   "source": [
    "details_pontes"
   ]
  },
  {
   "cell_type": "code",
   "execution_count": null,
   "metadata": {},
   "outputs": [],
   "source": [
    "teste=dados[dados['scaleSerialNumber']=='00000000']#.nunique()\n",
    "teste"
   ]
  },
  {
   "cell_type": "code",
   "execution_count": null,
   "metadata": {},
   "outputs": [],
   "source": [
    "teste[teste['scaleGross']==0]#.nunique()"
   ]
  },
  {
   "cell_type": "code",
   "execution_count": null,
   "metadata": {},
   "outputs": [],
   "source": [
    "dados[dados['scaleSerialNumber']=='P192100052'].nunique()"
   ]
  },
  {
   "cell_type": "code",
   "execution_count": null,
   "metadata": {},
   "outputs": [],
   "source": [
    "type(testes)"
   ]
  },
  {
   "cell_type": "code",
   "execution_count": null,
   "metadata": {},
   "outputs": [],
   "source": [
    "dados['scaleSerialNumber'].unique()"
   ]
  },
  {
   "cell_type": "code",
   "execution_count": null,
   "metadata": {},
   "outputs": [],
   "source": [
    "info_pontes['scaleSerialNumber'].unique()"
   ]
  },
  {
   "cell_type": "code",
   "execution_count": null,
   "metadata": {},
   "outputs": [],
   "source": [
    "devices['serialNumber'].unique()"
   ]
  },
  {
   "cell_type": "code",
   "execution_count": null,
   "metadata": {},
   "outputs": [],
   "source": [
    "dados['terminalSerialNumber'].unique()"
   ]
  },
  {
   "cell_type": "code",
   "execution_count": null,
   "metadata": {},
   "outputs": [],
   "source": [
    "info_pontes['terminalSerialNumber'].unique()"
   ]
  },
  {
   "cell_type": "code",
   "execution_count": null,
   "metadata": {},
   "outputs": [],
   "source": [
    "devices['terminalSerialNumber'].unique()"
   ]
  },
  {
   "cell_type": "code",
   "execution_count": null,
   "metadata": {},
   "outputs": [],
   "source": [
    "dados['terminalSerialNumber'].value_counts()"
   ]
  },
  {
   "cell_type": "code",
   "execution_count": null,
   "metadata": {
    "scrolled": true
   },
   "outputs": [],
   "source": [
    "info_pontes.sort_values(['terminalSerialNumber','scaleSerialNumber'])"
   ]
  },
  {
   "cell_type": "code",
   "execution_count": null,
   "metadata": {},
   "outputs": [],
   "source": [
    "info_pontes.groupby(['terminalSerialNumber','scaleSerialNumber']).nunique()"
   ]
  },
  {
   "cell_type": "code",
   "execution_count": null,
   "metadata": {},
   "outputs": [],
   "source": [
    "info_pontes['scaleCellCount'].unique()"
   ]
  },
  {
   "cell_type": "code",
   "execution_count": null,
   "metadata": {
    "scrolled": false
   },
   "outputs": [],
   "source": [
    "devices.groupby(['terminalSerialNumber','serialNumber']).count()"
   ]
  },
  {
   "cell_type": "code",
   "execution_count": null,
   "metadata": {},
   "outputs": [],
   "source": [
    "dados[['terminalSerialNumber']]=dados[['terminalSerialNumber']].astype(str)"
   ]
  },
  {
   "cell_type": "code",
   "execution_count": null,
   "metadata": {},
   "outputs": [],
   "source": [
    "dados[dados['terminalSerialNumber']=='160690']"
   ]
  },
  {
   "cell_type": "code",
   "execution_count": null,
   "metadata": {},
   "outputs": [],
   "source": [
    "devices=pd.read_json('devices_partition1.json')"
   ]
  },
  {
   "cell_type": "code",
   "execution_count": null,
   "metadata": {},
   "outputs": [],
   "source": [
    "devices.nunique()"
   ]
  },
  {
   "cell_type": "code",
   "execution_count": null,
   "metadata": {},
   "outputs": [],
   "source": [
    "devices.columns"
   ]
  },
  {
   "cell_type": "code",
   "execution_count": null,
   "metadata": {},
   "outputs": [],
   "source": [
    "devices['customerCompany'].value_counts()"
   ]
  },
  {
   "cell_type": "code",
   "execution_count": null,
   "metadata": {},
   "outputs": [],
   "source": [
    "devices['subsidiaryCompany'].value_counts()"
   ]
  },
  {
   "cell_type": "code",
   "execution_count": null,
   "metadata": {},
   "outputs": [],
   "source": []
  },
  {
   "cell_type": "code",
   "execution_count": null,
   "metadata": {},
   "outputs": [],
   "source": [
    "286353+1909891"
   ]
  },
  {
   "cell_type": "code",
   "execution_count": null,
   "metadata": {},
   "outputs": [],
   "source": [
    "819343+1376901"
   ]
  },
  {
   "cell_type": "markdown",
   "metadata": {},
   "source": [
    "- claramente as cellid variam a cada pesagem - o verdadeiro id das celulas e o serial number"
   ]
  },
  {
   "cell_type": "code",
   "execution_count": null,
   "metadata": {},
   "outputs": [],
   "source": [
    "dados['scaleSerialNumber'].unique()"
   ]
  },
  {
   "cell_type": "code",
   "execution_count": null,
   "metadata": {},
   "outputs": [],
   "source": [
    "dados['scaleSerialNumber'].value_counts()"
   ]
  },
  {
   "cell_type": "markdown",
   "metadata": {},
   "source": [
    "informaçoes\n",
    "- ha 11 pontes de pesagem"
   ]
  },
  {
   "cell_type": "code",
   "execution_count": null,
   "metadata": {},
   "outputs": [],
   "source": [
    "ponte1=dados[dados['scaleSerialNumber']=='S173004032']"
   ]
  },
  {
   "cell_type": "code",
   "execution_count": null,
   "metadata": {},
   "outputs": [],
   "source": [
    "ponte1.nunique()"
   ]
  },
  {
   "cell_type": "code",
   "execution_count": null,
   "metadata": {},
   "outputs": [],
   "source": [
    "ponte1=dados[dados['scaleSerialNumber']=='S190601092']\n",
    "details=pd.DataFrame(ponte1.nunique(), columns=['#uniques'])\n",
    "details['#Nan']=ponte1.isnull().sum(axis = 0)\n",
    "details"
   ]
  },
  {
   "cell_type": "code",
   "execution_count": null,
   "metadata": {},
   "outputs": [],
   "source": [
    "ponte1[['scaleGross','scaleNet']] = ponte1[['scaleGross','scaleNet']].fillna(value=0)"
   ]
  },
  {
   "cell_type": "code",
   "execution_count": null,
   "metadata": {},
   "outputs": [],
   "source": [
    "ponte1.isnull().sum(axis = 0)"
   ]
  },
  {
   "cell_type": "code",
   "execution_count": null,
   "metadata": {},
   "outputs": [],
   "source": [
    "ponte1.nunique()"
   ]
  },
  {
   "cell_type": "code",
   "execution_count": null,
   "metadata": {},
   "outputs": [],
   "source": [
    "ponte1"
   ]
  },
  {
   "cell_type": "code",
   "execution_count": null,
   "metadata": {},
   "outputs": [],
   "source": [
    "alarmes=pd.read_json('alarms_partition1.json')"
   ]
  },
  {
   "cell_type": "code",
   "execution_count": null,
   "metadata": {
    "scrolled": true
   },
   "outputs": [],
   "source": [
    "alarmes"
   ]
  },
  {
   "cell_type": "code",
   "execution_count": null,
   "metadata": {},
   "outputs": [],
   "source": [
    "alarmes['errorCode'].nunique()"
   ]
  },
  {
   "cell_type": "code",
   "execution_count": null,
   "metadata": {},
   "outputs": [],
   "source": [
    "alarmes['serialNumber'].nunique()"
   ]
  },
  {
   "cell_type": "code",
   "execution_count": null,
   "metadata": {},
   "outputs": [],
   "source": [
    "devices['serialNumber'].unique()"
   ]
  },
  {
   "cell_type": "code",
   "execution_count": null,
   "metadata": {},
   "outputs": [],
   "source": [
    "devices"
   ]
  },
  {
   "cell_type": "markdown",
   "metadata": {},
   "source": [
    "## shortcut"
   ]
  },
  {
   "cell_type": "code",
   "execution_count": null,
   "metadata": {},
   "outputs": [],
   "source": [
    "alarmes=pd.read_json('alarms_partition1.json')"
   ]
  },
  {
   "cell_type": "code",
   "execution_count": null,
   "metadata": {},
   "outputs": [],
   "source": [
    "devices=pd.read_json('devices_partition1.json')"
   ]
  },
  {
   "cell_type": "code",
   "execution_count": null,
   "metadata": {},
   "outputs": [],
   "source": [
    "pontes=pd.read_json('devicesinfos_partition1.json')\n",
    "info_pontes=pontes[['scaleSerialNumber','terminalSerialNumber','scaleCellCount','scaleDataAvailability','timestamp','cell0_serialNumber','cell1_serialNumber','cell2_serialNumber','cell3_serialNumber','cell4_serialNumber','cell5_serialNumber','cell6_serialNumber','cell7_serialNumber']]\n",
    "info_pontes[['cell0_serialNumber','cell1_serialNumber','cell2_serialNumber','cell3_serialNumber','cell4_serialNumber','cell5_serialNumber','cell6_serialNumber','cell7_serialNumber']]=info_pontes[['cell0_serialNumber','cell1_serialNumber','cell2_serialNumber','cell3_serialNumber','cell4_serialNumber','cell5_serialNumber','cell6_serialNumber','cell7_serialNumber']].astype(str)"
   ]
  },
  {
   "cell_type": "code",
   "execution_count": null,
   "metadata": {},
   "outputs": [],
   "source": [
    "dados2=pd.read_csv('all_weighings_full_cleaned.csv').drop(['Unnamed: 0'],axis=1)"
   ]
  },
  {
   "cell_type": "code",
   "execution_count": null,
   "metadata": {},
   "outputs": [],
   "source": [
    "dados2.head()"
   ]
  },
  {
   "cell_type": "markdown",
   "metadata": {},
   "source": [
    "# Analise ao device, sem importar quem o usa"
   ]
  },
  {
   "cell_type": "code",
   "execution_count": null,
   "metadata": {},
   "outputs": [],
   "source": [
    "dados=pd.read_csv('all_weighings_full_cleaned_w_cell0.csv')"
   ]
  },
  {
   "cell_type": "code",
   "execution_count": null,
   "metadata": {},
   "outputs": [],
   "source": [
    "dados['scaleSerialNumber'].value_counts()"
   ]
  },
  {
   "cell_type": "code",
   "execution_count": null,
   "metadata": {},
   "outputs": [],
   "source": [
    "dados.to_csv('all_weighings_full_cleaned_w_cell0.csv')"
   ]
  },
  {
   "cell_type": "code",
   "execution_count": null,
   "metadata": {},
   "outputs": [],
   "source": [
    "dados2=dados[dados['cellSerialNumber_0']!='0']"
   ]
  },
  {
   "cell_type": "code",
   "execution_count": null,
   "metadata": {},
   "outputs": [],
   "source": [
    "dados2['scaleSerialNumber'].value_counts()"
   ]
  },
  {
   "cell_type": "code",
   "execution_count": null,
   "metadata": {},
   "outputs": [],
   "source": [
    "dados2.to_csv('all_weighings_full_cleaned.csv')"
   ]
  },
  {
   "cell_type": "markdown",
   "metadata": {},
   "source": [
    "# 124"
   ]
  },
  {
   "cell_type": "code",
   "execution_count": null,
   "metadata": {},
   "outputs": [],
   "source": [
    "focus=dados[dados['scaleSerialNumber']=='P124303992']"
   ]
  },
  {
   "cell_type": "code",
   "execution_count": null,
   "metadata": {},
   "outputs": [],
   "source": [
    "focus.terminalSerialNumber.unique()"
   ]
  },
  {
   "cell_type": "code",
   "execution_count": null,
   "metadata": {},
   "outputs": [],
   "source": [
    "focus['terminalSerialNumber'].value_counts()"
   ]
  },
  {
   "cell_type": "code",
   "execution_count": null,
   "metadata": {},
   "outputs": [],
   "source": [
    "focus2=focus[focus['terminalSerialNumber']=='SN00000050']"
   ]
  },
  {
   "cell_type": "code",
   "execution_count": null,
   "metadata": {},
   "outputs": [],
   "source": [
    "info_pontes[info_pontes['scaleSerialNumber']=='P124303992']"
   ]
  },
  {
   "cell_type": "code",
   "execution_count": null,
   "metadata": {},
   "outputs": [],
   "source": [
    "details_124=pd.DataFrame(focus.dtypes, columns=['type'])\n",
    "details_124['#Nan']=focus.isnull().sum(axis = 0)\n",
    "details_124['#uniques']=focus.nunique()\n",
    "details_124"
   ]
  },
  {
   "cell_type": "code",
   "execution_count": null,
   "metadata": {},
   "outputs": [],
   "source": [
    "focus['cellSerialNumber_0'].unique()"
   ]
  },
  {
   "cell_type": "code",
   "execution_count": null,
   "metadata": {},
   "outputs": [],
   "source": [
    "focus2['cellSerialNumber_0'].unique()"
   ]
  },
  {
   "cell_type": "code",
   "execution_count": null,
   "metadata": {},
   "outputs": [],
   "source": [
    "focus['cellSerialNumber_1'].unique()"
   ]
  },
  {
   "cell_type": "code",
   "execution_count": null,
   "metadata": {},
   "outputs": [],
   "source": [
    "focus2['cellSerialNumber_1'].unique()"
   ]
  },
  {
   "cell_type": "code",
   "execution_count": null,
   "metadata": {},
   "outputs": [],
   "source": [
    "focus['cellSerialNumber_2'].unique()"
   ]
  },
  {
   "cell_type": "code",
   "execution_count": null,
   "metadata": {},
   "outputs": [],
   "source": [
    "focus2['cellSerialNumber_2'].unique()"
   ]
  },
  {
   "cell_type": "code",
   "execution_count": null,
   "metadata": {},
   "outputs": [],
   "source": [
    "focus2.sort_values(['cellSerialNumber_0','cellSerialNumber_1','cellSerialNumber_2']).set_index('cellSerialNumber_0')"
   ]
  },
  {
   "cell_type": "code",
   "execution_count": null,
   "metadata": {},
   "outputs": [],
   "source": [
    "focus2.groupby(['cellSerialNumber_0','cellSerialNumber_1','cellSerialNumber_2']).count()"
   ]
  },
  {
   "cell_type": "code",
   "execution_count": null,
   "metadata": {},
   "outputs": [],
   "source": [
    "focus.groupby(['cellSerialNumber_0','cellSerialNumber_1','cellSerialNumber_2']).count()"
   ]
  },
  {
   "cell_type": "markdown",
   "metadata": {},
   "source": [
    "notas:\n",
    "- o serial p124 com terminal 'SN000025' em vez de 'SN00000050' - que e o reconhecido na info, tem todas as celuulas a null\n",
    "- a info determina que o p124 tem 3 celulas. efetivamnet,e so a ate 3 valores unicos de celulas, ou seja, apenas ha uma ponte do tipo 124??\n",
    "- de entre as 3 celulas unicas, verifica-se que apenas 305 ocorrencias tem as 3 celulas. e parece que em 62780 ocorrencias a celula 0 falhou\n",
    "- assume se que a contagem começa sempre da 0 e se alguma falha, o numero e antecedido"
   ]
  },
  {
   "cell_type": "markdown",
   "metadata": {},
   "source": [
    "# 191"
   ]
  },
  {
   "cell_type": "code",
   "execution_count": null,
   "metadata": {},
   "outputs": [],
   "source": [
    "focus=dados2[dados2['scaleSerialNumber']=='P191021852']"
   ]
  },
  {
   "cell_type": "code",
   "execution_count": null,
   "metadata": {},
   "outputs": [],
   "source": [
    "focus.shape"
   ]
  },
  {
   "cell_type": "code",
   "execution_count": null,
   "metadata": {},
   "outputs": [],
   "source": [
    "info_pontes[info_pontes['scaleSerialNumber']=='P191021852']"
   ]
  },
  {
   "cell_type": "code",
   "execution_count": null,
   "metadata": {},
   "outputs": [],
   "source": [
    "devices[devices['serialNumber']=='P191021852']"
   ]
  },
  {
   "cell_type": "code",
   "execution_count": null,
   "metadata": {},
   "outputs": [],
   "source": [
    "erros_ponte=alarmes[alarmes['serialNumber']=='P191021852']\n",
    "print('scale board replacement')\n",
    "erros_ponte"
   ]
  },
  {
   "cell_type": "code",
   "execution_count": null,
   "metadata": {},
   "outputs": [],
   "source": []
  },
  {
   "cell_type": "code",
   "execution_count": null,
   "metadata": {},
   "outputs": [],
   "source": [
    "focus.terminalSerialNumber.unique()"
   ]
  },
  {
   "cell_type": "code",
   "execution_count": null,
   "metadata": {},
   "outputs": [],
   "source": [
    "details_191=pd.DataFrame(focus.dtypes, columns=['type'])\n",
    "details_191['#uniques']=focus.nunique()\n",
    "details_191"
   ]
  },
  {
   "cell_type": "code",
   "execution_count": null,
   "metadata": {},
   "outputs": [],
   "source": []
  },
  {
   "cell_type": "code",
   "execution_count": null,
   "metadata": {
    "scrolled": true
   },
   "outputs": [],
   "source": [
    "avaliar=focus.groupby(['cellSerialNumber_0','cellSerialNumber_1','cellSerialNumber_2','cellSerialNumber_3','cellSerialNumber_4','cellSerialNumber_5','cellSerialNumber_6','cellSerialNumber_7']).count()"
   ]
  },
  {
   "cell_type": "code",
   "execution_count": null,
   "metadata": {},
   "outputs": [],
   "source": [
    "avaliar"
   ]
  },
  {
   "cell_type": "code",
   "execution_count": null,
   "metadata": {},
   "outputs": [],
   "source": [
    "ocorrencias=avaliar.sort_values(['cellSerialNumber_7','cellSerialNumber_6','cellSerialNumber_5','cellSerialNumber_4','cellSerialNumber_3','cellSerialNumber_2','cellSerialNumber_1','cellSerialNumber_0'],ascending=False)"
   ]
  },
  {
   "cell_type": "code",
   "execution_count": null,
   "metadata": {
    "scrolled": false
   },
   "outputs": [],
   "source": [
    "pd.set_option('display.max_rows', 30)\n",
    "ocorrencias.head(100)"
   ]
  },
  {
   "cell_type": "code",
   "execution_count": null,
   "metadata": {},
   "outputs": [],
   "source": [
    "72502+1103+75+172+1064+2592+200+235+929"
   ]
  },
  {
   "cell_type": "code",
   "execution_count": null,
   "metadata": {
    "scrolled": true
   },
   "outputs": [],
   "source": [
    "print('Pesagens na ponte P191021852: '+ str(focus.shape[0]))\n",
    "print('Pesagens na ponte P191021852 com todas as celulas ativas: ' + str(focus[focus['cellSerialNumber_7']!= '0'].shape[0]) + '  '+ str(round((focus[focus['cellSerialNumber_7']!= '0'].shape[0])/focus.shape[0]*100,1)) + '%')\n",
    "print('Pesagens na ponte P191021852 com 7 celulas ativas: ' + str(focus[focus['cellSerialNumber_6']!= '0'].shape[0]) + '  '+ str(round((focus[focus['cellSerialNumber_6']!= '0'].shape[0])/focus.shape[0]*100,1)) + '%')\n",
    "print('Pesagens na ponte P191021852 com 6 celulas ativas: ' + str(focus[focus['cellSerialNumber_5']!= '0'].shape[0]) + '  '+ str(round((focus[focus['cellSerialNumber_5']!= '0'].shape[0])/focus.shape[0]*100,1)) + '%')\n",
    "print('Pesagens na ponte P191021852 com 5 celulas ativas: ' + str(focus[focus['cellSerialNumber_4']!= '0'].shape[0]) + '  '+ str(round((focus[focus['cellSerialNumber_4']!= '0'].shape[0])/focus.shape[0]*100,1)) + '%')\n",
    "print('Pesagens na ponte P191021852 com 4 celulas ativas: ' + str(focus[focus['cellSerialNumber_3']!= '0'].shape[0]) + '  '+ str(round((focus[focus['cellSerialNumber_3']!= '0'].shape[0])/focus.shape[0]*100,1)) + '%')\n",
    "print('Pesagens na ponte P191021852 com 3 celulas ativas: ' + str(focus[focus['cellSerialNumber_2']!= '0'].shape[0]) + '  '+ str(round((focus[focus['cellSerialNumber_2']!= '0'].shape[0])/focus.shape[0]*100,1)) + '%')\n",
    "print('Pesagens na ponte P191021852 com 2 celulas ativas: ' + str(focus[focus['cellSerialNumber_1']!= '0'].shape[0]) + '  '+ str(round((focus[focus['cellSerialNumber_1']!= '0'].shape[0])/focus.shape[0]*100,1)) + '%')\n",
    "print('Pesagens na ponte P191021852 com 1 celulas ativas: ' + str(focus[focus['cellSerialNumber_0']!= '0'].shape[0]) + '  '+ str(round((focus[focus['cellSerialNumber_0']!= '0'].shape[0])/focus.shape[0]*100,1)) + '%')\n",
    "\n",
    "print('Pesagens na ponte P191021852 descartadas por não ter celulas ativas: ' + str(320459-focus.shape[0]))\n"
   ]
  },
  {
   "cell_type": "code",
   "execution_count": null,
   "metadata": {},
   "outputs": [],
   "source": [
    "print('Weighing in bridge P191021852: '+ str(focus.shape[0]))\n",
    "print('Weighing in bridge P191021852 with all cells active: ' + str(focus[focus['cellSerialNumber_7']!= '0'].shape[0]) + '  '+ str(round((focus[focus['cellSerialNumber_7']!= '0'].shape[0])/focus.shape[0]*100,1)) + '%')\n",
    "print('Weighing in bridge P191021852 with 7 active cells: ' + str(focus[focus['cellSerialNumber_6']!= '0'].shape[0]) + '  '+ str(round((focus[focus['cellSerialNumber_6']!= '0'].shape[0])/focus.shape[0]*100,1)) + '%')\n",
    "print('Weighing in bridge P191021852 with 6 active cells: ' + str(focus[focus['cellSerialNumber_5']!= '0'].shape[0]) + '  '+ str(round((focus[focus['cellSerialNumber_5']!= '0'].shape[0])/focus.shape[0]*100,1)) + '%')\n",
    "print('Weighing in bridge P191021852 with 5 active cells: ' + str(focus[focus['cellSerialNumber_4']!= '0'].shape[0]) + '  '+ str(round((focus[focus['cellSerialNumber_4']!= '0'].shape[0])/focus.shape[0]*100,1)) + '%')\n",
    "print('Weighing in bridge P191021852 with 4 active cells: ' + str(focus[focus['cellSerialNumber_3']!= '0'].shape[0]) + '  '+ str(round((focus[focus['cellSerialNumber_3']!= '0'].shape[0])/focus.shape[0]*100,1)) + '%')\n",
    "print('Weighing in bridge P191021852 with 3 active cells: ' + str(focus[focus['cellSerialNumber_2']!= '0'].shape[0]) + '  '+ str(round((focus[focus['cellSerialNumber_2']!= '0'].shape[0])/focus.shape[0]*100,1)) + '%')\n",
    "print('Weighing in bridge P191021852 with 2 active cells: ' + str(focus[focus['cellSerialNumber_1']!= '0'].shape[0]) + '  '+ str(round((focus[focus['cellSerialNumber_1']!= '0'].shape[0])/focus.shape[0]*100,1)) + '%')\n",
    "print('Weighing in bridge P191021852 with 1 active cells: ' + str(focus[focus['cellSerialNumber_0']!= '0'].shape[0]) + '  '+ str(round((focus[focus['cellSerialNumber_0']!= '0'].shape[0])/focus.shape[0]*100,1)) + '%')\n",
    "\n",
    "print('Weighing in bridge P191021852 discarded due to no active cells: ' + str(320459-focus.shape[0]))"
   ]
  },
  {
   "cell_type": "code",
   "execution_count": null,
   "metadata": {},
   "outputs": [],
   "source": [
    "#calcular percentagens para X celulas ativas\n",
    "impasse=focus[focus['cellSerialNumber_6']!= '0']\n",
    "impasse[impasse['cellSerialNumber_7']== '0'].shape[0]"
   ]
  },
  {
   "cell_type": "code",
   "execution_count": null,
   "metadata": {},
   "outputs": [],
   "source": []
  },
  {
   "cell_type": "markdown",
   "metadata": {},
   "source": [
    " avaliar caracterisitcas como:\n",
    " - percentagem de vezes que x celula falha\n",
    " - avaliar media do valor do peso em pesagens feitas com a totalidade, 7, 6, 5... celulas\n",
    " - avaliar tendencias de falha de uma celula com base na falha de outras celulas\n",
    " - avaliar fator temporal na falhas: se o processo de falha e sequencial no tempo, e se e posterior a atingir um valor isolado ou cumulativo de peso"
   ]
  },
  {
   "cell_type": "markdown",
   "metadata": {},
   "source": [
    "### ordenar por data"
   ]
  },
  {
   "cell_type": "code",
   "execution_count": null,
   "metadata": {},
   "outputs": [],
   "source": [
    "ordenado=focus.sort_values(by='timestamp')\n",
    "ordenado"
   ]
  },
  {
   "cell_type": "markdown",
   "metadata": {},
   "source": [
    "Gravaçoes de 2019-05-09 14:22:55 ate 2020-05-22 15:40:08"
   ]
  },
  {
   "cell_type": "markdown",
   "metadata": {},
   "source": [
    "### transformar celulas tipo one hot"
   ]
  },
  {
   "cell_type": "code",
   "execution_count": null,
   "metadata": {},
   "outputs": [],
   "source": [
    "y = pd.get_dummies(focus[['cellSerialNumber_0','cellSerialNumber_1','cellSerialNumber_2','cellSerialNumber_3','cellSerialNumber_4','cellSerialNumber_5','cellSerialNumber_6','cellSerialNumber_7']], prefix='', prefix_sep='')#,'cellSerialNumber_1']])#, prefix='Country')"
   ]
  },
  {
   "cell_type": "code",
   "execution_count": null,
   "metadata": {},
   "outputs": [],
   "source": [
    "y"
   ]
  },
  {
   "cell_type": "code",
   "execution_count": null,
   "metadata": {},
   "outputs": [],
   "source": [
    "y"
   ]
  },
  {
   "cell_type": "code",
   "execution_count": null,
   "metadata": {
    "scrolled": true
   },
   "outputs": [],
   "source": [
    "teste=y.groupby(y.columns, axis=1).sum()\n",
    "teste"
   ]
  },
  {
   "cell_type": "code",
   "execution_count": null,
   "metadata": {},
   "outputs": [],
   "source": [
    "focus.head()"
   ]
  },
  {
   "cell_type": "code",
   "execution_count": null,
   "metadata": {},
   "outputs": [],
   "source": [
    "teste['timestamp']=focus.timestamp"
   ]
  },
  {
   "cell_type": "code",
   "execution_count": null,
   "metadata": {},
   "outputs": [],
   "source": [
    "teste"
   ]
  },
  {
   "cell_type": "code",
   "execution_count": null,
   "metadata": {},
   "outputs": [],
   "source": [
    "testeordenado=teste.sort_values(by='timestamp')"
   ]
  },
  {
   "cell_type": "code",
   "execution_count": null,
   "metadata": {},
   "outputs": [],
   "source": [
    "testeordenado"
   ]
  },
  {
   "cell_type": "code",
   "execution_count": null,
   "metadata": {},
   "outputs": [],
   "source": [
    "import matplotlib.pyplot as plt\n",
    "import seaborn as sns\n",
    "\n",
    "plt.figure(figsize =(50,12))\n",
    "mean_group = testeordenado.iloc[: , [1,2,3,4,5,6,7,8]]#   data.groupby([\"ORDERDATE\"])[\"SALES\"].median()\n",
    "plt.plot(mean_group)\n",
    "plt.title(\"Time series median\")\n",
    "#plt.legend(teste.columns[1:])\n",
    "plt.show()"
   ]
  },
  {
   "cell_type": "code",
   "execution_count": null,
   "metadata": {},
   "outputs": [],
   "source": [
    "import matplotlib.pyplot as plt\n",
    "\n",
    "plt.matshow(testeordenado.corr())\n",
    "plt.show()"
   ]
  },
  {
   "cell_type": "code",
   "execution_count": null,
   "metadata": {},
   "outputs": [],
   "source": [
    "import matplotlib.pyplot as plt\n",
    "\n",
    "plt.matshow(testeordenado.corr(method='spearman'))\n",
    "plt.show()"
   ]
  },
  {
   "cell_type": "code",
   "execution_count": null,
   "metadata": {},
   "outputs": [],
   "source": [
    "import matplotlib.pyplot as plt\n",
    "\n",
    "plt.matshow(testeordenado.cov())\n",
    "plt.show()\n"
   ]
  },
  {
   "cell_type": "code",
   "execution_count": null,
   "metadata": {},
   "outputs": [],
   "source": [
    "f = plt.figure(figsize=(10, 10))\n",
    "plt.matshow(testeordenado.corr(), fignum=f.number)\n",
    "plt.xticks(range(testeordenado.shape[1]), testeordenado.columns, fontsize=14, rotation=45)\n",
    "plt.yticks(range(testeordenado.shape[1]), testeordenado.columns, fontsize=14)\n",
    "cb = plt.colorbar()\n",
    "cb.ax.tick_params(labelsize=14)\n",
    "plt.title('Correlation Matrix', fontsize=16);"
   ]
  },
  {
   "cell_type": "code",
   "execution_count": null,
   "metadata": {},
   "outputs": [],
   "source": [
    "teste.columns[1:]"
   ]
  },
  {
   "cell_type": "code",
   "execution_count": null,
   "metadata": {},
   "outputs": [],
   "source": [
    "teste.iloc[: , [1,2,3,4,5,6,7,8]]"
   ]
  },
  {
   "cell_type": "code",
   "execution_count": null,
   "metadata": {},
   "outputs": [],
   "source": []
  },
  {
   "cell_type": "code",
   "execution_count": null,
   "metadata": {},
   "outputs": [],
   "source": []
  },
  {
   "cell_type": "code",
   "execution_count": null,
   "metadata": {},
   "outputs": [],
   "source": []
  },
  {
   "cell_type": "code",
   "execution_count": null,
   "metadata": {},
   "outputs": [],
   "source": [
    "Data=focus.drop(['_id','terminalSerialNumber','scaleSerialNumber'],axis=1)#focus[['timestamp','scaleGross','scaleNet']]"
   ]
  },
  {
   "cell_type": "code",
   "execution_count": null,
   "metadata": {},
   "outputs": [],
   "source": [
    "Data.head()"
   ]
  },
  {
   "cell_type": "code",
   "execution_count": null,
   "metadata": {},
   "outputs": [],
   "source": []
  },
  {
   "cell_type": "code",
   "execution_count": null,
   "metadata": {},
   "outputs": [],
   "source": [
    "result = pd.concat([Data, teste], axis=1, sort=False)"
   ]
  },
  {
   "cell_type": "code",
   "execution_count": null,
   "metadata": {},
   "outputs": [],
   "source": [
    "result"
   ]
  },
  {
   "cell_type": "markdown",
   "metadata": {},
   "source": [
    "### avaliar id iguais\n"
   ]
  },
  {
   "cell_type": "markdown",
   "metadata": {},
   "source": [
    "validar_ids=dados.sort_values(['_id','cellId_0']).set_index(['_id','cellId_0']).count()"
   ]
  },
  {
   "cell_type": "markdown",
   "metadata": {},
   "source": [
    "validar_ids=dados.sort_values(['_id'],ascending=False)#.set_index(['_id'])"
   ]
  },
  {
   "cell_type": "markdown",
   "metadata": {},
   "source": [
    "dados.groupby(['_id']).size().sort_values(ascending=False)"
   ]
  },
  {
   "cell_type": "markdown",
   "metadata": {},
   "source": [
    "##### Avaliar contagem de variaveis para msm id = nºx que se repete id"
   ]
  },
  {
   "cell_type": "code",
   "execution_count": null,
   "metadata": {},
   "outputs": [],
   "source": [
    "validar_ids=dados.groupby('cellId_0').count()#.apply(pd.DataFrame.sort_values, '_id')"
   ]
  },
  {
   "cell_type": "code",
   "execution_count": null,
   "metadata": {
    "scrolled": false
   },
   "outputs": [],
   "source": [
    "validar_ids.sort_values(by=['cellId_0','cellId_1','cellId_2','cellId_3','cellId_4','cellId_5'], ascending=False)"
   ]
  },
  {
   "cell_type": "code",
   "execution_count": null,
   "metadata": {},
   "outputs": [],
   "source": [
    "maybe2=dados[dados['_id']=='5eb0761da4982500078f7abd']\n",
    "maybe2"
   ]
  },
  {
   "cell_type": "markdown",
   "metadata": {},
   "source": [
    "##### Avaliar contagem de variaveis UNICAS para msm cell "
   ]
  },
  {
   "cell_type": "code",
   "execution_count": null,
   "metadata": {},
   "outputs": [],
   "source": [
    "validar_ids=dados.groupby('cellId_0').nunique()"
   ]
  },
  {
   "cell_type": "code",
   "execution_count": null,
   "metadata": {},
   "outputs": [],
   "source": [
    "validar_ids=dados.sort_values(['cellId_0']).set_index(['cellId_0'])"
   ]
  },
  {
   "cell_type": "code",
   "execution_count": null,
   "metadata": {},
   "outputs": [],
   "source": [
    "validar_ids=dados.sort_values(['scaleSerialNumber']).set_index(['scaleSerialNumber'])"
   ]
  },
  {
   "cell_type": "code",
   "execution_count": null,
   "metadata": {},
   "outputs": [],
   "source": [
    "validar_ids.max()"
   ]
  },
  {
   "cell_type": "code",
   "execution_count": null,
   "metadata": {
    "scrolled": true
   },
   "outputs": [],
   "source": [
    "validar_ids"
   ]
  },
  {
   "cell_type": "markdown",
   "metadata": {},
   "source": [
    "##### Avaliar contagem de variaveis UNICAS para msm id = nºx que se repete id"
   ]
  },
  {
   "cell_type": "code",
   "execution_count": null,
   "metadata": {},
   "outputs": [],
   "source": [
    "validar_ids=dados.groupby('_id').nunique()"
   ]
  },
  {
   "cell_type": "code",
   "execution_count": null,
   "metadata": {},
   "outputs": [],
   "source": [
    "validar_ids.max()"
   ]
  },
  {
   "cell_type": "code",
   "execution_count": null,
   "metadata": {},
   "outputs": [],
   "source": [
    "validar_ids.sort_values(by=['terminalSerialNumber'], ascending=False)"
   ]
  },
  {
   "cell_type": "code",
   "execution_count": null,
   "metadata": {},
   "outputs": [],
   "source": [
    "maybe2=dados[dados['_id']=='5e8e79f931557300072fdafc']\n",
    "maybe2"
   ]
  },
  {
   "cell_type": "markdown",
   "metadata": {},
   "source": [
    "informaçoes\n",
    "- ha muitos duplicados ao nivel do id - deitar fora"
   ]
  },
  {
   "cell_type": "code",
   "execution_count": null,
   "metadata": {},
   "outputs": [],
   "source": [
    "dados_no_duplicates=dados.drop_duplicates()\n",
    "print(dados.shape)\n",
    "print(dados_no_duplicates.shape)"
   ]
  },
  {
   "cell_type": "code",
   "execution_count": null,
   "metadata": {},
   "outputs": [],
   "source": [
    "dados_no_duplicates.nunique()"
   ]
  },
  {
   "cell_type": "code",
   "execution_count": null,
   "metadata": {},
   "outputs": [],
   "source": [
    "maybe2=dados_no_duplicates[dados_no_duplicates['_id']=='5e8e79f931557300072fdafc']\n",
    "maybe2"
   ]
  },
  {
   "cell_type": "markdown",
   "metadata": {},
   "source": [
    "informaçao:\n",
    "- como diferente tipos de dados ou casas decimais provocam duplicates, avaliar id unicos de pesagens e fazer inner join com dados\n",
    "- no fim so se pode ter 871549 pesagens"
   ]
  },
  {
   "cell_type": "markdown",
   "metadata": {},
   "source": [
    "# dados unicos"
   ]
  },
  {
   "cell_type": "code",
   "execution_count": null,
   "metadata": {},
   "outputs": [],
   "source": [
    "dados_no_duplicates_id=dados.drop_duplicates(subset=['_id'])\n",
    "print(dados_no_duplicates_id.shape)\n",
    "#df.drop_duplicates(subset=['bio', 'center', 'outcome'])"
   ]
  },
  {
   "cell_type": "code",
   "execution_count": null,
   "metadata": {},
   "outputs": [],
   "source": [
    "dados_no_duplicates_id.to_csv('weighings.csv')"
   ]
  },
  {
   "cell_type": "code",
   "execution_count": null,
   "metadata": {},
   "outputs": [],
   "source": [
    "dados=pd.read_csv('weighings.csv').drop('Unnamed: 0', axis=1)"
   ]
  },
  {
   "cell_type": "code",
   "execution_count": null,
   "metadata": {},
   "outputs": [],
   "source": [
    "dados.head()"
   ]
  },
  {
   "cell_type": "markdown",
   "metadata": {},
   "source": [
    "#### avaliar combinaçoes"
   ]
  },
  {
   "cell_type": "code",
   "execution_count": null,
   "metadata": {},
   "outputs": [],
   "source": [
    "validar_ids=dados.groupby('_id').nunique()"
   ]
  },
  {
   "cell_type": "code",
   "execution_count": null,
   "metadata": {},
   "outputs": [],
   "source": [
    "validar_ids=dados.groupby('cellId_2').nunique()"
   ]
  },
  {
   "cell_type": "code",
   "execution_count": null,
   "metadata": {},
   "outputs": [],
   "source": [
    "validar_ids.max()"
   ]
  },
  {
   "cell_type": "code",
   "execution_count": null,
   "metadata": {},
   "outputs": [],
   "source": [
    "details=pd.DataFrame(dados.dtypes, columns=['type'])\n",
    "details['#Nan']=dados.isnull().sum(axis = 0)\n",
    "details['#uniques']=dados.nunique()"
   ]
  },
  {
   "cell_type": "code",
   "execution_count": null,
   "metadata": {},
   "outputs": [],
   "source": [
    "details['valida']=details['#uniques']+details['#Nan']"
   ]
  },
  {
   "cell_type": "code",
   "execution_count": null,
   "metadata": {},
   "outputs": [],
   "source": [
    "details"
   ]
  },
  {
   "cell_type": "markdown",
   "metadata": {},
   "source": [
    "Informaçoes:\n",
    "- para qq groupby de celula, o maximo de unicos e sempre 1, ou seja a combinaçao cel 0-1-2-3... e sempre unica. um id da celula 1 so da para a celula com id0 certa\n",
    "- confirmado pelo numeor de unicos+nan ser igual ao totla de pesagens feitas"
   ]
  },
  {
   "cell_type": "markdown",
   "metadata": {},
   "source": [
    "grave:\n",
    "- cada nao ha varias pesagens diferentes com o msm id de celulas, ie, nenhuma celeua com mais que uma pesagem"
   ]
  },
  {
   "cell_type": "markdown",
   "metadata": {},
   "source": [
    "### transformaçao dos dados"
   ]
  },
  {
   "cell_type": "markdown",
   "metadata": {},
   "source": [
    "- avalair qts pontes têm 2,4,6,8 celulas\n",
    "- avaliar se ha pontes com celulas impar\n",
    "- transformaçao das datas + idade da celula\n",
    "- "
   ]
  },
  {
   "cell_type": "code",
   "execution_count": null,
   "metadata": {},
   "outputs": [],
   "source": [
    "dados.head()"
   ]
  },
  {
   "cell_type": "markdown",
   "metadata": {},
   "source": [
    "#### Avaliar nº pesagens  para pontes com variavel nº de celulas"
   ]
  },
  {
   "cell_type": "code",
   "execution_count": null,
   "metadata": {},
   "outputs": [],
   "source": [
    "## avalair qts celulas\n",
    "dados_8=dados[dados['cellId_0'].notnull() & dados['cellId_1'].notnull() & dados['cellId_2'].notnull() & dados['cellId_3'].notnull() & dados['cellId_4'].notnull() & dados['cellId_5'].notnull() & dados['cellId_6'].notnull() & dados['cellId_7'].notnull()]\n",
    "print('nº weighing with 8 functional cells:' + str(dados_8.shape[0]))\n",
    "\n",
    "dados_7=dados[dados['cellId_0'].notnull() & dados['cellId_1'].notnull() & dados['cellId_2'].notnull() & dados['cellId_3'].notnull() & dados['cellId_4'].notnull() & dados['cellId_5'].notnull() & dados['cellId_6'].notnull() ]\n",
    "print('nº weighing with 7 functional cells:' + str(dados_7.shape[0]))\n",
    "\n",
    "dados_6=dados[dados['cellId_0'].notnull() & dados['cellId_1'].notnull() & dados['cellId_2'].notnull() & dados['cellId_3'].notnull() & dados['cellId_4'].notnull() & dados['cellId_5'].notnull()]\n",
    "print('nº weighing with 6 functional cells:' + str(dados_6.shape[0]))\n",
    "\n",
    "dados_5=dados[dados['cellId_0'].notnull() & dados['cellId_1'].notnull() & dados['cellId_2'].notnull() & dados['cellId_3'].notnull() & dados['cellId_4'].notnull()]\n",
    "print('nº weighing with 5 functional cells:' + str(dados_5.shape[0]))\n",
    "\n",
    "dados_4=dados[dados['cellId_0'].notnull() & dados['cellId_1'].notnull() & dados['cellId_2'].notnull() & dados['cellId_3'].notnull()]\n",
    "print('nº weighing with 4 functional cells:' + str(dados_4.shape[0]))\n",
    "\n",
    "dados_3=dados[dados['cellId_0'].notnull() & dados['cellId_1'].notnull() & dados['cellId_2'].notnull()]\n",
    "print('nº weighing with 3 functional cells:' + str(dados_3.shape[0]))\n",
    "\n",
    "dados_2=dados[dados['cellId_0'].notnull() & dados['cellId_1'].notnull()]\n",
    "print('nº weighing with 2 functional cells:' + str(dados_2.shape[0]))\n",
    "\n",
    "dados_1=dados[dados['cellId_0'].notnull()]\n",
    "print('nº weighing with 1 functional cells:' + str(dados_1.shape[0]))"
   ]
  },
  {
   "cell_type": "markdown",
   "metadata": {},
   "source": [
    "- Há pesagens para pontes com nº impar\n",
    "- Há 29258 pesagens sem ponte nenhuma\n",
    "- Para alem de todas as comiançoes de id de celulas serem unicas, nao ha cenarios de falhar celula 0 e ter celula1"
   ]
  },
  {
   "cell_type": "code",
   "execution_count": null,
   "metadata": {},
   "outputs": [],
   "source": [
    "combined = dados.append(dados_1)\n",
    "combined=combined[~combined.index.duplicated(keep=False)]\n",
    "print(combined.shape[0])"
   ]
  },
  {
   "cell_type": "code",
   "execution_count": null,
   "metadata": {},
   "outputs": [],
   "source": [
    "combined.head()"
   ]
  },
  {
   "cell_type": "code",
   "execution_count": null,
   "metadata": {},
   "outputs": [],
   "source": [
    "details=pd.DataFrame(combined.nunique(), columns=['nº uniques with cell0 Nan'])\n",
    "details['n_uniques with cell0']=dados_1.nunique()\n",
    "details['n_uniques in all']=dados.nunique()"
   ]
  },
  {
   "cell_type": "code",
   "execution_count": null,
   "metadata": {},
   "outputs": [],
   "source": [
    "details"
   ]
  },
  {
   "cell_type": "code",
   "execution_count": null,
   "metadata": {},
   "outputs": [],
   "source": [
    "## nao ha cenario de nao haver cell 0 e ter cell 1\n",
    "teste=dados[dados['cellId_0'].isnull()]\n",
    "teste['cellId_2'].unique()"
   ]
  },
  {
   "cell_type": "code",
   "execution_count": null,
   "metadata": {},
   "outputs": [],
   "source": [
    "teste=dados[dados['cellId_1'].isnull()]\n",
    "teste['cellId_3'].unique()"
   ]
  },
  {
   "cell_type": "markdown",
   "metadata": {},
   "source": [
    "### Data"
   ]
  },
  {
   "cell_type": "code",
   "execution_count": null,
   "metadata": {},
   "outputs": [],
   "source": [
    "dados.head()"
   ]
  },
  {
   "cell_type": "code",
   "execution_count": null,
   "metadata": {},
   "outputs": [],
   "source": [
    "    df.data= pd.to_datetime(df.data, format='%Y%m%d%H%M%S')\n",
    "    df['day'] = df['data'].dt.day\n",
    "    df['Hour'] = df['data'].dt.hour\n",
    "    df['Minute'] = df['data'].dt.minute\n",
    "    df['Year'] = df['data'].dt.year\n",
    "    df['Month'] = df['data'].dt.month\n",
    "    \n",
    "    Year=df.Year.unique()[0]\n",
    "    Month=df.Month.unique()[0]\n",
    "    Day=df.day.unique()[0]"
   ]
  },
  {
   "cell_type": "code",
   "execution_count": null,
   "metadata": {},
   "outputs": [],
   "source": [
    "dados['data']= pd.to_datetime(dados.timestamp, format='%Y-%m-%d %H:%M:%S.%f')#'%Y%m%d%H%M%S%S%f')"
   ]
  },
  {
   "cell_type": "code",
   "execution_count": null,
   "metadata": {},
   "outputs": [],
   "source": [
    "dados['day'] = dados['data'].dt.day"
   ]
  },
  {
   "cell_type": "code",
   "execution_count": null,
   "metadata": {},
   "outputs": [],
   "source": [
    "dados"
   ]
  },
  {
   "cell_type": "markdown",
   "metadata": {},
   "source": [
    "## teste bascio PCA"
   ]
  },
  {
   "cell_type": "code",
   "execution_count": null,
   "metadata": {},
   "outputs": [],
   "source": [
    "def encode(data,categorical_features):\n",
    "    categorical_names = {}\n",
    "    for feature in categorical_features:\n",
    "        le = sklearn.preprocessing.LabelEncoder()\n",
    "        #le.fit(frame2[:, feature])\n",
    "        #train_numpy_array[:, feature] = le.fit_transform(train_numpy_array[:, feature])\n",
    "        data[:, feature] = le.fit_transform(data[:, feature])\n",
    "        categorical_names[feature] = le.classes_\n",
    "    return data, categorical_names"
   ]
  },
  {
   "cell_type": "code",
   "execution_count": null,
   "metadata": {},
   "outputs": [],
   "source": [
    "prePCA.head()"
   ]
  },
  {
   "cell_type": "code",
   "execution_count": null,
   "metadata": {},
   "outputs": [],
   "source": [
    "prePCA=dados.set_index('_id').drop('timestamp', axis=1)\n",
    "categorical_features = [0,1,4,5,20]"
   ]
  },
  {
   "cell_type": "markdown",
   "metadata": {},
   "source": [
    "- Converter data em idade\n",
    "- transformar id de celulas em se tem 2,4,6,8, impares\n",
    "- transformar ids em se e a combinaçao 1 ,2, 3 ...."
   ]
  },
  {
   "cell_type": "code",
   "execution_count": null,
   "metadata": {},
   "outputs": [],
   "source": [
    "from sklearn.decomposition import PCA, IncrementalPCA\n",
    "pcat = PCA()\n",
    "principalComponentsT = pcat.fit_transform(dados)\n",
    "pesos= pcat.explained_variance_ratio_\n",
    "loadingT=pcat.components_.T * np.sqrt(pcat.explained_variance_)"
   ]
  },
  {
   "cell_type": "code",
   "execution_count": null,
   "metadata": {},
   "outputs": [],
   "source": []
  }
 ],
 "metadata": {
  "kernelspec": {
   "display_name": "Python 3",
   "language": "python",
   "name": "python3"
  },
  "language_info": {
   "codemirror_mode": {
    "name": "ipython",
    "version": 3
   },
   "file_extension": ".py",
   "mimetype": "text/x-python",
   "name": "python",
   "nbconvert_exporter": "python",
   "pygments_lexer": "ipython3",
   "version": "3.6.8"
  }
 },
 "nbformat": 4,
 "nbformat_minor": 2
}
