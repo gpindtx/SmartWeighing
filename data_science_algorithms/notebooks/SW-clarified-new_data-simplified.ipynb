{
 "cells": [
  {
   "cell_type": "code",
   "execution_count": 1,
   "metadata": {},
   "outputs": [],
   "source": [
    "import pandas as pd\n",
    "import numpy as np"
   ]
  },
  {
   "cell_type": "markdown",
   "metadata": {},
   "source": [
    "## criar dataset "
   ]
  },
  {
   "cell_type": "markdown",
   "metadata": {},
   "source": [
    "dados=pd.DataFrame()\n",
    "for i in range(1,21):\n",
    "    teste=pd.read_json('treated/weighings_partition'+str(i)+'.json')#+str(i)\n",
    "    dados=dados.append(teste, ignore_index=True)"
   ]
  },
  {
   "cell_type": "markdown",
   "metadata": {},
   "source": [
    "dados.to_csv('all_weighings_full_new.csv')"
   ]
  },
  {
   "cell_type": "code",
   "execution_count": null,
   "metadata": {},
   "outputs": [],
   "source": [
    "dados.shape[0]"
   ]
  },
  {
   "cell_type": "code",
   "execution_count": null,
   "metadata": {},
   "outputs": [],
   "source": [
    "dados._id.nunique()"
   ]
  },
  {
   "cell_type": "markdown",
   "metadata": {},
   "source": [
    "- todos os id sao unicos - 3361480"
   ]
  },
  {
   "cell_type": "code",
   "execution_count": null,
   "metadata": {},
   "outputs": [],
   "source": [
    "dados=dados.drop(['cellId_0','cellId_1','cellId_2','cellId_3','cellId_4','cellId_5','cellId_6','cellId_7'], axis=1)"
   ]
  },
  {
   "cell_type": "code",
   "execution_count": null,
   "metadata": {},
   "outputs": [],
   "source": [
    "details=pd.DataFrame(dados.dtypes, columns=['type'])\n",
    "details['#Nan']=dados.isnull().sum(axis = 0)\n",
    "details['#uniques']=dados.nunique()"
   ]
  },
  {
   "cell_type": "code",
   "execution_count": null,
   "metadata": {},
   "outputs": [],
   "source": [
    "details"
   ]
  },
  {
   "cell_type": "code",
   "execution_count": null,
   "metadata": {
    "scrolled": false
   },
   "outputs": [],
   "source": [
    "dados2=pd.read_csv('all_weighings_full.csv').drop(['Unnamed: 0','cellId_0','cellId_1','cellId_2','cellId_3','cellId_4','cellId_5','cellId_6','cellId_7'], axis=1)"
   ]
  },
  {
   "cell_type": "code",
   "execution_count": null,
   "metadata": {},
   "outputs": [],
   "source": [
    "details=pd.DataFrame(dados2.dtypes, columns=['type'])\n",
    "details['#Nan']=dados2.isnull().sum(axis = 0)\n",
    "details['#uniques']=dados2.nunique()"
   ]
  },
  {
   "cell_type": "code",
   "execution_count": null,
   "metadata": {},
   "outputs": [],
   "source": [
    "details"
   ]
  },
  {
   "cell_type": "code",
   "execution_count": null,
   "metadata": {
    "scrolled": false
   },
   "outputs": [],
   "source": [
    "dados.head(3)"
   ]
  },
  {
   "cell_type": "code",
   "execution_count": null,
   "metadata": {
    "scrolled": true
   },
   "outputs": [],
   "source": [
    "dados2.head(3)"
   ]
  },
  {
   "cell_type": "markdown",
   "metadata": {},
   "source": [
    "dados2=pd.read_excel('111115.xlsx')#.drop(['Unnamed: 0','cellId_0','cellId_1','cellId_2','cellId_3','cellId_4','cellId_5','cellId_6','cellId_7'], axis=1)"
   ]
  },
  {
   "cell_type": "markdown",
   "metadata": {},
   "source": [
    "## Ler novos dados"
   ]
  },
  {
   "cell_type": "code",
   "execution_count": 2,
   "metadata": {},
   "outputs": [
    {
     "name": "stderr",
     "output_type": "stream",
     "text": [
      "/usr/local/lib/python3.6/dist-packages/IPython/core/interactiveshell.py:3058: DtypeWarning: Columns (3,8,11,14,17,20,23,26,29) have mixed types. Specify dtype option on import or set low_memory=False.\n",
      "  interactivity=interactivity, compiler=compiler, result=result)\n"
     ]
    }
   ],
   "source": [
    "dados=pd.read_csv('all_weighings_full_new.csv').drop(['Unnamed: 0','cellId_0','cellId_1','cellId_2','cellId_3','cellId_4','cellId_5','cellId_6','cellId_7'], axis=1)"
   ]
  },
  {
   "cell_type": "code",
   "execution_count": 3,
   "metadata": {},
   "outputs": [
    {
     "data": {
      "text/html": [
       "<div>\n",
       "<style scoped>\n",
       "    .dataframe tbody tr th:only-of-type {\n",
       "        vertical-align: middle;\n",
       "    }\n",
       "\n",
       "    .dataframe tbody tr th {\n",
       "        vertical-align: top;\n",
       "    }\n",
       "\n",
       "    .dataframe thead th {\n",
       "        text-align: right;\n",
       "    }\n",
       "</style>\n",
       "<table border=\"1\" class=\"dataframe\">\n",
       "  <thead>\n",
       "    <tr style=\"text-align: right;\">\n",
       "      <th></th>\n",
       "      <th>_id</th>\n",
       "      <th>timestamp</th>\n",
       "      <th>terminalSerialNumber</th>\n",
       "      <th>scaleSerialNumber</th>\n",
       "      <th>scaleGross</th>\n",
       "      <th>scaleNet</th>\n",
       "      <th>cellSerialNumber_0</th>\n",
       "      <th>cellWeight_0</th>\n",
       "      <th>cellSerialNumber_1</th>\n",
       "      <th>cellWeight_1</th>\n",
       "      <th>...</th>\n",
       "      <th>cellSerialNumber_3</th>\n",
       "      <th>cellWeight_3</th>\n",
       "      <th>cellSerialNumber_4</th>\n",
       "      <th>cellWeight_4</th>\n",
       "      <th>cellSerialNumber_5</th>\n",
       "      <th>cellWeight_5</th>\n",
       "      <th>cellSerialNumber_6</th>\n",
       "      <th>cellWeight_6</th>\n",
       "      <th>cellSerialNumber_7</th>\n",
       "      <th>cellWeight_7</th>\n",
       "    </tr>\n",
       "  </thead>\n",
       "  <tbody>\n",
       "    <tr>\n",
       "      <th>0</th>\n",
       "      <td>5cd44e226e264493b0820ae4</td>\n",
       "      <td>2019-05-09 15:50:58</td>\n",
       "      <td>160690</td>\n",
       "      <td>P191021852</td>\n",
       "      <td>0.0</td>\n",
       "      <td>0.0</td>\n",
       "      <td>7.45033e+06</td>\n",
       "      <td>0.0</td>\n",
       "      <td>7.45033e+06</td>\n",
       "      <td>0.0</td>\n",
       "      <td>...</td>\n",
       "      <td>7.45034e+06</td>\n",
       "      <td>0.0</td>\n",
       "      <td>7.45034e+06</td>\n",
       "      <td>0.0</td>\n",
       "      <td>7.45034e+06</td>\n",
       "      <td>0.0</td>\n",
       "      <td>7.45034e+06</td>\n",
       "      <td>0.0</td>\n",
       "      <td>7.45034e+06</td>\n",
       "      <td>0.0</td>\n",
       "    </tr>\n",
       "    <tr>\n",
       "      <th>1</th>\n",
       "      <td>5cd44e226e2644843d820aed</td>\n",
       "      <td>2019-05-09 15:51:26</td>\n",
       "      <td>160690</td>\n",
       "      <td>P191021852</td>\n",
       "      <td>0.0</td>\n",
       "      <td>0.0</td>\n",
       "      <td>7.45033e+06</td>\n",
       "      <td>0.0</td>\n",
       "      <td>7.45033e+06</td>\n",
       "      <td>0.0</td>\n",
       "      <td>...</td>\n",
       "      <td>7.45034e+06</td>\n",
       "      <td>0.0</td>\n",
       "      <td>7.45034e+06</td>\n",
       "      <td>0.0</td>\n",
       "      <td>7.45034e+06</td>\n",
       "      <td>0.0</td>\n",
       "      <td>7.45034e+06</td>\n",
       "      <td>0.0</td>\n",
       "      <td>7.45034e+06</td>\n",
       "      <td>0.0</td>\n",
       "    </tr>\n",
       "    <tr>\n",
       "      <th>2</th>\n",
       "      <td>5cd44e236e26442493820af6</td>\n",
       "      <td>2019-05-09 15:51:28</td>\n",
       "      <td>160690</td>\n",
       "      <td>P191021852</td>\n",
       "      <td>0.0</td>\n",
       "      <td>0.0</td>\n",
       "      <td>7.45033e+06</td>\n",
       "      <td>0.0</td>\n",
       "      <td>7.45033e+06</td>\n",
       "      <td>0.0</td>\n",
       "      <td>...</td>\n",
       "      <td>7.45034e+06</td>\n",
       "      <td>0.0</td>\n",
       "      <td>7.45034e+06</td>\n",
       "      <td>0.0</td>\n",
       "      <td>7.45034e+06</td>\n",
       "      <td>0.0</td>\n",
       "      <td>7.45034e+06</td>\n",
       "      <td>0.0</td>\n",
       "      <td>7.45034e+06</td>\n",
       "      <td>0.0</td>\n",
       "    </tr>\n",
       "    <tr>\n",
       "      <th>3</th>\n",
       "      <td>5cd43e84a61883174cc58471</td>\n",
       "      <td>2019-05-09 14:44:49</td>\n",
       "      <td>160690</td>\n",
       "      <td>P191021852</td>\n",
       "      <td>0.0</td>\n",
       "      <td>0.0</td>\n",
       "      <td>7.45034e+06</td>\n",
       "      <td>0.0</td>\n",
       "      <td>7.45034e+06</td>\n",
       "      <td>0.0</td>\n",
       "      <td>...</td>\n",
       "      <td>7.45034e+06</td>\n",
       "      <td>0.0</td>\n",
       "      <td>NaN</td>\n",
       "      <td>NaN</td>\n",
       "      <td>NaN</td>\n",
       "      <td>NaN</td>\n",
       "      <td>NaN</td>\n",
       "      <td>NaN</td>\n",
       "      <td>NaN</td>\n",
       "      <td>NaN</td>\n",
       "    </tr>\n",
       "    <tr>\n",
       "      <th>4</th>\n",
       "      <td>5cd43b3fa618834976c583a1</td>\n",
       "      <td>2019-05-09 14:30:52</td>\n",
       "      <td>160690</td>\n",
       "      <td>P191021852</td>\n",
       "      <td>80.0</td>\n",
       "      <td>80.0</td>\n",
       "      <td>7.45033e+06</td>\n",
       "      <td>80.0</td>\n",
       "      <td>7.45033e+06</td>\n",
       "      <td>0.0</td>\n",
       "      <td>...</td>\n",
       "      <td>7.45034e+06</td>\n",
       "      <td>0.0</td>\n",
       "      <td>7.45034e+06</td>\n",
       "      <td>0.0</td>\n",
       "      <td>7.45034e+06</td>\n",
       "      <td>0.0</td>\n",
       "      <td>7.45034e+06</td>\n",
       "      <td>0.0</td>\n",
       "      <td>7.45034e+06</td>\n",
       "      <td>0.0</td>\n",
       "    </tr>\n",
       "  </tbody>\n",
       "</table>\n",
       "<p>5 rows × 22 columns</p>\n",
       "</div>"
      ],
      "text/plain": [
       "                        _id            timestamp terminalSerialNumber  \\\n",
       "0  5cd44e226e264493b0820ae4  2019-05-09 15:50:58               160690   \n",
       "1  5cd44e226e2644843d820aed  2019-05-09 15:51:26               160690   \n",
       "2  5cd44e236e26442493820af6  2019-05-09 15:51:28               160690   \n",
       "3  5cd43e84a61883174cc58471  2019-05-09 14:44:49               160690   \n",
       "4  5cd43b3fa618834976c583a1  2019-05-09 14:30:52               160690   \n",
       "\n",
       "  scaleSerialNumber  scaleGross  scaleNet cellSerialNumber_0  cellWeight_0  \\\n",
       "0        P191021852         0.0       0.0        7.45033e+06           0.0   \n",
       "1        P191021852         0.0       0.0        7.45033e+06           0.0   \n",
       "2        P191021852         0.0       0.0        7.45033e+06           0.0   \n",
       "3        P191021852         0.0       0.0        7.45034e+06           0.0   \n",
       "4        P191021852        80.0      80.0        7.45033e+06          80.0   \n",
       "\n",
       "  cellSerialNumber_1  cellWeight_1  ... cellSerialNumber_3  cellWeight_3  \\\n",
       "0        7.45033e+06           0.0  ...        7.45034e+06           0.0   \n",
       "1        7.45033e+06           0.0  ...        7.45034e+06           0.0   \n",
       "2        7.45033e+06           0.0  ...        7.45034e+06           0.0   \n",
       "3        7.45034e+06           0.0  ...        7.45034e+06           0.0   \n",
       "4        7.45033e+06           0.0  ...        7.45034e+06           0.0   \n",
       "\n",
       "  cellSerialNumber_4  cellWeight_4 cellSerialNumber_5  cellWeight_5  \\\n",
       "0        7.45034e+06           0.0        7.45034e+06           0.0   \n",
       "1        7.45034e+06           0.0        7.45034e+06           0.0   \n",
       "2        7.45034e+06           0.0        7.45034e+06           0.0   \n",
       "3                NaN           NaN                NaN           NaN   \n",
       "4        7.45034e+06           0.0        7.45034e+06           0.0   \n",
       "\n",
       "  cellSerialNumber_6  cellWeight_6 cellSerialNumber_7  cellWeight_7  \n",
       "0        7.45034e+06           0.0        7.45034e+06           0.0  \n",
       "1        7.45034e+06           0.0        7.45034e+06           0.0  \n",
       "2        7.45034e+06           0.0        7.45034e+06           0.0  \n",
       "3                NaN           NaN                NaN           NaN  \n",
       "4        7.45034e+06           0.0        7.45034e+06           0.0  \n",
       "\n",
       "[5 rows x 22 columns]"
      ]
     },
     "execution_count": 3,
     "metadata": {},
     "output_type": "execute_result"
    }
   ],
   "source": [
    "dados.head()"
   ]
  },
  {
   "cell_type": "code",
   "execution_count": null,
   "metadata": {},
   "outputs": [],
   "source": [
    "dados.cellSerialNumber_0.unique()"
   ]
  },
  {
   "cell_type": "code",
   "execution_count": 4,
   "metadata": {},
   "outputs": [],
   "source": [
    "dados['cellSerialNumber_0']=dados['cellSerialNumber_0'].fillna(0)\n",
    "dados['cellSerialNumber_1']=dados['cellSerialNumber_1'].fillna(0)\n",
    "dados['cellSerialNumber_2']=dados['cellSerialNumber_2'].fillna(0)\n",
    "dados['cellSerialNumber_3']=dados['cellSerialNumber_3'].fillna(0)\n",
    "dados['cellSerialNumber_4']=dados['cellSerialNumber_4'].fillna(0)\n",
    "dados['cellSerialNumber_5']=dados['cellSerialNumber_5'].fillna(0)\n",
    "dados['cellSerialNumber_6']=dados['cellSerialNumber_6'].fillna(0)\n",
    "dados['cellSerialNumber_7']=dados['cellSerialNumber_7'].fillna(0)\n",
    "\n",
    "clean0=dados['cellSerialNumber_0'].tolist()\n",
    "clean1=dados['cellSerialNumber_1'].tolist()\n",
    "clean2=dados['cellSerialNumber_2'].tolist()\n",
    "clean3=dados['cellSerialNumber_3'].tolist()\n",
    "clean4=dados['cellSerialNumber_4'].tolist()\n",
    "clean5=dados['cellSerialNumber_5'].tolist()\n",
    "clean6=dados['cellSerialNumber_6'].tolist()\n",
    "clean7=dados['cellSerialNumber_7'].tolist()\n",
    "\n",
    "for i in range(0, len(clean0)):\n",
    "    if type(clean0[i]) == float:\n",
    "        clean0[i]=str(int(clean0[i]))\n",
    "    if type(clean1[i]) == float:\n",
    "        clean1[i]=str(int(clean1[i]))\n",
    "    if type(clean2[i]) == float:\n",
    "        clean2[i]=str(int(clean2[i]))\n",
    "    if type(clean3[i]) == float:\n",
    "        clean3[i]=str(int(clean3[i]))\n",
    "    if type(clean4[i]) == float:\n",
    "        clean4[i]=str(int(clean4[i]))\n",
    "    if type(clean5[i]) == float:\n",
    "        clean5[i]=str(int(clean5[i]))\n",
    "    if type(clean6[i]) == float:\n",
    "        clean6[i]=str(int(clean6[i]))\n",
    "    if type(clean7[i]) == float:\n",
    "        clean7[i]=str(int(clean7[i]))\n",
    "\n",
    "        \n",
    "clean0=[str(i) for i in clean0]\n",
    "clean1=[str(i) for i in clean1]\n",
    "clean2=[str(i) for i in clean2]\n",
    "clean3=[str(i) for i in clean3]\n",
    "clean4=[str(i) for i in clean4]\n",
    "clean5=[str(i) for i in clean5]\n",
    "clean6=[str(i) for i in clean6]\n",
    "clean7=[str(i) for i in clean7]\n",
    "\n",
    "for i in range(0, len(clean0)):\n",
    "    if clean0[i][0] == '0' and len(clean0[i])>1:\n",
    "        clean0[i]=clean0[i][1:]\n",
    "    if clean1[i][0] == '0'and len(clean1[i])>1:\n",
    "        clean1[i]=clean1[i][1:]\n",
    "    if clean2[i][0] == '0' and len(clean2[i])>1:\n",
    "        clean2[i]=clean2[i][1:]\n",
    "    if clean3[i][0] == '0'and len(clean3[i])>1:\n",
    "        clean3[i]=clean3[i][1:]\n",
    "    if clean4[i][0] == '0'and len(clean4[i])>1:\n",
    "        clean4[i]=clean4[i][1:]\n",
    "    if clean5[i][0] == '0'and len(clean5[i])>1:\n",
    "        clean5[i]=clean5[i][1:]\n",
    "    if clean6[i][0] == '0'and len(clean6[i])>1:\n",
    "        clean6[i]=clean6[i][1:]\n",
    "    if clean7[i][0] == '0'and len(clean7[i])>1:\n",
    "        clean7[i]=clean7[i][1:]\n",
    "\n",
    "dados['cellSerialNumber_0']=clean0\n",
    "dados['cellSerialNumber_1']=clean1\n",
    "dados['cellSerialNumber_2']=clean2\n",
    "dados['cellSerialNumber_3']=clean3\n",
    "dados['cellSerialNumber_4']=clean4\n",
    "dados['cellSerialNumber_5']=clean5\n",
    "dados['cellSerialNumber_6']=clean6\n",
    "dados['cellSerialNumber_7']=clean7\n",
    "\n",
    "dados[['terminalSerialNumber']]=dados[['terminalSerialNumber']].astype(str)"
   ]
  },
  {
   "cell_type": "markdown",
   "metadata": {},
   "source": [
    "## filtrar pela ponte relevante"
   ]
  },
  {
   "cell_type": "code",
   "execution_count": 5,
   "metadata": {},
   "outputs": [],
   "source": [
    "ponte=dados[dados['scaleSerialNumber']=='P191021852']"
   ]
  },
  {
   "cell_type": "code",
   "execution_count": null,
   "metadata": {},
   "outputs": [],
   "source": [
    "ponte.shape"
   ]
  },
  {
   "cell_type": "code",
   "execution_count": 6,
   "metadata": {},
   "outputs": [
    {
     "data": {
      "text/html": [
       "<div>\n",
       "<style scoped>\n",
       "    .dataframe tbody tr th:only-of-type {\n",
       "        vertical-align: middle;\n",
       "    }\n",
       "\n",
       "    .dataframe tbody tr th {\n",
       "        vertical-align: top;\n",
       "    }\n",
       "\n",
       "    .dataframe thead th {\n",
       "        text-align: right;\n",
       "    }\n",
       "</style>\n",
       "<table border=\"1\" class=\"dataframe\">\n",
       "  <thead>\n",
       "    <tr style=\"text-align: right;\">\n",
       "      <th></th>\n",
       "      <th>type</th>\n",
       "      <th>#Nan</th>\n",
       "      <th>#uniques</th>\n",
       "    </tr>\n",
       "  </thead>\n",
       "  <tbody>\n",
       "    <tr>\n",
       "      <th>_id</th>\n",
       "      <td>object</td>\n",
       "      <td>0</td>\n",
       "      <td>423069</td>\n",
       "    </tr>\n",
       "    <tr>\n",
       "      <th>timestamp</th>\n",
       "      <td>object</td>\n",
       "      <td>0</td>\n",
       "      <td>422944</td>\n",
       "    </tr>\n",
       "    <tr>\n",
       "      <th>terminalSerialNumber</th>\n",
       "      <td>object</td>\n",
       "      <td>0</td>\n",
       "      <td>1</td>\n",
       "    </tr>\n",
       "    <tr>\n",
       "      <th>scaleSerialNumber</th>\n",
       "      <td>object</td>\n",
       "      <td>0</td>\n",
       "      <td>1</td>\n",
       "    </tr>\n",
       "    <tr>\n",
       "      <th>scaleGross</th>\n",
       "      <td>float64</td>\n",
       "      <td>240159</td>\n",
       "      <td>3911</td>\n",
       "    </tr>\n",
       "    <tr>\n",
       "      <th>scaleNet</th>\n",
       "      <td>float64</td>\n",
       "      <td>240159</td>\n",
       "      <td>3911</td>\n",
       "    </tr>\n",
       "    <tr>\n",
       "      <th>cellSerialNumber_0</th>\n",
       "      <td>object</td>\n",
       "      <td>0</td>\n",
       "      <td>9</td>\n",
       "    </tr>\n",
       "    <tr>\n",
       "      <th>cellWeight_0</th>\n",
       "      <td>float64</td>\n",
       "      <td>25787</td>\n",
       "      <td>1233</td>\n",
       "    </tr>\n",
       "    <tr>\n",
       "      <th>cellSerialNumber_1</th>\n",
       "      <td>object</td>\n",
       "      <td>0</td>\n",
       "      <td>8</td>\n",
       "    </tr>\n",
       "    <tr>\n",
       "      <th>cellWeight_1</th>\n",
       "      <td>float64</td>\n",
       "      <td>179930</td>\n",
       "      <td>1299</td>\n",
       "    </tr>\n",
       "    <tr>\n",
       "      <th>cellSerialNumber_2</th>\n",
       "      <td>object</td>\n",
       "      <td>0</td>\n",
       "      <td>7</td>\n",
       "    </tr>\n",
       "    <tr>\n",
       "      <th>cellWeight_2</th>\n",
       "      <td>float64</td>\n",
       "      <td>247506</td>\n",
       "      <td>1427</td>\n",
       "    </tr>\n",
       "    <tr>\n",
       "      <th>cellSerialNumber_3</th>\n",
       "      <td>object</td>\n",
       "      <td>0</td>\n",
       "      <td>6</td>\n",
       "    </tr>\n",
       "    <tr>\n",
       "      <th>cellWeight_3</th>\n",
       "      <td>float64</td>\n",
       "      <td>278984</td>\n",
       "      <td>1456</td>\n",
       "    </tr>\n",
       "    <tr>\n",
       "      <th>cellSerialNumber_4</th>\n",
       "      <td>object</td>\n",
       "      <td>0</td>\n",
       "      <td>5</td>\n",
       "    </tr>\n",
       "    <tr>\n",
       "      <th>cellWeight_4</th>\n",
       "      <td>float64</td>\n",
       "      <td>295728</td>\n",
       "      <td>1418</td>\n",
       "    </tr>\n",
       "    <tr>\n",
       "      <th>cellSerialNumber_5</th>\n",
       "      <td>object</td>\n",
       "      <td>0</td>\n",
       "      <td>4</td>\n",
       "    </tr>\n",
       "    <tr>\n",
       "      <th>cellWeight_5</th>\n",
       "      <td>float64</td>\n",
       "      <td>305918</td>\n",
       "      <td>1435</td>\n",
       "    </tr>\n",
       "    <tr>\n",
       "      <th>cellSerialNumber_6</th>\n",
       "      <td>object</td>\n",
       "      <td>0</td>\n",
       "      <td>3</td>\n",
       "    </tr>\n",
       "    <tr>\n",
       "      <th>cellWeight_6</th>\n",
       "      <td>float64</td>\n",
       "      <td>316966</td>\n",
       "      <td>790</td>\n",
       "    </tr>\n",
       "    <tr>\n",
       "      <th>cellSerialNumber_7</th>\n",
       "      <td>object</td>\n",
       "      <td>0</td>\n",
       "      <td>2</td>\n",
       "    </tr>\n",
       "    <tr>\n",
       "      <th>cellWeight_7</th>\n",
       "      <td>float64</td>\n",
       "      <td>325877</td>\n",
       "      <td>845</td>\n",
       "    </tr>\n",
       "  </tbody>\n",
       "</table>\n",
       "</div>"
      ],
      "text/plain": [
       "                         type    #Nan  #uniques\n",
       "_id                    object       0    423069\n",
       "timestamp              object       0    422944\n",
       "terminalSerialNumber   object       0         1\n",
       "scaleSerialNumber      object       0         1\n",
       "scaleGross            float64  240159      3911\n",
       "scaleNet              float64  240159      3911\n",
       "cellSerialNumber_0     object       0         9\n",
       "cellWeight_0          float64   25787      1233\n",
       "cellSerialNumber_1     object       0         8\n",
       "cellWeight_1          float64  179930      1299\n",
       "cellSerialNumber_2     object       0         7\n",
       "cellWeight_2          float64  247506      1427\n",
       "cellSerialNumber_3     object       0         6\n",
       "cellWeight_3          float64  278984      1456\n",
       "cellSerialNumber_4     object       0         5\n",
       "cellWeight_4          float64  295728      1418\n",
       "cellSerialNumber_5     object       0         4\n",
       "cellWeight_5          float64  305918      1435\n",
       "cellSerialNumber_6     object       0         3\n",
       "cellWeight_6          float64  316966       790\n",
       "cellSerialNumber_7     object       0         2\n",
       "cellWeight_7          float64  325877       845"
      ]
     },
     "execution_count": 6,
     "metadata": {},
     "output_type": "execute_result"
    }
   ],
   "source": [
    "details=pd.DataFrame(ponte.dtypes, columns=['type'])\n",
    "details['#Nan']=ponte.isnull().sum(axis = 0)\n",
    "details['#uniques']=ponte.nunique()\n",
    "details"
   ]
  },
  {
   "cell_type": "code",
   "execution_count": 6,
   "metadata": {},
   "outputs": [],
   "source": [
    "ponte=ponte.drop(['terminalSerialNumber','scaleSerialNumber','scaleNet'],axis=1)"
   ]
  },
  {
   "cell_type": "markdown",
   "metadata": {},
   "source": [
    "## ordenar data"
   ]
  },
  {
   "cell_type": "code",
   "execution_count": 7,
   "metadata": {},
   "outputs": [],
   "source": [
    "ordenado=ponte.sort_values(by='timestamp')"
   ]
  },
  {
   "cell_type": "code",
   "execution_count": 8,
   "metadata": {},
   "outputs": [],
   "source": [
    "avaliar=ordenado.groupby(['cellSerialNumber_0','cellSerialNumber_1','cellSerialNumber_2','cellSerialNumber_3','cellSerialNumber_4','cellSerialNumber_5','cellSerialNumber_6','cellSerialNumber_7']).count()\n",
    "ocorrencias=avaliar.sort_values(['cellSerialNumber_7','cellSerialNumber_6','cellSerialNumber_5','cellSerialNumber_4','cellSerialNumber_3','cellSerialNumber_2','cellSerialNumber_1','cellSerialNumber_0'],ascending=False)"
   ]
  },
  {
   "cell_type": "code",
   "execution_count": 9,
   "metadata": {},
   "outputs": [
    {
     "data": {
      "text/html": [
       "<div>\n",
       "<style scoped>\n",
       "    .dataframe tbody tr th:only-of-type {\n",
       "        vertical-align: middle;\n",
       "    }\n",
       "\n",
       "    .dataframe tbody tr th {\n",
       "        vertical-align: top;\n",
       "    }\n",
       "\n",
       "    .dataframe thead th {\n",
       "        text-align: right;\n",
       "    }\n",
       "</style>\n",
       "<table border=\"1\" class=\"dataframe\">\n",
       "  <thead>\n",
       "    <tr style=\"text-align: right;\">\n",
       "      <th></th>\n",
       "      <th></th>\n",
       "      <th></th>\n",
       "      <th></th>\n",
       "      <th></th>\n",
       "      <th></th>\n",
       "      <th></th>\n",
       "      <th></th>\n",
       "      <th>_id</th>\n",
       "      <th>timestamp</th>\n",
       "      <th>terminalSerialNumber</th>\n",
       "      <th>scaleSerialNumber</th>\n",
       "      <th>scaleGross</th>\n",
       "      <th>scaleNet</th>\n",
       "      <th>cellWeight_0</th>\n",
       "      <th>cellWeight_1</th>\n",
       "      <th>cellWeight_2</th>\n",
       "      <th>cellWeight_3</th>\n",
       "      <th>cellWeight_4</th>\n",
       "      <th>cellWeight_5</th>\n",
       "      <th>cellWeight_6</th>\n",
       "      <th>cellWeight_7</th>\n",
       "    </tr>\n",
       "    <tr>\n",
       "      <th>cellSerialNumber_0</th>\n",
       "      <th>cellSerialNumber_1</th>\n",
       "      <th>cellSerialNumber_2</th>\n",
       "      <th>cellSerialNumber_3</th>\n",
       "      <th>cellSerialNumber_4</th>\n",
       "      <th>cellSerialNumber_5</th>\n",
       "      <th>cellSerialNumber_6</th>\n",
       "      <th>cellSerialNumber_7</th>\n",
       "      <th></th>\n",
       "      <th></th>\n",
       "      <th></th>\n",
       "      <th></th>\n",
       "      <th></th>\n",
       "      <th></th>\n",
       "      <th></th>\n",
       "      <th></th>\n",
       "      <th></th>\n",
       "      <th></th>\n",
       "      <th></th>\n",
       "      <th></th>\n",
       "      <th></th>\n",
       "      <th></th>\n",
       "    </tr>\n",
       "  </thead>\n",
       "  <tbody>\n",
       "    <tr>\n",
       "      <th rowspan=\"4\" valign=\"top\">7450332</th>\n",
       "      <th rowspan=\"4\" valign=\"top\">7450333</th>\n",
       "      <th rowspan=\"4\" valign=\"top\">7450339</th>\n",
       "      <th rowspan=\"4\" valign=\"top\">7450340</th>\n",
       "      <th rowspan=\"3\" valign=\"top\">7450338</th>\n",
       "      <th rowspan=\"2\" valign=\"top\">7450337</th>\n",
       "      <th>7450336</th>\n",
       "      <th>7450341</th>\n",
       "      <td>97192</td>\n",
       "      <td>97192</td>\n",
       "      <td>97192</td>\n",
       "      <td>97192</td>\n",
       "      <td>96860</td>\n",
       "      <td>96860</td>\n",
       "      <td>97192</td>\n",
       "      <td>97192</td>\n",
       "      <td>97192</td>\n",
       "      <td>97192</td>\n",
       "      <td>97192</td>\n",
       "      <td>97192</td>\n",
       "      <td>97192</td>\n",
       "      <td>97192</td>\n",
       "    </tr>\n",
       "    <tr>\n",
       "      <th>7450341</th>\n",
       "      <th>0</th>\n",
       "      <td>1588</td>\n",
       "      <td>1588</td>\n",
       "      <td>1588</td>\n",
       "      <td>1588</td>\n",
       "      <td>1338</td>\n",
       "      <td>1338</td>\n",
       "      <td>1588</td>\n",
       "      <td>1588</td>\n",
       "      <td>1588</td>\n",
       "      <td>1588</td>\n",
       "      <td>1588</td>\n",
       "      <td>1588</td>\n",
       "      <td>1588</td>\n",
       "      <td>0</td>\n",
       "    </tr>\n",
       "    <tr>\n",
       "      <th>7450336</th>\n",
       "      <th>7450341</th>\n",
       "      <th>0</th>\n",
       "      <td>103</td>\n",
       "      <td>103</td>\n",
       "      <td>103</td>\n",
       "      <td>103</td>\n",
       "      <td>97</td>\n",
       "      <td>97</td>\n",
       "      <td>103</td>\n",
       "      <td>103</td>\n",
       "      <td>103</td>\n",
       "      <td>103</td>\n",
       "      <td>103</td>\n",
       "      <td>103</td>\n",
       "      <td>103</td>\n",
       "      <td>0</td>\n",
       "    </tr>\n",
       "    <tr>\n",
       "      <th>7450337</th>\n",
       "      <th>7450336</th>\n",
       "      <th>7450341</th>\n",
       "      <th>0</th>\n",
       "      <td>289</td>\n",
       "      <td>289</td>\n",
       "      <td>289</td>\n",
       "      <td>289</td>\n",
       "      <td>273</td>\n",
       "      <td>273</td>\n",
       "      <td>289</td>\n",
       "      <td>289</td>\n",
       "      <td>289</td>\n",
       "      <td>289</td>\n",
       "      <td>289</td>\n",
       "      <td>289</td>\n",
       "      <td>289</td>\n",
       "      <td>0</td>\n",
       "    </tr>\n",
       "    <tr>\n",
       "      <th>7450333</th>\n",
       "      <th>7450339</th>\n",
       "      <th>7450340</th>\n",
       "      <th>7450338</th>\n",
       "      <th>7450337</th>\n",
       "      <th>7450336</th>\n",
       "      <th>7450341</th>\n",
       "      <th>0</th>\n",
       "      <td>1444</td>\n",
       "      <td>1444</td>\n",
       "      <td>1444</td>\n",
       "      <td>1444</td>\n",
       "      <td>1161</td>\n",
       "      <td>1161</td>\n",
       "      <td>1444</td>\n",
       "      <td>1444</td>\n",
       "      <td>1444</td>\n",
       "      <td>1444</td>\n",
       "      <td>1444</td>\n",
       "      <td>1444</td>\n",
       "      <td>1444</td>\n",
       "      <td>0</td>\n",
       "    </tr>\n",
       "    <tr>\n",
       "      <th>...</th>\n",
       "      <th>...</th>\n",
       "      <th>...</th>\n",
       "      <th>...</th>\n",
       "      <th>...</th>\n",
       "      <th>...</th>\n",
       "      <th>...</th>\n",
       "      <th>...</th>\n",
       "      <td>...</td>\n",
       "      <td>...</td>\n",
       "      <td>...</td>\n",
       "      <td>...</td>\n",
       "      <td>...</td>\n",
       "      <td>...</td>\n",
       "      <td>...</td>\n",
       "      <td>...</td>\n",
       "      <td>...</td>\n",
       "      <td>...</td>\n",
       "      <td>...</td>\n",
       "      <td>...</td>\n",
       "      <td>...</td>\n",
       "      <td>...</td>\n",
       "    </tr>\n",
       "    <tr>\n",
       "      <th>7450337</th>\n",
       "      <th>0</th>\n",
       "      <th>0</th>\n",
       "      <th>0</th>\n",
       "      <th>0</th>\n",
       "      <th>0</th>\n",
       "      <th>0</th>\n",
       "      <th>0</th>\n",
       "      <td>31082</td>\n",
       "      <td>31082</td>\n",
       "      <td>31082</td>\n",
       "      <td>31082</td>\n",
       "      <td>3374</td>\n",
       "      <td>3374</td>\n",
       "      <td>31082</td>\n",
       "      <td>0</td>\n",
       "      <td>0</td>\n",
       "      <td>0</td>\n",
       "      <td>0</td>\n",
       "      <td>0</td>\n",
       "      <td>0</td>\n",
       "      <td>0</td>\n",
       "    </tr>\n",
       "    <tr>\n",
       "      <th>7450336</th>\n",
       "      <th>0</th>\n",
       "      <th>0</th>\n",
       "      <th>0</th>\n",
       "      <th>0</th>\n",
       "      <th>0</th>\n",
       "      <th>0</th>\n",
       "      <th>0</th>\n",
       "      <td>13821</td>\n",
       "      <td>13821</td>\n",
       "      <td>13821</td>\n",
       "      <td>13821</td>\n",
       "      <td>1727</td>\n",
       "      <td>1727</td>\n",
       "      <td>13821</td>\n",
       "      <td>0</td>\n",
       "      <td>0</td>\n",
       "      <td>0</td>\n",
       "      <td>0</td>\n",
       "      <td>0</td>\n",
       "      <td>0</td>\n",
       "      <td>0</td>\n",
       "    </tr>\n",
       "    <tr>\n",
       "      <th>7450333</th>\n",
       "      <th>0</th>\n",
       "      <th>0</th>\n",
       "      <th>0</th>\n",
       "      <th>0</th>\n",
       "      <th>0</th>\n",
       "      <th>0</th>\n",
       "      <th>0</th>\n",
       "      <td>11050</td>\n",
       "      <td>11050</td>\n",
       "      <td>11050</td>\n",
       "      <td>11050</td>\n",
       "      <td>1118</td>\n",
       "      <td>1118</td>\n",
       "      <td>11050</td>\n",
       "      <td>0</td>\n",
       "      <td>0</td>\n",
       "      <td>0</td>\n",
       "      <td>0</td>\n",
       "      <td>0</td>\n",
       "      <td>0</td>\n",
       "      <td>0</td>\n",
       "    </tr>\n",
       "    <tr>\n",
       "      <th>7450332</th>\n",
       "      <th>0</th>\n",
       "      <th>0</th>\n",
       "      <th>0</th>\n",
       "      <th>0</th>\n",
       "      <th>0</th>\n",
       "      <th>0</th>\n",
       "      <th>0</th>\n",
       "      <td>11134</td>\n",
       "      <td>11134</td>\n",
       "      <td>11134</td>\n",
       "      <td>11134</td>\n",
       "      <td>1217</td>\n",
       "      <td>1217</td>\n",
       "      <td>11133</td>\n",
       "      <td>0</td>\n",
       "      <td>0</td>\n",
       "      <td>0</td>\n",
       "      <td>0</td>\n",
       "      <td>0</td>\n",
       "      <td>0</td>\n",
       "      <td>0</td>\n",
       "    </tr>\n",
       "    <tr>\n",
       "      <th>0</th>\n",
       "      <th>0</th>\n",
       "      <th>0</th>\n",
       "      <th>0</th>\n",
       "      <th>0</th>\n",
       "      <th>0</th>\n",
       "      <th>0</th>\n",
       "      <th>0</th>\n",
       "      <td>25786</td>\n",
       "      <td>25786</td>\n",
       "      <td>25786</td>\n",
       "      <td>25786</td>\n",
       "      <td>25785</td>\n",
       "      <td>25785</td>\n",
       "      <td>0</td>\n",
       "      <td>0</td>\n",
       "      <td>0</td>\n",
       "      <td>0</td>\n",
       "      <td>0</td>\n",
       "      <td>0</td>\n",
       "      <td>0</td>\n",
       "      <td>0</td>\n",
       "    </tr>\n",
       "  </tbody>\n",
       "</table>\n",
       "<p>256 rows × 14 columns</p>\n",
       "</div>"
      ],
      "text/plain": [
       "                                                                                                                                                           _id  \\\n",
       "cellSerialNumber_0 cellSerialNumber_1 cellSerialNumber_2 cellSerialNumber_3 cellSerialNumber_4 cellSerialNumber_5 cellSerialNumber_6 cellSerialNumber_7          \n",
       "7450332            7450333            7450339            7450340            7450338            7450337            7450336            7450341             97192   \n",
       "                                                                                                                  7450341            0                    1588   \n",
       "                                                                                               7450336            7450341            0                     103   \n",
       "                                                                            7450337            7450336            7450341            0                     289   \n",
       "7450333            7450339            7450340            7450338            7450337            7450336            7450341            0                    1444   \n",
       "...                                                                                                                                                        ...   \n",
       "7450337            0                  0                  0                  0                  0                  0                  0                   31082   \n",
       "7450336            0                  0                  0                  0                  0                  0                  0                   13821   \n",
       "7450333            0                  0                  0                  0                  0                  0                  0                   11050   \n",
       "7450332            0                  0                  0                  0                  0                  0                  0                   11134   \n",
       "0                  0                  0                  0                  0                  0                  0                  0                   25786   \n",
       "\n",
       "                                                                                                                                                         timestamp  \\\n",
       "cellSerialNumber_0 cellSerialNumber_1 cellSerialNumber_2 cellSerialNumber_3 cellSerialNumber_4 cellSerialNumber_5 cellSerialNumber_6 cellSerialNumber_7              \n",
       "7450332            7450333            7450339            7450340            7450338            7450337            7450336            7450341                 97192   \n",
       "                                                                                                                  7450341            0                        1588   \n",
       "                                                                                               7450336            7450341            0                         103   \n",
       "                                                                            7450337            7450336            7450341            0                         289   \n",
       "7450333            7450339            7450340            7450338            7450337            7450336            7450341            0                        1444   \n",
       "...                                                                                                                                                            ...   \n",
       "7450337            0                  0                  0                  0                  0                  0                  0                       31082   \n",
       "7450336            0                  0                  0                  0                  0                  0                  0                       13821   \n",
       "7450333            0                  0                  0                  0                  0                  0                  0                       11050   \n",
       "7450332            0                  0                  0                  0                  0                  0                  0                       11134   \n",
       "0                  0                  0                  0                  0                  0                  0                  0                       25786   \n",
       "\n",
       "                                                                                                                                                         terminalSerialNumber  \\\n",
       "cellSerialNumber_0 cellSerialNumber_1 cellSerialNumber_2 cellSerialNumber_3 cellSerialNumber_4 cellSerialNumber_5 cellSerialNumber_6 cellSerialNumber_7                         \n",
       "7450332            7450333            7450339            7450340            7450338            7450337            7450336            7450341                            97192   \n",
       "                                                                                                                  7450341            0                                   1588   \n",
       "                                                                                               7450336            7450341            0                                    103   \n",
       "                                                                            7450337            7450336            7450341            0                                    289   \n",
       "7450333            7450339            7450340            7450338            7450337            7450336            7450341            0                                   1444   \n",
       "...                                                                                                                                                                       ...   \n",
       "7450337            0                  0                  0                  0                  0                  0                  0                                  31082   \n",
       "7450336            0                  0                  0                  0                  0                  0                  0                                  13821   \n",
       "7450333            0                  0                  0                  0                  0                  0                  0                                  11050   \n",
       "7450332            0                  0                  0                  0                  0                  0                  0                                  11134   \n",
       "0                  0                  0                  0                  0                  0                  0                  0                                  25786   \n",
       "\n",
       "                                                                                                                                                         scaleSerialNumber  \\\n",
       "cellSerialNumber_0 cellSerialNumber_1 cellSerialNumber_2 cellSerialNumber_3 cellSerialNumber_4 cellSerialNumber_5 cellSerialNumber_6 cellSerialNumber_7                      \n",
       "7450332            7450333            7450339            7450340            7450338            7450337            7450336            7450341                         97192   \n",
       "                                                                                                                  7450341            0                                1588   \n",
       "                                                                                               7450336            7450341            0                                 103   \n",
       "                                                                            7450337            7450336            7450341            0                                 289   \n",
       "7450333            7450339            7450340            7450338            7450337            7450336            7450341            0                                1444   \n",
       "...                                                                                                                                                                    ...   \n",
       "7450337            0                  0                  0                  0                  0                  0                  0                               31082   \n",
       "7450336            0                  0                  0                  0                  0                  0                  0                               13821   \n",
       "7450333            0                  0                  0                  0                  0                  0                  0                               11050   \n",
       "7450332            0                  0                  0                  0                  0                  0                  0                               11134   \n",
       "0                  0                  0                  0                  0                  0                  0                  0                               25786   \n",
       "\n",
       "                                                                                                                                                         scaleGross  \\\n",
       "cellSerialNumber_0 cellSerialNumber_1 cellSerialNumber_2 cellSerialNumber_3 cellSerialNumber_4 cellSerialNumber_5 cellSerialNumber_6 cellSerialNumber_7               \n",
       "7450332            7450333            7450339            7450340            7450338            7450337            7450336            7450341                  96860   \n",
       "                                                                                                                  7450341            0                         1338   \n",
       "                                                                                               7450336            7450341            0                           97   \n",
       "                                                                            7450337            7450336            7450341            0                          273   \n",
       "7450333            7450339            7450340            7450338            7450337            7450336            7450341            0                         1161   \n",
       "...                                                                                                                                                             ...   \n",
       "7450337            0                  0                  0                  0                  0                  0                  0                         3374   \n",
       "7450336            0                  0                  0                  0                  0                  0                  0                         1727   \n",
       "7450333            0                  0                  0                  0                  0                  0                  0                         1118   \n",
       "7450332            0                  0                  0                  0                  0                  0                  0                         1217   \n",
       "0                  0                  0                  0                  0                  0                  0                  0                        25785   \n",
       "\n",
       "                                                                                                                                                         scaleNet  \\\n",
       "cellSerialNumber_0 cellSerialNumber_1 cellSerialNumber_2 cellSerialNumber_3 cellSerialNumber_4 cellSerialNumber_5 cellSerialNumber_6 cellSerialNumber_7             \n",
       "7450332            7450333            7450339            7450340            7450338            7450337            7450336            7450341                96860   \n",
       "                                                                                                                  7450341            0                       1338   \n",
       "                                                                                               7450336            7450341            0                         97   \n",
       "                                                                            7450337            7450336            7450341            0                        273   \n",
       "7450333            7450339            7450340            7450338            7450337            7450336            7450341            0                       1161   \n",
       "...                                                                                                                                                           ...   \n",
       "7450337            0                  0                  0                  0                  0                  0                  0                       3374   \n",
       "7450336            0                  0                  0                  0                  0                  0                  0                       1727   \n",
       "7450333            0                  0                  0                  0                  0                  0                  0                       1118   \n",
       "7450332            0                  0                  0                  0                  0                  0                  0                       1217   \n",
       "0                  0                  0                  0                  0                  0                  0                  0                      25785   \n",
       "\n",
       "                                                                                                                                                         cellWeight_0  \\\n",
       "cellSerialNumber_0 cellSerialNumber_1 cellSerialNumber_2 cellSerialNumber_3 cellSerialNumber_4 cellSerialNumber_5 cellSerialNumber_6 cellSerialNumber_7                 \n",
       "7450332            7450333            7450339            7450340            7450338            7450337            7450336            7450341                    97192   \n",
       "                                                                                                                  7450341            0                           1588   \n",
       "                                                                                               7450336            7450341            0                            103   \n",
       "                                                                            7450337            7450336            7450341            0                            289   \n",
       "7450333            7450339            7450340            7450338            7450337            7450336            7450341            0                           1444   \n",
       "...                                                                                                                                                               ...   \n",
       "7450337            0                  0                  0                  0                  0                  0                  0                          31082   \n",
       "7450336            0                  0                  0                  0                  0                  0                  0                          13821   \n",
       "7450333            0                  0                  0                  0                  0                  0                  0                          11050   \n",
       "7450332            0                  0                  0                  0                  0                  0                  0                          11133   \n",
       "0                  0                  0                  0                  0                  0                  0                  0                              0   \n",
       "\n",
       "                                                                                                                                                         cellWeight_1  \\\n",
       "cellSerialNumber_0 cellSerialNumber_1 cellSerialNumber_2 cellSerialNumber_3 cellSerialNumber_4 cellSerialNumber_5 cellSerialNumber_6 cellSerialNumber_7                 \n",
       "7450332            7450333            7450339            7450340            7450338            7450337            7450336            7450341                    97192   \n",
       "                                                                                                                  7450341            0                           1588   \n",
       "                                                                                               7450336            7450341            0                            103   \n",
       "                                                                            7450337            7450336            7450341            0                            289   \n",
       "7450333            7450339            7450340            7450338            7450337            7450336            7450341            0                           1444   \n",
       "...                                                                                                                                                               ...   \n",
       "7450337            0                  0                  0                  0                  0                  0                  0                              0   \n",
       "7450336            0                  0                  0                  0                  0                  0                  0                              0   \n",
       "7450333            0                  0                  0                  0                  0                  0                  0                              0   \n",
       "7450332            0                  0                  0                  0                  0                  0                  0                              0   \n",
       "0                  0                  0                  0                  0                  0                  0                  0                              0   \n",
       "\n",
       "                                                                                                                                                         cellWeight_2  \\\n",
       "cellSerialNumber_0 cellSerialNumber_1 cellSerialNumber_2 cellSerialNumber_3 cellSerialNumber_4 cellSerialNumber_5 cellSerialNumber_6 cellSerialNumber_7                 \n",
       "7450332            7450333            7450339            7450340            7450338            7450337            7450336            7450341                    97192   \n",
       "                                                                                                                  7450341            0                           1588   \n",
       "                                                                                               7450336            7450341            0                            103   \n",
       "                                                                            7450337            7450336            7450341            0                            289   \n",
       "7450333            7450339            7450340            7450338            7450337            7450336            7450341            0                           1444   \n",
       "...                                                                                                                                                               ...   \n",
       "7450337            0                  0                  0                  0                  0                  0                  0                              0   \n",
       "7450336            0                  0                  0                  0                  0                  0                  0                              0   \n",
       "7450333            0                  0                  0                  0                  0                  0                  0                              0   \n",
       "7450332            0                  0                  0                  0                  0                  0                  0                              0   \n",
       "0                  0                  0                  0                  0                  0                  0                  0                              0   \n",
       "\n",
       "                                                                                                                                                         cellWeight_3  \\\n",
       "cellSerialNumber_0 cellSerialNumber_1 cellSerialNumber_2 cellSerialNumber_3 cellSerialNumber_4 cellSerialNumber_5 cellSerialNumber_6 cellSerialNumber_7                 \n",
       "7450332            7450333            7450339            7450340            7450338            7450337            7450336            7450341                    97192   \n",
       "                                                                                                                  7450341            0                           1588   \n",
       "                                                                                               7450336            7450341            0                            103   \n",
       "                                                                            7450337            7450336            7450341            0                            289   \n",
       "7450333            7450339            7450340            7450338            7450337            7450336            7450341            0                           1444   \n",
       "...                                                                                                                                                               ...   \n",
       "7450337            0                  0                  0                  0                  0                  0                  0                              0   \n",
       "7450336            0                  0                  0                  0                  0                  0                  0                              0   \n",
       "7450333            0                  0                  0                  0                  0                  0                  0                              0   \n",
       "7450332            0                  0                  0                  0                  0                  0                  0                              0   \n",
       "0                  0                  0                  0                  0                  0                  0                  0                              0   \n",
       "\n",
       "                                                                                                                                                         cellWeight_4  \\\n",
       "cellSerialNumber_0 cellSerialNumber_1 cellSerialNumber_2 cellSerialNumber_3 cellSerialNumber_4 cellSerialNumber_5 cellSerialNumber_6 cellSerialNumber_7                 \n",
       "7450332            7450333            7450339            7450340            7450338            7450337            7450336            7450341                    97192   \n",
       "                                                                                                                  7450341            0                           1588   \n",
       "                                                                                               7450336            7450341            0                            103   \n",
       "                                                                            7450337            7450336            7450341            0                            289   \n",
       "7450333            7450339            7450340            7450338            7450337            7450336            7450341            0                           1444   \n",
       "...                                                                                                                                                               ...   \n",
       "7450337            0                  0                  0                  0                  0                  0                  0                              0   \n",
       "7450336            0                  0                  0                  0                  0                  0                  0                              0   \n",
       "7450333            0                  0                  0                  0                  0                  0                  0                              0   \n",
       "7450332            0                  0                  0                  0                  0                  0                  0                              0   \n",
       "0                  0                  0                  0                  0                  0                  0                  0                              0   \n",
       "\n",
       "                                                                                                                                                         cellWeight_5  \\\n",
       "cellSerialNumber_0 cellSerialNumber_1 cellSerialNumber_2 cellSerialNumber_3 cellSerialNumber_4 cellSerialNumber_5 cellSerialNumber_6 cellSerialNumber_7                 \n",
       "7450332            7450333            7450339            7450340            7450338            7450337            7450336            7450341                    97192   \n",
       "                                                                                                                  7450341            0                           1588   \n",
       "                                                                                               7450336            7450341            0                            103   \n",
       "                                                                            7450337            7450336            7450341            0                            289   \n",
       "7450333            7450339            7450340            7450338            7450337            7450336            7450341            0                           1444   \n",
       "...                                                                                                                                                               ...   \n",
       "7450337            0                  0                  0                  0                  0                  0                  0                              0   \n",
       "7450336            0                  0                  0                  0                  0                  0                  0                              0   \n",
       "7450333            0                  0                  0                  0                  0                  0                  0                              0   \n",
       "7450332            0                  0                  0                  0                  0                  0                  0                              0   \n",
       "0                  0                  0                  0                  0                  0                  0                  0                              0   \n",
       "\n",
       "                                                                                                                                                         cellWeight_6  \\\n",
       "cellSerialNumber_0 cellSerialNumber_1 cellSerialNumber_2 cellSerialNumber_3 cellSerialNumber_4 cellSerialNumber_5 cellSerialNumber_6 cellSerialNumber_7                 \n",
       "7450332            7450333            7450339            7450340            7450338            7450337            7450336            7450341                    97192   \n",
       "                                                                                                                  7450341            0                           1588   \n",
       "                                                                                               7450336            7450341            0                            103   \n",
       "                                                                            7450337            7450336            7450341            0                            289   \n",
       "7450333            7450339            7450340            7450338            7450337            7450336            7450341            0                           1444   \n",
       "...                                                                                                                                                               ...   \n",
       "7450337            0                  0                  0                  0                  0                  0                  0                              0   \n",
       "7450336            0                  0                  0                  0                  0                  0                  0                              0   \n",
       "7450333            0                  0                  0                  0                  0                  0                  0                              0   \n",
       "7450332            0                  0                  0                  0                  0                  0                  0                              0   \n",
       "0                  0                  0                  0                  0                  0                  0                  0                              0   \n",
       "\n",
       "                                                                                                                                                         cellWeight_7  \n",
       "cellSerialNumber_0 cellSerialNumber_1 cellSerialNumber_2 cellSerialNumber_3 cellSerialNumber_4 cellSerialNumber_5 cellSerialNumber_6 cellSerialNumber_7                \n",
       "7450332            7450333            7450339            7450340            7450338            7450337            7450336            7450341                    97192  \n",
       "                                                                                                                  7450341            0                              0  \n",
       "                                                                                               7450336            7450341            0                              0  \n",
       "                                                                            7450337            7450336            7450341            0                              0  \n",
       "7450333            7450339            7450340            7450338            7450337            7450336            7450341            0                              0  \n",
       "...                                                                                                                                                               ...  \n",
       "7450337            0                  0                  0                  0                  0                  0                  0                              0  \n",
       "7450336            0                  0                  0                  0                  0                  0                  0                              0  \n",
       "7450333            0                  0                  0                  0                  0                  0                  0                              0  \n",
       "7450332            0                  0                  0                  0                  0                  0                  0                              0  \n",
       "0                  0                  0                  0                  0                  0                  0                  0                              0  \n",
       "\n",
       "[256 rows x 14 columns]"
      ]
     },
     "execution_count": 9,
     "metadata": {},
     "output_type": "execute_result"
    }
   ],
   "source": [
    "ocorrencias"
   ]
  },
  {
   "cell_type": "code",
   "execution_count": null,
   "metadata": {},
   "outputs": [],
   "source": []
  },
  {
   "cell_type": "markdown",
   "metadata": {},
   "source": [
    "dia[dia['period'] < pd.Timedelta(4, unit='s')]"
   ]
  },
  {
   "cell_type": "code",
   "execution_count": null,
   "metadata": {},
   "outputs": [],
   "source": [
    "a=1\n",
    "dia['measurement']=1\n",
    "for i in range(dia.shape[0]):\n",
    "    if dia['period'][i] < pd.Timedelta(4, unit='s'):\n",
    "        dia['measurement'][i]=a\n",
    "    else:\n",
    "        a=a+1\n",
    "        dia['measurement'][i]=a"
   ]
  },
  {
   "cell_type": "code",
   "execution_count": null,
   "metadata": {},
   "outputs": [],
   "source": []
  },
  {
   "cell_type": "code",
   "execution_count": null,
   "metadata": {},
   "outputs": [],
   "source": [
    "dia.head(3)"
   ]
  },
  {
   "cell_type": "code",
   "execution_count": null,
   "metadata": {},
   "outputs": [],
   "source": [
    "dia.measurement.value_counts()"
   ]
  },
  {
   "cell_type": "code",
   "execution_count": null,
   "metadata": {},
   "outputs": [],
   "source": [
    "dia[dia.measurement == 53]"
   ]
  },
  {
   "cell_type": "code",
   "execution_count": null,
   "metadata": {},
   "outputs": [],
   "source": [
    "dia.measurement.value_counts().plot(kind='bar')"
   ]
  },
  {
   "cell_type": "markdown",
   "metadata": {},
   "source": [
    "Consideraçoes\n",
    "- no dia 10 temos 81 pesagens separadas\n",
    "- a maior pesagem engloba 180 amostras separadas por 3s\n",
    "- multiplas pesagens têm so 1 amostra - estranho"
   ]
  },
  {
   "cell_type": "code",
   "execution_count": null,
   "metadata": {},
   "outputs": [],
   "source": []
  },
  {
   "cell_type": "code",
   "execution_count": null,
   "metadata": {},
   "outputs": [],
   "source": [
    "dia=ordenado.reset_index(drop=True)\n",
    "dia['timestamp']= pd.to_datetime(dia['timestamp']) "
   ]
  },
  {
   "cell_type": "code",
   "execution_count": null,
   "metadata": {},
   "outputs": [],
   "source": [
    "dia.head()"
   ]
  },
  {
   "cell_type": "code",
   "execution_count": null,
   "metadata": {},
   "outputs": [],
   "source": [
    "dia['period']=dia.timestamp.diff()\n",
    "dia['period'][0]=0\n",
    "dia['period']=pd.to_timedelta(dia['period'])"
   ]
  },
  {
   "cell_type": "code",
   "execution_count": null,
   "metadata": {},
   "outputs": [],
   "source": [
    "a=1\n",
    "dia['measurement']=1\n",
    "for i in range(dia.shape[0]):\n",
    "    if dia['period'][i] < pd.Timedelta(4, unit='s'):\n",
    "        dia['measurement'][i]=a\n",
    "    else:\n",
    "        a=a+1\n",
    "        dia['measurement'][i]=a"
   ]
  },
  {
   "cell_type": "code",
   "execution_count": null,
   "metadata": {},
   "outputs": [],
   "source": [
    "a"
   ]
  },
  {
   "cell_type": "code",
   "execution_count": null,
   "metadata": {},
   "outputs": [],
   "source": [
    "dia.measurement.value_counts()"
   ]
  },
  {
   "cell_type": "code",
   "execution_count": null,
   "metadata": {},
   "outputs": [],
   "source": [
    "teste=dia[dia.measurement == 30722]"
   ]
  },
  {
   "cell_type": "code",
   "execution_count": null,
   "metadata": {},
   "outputs": [],
   "source": [
    "import matplotlib.pyplot as plt\n",
    "\n",
    "plt.figure(figsize=(20,10))\n",
    "plt.plot(teste.timestamp, teste.cellWeight_0)"
   ]
  },
  {
   "cell_type": "code",
   "execution_count": null,
   "metadata": {},
   "outputs": [],
   "source": [
    "dia102=teste.fillna(method='ffill')\n"
   ]
  },
  {
   "cell_type": "code",
   "execution_count": null,
   "metadata": {},
   "outputs": [],
   "source": [
    "import matplotlib.pyplot as plt\n",
    "\n",
    "plt.figure(figsize=(20,10))\n",
    "#plt.xlim=((2000, 6000))\n",
    "\n",
    "plt.plot(dia102.timestamp, dia102.cellWeight_0, 'r')\n",
    "plt.plot(teste.timestamp, teste.cellWeight_0, 'g')"
   ]
  },
  {
   "cell_type": "code",
   "execution_count": null,
   "metadata": {},
   "outputs": [],
   "source": [
    "teste.describe()"
   ]
  },
  {
   "cell_type": "code",
   "execution_count": null,
   "metadata": {},
   "outputs": [],
   "source": [
    "teste"
   ]
  },
  {
   "cell_type": "code",
   "execution_count": null,
   "metadata": {},
   "outputs": [],
   "source": [
    "dia.head()"
   ]
  },
  {
   "cell_type": "code",
   "execution_count": null,
   "metadata": {},
   "outputs": [],
   "source": [
    "dia.groupby(['measurement','cellSerialNumber_0']).count()\n"
   ]
  },
  {
   "cell_type": "code",
   "execution_count": null,
   "metadata": {},
   "outputs": [],
   "source": [
    "dia.groupby(['measurement']).mean()#,'cellWeight_0']).mean()"
   ]
  },
  {
   "cell_type": "code",
   "execution_count": null,
   "metadata": {},
   "outputs": [],
   "source": [
    "dia.head()"
   ]
  },
  {
   "cell_type": "code",
   "execution_count": null,
   "metadata": {},
   "outputs": [],
   "source": [
    "dia_interpolado=dia[1].fillna(method='ffill')"
   ]
  },
  {
   "cell_type": "code",
   "execution_count": null,
   "metadata": {},
   "outputs": [],
   "source": [
    "dia_interpolado=dia.loc[1]"
   ]
  },
  {
   "cell_type": "code",
   "execution_count": null,
   "metadata": {},
   "outputs": [],
   "source": [
    "type(dia_interpolado)"
   ]
  },
  {
   "cell_type": "code",
   "execution_count": null,
   "metadata": {},
   "outputs": [],
   "source": [
    "dia_interpolado=dia.set_index('measurement')\n",
    "dia_interpolado"
   ]
  },
  {
   "cell_type": "code",
   "execution_count": null,
   "metadata": {},
   "outputs": [],
   "source": [
    "dia_interpolado=dia.groupby('measurement')\n",
    "for i in range(20):\n",
    "    dia_interpolado.measurement.iloc[i]="
   ]
  },
  {
   "cell_type": "code",
   "execution_count": null,
   "metadata": {},
   "outputs": [],
   "source": [
    "dia_interpolado.loc[3].fillna(method='ffill')"
   ]
  },
  {
   "cell_type": "code",
   "execution_count": null,
   "metadata": {},
   "outputs": [],
   "source": []
  },
  {
   "cell_type": "code",
   "execution_count": null,
   "metadata": {},
   "outputs": [],
   "source": [
    "dia['period'][1]"
   ]
  },
  {
   "cell_type": "code",
   "execution_count": null,
   "metadata": {},
   "outputs": [],
   "source": [
    "dia['period'].dt.days"
   ]
  },
  {
   "cell_type": "code",
   "execution_count": null,
   "metadata": {},
   "outputs": [],
   "source": [
    "df = df[df['col'] < pd.Timedelta(30, unit='s')]"
   ]
  },
  {
   "cell_type": "code",
   "execution_count": null,
   "metadata": {},
   "outputs": [],
   "source": [
    "dia['period'] < pd.Timedelta(30, unit='s')"
   ]
  },
  {
   "cell_type": "code",
   "execution_count": null,
   "metadata": {},
   "outputs": [],
   "source": [
    "type(dia['period'])"
   ]
  },
  {
   "cell_type": "code",
   "execution_count": null,
   "metadata": {},
   "outputs": [],
   "source": [
    "#dia[\n",
    "dia['period'].dt.total_seconds()# < pd.Timedelta(30, unit='s')]"
   ]
  },
  {
   "cell_type": "code",
   "execution_count": null,
   "metadata": {},
   "outputs": [],
   "source": [
    "import datetime\n",
    "dia.period> Timedelta('0 days 00:00:03')#datetime.timedelta(seconds=1)"
   ]
  },
  {
   "cell_type": "code",
   "execution_count": null,
   "metadata": {},
   "outputs": [],
   "source": []
  },
  {
   "cell_type": "markdown",
   "metadata": {},
   "source": [
    "## separar e alterar"
   ]
  },
  {
   "cell_type": "code",
   "execution_count": null,
   "metadata": {},
   "outputs": [],
   "source": [
    "ordenado.head(3)"
   ]
  },
  {
   "cell_type": "code",
   "execution_count": null,
   "metadata": {},
   "outputs": [],
   "source": [
    "ordenado.scaleGross.isnull().sum()"
   ]
  },
  {
   "cell_type": "code",
   "execution_count": null,
   "metadata": {},
   "outputs": [],
   "source": [
    "ordenado.loc[pd.isnull(ordenado.scaleGross)]"
   ]
  },
  {
   "cell_type": "code",
   "execution_count": 11,
   "metadata": {},
   "outputs": [],
   "source": [
    "ordenado['timestamp']= pd.to_datetime(ordenado['timestamp']) "
   ]
  },
  {
   "cell_type": "code",
   "execution_count": 12,
   "metadata": {},
   "outputs": [
    {
     "name": "stderr",
     "output_type": "stream",
     "text": [
      "/usr/local/lib/python3.6/dist-packages/ipykernel_launcher.py:3: SettingWithCopyWarning: \n",
      "A value is trying to be set on a copy of a slice from a DataFrame\n",
      "\n",
      "See the caveats in the documentation: http://pandas.pydata.org/pandas-docs/stable/user_guide/indexing.html#returning-a-view-versus-a-copy\n",
      "  This is separate from the ipykernel package so we can avoid doing imports until\n",
      "/usr/local/lib/python3.6/dist-packages/pandas/core/indexing.py:205: SettingWithCopyWarning: \n",
      "A value is trying to be set on a copy of a slice from a DataFrame\n",
      "\n",
      "See the caveats in the documentation: http://pandas.pydata.org/pandas-docs/stable/user_guide/indexing.html#returning-a-view-versus-a-copy\n",
      "  self._setitem_with_indexer(indexer, value)\n"
     ]
    }
   ],
   "source": [
    "ordenado=ordenado.reset_index(drop=True)\n",
    "ordenado['period']=ordenado.timestamp.diff()\n",
    "ordenado['period'][0]=0\n",
    "ordenado['period']=pd.to_timedelta(ordenado['period'])"
   ]
  },
  {
   "cell_type": "code",
   "execution_count": 11,
   "metadata": {},
   "outputs": [
    {
     "data": {
      "text/plain": [
       "00:00:02    266156\n",
       "00:00:03    111841\n",
       "00:00:04     10244\n",
       "00:00:06      8119\n",
       "00:00:08      2068\n",
       "00:00:12      1861\n",
       "00:00:09      1634\n",
       "00:00:01      1343\n",
       "00:00:10      1317\n",
       "00:00:18       843\n",
       "00:00:14       702\n",
       "00:00:15       624\n",
       "00:00:16       550\n",
       "00:00:24       501\n",
       "00:00:20       348\n",
       "00:00:30       323\n",
       "00:00:21       307\n",
       "00:00:22       276\n",
       "00:00:36       244\n",
       "00:00:26       215\n",
       "00:00:27       206\n",
       "00:00:42       206\n",
       "00:00:48       181\n",
       "00:00:28       176\n",
       "00:00:33       166\n",
       "00:00:32       155\n",
       "00:00:54       150\n",
       "00:01:00       143\n",
       "00:00:34       137\n",
       "00:00:00       126\n",
       "Name: period, dtype: int64"
      ]
     },
     "execution_count": 11,
     "metadata": {},
     "output_type": "execute_result"
    }
   ],
   "source": [
    "ordenado['period'].value_counts().head(30)"
   ]
  },
  {
   "cell_type": "markdown",
   "metadata": {},
   "source": [
    "- dificil determinar qual a tolerancia de falha para amostras separadas por mais de 3s"
   ]
  },
  {
   "cell_type": "code",
   "execution_count": 13,
   "metadata": {},
   "outputs": [
    {
     "data": {
      "text/html": [
       "<div>\n",
       "<style scoped>\n",
       "    .dataframe tbody tr th:only-of-type {\n",
       "        vertical-align: middle;\n",
       "    }\n",
       "\n",
       "    .dataframe tbody tr th {\n",
       "        vertical-align: top;\n",
       "    }\n",
       "\n",
       "    .dataframe thead th {\n",
       "        text-align: right;\n",
       "    }\n",
       "</style>\n",
       "<table border=\"1\" class=\"dataframe\">\n",
       "  <thead>\n",
       "    <tr style=\"text-align: right;\">\n",
       "      <th></th>\n",
       "      <th>_id</th>\n",
       "      <th>timestamp</th>\n",
       "      <th>terminalSerialNumber</th>\n",
       "      <th>scaleSerialNumber</th>\n",
       "      <th>scaleGross</th>\n",
       "      <th>scaleNet</th>\n",
       "      <th>cellSerialNumber_0</th>\n",
       "      <th>cellWeight_0</th>\n",
       "      <th>cellSerialNumber_1</th>\n",
       "      <th>cellWeight_1</th>\n",
       "      <th>...</th>\n",
       "      <th>cellWeight_3</th>\n",
       "      <th>cellSerialNumber_4</th>\n",
       "      <th>cellWeight_4</th>\n",
       "      <th>cellSerialNumber_5</th>\n",
       "      <th>cellWeight_5</th>\n",
       "      <th>cellSerialNumber_6</th>\n",
       "      <th>cellWeight_6</th>\n",
       "      <th>cellSerialNumber_7</th>\n",
       "      <th>cellWeight_7</th>\n",
       "      <th>period</th>\n",
       "    </tr>\n",
       "  </thead>\n",
       "  <tbody>\n",
       "    <tr>\n",
       "      <th>0</th>\n",
       "      <td>5cd43963a61883ad63c5835e</td>\n",
       "      <td>2019-05-09 14:22:55</td>\n",
       "      <td>160690</td>\n",
       "      <td>P191021852</td>\n",
       "      <td>0.0</td>\n",
       "      <td>0.0</td>\n",
       "      <td>7450332</td>\n",
       "      <td>0.0</td>\n",
       "      <td>7450333</td>\n",
       "      <td>0.0</td>\n",
       "      <td>...</td>\n",
       "      <td>0.0</td>\n",
       "      <td>7450338</td>\n",
       "      <td>0.0</td>\n",
       "      <td>7450337</td>\n",
       "      <td>0.0</td>\n",
       "      <td>7450336</td>\n",
       "      <td>0.0</td>\n",
       "      <td>7450341</td>\n",
       "      <td>0.0</td>\n",
       "      <td>00:00:00</td>\n",
       "    </tr>\n",
       "    <tr>\n",
       "      <th>1</th>\n",
       "      <td>5cd43965a618830094c58367</td>\n",
       "      <td>2019-05-09 14:22:58</td>\n",
       "      <td>160690</td>\n",
       "      <td>P191021852</td>\n",
       "      <td>0.0</td>\n",
       "      <td>0.0</td>\n",
       "      <td>7450332</td>\n",
       "      <td>0.0</td>\n",
       "      <td>7450333</td>\n",
       "      <td>0.0</td>\n",
       "      <td>...</td>\n",
       "      <td>0.0</td>\n",
       "      <td>7450338</td>\n",
       "      <td>0.0</td>\n",
       "      <td>7450337</td>\n",
       "      <td>0.0</td>\n",
       "      <td>7450336</td>\n",
       "      <td>0.0</td>\n",
       "      <td>7450341</td>\n",
       "      <td>0.0</td>\n",
       "      <td>00:00:03</td>\n",
       "    </tr>\n",
       "    <tr>\n",
       "      <th>2</th>\n",
       "      <td>5cd43968a61883e53ac58370</td>\n",
       "      <td>2019-05-09 14:23:01</td>\n",
       "      <td>160690</td>\n",
       "      <td>P191021852</td>\n",
       "      <td>0.0</td>\n",
       "      <td>0.0</td>\n",
       "      <td>7450332</td>\n",
       "      <td>0.0</td>\n",
       "      <td>7450333</td>\n",
       "      <td>0.0</td>\n",
       "      <td>...</td>\n",
       "      <td>0.0</td>\n",
       "      <td>7450338</td>\n",
       "      <td>0.0</td>\n",
       "      <td>7450337</td>\n",
       "      <td>0.0</td>\n",
       "      <td>7450336</td>\n",
       "      <td>0.0</td>\n",
       "      <td>7450341</td>\n",
       "      <td>0.0</td>\n",
       "      <td>00:00:03</td>\n",
       "    </tr>\n",
       "    <tr>\n",
       "      <th>3</th>\n",
       "      <td>5cd4396ba618835713c58379</td>\n",
       "      <td>2019-05-09 14:23:04</td>\n",
       "      <td>160690</td>\n",
       "      <td>P191021852</td>\n",
       "      <td>0.0</td>\n",
       "      <td>0.0</td>\n",
       "      <td>7450332</td>\n",
       "      <td>0.0</td>\n",
       "      <td>7450333</td>\n",
       "      <td>0.0</td>\n",
       "      <td>...</td>\n",
       "      <td>0.0</td>\n",
       "      <td>7450338</td>\n",
       "      <td>0.0</td>\n",
       "      <td>7450337</td>\n",
       "      <td>0.0</td>\n",
       "      <td>7450336</td>\n",
       "      <td>0.0</td>\n",
       "      <td>7450341</td>\n",
       "      <td>0.0</td>\n",
       "      <td>00:00:03</td>\n",
       "    </tr>\n",
       "    <tr>\n",
       "      <th>4</th>\n",
       "      <td>5cd43b33a61883db28c58384</td>\n",
       "      <td>2019-05-09 14:30:40</td>\n",
       "      <td>160690</td>\n",
       "      <td>P191021852</td>\n",
       "      <td>0.0</td>\n",
       "      <td>0.0</td>\n",
       "      <td>7450332</td>\n",
       "      <td>0.0</td>\n",
       "      <td>7450333</td>\n",
       "      <td>0.0</td>\n",
       "      <td>...</td>\n",
       "      <td>0.0</td>\n",
       "      <td>7450338</td>\n",
       "      <td>0.0</td>\n",
       "      <td>7450337</td>\n",
       "      <td>0.0</td>\n",
       "      <td>7450336</td>\n",
       "      <td>0.0</td>\n",
       "      <td>7450341</td>\n",
       "      <td>0.0</td>\n",
       "      <td>00:07:36</td>\n",
       "    </tr>\n",
       "    <tr>\n",
       "      <th>...</th>\n",
       "      <td>...</td>\n",
       "      <td>...</td>\n",
       "      <td>...</td>\n",
       "      <td>...</td>\n",
       "      <td>...</td>\n",
       "      <td>...</td>\n",
       "      <td>...</td>\n",
       "      <td>...</td>\n",
       "      <td>...</td>\n",
       "      <td>...</td>\n",
       "      <td>...</td>\n",
       "      <td>...</td>\n",
       "      <td>...</td>\n",
       "      <td>...</td>\n",
       "      <td>...</td>\n",
       "      <td>...</td>\n",
       "      <td>...</td>\n",
       "      <td>...</td>\n",
       "      <td>...</td>\n",
       "      <td>...</td>\n",
       "      <td>...</td>\n",
       "    </tr>\n",
       "    <tr>\n",
       "      <th>423064</th>\n",
       "      <td>5f1ae66137b06e0008514ebf</td>\n",
       "      <td>2020-07-24 13:46:08</td>\n",
       "      <td>160690</td>\n",
       "      <td>P191021852</td>\n",
       "      <td>0.0</td>\n",
       "      <td>0.0</td>\n",
       "      <td>7450332</td>\n",
       "      <td>10.0</td>\n",
       "      <td>7450333</td>\n",
       "      <td>0.0</td>\n",
       "      <td>...</td>\n",
       "      <td>0.0</td>\n",
       "      <td>7450338</td>\n",
       "      <td>0.0</td>\n",
       "      <td>7450337</td>\n",
       "      <td>0.0</td>\n",
       "      <td>7450336</td>\n",
       "      <td>0.0</td>\n",
       "      <td>7450341</td>\n",
       "      <td>0.0</td>\n",
       "      <td>00:00:02</td>\n",
       "    </tr>\n",
       "    <tr>\n",
       "      <th>423065</th>\n",
       "      <td>5f1ae66337b06e0008514ec8</td>\n",
       "      <td>2020-07-24 13:46:10</td>\n",
       "      <td>160690</td>\n",
       "      <td>P191021852</td>\n",
       "      <td>0.0</td>\n",
       "      <td>0.0</td>\n",
       "      <td>7450332</td>\n",
       "      <td>0.0</td>\n",
       "      <td>7450333</td>\n",
       "      <td>0.0</td>\n",
       "      <td>...</td>\n",
       "      <td>0.0</td>\n",
       "      <td>7450338</td>\n",
       "      <td>0.0</td>\n",
       "      <td>7450337</td>\n",
       "      <td>0.0</td>\n",
       "      <td>7450336</td>\n",
       "      <td>0.0</td>\n",
       "      <td>7450341</td>\n",
       "      <td>10.0</td>\n",
       "      <td>00:00:02</td>\n",
       "    </tr>\n",
       "    <tr>\n",
       "      <th>423066</th>\n",
       "      <td>5f1ae66537b06e0008514ed1</td>\n",
       "      <td>2020-07-24 13:46:12</td>\n",
       "      <td>160690</td>\n",
       "      <td>P191021852</td>\n",
       "      <td>0.0</td>\n",
       "      <td>0.0</td>\n",
       "      <td>7450332</td>\n",
       "      <td>0.0</td>\n",
       "      <td>7450338</td>\n",
       "      <td>0.0</td>\n",
       "      <td>...</td>\n",
       "      <td>0.0</td>\n",
       "      <td>7450341</td>\n",
       "      <td>0.0</td>\n",
       "      <td>0</td>\n",
       "      <td>NaN</td>\n",
       "      <td>0</td>\n",
       "      <td>NaN</td>\n",
       "      <td>0</td>\n",
       "      <td>NaN</td>\n",
       "      <td>00:00:02</td>\n",
       "    </tr>\n",
       "    <tr>\n",
       "      <th>423067</th>\n",
       "      <td>5f1ae66737b06e0008514ed7</td>\n",
       "      <td>2020-07-24 13:46:13</td>\n",
       "      <td>160690</td>\n",
       "      <td>P191021852</td>\n",
       "      <td>NaN</td>\n",
       "      <td>NaN</td>\n",
       "      <td>7450332</td>\n",
       "      <td>0.0</td>\n",
       "      <td>7450336</td>\n",
       "      <td>0.0</td>\n",
       "      <td>...</td>\n",
       "      <td>NaN</td>\n",
       "      <td>0</td>\n",
       "      <td>NaN</td>\n",
       "      <td>0</td>\n",
       "      <td>NaN</td>\n",
       "      <td>0</td>\n",
       "      <td>NaN</td>\n",
       "      <td>0</td>\n",
       "      <td>NaN</td>\n",
       "      <td>00:00:01</td>\n",
       "    </tr>\n",
       "    <tr>\n",
       "      <th>423068</th>\n",
       "      <td>5f1ae66f37b06e0008514edb</td>\n",
       "      <td>2020-07-24 13:46:19</td>\n",
       "      <td>160690</td>\n",
       "      <td>P191021852</td>\n",
       "      <td>NaN</td>\n",
       "      <td>NaN</td>\n",
       "      <td>7450341</td>\n",
       "      <td>0.0</td>\n",
       "      <td>0</td>\n",
       "      <td>NaN</td>\n",
       "      <td>...</td>\n",
       "      <td>NaN</td>\n",
       "      <td>0</td>\n",
       "      <td>NaN</td>\n",
       "      <td>0</td>\n",
       "      <td>NaN</td>\n",
       "      <td>0</td>\n",
       "      <td>NaN</td>\n",
       "      <td>0</td>\n",
       "      <td>NaN</td>\n",
       "      <td>00:00:06</td>\n",
       "    </tr>\n",
       "  </tbody>\n",
       "</table>\n",
       "<p>423069 rows × 23 columns</p>\n",
       "</div>"
      ],
      "text/plain": [
       "                             _id           timestamp terminalSerialNumber  \\\n",
       "0       5cd43963a61883ad63c5835e 2019-05-09 14:22:55               160690   \n",
       "1       5cd43965a618830094c58367 2019-05-09 14:22:58               160690   \n",
       "2       5cd43968a61883e53ac58370 2019-05-09 14:23:01               160690   \n",
       "3       5cd4396ba618835713c58379 2019-05-09 14:23:04               160690   \n",
       "4       5cd43b33a61883db28c58384 2019-05-09 14:30:40               160690   \n",
       "...                          ...                 ...                  ...   \n",
       "423064  5f1ae66137b06e0008514ebf 2020-07-24 13:46:08               160690   \n",
       "423065  5f1ae66337b06e0008514ec8 2020-07-24 13:46:10               160690   \n",
       "423066  5f1ae66537b06e0008514ed1 2020-07-24 13:46:12               160690   \n",
       "423067  5f1ae66737b06e0008514ed7 2020-07-24 13:46:13               160690   \n",
       "423068  5f1ae66f37b06e0008514edb 2020-07-24 13:46:19               160690   \n",
       "\n",
       "       scaleSerialNumber  scaleGross  scaleNet cellSerialNumber_0  \\\n",
       "0             P191021852         0.0       0.0            7450332   \n",
       "1             P191021852         0.0       0.0            7450332   \n",
       "2             P191021852         0.0       0.0            7450332   \n",
       "3             P191021852         0.0       0.0            7450332   \n",
       "4             P191021852         0.0       0.0            7450332   \n",
       "...                  ...         ...       ...                ...   \n",
       "423064        P191021852         0.0       0.0            7450332   \n",
       "423065        P191021852         0.0       0.0            7450332   \n",
       "423066        P191021852         0.0       0.0            7450332   \n",
       "423067        P191021852         NaN       NaN            7450332   \n",
       "423068        P191021852         NaN       NaN            7450341   \n",
       "\n",
       "        cellWeight_0 cellSerialNumber_1  cellWeight_1  ... cellWeight_3  \\\n",
       "0                0.0            7450333           0.0  ...          0.0   \n",
       "1                0.0            7450333           0.0  ...          0.0   \n",
       "2                0.0            7450333           0.0  ...          0.0   \n",
       "3                0.0            7450333           0.0  ...          0.0   \n",
       "4                0.0            7450333           0.0  ...          0.0   \n",
       "...              ...                ...           ...  ...          ...   \n",
       "423064          10.0            7450333           0.0  ...          0.0   \n",
       "423065           0.0            7450333           0.0  ...          0.0   \n",
       "423066           0.0            7450338           0.0  ...          0.0   \n",
       "423067           0.0            7450336           0.0  ...          NaN   \n",
       "423068           0.0                  0           NaN  ...          NaN   \n",
       "\n",
       "        cellSerialNumber_4 cellWeight_4  cellSerialNumber_5 cellWeight_5  \\\n",
       "0                  7450338          0.0             7450337          0.0   \n",
       "1                  7450338          0.0             7450337          0.0   \n",
       "2                  7450338          0.0             7450337          0.0   \n",
       "3                  7450338          0.0             7450337          0.0   \n",
       "4                  7450338          0.0             7450337          0.0   \n",
       "...                    ...          ...                 ...          ...   \n",
       "423064             7450338          0.0             7450337          0.0   \n",
       "423065             7450338          0.0             7450337          0.0   \n",
       "423066             7450341          0.0                   0          NaN   \n",
       "423067                   0          NaN                   0          NaN   \n",
       "423068                   0          NaN                   0          NaN   \n",
       "\n",
       "        cellSerialNumber_6 cellWeight_6  cellSerialNumber_7 cellWeight_7  \\\n",
       "0                  7450336          0.0             7450341          0.0   \n",
       "1                  7450336          0.0             7450341          0.0   \n",
       "2                  7450336          0.0             7450341          0.0   \n",
       "3                  7450336          0.0             7450341          0.0   \n",
       "4                  7450336          0.0             7450341          0.0   \n",
       "...                    ...          ...                 ...          ...   \n",
       "423064             7450336          0.0             7450341          0.0   \n",
       "423065             7450336          0.0             7450341         10.0   \n",
       "423066                   0          NaN                   0          NaN   \n",
       "423067                   0          NaN                   0          NaN   \n",
       "423068                   0          NaN                   0          NaN   \n",
       "\n",
       "         period  \n",
       "0      00:00:00  \n",
       "1      00:00:03  \n",
       "2      00:00:03  \n",
       "3      00:00:03  \n",
       "4      00:07:36  \n",
       "...         ...  \n",
       "423064 00:00:02  \n",
       "423065 00:00:02  \n",
       "423066 00:00:02  \n",
       "423067 00:00:01  \n",
       "423068 00:00:06  \n",
       "\n",
       "[423069 rows x 23 columns]"
      ]
     },
     "execution_count": 13,
     "metadata": {},
     "output_type": "execute_result"
    }
   ],
   "source": [
    "ordenado"
   ]
  },
  {
   "cell_type": "markdown",
   "metadata": {},
   "source": [
    "### 1) separar pesagens "
   ]
  },
  {
   "cell_type": "code",
   "execution_count": 14,
   "metadata": {},
   "outputs": [
    {
     "name": "stderr",
     "output_type": "stream",
     "text": [
      "/usr/local/lib/python3.6/dist-packages/ipykernel_launcher.py:5: SettingWithCopyWarning: \n",
      "A value is trying to be set on a copy of a slice from a DataFrame\n",
      "\n",
      "See the caveats in the documentation: http://pandas.pydata.org/pandas-docs/stable/user_guide/indexing.html#returning-a-view-versus-a-copy\n",
      "  \"\"\"\n",
      "/usr/local/lib/python3.6/dist-packages/ipykernel_launcher.py:8: SettingWithCopyWarning: \n",
      "A value is trying to be set on a copy of a slice from a DataFrame\n",
      "\n",
      "See the caveats in the documentation: http://pandas.pydata.org/pandas-docs/stable/user_guide/indexing.html#returning-a-view-versus-a-copy\n",
      "  \n"
     ]
    }
   ],
   "source": [
    "a=1\n",
    "ordenado['measurement']=1\n",
    "for i in range(ordenado.shape[0]):\n",
    "    if ordenado['period'][i] < pd.Timedelta(31, unit='s'):  #4\n",
    "        ordenado['measurement'][i]=a\n",
    "    else:\n",
    "        a=a+1\n",
    "        ordenado['measurement'][i]=a"
   ]
  },
  {
   "cell_type": "code",
   "execution_count": 13,
   "metadata": {},
   "outputs": [
    {
     "name": "stdout",
     "output_type": "stream",
     "text": [
      "Numero total de pesagens isoladas: 13111\n"
     ]
    },
    {
     "data": {
      "text/plain": [
       "9498     10213\n",
       "1351      5630\n",
       "1327      5161\n",
       "11484     4474\n",
       "10877     4172\n",
       "         ...  \n",
       "1359         1\n",
       "1061         1\n",
       "9547         1\n",
       "9121         1\n",
       "12472        1\n",
       "Name: measurement, Length: 13111, dtype: int64"
      ]
     },
     "execution_count": 13,
     "metadata": {},
     "output_type": "execute_result"
    }
   ],
   "source": [
    "print('Numero total de pesagens isoladas: ' + str(a))\n",
    "ordenado.measurement.value_counts()"
   ]
  },
  {
   "cell_type": "code",
   "execution_count": null,
   "metadata": {},
   "outputs": [],
   "source": [
    "filtragem=ordenado"
   ]
  },
  {
   "cell_type": "code",
   "execution_count": 33,
   "metadata": {},
   "outputs": [
    {
     "name": "stdout",
     "output_type": "stream",
     "text": [
      "Numero total de pesagens isoladas: 13111\n"
     ]
    },
    {
     "data": {
      "text/plain": [
       "9498     10213\n",
       "1351      5630\n",
       "1327      5161\n",
       "11484     4474\n",
       "10877     4172\n",
       "         ...  \n",
       "1359         1\n",
       "1061         1\n",
       "9547         1\n",
       "9121         1\n",
       "12472        1\n",
       "Name: measurement, Length: 13111, dtype: int64"
      ]
     },
     "execution_count": 33,
     "metadata": {},
     "output_type": "execute_result"
    }
   ],
   "source": [
    "print('Numero total de pesagens isoladas: ' + str(a))\n",
    "ordenado.measurement.value_counts()"
   ]
  },
  {
   "cell_type": "markdown",
   "metadata": {},
   "source": [
    "### 2) filtrar por ter mais que 5 mediçoes"
   ]
  },
  {
   "cell_type": "code",
   "execution_count": 15,
   "metadata": {},
   "outputs": [
    {
     "data": {
      "text/html": [
       "<div>\n",
       "<style scoped>\n",
       "    .dataframe tbody tr th:only-of-type {\n",
       "        vertical-align: middle;\n",
       "    }\n",
       "\n",
       "    .dataframe tbody tr th {\n",
       "        vertical-align: top;\n",
       "    }\n",
       "\n",
       "    .dataframe thead th {\n",
       "        text-align: right;\n",
       "    }\n",
       "</style>\n",
       "<table border=\"1\" class=\"dataframe\">\n",
       "  <thead>\n",
       "    <tr style=\"text-align: right;\">\n",
       "      <th></th>\n",
       "      <th>_id</th>\n",
       "      <th>timestamp</th>\n",
       "      <th>terminalSerialNumber</th>\n",
       "      <th>scaleSerialNumber</th>\n",
       "      <th>scaleGross</th>\n",
       "      <th>scaleNet</th>\n",
       "      <th>cellSerialNumber_0</th>\n",
       "      <th>cellWeight_0</th>\n",
       "      <th>cellSerialNumber_1</th>\n",
       "      <th>cellWeight_1</th>\n",
       "      <th>...</th>\n",
       "      <th>cellSerialNumber_4</th>\n",
       "      <th>cellWeight_4</th>\n",
       "      <th>cellSerialNumber_5</th>\n",
       "      <th>cellWeight_5</th>\n",
       "      <th>cellSerialNumber_6</th>\n",
       "      <th>cellWeight_6</th>\n",
       "      <th>cellSerialNumber_7</th>\n",
       "      <th>cellWeight_7</th>\n",
       "      <th>period</th>\n",
       "      <th>measurement</th>\n",
       "    </tr>\n",
       "  </thead>\n",
       "  <tbody>\n",
       "    <tr>\n",
       "      <th>4</th>\n",
       "      <td>5cd43b33a61883db28c58384</td>\n",
       "      <td>2019-05-09 14:30:40</td>\n",
       "      <td>160690</td>\n",
       "      <td>P191021852</td>\n",
       "      <td>0.0</td>\n",
       "      <td>0.0</td>\n",
       "      <td>7450332</td>\n",
       "      <td>0.0</td>\n",
       "      <td>7450333</td>\n",
       "      <td>0.0</td>\n",
       "      <td>...</td>\n",
       "      <td>7450338</td>\n",
       "      <td>0.0</td>\n",
       "      <td>7450337</td>\n",
       "      <td>0.0</td>\n",
       "      <td>7450336</td>\n",
       "      <td>0.0</td>\n",
       "      <td>7450341</td>\n",
       "      <td>0.0</td>\n",
       "      <td>00:07:36</td>\n",
       "      <td>2</td>\n",
       "    </tr>\n",
       "    <tr>\n",
       "      <th>5</th>\n",
       "      <td>5cd43b36a61883180ec5838d</td>\n",
       "      <td>2019-05-09 14:30:43</td>\n",
       "      <td>160690</td>\n",
       "      <td>P191021852</td>\n",
       "      <td>NaN</td>\n",
       "      <td>NaN</td>\n",
       "      <td>7450332</td>\n",
       "      <td>-860.0</td>\n",
       "      <td>0</td>\n",
       "      <td>NaN</td>\n",
       "      <td>...</td>\n",
       "      <td>0</td>\n",
       "      <td>NaN</td>\n",
       "      <td>0</td>\n",
       "      <td>NaN</td>\n",
       "      <td>0</td>\n",
       "      <td>NaN</td>\n",
       "      <td>0</td>\n",
       "      <td>NaN</td>\n",
       "      <td>00:00:03</td>\n",
       "      <td>2</td>\n",
       "    </tr>\n",
       "    <tr>\n",
       "      <th>6</th>\n",
       "      <td>5cd43b39a61883300cc5838f</td>\n",
       "      <td>2019-05-09 14:30:46</td>\n",
       "      <td>160690</td>\n",
       "      <td>P191021852</td>\n",
       "      <td>0.0</td>\n",
       "      <td>0.0</td>\n",
       "      <td>7450332</td>\n",
       "      <td>0.0</td>\n",
       "      <td>7450333</td>\n",
       "      <td>0.0</td>\n",
       "      <td>...</td>\n",
       "      <td>7450338</td>\n",
       "      <td>0.0</td>\n",
       "      <td>7450337</td>\n",
       "      <td>0.0</td>\n",
       "      <td>7450336</td>\n",
       "      <td>0.0</td>\n",
       "      <td>7450341</td>\n",
       "      <td>0.0</td>\n",
       "      <td>00:00:03</td>\n",
       "      <td>2</td>\n",
       "    </tr>\n",
       "    <tr>\n",
       "      <th>7</th>\n",
       "      <td>5cd43b3ca618839b85c58398</td>\n",
       "      <td>2019-05-09 14:30:49</td>\n",
       "      <td>160690</td>\n",
       "      <td>P191021852</td>\n",
       "      <td>0.0</td>\n",
       "      <td>0.0</td>\n",
       "      <td>7450332</td>\n",
       "      <td>10.0</td>\n",
       "      <td>7450333</td>\n",
       "      <td>0.0</td>\n",
       "      <td>...</td>\n",
       "      <td>7450338</td>\n",
       "      <td>0.0</td>\n",
       "      <td>7450337</td>\n",
       "      <td>0.0</td>\n",
       "      <td>7450336</td>\n",
       "      <td>0.0</td>\n",
       "      <td>7450341</td>\n",
       "      <td>0.0</td>\n",
       "      <td>00:00:03</td>\n",
       "      <td>2</td>\n",
       "    </tr>\n",
       "    <tr>\n",
       "      <th>8</th>\n",
       "      <td>5cd43b3fa618834976c583a1</td>\n",
       "      <td>2019-05-09 14:30:52</td>\n",
       "      <td>160690</td>\n",
       "      <td>P191021852</td>\n",
       "      <td>80.0</td>\n",
       "      <td>80.0</td>\n",
       "      <td>7450332</td>\n",
       "      <td>80.0</td>\n",
       "      <td>7450333</td>\n",
       "      <td>0.0</td>\n",
       "      <td>...</td>\n",
       "      <td>7450338</td>\n",
       "      <td>0.0</td>\n",
       "      <td>7450337</td>\n",
       "      <td>0.0</td>\n",
       "      <td>7450336</td>\n",
       "      <td>0.0</td>\n",
       "      <td>7450341</td>\n",
       "      <td>0.0</td>\n",
       "      <td>00:00:03</td>\n",
       "      <td>2</td>\n",
       "    </tr>\n",
       "  </tbody>\n",
       "</table>\n",
       "<p>5 rows × 24 columns</p>\n",
       "</div>"
      ],
      "text/plain": [
       "                        _id           timestamp terminalSerialNumber  \\\n",
       "4  5cd43b33a61883db28c58384 2019-05-09 14:30:40               160690   \n",
       "5  5cd43b36a61883180ec5838d 2019-05-09 14:30:43               160690   \n",
       "6  5cd43b39a61883300cc5838f 2019-05-09 14:30:46               160690   \n",
       "7  5cd43b3ca618839b85c58398 2019-05-09 14:30:49               160690   \n",
       "8  5cd43b3fa618834976c583a1 2019-05-09 14:30:52               160690   \n",
       "\n",
       "  scaleSerialNumber  scaleGross  scaleNet cellSerialNumber_0  cellWeight_0  \\\n",
       "4        P191021852         0.0       0.0            7450332           0.0   \n",
       "5        P191021852         NaN       NaN            7450332        -860.0   \n",
       "6        P191021852         0.0       0.0            7450332           0.0   \n",
       "7        P191021852         0.0       0.0            7450332          10.0   \n",
       "8        P191021852        80.0      80.0            7450332          80.0   \n",
       "\n",
       "  cellSerialNumber_1  cellWeight_1  ... cellSerialNumber_4  cellWeight_4  \\\n",
       "4            7450333           0.0  ...            7450338           0.0   \n",
       "5                  0           NaN  ...                  0           NaN   \n",
       "6            7450333           0.0  ...            7450338           0.0   \n",
       "7            7450333           0.0  ...            7450338           0.0   \n",
       "8            7450333           0.0  ...            7450338           0.0   \n",
       "\n",
       "  cellSerialNumber_5  cellWeight_5 cellSerialNumber_6  cellWeight_6  \\\n",
       "4            7450337           0.0            7450336           0.0   \n",
       "5                  0           NaN                  0           NaN   \n",
       "6            7450337           0.0            7450336           0.0   \n",
       "7            7450337           0.0            7450336           0.0   \n",
       "8            7450337           0.0            7450336           0.0   \n",
       "\n",
       "  cellSerialNumber_7  cellWeight_7   period  measurement  \n",
       "4            7450341           0.0 00:07:36            2  \n",
       "5                  0           NaN 00:00:03            2  \n",
       "6            7450341           0.0 00:00:03            2  \n",
       "7            7450341           0.0 00:00:03            2  \n",
       "8            7450341           0.0 00:00:03            2  \n",
       "\n",
       "[5 rows x 24 columns]"
      ]
     },
     "execution_count": 15,
     "metadata": {},
     "output_type": "execute_result"
    }
   ],
   "source": [
    "experiencia = ordenado.groupby('measurement').filter(lambda x: len(x) > 5)\n",
    "experiencia.head()"
   ]
  },
  {
   "cell_type": "code",
   "execution_count": 18,
   "metadata": {},
   "outputs": [
    {
     "data": {
      "text/plain": [
       "9498     10213\n",
       "1351      5630\n",
       "1327      5161\n",
       "11484     4474\n",
       "10877     4172\n",
       "         ...  \n",
       "1466         6\n",
       "7034         6\n",
       "4027         6\n",
       "6266         6\n",
       "8397         6\n",
       "Name: measurement, Length: 6222, dtype: int64"
      ]
     },
     "execution_count": 18,
     "metadata": {},
     "output_type": "execute_result"
    }
   ],
   "source": [
    "experiencia.measurement.value_counts()#.nunique()"
   ]
  },
  {
   "cell_type": "markdown",
   "metadata": {},
   "source": [
    "### 2.1 filtrar mediçao > 30s"
   ]
  },
  {
   "cell_type": "code",
   "execution_count": 16,
   "metadata": {},
   "outputs": [
    {
     "data": {
      "text/html": [
       "<div>\n",
       "<style scoped>\n",
       "    .dataframe tbody tr th:only-of-type {\n",
       "        vertical-align: middle;\n",
       "    }\n",
       "\n",
       "    .dataframe tbody tr th {\n",
       "        vertical-align: top;\n",
       "    }\n",
       "\n",
       "    .dataframe thead th {\n",
       "        text-align: right;\n",
       "    }\n",
       "</style>\n",
       "<table border=\"1\" class=\"dataframe\">\n",
       "  <thead>\n",
       "    <tr style=\"text-align: right;\">\n",
       "      <th></th>\n",
       "      <th>_id</th>\n",
       "      <th>timestamp</th>\n",
       "      <th>terminalSerialNumber</th>\n",
       "      <th>scaleSerialNumber</th>\n",
       "      <th>scaleGross</th>\n",
       "      <th>scaleNet</th>\n",
       "      <th>cellSerialNumber_0</th>\n",
       "      <th>cellWeight_0</th>\n",
       "      <th>cellSerialNumber_1</th>\n",
       "      <th>cellWeight_1</th>\n",
       "      <th>...</th>\n",
       "      <th>cellSerialNumber_4</th>\n",
       "      <th>cellWeight_4</th>\n",
       "      <th>cellSerialNumber_5</th>\n",
       "      <th>cellWeight_5</th>\n",
       "      <th>cellSerialNumber_6</th>\n",
       "      <th>cellWeight_6</th>\n",
       "      <th>cellSerialNumber_7</th>\n",
       "      <th>cellWeight_7</th>\n",
       "      <th>period</th>\n",
       "      <th>measurement</th>\n",
       "    </tr>\n",
       "  </thead>\n",
       "  <tbody>\n",
       "    <tr>\n",
       "      <th>4</th>\n",
       "      <td>5cd43b33a61883db28c58384</td>\n",
       "      <td>2019-05-09 14:30:40</td>\n",
       "      <td>160690</td>\n",
       "      <td>P191021852</td>\n",
       "      <td>0.0</td>\n",
       "      <td>0.0</td>\n",
       "      <td>7450332</td>\n",
       "      <td>0.0</td>\n",
       "      <td>7450333</td>\n",
       "      <td>0.0</td>\n",
       "      <td>...</td>\n",
       "      <td>7450338</td>\n",
       "      <td>0.0</td>\n",
       "      <td>7450337</td>\n",
       "      <td>0.0</td>\n",
       "      <td>7450336</td>\n",
       "      <td>0.0</td>\n",
       "      <td>7450341</td>\n",
       "      <td>0.0</td>\n",
       "      <td>00:07:36</td>\n",
       "      <td>2</td>\n",
       "    </tr>\n",
       "    <tr>\n",
       "      <th>5</th>\n",
       "      <td>5cd43b36a61883180ec5838d</td>\n",
       "      <td>2019-05-09 14:30:43</td>\n",
       "      <td>160690</td>\n",
       "      <td>P191021852</td>\n",
       "      <td>NaN</td>\n",
       "      <td>NaN</td>\n",
       "      <td>7450332</td>\n",
       "      <td>-860.0</td>\n",
       "      <td>0</td>\n",
       "      <td>NaN</td>\n",
       "      <td>...</td>\n",
       "      <td>0</td>\n",
       "      <td>NaN</td>\n",
       "      <td>0</td>\n",
       "      <td>NaN</td>\n",
       "      <td>0</td>\n",
       "      <td>NaN</td>\n",
       "      <td>0</td>\n",
       "      <td>NaN</td>\n",
       "      <td>00:00:03</td>\n",
       "      <td>2</td>\n",
       "    </tr>\n",
       "    <tr>\n",
       "      <th>6</th>\n",
       "      <td>5cd43b39a61883300cc5838f</td>\n",
       "      <td>2019-05-09 14:30:46</td>\n",
       "      <td>160690</td>\n",
       "      <td>P191021852</td>\n",
       "      <td>0.0</td>\n",
       "      <td>0.0</td>\n",
       "      <td>7450332</td>\n",
       "      <td>0.0</td>\n",
       "      <td>7450333</td>\n",
       "      <td>0.0</td>\n",
       "      <td>...</td>\n",
       "      <td>7450338</td>\n",
       "      <td>0.0</td>\n",
       "      <td>7450337</td>\n",
       "      <td>0.0</td>\n",
       "      <td>7450336</td>\n",
       "      <td>0.0</td>\n",
       "      <td>7450341</td>\n",
       "      <td>0.0</td>\n",
       "      <td>00:00:03</td>\n",
       "      <td>2</td>\n",
       "    </tr>\n",
       "    <tr>\n",
       "      <th>7</th>\n",
       "      <td>5cd43b3ca618839b85c58398</td>\n",
       "      <td>2019-05-09 14:30:49</td>\n",
       "      <td>160690</td>\n",
       "      <td>P191021852</td>\n",
       "      <td>0.0</td>\n",
       "      <td>0.0</td>\n",
       "      <td>7450332</td>\n",
       "      <td>10.0</td>\n",
       "      <td>7450333</td>\n",
       "      <td>0.0</td>\n",
       "      <td>...</td>\n",
       "      <td>7450338</td>\n",
       "      <td>0.0</td>\n",
       "      <td>7450337</td>\n",
       "      <td>0.0</td>\n",
       "      <td>7450336</td>\n",
       "      <td>0.0</td>\n",
       "      <td>7450341</td>\n",
       "      <td>0.0</td>\n",
       "      <td>00:00:03</td>\n",
       "      <td>2</td>\n",
       "    </tr>\n",
       "    <tr>\n",
       "      <th>8</th>\n",
       "      <td>5cd43b3fa618834976c583a1</td>\n",
       "      <td>2019-05-09 14:30:52</td>\n",
       "      <td>160690</td>\n",
       "      <td>P191021852</td>\n",
       "      <td>80.0</td>\n",
       "      <td>80.0</td>\n",
       "      <td>7450332</td>\n",
       "      <td>80.0</td>\n",
       "      <td>7450333</td>\n",
       "      <td>0.0</td>\n",
       "      <td>...</td>\n",
       "      <td>7450338</td>\n",
       "      <td>0.0</td>\n",
       "      <td>7450337</td>\n",
       "      <td>0.0</td>\n",
       "      <td>7450336</td>\n",
       "      <td>0.0</td>\n",
       "      <td>7450341</td>\n",
       "      <td>0.0</td>\n",
       "      <td>00:00:03</td>\n",
       "      <td>2</td>\n",
       "    </tr>\n",
       "  </tbody>\n",
       "</table>\n",
       "<p>5 rows × 24 columns</p>\n",
       "</div>"
      ],
      "text/plain": [
       "                        _id           timestamp terminalSerialNumber  \\\n",
       "4  5cd43b33a61883db28c58384 2019-05-09 14:30:40               160690   \n",
       "5  5cd43b36a61883180ec5838d 2019-05-09 14:30:43               160690   \n",
       "6  5cd43b39a61883300cc5838f 2019-05-09 14:30:46               160690   \n",
       "7  5cd43b3ca618839b85c58398 2019-05-09 14:30:49               160690   \n",
       "8  5cd43b3fa618834976c583a1 2019-05-09 14:30:52               160690   \n",
       "\n",
       "  scaleSerialNumber  scaleGross  scaleNet cellSerialNumber_0  cellWeight_0  \\\n",
       "4        P191021852         0.0       0.0            7450332           0.0   \n",
       "5        P191021852         NaN       NaN            7450332        -860.0   \n",
       "6        P191021852         0.0       0.0            7450332           0.0   \n",
       "7        P191021852         0.0       0.0            7450332          10.0   \n",
       "8        P191021852        80.0      80.0            7450332          80.0   \n",
       "\n",
       "  cellSerialNumber_1  cellWeight_1  ... cellSerialNumber_4  cellWeight_4  \\\n",
       "4            7450333           0.0  ...            7450338           0.0   \n",
       "5                  0           NaN  ...                  0           NaN   \n",
       "6            7450333           0.0  ...            7450338           0.0   \n",
       "7            7450333           0.0  ...            7450338           0.0   \n",
       "8            7450333           0.0  ...            7450338           0.0   \n",
       "\n",
       "  cellSerialNumber_5  cellWeight_5 cellSerialNumber_6  cellWeight_6  \\\n",
       "4            7450337           0.0            7450336           0.0   \n",
       "5                  0           NaN                  0           NaN   \n",
       "6            7450337           0.0            7450336           0.0   \n",
       "7            7450337           0.0            7450336           0.0   \n",
       "8            7450337           0.0            7450336           0.0   \n",
       "\n",
       "  cellSerialNumber_7  cellWeight_7   period  measurement  \n",
       "4            7450341           0.0 00:07:36            2  \n",
       "5                  0           NaN 00:00:03            2  \n",
       "6            7450341           0.0 00:00:03            2  \n",
       "7            7450341           0.0 00:00:03            2  \n",
       "8            7450341           0.0 00:00:03            2  \n",
       "\n",
       "[5 rows x 24 columns]"
      ]
     },
     "execution_count": 16,
     "metadata": {},
     "output_type": "execute_result"
    }
   ],
   "source": [
    "experiencia.head()"
   ]
  },
  {
   "cell_type": "code",
   "execution_count": 25,
   "metadata": {},
   "outputs": [
    {
     "data": {
      "text/plain": [
       "measurement\n",
       "2       00:08:45\n",
       "5       00:26:33\n",
       "8       00:20:55\n",
       "12      01:05:48\n",
       "14      00:08:02\n",
       "          ...   \n",
       "13103   00:34:42\n",
       "13108   00:02:44\n",
       "13109   00:06:14\n",
       "13110   01:20:33\n",
       "13111   00:21:28\n",
       "Name: period, Length: 6222, dtype: timedelta64[ns]"
      ]
     },
     "execution_count": 25,
     "metadata": {},
     "output_type": "execute_result"
    }
   ],
   "source": [
    "experiencia.groupby('measurement').period.sum()"
   ]
  },
  {
   "cell_type": "code",
   "execution_count": 24,
   "metadata": {},
   "outputs": [
    {
     "data": {
      "text/plain": [
       "measurement\n",
       "2       00:08:45\n",
       "5       00:26:33\n",
       "8       00:20:55\n",
       "12      01:05:48\n",
       "14      00:08:02\n",
       "          ...   \n",
       "13103   00:34:42\n",
       "13108   00:02:44\n",
       "13109   00:06:14\n",
       "13110   01:20:33\n",
       "13111   00:21:28\n",
       "Name: period, Length: 6222, dtype: timedelta64[ns]"
      ]
     },
     "execution_count": 24,
     "metadata": {},
     "output_type": "execute_result"
    }
   ],
   "source": [
    "experiencia.groupby('measurement').period.sum()"
   ]
  },
  {
   "cell_type": "code",
   "execution_count": null,
   "metadata": {},
   "outputs": [],
   "source": []
  },
  {
   "cell_type": "code",
   "execution_count": 36,
   "metadata": {},
   "outputs": [
    {
     "name": "stdout",
     "output_type": "stream",
     "text": [
      "Numero total de pesagens isoladas: 6222\n"
     ]
    }
   ],
   "source": [
    "print('Numero total de pesagens isoladas: ' + str(experiencia.measurement.nunique()))"
   ]
  },
  {
   "cell_type": "code",
   "execution_count": 15,
   "metadata": {},
   "outputs": [
    {
     "data": {
      "text/html": [
       "<div>\n",
       "<style scoped>\n",
       "    .dataframe tbody tr th:only-of-type {\n",
       "        vertical-align: middle;\n",
       "    }\n",
       "\n",
       "    .dataframe tbody tr th {\n",
       "        vertical-align: top;\n",
       "    }\n",
       "\n",
       "    .dataframe thead th {\n",
       "        text-align: right;\n",
       "    }\n",
       "</style>\n",
       "<table border=\"1\" class=\"dataframe\">\n",
       "  <thead>\n",
       "    <tr style=\"text-align: right;\">\n",
       "      <th></th>\n",
       "      <th>_id</th>\n",
       "      <th>timestamp</th>\n",
       "      <th>terminalSerialNumber</th>\n",
       "      <th>scaleSerialNumber</th>\n",
       "      <th>scaleGross</th>\n",
       "      <th>scaleNet</th>\n",
       "      <th>cellSerialNumber_0</th>\n",
       "      <th>cellWeight_0</th>\n",
       "      <th>cellSerialNumber_1</th>\n",
       "      <th>cellWeight_1</th>\n",
       "      <th>...</th>\n",
       "      <th>cellSerialNumber_4</th>\n",
       "      <th>cellWeight_4</th>\n",
       "      <th>cellSerialNumber_5</th>\n",
       "      <th>cellWeight_5</th>\n",
       "      <th>cellSerialNumber_6</th>\n",
       "      <th>cellWeight_6</th>\n",
       "      <th>cellSerialNumber_7</th>\n",
       "      <th>cellWeight_7</th>\n",
       "      <th>period</th>\n",
       "      <th>measurement</th>\n",
       "    </tr>\n",
       "  </thead>\n",
       "  <tbody>\n",
       "    <tr>\n",
       "      <th>279060</th>\n",
       "      <td>5e99cbb32ceacd0008f03fa2</td>\n",
       "      <td>2020-04-17 15:08:03</td>\n",
       "      <td>160690</td>\n",
       "      <td>P191021852</td>\n",
       "      <td>NaN</td>\n",
       "      <td>NaN</td>\n",
       "      <td>7450338</td>\n",
       "      <td>0.0</td>\n",
       "      <td>0</td>\n",
       "      <td>NaN</td>\n",
       "      <td>...</td>\n",
       "      <td>0</td>\n",
       "      <td>NaN</td>\n",
       "      <td>0</td>\n",
       "      <td>NaN</td>\n",
       "      <td>0</td>\n",
       "      <td>NaN</td>\n",
       "      <td>0</td>\n",
       "      <td>NaN</td>\n",
       "      <td>00:00:48</td>\n",
       "      <td>9498</td>\n",
       "    </tr>\n",
       "    <tr>\n",
       "      <th>279061</th>\n",
       "      <td>5e99cbb62ceacd0008f03fa4</td>\n",
       "      <td>2020-04-17 15:08:06</td>\n",
       "      <td>160690</td>\n",
       "      <td>P191021852</td>\n",
       "      <td>NaN</td>\n",
       "      <td>NaN</td>\n",
       "      <td>7450338</td>\n",
       "      <td>0.0</td>\n",
       "      <td>0</td>\n",
       "      <td>NaN</td>\n",
       "      <td>...</td>\n",
       "      <td>0</td>\n",
       "      <td>NaN</td>\n",
       "      <td>0</td>\n",
       "      <td>NaN</td>\n",
       "      <td>0</td>\n",
       "      <td>NaN</td>\n",
       "      <td>0</td>\n",
       "      <td>NaN</td>\n",
       "      <td>00:00:03</td>\n",
       "      <td>9498</td>\n",
       "    </tr>\n",
       "    <tr>\n",
       "      <th>279062</th>\n",
       "      <td>5e99cbb92ceacd0008f03fa6</td>\n",
       "      <td>2020-04-17 15:08:09</td>\n",
       "      <td>160690</td>\n",
       "      <td>P191021852</td>\n",
       "      <td>NaN</td>\n",
       "      <td>NaN</td>\n",
       "      <td>7450338</td>\n",
       "      <td>0.0</td>\n",
       "      <td>0</td>\n",
       "      <td>NaN</td>\n",
       "      <td>...</td>\n",
       "      <td>0</td>\n",
       "      <td>NaN</td>\n",
       "      <td>0</td>\n",
       "      <td>NaN</td>\n",
       "      <td>0</td>\n",
       "      <td>NaN</td>\n",
       "      <td>0</td>\n",
       "      <td>NaN</td>\n",
       "      <td>00:00:03</td>\n",
       "      <td>9498</td>\n",
       "    </tr>\n",
       "  </tbody>\n",
       "</table>\n",
       "<p>3 rows × 24 columns</p>\n",
       "</div>"
      ],
      "text/plain": [
       "                             _id           timestamp terminalSerialNumber  \\\n",
       "279060  5e99cbb32ceacd0008f03fa2 2020-04-17 15:08:03               160690   \n",
       "279061  5e99cbb62ceacd0008f03fa4 2020-04-17 15:08:06               160690   \n",
       "279062  5e99cbb92ceacd0008f03fa6 2020-04-17 15:08:09               160690   \n",
       "\n",
       "       scaleSerialNumber  scaleGross  scaleNet cellSerialNumber_0  \\\n",
       "279060        P191021852         NaN       NaN            7450338   \n",
       "279061        P191021852         NaN       NaN            7450338   \n",
       "279062        P191021852         NaN       NaN            7450338   \n",
       "\n",
       "        cellWeight_0 cellSerialNumber_1  cellWeight_1  ... cellSerialNumber_4  \\\n",
       "279060           0.0                  0           NaN  ...                  0   \n",
       "279061           0.0                  0           NaN  ...                  0   \n",
       "279062           0.0                  0           NaN  ...                  0   \n",
       "\n",
       "        cellWeight_4 cellSerialNumber_5  cellWeight_5 cellSerialNumber_6  \\\n",
       "279060           NaN                  0           NaN                  0   \n",
       "279061           NaN                  0           NaN                  0   \n",
       "279062           NaN                  0           NaN                  0   \n",
       "\n",
       "        cellWeight_6 cellSerialNumber_7  cellWeight_7   period  measurement  \n",
       "279060           NaN                  0           NaN 00:00:48         9498  \n",
       "279061           NaN                  0           NaN 00:00:03         9498  \n",
       "279062           NaN                  0           NaN 00:00:03         9498  \n",
       "\n",
       "[3 rows x 24 columns]"
      ]
     },
     "execution_count": 15,
     "metadata": {},
     "output_type": "execute_result"
    }
   ],
   "source": [
    "teste4=ordenado[ordenado.measurement == 9498]\n",
    "teste4.head(3)"
   ]
  },
  {
   "cell_type": "code",
   "execution_count": 17,
   "metadata": {},
   "outputs": [
    {
     "data": {
      "text/plain": [
       "[<matplotlib.lines.Line2D at 0x7f3132d42b38>]"
      ]
     },
     "execution_count": 17,
     "metadata": {},
     "output_type": "execute_result"
    },
    {
     "data": {
      "image/png": "[encoded data removed]",
      "text/plain": [
       "<Figure size 1440x216 with 1 Axes>"
      ]
     },
     "metadata": {
      "needs_background": "light"
     },
     "output_type": "display_data"
    }
   ],
   "source": [
    "import matplotlib.pyplot as plt\n",
    "\n",
    "plt.figure(figsize=(20,3))\n",
    "plt.plot(teste4.timestamp, teste4.cellWeight_0)"
   ]
  },
  {
   "cell_type": "code",
   "execution_count": 21,
   "metadata": {},
   "outputs": [
    {
     "data": {
      "text/plain": [
       "00:00:03    9581\n",
       "00:00:06     352\n",
       "00:00:09     125\n",
       "00:00:02      40\n",
       "00:00:04      39\n",
       "00:00:12      32\n",
       "00:00:15      14\n",
       "00:00:18      10\n",
       "00:00:05       5\n",
       "00:00:21       4\n",
       "00:00:07       4\n",
       "00:00:24       3\n",
       "00:00:10       1\n",
       "00:00:48       1\n",
       "00:00:27       1\n",
       "00:00:00       1\n",
       "Name: period, dtype: int64"
      ]
     },
     "execution_count": 21,
     "metadata": {},
     "output_type": "execute_result"
    }
   ],
   "source": [
    "teste4.period.value_counts()"
   ]
  },
  {
   "cell_type": "code",
   "execution_count": 44,
   "metadata": {},
   "outputs": [
    {
     "data": {
      "text/plain": [
       " 0.0     5979\n",
       "-10.0    1831\n",
       " 10.0    1442\n",
       "Name: cellWeight_0, dtype: int64"
      ]
     },
     "execution_count": 44,
     "metadata": {},
     "output_type": "execute_result"
    }
   ],
   "source": [
    "teste4.cellWeight_0.value_counts()"
   ]
  },
  {
   "cell_type": "markdown",
   "metadata": {},
   "source": [
    "### 3) filtrar as que sao ruido"
   ]
  },
  {
   "cell_type": "code",
   "execution_count": 18,
   "metadata": {},
   "outputs": [
    {
     "data": {
      "text/html": [
       "<div>\n",
       "<style scoped>\n",
       "    .dataframe tbody tr th:only-of-type {\n",
       "        vertical-align: middle;\n",
       "    }\n",
       "\n",
       "    .dataframe tbody tr th {\n",
       "        vertical-align: top;\n",
       "    }\n",
       "\n",
       "    .dataframe thead th {\n",
       "        text-align: right;\n",
       "    }\n",
       "</style>\n",
       "<table border=\"1\" class=\"dataframe\">\n",
       "  <thead>\n",
       "    <tr style=\"text-align: right;\">\n",
       "      <th></th>\n",
       "      <th>_id</th>\n",
       "      <th>timestamp</th>\n",
       "      <th>terminalSerialNumber</th>\n",
       "      <th>scaleSerialNumber</th>\n",
       "      <th>scaleGross</th>\n",
       "      <th>scaleNet</th>\n",
       "      <th>cellSerialNumber_0</th>\n",
       "      <th>cellWeight_0</th>\n",
       "      <th>cellSerialNumber_1</th>\n",
       "      <th>cellWeight_1</th>\n",
       "      <th>...</th>\n",
       "      <th>cellSerialNumber_4</th>\n",
       "      <th>cellWeight_4</th>\n",
       "      <th>cellSerialNumber_5</th>\n",
       "      <th>cellWeight_5</th>\n",
       "      <th>cellSerialNumber_6</th>\n",
       "      <th>cellWeight_6</th>\n",
       "      <th>cellSerialNumber_7</th>\n",
       "      <th>cellWeight_7</th>\n",
       "      <th>period</th>\n",
       "      <th>measurement</th>\n",
       "    </tr>\n",
       "  </thead>\n",
       "  <tbody>\n",
       "    <tr>\n",
       "      <th>0</th>\n",
       "      <td>5cd43963a61883ad63c5835e</td>\n",
       "      <td>2019-05-09 14:22:55</td>\n",
       "      <td>160690</td>\n",
       "      <td>P191021852</td>\n",
       "      <td>0.0</td>\n",
       "      <td>0.0</td>\n",
       "      <td>7450332</td>\n",
       "      <td>0.0</td>\n",
       "      <td>7450333</td>\n",
       "      <td>0.0</td>\n",
       "      <td>...</td>\n",
       "      <td>7450338</td>\n",
       "      <td>0.0</td>\n",
       "      <td>7450337</td>\n",
       "      <td>0.0</td>\n",
       "      <td>7450336</td>\n",
       "      <td>0.0</td>\n",
       "      <td>7450341</td>\n",
       "      <td>0.0</td>\n",
       "      <td>00:00:00</td>\n",
       "      <td>1</td>\n",
       "    </tr>\n",
       "    <tr>\n",
       "      <th>1</th>\n",
       "      <td>5cd43965a618830094c58367</td>\n",
       "      <td>2019-05-09 14:22:58</td>\n",
       "      <td>160690</td>\n",
       "      <td>P191021852</td>\n",
       "      <td>0.0</td>\n",
       "      <td>0.0</td>\n",
       "      <td>7450332</td>\n",
       "      <td>0.0</td>\n",
       "      <td>7450333</td>\n",
       "      <td>0.0</td>\n",
       "      <td>...</td>\n",
       "      <td>7450338</td>\n",
       "      <td>0.0</td>\n",
       "      <td>7450337</td>\n",
       "      <td>0.0</td>\n",
       "      <td>7450336</td>\n",
       "      <td>0.0</td>\n",
       "      <td>7450341</td>\n",
       "      <td>0.0</td>\n",
       "      <td>00:00:03</td>\n",
       "      <td>1</td>\n",
       "    </tr>\n",
       "  </tbody>\n",
       "</table>\n",
       "<p>2 rows × 24 columns</p>\n",
       "</div>"
      ],
      "text/plain": [
       "                        _id           timestamp terminalSerialNumber  \\\n",
       "0  5cd43963a61883ad63c5835e 2019-05-09 14:22:55               160690   \n",
       "1  5cd43965a618830094c58367 2019-05-09 14:22:58               160690   \n",
       "\n",
       "  scaleSerialNumber  scaleGross  scaleNet cellSerialNumber_0  cellWeight_0  \\\n",
       "0        P191021852         0.0       0.0            7450332           0.0   \n",
       "1        P191021852         0.0       0.0            7450332           0.0   \n",
       "\n",
       "  cellSerialNumber_1  cellWeight_1  ... cellSerialNumber_4  cellWeight_4  \\\n",
       "0            7450333           0.0  ...            7450338           0.0   \n",
       "1            7450333           0.0  ...            7450338           0.0   \n",
       "\n",
       "  cellSerialNumber_5  cellWeight_5 cellSerialNumber_6  cellWeight_6  \\\n",
       "0            7450337           0.0            7450336           0.0   \n",
       "1            7450337           0.0            7450336           0.0   \n",
       "\n",
       "  cellSerialNumber_7  cellWeight_7   period  measurement  \n",
       "0            7450341           0.0 00:00:00            1  \n",
       "1            7450341           0.0 00:00:03            1  \n",
       "\n",
       "[2 rows x 24 columns]"
      ]
     },
     "execution_count": 18,
     "metadata": {},
     "output_type": "execute_result"
    }
   ],
   "source": [
    "ordenado.head(2)"
   ]
  },
  {
   "cell_type": "code",
   "execution_count": 37,
   "metadata": {},
   "outputs": [
    {
     "data": {
      "text/plain": [
       "measurement\n",
       "2        5\n",
       "5        3\n",
       "8        6\n",
       "12       2\n",
       "14       2\n",
       "        ..\n",
       "13103    3\n",
       "13108    2\n",
       "13109    1\n",
       "13110    3\n",
       "13111    2\n",
       "Name: cellWeight_0, Length: 6222, dtype: int64"
      ]
     },
     "execution_count": 37,
     "metadata": {},
     "output_type": "execute_result"
    }
   ],
   "source": [
    "experiencia.groupby('measurement').cellWeight_0.nunique()"
   ]
  },
  {
   "cell_type": "code",
   "execution_count": 26,
   "metadata": {
    "scrolled": true
   },
   "outputs": [
    {
     "data": {
      "text/plain": [
       "measurement\n",
       "952        0\n",
       "5612       0\n",
       "9581       0\n",
       "6766       0\n",
       "10287      0\n",
       "        ... \n",
       "10880    102\n",
       "10325    109\n",
       "1198     114\n",
       "2956     151\n",
       "2952     153\n",
       "Name: cellWeight_0, Length: 6222, dtype: int64"
      ]
     },
     "execution_count": 26,
     "metadata": {},
     "output_type": "execute_result"
    }
   ],
   "source": [
    "experiencia.groupby('measurement').cellWeight_0.nunique().sort_values()"
   ]
  },
  {
   "cell_type": "code",
   "execution_count": 27,
   "metadata": {},
   "outputs": [
    {
     "data": {
      "text/html": [
       "<div>\n",
       "<style scoped>\n",
       "    .dataframe tbody tr th:only-of-type {\n",
       "        vertical-align: middle;\n",
       "    }\n",
       "\n",
       "    .dataframe tbody tr th {\n",
       "        vertical-align: top;\n",
       "    }\n",
       "\n",
       "    .dataframe thead th {\n",
       "        text-align: right;\n",
       "    }\n",
       "</style>\n",
       "<table border=\"1\" class=\"dataframe\">\n",
       "  <thead>\n",
       "    <tr style=\"text-align: right;\">\n",
       "      <th></th>\n",
       "      <th>_id</th>\n",
       "      <th>timestamp</th>\n",
       "      <th>terminalSerialNumber</th>\n",
       "      <th>scaleSerialNumber</th>\n",
       "      <th>scaleGross</th>\n",
       "      <th>scaleNet</th>\n",
       "      <th>cellSerialNumber_0</th>\n",
       "      <th>cellWeight_0</th>\n",
       "      <th>cellSerialNumber_1</th>\n",
       "      <th>cellWeight_1</th>\n",
       "      <th>...</th>\n",
       "      <th>cellSerialNumber_4</th>\n",
       "      <th>cellWeight_4</th>\n",
       "      <th>cellSerialNumber_5</th>\n",
       "      <th>cellWeight_5</th>\n",
       "      <th>cellSerialNumber_6</th>\n",
       "      <th>cellWeight_6</th>\n",
       "      <th>cellSerialNumber_7</th>\n",
       "      <th>cellWeight_7</th>\n",
       "      <th>period</th>\n",
       "      <th>measurement</th>\n",
       "    </tr>\n",
       "  </thead>\n",
       "  <tbody>\n",
       "    <tr>\n",
       "      <th>4</th>\n",
       "      <td>5cd43b33a61883db28c58384</td>\n",
       "      <td>2019-05-09 14:30:40</td>\n",
       "      <td>160690</td>\n",
       "      <td>P191021852</td>\n",
       "      <td>0.0</td>\n",
       "      <td>0.0</td>\n",
       "      <td>7450332</td>\n",
       "      <td>0.0</td>\n",
       "      <td>7450333</td>\n",
       "      <td>0.0</td>\n",
       "      <td>...</td>\n",
       "      <td>7450338</td>\n",
       "      <td>0.0</td>\n",
       "      <td>7450337</td>\n",
       "      <td>0.0</td>\n",
       "      <td>7450336</td>\n",
       "      <td>0.0</td>\n",
       "      <td>7450341</td>\n",
       "      <td>0.0</td>\n",
       "      <td>00:07:36</td>\n",
       "      <td>2</td>\n",
       "    </tr>\n",
       "    <tr>\n",
       "      <th>5</th>\n",
       "      <td>5cd43b36a61883180ec5838d</td>\n",
       "      <td>2019-05-09 14:30:43</td>\n",
       "      <td>160690</td>\n",
       "      <td>P191021852</td>\n",
       "      <td>NaN</td>\n",
       "      <td>NaN</td>\n",
       "      <td>7450332</td>\n",
       "      <td>-860.0</td>\n",
       "      <td>0</td>\n",
       "      <td>NaN</td>\n",
       "      <td>...</td>\n",
       "      <td>0</td>\n",
       "      <td>NaN</td>\n",
       "      <td>0</td>\n",
       "      <td>NaN</td>\n",
       "      <td>0</td>\n",
       "      <td>NaN</td>\n",
       "      <td>0</td>\n",
       "      <td>NaN</td>\n",
       "      <td>00:00:03</td>\n",
       "      <td>2</td>\n",
       "    </tr>\n",
       "    <tr>\n",
       "      <th>6</th>\n",
       "      <td>5cd43b39a61883300cc5838f</td>\n",
       "      <td>2019-05-09 14:30:46</td>\n",
       "      <td>160690</td>\n",
       "      <td>P191021852</td>\n",
       "      <td>0.0</td>\n",
       "      <td>0.0</td>\n",
       "      <td>7450332</td>\n",
       "      <td>0.0</td>\n",
       "      <td>7450333</td>\n",
       "      <td>0.0</td>\n",
       "      <td>...</td>\n",
       "      <td>7450338</td>\n",
       "      <td>0.0</td>\n",
       "      <td>7450337</td>\n",
       "      <td>0.0</td>\n",
       "      <td>7450336</td>\n",
       "      <td>0.0</td>\n",
       "      <td>7450341</td>\n",
       "      <td>0.0</td>\n",
       "      <td>00:00:03</td>\n",
       "      <td>2</td>\n",
       "    </tr>\n",
       "    <tr>\n",
       "      <th>7</th>\n",
       "      <td>5cd43b3ca618839b85c58398</td>\n",
       "      <td>2019-05-09 14:30:49</td>\n",
       "      <td>160690</td>\n",
       "      <td>P191021852</td>\n",
       "      <td>0.0</td>\n",
       "      <td>0.0</td>\n",
       "      <td>7450332</td>\n",
       "      <td>10.0</td>\n",
       "      <td>7450333</td>\n",
       "      <td>0.0</td>\n",
       "      <td>...</td>\n",
       "      <td>7450338</td>\n",
       "      <td>0.0</td>\n",
       "      <td>7450337</td>\n",
       "      <td>0.0</td>\n",
       "      <td>7450336</td>\n",
       "      <td>0.0</td>\n",
       "      <td>7450341</td>\n",
       "      <td>0.0</td>\n",
       "      <td>00:00:03</td>\n",
       "      <td>2</td>\n",
       "    </tr>\n",
       "    <tr>\n",
       "      <th>8</th>\n",
       "      <td>5cd43b3fa618834976c583a1</td>\n",
       "      <td>2019-05-09 14:30:52</td>\n",
       "      <td>160690</td>\n",
       "      <td>P191021852</td>\n",
       "      <td>80.0</td>\n",
       "      <td>80.0</td>\n",
       "      <td>7450332</td>\n",
       "      <td>80.0</td>\n",
       "      <td>7450333</td>\n",
       "      <td>0.0</td>\n",
       "      <td>...</td>\n",
       "      <td>7450338</td>\n",
       "      <td>0.0</td>\n",
       "      <td>7450337</td>\n",
       "      <td>0.0</td>\n",
       "      <td>7450336</td>\n",
       "      <td>0.0</td>\n",
       "      <td>7450341</td>\n",
       "      <td>0.0</td>\n",
       "      <td>00:00:03</td>\n",
       "      <td>2</td>\n",
       "    </tr>\n",
       "  </tbody>\n",
       "</table>\n",
       "<p>5 rows × 24 columns</p>\n",
       "</div>"
      ],
      "text/plain": [
       "                        _id           timestamp terminalSerialNumber  \\\n",
       "4  5cd43b33a61883db28c58384 2019-05-09 14:30:40               160690   \n",
       "5  5cd43b36a61883180ec5838d 2019-05-09 14:30:43               160690   \n",
       "6  5cd43b39a61883300cc5838f 2019-05-09 14:30:46               160690   \n",
       "7  5cd43b3ca618839b85c58398 2019-05-09 14:30:49               160690   \n",
       "8  5cd43b3fa618834976c583a1 2019-05-09 14:30:52               160690   \n",
       "\n",
       "  scaleSerialNumber  scaleGross  scaleNet cellSerialNumber_0  cellWeight_0  \\\n",
       "4        P191021852         0.0       0.0            7450332           0.0   \n",
       "5        P191021852         NaN       NaN            7450332        -860.0   \n",
       "6        P191021852         0.0       0.0            7450332           0.0   \n",
       "7        P191021852         0.0       0.0            7450332          10.0   \n",
       "8        P191021852        80.0      80.0            7450332          80.0   \n",
       "\n",
       "  cellSerialNumber_1  cellWeight_1  ... cellSerialNumber_4  cellWeight_4  \\\n",
       "4            7450333           0.0  ...            7450338           0.0   \n",
       "5                  0           NaN  ...                  0           NaN   \n",
       "6            7450333           0.0  ...            7450338           0.0   \n",
       "7            7450333           0.0  ...            7450338           0.0   \n",
       "8            7450333           0.0  ...            7450338           0.0   \n",
       "\n",
       "  cellSerialNumber_5  cellWeight_5 cellSerialNumber_6  cellWeight_6  \\\n",
       "4            7450337           0.0            7450336           0.0   \n",
       "5                  0           NaN                  0           NaN   \n",
       "6            7450337           0.0            7450336           0.0   \n",
       "7            7450337           0.0            7450336           0.0   \n",
       "8            7450337           0.0            7450336           0.0   \n",
       "\n",
       "  cellSerialNumber_7  cellWeight_7   period  measurement  \n",
       "4            7450341           0.0 00:07:36            2  \n",
       "5                  0           NaN 00:00:03            2  \n",
       "6            7450341           0.0 00:00:03            2  \n",
       "7            7450341           0.0 00:00:03            2  \n",
       "8            7450341           0.0 00:00:03            2  \n",
       "\n",
       "[5 rows x 24 columns]"
      ]
     },
     "execution_count": 27,
     "metadata": {},
     "output_type": "execute_result"
    }
   ],
   "source": [
    "filtrado= experiencia.groupby('measurement').filter(lambda x: x.cellWeight_0.nunique()>3)\n",
    "filtrado.head()"
   ]
  },
  {
   "cell_type": "code",
   "execution_count": 50,
   "metadata": {},
   "outputs": [
    {
     "data": {
      "text/plain": [
       "4"
      ]
     },
     "execution_count": 50,
     "metadata": {},
     "output_type": "execute_result"
    }
   ],
   "source": [
    "filtrado.groupby('measurement').cellWeight_0.nunique().min()"
   ]
  },
  {
   "cell_type": "code",
   "execution_count": 53,
   "metadata": {},
   "outputs": [
    {
     "data": {
      "text/plain": [
       "measurement\n",
       "8395       4\n",
       "8490       4\n",
       "2635       4\n",
       "8511       4\n",
       "8512       4\n",
       "        ... \n",
       "10880    102\n",
       "10325    109\n",
       "1198     114\n",
       "2956     151\n",
       "2952     153\n",
       "Name: cellWeight_0, Length: 3079, dtype: int64"
      ]
     },
     "execution_count": 53,
     "metadata": {},
     "output_type": "execute_result"
    }
   ],
   "source": [
    "filtrado.groupby('measurement').cellWeight_0.nunique().sort_values()"
   ]
  },
  {
   "cell_type": "code",
   "execution_count": 28,
   "metadata": {},
   "outputs": [
    {
     "data": {
      "text/html": [
       "<div>\n",
       "<style scoped>\n",
       "    .dataframe tbody tr th:only-of-type {\n",
       "        vertical-align: middle;\n",
       "    }\n",
       "\n",
       "    .dataframe tbody tr th {\n",
       "        vertical-align: top;\n",
       "    }\n",
       "\n",
       "    .dataframe thead th {\n",
       "        text-align: right;\n",
       "    }\n",
       "</style>\n",
       "<table border=\"1\" class=\"dataframe\">\n",
       "  <thead>\n",
       "    <tr style=\"text-align: right;\">\n",
       "      <th></th>\n",
       "      <th>_id</th>\n",
       "      <th>timestamp</th>\n",
       "      <th>terminalSerialNumber</th>\n",
       "      <th>scaleSerialNumber</th>\n",
       "      <th>scaleGross</th>\n",
       "      <th>scaleNet</th>\n",
       "      <th>cellSerialNumber_0</th>\n",
       "      <th>cellWeight_0</th>\n",
       "      <th>cellSerialNumber_1</th>\n",
       "      <th>cellWeight_1</th>\n",
       "      <th>...</th>\n",
       "      <th>cellSerialNumber_4</th>\n",
       "      <th>cellWeight_4</th>\n",
       "      <th>cellSerialNumber_5</th>\n",
       "      <th>cellWeight_5</th>\n",
       "      <th>cellSerialNumber_6</th>\n",
       "      <th>cellWeight_6</th>\n",
       "      <th>cellSerialNumber_7</th>\n",
       "      <th>cellWeight_7</th>\n",
       "      <th>period</th>\n",
       "      <th>measurement</th>\n",
       "    </tr>\n",
       "  </thead>\n",
       "  <tbody>\n",
       "    <tr>\n",
       "      <th>262109</th>\n",
       "      <td>5e679ce367988e0008979783</td>\n",
       "      <td>2020-03-10 13:37:31</td>\n",
       "      <td>160690</td>\n",
       "      <td>P191021852</td>\n",
       "      <td>0.0</td>\n",
       "      <td>0.0</td>\n",
       "      <td>7450332</td>\n",
       "      <td>0.0</td>\n",
       "      <td>7450333</td>\n",
       "      <td>0.0</td>\n",
       "      <td>...</td>\n",
       "      <td>7450338</td>\n",
       "      <td>0.0</td>\n",
       "      <td>7450337</td>\n",
       "      <td>0.0</td>\n",
       "      <td>7450336</td>\n",
       "      <td>0.0</td>\n",
       "      <td>7450341</td>\n",
       "      <td>0.0</td>\n",
       "      <td>00:53:44</td>\n",
       "      <td>8395</td>\n",
       "    </tr>\n",
       "    <tr>\n",
       "      <th>262110</th>\n",
       "      <td>5e679ce567988e000897978c</td>\n",
       "      <td>2020-03-10 13:37:34</td>\n",
       "      <td>160690</td>\n",
       "      <td>P191021852</td>\n",
       "      <td>10.0</td>\n",
       "      <td>10.0</td>\n",
       "      <td>7450332</td>\n",
       "      <td>130.0</td>\n",
       "      <td>7450333</td>\n",
       "      <td>-20.0</td>\n",
       "      <td>...</td>\n",
       "      <td>7450338</td>\n",
       "      <td>0.0</td>\n",
       "      <td>7450337</td>\n",
       "      <td>0.0</td>\n",
       "      <td>7450341</td>\n",
       "      <td>0.0</td>\n",
       "      <td>0</td>\n",
       "      <td>NaN</td>\n",
       "      <td>00:00:03</td>\n",
       "      <td>8395</td>\n",
       "    </tr>\n",
       "    <tr>\n",
       "      <th>262111</th>\n",
       "      <td>5e679ce867988e0008979794</td>\n",
       "      <td>2020-03-10 13:37:37</td>\n",
       "      <td>160690</td>\n",
       "      <td>P191021852</td>\n",
       "      <td>5530.0</td>\n",
       "      <td>5530.0</td>\n",
       "      <td>7450332</td>\n",
       "      <td>1020.0</td>\n",
       "      <td>7450333</td>\n",
       "      <td>1340.0</td>\n",
       "      <td>...</td>\n",
       "      <td>7450338</td>\n",
       "      <td>10.0</td>\n",
       "      <td>7450337</td>\n",
       "      <td>10.0</td>\n",
       "      <td>7450341</td>\n",
       "      <td>-10.0</td>\n",
       "      <td>0</td>\n",
       "      <td>NaN</td>\n",
       "      <td>00:00:03</td>\n",
       "      <td>8395</td>\n",
       "    </tr>\n",
       "    <tr>\n",
       "      <th>262112</th>\n",
       "      <td>5e679ceb67988e000897979c</td>\n",
       "      <td>2020-03-10 13:37:40</td>\n",
       "      <td>160690</td>\n",
       "      <td>P191021852</td>\n",
       "      <td>6650.0</td>\n",
       "      <td>6650.0</td>\n",
       "      <td>7450332</td>\n",
       "      <td>-120.0</td>\n",
       "      <td>7450333</td>\n",
       "      <td>1390.0</td>\n",
       "      <td>...</td>\n",
       "      <td>7450338</td>\n",
       "      <td>20.0</td>\n",
       "      <td>7450337</td>\n",
       "      <td>0.0</td>\n",
       "      <td>7450341</td>\n",
       "      <td>0.0</td>\n",
       "      <td>0</td>\n",
       "      <td>NaN</td>\n",
       "      <td>00:00:03</td>\n",
       "      <td>8395</td>\n",
       "    </tr>\n",
       "    <tr>\n",
       "      <th>262113</th>\n",
       "      <td>5e679cee67988e00089797a4</td>\n",
       "      <td>2020-03-10 13:37:43</td>\n",
       "      <td>160690</td>\n",
       "      <td>P191021852</td>\n",
       "      <td>0.0</td>\n",
       "      <td>0.0</td>\n",
       "      <td>7450332</td>\n",
       "      <td>0.0</td>\n",
       "      <td>7450333</td>\n",
       "      <td>0.0</td>\n",
       "      <td>...</td>\n",
       "      <td>7450338</td>\n",
       "      <td>0.0</td>\n",
       "      <td>7450337</td>\n",
       "      <td>0.0</td>\n",
       "      <td>7450336</td>\n",
       "      <td>0.0</td>\n",
       "      <td>7450341</td>\n",
       "      <td>0.0</td>\n",
       "      <td>00:00:03</td>\n",
       "      <td>8395</td>\n",
       "    </tr>\n",
       "    <tr>\n",
       "      <th>262114</th>\n",
       "      <td>5e679cf167988e00089797ad</td>\n",
       "      <td>2020-03-10 13:37:46</td>\n",
       "      <td>160690</td>\n",
       "      <td>P191021852</td>\n",
       "      <td>0.0</td>\n",
       "      <td>0.0</td>\n",
       "      <td>7450332</td>\n",
       "      <td>0.0</td>\n",
       "      <td>7450333</td>\n",
       "      <td>0.0</td>\n",
       "      <td>...</td>\n",
       "      <td>7450338</td>\n",
       "      <td>0.0</td>\n",
       "      <td>7450337</td>\n",
       "      <td>0.0</td>\n",
       "      <td>7450336</td>\n",
       "      <td>0.0</td>\n",
       "      <td>7450341</td>\n",
       "      <td>0.0</td>\n",
       "      <td>00:00:03</td>\n",
       "      <td>8395</td>\n",
       "    </tr>\n",
       "    <tr>\n",
       "      <th>262115</th>\n",
       "      <td>5e679cf467988e00089797b6</td>\n",
       "      <td>2020-03-10 13:37:49</td>\n",
       "      <td>160690</td>\n",
       "      <td>P191021852</td>\n",
       "      <td>0.0</td>\n",
       "      <td>0.0</td>\n",
       "      <td>7450332</td>\n",
       "      <td>0.0</td>\n",
       "      <td>7450333</td>\n",
       "      <td>0.0</td>\n",
       "      <td>...</td>\n",
       "      <td>7450337</td>\n",
       "      <td>0.0</td>\n",
       "      <td>7450341</td>\n",
       "      <td>0.0</td>\n",
       "      <td>0</td>\n",
       "      <td>NaN</td>\n",
       "      <td>0</td>\n",
       "      <td>NaN</td>\n",
       "      <td>00:00:03</td>\n",
       "      <td>8395</td>\n",
       "    </tr>\n",
       "  </tbody>\n",
       "</table>\n",
       "<p>7 rows × 24 columns</p>\n",
       "</div>"
      ],
      "text/plain": [
       "                             _id           timestamp terminalSerialNumber  \\\n",
       "262109  5e679ce367988e0008979783 2020-03-10 13:37:31               160690   \n",
       "262110  5e679ce567988e000897978c 2020-03-10 13:37:34               160690   \n",
       "262111  5e679ce867988e0008979794 2020-03-10 13:37:37               160690   \n",
       "262112  5e679ceb67988e000897979c 2020-03-10 13:37:40               160690   \n",
       "262113  5e679cee67988e00089797a4 2020-03-10 13:37:43               160690   \n",
       "262114  5e679cf167988e00089797ad 2020-03-10 13:37:46               160690   \n",
       "262115  5e679cf467988e00089797b6 2020-03-10 13:37:49               160690   \n",
       "\n",
       "       scaleSerialNumber  scaleGross  scaleNet cellSerialNumber_0  \\\n",
       "262109        P191021852         0.0       0.0            7450332   \n",
       "262110        P191021852        10.0      10.0            7450332   \n",
       "262111        P191021852      5530.0    5530.0            7450332   \n",
       "262112        P191021852      6650.0    6650.0            7450332   \n",
       "262113        P191021852         0.0       0.0            7450332   \n",
       "262114        P191021852         0.0       0.0            7450332   \n",
       "262115        P191021852         0.0       0.0            7450332   \n",
       "\n",
       "        cellWeight_0 cellSerialNumber_1  cellWeight_1  ... cellSerialNumber_4  \\\n",
       "262109           0.0            7450333           0.0  ...            7450338   \n",
       "262110         130.0            7450333         -20.0  ...            7450338   \n",
       "262111        1020.0            7450333        1340.0  ...            7450338   \n",
       "262112        -120.0            7450333        1390.0  ...            7450338   \n",
       "262113           0.0            7450333           0.0  ...            7450338   \n",
       "262114           0.0            7450333           0.0  ...            7450338   \n",
       "262115           0.0            7450333           0.0  ...            7450337   \n",
       "\n",
       "        cellWeight_4 cellSerialNumber_5  cellWeight_5 cellSerialNumber_6  \\\n",
       "262109           0.0            7450337           0.0            7450336   \n",
       "262110           0.0            7450337           0.0            7450341   \n",
       "262111          10.0            7450337          10.0            7450341   \n",
       "262112          20.0            7450337           0.0            7450341   \n",
       "262113           0.0            7450337           0.0            7450336   \n",
       "262114           0.0            7450337           0.0            7450336   \n",
       "262115           0.0            7450341           0.0                  0   \n",
       "\n",
       "        cellWeight_6 cellSerialNumber_7  cellWeight_7   period  measurement  \n",
       "262109           0.0            7450341           0.0 00:53:44         8395  \n",
       "262110           0.0                  0           NaN 00:00:03         8395  \n",
       "262111         -10.0                  0           NaN 00:00:03         8395  \n",
       "262112           0.0                  0           NaN 00:00:03         8395  \n",
       "262113           0.0            7450341           0.0 00:00:03         8395  \n",
       "262114           0.0            7450341           0.0 00:00:03         8395  \n",
       "262115           NaN                  0           NaN 00:00:03         8395  \n",
       "\n",
       "[7 rows x 24 columns]"
      ]
     },
     "execution_count": 28,
     "metadata": {},
     "output_type": "execute_result"
    }
   ],
   "source": [
    "filtrado[filtrado.measurement== 8395]"
   ]
  },
  {
   "cell_type": "code",
   "execution_count": 51,
   "metadata": {},
   "outputs": [
    {
     "name": "stdout",
     "output_type": "stream",
     "text": [
      "Numero total de pesagens isoladas: 3079\n"
     ]
    }
   ],
   "source": [
    "print('Numero total de pesagens isoladas: ' + str(filtrado.measurement.nunique()))"
   ]
  },
  {
   "cell_type": "markdown",
   "metadata": {},
   "source": [
    "### 4) interpolar"
   ]
  },
  {
   "cell_type": "code",
   "execution_count": null,
   "metadata": {},
   "outputs": [],
   "source": []
  },
  {
   "cell_type": "markdown",
   "metadata": {},
   "source": [
    "### 5) filter nan measurments?"
   ]
  },
  {
   "cell_type": "markdown",
   "metadata": {},
   "source": [
    "### 6)  ver"
   ]
  },
  {
   "cell_type": "code",
   "execution_count": 29,
   "metadata": {},
   "outputs": [
    {
     "data": {
      "text/html": [
       "<div>\n",
       "<style scoped>\n",
       "    .dataframe tbody tr th:only-of-type {\n",
       "        vertical-align: middle;\n",
       "    }\n",
       "\n",
       "    .dataframe tbody tr th {\n",
       "        vertical-align: top;\n",
       "    }\n",
       "\n",
       "    .dataframe thead th {\n",
       "        text-align: right;\n",
       "    }\n",
       "</style>\n",
       "<table border=\"1\" class=\"dataframe\">\n",
       "  <thead>\n",
       "    <tr style=\"text-align: right;\">\n",
       "      <th></th>\n",
       "      <th>_id</th>\n",
       "      <th>timestamp</th>\n",
       "      <th>terminalSerialNumber</th>\n",
       "      <th>scaleSerialNumber</th>\n",
       "      <th>scaleGross</th>\n",
       "      <th>scaleNet</th>\n",
       "      <th>cellSerialNumber_0</th>\n",
       "      <th>cellWeight_0</th>\n",
       "      <th>cellSerialNumber_1</th>\n",
       "      <th>cellWeight_1</th>\n",
       "      <th>...</th>\n",
       "      <th>cellSerialNumber_4</th>\n",
       "      <th>cellWeight_4</th>\n",
       "      <th>cellSerialNumber_5</th>\n",
       "      <th>cellWeight_5</th>\n",
       "      <th>cellSerialNumber_6</th>\n",
       "      <th>cellWeight_6</th>\n",
       "      <th>cellSerialNumber_7</th>\n",
       "      <th>cellWeight_7</th>\n",
       "      <th>period</th>\n",
       "      <th>measurement</th>\n",
       "    </tr>\n",
       "  </thead>\n",
       "  <tbody>\n",
       "    <tr>\n",
       "      <th>262109</th>\n",
       "      <td>5e679ce367988e0008979783</td>\n",
       "      <td>2020-03-10 13:37:31</td>\n",
       "      <td>160690</td>\n",
       "      <td>P191021852</td>\n",
       "      <td>0.0</td>\n",
       "      <td>0.0</td>\n",
       "      <td>7450332</td>\n",
       "      <td>0.0</td>\n",
       "      <td>7450333</td>\n",
       "      <td>0.0</td>\n",
       "      <td>...</td>\n",
       "      <td>7450338</td>\n",
       "      <td>0.0</td>\n",
       "      <td>7450337</td>\n",
       "      <td>0.0</td>\n",
       "      <td>7450336</td>\n",
       "      <td>0.0</td>\n",
       "      <td>7450341</td>\n",
       "      <td>0.0</td>\n",
       "      <td>00:53:44</td>\n",
       "      <td>8395</td>\n",
       "    </tr>\n",
       "    <tr>\n",
       "      <th>262110</th>\n",
       "      <td>5e679ce567988e000897978c</td>\n",
       "      <td>2020-03-10 13:37:34</td>\n",
       "      <td>160690</td>\n",
       "      <td>P191021852</td>\n",
       "      <td>10.0</td>\n",
       "      <td>10.0</td>\n",
       "      <td>7450332</td>\n",
       "      <td>130.0</td>\n",
       "      <td>7450333</td>\n",
       "      <td>-20.0</td>\n",
       "      <td>...</td>\n",
       "      <td>7450338</td>\n",
       "      <td>0.0</td>\n",
       "      <td>7450337</td>\n",
       "      <td>0.0</td>\n",
       "      <td>7450341</td>\n",
       "      <td>0.0</td>\n",
       "      <td>0</td>\n",
       "      <td>NaN</td>\n",
       "      <td>00:00:03</td>\n",
       "      <td>8395</td>\n",
       "    </tr>\n",
       "    <tr>\n",
       "      <th>262111</th>\n",
       "      <td>5e679ce867988e0008979794</td>\n",
       "      <td>2020-03-10 13:37:37</td>\n",
       "      <td>160690</td>\n",
       "      <td>P191021852</td>\n",
       "      <td>5530.0</td>\n",
       "      <td>5530.0</td>\n",
       "      <td>7450332</td>\n",
       "      <td>1020.0</td>\n",
       "      <td>7450333</td>\n",
       "      <td>1340.0</td>\n",
       "      <td>...</td>\n",
       "      <td>7450338</td>\n",
       "      <td>10.0</td>\n",
       "      <td>7450337</td>\n",
       "      <td>10.0</td>\n",
       "      <td>7450341</td>\n",
       "      <td>-10.0</td>\n",
       "      <td>0</td>\n",
       "      <td>NaN</td>\n",
       "      <td>00:00:03</td>\n",
       "      <td>8395</td>\n",
       "    </tr>\n",
       "    <tr>\n",
       "      <th>262112</th>\n",
       "      <td>5e679ceb67988e000897979c</td>\n",
       "      <td>2020-03-10 13:37:40</td>\n",
       "      <td>160690</td>\n",
       "      <td>P191021852</td>\n",
       "      <td>6650.0</td>\n",
       "      <td>6650.0</td>\n",
       "      <td>7450332</td>\n",
       "      <td>-120.0</td>\n",
       "      <td>7450333</td>\n",
       "      <td>1390.0</td>\n",
       "      <td>...</td>\n",
       "      <td>7450338</td>\n",
       "      <td>20.0</td>\n",
       "      <td>7450337</td>\n",
       "      <td>0.0</td>\n",
       "      <td>7450341</td>\n",
       "      <td>0.0</td>\n",
       "      <td>0</td>\n",
       "      <td>NaN</td>\n",
       "      <td>00:00:03</td>\n",
       "      <td>8395</td>\n",
       "    </tr>\n",
       "    <tr>\n",
       "      <th>262113</th>\n",
       "      <td>5e679cee67988e00089797a4</td>\n",
       "      <td>2020-03-10 13:37:43</td>\n",
       "      <td>160690</td>\n",
       "      <td>P191021852</td>\n",
       "      <td>0.0</td>\n",
       "      <td>0.0</td>\n",
       "      <td>7450332</td>\n",
       "      <td>0.0</td>\n",
       "      <td>7450333</td>\n",
       "      <td>0.0</td>\n",
       "      <td>...</td>\n",
       "      <td>7450338</td>\n",
       "      <td>0.0</td>\n",
       "      <td>7450337</td>\n",
       "      <td>0.0</td>\n",
       "      <td>7450336</td>\n",
       "      <td>0.0</td>\n",
       "      <td>7450341</td>\n",
       "      <td>0.0</td>\n",
       "      <td>00:00:03</td>\n",
       "      <td>8395</td>\n",
       "    </tr>\n",
       "    <tr>\n",
       "      <th>262114</th>\n",
       "      <td>5e679cf167988e00089797ad</td>\n",
       "      <td>2020-03-10 13:37:46</td>\n",
       "      <td>160690</td>\n",
       "      <td>P191021852</td>\n",
       "      <td>0.0</td>\n",
       "      <td>0.0</td>\n",
       "      <td>7450332</td>\n",
       "      <td>0.0</td>\n",
       "      <td>7450333</td>\n",
       "      <td>0.0</td>\n",
       "      <td>...</td>\n",
       "      <td>7450338</td>\n",
       "      <td>0.0</td>\n",
       "      <td>7450337</td>\n",
       "      <td>0.0</td>\n",
       "      <td>7450336</td>\n",
       "      <td>0.0</td>\n",
       "      <td>7450341</td>\n",
       "      <td>0.0</td>\n",
       "      <td>00:00:03</td>\n",
       "      <td>8395</td>\n",
       "    </tr>\n",
       "    <tr>\n",
       "      <th>262115</th>\n",
       "      <td>5e679cf467988e00089797b6</td>\n",
       "      <td>2020-03-10 13:37:49</td>\n",
       "      <td>160690</td>\n",
       "      <td>P191021852</td>\n",
       "      <td>0.0</td>\n",
       "      <td>0.0</td>\n",
       "      <td>7450332</td>\n",
       "      <td>0.0</td>\n",
       "      <td>7450333</td>\n",
       "      <td>0.0</td>\n",
       "      <td>...</td>\n",
       "      <td>7450337</td>\n",
       "      <td>0.0</td>\n",
       "      <td>7450341</td>\n",
       "      <td>0.0</td>\n",
       "      <td>0</td>\n",
       "      <td>NaN</td>\n",
       "      <td>0</td>\n",
       "      <td>NaN</td>\n",
       "      <td>00:00:03</td>\n",
       "      <td>8395</td>\n",
       "    </tr>\n",
       "  </tbody>\n",
       "</table>\n",
       "<p>7 rows × 24 columns</p>\n",
       "</div>"
      ],
      "text/plain": [
       "                             _id           timestamp terminalSerialNumber  \\\n",
       "262109  5e679ce367988e0008979783 2020-03-10 13:37:31               160690   \n",
       "262110  5e679ce567988e000897978c 2020-03-10 13:37:34               160690   \n",
       "262111  5e679ce867988e0008979794 2020-03-10 13:37:37               160690   \n",
       "262112  5e679ceb67988e000897979c 2020-03-10 13:37:40               160690   \n",
       "262113  5e679cee67988e00089797a4 2020-03-10 13:37:43               160690   \n",
       "262114  5e679cf167988e00089797ad 2020-03-10 13:37:46               160690   \n",
       "262115  5e679cf467988e00089797b6 2020-03-10 13:37:49               160690   \n",
       "\n",
       "       scaleSerialNumber  scaleGross  scaleNet cellSerialNumber_0  \\\n",
       "262109        P191021852         0.0       0.0            7450332   \n",
       "262110        P191021852        10.0      10.0            7450332   \n",
       "262111        P191021852      5530.0    5530.0            7450332   \n",
       "262112        P191021852      6650.0    6650.0            7450332   \n",
       "262113        P191021852         0.0       0.0            7450332   \n",
       "262114        P191021852         0.0       0.0            7450332   \n",
       "262115        P191021852         0.0       0.0            7450332   \n",
       "\n",
       "        cellWeight_0 cellSerialNumber_1  cellWeight_1  ... cellSerialNumber_4  \\\n",
       "262109           0.0            7450333           0.0  ...            7450338   \n",
       "262110         130.0            7450333         -20.0  ...            7450338   \n",
       "262111        1020.0            7450333        1340.0  ...            7450338   \n",
       "262112        -120.0            7450333        1390.0  ...            7450338   \n",
       "262113           0.0            7450333           0.0  ...            7450338   \n",
       "262114           0.0            7450333           0.0  ...            7450338   \n",
       "262115           0.0            7450333           0.0  ...            7450337   \n",
       "\n",
       "        cellWeight_4 cellSerialNumber_5  cellWeight_5 cellSerialNumber_6  \\\n",
       "262109           0.0            7450337           0.0            7450336   \n",
       "262110           0.0            7450337           0.0            7450341   \n",
       "262111          10.0            7450337          10.0            7450341   \n",
       "262112          20.0            7450337           0.0            7450341   \n",
       "262113           0.0            7450337           0.0            7450336   \n",
       "262114           0.0            7450337           0.0            7450336   \n",
       "262115           0.0            7450341           0.0                  0   \n",
       "\n",
       "        cellWeight_6 cellSerialNumber_7  cellWeight_7   period  measurement  \n",
       "262109           0.0            7450341           0.0 00:53:44         8395  \n",
       "262110           0.0                  0           NaN 00:00:03         8395  \n",
       "262111         -10.0                  0           NaN 00:00:03         8395  \n",
       "262112           0.0                  0           NaN 00:00:03         8395  \n",
       "262113           0.0            7450341           0.0 00:00:03         8395  \n",
       "262114           0.0            7450341           0.0 00:00:03         8395  \n",
       "262115           NaN                  0           NaN 00:00:03         8395  \n",
       "\n",
       "[7 rows x 24 columns]"
      ]
     },
     "execution_count": 29,
     "metadata": {},
     "output_type": "execute_result"
    }
   ],
   "source": [
    "filtrado[filtrado.measurement== 8395]"
   ]
  },
  {
   "cell_type": "code",
   "execution_count": 32,
   "metadata": {},
   "outputs": [],
   "source": [
    "y = pd.get_dummies(filtrado[['cellSerialNumber_0','cellSerialNumber_1','cellSerialNumber_2','cellSerialNumber_3','cellSerialNumber_4','cellSerialNumber_5','cellSerialNumber_6','cellSerialNumber_7']], prefix='', prefix_sep='')"
   ]
  },
  {
   "cell_type": "code",
   "execution_count": 33,
   "metadata": {},
   "outputs": [
    {
     "data": {
      "text/html": [
       "<div>\n",
       "<style scoped>\n",
       "    .dataframe tbody tr th:only-of-type {\n",
       "        vertical-align: middle;\n",
       "    }\n",
       "\n",
       "    .dataframe tbody tr th {\n",
       "        vertical-align: top;\n",
       "    }\n",
       "\n",
       "    .dataframe thead th {\n",
       "        text-align: right;\n",
       "    }\n",
       "</style>\n",
       "<table border=\"1\" class=\"dataframe\">\n",
       "  <thead>\n",
       "    <tr style=\"text-align: right;\">\n",
       "      <th></th>\n",
       "      <th>0</th>\n",
       "      <th>7450332</th>\n",
       "      <th>7450333</th>\n",
       "      <th>7450339</th>\n",
       "      <th>7450340</th>\n",
       "      <th>7450338</th>\n",
       "      <th>7450337</th>\n",
       "      <th>7450336</th>\n",
       "      <th>7450341</th>\n",
       "    </tr>\n",
       "  </thead>\n",
       "  <tbody>\n",
       "    <tr>\n",
       "      <th>4</th>\n",
       "      <td>0</td>\n",
       "      <td>1</td>\n",
       "      <td>1</td>\n",
       "      <td>1</td>\n",
       "      <td>1</td>\n",
       "      <td>1</td>\n",
       "      <td>1</td>\n",
       "      <td>1</td>\n",
       "      <td>1</td>\n",
       "    </tr>\n",
       "    <tr>\n",
       "      <th>5</th>\n",
       "      <td>7</td>\n",
       "      <td>1</td>\n",
       "      <td>0</td>\n",
       "      <td>0</td>\n",
       "      <td>0</td>\n",
       "      <td>0</td>\n",
       "      <td>0</td>\n",
       "      <td>0</td>\n",
       "      <td>0</td>\n",
       "    </tr>\n",
       "    <tr>\n",
       "      <th>6</th>\n",
       "      <td>0</td>\n",
       "      <td>1</td>\n",
       "      <td>1</td>\n",
       "      <td>1</td>\n",
       "      <td>1</td>\n",
       "      <td>1</td>\n",
       "      <td>1</td>\n",
       "      <td>1</td>\n",
       "      <td>1</td>\n",
       "    </tr>\n",
       "    <tr>\n",
       "      <th>7</th>\n",
       "      <td>0</td>\n",
       "      <td>1</td>\n",
       "      <td>1</td>\n",
       "      <td>1</td>\n",
       "      <td>1</td>\n",
       "      <td>1</td>\n",
       "      <td>1</td>\n",
       "      <td>1</td>\n",
       "      <td>1</td>\n",
       "    </tr>\n",
       "    <tr>\n",
       "      <th>8</th>\n",
       "      <td>0</td>\n",
       "      <td>1</td>\n",
       "      <td>1</td>\n",
       "      <td>1</td>\n",
       "      <td>1</td>\n",
       "      <td>1</td>\n",
       "      <td>1</td>\n",
       "      <td>1</td>\n",
       "      <td>1</td>\n",
       "    </tr>\n",
       "    <tr>\n",
       "      <th>...</th>\n",
       "      <td>...</td>\n",
       "      <td>...</td>\n",
       "      <td>...</td>\n",
       "      <td>...</td>\n",
       "      <td>...</td>\n",
       "      <td>...</td>\n",
       "      <td>...</td>\n",
       "      <td>...</td>\n",
       "      <td>...</td>\n",
       "    </tr>\n",
       "    <tr>\n",
       "      <th>422978</th>\n",
       "      <td>0</td>\n",
       "      <td>1</td>\n",
       "      <td>1</td>\n",
       "      <td>1</td>\n",
       "      <td>1</td>\n",
       "      <td>1</td>\n",
       "      <td>1</td>\n",
       "      <td>1</td>\n",
       "      <td>1</td>\n",
       "    </tr>\n",
       "    <tr>\n",
       "      <th>422979</th>\n",
       "      <td>0</td>\n",
       "      <td>1</td>\n",
       "      <td>1</td>\n",
       "      <td>1</td>\n",
       "      <td>1</td>\n",
       "      <td>1</td>\n",
       "      <td>1</td>\n",
       "      <td>1</td>\n",
       "      <td>1</td>\n",
       "    </tr>\n",
       "    <tr>\n",
       "      <th>422980</th>\n",
       "      <td>3</td>\n",
       "      <td>1</td>\n",
       "      <td>0</td>\n",
       "      <td>0</td>\n",
       "      <td>0</td>\n",
       "      <td>1</td>\n",
       "      <td>1</td>\n",
       "      <td>1</td>\n",
       "      <td>1</td>\n",
       "    </tr>\n",
       "    <tr>\n",
       "      <th>422981</th>\n",
       "      <td>7</td>\n",
       "      <td>1</td>\n",
       "      <td>0</td>\n",
       "      <td>0</td>\n",
       "      <td>0</td>\n",
       "      <td>0</td>\n",
       "      <td>0</td>\n",
       "      <td>0</td>\n",
       "      <td>0</td>\n",
       "    </tr>\n",
       "    <tr>\n",
       "      <th>422982</th>\n",
       "      <td>5</td>\n",
       "      <td>1</td>\n",
       "      <td>0</td>\n",
       "      <td>0</td>\n",
       "      <td>0</td>\n",
       "      <td>1</td>\n",
       "      <td>0</td>\n",
       "      <td>1</td>\n",
       "      <td>0</td>\n",
       "    </tr>\n",
       "  </tbody>\n",
       "</table>\n",
       "<p>284522 rows × 9 columns</p>\n",
       "</div>"
      ],
      "text/plain": [
       "        0  7450332  7450333  7450339  7450340  7450338  7450337  7450336  \\\n",
       "4       0        1        1        1        1        1        1        1   \n",
       "5       7        1        0        0        0        0        0        0   \n",
       "6       0        1        1        1        1        1        1        1   \n",
       "7       0        1        1        1        1        1        1        1   \n",
       "8       0        1        1        1        1        1        1        1   \n",
       "...    ..      ...      ...      ...      ...      ...      ...      ...   \n",
       "422978  0        1        1        1        1        1        1        1   \n",
       "422979  0        1        1        1        1        1        1        1   \n",
       "422980  3        1        0        0        0        1        1        1   \n",
       "422981  7        1        0        0        0        0        0        0   \n",
       "422982  5        1        0        0        0        1        0        1   \n",
       "\n",
       "        7450341  \n",
       "4             1  \n",
       "5             0  \n",
       "6             1  \n",
       "7             1  \n",
       "8             1  \n",
       "...         ...  \n",
       "422978        1  \n",
       "422979        1  \n",
       "422980        1  \n",
       "422981        0  \n",
       "422982        0  \n",
       "\n",
       "[284522 rows x 9 columns]"
      ]
     },
     "execution_count": 33,
     "metadata": {},
     "output_type": "execute_result"
    }
   ],
   "source": [
    "substituir=y.groupby(y.columns, axis=1).sum()\n",
    "substituir=substituir[['0','7450332','7450333','7450339','7450340','7450338','7450337','7450336','7450341']]\n",
    "substituir"
   ]
  },
  {
   "cell_type": "code",
   "execution_count": null,
   "metadata": {},
   "outputs": [],
   "source": [
    "substituir=substituir[['0','7450332','7450333','7450339','7450340','7450338','7450337','7450336','7450341']]"
   ]
  },
  {
   "cell_type": "code",
   "execution_count": null,
   "metadata": {},
   "outputs": [],
   "source": []
  },
  {
   "cell_type": "code",
   "execution_count": null,
   "metadata": {},
   "outputs": [],
   "source": [
    "filtrado=experiencia[experiencia.measurement == 952]"
   ]
  },
  {
   "cell_type": "code",
   "execution_count": null,
   "metadata": {},
   "outputs": [],
   "source": [
    "teste=ordenado[ordenado.measurement == 30715]\n",
    "teste.head(3)"
   ]
  },
  {
   "cell_type": "code",
   "execution_count": 23,
   "metadata": {},
   "outputs": [
    {
     "data": {
      "text/html": [
       "<div>\n",
       "<style scoped>\n",
       "    .dataframe tbody tr th:only-of-type {\n",
       "        vertical-align: middle;\n",
       "    }\n",
       "\n",
       "    .dataframe tbody tr th {\n",
       "        vertical-align: top;\n",
       "    }\n",
       "\n",
       "    .dataframe thead th {\n",
       "        text-align: right;\n",
       "    }\n",
       "</style>\n",
       "<table border=\"1\" class=\"dataframe\">\n",
       "  <thead>\n",
       "    <tr style=\"text-align: right;\">\n",
       "      <th></th>\n",
       "      <th>_id</th>\n",
       "      <th>timestamp</th>\n",
       "      <th>scaleGross</th>\n",
       "      <th>cellSerialNumber_0</th>\n",
       "      <th>cellWeight_0</th>\n",
       "      <th>cellSerialNumber_1</th>\n",
       "      <th>cellWeight_1</th>\n",
       "      <th>cellSerialNumber_2</th>\n",
       "      <th>cellWeight_2</th>\n",
       "      <th>cellSerialNumber_3</th>\n",
       "      <th>...</th>\n",
       "      <th>cellSerialNumber_4</th>\n",
       "      <th>cellWeight_4</th>\n",
       "      <th>cellSerialNumber_5</th>\n",
       "      <th>cellWeight_5</th>\n",
       "      <th>cellSerialNumber_6</th>\n",
       "      <th>cellWeight_6</th>\n",
       "      <th>cellSerialNumber_7</th>\n",
       "      <th>cellWeight_7</th>\n",
       "      <th>period</th>\n",
       "      <th>measurement</th>\n",
       "    </tr>\n",
       "  </thead>\n",
       "  <tbody>\n",
       "    <tr>\n",
       "      <th>320539</th>\n",
       "      <td>5ec9356ce1bd3200088f68fb</td>\n",
       "      <td>2020-05-23 14:38:02</td>\n",
       "      <td>10.0</td>\n",
       "      <td>0</td>\n",
       "      <td>NaN</td>\n",
       "      <td>0</td>\n",
       "      <td>NaN</td>\n",
       "      <td>0</td>\n",
       "      <td>NaN</td>\n",
       "      <td>0</td>\n",
       "      <td>...</td>\n",
       "      <td>0</td>\n",
       "      <td>NaN</td>\n",
       "      <td>0</td>\n",
       "      <td>NaN</td>\n",
       "      <td>0</td>\n",
       "      <td>NaN</td>\n",
       "      <td>0</td>\n",
       "      <td>NaN</td>\n",
       "      <td>00:01:54</td>\n",
       "      <td>10508</td>\n",
       "    </tr>\n",
       "    <tr>\n",
       "      <th>320540</th>\n",
       "      <td>5ec9356de1bd3200088f68fc</td>\n",
       "      <td>2020-05-23 14:38:04</td>\n",
       "      <td>0.0</td>\n",
       "      <td>0</td>\n",
       "      <td>NaN</td>\n",
       "      <td>0</td>\n",
       "      <td>NaN</td>\n",
       "      <td>0</td>\n",
       "      <td>NaN</td>\n",
       "      <td>0</td>\n",
       "      <td>...</td>\n",
       "      <td>0</td>\n",
       "      <td>NaN</td>\n",
       "      <td>0</td>\n",
       "      <td>NaN</td>\n",
       "      <td>0</td>\n",
       "      <td>NaN</td>\n",
       "      <td>0</td>\n",
       "      <td>NaN</td>\n",
       "      <td>00:00:02</td>\n",
       "      <td>10508</td>\n",
       "    </tr>\n",
       "  </tbody>\n",
       "</table>\n",
       "<p>2 rows × 21 columns</p>\n",
       "</div>"
      ],
      "text/plain": [
       "                             _id           timestamp  scaleGross  \\\n",
       "320539  5ec9356ce1bd3200088f68fb 2020-05-23 14:38:02        10.0   \n",
       "320540  5ec9356de1bd3200088f68fc 2020-05-23 14:38:04         0.0   \n",
       "\n",
       "       cellSerialNumber_0  cellWeight_0 cellSerialNumber_1  cellWeight_1  \\\n",
       "320539                  0           NaN                  0           NaN   \n",
       "320540                  0           NaN                  0           NaN   \n",
       "\n",
       "       cellSerialNumber_2  cellWeight_2 cellSerialNumber_3  ...  \\\n",
       "320539                  0           NaN                  0  ...   \n",
       "320540                  0           NaN                  0  ...   \n",
       "\n",
       "        cellSerialNumber_4 cellWeight_4  cellSerialNumber_5 cellWeight_5  \\\n",
       "320539                   0          NaN                   0          NaN   \n",
       "320540                   0          NaN                   0          NaN   \n",
       "\n",
       "        cellSerialNumber_6 cellWeight_6  cellSerialNumber_7 cellWeight_7  \\\n",
       "320539                   0          NaN                   0          NaN   \n",
       "320540                   0          NaN                   0          NaN   \n",
       "\n",
       "         period measurement  \n",
       "320539 00:01:54       10508  \n",
       "320540 00:00:02       10508  \n",
       "\n",
       "[2 rows x 21 columns]"
      ]
     },
     "execution_count": 23,
     "metadata": {},
     "output_type": "execute_result"
    }
   ],
   "source": [
    "teste2=ordenado[ordenado.measurement == 10508]\n",
    "teste2.head(3)"
   ]
  },
  {
   "cell_type": "code",
   "execution_count": null,
   "metadata": {},
   "outputs": [],
   "source": [
    "teste3=ordenado[ordenado.measurement == 4024]\n",
    "teste3.head(3)"
   ]
  },
  {
   "cell_type": "code",
   "execution_count": null,
   "metadata": {},
   "outputs": [],
   "source": [
    "teste.cellWeight_0.value_counts()"
   ]
  },
  {
   "cell_type": "code",
   "execution_count": null,
   "metadata": {},
   "outputs": [],
   "source": [
    "teste2.cellSerialNumber_0.value_counts()"
   ]
  },
  {
   "cell_type": "code",
   "execution_count": null,
   "metadata": {},
   "outputs": [],
   "source": [
    "teste2.cellWeight_0.value_counts()"
   ]
  },
  {
   "cell_type": "code",
   "execution_count": null,
   "metadata": {},
   "outputs": [],
   "source": [
    "import matplotlib.pyplot as plt\n",
    "\n",
    "plt.figure(figsize=(20,3))\n",
    "plt.plot(teste.timestamp, teste.cellWeight_0)"
   ]
  },
  {
   "cell_type": "code",
   "execution_count": 25,
   "metadata": {},
   "outputs": [
    {
     "data": {
      "text/plain": [
       "[<matplotlib.lines.Line2D at 0x7fdff80a8cc0>]"
      ]
     },
     "execution_count": 25,
     "metadata": {},
     "output_type": "execute_result"
    },
    {
     "data": {
      "image/png": "[encoded data removed]",
      "text/plain": [
       "<Figure size 1440x216 with 1 Axes>"
      ]
     },
     "metadata": {
      "needs_background": "light"
     },
     "output_type": "display_data"
    }
   ],
   "source": [
    "import matplotlib.pyplot as plt\n",
    "\n",
    "plt.figure(figsize=(20,3))\n",
    "plt.plot(teste2.timestamp, teste2.cellWeight_0)"
   ]
  },
  {
   "cell_type": "markdown",
   "metadata": {},
   "source": [
    "consideraçoes:\n",
    "- claro problema de mediçoes com valores estagnados\n",
    "- se nan e resultado de nao variar, pq e que nao varia tem imensos nan??\n",
    "\n",
    "- ainda nao ocorreu interpolação... \n",
    "- dentro da mediçao de cell0 a celula foi morrendo e outras ficaraam no seu lugar!"
   ]
  },
  {
   "cell_type": "code",
   "execution_count": null,
   "metadata": {},
   "outputs": [],
   "source": [
    "teste.period.value_counts()"
   ]
  },
  {
   "cell_type": "code",
   "execution_count": null,
   "metadata": {
    "scrolled": true
   },
   "outputs": [],
   "source": [
    "teste"
   ]
  },
  {
   "cell_type": "code",
   "execution_count": null,
   "metadata": {},
   "outputs": [],
   "source": [
    "ordenado.head(2)"
   ]
  },
  {
   "cell_type": "code",
   "execution_count": 27,
   "metadata": {},
   "outputs": [],
   "source": [
    "y = pd.get_dummies(ordenado[['cellSerialNumber_0','cellSerialNumber_1','cellSerialNumber_2','cellSerialNumber_3','cellSerialNumber_4','cellSerialNumber_5','cellSerialNumber_6','cellSerialNumber_7']], prefix='', prefix_sep='')"
   ]
  },
  {
   "cell_type": "code",
   "execution_count": 28,
   "metadata": {
    "scrolled": true
   },
   "outputs": [
    {
     "data": {
      "text/html": [
       "<div>\n",
       "<style scoped>\n",
       "    .dataframe tbody tr th:only-of-type {\n",
       "        vertical-align: middle;\n",
       "    }\n",
       "\n",
       "    .dataframe tbody tr th {\n",
       "        vertical-align: top;\n",
       "    }\n",
       "\n",
       "    .dataframe thead th {\n",
       "        text-align: right;\n",
       "    }\n",
       "</style>\n",
       "<table border=\"1\" class=\"dataframe\">\n",
       "  <thead>\n",
       "    <tr style=\"text-align: right;\">\n",
       "      <th></th>\n",
       "      <th>0</th>\n",
       "      <th>7450332</th>\n",
       "      <th>7450333</th>\n",
       "      <th>7450336</th>\n",
       "      <th>7450337</th>\n",
       "      <th>7450338</th>\n",
       "      <th>7450339</th>\n",
       "      <th>7450340</th>\n",
       "      <th>7450341</th>\n",
       "    </tr>\n",
       "  </thead>\n",
       "  <tbody>\n",
       "    <tr>\n",
       "      <th>0</th>\n",
       "      <td>0</td>\n",
       "      <td>1</td>\n",
       "      <td>1</td>\n",
       "      <td>1</td>\n",
       "      <td>1</td>\n",
       "      <td>1</td>\n",
       "      <td>1</td>\n",
       "      <td>1</td>\n",
       "      <td>1</td>\n",
       "    </tr>\n",
       "    <tr>\n",
       "      <th>1</th>\n",
       "      <td>0</td>\n",
       "      <td>1</td>\n",
       "      <td>1</td>\n",
       "      <td>1</td>\n",
       "      <td>1</td>\n",
       "      <td>1</td>\n",
       "      <td>1</td>\n",
       "      <td>1</td>\n",
       "      <td>1</td>\n",
       "    </tr>\n",
       "    <tr>\n",
       "      <th>2</th>\n",
       "      <td>0</td>\n",
       "      <td>1</td>\n",
       "      <td>1</td>\n",
       "      <td>1</td>\n",
       "      <td>1</td>\n",
       "      <td>1</td>\n",
       "      <td>1</td>\n",
       "      <td>1</td>\n",
       "      <td>1</td>\n",
       "    </tr>\n",
       "    <tr>\n",
       "      <th>3</th>\n",
       "      <td>0</td>\n",
       "      <td>1</td>\n",
       "      <td>1</td>\n",
       "      <td>1</td>\n",
       "      <td>1</td>\n",
       "      <td>1</td>\n",
       "      <td>1</td>\n",
       "      <td>1</td>\n",
       "      <td>1</td>\n",
       "    </tr>\n",
       "    <tr>\n",
       "      <th>4</th>\n",
       "      <td>0</td>\n",
       "      <td>1</td>\n",
       "      <td>1</td>\n",
       "      <td>1</td>\n",
       "      <td>1</td>\n",
       "      <td>1</td>\n",
       "      <td>1</td>\n",
       "      <td>1</td>\n",
       "      <td>1</td>\n",
       "    </tr>\n",
       "    <tr>\n",
       "      <th>...</th>\n",
       "      <td>...</td>\n",
       "      <td>...</td>\n",
       "      <td>...</td>\n",
       "      <td>...</td>\n",
       "      <td>...</td>\n",
       "      <td>...</td>\n",
       "      <td>...</td>\n",
       "      <td>...</td>\n",
       "      <td>...</td>\n",
       "    </tr>\n",
       "    <tr>\n",
       "      <th>423064</th>\n",
       "      <td>0</td>\n",
       "      <td>1</td>\n",
       "      <td>1</td>\n",
       "      <td>1</td>\n",
       "      <td>1</td>\n",
       "      <td>1</td>\n",
       "      <td>1</td>\n",
       "      <td>1</td>\n",
       "      <td>1</td>\n",
       "    </tr>\n",
       "    <tr>\n",
       "      <th>423065</th>\n",
       "      <td>0</td>\n",
       "      <td>1</td>\n",
       "      <td>1</td>\n",
       "      <td>1</td>\n",
       "      <td>1</td>\n",
       "      <td>1</td>\n",
       "      <td>1</td>\n",
       "      <td>1</td>\n",
       "      <td>1</td>\n",
       "    </tr>\n",
       "    <tr>\n",
       "      <th>423066</th>\n",
       "      <td>3</td>\n",
       "      <td>1</td>\n",
       "      <td>0</td>\n",
       "      <td>1</td>\n",
       "      <td>1</td>\n",
       "      <td>1</td>\n",
       "      <td>0</td>\n",
       "      <td>0</td>\n",
       "      <td>1</td>\n",
       "    </tr>\n",
       "    <tr>\n",
       "      <th>423067</th>\n",
       "      <td>5</td>\n",
       "      <td>1</td>\n",
       "      <td>0</td>\n",
       "      <td>1</td>\n",
       "      <td>0</td>\n",
       "      <td>0</td>\n",
       "      <td>0</td>\n",
       "      <td>0</td>\n",
       "      <td>1</td>\n",
       "    </tr>\n",
       "    <tr>\n",
       "      <th>423068</th>\n",
       "      <td>7</td>\n",
       "      <td>0</td>\n",
       "      <td>0</td>\n",
       "      <td>0</td>\n",
       "      <td>0</td>\n",
       "      <td>0</td>\n",
       "      <td>0</td>\n",
       "      <td>0</td>\n",
       "      <td>1</td>\n",
       "    </tr>\n",
       "  </tbody>\n",
       "</table>\n",
       "<p>423069 rows × 9 columns</p>\n",
       "</div>"
      ],
      "text/plain": [
       "        0  7450332  7450333  7450336  7450337  7450338  7450339  7450340  \\\n",
       "0       0        1        1        1        1        1        1        1   \n",
       "1       0        1        1        1        1        1        1        1   \n",
       "2       0        1        1        1        1        1        1        1   \n",
       "3       0        1        1        1        1        1        1        1   \n",
       "4       0        1        1        1        1        1        1        1   \n",
       "...    ..      ...      ...      ...      ...      ...      ...      ...   \n",
       "423064  0        1        1        1        1        1        1        1   \n",
       "423065  0        1        1        1        1        1        1        1   \n",
       "423066  3        1        0        1        1        1        0        0   \n",
       "423067  5        1        0        1        0        0        0        0   \n",
       "423068  7        0        0        0        0        0        0        0   \n",
       "\n",
       "        7450341  \n",
       "0             1  \n",
       "1             1  \n",
       "2             1  \n",
       "3             1  \n",
       "4             1  \n",
       "...         ...  \n",
       "423064        1  \n",
       "423065        1  \n",
       "423066        1  \n",
       "423067        1  \n",
       "423068        1  \n",
       "\n",
       "[423069 rows x 9 columns]"
      ]
     },
     "execution_count": 28,
     "metadata": {},
     "output_type": "execute_result"
    }
   ],
   "source": [
    "substituir=y.groupby(y.columns, axis=1).sum()\n",
    "substituir"
   ]
  },
  {
   "cell_type": "code",
   "execution_count": 29,
   "metadata": {},
   "outputs": [
    {
     "data": {
      "text/plain": [
       "8"
      ]
     },
     "execution_count": 29,
     "metadata": {},
     "output_type": "execute_result"
    }
   ],
   "source": [
    "substituir['0'].max()"
   ]
  },
  {
   "cell_type": "markdown",
   "metadata": {},
   "source": [
    "## ORDEM 7450332\t7450333\t7450339\t7450340\t7450338\t7450337\t7450336\t7450341\n"
   ]
  },
  {
   "cell_type": "code",
   "execution_count": 30,
   "metadata": {},
   "outputs": [],
   "source": [
    "substituir=substituir[['0','7450332','7450333','7450339','7450340','7450338','7450337','7450336','7450341']]\n",
    "#frame = frame[['column I want first', 'column I want second'...etc.]]"
   ]
  },
  {
   "cell_type": "code",
   "execution_count": 32,
   "metadata": {},
   "outputs": [
    {
     "data": {
      "text/html": [
       "<div>\n",
       "<style scoped>\n",
       "    .dataframe tbody tr th:only-of-type {\n",
       "        vertical-align: middle;\n",
       "    }\n",
       "\n",
       "    .dataframe tbody tr th {\n",
       "        vertical-align: top;\n",
       "    }\n",
       "\n",
       "    .dataframe thead th {\n",
       "        text-align: right;\n",
       "    }\n",
       "</style>\n",
       "<table border=\"1\" class=\"dataframe\">\n",
       "  <thead>\n",
       "    <tr style=\"text-align: right;\">\n",
       "      <th></th>\n",
       "      <th>0</th>\n",
       "      <th>7450332</th>\n",
       "      <th>7450333</th>\n",
       "      <th>7450339</th>\n",
       "      <th>7450340</th>\n",
       "      <th>7450338</th>\n",
       "      <th>7450337</th>\n",
       "      <th>7450336</th>\n",
       "      <th>7450341</th>\n",
       "    </tr>\n",
       "  </thead>\n",
       "  <tbody>\n",
       "    <tr>\n",
       "      <th>0</th>\n",
       "      <td>0</td>\n",
       "      <td>NaN</td>\n",
       "      <td>NaN</td>\n",
       "      <td>NaN</td>\n",
       "      <td>NaN</td>\n",
       "      <td>NaN</td>\n",
       "      <td>NaN</td>\n",
       "      <td>NaN</td>\n",
       "      <td>NaN</td>\n",
       "    </tr>\n",
       "    <tr>\n",
       "      <th>1</th>\n",
       "      <td>0</td>\n",
       "      <td>NaN</td>\n",
       "      <td>NaN</td>\n",
       "      <td>NaN</td>\n",
       "      <td>NaN</td>\n",
       "      <td>NaN</td>\n",
       "      <td>NaN</td>\n",
       "      <td>NaN</td>\n",
       "      <td>NaN</td>\n",
       "    </tr>\n",
       "    <tr>\n",
       "      <th>2</th>\n",
       "      <td>0</td>\n",
       "      <td>NaN</td>\n",
       "      <td>NaN</td>\n",
       "      <td>NaN</td>\n",
       "      <td>NaN</td>\n",
       "      <td>NaN</td>\n",
       "      <td>NaN</td>\n",
       "      <td>NaN</td>\n",
       "      <td>NaN</td>\n",
       "    </tr>\n",
       "    <tr>\n",
       "      <th>3</th>\n",
       "      <td>0</td>\n",
       "      <td>NaN</td>\n",
       "      <td>NaN</td>\n",
       "      <td>NaN</td>\n",
       "      <td>NaN</td>\n",
       "      <td>NaN</td>\n",
       "      <td>NaN</td>\n",
       "      <td>NaN</td>\n",
       "      <td>NaN</td>\n",
       "    </tr>\n",
       "    <tr>\n",
       "      <th>4</th>\n",
       "      <td>0</td>\n",
       "      <td>NaN</td>\n",
       "      <td>NaN</td>\n",
       "      <td>NaN</td>\n",
       "      <td>NaN</td>\n",
       "      <td>NaN</td>\n",
       "      <td>NaN</td>\n",
       "      <td>NaN</td>\n",
       "      <td>NaN</td>\n",
       "    </tr>\n",
       "    <tr>\n",
       "      <th>...</th>\n",
       "      <td>...</td>\n",
       "      <td>...</td>\n",
       "      <td>...</td>\n",
       "      <td>...</td>\n",
       "      <td>...</td>\n",
       "      <td>...</td>\n",
       "      <td>...</td>\n",
       "      <td>...</td>\n",
       "      <td>...</td>\n",
       "    </tr>\n",
       "    <tr>\n",
       "      <th>423064</th>\n",
       "      <td>0</td>\n",
       "      <td>NaN</td>\n",
       "      <td>NaN</td>\n",
       "      <td>NaN</td>\n",
       "      <td>NaN</td>\n",
       "      <td>NaN</td>\n",
       "      <td>NaN</td>\n",
       "      <td>NaN</td>\n",
       "      <td>NaN</td>\n",
       "    </tr>\n",
       "    <tr>\n",
       "      <th>423065</th>\n",
       "      <td>0</td>\n",
       "      <td>NaN</td>\n",
       "      <td>NaN</td>\n",
       "      <td>NaN</td>\n",
       "      <td>NaN</td>\n",
       "      <td>NaN</td>\n",
       "      <td>NaN</td>\n",
       "      <td>NaN</td>\n",
       "      <td>NaN</td>\n",
       "    </tr>\n",
       "    <tr>\n",
       "      <th>423066</th>\n",
       "      <td>3</td>\n",
       "      <td>NaN</td>\n",
       "      <td>NaN</td>\n",
       "      <td>NaN</td>\n",
       "      <td>NaN</td>\n",
       "      <td>NaN</td>\n",
       "      <td>NaN</td>\n",
       "      <td>NaN</td>\n",
       "      <td>NaN</td>\n",
       "    </tr>\n",
       "    <tr>\n",
       "      <th>423067</th>\n",
       "      <td>5</td>\n",
       "      <td>NaN</td>\n",
       "      <td>NaN</td>\n",
       "      <td>NaN</td>\n",
       "      <td>NaN</td>\n",
       "      <td>NaN</td>\n",
       "      <td>NaN</td>\n",
       "      <td>NaN</td>\n",
       "      <td>NaN</td>\n",
       "    </tr>\n",
       "    <tr>\n",
       "      <th>423068</th>\n",
       "      <td>7</td>\n",
       "      <td>NaN</td>\n",
       "      <td>NaN</td>\n",
       "      <td>NaN</td>\n",
       "      <td>NaN</td>\n",
       "      <td>NaN</td>\n",
       "      <td>NaN</td>\n",
       "      <td>NaN</td>\n",
       "      <td>NaN</td>\n",
       "    </tr>\n",
       "  </tbody>\n",
       "</table>\n",
       "<p>423069 rows × 9 columns</p>\n",
       "</div>"
      ],
      "text/plain": [
       "        0  7450332  7450333  7450339  7450340  7450338  7450337  7450336  \\\n",
       "0       0      NaN      NaN      NaN      NaN      NaN      NaN      NaN   \n",
       "1       0      NaN      NaN      NaN      NaN      NaN      NaN      NaN   \n",
       "2       0      NaN      NaN      NaN      NaN      NaN      NaN      NaN   \n",
       "3       0      NaN      NaN      NaN      NaN      NaN      NaN      NaN   \n",
       "4       0      NaN      NaN      NaN      NaN      NaN      NaN      NaN   \n",
       "...    ..      ...      ...      ...      ...      ...      ...      ...   \n",
       "423064  0      NaN      NaN      NaN      NaN      NaN      NaN      NaN   \n",
       "423065  0      NaN      NaN      NaN      NaN      NaN      NaN      NaN   \n",
       "423066  3      NaN      NaN      NaN      NaN      NaN      NaN      NaN   \n",
       "423067  5      NaN      NaN      NaN      NaN      NaN      NaN      NaN   \n",
       "423068  7      NaN      NaN      NaN      NaN      NaN      NaN      NaN   \n",
       "\n",
       "        7450341  \n",
       "0           NaN  \n",
       "1           NaN  \n",
       "2           NaN  \n",
       "3           NaN  \n",
       "4           NaN  \n",
       "...         ...  \n",
       "423064      NaN  \n",
       "423065      NaN  \n",
       "423066      NaN  \n",
       "423067      NaN  \n",
       "423068      NaN  \n",
       "\n",
       "[423069 rows x 9 columns]"
      ]
     },
     "execution_count": 32,
     "metadata": {},
     "output_type": "execute_result"
    }
   ],
   "source": [
    "substituir"
   ]
  },
  {
   "cell_type": "code",
   "execution_count": 36,
   "metadata": {},
   "outputs": [],
   "source": [
    "substituir2=substituir"
   ]
  },
  {
   "cell_type": "markdown",
   "metadata": {},
   "source": [
    "substituir2[substituir.columns[1]][1]"
   ]
  },
  {
   "cell_type": "markdown",
   "metadata": {},
   "source": [
    "ordenado['cellSerialNumber_'+str(0)][1]"
   ]
  },
  {
   "cell_type": "code",
   "execution_count": 34,
   "metadata": {},
   "outputs": [],
   "source": [
    "substituir[['7450332','7450333','7450339','7450340','7450338','7450337','7450336','7450341']]=np.nan"
   ]
  },
  {
   "cell_type": "code",
   "execution_count": null,
   "metadata": {},
   "outputs": [],
   "source": [
    "substituir"
   ]
  },
  {
   "cell_type": "code",
   "execution_count": null,
   "metadata": {},
   "outputs": [],
   "source": [
    "substituir.isnull().sum()"
   ]
  },
  {
   "cell_type": "code",
   "execution_count": 37,
   "metadata": {},
   "outputs": [
    {
     "name": "stderr",
     "output_type": "stream",
     "text": [
      "/usr/local/lib/python3.6/dist-packages/ipykernel_launcher.py:6: SettingWithCopyWarning: \n",
      "A value is trying to be set on a copy of a slice from a DataFrame\n",
      "\n",
      "See the caveats in the documentation: http://pandas.pydata.org/pandas-docs/stable/user_guide/indexing.html#returning-a-view-versus-a-copy\n",
      "  \n"
     ]
    },
    {
     "ename": "KeyboardInterrupt",
     "evalue": "",
     "output_type": "error",
     "traceback": [
      "\u001b[0;31m---------------------------------------------------------------------------\u001b[0m",
      "\u001b[0;31mKeyError\u001b[0m                                  Traceback (most recent call last)",
      "\u001b[0;32m/usr/local/lib/python3.6/dist-packages/pandas/core/series.py\u001b[0m in \u001b[0;36m_set_with_engine\u001b[0;34m(self, key, value)\u001b[0m\n\u001b[1;32m   1254\u001b[0m         \u001b[0;32mtry\u001b[0m\u001b[0;34m:\u001b[0m\u001b[0;34m\u001b[0m\u001b[0;34m\u001b[0m\u001b[0m\n\u001b[0;32m-> 1255\u001b[0;31m             \u001b[0mself\u001b[0m\u001b[0;34m.\u001b[0m\u001b[0mindex\u001b[0m\u001b[0;34m.\u001b[0m\u001b[0m_engine\u001b[0m\u001b[0;34m.\u001b[0m\u001b[0mset_value\u001b[0m\u001b[0;34m(\u001b[0m\u001b[0mvalues\u001b[0m\u001b[0;34m,\u001b[0m \u001b[0mkey\u001b[0m\u001b[0;34m,\u001b[0m \u001b[0mvalue\u001b[0m\u001b[0;34m)\u001b[0m\u001b[0;34m\u001b[0m\u001b[0;34m\u001b[0m\u001b[0m\n\u001b[0m\u001b[1;32m   1256\u001b[0m             \u001b[0;32mreturn\u001b[0m\u001b[0;34m\u001b[0m\u001b[0;34m\u001b[0m\u001b[0m\n",
      "\u001b[0;32mpandas/_libs/index.pyx\u001b[0m in \u001b[0;36mpandas._libs.index.IndexEngine.set_value\u001b[0;34m()\u001b[0m\n",
      "\u001b[0;32mpandas/_libs/index.pyx\u001b[0m in \u001b[0;36mpandas._libs.index.IndexEngine.set_value\u001b[0;34m()\u001b[0m\n",
      "\u001b[0;32mpandas/_libs/index.pyx\u001b[0m in \u001b[0;36mpandas._libs.index.IndexEngine.get_loc\u001b[0;34m()\u001b[0m\n",
      "\u001b[0;32mpandas/_libs/hashtable_class_helper.pxi\u001b[0m in \u001b[0;36mpandas._libs.hashtable.Int64HashTable.get_item\u001b[0;34m()\u001b[0m\n",
      "\u001b[0;32mpandas/_libs/hashtable_class_helper.pxi\u001b[0m in \u001b[0;36mpandas._libs.hashtable.Int64HashTable.get_item\u001b[0;34m()\u001b[0m\n",
      "\u001b[0;31mKeyError\u001b[0m: 398863",
      "\nDuring handling of the above exception, another exception occurred:\n",
      "\u001b[0;31mKeyboardInterrupt\u001b[0m                         Traceback (most recent call last)",
      "\u001b[0;32m<ipython-input-37-655c3faa2049>\u001b[0m in \u001b[0;36m<module>\u001b[0;34m\u001b[0m\n\u001b[1;32m      4\u001b[0m             \u001b[0;31m#print(ordenado['cellSerialNumber_'+str(cell)][i])\u001b[0m\u001b[0;34m\u001b[0m\u001b[0;34m\u001b[0m\u001b[0;34m\u001b[0m\u001b[0m\n\u001b[1;32m      5\u001b[0m             \u001b[0;31m#print(ordenado['cellWeight_'+str(cell)][i])\u001b[0m\u001b[0;34m\u001b[0m\u001b[0;34m\u001b[0m\u001b[0;34m\u001b[0m\u001b[0m\n\u001b[0;32m----> 6\u001b[0;31m             \u001b[0msubstituir2\u001b[0m\u001b[0;34m[\u001b[0m\u001b[0msubstituir\u001b[0m\u001b[0;34m.\u001b[0m\u001b[0mcolumns\u001b[0m\u001b[0;34m[\u001b[0m\u001b[0mcell\u001b[0m\u001b[0;34m+\u001b[0m\u001b[0;36m1\u001b[0m\u001b[0;34m]\u001b[0m\u001b[0;34m]\u001b[0m\u001b[0;34m[\u001b[0m\u001b[0mi\u001b[0m\u001b[0;34m]\u001b[0m\u001b[0;34m=\u001b[0m\u001b[0mordenado\u001b[0m\u001b[0;34m[\u001b[0m\u001b[0;34m'cellWeight_'\u001b[0m\u001b[0;34m+\u001b[0m\u001b[0mstr\u001b[0m\u001b[0;34m(\u001b[0m\u001b[0mcell\u001b[0m\u001b[0;34m)\u001b[0m\u001b[0;34m]\u001b[0m\u001b[0;34m[\u001b[0m\u001b[0mi\u001b[0m\u001b[0;34m]\u001b[0m\u001b[0;34m\u001b[0m\u001b[0;34m\u001b[0m\u001b[0m\n\u001b[0m",
      "\u001b[0;32m/usr/local/lib/python3.6/dist-packages/pandas/core/series.py\u001b[0m in \u001b[0;36m__setitem__\u001b[0;34m(self, key, value)\u001b[0m\n\u001b[1;32m   1242\u001b[0m         \u001b[0;31m# do the setitem\u001b[0m\u001b[0;34m\u001b[0m\u001b[0;34m\u001b[0m\u001b[0;34m\u001b[0m\u001b[0m\n\u001b[1;32m   1243\u001b[0m         \u001b[0mcacher_needs_updating\u001b[0m \u001b[0;34m=\u001b[0m \u001b[0mself\u001b[0m\u001b[0;34m.\u001b[0m\u001b[0m_check_is_chained_assignment_possible\u001b[0m\u001b[0;34m(\u001b[0m\u001b[0;34m)\u001b[0m\u001b[0;34m\u001b[0m\u001b[0;34m\u001b[0m\u001b[0m\n\u001b[0;32m-> 1244\u001b[0;31m         \u001b[0msetitem\u001b[0m\u001b[0;34m(\u001b[0m\u001b[0mkey\u001b[0m\u001b[0;34m,\u001b[0m \u001b[0mvalue\u001b[0m\u001b[0;34m)\u001b[0m\u001b[0;34m\u001b[0m\u001b[0;34m\u001b[0m\u001b[0m\n\u001b[0m\u001b[1;32m   1245\u001b[0m         \u001b[0;32mif\u001b[0m \u001b[0mcacher_needs_updating\u001b[0m\u001b[0;34m:\u001b[0m\u001b[0;34m\u001b[0m\u001b[0;34m\u001b[0m\u001b[0m\n\u001b[1;32m   1246\u001b[0m             \u001b[0mself\u001b[0m\u001b[0;34m.\u001b[0m\u001b[0m_maybe_update_cacher\u001b[0m\u001b[0;34m(\u001b[0m\u001b[0;34m)\u001b[0m\u001b[0;34m\u001b[0m\u001b[0;34m\u001b[0m\u001b[0m\n",
      "\u001b[0;32m/usr/local/lib/python3.6/dist-packages/pandas/core/series.py\u001b[0m in \u001b[0;36msetitem\u001b[0;34m(key, value)\u001b[0m\n\u001b[1;32m   1191\u001b[0m         \u001b[0;32mdef\u001b[0m \u001b[0msetitem\u001b[0m\u001b[0;34m(\u001b[0m\u001b[0mkey\u001b[0m\u001b[0;34m,\u001b[0m \u001b[0mvalue\u001b[0m\u001b[0;34m)\u001b[0m\u001b[0;34m:\u001b[0m\u001b[0;34m\u001b[0m\u001b[0;34m\u001b[0m\u001b[0m\n\u001b[1;32m   1192\u001b[0m             \u001b[0;32mtry\u001b[0m\u001b[0;34m:\u001b[0m\u001b[0;34m\u001b[0m\u001b[0;34m\u001b[0m\u001b[0m\n\u001b[0;32m-> 1193\u001b[0;31m                 \u001b[0mself\u001b[0m\u001b[0;34m.\u001b[0m\u001b[0m_set_with_engine\u001b[0m\u001b[0;34m(\u001b[0m\u001b[0mkey\u001b[0m\u001b[0;34m,\u001b[0m \u001b[0mvalue\u001b[0m\u001b[0;34m)\u001b[0m\u001b[0;34m\u001b[0m\u001b[0;34m\u001b[0m\u001b[0m\n\u001b[0m\u001b[1;32m   1194\u001b[0m                 \u001b[0;32mreturn\u001b[0m\u001b[0;34m\u001b[0m\u001b[0;34m\u001b[0m\u001b[0m\n\u001b[1;32m   1195\u001b[0m             \u001b[0;32mexcept\u001b[0m \u001b[0mcom\u001b[0m\u001b[0;34m.\u001b[0m\u001b[0mSettingWithCopyError\u001b[0m\u001b[0;34m:\u001b[0m\u001b[0;34m\u001b[0m\u001b[0;34m\u001b[0m\u001b[0m\n",
      "\u001b[0;32m/usr/local/lib/python3.6/dist-packages/pandas/core/series.py\u001b[0m in \u001b[0;36m_set_with_engine\u001b[0;34m(self, key, value)\u001b[0m\n\u001b[1;32m   1253\u001b[0m             \u001b[0;32mreturn\u001b[0m\u001b[0;34m\u001b[0m\u001b[0;34m\u001b[0m\u001b[0m\n\u001b[1;32m   1254\u001b[0m         \u001b[0;32mtry\u001b[0m\u001b[0;34m:\u001b[0m\u001b[0;34m\u001b[0m\u001b[0;34m\u001b[0m\u001b[0m\n\u001b[0;32m-> 1255\u001b[0;31m             \u001b[0mself\u001b[0m\u001b[0;34m.\u001b[0m\u001b[0mindex\u001b[0m\u001b[0;34m.\u001b[0m\u001b[0m_engine\u001b[0m\u001b[0;34m.\u001b[0m\u001b[0mset_value\u001b[0m\u001b[0;34m(\u001b[0m\u001b[0mvalues\u001b[0m\u001b[0;34m,\u001b[0m \u001b[0mkey\u001b[0m\u001b[0;34m,\u001b[0m \u001b[0mvalue\u001b[0m\u001b[0;34m)\u001b[0m\u001b[0;34m\u001b[0m\u001b[0;34m\u001b[0m\u001b[0m\n\u001b[0m\u001b[1;32m   1256\u001b[0m             \u001b[0;32mreturn\u001b[0m\u001b[0;34m\u001b[0m\u001b[0;34m\u001b[0m\u001b[0m\n\u001b[1;32m   1257\u001b[0m         \u001b[0;32mexcept\u001b[0m \u001b[0mKeyError\u001b[0m\u001b[0;34m:\u001b[0m\u001b[0;34m\u001b[0m\u001b[0;34m\u001b[0m\u001b[0m\n",
      "\u001b[0;31mKeyboardInterrupt\u001b[0m: "
     ]
    }
   ],
   "source": [
    "for i in range(ordenado.shape[0]):\n",
    "    for cell in range(8):\n",
    "        if ordenado['cellSerialNumber_'+str(cell)][i]==substituir.columns[cell+1]:\n",
    "            #print(ordenado['cellSerialNumber_'+str(cell)][i])\n",
    "            #print(ordenado['cellWeight_'+str(cell)][i])\n",
    "            substituir2[substituir.columns[cell+1]][i]=ordenado['cellWeight_'+str(cell)][i]"
   ]
  },
  {
   "cell_type": "code",
   "execution_count": 35,
   "metadata": {},
   "outputs": [
    {
     "data": {
      "text/html": [
       "<div>\n",
       "<style scoped>\n",
       "    .dataframe tbody tr th:only-of-type {\n",
       "        vertical-align: middle;\n",
       "    }\n",
       "\n",
       "    .dataframe tbody tr th {\n",
       "        vertical-align: top;\n",
       "    }\n",
       "\n",
       "    .dataframe thead th {\n",
       "        text-align: right;\n",
       "    }\n",
       "</style>\n",
       "<table border=\"1\" class=\"dataframe\">\n",
       "  <thead>\n",
       "    <tr style=\"text-align: right;\">\n",
       "      <th></th>\n",
       "      <th>0</th>\n",
       "      <th>7450332</th>\n",
       "      <th>7450333</th>\n",
       "      <th>7450339</th>\n",
       "      <th>7450340</th>\n",
       "      <th>7450338</th>\n",
       "      <th>7450337</th>\n",
       "      <th>7450336</th>\n",
       "      <th>7450341</th>\n",
       "    </tr>\n",
       "  </thead>\n",
       "  <tbody>\n",
       "    <tr>\n",
       "      <th>0</th>\n",
       "      <td>0</td>\n",
       "      <td>0.0</td>\n",
       "      <td>0.0</td>\n",
       "      <td>0.0</td>\n",
       "      <td>0.0</td>\n",
       "      <td>0.0</td>\n",
       "      <td>0.0</td>\n",
       "      <td>0.0</td>\n",
       "      <td>0.0</td>\n",
       "    </tr>\n",
       "    <tr>\n",
       "      <th>1</th>\n",
       "      <td>0</td>\n",
       "      <td>0.0</td>\n",
       "      <td>0.0</td>\n",
       "      <td>-10.0</td>\n",
       "      <td>0.0</td>\n",
       "      <td>0.0</td>\n",
       "      <td>0.0</td>\n",
       "      <td>0.0</td>\n",
       "      <td>0.0</td>\n",
       "    </tr>\n",
       "    <tr>\n",
       "      <th>2</th>\n",
       "      <td>0</td>\n",
       "      <td>0.0</td>\n",
       "      <td>0.0</td>\n",
       "      <td>0.0</td>\n",
       "      <td>0.0</td>\n",
       "      <td>0.0</td>\n",
       "      <td>0.0</td>\n",
       "      <td>0.0</td>\n",
       "      <td>0.0</td>\n",
       "    </tr>\n",
       "    <tr>\n",
       "      <th>3</th>\n",
       "      <td>0</td>\n",
       "      <td>0.0</td>\n",
       "      <td>0.0</td>\n",
       "      <td>0.0</td>\n",
       "      <td>0.0</td>\n",
       "      <td>0.0</td>\n",
       "      <td>0.0</td>\n",
       "      <td>0.0</td>\n",
       "      <td>0.0</td>\n",
       "    </tr>\n",
       "    <tr>\n",
       "      <th>4</th>\n",
       "      <td>0</td>\n",
       "      <td>0.0</td>\n",
       "      <td>0.0</td>\n",
       "      <td>0.0</td>\n",
       "      <td>0.0</td>\n",
       "      <td>0.0</td>\n",
       "      <td>0.0</td>\n",
       "      <td>0.0</td>\n",
       "      <td>0.0</td>\n",
       "    </tr>\n",
       "    <tr>\n",
       "      <th>...</th>\n",
       "      <td>...</td>\n",
       "      <td>...</td>\n",
       "      <td>...</td>\n",
       "      <td>...</td>\n",
       "      <td>...</td>\n",
       "      <td>...</td>\n",
       "      <td>...</td>\n",
       "      <td>...</td>\n",
       "      <td>...</td>\n",
       "    </tr>\n",
       "    <tr>\n",
       "      <th>423064</th>\n",
       "      <td>0</td>\n",
       "      <td>10.0</td>\n",
       "      <td>0.0</td>\n",
       "      <td>0.0</td>\n",
       "      <td>0.0</td>\n",
       "      <td>0.0</td>\n",
       "      <td>0.0</td>\n",
       "      <td>0.0</td>\n",
       "      <td>0.0</td>\n",
       "    </tr>\n",
       "    <tr>\n",
       "      <th>423065</th>\n",
       "      <td>0</td>\n",
       "      <td>0.0</td>\n",
       "      <td>0.0</td>\n",
       "      <td>0.0</td>\n",
       "      <td>0.0</td>\n",
       "      <td>0.0</td>\n",
       "      <td>0.0</td>\n",
       "      <td>0.0</td>\n",
       "      <td>10.0</td>\n",
       "    </tr>\n",
       "    <tr>\n",
       "      <th>423066</th>\n",
       "      <td>3</td>\n",
       "      <td>0.0</td>\n",
       "      <td>NaN</td>\n",
       "      <td>NaN</td>\n",
       "      <td>NaN</td>\n",
       "      <td>NaN</td>\n",
       "      <td>NaN</td>\n",
       "      <td>NaN</td>\n",
       "      <td>NaN</td>\n",
       "    </tr>\n",
       "    <tr>\n",
       "      <th>423067</th>\n",
       "      <td>5</td>\n",
       "      <td>0.0</td>\n",
       "      <td>NaN</td>\n",
       "      <td>NaN</td>\n",
       "      <td>NaN</td>\n",
       "      <td>NaN</td>\n",
       "      <td>NaN</td>\n",
       "      <td>NaN</td>\n",
       "      <td>NaN</td>\n",
       "    </tr>\n",
       "    <tr>\n",
       "      <th>423068</th>\n",
       "      <td>7</td>\n",
       "      <td>NaN</td>\n",
       "      <td>NaN</td>\n",
       "      <td>NaN</td>\n",
       "      <td>NaN</td>\n",
       "      <td>NaN</td>\n",
       "      <td>NaN</td>\n",
       "      <td>NaN</td>\n",
       "      <td>NaN</td>\n",
       "    </tr>\n",
       "  </tbody>\n",
       "</table>\n",
       "<p>423069 rows × 9 columns</p>\n",
       "</div>"
      ],
      "text/plain": [
       "        0  7450332  7450333  7450339  7450340  7450338  7450337  7450336  \\\n",
       "0       0      0.0      0.0      0.0      0.0      0.0      0.0      0.0   \n",
       "1       0      0.0      0.0    -10.0      0.0      0.0      0.0      0.0   \n",
       "2       0      0.0      0.0      0.0      0.0      0.0      0.0      0.0   \n",
       "3       0      0.0      0.0      0.0      0.0      0.0      0.0      0.0   \n",
       "4       0      0.0      0.0      0.0      0.0      0.0      0.0      0.0   \n",
       "...    ..      ...      ...      ...      ...      ...      ...      ...   \n",
       "423064  0     10.0      0.0      0.0      0.0      0.0      0.0      0.0   \n",
       "423065  0      0.0      0.0      0.0      0.0      0.0      0.0      0.0   \n",
       "423066  3      0.0      NaN      NaN      NaN      NaN      NaN      NaN   \n",
       "423067  5      0.0      NaN      NaN      NaN      NaN      NaN      NaN   \n",
       "423068  7      NaN      NaN      NaN      NaN      NaN      NaN      NaN   \n",
       "\n",
       "        7450341  \n",
       "0           0.0  \n",
       "1           0.0  \n",
       "2           0.0  \n",
       "3           0.0  \n",
       "4           0.0  \n",
       "...         ...  \n",
       "423064      0.0  \n",
       "423065     10.0  \n",
       "423066      NaN  \n",
       "423067      NaN  \n",
       "423068      NaN  \n",
       "\n",
       "[423069 rows x 9 columns]"
      ]
     },
     "execution_count": 35,
     "metadata": {},
     "output_type": "execute_result"
    }
   ],
   "source": [
    "substituir2"
   ]
  },
  {
   "cell_type": "code",
   "execution_count": null,
   "metadata": {},
   "outputs": [],
   "source": [
    "substituir2#.to_csv('data_replaced_temp.csv')"
   ]
  },
  {
   "cell_type": "code",
   "execution_count": 36,
   "metadata": {},
   "outputs": [],
   "source": [
    "subtituir_plus= pd.concat([substituir2, ordenado[['timestamp','period','measurement']]], axis=1, sort=False)"
   ]
  },
  {
   "cell_type": "code",
   "execution_count": 37,
   "metadata": {},
   "outputs": [
    {
     "data": {
      "text/html": [
       "<div>\n",
       "<style scoped>\n",
       "    .dataframe tbody tr th:only-of-type {\n",
       "        vertical-align: middle;\n",
       "    }\n",
       "\n",
       "    .dataframe tbody tr th {\n",
       "        vertical-align: top;\n",
       "    }\n",
       "\n",
       "    .dataframe thead th {\n",
       "        text-align: right;\n",
       "    }\n",
       "</style>\n",
       "<table border=\"1\" class=\"dataframe\">\n",
       "  <thead>\n",
       "    <tr style=\"text-align: right;\">\n",
       "      <th></th>\n",
       "      <th>0</th>\n",
       "      <th>7450332</th>\n",
       "      <th>7450333</th>\n",
       "      <th>7450339</th>\n",
       "      <th>7450340</th>\n",
       "      <th>7450338</th>\n",
       "      <th>7450337</th>\n",
       "      <th>7450336</th>\n",
       "      <th>7450341</th>\n",
       "      <th>timestamp</th>\n",
       "      <th>period</th>\n",
       "      <th>measurement</th>\n",
       "    </tr>\n",
       "  </thead>\n",
       "  <tbody>\n",
       "    <tr>\n",
       "      <th>0</th>\n",
       "      <td>0</td>\n",
       "      <td>0.0</td>\n",
       "      <td>0.0</td>\n",
       "      <td>0.0</td>\n",
       "      <td>0.0</td>\n",
       "      <td>0.0</td>\n",
       "      <td>0.0</td>\n",
       "      <td>0.0</td>\n",
       "      <td>0.0</td>\n",
       "      <td>2019-05-09 14:22:55</td>\n",
       "      <td>00:00:00</td>\n",
       "      <td>1</td>\n",
       "    </tr>\n",
       "    <tr>\n",
       "      <th>1</th>\n",
       "      <td>0</td>\n",
       "      <td>0.0</td>\n",
       "      <td>0.0</td>\n",
       "      <td>-10.0</td>\n",
       "      <td>0.0</td>\n",
       "      <td>0.0</td>\n",
       "      <td>0.0</td>\n",
       "      <td>0.0</td>\n",
       "      <td>0.0</td>\n",
       "      <td>2019-05-09 14:22:58</td>\n",
       "      <td>00:00:03</td>\n",
       "      <td>1</td>\n",
       "    </tr>\n",
       "    <tr>\n",
       "      <th>2</th>\n",
       "      <td>0</td>\n",
       "      <td>0.0</td>\n",
       "      <td>0.0</td>\n",
       "      <td>0.0</td>\n",
       "      <td>0.0</td>\n",
       "      <td>0.0</td>\n",
       "      <td>0.0</td>\n",
       "      <td>0.0</td>\n",
       "      <td>0.0</td>\n",
       "      <td>2019-05-09 14:23:01</td>\n",
       "      <td>00:00:03</td>\n",
       "      <td>1</td>\n",
       "    </tr>\n",
       "    <tr>\n",
       "      <th>3</th>\n",
       "      <td>0</td>\n",
       "      <td>0.0</td>\n",
       "      <td>0.0</td>\n",
       "      <td>0.0</td>\n",
       "      <td>0.0</td>\n",
       "      <td>0.0</td>\n",
       "      <td>0.0</td>\n",
       "      <td>0.0</td>\n",
       "      <td>0.0</td>\n",
       "      <td>2019-05-09 14:23:04</td>\n",
       "      <td>00:00:03</td>\n",
       "      <td>1</td>\n",
       "    </tr>\n",
       "    <tr>\n",
       "      <th>4</th>\n",
       "      <td>0</td>\n",
       "      <td>0.0</td>\n",
       "      <td>0.0</td>\n",
       "      <td>0.0</td>\n",
       "      <td>0.0</td>\n",
       "      <td>0.0</td>\n",
       "      <td>0.0</td>\n",
       "      <td>0.0</td>\n",
       "      <td>0.0</td>\n",
       "      <td>2019-05-09 14:30:40</td>\n",
       "      <td>00:07:36</td>\n",
       "      <td>2</td>\n",
       "    </tr>\n",
       "    <tr>\n",
       "      <th>...</th>\n",
       "      <td>...</td>\n",
       "      <td>...</td>\n",
       "      <td>...</td>\n",
       "      <td>...</td>\n",
       "      <td>...</td>\n",
       "      <td>...</td>\n",
       "      <td>...</td>\n",
       "      <td>...</td>\n",
       "      <td>...</td>\n",
       "      <td>...</td>\n",
       "      <td>...</td>\n",
       "      <td>...</td>\n",
       "    </tr>\n",
       "    <tr>\n",
       "      <th>423064</th>\n",
       "      <td>0</td>\n",
       "      <td>10.0</td>\n",
       "      <td>0.0</td>\n",
       "      <td>0.0</td>\n",
       "      <td>0.0</td>\n",
       "      <td>0.0</td>\n",
       "      <td>0.0</td>\n",
       "      <td>0.0</td>\n",
       "      <td>0.0</td>\n",
       "      <td>2020-07-24 13:46:08</td>\n",
       "      <td>00:00:02</td>\n",
       "      <td>13111</td>\n",
       "    </tr>\n",
       "    <tr>\n",
       "      <th>423065</th>\n",
       "      <td>0</td>\n",
       "      <td>0.0</td>\n",
       "      <td>0.0</td>\n",
       "      <td>0.0</td>\n",
       "      <td>0.0</td>\n",
       "      <td>0.0</td>\n",
       "      <td>0.0</td>\n",
       "      <td>0.0</td>\n",
       "      <td>10.0</td>\n",
       "      <td>2020-07-24 13:46:10</td>\n",
       "      <td>00:00:02</td>\n",
       "      <td>13111</td>\n",
       "    </tr>\n",
       "    <tr>\n",
       "      <th>423066</th>\n",
       "      <td>3</td>\n",
       "      <td>0.0</td>\n",
       "      <td>NaN</td>\n",
       "      <td>NaN</td>\n",
       "      <td>NaN</td>\n",
       "      <td>NaN</td>\n",
       "      <td>NaN</td>\n",
       "      <td>NaN</td>\n",
       "      <td>NaN</td>\n",
       "      <td>2020-07-24 13:46:12</td>\n",
       "      <td>00:00:02</td>\n",
       "      <td>13111</td>\n",
       "    </tr>\n",
       "    <tr>\n",
       "      <th>423067</th>\n",
       "      <td>5</td>\n",
       "      <td>0.0</td>\n",
       "      <td>NaN</td>\n",
       "      <td>NaN</td>\n",
       "      <td>NaN</td>\n",
       "      <td>NaN</td>\n",
       "      <td>NaN</td>\n",
       "      <td>NaN</td>\n",
       "      <td>NaN</td>\n",
       "      <td>2020-07-24 13:46:13</td>\n",
       "      <td>00:00:01</td>\n",
       "      <td>13111</td>\n",
       "    </tr>\n",
       "    <tr>\n",
       "      <th>423068</th>\n",
       "      <td>7</td>\n",
       "      <td>NaN</td>\n",
       "      <td>NaN</td>\n",
       "      <td>NaN</td>\n",
       "      <td>NaN</td>\n",
       "      <td>NaN</td>\n",
       "      <td>NaN</td>\n",
       "      <td>NaN</td>\n",
       "      <td>NaN</td>\n",
       "      <td>2020-07-24 13:46:19</td>\n",
       "      <td>00:00:06</td>\n",
       "      <td>13111</td>\n",
       "    </tr>\n",
       "  </tbody>\n",
       "</table>\n",
       "<p>423069 rows × 12 columns</p>\n",
       "</div>"
      ],
      "text/plain": [
       "        0  7450332  7450333  7450339  7450340  7450338  7450337  7450336  \\\n",
       "0       0      0.0      0.0      0.0      0.0      0.0      0.0      0.0   \n",
       "1       0      0.0      0.0    -10.0      0.0      0.0      0.0      0.0   \n",
       "2       0      0.0      0.0      0.0      0.0      0.0      0.0      0.0   \n",
       "3       0      0.0      0.0      0.0      0.0      0.0      0.0      0.0   \n",
       "4       0      0.0      0.0      0.0      0.0      0.0      0.0      0.0   \n",
       "...    ..      ...      ...      ...      ...      ...      ...      ...   \n",
       "423064  0     10.0      0.0      0.0      0.0      0.0      0.0      0.0   \n",
       "423065  0      0.0      0.0      0.0      0.0      0.0      0.0      0.0   \n",
       "423066  3      0.0      NaN      NaN      NaN      NaN      NaN      NaN   \n",
       "423067  5      0.0      NaN      NaN      NaN      NaN      NaN      NaN   \n",
       "423068  7      NaN      NaN      NaN      NaN      NaN      NaN      NaN   \n",
       "\n",
       "        7450341           timestamp   period  measurement  \n",
       "0           0.0 2019-05-09 14:22:55 00:00:00            1  \n",
       "1           0.0 2019-05-09 14:22:58 00:00:03            1  \n",
       "2           0.0 2019-05-09 14:23:01 00:00:03            1  \n",
       "3           0.0 2019-05-09 14:23:04 00:00:03            1  \n",
       "4           0.0 2019-05-09 14:30:40 00:07:36            2  \n",
       "...         ...                 ...      ...          ...  \n",
       "423064      0.0 2020-07-24 13:46:08 00:00:02        13111  \n",
       "423065     10.0 2020-07-24 13:46:10 00:00:02        13111  \n",
       "423066      NaN 2020-07-24 13:46:12 00:00:02        13111  \n",
       "423067      NaN 2020-07-24 13:46:13 00:00:01        13111  \n",
       "423068      NaN 2020-07-24 13:46:19 00:00:06        13111  \n",
       "\n",
       "[423069 rows x 12 columns]"
      ]
     },
     "execution_count": 37,
     "metadata": {},
     "output_type": "execute_result"
    }
   ],
   "source": [
    "subtituir_plus#.to_csv('data_replaced_temp_c_time.csv')"
   ]
  },
  {
   "cell_type": "code",
   "execution_count": null,
   "metadata": {},
   "outputs": [],
   "source": [
    "subtituir_plus= pd.concat([substituir2, ordenado[['timestamp','period','measurement']]], axis=1, sort=False)"
   ]
  },
  {
   "cell_type": "code",
   "execution_count": null,
   "metadata": {},
   "outputs": [],
   "source": [
    "subtituir_plus"
   ]
  },
  {
   "cell_type": "code",
   "execution_count": null,
   "metadata": {},
   "outputs": [],
   "source": [
    "subtituir_plus.isnull().sum()"
   ]
  },
  {
   "cell_type": "markdown",
   "metadata": {},
   "source": [
    "### fill com base na pesagem"
   ]
  },
  {
   "cell_type": "code",
   "execution_count": 38,
   "metadata": {},
   "outputs": [],
   "source": [
    "subtituir_plus_pesagem=subtituir_plus.set_index('measurement')"
   ]
  },
  {
   "cell_type": "code",
   "execution_count": 39,
   "metadata": {},
   "outputs": [
    {
     "data": {
      "text/html": [
       "<div>\n",
       "<style scoped>\n",
       "    .dataframe tbody tr th:only-of-type {\n",
       "        vertical-align: middle;\n",
       "    }\n",
       "\n",
       "    .dataframe tbody tr th {\n",
       "        vertical-align: top;\n",
       "    }\n",
       "\n",
       "    .dataframe thead th {\n",
       "        text-align: right;\n",
       "    }\n",
       "</style>\n",
       "<table border=\"1\" class=\"dataframe\">\n",
       "  <thead>\n",
       "    <tr style=\"text-align: right;\">\n",
       "      <th></th>\n",
       "      <th>0</th>\n",
       "      <th>7450332</th>\n",
       "      <th>7450333</th>\n",
       "      <th>7450339</th>\n",
       "      <th>7450340</th>\n",
       "      <th>7450338</th>\n",
       "      <th>7450337</th>\n",
       "      <th>7450336</th>\n",
       "      <th>7450341</th>\n",
       "      <th>timestamp</th>\n",
       "      <th>period</th>\n",
       "    </tr>\n",
       "    <tr>\n",
       "      <th>measurement</th>\n",
       "      <th></th>\n",
       "      <th></th>\n",
       "      <th></th>\n",
       "      <th></th>\n",
       "      <th></th>\n",
       "      <th></th>\n",
       "      <th></th>\n",
       "      <th></th>\n",
       "      <th></th>\n",
       "      <th></th>\n",
       "      <th></th>\n",
       "    </tr>\n",
       "  </thead>\n",
       "  <tbody>\n",
       "    <tr>\n",
       "      <th>1</th>\n",
       "      <td>0</td>\n",
       "      <td>0.0</td>\n",
       "      <td>0.0</td>\n",
       "      <td>0.0</td>\n",
       "      <td>0.0</td>\n",
       "      <td>0.0</td>\n",
       "      <td>0.0</td>\n",
       "      <td>0.0</td>\n",
       "      <td>0.0</td>\n",
       "      <td>2019-05-09 14:22:55</td>\n",
       "      <td>00:00:00</td>\n",
       "    </tr>\n",
       "    <tr>\n",
       "      <th>1</th>\n",
       "      <td>0</td>\n",
       "      <td>0.0</td>\n",
       "      <td>0.0</td>\n",
       "      <td>-10.0</td>\n",
       "      <td>0.0</td>\n",
       "      <td>0.0</td>\n",
       "      <td>0.0</td>\n",
       "      <td>0.0</td>\n",
       "      <td>0.0</td>\n",
       "      <td>2019-05-09 14:22:58</td>\n",
       "      <td>00:00:03</td>\n",
       "    </tr>\n",
       "    <tr>\n",
       "      <th>1</th>\n",
       "      <td>0</td>\n",
       "      <td>0.0</td>\n",
       "      <td>0.0</td>\n",
       "      <td>0.0</td>\n",
       "      <td>0.0</td>\n",
       "      <td>0.0</td>\n",
       "      <td>0.0</td>\n",
       "      <td>0.0</td>\n",
       "      <td>0.0</td>\n",
       "      <td>2019-05-09 14:23:01</td>\n",
       "      <td>00:00:03</td>\n",
       "    </tr>\n",
       "    <tr>\n",
       "      <th>1</th>\n",
       "      <td>0</td>\n",
       "      <td>0.0</td>\n",
       "      <td>0.0</td>\n",
       "      <td>0.0</td>\n",
       "      <td>0.0</td>\n",
       "      <td>0.0</td>\n",
       "      <td>0.0</td>\n",
       "      <td>0.0</td>\n",
       "      <td>0.0</td>\n",
       "      <td>2019-05-09 14:23:04</td>\n",
       "      <td>00:00:03</td>\n",
       "    </tr>\n",
       "    <tr>\n",
       "      <th>2</th>\n",
       "      <td>0</td>\n",
       "      <td>0.0</td>\n",
       "      <td>0.0</td>\n",
       "      <td>0.0</td>\n",
       "      <td>0.0</td>\n",
       "      <td>0.0</td>\n",
       "      <td>0.0</td>\n",
       "      <td>0.0</td>\n",
       "      <td>0.0</td>\n",
       "      <td>2019-05-09 14:30:40</td>\n",
       "      <td>00:07:36</td>\n",
       "    </tr>\n",
       "  </tbody>\n",
       "</table>\n",
       "</div>"
      ],
      "text/plain": [
       "             0  7450332  7450333  7450339  7450340  7450338  7450337  7450336  \\\n",
       "measurement                                                                     \n",
       "1            0      0.0      0.0      0.0      0.0      0.0      0.0      0.0   \n",
       "1            0      0.0      0.0    -10.0      0.0      0.0      0.0      0.0   \n",
       "1            0      0.0      0.0      0.0      0.0      0.0      0.0      0.0   \n",
       "1            0      0.0      0.0      0.0      0.0      0.0      0.0      0.0   \n",
       "2            0      0.0      0.0      0.0      0.0      0.0      0.0      0.0   \n",
       "\n",
       "             7450341           timestamp   period  \n",
       "measurement                                        \n",
       "1                0.0 2019-05-09 14:22:55 00:00:00  \n",
       "1                0.0 2019-05-09 14:22:58 00:00:03  \n",
       "1                0.0 2019-05-09 14:23:01 00:00:03  \n",
       "1                0.0 2019-05-09 14:23:04 00:00:03  \n",
       "2                0.0 2019-05-09 14:30:40 00:07:36  "
      ]
     },
     "execution_count": 39,
     "metadata": {},
     "output_type": "execute_result"
    }
   ],
   "source": [
    "subtituir_plus_pesagem.head()"
   ]
  },
  {
   "cell_type": "code",
   "execution_count": null,
   "metadata": {},
   "outputs": [],
   "source": [
    "subtituir_plus.shape"
   ]
  },
  {
   "cell_type": "markdown",
   "metadata": {},
   "source": [
    "dia_interpolado=subtituir_plus.groupby('measurement')\n",
    "dia_interpolado.head()"
   ]
  },
  {
   "cell_type": "code",
   "execution_count": null,
   "metadata": {},
   "outputs": [],
   "source": [
    "dia_interpolado=subtituir_plus.groupby('measurement').fillna(method='ffill')\n",
    "dia_interpolado['measurement']=subtituir_plus['measurement']\n",
    "dia_interpolado=dia_interpolado.set_index('measurement')"
   ]
  },
  {
   "cell_type": "code",
   "execution_count": null,
   "metadata": {},
   "outputs": [],
   "source": [
    "dia_interpolado#.to_csv('data_replaced.csv') #=subtituir_plus.groupby('measurement').fillna(method='ffill')"
   ]
  },
  {
   "cell_type": "code",
   "execution_count": null,
   "metadata": {},
   "outputs": [],
   "source": []
  },
  {
   "cell_type": "code",
   "execution_count": null,
   "metadata": {},
   "outputs": [],
   "source": [
    "teste=dia_interpolado.loc[30715]#[dia_interpolado.measurement == 30715]"
   ]
  },
  {
   "cell_type": "code",
   "execution_count": null,
   "metadata": {},
   "outputs": [],
   "source": [
    "teste"
   ]
  },
  {
   "cell_type": "markdown",
   "metadata": {},
   "source": [
    "Pessimo\n",
    "- nao tem 6 celulas\n",
    "- uma delas so -10"
   ]
  },
  {
   "cell_type": "code",
   "execution_count": null,
   "metadata": {},
   "outputs": [],
   "source": [
    "data_com_todos=dia_interpolado[dia_interpolado['0']==0]"
   ]
  },
  {
   "cell_type": "code",
   "execution_count": null,
   "metadata": {},
   "outputs": [],
   "source": [
    "data_com_todos"
   ]
  },
  {
   "cell_type": "code",
   "execution_count": null,
   "metadata": {},
   "outputs": [],
   "source": [
    "data_com_todos.reset_index().measurement.nunique()"
   ]
  },
  {
   "cell_type": "code",
   "execution_count": null,
   "metadata": {},
   "outputs": [],
   "source": [
    "data_com_todos.reset_index().measurement.value_counts()"
   ]
  },
  {
   "cell_type": "code",
   "execution_count": null,
   "metadata": {},
   "outputs": [],
   "source": [
    "data_com_todos.loc[10508]"
   ]
  },
  {
   "cell_type": "code",
   "execution_count": null,
   "metadata": {},
   "outputs": [],
   "source": [
    "dia10=data_com_todos.loc[10508]"
   ]
  },
  {
   "cell_type": "code",
   "execution_count": null,
   "metadata": {
    "scrolled": false
   },
   "outputs": [],
   "source": [
    "import matplotlib.pyplot as plt\n",
    "\n",
    "plt.figure(figsize=(20,10))\n",
    "#plt.xlim=((2000, 6000))\n",
    "\n",
    "#plt.plot(dia102.timestamp, dia102.cellWeight_0, 'r')\n",
    "plt.plot(dia10.timestamp, dia10[['7450332','7450333','7450339','7450340','7450338','7450337','7450336','7450341']])#, 'g')"
   ]
  },
  {
   "cell_type": "code",
   "execution_count": null,
   "metadata": {},
   "outputs": [],
   "source": [
    "pares=data_com_todos\n",
    "pares['par1']=pares['']"
   ]
  },
  {
   "cell_type": "code",
   "execution_count": null,
   "metadata": {},
   "outputs": [],
   "source": [
    "import matplotlib.pyplot as plt\n",
    "\n",
    "plt.figure(figsize=(20,10))\n",
    "#plt.xlim=((2000, 6000))\n",
    "\n",
    "#plt.plot(dia102.timestamp, dia102.cellWeight_0, 'r')\n",
    "plt.plot(dia10.timestamp, dia10[['7450332','7450333','7450339','7450340','7450338','7450337','7450336','7450341']])#, 'g')"
   ]
  },
  {
   "cell_type": "code",
   "execution_count": null,
   "metadata": {},
   "outputs": [],
   "source": []
  },
  {
   "cell_type": "code",
   "execution_count": null,
   "metadata": {},
   "outputs": [],
   "source": []
  },
  {
   "cell_type": "code",
   "execution_count": null,
   "metadata": {},
   "outputs": [],
   "source": []
  },
  {
   "cell_type": "code",
   "execution_count": null,
   "metadata": {},
   "outputs": [],
   "source": []
  },
  {
   "cell_type": "code",
   "execution_count": null,
   "metadata": {},
   "outputs": [],
   "source": []
  },
  {
   "cell_type": "code",
   "execution_count": null,
   "metadata": {},
   "outputs": [],
   "source": []
  },
  {
   "cell_type": "code",
   "execution_count": null,
   "metadata": {},
   "outputs": [],
   "source": [
    "ordenado['cellSerialNumber_'+str(0)][0]==substituir.columns[1]"
   ]
  },
  {
   "cell_type": "code",
   "execution_count": null,
   "metadata": {},
   "outputs": [],
   "source": [
    "ordenado['cellWeight_'+str(0)][0]"
   ]
  },
  {
   "cell_type": "code",
   "execution_count": null,
   "metadata": {},
   "outputs": [],
   "source": [
    "ordenado.shape"
   ]
  },
  {
   "cell_type": "code",
   "execution_count": null,
   "metadata": {},
   "outputs": [],
   "source": [
    "subtituir_plus.iloc[150000]"
   ]
  },
  {
   "cell_type": "code",
   "execution_count": null,
   "metadata": {},
   "outputs": [],
   "source": [
    "ordenado.iloc[150000]"
   ]
  },
  {
   "cell_type": "code",
   "execution_count": null,
   "metadata": {},
   "outputs": [],
   "source": [
    "substituir.iloc[150000]"
   ]
  },
  {
   "cell_type": "code",
   "execution_count": null,
   "metadata": {},
   "outputs": [],
   "source": []
  },
  {
   "cell_type": "code",
   "execution_count": null,
   "metadata": {},
   "outputs": [],
   "source": [
    "ordenado"
   ]
  },
  {
   "cell_type": "code",
   "execution_count": null,
   "metadata": {},
   "outputs": [],
   "source": []
  },
  {
   "cell_type": "code",
   "execution_count": null,
   "metadata": {},
   "outputs": [],
   "source": []
  },
  {
   "cell_type": "markdown",
   "metadata": {},
   "source": [
    "## alteração do dataset"
   ]
  },
  {
   "cell_type": "code",
   "execution_count": null,
   "metadata": {},
   "outputs": [],
   "source": [
    "ordenado.head(3)"
   ]
  },
  {
   "cell_type": "code",
   "execution_count": null,
   "metadata": {},
   "outputs": [],
   "source": [
    "y = pd.get_dummies(ordenado[['cellSerialNumber_0','cellSerialNumber_1','cellSerialNumber_2','cellSerialNumber_3','cellSerialNumber_4','cellSerialNumber_5','cellSerialNumber_6','cellSerialNumber_7']], prefix='', prefix_sep='')"
   ]
  },
  {
   "cell_type": "code",
   "execution_count": null,
   "metadata": {},
   "outputs": [],
   "source": [
    "teste=y.groupby(y.columns, axis=1).sum()\n",
    "teste"
   ]
  },
  {
   "cell_type": "code",
   "execution_count": null,
   "metadata": {},
   "outputs": [],
   "source": []
  },
  {
   "cell_type": "code",
   "execution_count": null,
   "metadata": {},
   "outputs": [],
   "source": []
  },
  {
   "cell_type": "code",
   "execution_count": null,
   "metadata": {},
   "outputs": [],
   "source": [
    "#ax = opsd_daily.loc['2017-01':'2017-02', 'Consumption'].plot(marker='o', linestyle='-')\n",
    "ax = dia10['cellWeight_0'].plot(marker='o', linestyle='-')\n",
    "ax.set_ylabel('Daily Consumption (GWh)');"
   ]
  },
  {
   "cell_type": "code",
   "execution_count": null,
   "metadata": {
    "scrolled": true
   },
   "outputs": [],
   "source": [
    "dia10=dia10.set_index('timestamp')"
   ]
  },
  {
   "cell_type": "code",
   "execution_count": null,
   "metadata": {},
   "outputs": [],
   "source": [
    "dia10.resample('3S')"
   ]
  },
  {
   "cell_type": "code",
   "execution_count": null,
   "metadata": {
    "scrolled": true
   },
   "outputs": [],
   "source": [
    "dia10['timestamp']= pd.to_datetime(dia10['timestamp']) "
   ]
  },
  {
   "cell_type": "code",
   "execution_count": null,
   "metadata": {},
   "outputs": [],
   "source": [
    "import datetime\n",
    "\n",
    "dti = pd.to_datetime(['1/1/2018', np.datetime64('2018-01-01'),  datetime.datetime(2018, 1, 1)])\n"
   ]
  },
  {
   "cell_type": "code",
   "execution_count": null,
   "metadata": {},
   "outputs": [],
   "source": [
    "dia10"
   ]
  },
  {
   "cell_type": "code",
   "execution_count": null,
   "metadata": {},
   "outputs": [],
   "source": [
    "dia10_2=dia10"
   ]
  },
  {
   "cell_type": "code",
   "execution_count": null,
   "metadata": {},
   "outputs": [],
   "source": [
    "dia10.set_index(dia10['timestamp'], inplace = True) "
   ]
  },
  {
   "cell_type": "code",
   "execution_count": null,
   "metadata": {},
   "outputs": [],
   "source": [
    "dia10"
   ]
  },
  {
   "cell_type": "code",
   "execution_count": null,
   "metadata": {},
   "outputs": [],
   "source": [
    "\n",
    "dia10_2=dia10\n",
    "dia10_2=dia10_2.set_index('timestamp', inplace=True)\n",
    "dia10_2"
   ]
  },
  {
   "cell_type": "code",
   "execution_count": null,
   "metadata": {
    "scrolled": false
   },
   "outputs": [],
   "source": [
    "import matplotlib.pyplot as plt\n",
    "import matplotlib.ticker as ticker\n",
    "\n",
    "#dia10['datetime'] = pd.to_datetime(df['Time [dd.mm.yyyy hh:mm:ss.ms]'], format=\"%d.%m.%Y %H:%M:%S.%f\")\n",
    "\n",
    "#print (dia10)\n",
    "\n",
    "#dia10_2=dia10\n",
    "#dia10_2=dia10_2.set_index('timestamp', inplace=True)\n",
    "\n",
    "ax = dia10_2['cellWeight_0'].plot()\n",
    "\n",
    "#dia10_2.index=pd.to_datetime(dia10_2.index).strftime('%d-%m-%Y')\n",
    "#'%d.%m.%Y %H:%M:%S.%f'\n",
    "\n",
    "dia10_2.index=pd.to_datetime(dia10_2.index).strftime('%d.%m.%Y %H:%M:%S')#.%f')\n",
    "\n",
    "#ticklabels = dia10_2.index.strftime('%Y-%m-%d')\n",
    "ax.xaxis.set_major_formatter(ticker.FixedFormatter(dia10_2.index))\n",
    "ax.yaxis.set_major_formatter(ticker.FormatStrFormatter('%.2f'))\n",
    "plt.xticks(rotation=90)\n",
    "plt.show()"
   ]
  },
  {
   "cell_type": "code",
   "execution_count": null,
   "metadata": {},
   "outputs": [],
   "source": [
    "Dst_count = dia10[\"Dst\"].where(df[\"Dst\"]<-100).resample(\"1y\").count()\n",
    "Dst_count = Dst_count.reindex(df.index, method=\"bfill\")"
   ]
  },
  {
   "cell_type": "code",
   "execution_count": null,
   "metadata": {},
   "outputs": [],
   "source": [
    "dia10"
   ]
  },
  {
   "cell_type": "code",
   "execution_count": null,
   "metadata": {},
   "outputs": [],
   "source": [
    "dia10.index=pd.to_datetime(dia10.index).strftime('%d.%m.%Y %H:%M:%S.%f')"
   ]
  },
  {
   "cell_type": "code",
   "execution_count": null,
   "metadata": {},
   "outputs": [],
   "source": [
    "dia10_2"
   ]
  },
  {
   "cell_type": "code",
   "execution_count": null,
   "metadata": {},
   "outputs": [],
   "source": [
    "teste=ordenado.set_index('timestamp')"
   ]
  },
  {
   "cell_type": "code",
   "execution_count": null,
   "metadata": {},
   "outputs": [],
   "source": [
    "df.set_index(df['Date'].dt.date, inplace = True) \n",
    "df.asfreq(freq='1D').fillna(method='bfill', limit=1).dropna(how='all').drop_duplicates(keep='last')"
   ]
  },
  {
   "cell_type": "code",
   "execution_count": null,
   "metadata": {},
   "outputs": [],
   "source": [
    "teste.loc['2019']"
   ]
  },
  {
   "cell_type": "code",
   "execution_count": null,
   "metadata": {
    "scrolled": true
   },
   "outputs": [],
   "source": [
    "dia11=teste.loc['2019-05']"
   ]
  },
  {
   "cell_type": "code",
   "execution_count": null,
   "metadata": {},
   "outputs": [],
   "source": [
    "dia10.shape"
   ]
  },
  {
   "cell_type": "code",
   "execution_count": null,
   "metadata": {
    "scrolled": true
   },
   "outputs": [],
   "source": [
    "dia10.head(10)"
   ]
  },
  {
   "cell_type": "code",
   "execution_count": null,
   "metadata": {},
   "outputs": [],
   "source": [
    "import matplotlib.pyplot as plt\n",
    "plt.plot(teste)"
   ]
  },
  {
   "cell_type": "code",
   "execution_count": null,
   "metadata": {
    "scrolled": true
   },
   "outputs": [],
   "source": [
    "teste=dia10.cellWeight_0.tolist()\n",
    "teste"
   ]
  },
  {
   "cell_type": "code",
   "execution_count": null,
   "metadata": {},
   "outputs": [],
   "source": [
    "dia10.set_index('timestamp', inplace=True)"
   ]
  },
  {
   "cell_type": "code",
   "execution_count": null,
   "metadata": {},
   "outputs": [],
   "source": [
    "import matplotlib.pyplot as plt\n",
    "import matplotlib.ticker as ticker\n",
    "\n",
    "#dia10['datetime'] = pd.to_datetime(df['Time [dd.mm.yyyy hh:mm:ss.ms]'], format=\"%d.%m.%Y %H:%M:%S.%f\")\n",
    "\n",
    "#print (dia10)\n",
    "\n",
    "dia10_2=dia10\n",
    "dia10_2=dia10_2.set_index('timestamp', inplace=True)\n",
    "\n",
    "ax = dia10_2['cellWeight_0'].plot()\n",
    "\n",
    "#ticklabels = dia10.index.strftime('%Y-%m-%d')\n",
    "ax.xaxis.set_major_formatter(ticker.FixedFormatter(ticklabels))\n",
    "ax.yaxis.set_major_formatter(ticker.FormatStrFormatter('%.2f'))\n",
    "plt.show()"
   ]
  },
  {
   "cell_type": "code",
   "execution_count": null,
   "metadata": {},
   "outputs": [],
   "source": [
    "dia10_2=dia10\n",
    "dia10_2"
   ]
  },
  {
   "cell_type": "code",
   "execution_count": null,
   "metadata": {},
   "outputs": [],
   "source": [
    "plt.plot(\"time\", \"y\", data=df)"
   ]
  },
  {
   "cell_type": "code",
   "execution_count": null,
   "metadata": {},
   "outputs": [],
   "source": []
  },
  {
   "cell_type": "code",
   "execution_count": null,
   "metadata": {},
   "outputs": [],
   "source": []
  },
  {
   "cell_type": "code",
   "execution_count": null,
   "metadata": {},
   "outputs": [],
   "source": []
  },
  {
   "cell_type": "code",
   "execution_count": null,
   "metadata": {},
   "outputs": [],
   "source": []
  },
  {
   "cell_type": "code",
   "execution_count": null,
   "metadata": {},
   "outputs": [],
   "source": [
    "dados['cellSerialNumber_0']=dados['cellSerialNumber_0'].fillna(0)\n",
    "dados['cellSerialNumber_1']=dados['cellSerialNumber_1'].fillna(0)\n",
    "dados['cellSerialNumber_2']=dados['cellSerialNumber_2'].fillna(0)\n",
    "dados['cellSerialNumber_3']=dados['cellSerialNumber_3'].fillna(0)\n",
    "dados['cellSerialNumber_4']=dados['cellSerialNumber_4'].fillna(0)\n",
    "dados['cellSerialNumber_5']=dados['cellSerialNumber_5'].fillna(0)\n",
    "dados['cellSerialNumber_6']=dados['cellSerialNumber_6'].fillna(0)\n",
    "dados['cellSerialNumber_7']=dados['cellSerialNumber_7'].fillna(0)"
   ]
  },
  {
   "cell_type": "code",
   "execution_count": null,
   "metadata": {},
   "outputs": [],
   "source": [
    "clean0=dados['cellSerialNumber_0'].tolist()\n",
    "clean1=dados['cellSerialNumber_1'].tolist()\n",
    "clean2=dados['cellSerialNumber_2'].tolist()\n",
    "clean3=dados['cellSerialNumber_3'].tolist()\n",
    "clean4=dados['cellSerialNumber_4'].tolist()\n",
    "clean5=dados['cellSerialNumber_5'].tolist()\n",
    "clean6=dados['cellSerialNumber_6'].tolist()\n",
    "clean7=dados['cellSerialNumber_7'].tolist()"
   ]
  },
  {
   "cell_type": "code",
   "execution_count": null,
   "metadata": {},
   "outputs": [],
   "source": [
    "(clean3)"
   ]
  },
  {
   "cell_type": "code",
   "execution_count": null,
   "metadata": {},
   "outputs": [],
   "source": [
    "convert_first_to_generator = (str(w) for w in clean3)"
   ]
  },
  {
   "cell_type": "code",
   "execution_count": null,
   "metadata": {},
   "outputs": [],
   "source": [
    "convert_first_to_generator"
   ]
  },
  {
   "cell_type": "code",
   "execution_count": null,
   "metadata": {},
   "outputs": [],
   "source": [
    "int_arr = list(range(10))\n",
    "convert_first_to_generator = (str(w) for w in int_arr)\n",
    "print(''.join(convert_first_to_generator))"
   ]
  },
  {
   "cell_type": "code",
   "execution_count": null,
   "metadata": {},
   "outputs": [],
   "source": [
    "(int_arr)"
   ]
  },
  {
   "cell_type": "code",
   "execution_count": null,
   "metadata": {},
   "outputs": [],
   "source": [
    "clean4=[str(i) for i in clean4]"
   ]
  },
  {
   "cell_type": "code",
   "execution_count": null,
   "metadata": {},
   "outputs": [],
   "source": [
    "teste"
   ]
  },
  {
   "cell_type": "code",
   "execution_count": null,
   "metadata": {},
   "outputs": [],
   "source": [
    "for i in range(0, len(clean0)):    \n",
    "    if clean4[i][0] == '0' and len(clean4[i])>1:\n",
    "        clean4[i]=clean4[i][1:]"
   ]
  },
  {
   "cell_type": "code",
   "execution_count": null,
   "metadata": {},
   "outputs": [],
   "source": [
    "clean4[3][0] == '0' and len(clean4[3])>1"
   ]
  },
  {
   "cell_type": "code",
   "execution_count": null,
   "metadata": {},
   "outputs": [],
   "source": [
    "clean4"
   ]
  },
  {
   "cell_type": "code",
   "execution_count": null,
   "metadata": {},
   "outputs": [],
   "source": [
    "str(int(clean7[0]))"
   ]
  },
  {
   "cell_type": "code",
   "execution_count": null,
   "metadata": {},
   "outputs": [],
   "source": [
    "for i in range(0, len(clean0)):\n",
    "    if type(clean0[i]) == float:\n",
    "        clean0[i]=str(int(clean0[i]))\n",
    "    if type(clean1[i]) == float:\n",
    "        clean1[i]=str(int(clean1[i]))\n",
    "    if type(clean2[i]) == float:\n",
    "        clean2[i]=str(int(clean2[i]))\n",
    "    if type(clean3[i]) == float:\n",
    "        clean3[i]=str(int(clean3[i]))\n",
    "    if type(clean4[i]) == float:\n",
    "        clean4[i]=str(int(clean4[i]))\n",
    "    if type(clean5[i]) == float:\n",
    "        clean5[i]=str(int(clean5[i]))\n",
    "    if type(clean6[i]) == float:\n",
    "        clean6[i]=str(int(clean6[i]))\n",
    "    if type(clean7[i]) == float:\n",
    "        clean7[i]=str(int(clean7[i]))"
   ]
  },
  {
   "cell_type": "code",
   "execution_count": null,
   "metadata": {},
   "outputs": [],
   "source": [
    "clean0=[str(i) for i in clean0]\n",
    "clean1=[str(i) for i in clean1]\n",
    "clean2=[str(i) for i in clean2]\n",
    "clean3=[str(i) for i in clean3]\n",
    "clean4=[str(i) for i in clean4]\n",
    "clean5=[str(i) for i in clean5]\n",
    "clean6=[str(i) for i in clean6]\n",
    "clean7=[str(i) for i in clean7]"
   ]
  },
  {
   "cell_type": "code",
   "execution_count": null,
   "metadata": {},
   "outputs": [],
   "source": [
    "for i in range(0, len(clean0)):\n",
    "    if clean0[i][0] == '0' and len(clean0[i])>1:\n",
    "        clean0[i]=clean0[i][1:]\n",
    "    if clean1[i][0] == '0'and len(clean1[i])>1:\n",
    "        clean1[i]=clean1[i][1:]\n",
    "    if clean2[i][0] == '0' and len(clean2[i])>1:\n",
    "        clean2[i]=clean2[i][1:]\n",
    "    if clean3[i][0] == '0'and len(clean3[i])>1:\n",
    "        clean3[i]=clean3[i][1:]\n",
    "    if clean4[i][0] == '0'and len(clean4[i])>1:\n",
    "        clean4[i]=clean4[i][1:]\n",
    "    if clean5[i][0] == '0'and len(clean5[i])>1:\n",
    "        clean5[i]=clean5[i][1:]\n",
    "    if clean6[i][0] == '0'and len(clean6[i])>1:\n",
    "        clean6[i]=clean6[i][1:]\n",
    "    if clean7[i][0] == '0'and len(clean7[i])>1:\n",
    "        clean7[i]=clean7[i][1:]"
   ]
  },
  {
   "cell_type": "code",
   "execution_count": null,
   "metadata": {},
   "outputs": [],
   "source": [
    "dados['cellSerialNumber_0']=clean0\n",
    "dados['cellSerialNumber_1']=clean1\n",
    "dados['cellSerialNumber_2']=clean2\n",
    "dados['cellSerialNumber_3']=clean3\n",
    "dados['cellSerialNumber_4']=clean4\n",
    "dados['cellSerialNumber_5']=clean5\n",
    "dados['cellSerialNumber_6']=clean6\n",
    "dados['cellSerialNumber_7']=clean7"
   ]
  },
  {
   "cell_type": "code",
   "execution_count": null,
   "metadata": {},
   "outputs": [],
   "source": [
    "dados.head()"
   ]
  },
  {
   "cell_type": "code",
   "execution_count": null,
   "metadata": {},
   "outputs": [],
   "source": [
    "dados['cellSerialNumber_7'].unique()"
   ]
  },
  {
   "cell_type": "markdown",
   "metadata": {},
   "source": [
    "for i in range(0, dados.shape[0]+1):\n",
    "    if type(dados['cellSerialNumber_0'][i]) == float:\n",
    "        dados['cellSerialNumber_0'][i]=str(int(dados['cellSerialNumber_0'][i]))"
   ]
  },
  {
   "cell_type": "code",
   "execution_count": null,
   "metadata": {},
   "outputs": [],
   "source": [
    "dados[['scaleGross','scaleNet']] = dados[['scaleGross','scaleNet']].fillna(value=0)\n",
    "dados[['cellWeight_0','cellWeight_1','cellWeight_2','cellWeight_3','cellWeight_4','cellWeight_5','cellWeight_6','cellWeight_7']] = dados[['cellWeight_0','cellWeight_1','cellWeight_2','cellWeight_3','cellWeight_4','cellWeight_5','cellWeight_6','cellWeight_7']].fillna(value=0)\n",
    "dados[['cellSerialNumber_0']] = dados[['cellSerialNumber_0']].astype(str)\n",
    "dados[['terminalSerialNumber','scaleSerialNumber']]=dados[['terminalSerialNumber','scaleSerialNumber']].astype(str)\n"
   ]
  },
  {
   "cell_type": "code",
   "execution_count": null,
   "metadata": {},
   "outputs": [],
   "source": [
    "details=pd.DataFrame(dados.dtypes, columns=['type'])\n",
    "details['#Nan']=dados.isnull().sum(axis = 0)\n",
    "details['#uniques']=dados.nunique()"
   ]
  },
  {
   "cell_type": "code",
   "execution_count": null,
   "metadata": {},
   "outputs": [],
   "source": [
    "dados[['scaleGross','scaleNet']] = dados[['scaleGross','scaleNet']].fillna(value=0)\n",
    "details['#Nan_replaced']=dados.isnull().sum(axis = 0)"
   ]
  },
  {
   "cell_type": "code",
   "execution_count": null,
   "metadata": {},
   "outputs": [],
   "source": [
    "dados[['cellWeight_0','cellWeight_1','cellWeight_2','cellWeight_3','cellWeight_4','cellWeight_5','cellWeight_6','cellWeight_7']] = dados[['cellWeight_0','cellWeight_1','cellWeight_2','cellWeight_3','cellWeight_4','cellWeight_5','cellWeight_6','cellWeight_7']].fillna(value=0)\n",
    "details['#Nan_cell_weights_at0']=dados.isnull().sum(axis = 0)"
   ]
  },
  {
   "cell_type": "code",
   "execution_count": null,
   "metadata": {},
   "outputs": [],
   "source": [
    "\n",
    "#dados[['cellSerialNumber_0','cellSerialNumber_1','cellSerialNumber_2','cellSerialNumber_3','cellSerialNumber_4','cellSerialNumber_5','cellSerialNumber_6','cellSerialNumber_7']] = dados[['cellSerialNumber_0','cellSerialNumber_1','cellSerialNumber_2','cellSerialNumber_3','cellSerialNumber_4','cellSerialNumber_5','cellSerialNumber_6','cellSerialNumber_7']].astype(str) \n",
    "dados[['cellSerialNumber_0']] = dados[['cellSerialNumber_0']].astype(str) \n",
    "details['type_converted']=dados.dtypes"
   ]
  },
  {
   "cell_type": "code",
   "execution_count": null,
   "metadata": {},
   "outputs": [],
   "source": [
    "dados[['terminalSerialNumber','scaleSerialNumber']]=dados[['terminalSerialNumber','scaleSerialNumber']].astype(str)\n",
    "details['#nunqiues_corrected']=dados.nunique()"
   ]
  },
  {
   "cell_type": "code",
   "execution_count": null,
   "metadata": {
    "scrolled": false
   },
   "outputs": [],
   "source": [
    "details"
   ]
  },
  {
   "cell_type": "code",
   "execution_count": null,
   "metadata": {},
   "outputs": [],
   "source": [
    "dados.head()"
   ]
  },
  {
   "cell_type": "markdown",
   "metadata": {},
   "source": [
    "### avaliar problema 1: pesagens com valor nulo sendo que as celulas têm peso !"
   ]
  },
  {
   "cell_type": "code",
   "execution_count": null,
   "metadata": {},
   "outputs": [],
   "source": [
    "sempesos=dados[dados.scaleGross == 0]"
   ]
  },
  {
   "cell_type": "code",
   "execution_count": null,
   "metadata": {},
   "outputs": [],
   "source": [
    "sempesos.shape"
   ]
  },
  {
   "cell_type": "code",
   "execution_count": null,
   "metadata": {},
   "outputs": [],
   "source": [
    "teste=sempesos[sempesos.cellSerialNumber_0!= '0']"
   ]
  },
  {
   "cell_type": "code",
   "execution_count": null,
   "metadata": {},
   "outputs": [],
   "source": [
    "teste[teste.cellWeight_1!=0]"
   ]
  },
  {
   "cell_type": "markdown",
   "metadata": {},
   "source": [
    "### avaliar problema 3: diferença de valores entre a pesagem e a soma (aquela coisa de haver provavelmente uma formula interna deles)\n"
   ]
  },
  {
   "cell_type": "code",
   "execution_count": null,
   "metadata": {},
   "outputs": [],
   "source": [
    "dados.head()"
   ]
  },
  {
   "cell_type": "code",
   "execution_count": null,
   "metadata": {},
   "outputs": [],
   "source": [
    "ativos=dados[dados.cellSerialNumber_0 != '0']"
   ]
  },
  {
   "cell_type": "code",
   "execution_count": null,
   "metadata": {},
   "outputs": [],
   "source": [
    "ativos.scaleSerialNumber.value_counts()"
   ]
  },
  {
   "cell_type": "code",
   "execution_count": null,
   "metadata": {},
   "outputs": [],
   "source": [
    "ativos[ativos.scaleGross!=0].scaleSerialNumber.value_counts()"
   ]
  },
  {
   "cell_type": "code",
   "execution_count": null,
   "metadata": {},
   "outputs": [],
   "source": [
    "somas=ativos[ativos.scaleGross!=0]\n",
    "somas.head()"
   ]
  },
  {
   "cell_type": "code",
   "execution_count": null,
   "metadata": {},
   "outputs": [],
   "source": [
    "#somas['soma']=somas.sum(axis = 1)\n",
    "somas['soma']=somas[['cellWeight_0','cellWeight_1','cellWeight_2','cellWeight_3','cellWeight_4','cellWeight_5','cellWeight_6','cellWeight_7']].sum(axis = 1)#df[col_list].sum(axis=1)"
   ]
  },
  {
   "cell_type": "code",
   "execution_count": null,
   "metadata": {},
   "outputs": [],
   "source": [
    "somas[['terminalSerialNumber','scaleSerialNumber','scaleGross','scaleNet','soma','cellWeight_0','cellWeight_1','cellWeight_2','cellWeight_3','cellWeight_4','cellWeight_5','cellWeight_6','cellWeight_7']]"
   ]
  },
  {
   "cell_type": "code",
   "execution_count": null,
   "metadata": {
    "scrolled": true
   },
   "outputs": [],
   "source": [
    "somas.head()"
   ]
  },
  {
   "cell_type": "markdown",
   "metadata": {},
   "source": [
    "### avaliar problema 4:Cells with same serial number in different bridges\n"
   ]
  },
  {
   "cell_type": "code",
   "execution_count": null,
   "metadata": {},
   "outputs": [],
   "source": [
    "dados.head()"
   ]
  },
  {
   "cell_type": "code",
   "execution_count": null,
   "metadata": {},
   "outputs": [],
   "source": [
    "pontes=pd.read_json('devicesinfos_partition1.json')\n",
    "info_pontes=pontes[['scaleSerialNumber','terminalSerialNumber','scaleCellCount','scaleDataAvailability','timestamp','cell0_serialNumber','cell1_serialNumber','cell2_serialNumber','cell3_serialNumber','cell4_serialNumber','cell5_serialNumber','cell6_serialNumber','cell7_serialNumber']]"
   ]
  },
  {
   "cell_type": "code",
   "execution_count": null,
   "metadata": {},
   "outputs": [],
   "source": [
    "info_pontes"
   ]
  },
  {
   "cell_type": "code",
   "execution_count": null,
   "metadata": {},
   "outputs": [],
   "source": [
    "dados[dados['scaleSerialNumber']=='P083500022'].cellSerialNumber_0.value_counts()"
   ]
  },
  {
   "cell_type": "code",
   "execution_count": null,
   "metadata": {},
   "outputs": [],
   "source": [
    "dados['cellSerialNumber_0'].unique()"
   ]
  },
  {
   "cell_type": "code",
   "execution_count": null,
   "metadata": {},
   "outputs": [],
   "source": [
    "\n",
    "teste=dados[['cellSerialNumber_0']].astype(str)\n"
   ]
  },
  {
   "cell_type": "code",
   "execution_count": null,
   "metadata": {},
   "outputs": [],
   "source": [
    "dados.shape[0]"
   ]
  },
  {
   "cell_type": "code",
   "execution_count": null,
   "metadata": {},
   "outputs": [],
   "source": [
    "dados[['cellSerialNumber_0']].head(25)"
   ]
  },
  {
   "cell_type": "code",
   "execution_count": null,
   "metadata": {},
   "outputs": [],
   "source": [
    "str(int(dados['cellSerialNumber_0'][0]))#.astype(int)"
   ]
  },
  {
   "cell_type": "markdown",
   "metadata": {},
   "source": [
    "estrategia:\n",
    "- cell id ja foram descartados porque sao todos unicos ou nan para a totalidade de pesagens\n",
    "- os scalegross e scale net foram preenchidos com valor 0\n",
    "- as cell weighting com nan sao preenchidas a 0\n",
    "- os serial number estao numericos - converter para string\n",
    "- terminal serial number tem valores reptidos, conversao para string resolveu"
   ]
  },
  {
   "cell_type": "code",
   "execution_count": null,
   "metadata": {},
   "outputs": [],
   "source": [
    "erro1=dados[dados['scaleGross'].isnull()]"
   ]
  },
  {
   "cell_type": "code",
   "execution_count": null,
   "metadata": {},
   "outputs": [],
   "source": [
    "erro1.cellSerialNumber_0.value_counts().sum()#.sort_values(['cellSerialNumber_0'], ascending=False)"
   ]
  },
  {
   "cell_type": "code",
   "execution_count": null,
   "metadata": {},
   "outputs": [],
   "source": [
    "validar_ids=dados.sort_values(['cellSerialNumber_0']).set_index(['cellSerialNumber_0'])#.count()"
   ]
  },
  {
   "cell_type": "code",
   "execution_count": null,
   "metadata": {},
   "outputs": [],
   "source": [
    "validar_ids"
   ]
  },
  {
   "cell_type": "markdown",
   "metadata": {},
   "source": [
    "informações:\n",
    "- Ha valores de pesagem (sclaegross/net) com valores>0 e qd as celulas de pesagem nao têm serial number (Nan) ex: 5df09f84e2d52275b7392292\n",
    "- ha valores de pesagens negaivos ex 5cd9a59a9f4a53cf70f53d0d\n",
    "- sera que cada ponte tem uma coleçao de celulas especificas? uma celula 0 so se liga com uma expecifica celula 1?\n"
   ]
  },
  {
   "cell_type": "code",
   "execution_count": null,
   "metadata": {},
   "outputs": [],
   "source": [
    "validar_ids=dados.sort_values(['cellSerialNumber_0']).set_index(['cellSerialNumber_0']).count()"
   ]
  },
  {
   "cell_type": "markdown",
   "metadata": {},
   "source": [
    "- opçao count apenas salienta que ha nan ha medida que se acrescenta celula"
   ]
  },
  {
   "cell_type": "code",
   "execution_count": null,
   "metadata": {},
   "outputs": [],
   "source": [
    "validar_ids=dados.groupby(['cellSerialNumber_0']).count()"
   ]
  },
  {
   "cell_type": "code",
   "execution_count": null,
   "metadata": {
    "scrolled": true
   },
   "outputs": [],
   "source": [
    "validar_ids"
   ]
  },
  {
   "cell_type": "markdown",
   "metadata": {},
   "source": [
    "- opçao nunique mostra que um serial number 0 pode ter mais que 1 serial nuber 1 (nem considerando NAN) logo ao e possivel substituir"
   ]
  },
  {
   "cell_type": "code",
   "execution_count": null,
   "metadata": {},
   "outputs": [],
   "source": [
    "validar_ids=dados.groupby(['cellSerialNumber_0']).nunique()"
   ]
  },
  {
   "cell_type": "code",
   "execution_count": null,
   "metadata": {},
   "outputs": [],
   "source": [
    "validar_ids"
   ]
  },
  {
   "cell_type": "code",
   "execution_count": null,
   "metadata": {},
   "outputs": [],
   "source": [
    "dados[dados['cellSerialNumber_0']=='00000d9c']"
   ]
  },
  {
   "cell_type": "code",
   "execution_count": null,
   "metadata": {},
   "outputs": [],
   "source": [
    "dados[dados['cellSerialNumber_0']=='13160003.0']"
   ]
  },
  {
   "cell_type": "code",
   "execution_count": null,
   "metadata": {
    "scrolled": true
   },
   "outputs": [],
   "source": [
    "validar_ids.max()"
   ]
  },
  {
   "cell_type": "code",
   "execution_count": null,
   "metadata": {},
   "outputs": [],
   "source": []
  },
  {
   "cell_type": "code",
   "execution_count": null,
   "metadata": {},
   "outputs": [],
   "source": [
    "ordenar no tempo"
   ]
  },
  {
   "cell_type": "code",
   "execution_count": null,
   "metadata": {},
   "outputs": [],
   "source": []
  },
  {
   "cell_type": "markdown",
   "metadata": {},
   "source": [
    "## Ate aqui assumiu-se nao deitar NaN fora\n",
    "- substitui-se nan de pesagens por 0\n",
    "- preservou-se nan de serial number de celulas porque a pesagem tinha valor completo\n",
    "- eqauciona-se deitar fora se as celulas e pesagem completa for Nan, mas ainda nao ocorreu"
   ]
  },
  {
   "cell_type": "markdown",
   "metadata": {},
   "source": [
    "# avaliar pontes"
   ]
  },
  {
   "cell_type": "markdown",
   "metadata": {},
   "source": [
    "estrategia:\n",
    "- clean dados \n",
    "- reajustar problema\n",
    "- identificar o conceito anomalia (de como a detetam, onde e que ja aconteceu)"
   ]
  },
  {
   "cell_type": "code",
   "execution_count": null,
   "metadata": {},
   "outputs": [],
   "source": [
    "pontes=pd.read_json('devicesinfos_partition1.json')"
   ]
  },
  {
   "cell_type": "code",
   "execution_count": null,
   "metadata": {},
   "outputs": [],
   "source": [
    "pontes.columns"
   ]
  },
  {
   "cell_type": "code",
   "execution_count": null,
   "metadata": {},
   "outputs": [],
   "source": [
    "pontes.scaleSerialNumber.nunique()"
   ]
  },
  {
   "cell_type": "code",
   "execution_count": null,
   "metadata": {},
   "outputs": [],
   "source": [
    "pontes.head()"
   ]
  },
  {
   "cell_type": "code",
   "execution_count": null,
   "metadata": {},
   "outputs": [],
   "source": [
    "info_pontes=pontes[['scaleSerialNumber','terminalSerialNumber','scaleCellCount','scaleDataAvailability','timestamp','cell0_serialNumber','cell1_serialNumber','cell2_serialNumber','cell3_serialNumber','cell4_serialNumber','cell5_serialNumber','cell6_serialNumber','cell7_serialNumber']]"
   ]
  },
  {
   "cell_type": "code",
   "execution_count": null,
   "metadata": {
    "scrolled": true
   },
   "outputs": [],
   "source": [
    "info_pontes"
   ]
  },
  {
   "cell_type": "code",
   "execution_count": null,
   "metadata": {},
   "outputs": [],
   "source": [
    "info_pontes[['cell0_serialNumber','cell1_serialNumber','cell2_serialNumber','cell3_serialNumber','cell4_serialNumber','cell5_serialNumber','cell6_serialNumber','cell7_serialNumber']]=info_pontes[['cell0_serialNumber','cell1_serialNumber','cell2_serialNumber','cell3_serialNumber','cell4_serialNumber','cell5_serialNumber','cell6_serialNumber','cell7_serialNumber']].astype(str)"
   ]
  },
  {
   "cell_type": "code",
   "execution_count": null,
   "metadata": {},
   "outputs": [],
   "source": [
    "pontes[pontes['scaleSerialNumber']=='P192100052'].nunique()"
   ]
  },
  {
   "cell_type": "code",
   "execution_count": null,
   "metadata": {},
   "outputs": [],
   "source": [
    "info_pontes"
   ]
  },
  {
   "cell_type": "code",
   "execution_count": null,
   "metadata": {},
   "outputs": [],
   "source": [
    "details_pontes=pd.DataFrame(info_pontes.dtypes, columns=['type'])\n",
    "details_pontes['#Nan']=info_pontes.isnull().sum(axis = 0)\n",
    "details_pontes['#uniques']=info_pontes.nunique()"
   ]
  },
  {
   "cell_type": "code",
   "execution_count": null,
   "metadata": {},
   "outputs": [],
   "source": [
    "details_pontes"
   ]
  },
  {
   "cell_type": "code",
   "execution_count": null,
   "metadata": {},
   "outputs": [],
   "source": [
    "teste=dados[dados['scaleSerialNumber']=='00000000']#.nunique()\n",
    "teste"
   ]
  },
  {
   "cell_type": "code",
   "execution_count": null,
   "metadata": {},
   "outputs": [],
   "source": [
    "teste[teste['scaleGross']==0]#.nunique()"
   ]
  },
  {
   "cell_type": "code",
   "execution_count": null,
   "metadata": {},
   "outputs": [],
   "source": [
    "dados[dados['scaleSerialNumber']=='P192100052'].nunique()"
   ]
  },
  {
   "cell_type": "code",
   "execution_count": null,
   "metadata": {},
   "outputs": [],
   "source": [
    "type(testes)"
   ]
  },
  {
   "cell_type": "code",
   "execution_count": null,
   "metadata": {},
   "outputs": [],
   "source": [
    "dados['scaleSerialNumber'].unique()"
   ]
  },
  {
   "cell_type": "code",
   "execution_count": null,
   "metadata": {},
   "outputs": [],
   "source": [
    "info_pontes['scaleSerialNumber'].unique()"
   ]
  },
  {
   "cell_type": "code",
   "execution_count": null,
   "metadata": {},
   "outputs": [],
   "source": [
    "devices['serialNumber'].unique()"
   ]
  },
  {
   "cell_type": "code",
   "execution_count": null,
   "metadata": {},
   "outputs": [],
   "source": [
    "dados['terminalSerialNumber'].unique()"
   ]
  },
  {
   "cell_type": "code",
   "execution_count": null,
   "metadata": {},
   "outputs": [],
   "source": [
    "info_pontes['terminalSerialNumber'].unique()"
   ]
  },
  {
   "cell_type": "code",
   "execution_count": null,
   "metadata": {},
   "outputs": [],
   "source": [
    "devices['terminalSerialNumber'].unique()"
   ]
  },
  {
   "cell_type": "code",
   "execution_count": null,
   "metadata": {},
   "outputs": [],
   "source": [
    "dados['terminalSerialNumber'].value_counts()"
   ]
  },
  {
   "cell_type": "code",
   "execution_count": null,
   "metadata": {
    "scrolled": true
   },
   "outputs": [],
   "source": [
    "info_pontes.sort_values(['terminalSerialNumber','scaleSerialNumber'])"
   ]
  },
  {
   "cell_type": "code",
   "execution_count": null,
   "metadata": {},
   "outputs": [],
   "source": [
    "info_pontes.groupby(['terminalSerialNumber','scaleSerialNumber']).nunique()"
   ]
  },
  {
   "cell_type": "code",
   "execution_count": null,
   "metadata": {},
   "outputs": [],
   "source": [
    "info_pontes['scaleCellCount'].unique()"
   ]
  },
  {
   "cell_type": "code",
   "execution_count": null,
   "metadata": {
    "scrolled": false
   },
   "outputs": [],
   "source": [
    "devices.groupby(['terminalSerialNumber','serialNumber']).count()"
   ]
  },
  {
   "cell_type": "code",
   "execution_count": null,
   "metadata": {},
   "outputs": [],
   "source": [
    "dados[['terminalSerialNumber']]=dados[['terminalSerialNumber']].astype(str)"
   ]
  },
  {
   "cell_type": "code",
   "execution_count": null,
   "metadata": {},
   "outputs": [],
   "source": [
    "dados[dados['terminalSerialNumber']=='160690']"
   ]
  },
  {
   "cell_type": "code",
   "execution_count": null,
   "metadata": {},
   "outputs": [],
   "source": [
    "devices=pd.read_json('devices_partition1.json')"
   ]
  },
  {
   "cell_type": "code",
   "execution_count": null,
   "metadata": {},
   "outputs": [],
   "source": [
    "devices.nunique()"
   ]
  },
  {
   "cell_type": "code",
   "execution_count": null,
   "metadata": {},
   "outputs": [],
   "source": [
    "devices.columns"
   ]
  },
  {
   "cell_type": "code",
   "execution_count": null,
   "metadata": {},
   "outputs": [],
   "source": [
    "devices['customerCompany'].value_counts()"
   ]
  },
  {
   "cell_type": "code",
   "execution_count": null,
   "metadata": {},
   "outputs": [],
   "source": [
    "devices['subsidiaryCompany'].value_counts()"
   ]
  },
  {
   "cell_type": "code",
   "execution_count": null,
   "metadata": {},
   "outputs": [],
   "source": []
  },
  {
   "cell_type": "code",
   "execution_count": null,
   "metadata": {},
   "outputs": [],
   "source": [
    "286353+1909891"
   ]
  },
  {
   "cell_type": "code",
   "execution_count": null,
   "metadata": {},
   "outputs": [],
   "source": [
    "819343+1376901"
   ]
  },
  {
   "cell_type": "markdown",
   "metadata": {},
   "source": [
    "- claramente as cellid variam a cada pesagem - o verdadeiro id das celulas e o serial number"
   ]
  },
  {
   "cell_type": "code",
   "execution_count": null,
   "metadata": {},
   "outputs": [],
   "source": [
    "dados['scaleSerialNumber'].unique()"
   ]
  },
  {
   "cell_type": "code",
   "execution_count": null,
   "metadata": {},
   "outputs": [],
   "source": [
    "dados['scaleSerialNumber'].value_counts()"
   ]
  },
  {
   "cell_type": "markdown",
   "metadata": {},
   "source": [
    "informaçoes\n",
    "- ha 11 pontes de pesagem"
   ]
  },
  {
   "cell_type": "code",
   "execution_count": null,
   "metadata": {},
   "outputs": [],
   "source": [
    "ponte1=dados[dados['scaleSerialNumber']=='S173004032']"
   ]
  },
  {
   "cell_type": "code",
   "execution_count": null,
   "metadata": {},
   "outputs": [],
   "source": [
    "ponte1.nunique()"
   ]
  },
  {
   "cell_type": "code",
   "execution_count": null,
   "metadata": {},
   "outputs": [],
   "source": [
    "ponte1=dados[dados['scaleSerialNumber']=='S190601092']\n",
    "details=pd.DataFrame(ponte1.nunique(), columns=['#uniques'])\n",
    "details['#Nan']=ponte1.isnull().sum(axis = 0)\n",
    "details"
   ]
  },
  {
   "cell_type": "code",
   "execution_count": null,
   "metadata": {},
   "outputs": [],
   "source": [
    "ponte1[['scaleGross','scaleNet']] = ponte1[['scaleGross','scaleNet']].fillna(value=0)"
   ]
  },
  {
   "cell_type": "code",
   "execution_count": null,
   "metadata": {},
   "outputs": [],
   "source": [
    "ponte1.isnull().sum(axis = 0)"
   ]
  },
  {
   "cell_type": "code",
   "execution_count": null,
   "metadata": {},
   "outputs": [],
   "source": [
    "ponte1.nunique()"
   ]
  },
  {
   "cell_type": "code",
   "execution_count": null,
   "metadata": {},
   "outputs": [],
   "source": [
    "ponte1"
   ]
  },
  {
   "cell_type": "code",
   "execution_count": null,
   "metadata": {},
   "outputs": [],
   "source": [
    "alarmes=pd.read_json('alarms_partition1.json')"
   ]
  },
  {
   "cell_type": "code",
   "execution_count": null,
   "metadata": {
    "scrolled": true
   },
   "outputs": [],
   "source": [
    "alarmes"
   ]
  },
  {
   "cell_type": "code",
   "execution_count": null,
   "metadata": {},
   "outputs": [],
   "source": [
    "alarmes['errorCode'].nunique()"
   ]
  },
  {
   "cell_type": "code",
   "execution_count": null,
   "metadata": {},
   "outputs": [],
   "source": [
    "alarmes['serialNumber'].nunique()"
   ]
  },
  {
   "cell_type": "code",
   "execution_count": null,
   "metadata": {},
   "outputs": [],
   "source": [
    "devices['serialNumber'].unique()"
   ]
  },
  {
   "cell_type": "code",
   "execution_count": null,
   "metadata": {},
   "outputs": [],
   "source": [
    "devices"
   ]
  },
  {
   "cell_type": "markdown",
   "metadata": {},
   "source": [
    "## shortcut"
   ]
  },
  {
   "cell_type": "code",
   "execution_count": null,
   "metadata": {},
   "outputs": [],
   "source": [
    "alarmes=pd.read_json('alarms_partition1.json')"
   ]
  },
  {
   "cell_type": "code",
   "execution_count": null,
   "metadata": {},
   "outputs": [],
   "source": [
    "devices=pd.read_json('devices_partition1.json')"
   ]
  },
  {
   "cell_type": "code",
   "execution_count": null,
   "metadata": {},
   "outputs": [],
   "source": [
    "pontes=pd.read_json('devicesinfos_partition1.json')\n",
    "info_pontes=pontes[['scaleSerialNumber','terminalSerialNumber','scaleCellCount','scaleDataAvailability','timestamp','cell0_serialNumber','cell1_serialNumber','cell2_serialNumber','cell3_serialNumber','cell4_serialNumber','cell5_serialNumber','cell6_serialNumber','cell7_serialNumber']]\n",
    "info_pontes[['cell0_serialNumber','cell1_serialNumber','cell2_serialNumber','cell3_serialNumber','cell4_serialNumber','cell5_serialNumber','cell6_serialNumber','cell7_serialNumber']]=info_pontes[['cell0_serialNumber','cell1_serialNumber','cell2_serialNumber','cell3_serialNumber','cell4_serialNumber','cell5_serialNumber','cell6_serialNumber','cell7_serialNumber']].astype(str)"
   ]
  },
  {
   "cell_type": "code",
   "execution_count": null,
   "metadata": {},
   "outputs": [],
   "source": [
    "dados2=pd.read_csv('all_weighings_full_cleaned.csv').drop(['Unnamed: 0'],axis=1)"
   ]
  },
  {
   "cell_type": "code",
   "execution_count": null,
   "metadata": {},
   "outputs": [],
   "source": [
    "dados2.head()"
   ]
  },
  {
   "cell_type": "markdown",
   "metadata": {},
   "source": [
    "# Analise ao device, sem importar quem o usa"
   ]
  },
  {
   "cell_type": "code",
   "execution_count": null,
   "metadata": {},
   "outputs": [],
   "source": [
    "dados=pd.read_csv('all_weighings_full_cleaned_w_cell0.csv')"
   ]
  },
  {
   "cell_type": "code",
   "execution_count": null,
   "metadata": {},
   "outputs": [],
   "source": [
    "dados['scaleSerialNumber'].value_counts()"
   ]
  },
  {
   "cell_type": "code",
   "execution_count": null,
   "metadata": {},
   "outputs": [],
   "source": [
    "dados.to_csv('all_weighings_full_cleaned_w_cell0.csv')"
   ]
  },
  {
   "cell_type": "code",
   "execution_count": null,
   "metadata": {},
   "outputs": [],
   "source": [
    "dados2=dados[dados['cellSerialNumber_0']!='0']"
   ]
  },
  {
   "cell_type": "code",
   "execution_count": null,
   "metadata": {},
   "outputs": [],
   "source": [
    "dados2['scaleSerialNumber'].value_counts()"
   ]
  },
  {
   "cell_type": "code",
   "execution_count": null,
   "metadata": {},
   "outputs": [],
   "source": [
    "dados2.to_csv('all_weighings_full_cleaned.csv')"
   ]
  },
  {
   "cell_type": "markdown",
   "metadata": {},
   "source": [
    "# 124"
   ]
  },
  {
   "cell_type": "code",
   "execution_count": null,
   "metadata": {},
   "outputs": [],
   "source": [
    "focus=dados[dados['scaleSerialNumber']=='P124303992']"
   ]
  },
  {
   "cell_type": "code",
   "execution_count": null,
   "metadata": {},
   "outputs": [],
   "source": [
    "focus.terminalSerialNumber.unique()"
   ]
  },
  {
   "cell_type": "code",
   "execution_count": null,
   "metadata": {},
   "outputs": [],
   "source": [
    "focus['terminalSerialNumber'].value_counts()"
   ]
  },
  {
   "cell_type": "code",
   "execution_count": null,
   "metadata": {},
   "outputs": [],
   "source": [
    "focus2=focus[focus['terminalSerialNumber']=='SN00000050']"
   ]
  },
  {
   "cell_type": "code",
   "execution_count": null,
   "metadata": {},
   "outputs": [],
   "source": [
    "info_pontes[info_pontes['scaleSerialNumber']=='P124303992']"
   ]
  },
  {
   "cell_type": "code",
   "execution_count": null,
   "metadata": {},
   "outputs": [],
   "source": [
    "details_124=pd.DataFrame(focus.dtypes, columns=['type'])\n",
    "details_124['#Nan']=focus.isnull().sum(axis = 0)\n",
    "details_124['#uniques']=focus.nunique()\n",
    "details_124"
   ]
  },
  {
   "cell_type": "code",
   "execution_count": null,
   "metadata": {},
   "outputs": [],
   "source": [
    "focus['cellSerialNumber_0'].unique()"
   ]
  },
  {
   "cell_type": "code",
   "execution_count": null,
   "metadata": {},
   "outputs": [],
   "source": [
    "focus2['cellSerialNumber_0'].unique()"
   ]
  },
  {
   "cell_type": "code",
   "execution_count": null,
   "metadata": {},
   "outputs": [],
   "source": [
    "focus['cellSerialNumber_1'].unique()"
   ]
  },
  {
   "cell_type": "code",
   "execution_count": null,
   "metadata": {},
   "outputs": [],
   "source": [
    "focus2['cellSerialNumber_1'].unique()"
   ]
  },
  {
   "cell_type": "code",
   "execution_count": null,
   "metadata": {},
   "outputs": [],
   "source": [
    "focus['cellSerialNumber_2'].unique()"
   ]
  },
  {
   "cell_type": "code",
   "execution_count": null,
   "metadata": {},
   "outputs": [],
   "source": [
    "focus2['cellSerialNumber_2'].unique()"
   ]
  },
  {
   "cell_type": "code",
   "execution_count": null,
   "metadata": {},
   "outputs": [],
   "source": [
    "focus2.sort_values(['cellSerialNumber_0','cellSerialNumber_1','cellSerialNumber_2']).set_index('cellSerialNumber_0')"
   ]
  },
  {
   "cell_type": "code",
   "execution_count": null,
   "metadata": {},
   "outputs": [],
   "source": [
    "focus2.groupby(['cellSerialNumber_0','cellSerialNumber_1','cellSerialNumber_2']).count()"
   ]
  },
  {
   "cell_type": "code",
   "execution_count": null,
   "metadata": {},
   "outputs": [],
   "source": [
    "focus.groupby(['cellSerialNumber_0','cellSerialNumber_1','cellSerialNumber_2']).count()"
   ]
  },
  {
   "cell_type": "markdown",
   "metadata": {},
   "source": [
    "notas:\n",
    "- o serial p124 com terminal 'SN000025' em vez de 'SN00000050' - que e o reconhecido na info, tem todas as celuulas a null\n",
    "- a info determina que o p124 tem 3 celulas. efetivamnet,e so a ate 3 valores unicos de celulas, ou seja, apenas ha uma ponte do tipo 124??\n",
    "- de entre as 3 celulas unicas, verifica-se que apenas 305 ocorrencias tem as 3 celulas. e parece que em 62780 ocorrencias a celula 0 falhou\n",
    "- assume se que a contagem começa sempre da 0 e se alguma falha, o numero e antecedido"
   ]
  },
  {
   "cell_type": "markdown",
   "metadata": {},
   "source": [
    "# 191"
   ]
  },
  {
   "cell_type": "code",
   "execution_count": null,
   "metadata": {},
   "outputs": [],
   "source": [
    "focus=dados2[dados2['scaleSerialNumber']=='P191021852']"
   ]
  },
  {
   "cell_type": "code",
   "execution_count": null,
   "metadata": {},
   "outputs": [],
   "source": [
    "focus.shape"
   ]
  },
  {
   "cell_type": "code",
   "execution_count": null,
   "metadata": {},
   "outputs": [],
   "source": [
    "info_pontes[info_pontes['scaleSerialNumber']=='P191021852']"
   ]
  },
  {
   "cell_type": "code",
   "execution_count": null,
   "metadata": {},
   "outputs": [],
   "source": [
    "devices[devices['serialNumber']=='P191021852']"
   ]
  },
  {
   "cell_type": "code",
   "execution_count": null,
   "metadata": {},
   "outputs": [],
   "source": [
    "erros_ponte=alarmes[alarmes['serialNumber']=='P191021852']\n",
    "print('scale board replacement')\n",
    "erros_ponte"
   ]
  },
  {
   "cell_type": "code",
   "execution_count": null,
   "metadata": {},
   "outputs": [],
   "source": []
  },
  {
   "cell_type": "code",
   "execution_count": null,
   "metadata": {},
   "outputs": [],
   "source": [
    "focus.terminalSerialNumber.unique()"
   ]
  },
  {
   "cell_type": "code",
   "execution_count": null,
   "metadata": {},
   "outputs": [],
   "source": [
    "details_191=pd.DataFrame(focus.dtypes, columns=['type'])\n",
    "details_191['#uniques']=focus.nunique()\n",
    "details_191"
   ]
  },
  {
   "cell_type": "code",
   "execution_count": null,
   "metadata": {},
   "outputs": [],
   "source": []
  },
  {
   "cell_type": "code",
   "execution_count": null,
   "metadata": {
    "scrolled": true
   },
   "outputs": [],
   "source": [
    "avaliar=focus.groupby(['cellSerialNumber_0','cellSerialNumber_1','cellSerialNumber_2','cellSerialNumber_3','cellSerialNumber_4','cellSerialNumber_5','cellSerialNumber_6','cellSerialNumber_7']).count()"
   ]
  },
  {
   "cell_type": "code",
   "execution_count": null,
   "metadata": {},
   "outputs": [],
   "source": [
    "avaliar"
   ]
  },
  {
   "cell_type": "code",
   "execution_count": null,
   "metadata": {},
   "outputs": [],
   "source": [
    "ocorrencias=avaliar.sort_values(['cellSerialNumber_7','cellSerialNumber_6','cellSerialNumber_5','cellSerialNumber_4','cellSerialNumber_3','cellSerialNumber_2','cellSerialNumber_1','cellSerialNumber_0'],ascending=False)"
   ]
  },
  {
   "cell_type": "code",
   "execution_count": null,
   "metadata": {
    "scrolled": false
   },
   "outputs": [],
   "source": [
    "pd.set_option('display.max_rows', 30)\n",
    "ocorrencias.head(100)"
   ]
  },
  {
   "cell_type": "code",
   "execution_count": null,
   "metadata": {},
   "outputs": [],
   "source": [
    "72502+1103+75+172+1064+2592+200+235+929"
   ]
  },
  {
   "cell_type": "code",
   "execution_count": null,
   "metadata": {
    "scrolled": true
   },
   "outputs": [],
   "source": [
    "print('Pesagens na ponte P191021852: '+ str(focus.shape[0]))\n",
    "print('Pesagens na ponte P191021852 com todas as celulas ativas: ' + str(focus[focus['cellSerialNumber_7']!= '0'].shape[0]) + '  '+ str(round((focus[focus['cellSerialNumber_7']!= '0'].shape[0])/focus.shape[0]*100,1)) + '%')\n",
    "print('Pesagens na ponte P191021852 com 7 celulas ativas: ' + str(focus[focus['cellSerialNumber_6']!= '0'].shape[0]) + '  '+ str(round((focus[focus['cellSerialNumber_6']!= '0'].shape[0])/focus.shape[0]*100,1)) + '%')\n",
    "print('Pesagens na ponte P191021852 com 6 celulas ativas: ' + str(focus[focus['cellSerialNumber_5']!= '0'].shape[0]) + '  '+ str(round((focus[focus['cellSerialNumber_5']!= '0'].shape[0])/focus.shape[0]*100,1)) + '%')\n",
    "print('Pesagens na ponte P191021852 com 5 celulas ativas: ' + str(focus[focus['cellSerialNumber_4']!= '0'].shape[0]) + '  '+ str(round((focus[focus['cellSerialNumber_4']!= '0'].shape[0])/focus.shape[0]*100,1)) + '%')\n",
    "print('Pesagens na ponte P191021852 com 4 celulas ativas: ' + str(focus[focus['cellSerialNumber_3']!= '0'].shape[0]) + '  '+ str(round((focus[focus['cellSerialNumber_3']!= '0'].shape[0])/focus.shape[0]*100,1)) + '%')\n",
    "print('Pesagens na ponte P191021852 com 3 celulas ativas: ' + str(focus[focus['cellSerialNumber_2']!= '0'].shape[0]) + '  '+ str(round((focus[focus['cellSerialNumber_2']!= '0'].shape[0])/focus.shape[0]*100,1)) + '%')\n",
    "print('Pesagens na ponte P191021852 com 2 celulas ativas: ' + str(focus[focus['cellSerialNumber_1']!= '0'].shape[0]) + '  '+ str(round((focus[focus['cellSerialNumber_1']!= '0'].shape[0])/focus.shape[0]*100,1)) + '%')\n",
    "print('Pesagens na ponte P191021852 com 1 celulas ativas: ' + str(focus[focus['cellSerialNumber_0']!= '0'].shape[0]) + '  '+ str(round((focus[focus['cellSerialNumber_0']!= '0'].shape[0])/focus.shape[0]*100,1)) + '%')\n",
    "\n",
    "print('Pesagens na ponte P191021852 descartadas por não ter celulas ativas: ' + str(320459-focus.shape[0]))\n"
   ]
  },
  {
   "cell_type": "code",
   "execution_count": null,
   "metadata": {},
   "outputs": [],
   "source": [
    "print('Weighing in bridge P191021852: '+ str(focus.shape[0]))\n",
    "print('Weighing in bridge P191021852 with all cells active: ' + str(focus[focus['cellSerialNumber_7']!= '0'].shape[0]) + '  '+ str(round((focus[focus['cellSerialNumber_7']!= '0'].shape[0])/focus.shape[0]*100,1)) + '%')\n",
    "print('Weighing in bridge P191021852 with 7 active cells: ' + str(focus[focus['cellSerialNumber_6']!= '0'].shape[0]) + '  '+ str(round((focus[focus['cellSerialNumber_6']!= '0'].shape[0])/focus.shape[0]*100,1)) + '%')\n",
    "print('Weighing in bridge P191021852 with 6 active cells: ' + str(focus[focus['cellSerialNumber_5']!= '0'].shape[0]) + '  '+ str(round((focus[focus['cellSerialNumber_5']!= '0'].shape[0])/focus.shape[0]*100,1)) + '%')\n",
    "print('Weighing in bridge P191021852 with 5 active cells: ' + str(focus[focus['cellSerialNumber_4']!= '0'].shape[0]) + '  '+ str(round((focus[focus['cellSerialNumber_4']!= '0'].shape[0])/focus.shape[0]*100,1)) + '%')\n",
    "print('Weighing in bridge P191021852 with 4 active cells: ' + str(focus[focus['cellSerialNumber_3']!= '0'].shape[0]) + '  '+ str(round((focus[focus['cellSerialNumber_3']!= '0'].shape[0])/focus.shape[0]*100,1)) + '%')\n",
    "print('Weighing in bridge P191021852 with 3 active cells: ' + str(focus[focus['cellSerialNumber_2']!= '0'].shape[0]) + '  '+ str(round((focus[focus['cellSerialNumber_2']!= '0'].shape[0])/focus.shape[0]*100,1)) + '%')\n",
    "print('Weighing in bridge P191021852 with 2 active cells: ' + str(focus[focus['cellSerialNumber_1']!= '0'].shape[0]) + '  '+ str(round((focus[focus['cellSerialNumber_1']!= '0'].shape[0])/focus.shape[0]*100,1)) + '%')\n",
    "print('Weighing in bridge P191021852 with 1 active cells: ' + str(focus[focus['cellSerialNumber_0']!= '0'].shape[0]) + '  '+ str(round((focus[focus['cellSerialNumber_0']!= '0'].shape[0])/focus.shape[0]*100,1)) + '%')\n",
    "\n",
    "print('Weighing in bridge P191021852 discarded due to no active cells: ' + str(320459-focus.shape[0]))"
   ]
  },
  {
   "cell_type": "code",
   "execution_count": null,
   "metadata": {},
   "outputs": [],
   "source": [
    "#calcular percentagens para X celulas ativas\n",
    "impasse=focus[focus['cellSerialNumber_6']!= '0']\n",
    "impasse[impasse['cellSerialNumber_7']== '0'].shape[0]"
   ]
  },
  {
   "cell_type": "code",
   "execution_count": null,
   "metadata": {},
   "outputs": [],
   "source": []
  },
  {
   "cell_type": "markdown",
   "metadata": {},
   "source": [
    " avaliar caracterisitcas como:\n",
    " - percentagem de vezes que x celula falha\n",
    " - avaliar media do valor do peso em pesagens feitas com a totalidade, 7, 6, 5... celulas\n",
    " - avaliar tendencias de falha de uma celula com base na falha de outras celulas\n",
    " - avaliar fator temporal na falhas: se o processo de falha e sequencial no tempo, e se e posterior a atingir um valor isolado ou cumulativo de peso"
   ]
  },
  {
   "cell_type": "markdown",
   "metadata": {},
   "source": [
    "### ordenar por data"
   ]
  },
  {
   "cell_type": "code",
   "execution_count": null,
   "metadata": {},
   "outputs": [],
   "source": [
    "ordenado=focus.sort_values(by='timestamp')\n",
    "ordenado"
   ]
  },
  {
   "cell_type": "markdown",
   "metadata": {},
   "source": [
    "Gravaçoes de 2019-05-09 14:22:55 ate 2020-05-22 15:40:08"
   ]
  },
  {
   "cell_type": "markdown",
   "metadata": {},
   "source": [
    "### transformar celulas tipo one hot"
   ]
  },
  {
   "cell_type": "code",
   "execution_count": null,
   "metadata": {},
   "outputs": [],
   "source": [
    "y = pd.get_dummies(focus[['cellSerialNumber_0','cellSerialNumber_1','cellSerialNumber_2','cellSerialNumber_3','cellSerialNumber_4','cellSerialNumber_5','cellSerialNumber_6','cellSerialNumber_7']], prefix='', prefix_sep='')#,'cellSerialNumber_1']])#, prefix='Country')"
   ]
  },
  {
   "cell_type": "code",
   "execution_count": null,
   "metadata": {},
   "outputs": [],
   "source": [
    "y"
   ]
  },
  {
   "cell_type": "code",
   "execution_count": null,
   "metadata": {},
   "outputs": [],
   "source": [
    "y"
   ]
  },
  {
   "cell_type": "code",
   "execution_count": null,
   "metadata": {
    "scrolled": true
   },
   "outputs": [],
   "source": [
    "teste=y.groupby(y.columns, axis=1).sum()\n",
    "teste"
   ]
  },
  {
   "cell_type": "code",
   "execution_count": null,
   "metadata": {},
   "outputs": [],
   "source": [
    "focus.head()"
   ]
  },
  {
   "cell_type": "code",
   "execution_count": null,
   "metadata": {},
   "outputs": [],
   "source": [
    "teste['timestamp']=focus.timestamp"
   ]
  },
  {
   "cell_type": "code",
   "execution_count": null,
   "metadata": {},
   "outputs": [],
   "source": [
    "teste"
   ]
  },
  {
   "cell_type": "code",
   "execution_count": null,
   "metadata": {},
   "outputs": [],
   "source": [
    "testeordenado=teste.sort_values(by='timestamp')"
   ]
  },
  {
   "cell_type": "code",
   "execution_count": null,
   "metadata": {},
   "outputs": [],
   "source": [
    "testeordenado"
   ]
  },
  {
   "cell_type": "code",
   "execution_count": null,
   "metadata": {},
   "outputs": [],
   "source": [
    "import matplotlib.pyplot as plt\n",
    "import seaborn as sns\n",
    "\n",
    "plt.figure(figsize =(50,12))\n",
    "mean_group = testeordenado.iloc[: , [1,2,3,4,5,6,7,8]]#   data.groupby([\"ORDERDATE\"])[\"SALES\"].median()\n",
    "plt.plot(mean_group)\n",
    "plt.title(\"Time series median\")\n",
    "#plt.legend(teste.columns[1:])\n",
    "plt.show()"
   ]
  },
  {
   "cell_type": "code",
   "execution_count": null,
   "metadata": {},
   "outputs": [],
   "source": [
    "import matplotlib.pyplot as plt\n",
    "\n",
    "plt.matshow(testeordenado.corr())\n",
    "plt.show()"
   ]
  },
  {
   "cell_type": "code",
   "execution_count": null,
   "metadata": {},
   "outputs": [],
   "source": [
    "import matplotlib.pyplot as plt\n",
    "\n",
    "plt.matshow(testeordenado.corr(method='spearman'))\n",
    "plt.show()"
   ]
  },
  {
   "cell_type": "code",
   "execution_count": null,
   "metadata": {},
   "outputs": [],
   "source": [
    "import matplotlib.pyplot as plt\n",
    "\n",
    "plt.matshow(testeordenado.cov())\n",
    "plt.show()\n"
   ]
  },
  {
   "cell_type": "code",
   "execution_count": null,
   "metadata": {},
   "outputs": [],
   "source": [
    "f = plt.figure(figsize=(10, 10))\n",
    "plt.matshow(testeordenado.corr(), fignum=f.number)\n",
    "plt.xticks(range(testeordenado.shape[1]), testeordenado.columns, fontsize=14, rotation=45)\n",
    "plt.yticks(range(testeordenado.shape[1]), testeordenado.columns, fontsize=14)\n",
    "cb = plt.colorbar()\n",
    "cb.ax.tick_params(labelsize=14)\n",
    "plt.title('Correlation Matrix', fontsize=16);"
   ]
  },
  {
   "cell_type": "code",
   "execution_count": null,
   "metadata": {},
   "outputs": [],
   "source": [
    "teste.columns[1:]"
   ]
  },
  {
   "cell_type": "code",
   "execution_count": null,
   "metadata": {},
   "outputs": [],
   "source": [
    "teste.iloc[: , [1,2,3,4,5,6,7,8]]"
   ]
  },
  {
   "cell_type": "code",
   "execution_count": null,
   "metadata": {},
   "outputs": [],
   "source": []
  },
  {
   "cell_type": "code",
   "execution_count": null,
   "metadata": {},
   "outputs": [],
   "source": []
  },
  {
   "cell_type": "code",
   "execution_count": null,
   "metadata": {},
   "outputs": [],
   "source": []
  },
  {
   "cell_type": "code",
   "execution_count": null,
   "metadata": {},
   "outputs": [],
   "source": [
    "Data=focus.drop(['_id','terminalSerialNumber','scaleSerialNumber'],axis=1)#focus[['timestamp','scaleGross','scaleNet']]"
   ]
  },
  {
   "cell_type": "code",
   "execution_count": null,
   "metadata": {},
   "outputs": [],
   "source": [
    "Data.head()"
   ]
  },
  {
   "cell_type": "code",
   "execution_count": null,
   "metadata": {},
   "outputs": [],
   "source": []
  },
  {
   "cell_type": "code",
   "execution_count": null,
   "metadata": {},
   "outputs": [],
   "source": [
    "result = pd.concat([Data, teste], axis=1, sort=False)"
   ]
  },
  {
   "cell_type": "code",
   "execution_count": null,
   "metadata": {},
   "outputs": [],
   "source": [
    "result"
   ]
  },
  {
   "cell_type": "markdown",
   "metadata": {},
   "source": [
    "### avaliar id iguais\n"
   ]
  },
  {
   "cell_type": "markdown",
   "metadata": {},
   "source": [
    "validar_ids=dados.sort_values(['_id','cellId_0']).set_index(['_id','cellId_0']).count()"
   ]
  },
  {
   "cell_type": "markdown",
   "metadata": {},
   "source": [
    "validar_ids=dados.sort_values(['_id'],ascending=False)#.set_index(['_id'])"
   ]
  },
  {
   "cell_type": "markdown",
   "metadata": {},
   "source": [
    "dados.groupby(['_id']).size().sort_values(ascending=False)"
   ]
  },
  {
   "cell_type": "markdown",
   "metadata": {},
   "source": [
    "##### Avaliar contagem de variaveis para msm id = nºx que se repete id"
   ]
  },
  {
   "cell_type": "code",
   "execution_count": null,
   "metadata": {},
   "outputs": [],
   "source": [
    "validar_ids=dados.groupby('cellId_0').count()#.apply(pd.DataFrame.sort_values, '_id')"
   ]
  },
  {
   "cell_type": "code",
   "execution_count": null,
   "metadata": {
    "scrolled": false
   },
   "outputs": [],
   "source": [
    "validar_ids.sort_values(by=['cellId_0','cellId_1','cellId_2','cellId_3','cellId_4','cellId_5'], ascending=False)"
   ]
  },
  {
   "cell_type": "code",
   "execution_count": null,
   "metadata": {},
   "outputs": [],
   "source": [
    "maybe2=dados[dados['_id']=='5eb0761da4982500078f7abd']\n",
    "maybe2"
   ]
  },
  {
   "cell_type": "markdown",
   "metadata": {},
   "source": [
    "##### Avaliar contagem de variaveis UNICAS para msm cell "
   ]
  },
  {
   "cell_type": "code",
   "execution_count": null,
   "metadata": {},
   "outputs": [],
   "source": [
    "validar_ids=dados.groupby('cellId_0').nunique()"
   ]
  },
  {
   "cell_type": "code",
   "execution_count": null,
   "metadata": {},
   "outputs": [],
   "source": [
    "validar_ids=dados.sort_values(['cellId_0']).set_index(['cellId_0'])"
   ]
  },
  {
   "cell_type": "code",
   "execution_count": null,
   "metadata": {},
   "outputs": [],
   "source": [
    "validar_ids=dados.sort_values(['scaleSerialNumber']).set_index(['scaleSerialNumber'])"
   ]
  },
  {
   "cell_type": "code",
   "execution_count": null,
   "metadata": {},
   "outputs": [],
   "source": [
    "validar_ids.max()"
   ]
  },
  {
   "cell_type": "code",
   "execution_count": null,
   "metadata": {
    "scrolled": true
   },
   "outputs": [],
   "source": [
    "validar_ids"
   ]
  },
  {
   "cell_type": "markdown",
   "metadata": {},
   "source": [
    "##### Avaliar contagem de variaveis UNICAS para msm id = nºx que se repete id"
   ]
  },
  {
   "cell_type": "code",
   "execution_count": null,
   "metadata": {},
   "outputs": [],
   "source": [
    "validar_ids=dados.groupby('_id').nunique()"
   ]
  },
  {
   "cell_type": "code",
   "execution_count": null,
   "metadata": {},
   "outputs": [],
   "source": [
    "validar_ids.max()"
   ]
  },
  {
   "cell_type": "code",
   "execution_count": null,
   "metadata": {},
   "outputs": [],
   "source": [
    "validar_ids.sort_values(by=['terminalSerialNumber'], ascending=False)"
   ]
  },
  {
   "cell_type": "code",
   "execution_count": null,
   "metadata": {},
   "outputs": [],
   "source": [
    "maybe2=dados[dados['_id']=='5e8e79f931557300072fdafc']\n",
    "maybe2"
   ]
  },
  {
   "cell_type": "markdown",
   "metadata": {},
   "source": [
    "informaçoes\n",
    "- ha muitos duplicados ao nivel do id - deitar fora"
   ]
  },
  {
   "cell_type": "code",
   "execution_count": null,
   "metadata": {},
   "outputs": [],
   "source": [
    "dados_no_duplicates=dados.drop_duplicates()\n",
    "print(dados.shape)\n",
    "print(dados_no_duplicates.shape)"
   ]
  },
  {
   "cell_type": "code",
   "execution_count": null,
   "metadata": {},
   "outputs": [],
   "source": [
    "dados_no_duplicates.nunique()"
   ]
  },
  {
   "cell_type": "code",
   "execution_count": null,
   "metadata": {},
   "outputs": [],
   "source": [
    "maybe2=dados_no_duplicates[dados_no_duplicates['_id']=='5e8e79f931557300072fdafc']\n",
    "maybe2"
   ]
  },
  {
   "cell_type": "markdown",
   "metadata": {},
   "source": [
    "informaçao:\n",
    "- como diferente tipos de dados ou casas decimais provocam duplicates, avaliar id unicos de pesagens e fazer inner join com dados\n",
    "- no fim so se pode ter 871549 pesagens"
   ]
  },
  {
   "cell_type": "markdown",
   "metadata": {},
   "source": [
    "# dados unicos"
   ]
  },
  {
   "cell_type": "code",
   "execution_count": null,
   "metadata": {},
   "outputs": [],
   "source": [
    "dados_no_duplicates_id=dados.drop_duplicates(subset=['_id'])\n",
    "print(dados_no_duplicates_id.shape)\n",
    "#df.drop_duplicates(subset=['bio', 'center', 'outcome'])"
   ]
  },
  {
   "cell_type": "code",
   "execution_count": null,
   "metadata": {},
   "outputs": [],
   "source": [
    "dados_no_duplicates_id.to_csv('weighings.csv')"
   ]
  },
  {
   "cell_type": "code",
   "execution_count": null,
   "metadata": {},
   "outputs": [],
   "source": [
    "dados=pd.read_csv('weighings.csv').drop('Unnamed: 0', axis=1)"
   ]
  },
  {
   "cell_type": "code",
   "execution_count": null,
   "metadata": {},
   "outputs": [],
   "source": [
    "dados.head()"
   ]
  },
  {
   "cell_type": "markdown",
   "metadata": {},
   "source": [
    "#### avaliar combinaçoes"
   ]
  },
  {
   "cell_type": "code",
   "execution_count": null,
   "metadata": {},
   "outputs": [],
   "source": [
    "validar_ids=dados.groupby('_id').nunique()"
   ]
  },
  {
   "cell_type": "code",
   "execution_count": null,
   "metadata": {},
   "outputs": [],
   "source": [
    "validar_ids=dados.groupby('cellId_2').nunique()"
   ]
  },
  {
   "cell_type": "code",
   "execution_count": null,
   "metadata": {},
   "outputs": [],
   "source": [
    "validar_ids.max()"
   ]
  },
  {
   "cell_type": "code",
   "execution_count": null,
   "metadata": {},
   "outputs": [],
   "source": [
    "details=pd.DataFrame(dados.dtypes, columns=['type'])\n",
    "details['#Nan']=dados.isnull().sum(axis = 0)\n",
    "details['#uniques']=dados.nunique()"
   ]
  },
  {
   "cell_type": "code",
   "execution_count": null,
   "metadata": {},
   "outputs": [],
   "source": [
    "details['valida']=details['#uniques']+details['#Nan']"
   ]
  },
  {
   "cell_type": "code",
   "execution_count": null,
   "metadata": {},
   "outputs": [],
   "source": [
    "details"
   ]
  },
  {
   "cell_type": "markdown",
   "metadata": {},
   "source": [
    "Informaçoes:\n",
    "- para qq groupby de celula, o maximo de unicos e sempre 1, ou seja a combinaçao cel 0-1-2-3... e sempre unica. um id da celula 1 so da para a celula com id0 certa\n",
    "- confirmado pelo numeor de unicos+nan ser igual ao totla de pesagens feitas"
   ]
  },
  {
   "cell_type": "markdown",
   "metadata": {},
   "source": [
    "grave:\n",
    "- cada nao ha varias pesagens diferentes com o msm id de celulas, ie, nenhuma celeua com mais que uma pesagem"
   ]
  },
  {
   "cell_type": "markdown",
   "metadata": {},
   "source": [
    "### transformaçao dos dados"
   ]
  },
  {
   "cell_type": "markdown",
   "metadata": {},
   "source": [
    "- avalair qts pontes têm 2,4,6,8 celulas\n",
    "- avaliar se ha pontes com celulas impar\n",
    "- transformaçao das datas + idade da celula\n",
    "- "
   ]
  },
  {
   "cell_type": "code",
   "execution_count": null,
   "metadata": {},
   "outputs": [],
   "source": [
    "dados.head()"
   ]
  },
  {
   "cell_type": "markdown",
   "metadata": {},
   "source": [
    "#### Avaliar nº pesagens  para pontes com variavel nº de celulas"
   ]
  },
  {
   "cell_type": "code",
   "execution_count": null,
   "metadata": {},
   "outputs": [],
   "source": [
    "## avalair qts celulas\n",
    "dados_8=dados[dados['cellId_0'].notnull() & dados['cellId_1'].notnull() & dados['cellId_2'].notnull() & dados['cellId_3'].notnull() & dados['cellId_4'].notnull() & dados['cellId_5'].notnull() & dados['cellId_6'].notnull() & dados['cellId_7'].notnull()]\n",
    "print('nº weighing with 8 functional cells:' + str(dados_8.shape[0]))\n",
    "\n",
    "dados_7=dados[dados['cellId_0'].notnull() & dados['cellId_1'].notnull() & dados['cellId_2'].notnull() & dados['cellId_3'].notnull() & dados['cellId_4'].notnull() & dados['cellId_5'].notnull() & dados['cellId_6'].notnull() ]\n",
    "print('nº weighing with 7 functional cells:' + str(dados_7.shape[0]))\n",
    "\n",
    "dados_6=dados[dados['cellId_0'].notnull() & dados['cellId_1'].notnull() & dados['cellId_2'].notnull() & dados['cellId_3'].notnull() & dados['cellId_4'].notnull() & dados['cellId_5'].notnull()]\n",
    "print('nº weighing with 6 functional cells:' + str(dados_6.shape[0]))\n",
    "\n",
    "dados_5=dados[dados['cellId_0'].notnull() & dados['cellId_1'].notnull() & dados['cellId_2'].notnull() & dados['cellId_3'].notnull() & dados['cellId_4'].notnull()]\n",
    "print('nº weighing with 5 functional cells:' + str(dados_5.shape[0]))\n",
    "\n",
    "dados_4=dados[dados['cellId_0'].notnull() & dados['cellId_1'].notnull() & dados['cellId_2'].notnull() & dados['cellId_3'].notnull()]\n",
    "print('nº weighing with 4 functional cells:' + str(dados_4.shape[0]))\n",
    "\n",
    "dados_3=dados[dados['cellId_0'].notnull() & dados['cellId_1'].notnull() & dados['cellId_2'].notnull()]\n",
    "print('nº weighing with 3 functional cells:' + str(dados_3.shape[0]))\n",
    "\n",
    "dados_2=dados[dados['cellId_0'].notnull() & dados['cellId_1'].notnull()]\n",
    "print('nº weighing with 2 functional cells:' + str(dados_2.shape[0]))\n",
    "\n",
    "dados_1=dados[dados['cellId_0'].notnull()]\n",
    "print('nº weighing with 1 functional cells:' + str(dados_1.shape[0]))"
   ]
  },
  {
   "cell_type": "markdown",
   "metadata": {},
   "source": [
    "- Há pesagens para pontes com nº impar\n",
    "- Há 29258 pesagens sem ponte nenhuma\n",
    "- Para alem de todas as comiançoes de id de celulas serem unicas, nao ha cenarios de falhar celula 0 e ter celula1"
   ]
  },
  {
   "cell_type": "code",
   "execution_count": null,
   "metadata": {},
   "outputs": [],
   "source": [
    "combined = dados.append(dados_1)\n",
    "combined=combined[~combined.index.duplicated(keep=False)]\n",
    "print(combined.shape[0])"
   ]
  },
  {
   "cell_type": "code",
   "execution_count": null,
   "metadata": {},
   "outputs": [],
   "source": [
    "combined.head()"
   ]
  },
  {
   "cell_type": "code",
   "execution_count": null,
   "metadata": {},
   "outputs": [],
   "source": [
    "details=pd.DataFrame(combined.nunique(), columns=['nº uniques with cell0 Nan'])\n",
    "details['n_uniques with cell0']=dados_1.nunique()\n",
    "details['n_uniques in all']=dados.nunique()"
   ]
  },
  {
   "cell_type": "code",
   "execution_count": null,
   "metadata": {},
   "outputs": [],
   "source": [
    "details"
   ]
  },
  {
   "cell_type": "code",
   "execution_count": null,
   "metadata": {},
   "outputs": [],
   "source": [
    "## nao ha cenario de nao haver cell 0 e ter cell 1\n",
    "teste=dados[dados['cellId_0'].isnull()]\n",
    "teste['cellId_2'].unique()"
   ]
  },
  {
   "cell_type": "code",
   "execution_count": null,
   "metadata": {},
   "outputs": [],
   "source": [
    "teste=dados[dados['cellId_1'].isnull()]\n",
    "teste['cellId_3'].unique()"
   ]
  },
  {
   "cell_type": "markdown",
   "metadata": {},
   "source": [
    "### Data"
   ]
  },
  {
   "cell_type": "code",
   "execution_count": null,
   "metadata": {},
   "outputs": [],
   "source": [
    "dados.head()"
   ]
  },
  {
   "cell_type": "code",
   "execution_count": null,
   "metadata": {},
   "outputs": [],
   "source": [
    "    df.data= pd.to_datetime(df.data, format='%Y%m%d%H%M%S')\n",
    "    df['day'] = df['data'].dt.day\n",
    "    df['Hour'] = df['data'].dt.hour\n",
    "    df['Minute'] = df['data'].dt.minute\n",
    "    df['Year'] = df['data'].dt.year\n",
    "    df['Month'] = df['data'].dt.month\n",
    "    \n",
    "    Year=df.Year.unique()[0]\n",
    "    Month=df.Month.unique()[0]\n",
    "    Day=df.day.unique()[0]"
   ]
  },
  {
   "cell_type": "code",
   "execution_count": null,
   "metadata": {},
   "outputs": [],
   "source": [
    "dados['data']= pd.to_datetime(dados.timestamp, format='%Y-%m-%d %H:%M:%S.%f')#'%Y%m%d%H%M%S%S%f')"
   ]
  },
  {
   "cell_type": "code",
   "execution_count": null,
   "metadata": {},
   "outputs": [],
   "source": [
    "dados['day'] = dados['data'].dt.day"
   ]
  },
  {
   "cell_type": "code",
   "execution_count": null,
   "metadata": {},
   "outputs": [],
   "source": [
    "dados"
   ]
  },
  {
   "cell_type": "markdown",
   "metadata": {},
   "source": [
    "## teste bascio PCA"
   ]
  },
  {
   "cell_type": "code",
   "execution_count": null,
   "metadata": {},
   "outputs": [],
   "source": [
    "def encode(data,categorical_features):\n",
    "    categorical_names = {}\n",
    "    for feature in categorical_features:\n",
    "        le = sklearn.preprocessing.LabelEncoder()\n",
    "        #le.fit(frame2[:, feature])\n",
    "        #train_numpy_array[:, feature] = le.fit_transform(train_numpy_array[:, feature])\n",
    "        data[:, feature] = le.fit_transform(data[:, feature])\n",
    "        categorical_names[feature] = le.classes_\n",
    "    return data, categorical_names"
   ]
  },
  {
   "cell_type": "code",
   "execution_count": null,
   "metadata": {},
   "outputs": [],
   "source": [
    "prePCA.head()"
   ]
  },
  {
   "cell_type": "code",
   "execution_count": null,
   "metadata": {},
   "outputs": [],
   "source": [
    "prePCA=dados.set_index('_id').drop('timestamp', axis=1)\n",
    "categorical_features = [0,1,4,5,20]"
   ]
  },
  {
   "cell_type": "markdown",
   "metadata": {},
   "source": [
    "- Converter data em idade\n",
    "- transformar id de celulas em se tem 2,4,6,8, impares\n",
    "- transformar ids em se e a combinaçao 1 ,2, 3 ...."
   ]
  },
  {
   "cell_type": "code",
   "execution_count": null,
   "metadata": {},
   "outputs": [],
   "source": [
    "from sklearn.decomposition import PCA, IncrementalPCA\n",
    "pcat = PCA()\n",
    "principalComponentsT = pcat.fit_transform(dados)\n",
    "pesos= pcat.explained_variance_ratio_\n",
    "loadingT=pcat.components_.T * np.sqrt(pcat.explained_variance_)"
   ]
  },
  {
   "cell_type": "code",
   "execution_count": null,
   "metadata": {},
   "outputs": [],
   "source": []
  }
 ],
 "metadata": {
  "kernelspec": {
   "display_name": "Python 3",
   "language": "python",
   "name": "python3"
  },
  "language_info": {
   "codemirror_mode": {
    "name": "ipython",
    "version": 3
   },
   "file_extension": ".py",
   "mimetype": "text/x-python",
   "name": "python",
   "nbconvert_exporter": "python",
   "pygments_lexer": "ipython3",
   "version": "3.6.8"
  }
 },
 "nbformat": 4,
 "nbformat_minor": 2
}
